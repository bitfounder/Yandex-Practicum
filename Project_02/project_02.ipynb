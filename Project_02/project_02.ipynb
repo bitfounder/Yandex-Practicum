{
 "cells": [
  {
   "cell_type": "markdown",
   "metadata": {
    "toc": true
   },
   "source": [
    "<h1>Содержание<span class=\"tocSkip\"></span></h1>\n",
    "<div class=\"toc\"><ul class=\"toc-item\"><li><span><a href=\"#Изучение-данных-из-файла\" data-toc-modified-id=\"Изучение-данных-из-файла-1\"><span class=\"toc-item-num\">1&nbsp;&nbsp;</span>Изучение данных из файла</a></span><ul class=\"toc-item\"><li><span><a href=\"#Вывод\" data-toc-modified-id=\"Вывод-1.1\"><span class=\"toc-item-num\">1.1&nbsp;&nbsp;</span>Вывод</a></span></li></ul></li><li><span><a href=\"#Предобработка-данных\" data-toc-modified-id=\"Предобработка-данных-2\"><span class=\"toc-item-num\">2&nbsp;&nbsp;</span>Предобработка данных</a></span><ul class=\"toc-item\"><li><span><a href=\"#Вывод\" data-toc-modified-id=\"Вывод-2.1\"><span class=\"toc-item-num\">2.1&nbsp;&nbsp;</span>Вывод</a></span></li></ul></li><li><span><a href=\"#Расчёты-и-добавление-результатов-в-таблицу\" data-toc-modified-id=\"Расчёты-и-добавление-результатов-в-таблицу-3\"><span class=\"toc-item-num\">3&nbsp;&nbsp;</span>Расчёты и добавление результатов в таблицу</a></span><ul class=\"toc-item\"><li><span><a href=\"#Вывод\" data-toc-modified-id=\"Вывод-3.1\"><span class=\"toc-item-num\">3.1&nbsp;&nbsp;</span>Вывод</a></span></li></ul></li><li><span><a href=\"#Исследовательский-анализ-данных\" data-toc-modified-id=\"Исследовательский-анализ-данных-4\"><span class=\"toc-item-num\">4&nbsp;&nbsp;</span>Исследовательский анализ данных</a></span><ul class=\"toc-item\"><li><span><a href=\"#Вывод\" data-toc-modified-id=\"Вывод-4.1\"><span class=\"toc-item-num\">4.1&nbsp;&nbsp;</span>Вывод</a></span></li></ul></li><li><span><a href=\"#Общий-вывод\" data-toc-modified-id=\"Общий-вывод-5\"><span class=\"toc-item-num\">5&nbsp;&nbsp;</span>Общий вывод</a></span></li></ul></div>"
   ]
  },
  {
   "cell_type": "markdown",
   "metadata": {},
   "source": [
    "# Исследование объявлений о продаже квартир\n",
    "\n",
    "В нашем распоряжении данные сервиса Яндекс.Недвижимость — архив объявлений о продаже квартир в Санкт-Петербурге и соседних населённых пунктах за несколько лет. Определим рыночную стоимость объектов недвижимости. Наша задача — установить параметры. Это позволит построить автоматизированную систему: она отследит аномалии и мошенническую деятельность. \n",
    "\n",
    "По каждой квартире на продажу доступны два вида данных. Первые вписаны пользователем, вторые получены автоматически на основе картографических данных. Например, расстояние до центра, аэропорта, ближайшего парка и водоёма. "
   ]
  },
  {
   "cell_type": "markdown",
   "metadata": {},
   "source": [
    "# Описание данных\n",
    "\n",
    "* `airports_nearest` — расстояние до ближайшего аэропорта в метрах (м)\n",
    "* `balcony` — число балконов\n",
    "* `ceiling_height` — высота потолков (м)\n",
    "* `cityCenters_nearest` — расстояние до центра города (м)\n",
    "* `days_exposition` — сколько дней было размещено объявление (от публикации до снятия)\n",
    "* `first_day_exposition` — дата публикации\n",
    "* `floor` — этаж\n",
    "* `floors_total` — всего этажей в доме\n",
    "* `is_apartment` — апартаменты (булев тип)\n",
    "* `kitchen_area` — площадь кухни в квадратных метрах (м²)\n",
    "* `last_price` — цена на момент снятия с публикации\n",
    "* `living_area` — жилая площадь в квадратных метрах (м²)\n",
    "* `locality_name` — название населённого пункта\n",
    "* `open_plan` — свободная планировка (булев тип)\n",
    "* `parks_around3000` — число парков в радиусе 3 км\n",
    "* `parks_nearest` — расстояние до ближайшего парка (м)\n",
    "* `ponds_around3000` — число водоёмов в радиусе 3 км\n",
    "* `ponds_nearest` — расстояние до ближайшего водоёма (м)\n",
    "* `rooms` — число комнат\n",
    "* `studio` — квартира-студия (булев тип)\n",
    "* `total_area` — площадь квартиры в квадратных метрах (м²)\n",
    "* `total_images` — число фотографий квартиры в объявлении"
   ]
  },
  {
   "cell_type": "markdown",
   "metadata": {},
   "source": [
    "## Изучение данных из файла"
   ]
  },
  {
   "cell_type": "markdown",
   "metadata": {},
   "source": [
    "Откроем файл с данными и изучим общую информацию."
   ]
  },
  {
   "cell_type": "code",
   "execution_count": 1,
   "metadata": {},
   "outputs": [],
   "source": [
    "# импортируем необходимые библиотеки\n",
    "import pandas as pd\n",
    "from matplotlib import pyplot as plt"
   ]
  },
  {
   "cell_type": "code",
   "execution_count": 2,
   "metadata": {},
   "outputs": [],
   "source": [
    "# открываем файл с данными и рабиваем столбцы по отдельным колонкам параметром sep\n",
    "df = pd.read_csv('/datasets/real_estate_data.csv', sep='\\t')"
   ]
  },
  {
   "cell_type": "code",
   "execution_count": 3,
   "metadata": {
    "scrolled": true
   },
   "outputs": [
    {
     "data": {
      "text/html": [
       "<div>\n",
       "<style scoped>\n",
       "    .dataframe tbody tr th:only-of-type {\n",
       "        vertical-align: middle;\n",
       "    }\n",
       "\n",
       "    .dataframe tbody tr th {\n",
       "        vertical-align: top;\n",
       "    }\n",
       "\n",
       "    .dataframe thead th {\n",
       "        text-align: right;\n",
       "    }\n",
       "</style>\n",
       "<table border=\"1\" class=\"dataframe\">\n",
       "  <thead>\n",
       "    <tr style=\"text-align: right;\">\n",
       "      <th></th>\n",
       "      <th>total_images</th>\n",
       "      <th>last_price</th>\n",
       "      <th>total_area</th>\n",
       "      <th>first_day_exposition</th>\n",
       "      <th>rooms</th>\n",
       "      <th>ceiling_height</th>\n",
       "      <th>floors_total</th>\n",
       "      <th>living_area</th>\n",
       "      <th>floor</th>\n",
       "      <th>is_apartment</th>\n",
       "      <th>...</th>\n",
       "      <th>kitchen_area</th>\n",
       "      <th>balcony</th>\n",
       "      <th>locality_name</th>\n",
       "      <th>airports_nearest</th>\n",
       "      <th>cityCenters_nearest</th>\n",
       "      <th>parks_around3000</th>\n",
       "      <th>parks_nearest</th>\n",
       "      <th>ponds_around3000</th>\n",
       "      <th>ponds_nearest</th>\n",
       "      <th>days_exposition</th>\n",
       "    </tr>\n",
       "  </thead>\n",
       "  <tbody>\n",
       "    <tr>\n",
       "      <td>0</td>\n",
       "      <td>20</td>\n",
       "      <td>13000000.0</td>\n",
       "      <td>108.0</td>\n",
       "      <td>2019-03-07T00:00:00</td>\n",
       "      <td>3</td>\n",
       "      <td>2.70</td>\n",
       "      <td>16.0</td>\n",
       "      <td>51.0</td>\n",
       "      <td>8</td>\n",
       "      <td>NaN</td>\n",
       "      <td>...</td>\n",
       "      <td>25.0</td>\n",
       "      <td>NaN</td>\n",
       "      <td>Санкт-Петербург</td>\n",
       "      <td>18863.0</td>\n",
       "      <td>16028.0</td>\n",
       "      <td>1.0</td>\n",
       "      <td>482.0</td>\n",
       "      <td>2.0</td>\n",
       "      <td>755.0</td>\n",
       "      <td>NaN</td>\n",
       "    </tr>\n",
       "    <tr>\n",
       "      <td>1</td>\n",
       "      <td>7</td>\n",
       "      <td>3350000.0</td>\n",
       "      <td>40.4</td>\n",
       "      <td>2018-12-04T00:00:00</td>\n",
       "      <td>1</td>\n",
       "      <td>NaN</td>\n",
       "      <td>11.0</td>\n",
       "      <td>18.6</td>\n",
       "      <td>1</td>\n",
       "      <td>NaN</td>\n",
       "      <td>...</td>\n",
       "      <td>11.0</td>\n",
       "      <td>2.0</td>\n",
       "      <td>посёлок Шушары</td>\n",
       "      <td>12817.0</td>\n",
       "      <td>18603.0</td>\n",
       "      <td>0.0</td>\n",
       "      <td>NaN</td>\n",
       "      <td>0.0</td>\n",
       "      <td>NaN</td>\n",
       "      <td>81.0</td>\n",
       "    </tr>\n",
       "    <tr>\n",
       "      <td>2</td>\n",
       "      <td>10</td>\n",
       "      <td>5196000.0</td>\n",
       "      <td>56.0</td>\n",
       "      <td>2015-08-20T00:00:00</td>\n",
       "      <td>2</td>\n",
       "      <td>NaN</td>\n",
       "      <td>5.0</td>\n",
       "      <td>34.3</td>\n",
       "      <td>4</td>\n",
       "      <td>NaN</td>\n",
       "      <td>...</td>\n",
       "      <td>8.3</td>\n",
       "      <td>0.0</td>\n",
       "      <td>Санкт-Петербург</td>\n",
       "      <td>21741.0</td>\n",
       "      <td>13933.0</td>\n",
       "      <td>1.0</td>\n",
       "      <td>90.0</td>\n",
       "      <td>2.0</td>\n",
       "      <td>574.0</td>\n",
       "      <td>558.0</td>\n",
       "    </tr>\n",
       "    <tr>\n",
       "      <td>3</td>\n",
       "      <td>0</td>\n",
       "      <td>64900000.0</td>\n",
       "      <td>159.0</td>\n",
       "      <td>2015-07-24T00:00:00</td>\n",
       "      <td>3</td>\n",
       "      <td>NaN</td>\n",
       "      <td>14.0</td>\n",
       "      <td>NaN</td>\n",
       "      <td>9</td>\n",
       "      <td>NaN</td>\n",
       "      <td>...</td>\n",
       "      <td>NaN</td>\n",
       "      <td>0.0</td>\n",
       "      <td>Санкт-Петербург</td>\n",
       "      <td>28098.0</td>\n",
       "      <td>6800.0</td>\n",
       "      <td>2.0</td>\n",
       "      <td>84.0</td>\n",
       "      <td>3.0</td>\n",
       "      <td>234.0</td>\n",
       "      <td>424.0</td>\n",
       "    </tr>\n",
       "    <tr>\n",
       "      <td>4</td>\n",
       "      <td>2</td>\n",
       "      <td>10000000.0</td>\n",
       "      <td>100.0</td>\n",
       "      <td>2018-06-19T00:00:00</td>\n",
       "      <td>2</td>\n",
       "      <td>3.03</td>\n",
       "      <td>14.0</td>\n",
       "      <td>32.0</td>\n",
       "      <td>13</td>\n",
       "      <td>NaN</td>\n",
       "      <td>...</td>\n",
       "      <td>41.0</td>\n",
       "      <td>NaN</td>\n",
       "      <td>Санкт-Петербург</td>\n",
       "      <td>31856.0</td>\n",
       "      <td>8098.0</td>\n",
       "      <td>2.0</td>\n",
       "      <td>112.0</td>\n",
       "      <td>1.0</td>\n",
       "      <td>48.0</td>\n",
       "      <td>121.0</td>\n",
       "    </tr>\n",
       "  </tbody>\n",
       "</table>\n",
       "<p>5 rows × 22 columns</p>\n",
       "</div>"
      ],
      "text/plain": [
       "   total_images  last_price  total_area first_day_exposition  rooms  \\\n",
       "0            20  13000000.0       108.0  2019-03-07T00:00:00      3   \n",
       "1             7   3350000.0        40.4  2018-12-04T00:00:00      1   \n",
       "2            10   5196000.0        56.0  2015-08-20T00:00:00      2   \n",
       "3             0  64900000.0       159.0  2015-07-24T00:00:00      3   \n",
       "4             2  10000000.0       100.0  2018-06-19T00:00:00      2   \n",
       "\n",
       "   ceiling_height  floors_total  living_area  floor is_apartment  ...  \\\n",
       "0            2.70          16.0         51.0      8          NaN  ...   \n",
       "1             NaN          11.0         18.6      1          NaN  ...   \n",
       "2             NaN           5.0         34.3      4          NaN  ...   \n",
       "3             NaN          14.0          NaN      9          NaN  ...   \n",
       "4            3.03          14.0         32.0     13          NaN  ...   \n",
       "\n",
       "   kitchen_area  balcony    locality_name  airports_nearest  \\\n",
       "0          25.0      NaN  Санкт-Петербург           18863.0   \n",
       "1          11.0      2.0   посёлок Шушары           12817.0   \n",
       "2           8.3      0.0  Санкт-Петербург           21741.0   \n",
       "3           NaN      0.0  Санкт-Петербург           28098.0   \n",
       "4          41.0      NaN  Санкт-Петербург           31856.0   \n",
       "\n",
       "  cityCenters_nearest  parks_around3000  parks_nearest  ponds_around3000  \\\n",
       "0             16028.0               1.0          482.0               2.0   \n",
       "1             18603.0               0.0            NaN               0.0   \n",
       "2             13933.0               1.0           90.0               2.0   \n",
       "3              6800.0               2.0           84.0               3.0   \n",
       "4              8098.0               2.0          112.0               1.0   \n",
       "\n",
       "   ponds_nearest  days_exposition  \n",
       "0          755.0              NaN  \n",
       "1            NaN             81.0  \n",
       "2          574.0            558.0  \n",
       "3          234.0            424.0  \n",
       "4           48.0            121.0  \n",
       "\n",
       "[5 rows x 22 columns]"
      ]
     },
     "execution_count": 3,
     "metadata": {},
     "output_type": "execute_result"
    }
   ],
   "source": [
    "# выводим первые пять строк наших данных\n",
    "df.head()"
   ]
  },
  {
   "cell_type": "code",
   "execution_count": 4,
   "metadata": {},
   "outputs": [
    {
     "name": "stdout",
     "output_type": "stream",
     "text": [
      "<class 'pandas.core.frame.DataFrame'>\n",
      "RangeIndex: 23699 entries, 0 to 23698\n",
      "Data columns (total 22 columns):\n",
      "total_images            23699 non-null int64\n",
      "last_price              23699 non-null float64\n",
      "total_area              23699 non-null float64\n",
      "first_day_exposition    23699 non-null object\n",
      "rooms                   23699 non-null int64\n",
      "ceiling_height          14504 non-null float64\n",
      "floors_total            23613 non-null float64\n",
      "living_area             21796 non-null float64\n",
      "floor                   23699 non-null int64\n",
      "is_apartment            2775 non-null object\n",
      "studio                  23699 non-null bool\n",
      "open_plan               23699 non-null bool\n",
      "kitchen_area            21421 non-null float64\n",
      "balcony                 12180 non-null float64\n",
      "locality_name           23650 non-null object\n",
      "airports_nearest        18157 non-null float64\n",
      "cityCenters_nearest     18180 non-null float64\n",
      "parks_around3000        18181 non-null float64\n",
      "parks_nearest           8079 non-null float64\n",
      "ponds_around3000        18181 non-null float64\n",
      "ponds_nearest           9110 non-null float64\n",
      "days_exposition         20518 non-null float64\n",
      "dtypes: bool(2), float64(14), int64(3), object(3)\n",
      "memory usage: 3.7+ MB\n"
     ]
    }
   ],
   "source": [
    "# смотрим общую информацию наших данных\n",
    "df.info()"
   ]
  },
  {
   "cell_type": "markdown",
   "metadata": {},
   "source": [
    "Итак, в таблице 22 столбца и 23699 строк. Тип данных для столбцов с числовым значением — `int64` и `float64`, а со строчным — `object`. \n",
    "\n",
    "Согласно документации к данным:\n",
    "* `airports_nearest` — расстояние до ближайшего аэропорта в метрах (м)\n",
    "* `balcony` — число балконов\n",
    "* `ceiling_height` — высота потолков (м)\n",
    "* `cityCenters_nearest` — расстояние до центра города (м)\n",
    "* `days_exposition` — сколько дней было размещено объявление (от публикации до снятия)\n",
    "* `first_day_exposition` — дата публикации\n",
    "* `floor` — этаж\n",
    "* `floors_total` — всего этажей в доме\n",
    "* `is_apartment` — апартаменты (булев тип)\n",
    "* `kitchen_area` — площадь кухни в квадратных метрах (м²)\n",
    "* `last_price` — цена на момент снятия с публикации\n",
    "* `living_area` — жилая площадь в квадратных метрах (м²)\n",
    "* `locality_name` — название населённого пункта\n",
    "* `open_plan` — свободная планировка (булев тип)\n",
    "* `parks_around3000` — число парков в радиусе 3 км\n",
    "* `parks_nearest` — расстояние до ближайшего парка (м)\n",
    "* `ponds_around3000` — число водоёмов в радиусе 3 км\n",
    "* `ponds_nearest` — расстояние до ближайшего водоёма (м)\n",
    "* `rooms` — число комнат\n",
    "* `studio` — квартира-студия (булев тип)\n",
    "* `total_area` — площадь квартиры в квадратных метрах (м²)\n",
    "* `total_images` — число фотографий квартиры в объявлении\n",
    "\n",
    "При выгрузке файла данные склеились в одну строку. Для разделения использовали соответсвующий параметр в аргуементе функции `read_csv`.\n",
    "\n",
    "Исходя из информации о датафрейме, в данных есть пропущенные значения.\n",
    "\n",
    "Также, необходимо поменять тип данных некоторых столбцов на соответсвующие.\n"
   ]
  },
  {
   "cell_type": "markdown",
   "metadata": {},
   "source": [
    "### Вывод"
   ]
  },
  {
   "cell_type": "markdown",
   "metadata": {},
   "source": [
    "Каждая строка таблицы описыает - данные о продаваемой квартире. Часть колонок описывает параметры квартиры: количество сделанных фотографий, цену продажи, общую и жилую площадь, число команат, высота потолков, количество этажей и на каком этаже квартира, квартира это студия, апартаменты или свободная планировка, площадь кухни, число балконов, название населенного пункта. Остальные данные рассказывают об удаленности от аэропорта, центра города, парков и водоемов, а также о дате публикации и его количества размещенного дня. \n",
    "\n",
    "Предварительно можно утверждать, что, данных достаточно для исследования. Но встречаются пропуски в данных.\n",
    "\n",
    "Чтобы двигаться дальше, нужно устранить проблемы в данных."
   ]
  },
  {
   "cell_type": "markdown",
   "metadata": {},
   "source": [
    "## Предобработка данных"
   ]
  },
  {
   "cell_type": "markdown",
   "metadata": {},
   "source": [
    "Определим и изучим пропущенные данные, и приведем данные к нужному типу."
   ]
  },
  {
   "cell_type": "code",
   "execution_count": 5,
   "metadata": {},
   "outputs": [
    {
     "data": {
      "text/plain": [
       "0.20675977889362418"
      ]
     },
     "execution_count": 5,
     "metadata": {},
     "output_type": "execute_result"
    }
   ],
   "source": [
    "# считаем процент пропущенных значений столбца населенного пункта\n",
    "df.locality_name.isna().sum()/df.shape[0]*100"
   ]
  },
  {
   "cell_type": "code",
   "execution_count": 6,
   "metadata": {},
   "outputs": [],
   "source": [
    "# удаляем строчки с пропущенными значениями населенного пункта\n",
    "df.dropna(subset=['locality_name'], inplace=True)"
   ]
  },
  {
   "cell_type": "markdown",
   "metadata": {},
   "source": [
    "Поскольку нет параметров по которым можно было бы точно определить название населнного пункта и как процент пропущенных значений от общего количества строк составляет 0,21%, то можно исключить строчки с пропущенными значениями столбца `locality_name`"
   ]
  },
  {
   "cell_type": "code",
   "execution_count": 7,
   "metadata": {},
   "outputs": [],
   "source": [
    "# убираем слова из названий населенных пунтков, чтобы не получать дубликаты\n",
    "df['locality_name'] = df['locality_name'].str.replace('посёлок ', '')\n",
    "df['locality_name'] = df['locality_name'].str.replace('деревня ', '')\n",
    "df['locality_name'] = df['locality_name'].str.replace('поселок ', '')\n",
    "df['locality_name'] = df['locality_name'].str.replace('городской ', '')\n",
    "df['locality_name'] = df['locality_name'].str.replace('городского типа имени ', '') \n",
    "df['locality_name'] = df['locality_name'].str.replace('коттеджный ', '') \n",
    "df['locality_name'] = df['locality_name'].str.replace('при железнодорожной станции ', '') \n",
    "df['locality_name'] = df['locality_name'].str.replace('станции ', '') \n",
    "df['locality_name'] = df['locality_name'].str.replace('городского типа ', '') \n",
    "df['locality_name'] = df['locality_name'].str.replace('садовое товарищество ', '') \n",
    "df['locality_name'] = df['locality_name'].str.replace('село ', '') \n",
    "df['locality_name'] = df['locality_name'].str.replace('садоводческое некоммерческое товарищество ', '')"
   ]
  },
  {
   "cell_type": "code",
   "execution_count": 8,
   "metadata": {},
   "outputs": [
    {
     "data": {
      "text/plain": [
       "9160"
      ]
     },
     "execution_count": 8,
     "metadata": {},
     "output_type": "execute_result"
    }
   ],
   "source": [
    "# заполняем пропущенные значения столбца высоты потолка медианными значениями,\n",
    "# медианные значения взяты из сргуппированных населенных пунктов\n",
    "df[(df['ceiling_height']<2.4) & (df['ceiling_height']>3.5)].fillna((df.groupby('locality_name')['ceiling_height'].transform('mean')), inplace=True)\n",
    "# проверяем количество пропущенных значений\n",
    "df.ceiling_height.isna().sum()"
   ]
  },
  {
   "cell_type": "code",
   "execution_count": 9,
   "metadata": {},
   "outputs": [
    {
     "data": {
      "text/plain": [
       "0"
      ]
     },
     "execution_count": 9,
     "metadata": {},
     "output_type": "execute_result"
    }
   ],
   "source": [
    "# заполняем оставшиеся пропущенные значения медианным значением всего столбца 'ceiling_height'\n",
    "df.ceiling_height.fillna((df.ceiling_height.median()), inplace=True)\n",
    "# проверяем количество пропущенных значений\n",
    "df.ceiling_height.isna().sum()"
   ]
  },
  {
   "cell_type": "markdown",
   "metadata": {},
   "source": [
    "Поскольку в столбце `ceiling_height` есть странные значения, в виде 100 м высоты потолка, то для заполнения пропущенных значений принимаем медианные значения. "
   ]
  },
  {
   "cell_type": "code",
   "execution_count": 10,
   "metadata": {},
   "outputs": [
    {
     "data": {
      "text/plain": [
       "0"
      ]
     },
     "execution_count": 10,
     "metadata": {},
     "output_type": "execute_result"
    }
   ],
   "source": [
    "# заполняем пропущенные значения столбца количества этажей медианными значениями,\n",
    "# медианные значения взяты из сргуппированных населенных пунктов\n",
    "df.floors_total.fillna((df.groupby('locality_name')['floors_total'].transform('median')), inplace=True)\n",
    "# проверяем количество пропущенных значений\n",
    "df.floors_total.isna().sum()"
   ]
  },
  {
   "cell_type": "code",
   "execution_count": 11,
   "metadata": {},
   "outputs": [
    {
     "data": {
      "text/plain": [
       "17"
      ]
     },
     "execution_count": 11,
     "metadata": {},
     "output_type": "execute_result"
    }
   ],
   "source": [
    "# заполняем пропущенные значения столбца жилой площади медианными значениями,\n",
    "# медианные значения взяты из сргуппированных населенных пунктов\n",
    "df.living_area.fillna((df.groupby('locality_name')['living_area'].transform('median')), inplace=True)\n",
    "# проверяем количество пропущенных значений\n",
    "df.living_area.isna().sum()"
   ]
  },
  {
   "cell_type": "code",
   "execution_count": 12,
   "metadata": {},
   "outputs": [
    {
     "data": {
      "text/plain": [
       "0"
      ]
     },
     "execution_count": 12,
     "metadata": {},
     "output_type": "execute_result"
    }
   ],
   "source": [
    "# заполняем оставшиеся пропущенные значения медианным значением всего столбца 'living_area'\n",
    "df.living_area.fillna((df.living_area.median()), inplace=True)\n",
    "# проверяем количество пропущенных значений\n",
    "df.living_area.isna().sum()"
   ]
  },
  {
   "cell_type": "code",
   "execution_count": 13,
   "metadata": {},
   "outputs": [
    {
     "data": {
      "text/plain": [
       "0"
      ]
     },
     "execution_count": 13,
     "metadata": {},
     "output_type": "execute_result"
    }
   ],
   "source": [
    "# заполняем пропущенные значения столбца апартаменты нулем\n",
    "df.is_apartment.fillna(0, inplace=True)\n",
    "# проверяем количество пропущенных значений\n",
    "df.living_area.isna().sum()"
   ]
  },
  {
   "cell_type": "markdown",
   "metadata": {},
   "source": [
    "Заполняем пропущенные значения столбца `is_apartment` нулем, обозначающее, что квартира не относится к типу апартамент."
   ]
  },
  {
   "cell_type": "code",
   "execution_count": 14,
   "metadata": {},
   "outputs": [
    {
     "data": {
      "text/plain": [
       "19"
      ]
     },
     "execution_count": 14,
     "metadata": {},
     "output_type": "execute_result"
    }
   ],
   "source": [
    "# заполняем пропущенные значения столбца площади кухни медианными значениями,\n",
    "# медианные значения взяты из сргуппированных населенных пунктов\n",
    "df.kitchen_area.fillna((df.groupby('locality_name')['kitchen_area'].transform('median')), inplace=True)\n",
    "# проверяем количество пропущенных значений\n",
    "df.kitchen_area.isna().sum()"
   ]
  },
  {
   "cell_type": "code",
   "execution_count": 15,
   "metadata": {},
   "outputs": [
    {
     "data": {
      "text/plain": [
       "0"
      ]
     },
     "execution_count": 15,
     "metadata": {},
     "output_type": "execute_result"
    }
   ],
   "source": [
    "# заполняем оставшиеся пропущенные значения медианным значением всего столбца 'kitchen_area'\n",
    "df.kitchen_area.fillna((df.kitchen_area.median()), inplace=True)\n",
    "# проверяем количество пропущенных значений\n",
    "df.kitchen_area.isna().sum()"
   ]
  },
  {
   "cell_type": "code",
   "execution_count": 16,
   "metadata": {},
   "outputs": [
    {
     "data": {
      "text/plain": [
       "0"
      ]
     },
     "execution_count": 16,
     "metadata": {},
     "output_type": "execute_result"
    }
   ],
   "source": [
    "# заполняем пропущенные значения столбца числа балконов нулем\n",
    "df.balcony.fillna(0, inplace=True)\n",
    "# проверяем количество пропущенных значений\n",
    "df.balcony.isna().sum()"
   ]
  },
  {
   "cell_type": "markdown",
   "metadata": {},
   "source": [
    "Заполняем пропущенные значения столбца `balcony` нулем, обозначающее, что балкона в квартире нет."
   ]
  },
  {
   "cell_type": "code",
   "execution_count": 17,
   "metadata": {},
   "outputs": [
    {
     "data": {
      "text/plain": [
       "4829"
      ]
     },
     "execution_count": 17,
     "metadata": {},
     "output_type": "execute_result"
    }
   ],
   "source": [
    "# заполняем пропущенные значения столбца расстояние до аэропорта медианными значениями,\n",
    "# медианные значения взяты из сргуппированных населенных пунктов\n",
    "df.airports_nearest.fillna((df.groupby('locality_name')['airports_nearest'].transform('median')), inplace=True)\n",
    "# проверяем количество пропущенных значений\n",
    "df.airports_nearest.isna().sum()"
   ]
  },
  {
   "cell_type": "code",
   "execution_count": 18,
   "metadata": {},
   "outputs": [
    {
     "data": {
      "text/plain": [
       "0"
      ]
     },
     "execution_count": 18,
     "metadata": {},
     "output_type": "execute_result"
    }
   ],
   "source": [
    "# заполняем оставшиеся пропущенные значения медианным значением всего столбца 'airports_nearest'\n",
    "df.airports_nearest.fillna((df.airports_nearest.median()), inplace=True)\n",
    "# проверяем количество пропущенных значений\n",
    "df.airports_nearest.isna().sum()"
   ]
  },
  {
   "cell_type": "code",
   "execution_count": 19,
   "metadata": {},
   "outputs": [
    {
     "data": {
      "text/plain": [
       "4829"
      ]
     },
     "execution_count": 19,
     "metadata": {},
     "output_type": "execute_result"
    }
   ],
   "source": [
    "# заполняем пропущенные значения столбца расстояние до центра города медианными значениями,\n",
    "# медианные значения взяты из сргуппированных населенных пунктов\n",
    "df.cityCenters_nearest.fillna((df.groupby('locality_name')['cityCenters_nearest'].transform('median')), inplace=True)\n",
    "# проверяем количество пропущенных значений\n",
    "df.cityCenters_nearest.isna().sum()"
   ]
  },
  {
   "cell_type": "code",
   "execution_count": 20,
   "metadata": {},
   "outputs": [
    {
     "data": {
      "text/plain": [
       "0"
      ]
     },
     "execution_count": 20,
     "metadata": {},
     "output_type": "execute_result"
    }
   ],
   "source": [
    "# заполняем оставшиеся пропущенные значения медианным значением всего столбца 'airports_nearest'\n",
    "df.cityCenters_nearest.fillna((df.cityCenters_nearest.median()), inplace=True)\n",
    "# проверяем количество пропущенных значений\n",
    "df.cityCenters_nearest.isna().sum()"
   ]
  },
  {
   "cell_type": "code",
   "execution_count": 21,
   "metadata": {},
   "outputs": [
    {
     "data": {
      "text/plain": [
       "4829"
      ]
     },
     "execution_count": 21,
     "metadata": {},
     "output_type": "execute_result"
    }
   ],
   "source": [
    "# заполняем пропущенные значения столбца количества парков в радиусе 3 км медианными значениями,\n",
    "# медианные значения взяты из сргуппированных населенных пунктов\n",
    "df.parks_around3000.fillna((df.groupby('locality_name')['parks_around3000'].transform('median')), inplace=True)\n",
    "# проверяем количество пропущенных значений\n",
    "df.parks_around3000.isna().sum()"
   ]
  },
  {
   "cell_type": "code",
   "execution_count": 22,
   "metadata": {},
   "outputs": [
    {
     "data": {
      "text/plain": [
       "0"
      ]
     },
     "execution_count": 22,
     "metadata": {},
     "output_type": "execute_result"
    }
   ],
   "source": [
    "# заполняем оставшиеся пропущенные значения медианным значением всего столбца 'parks_around3000'\n",
    "df.parks_around3000.fillna((df.parks_around3000.median()), inplace=True)\n",
    "# проверяем количество пропущенных значений\n",
    "df.parks_around3000.isna().sum()"
   ]
  },
  {
   "cell_type": "code",
   "execution_count": 23,
   "metadata": {},
   "outputs": [
    {
     "data": {
      "text/plain": [
       "5998"
      ]
     },
     "execution_count": 23,
     "metadata": {},
     "output_type": "execute_result"
    }
   ],
   "source": [
    "# заполняем пропущенные значения столбца расстояние до ближайшего парка медианными значениями,\n",
    "# медианные значения взяты из сргуппированных населенных пунктов\n",
    "df.parks_nearest.fillna((df.groupby('locality_name')['parks_nearest'].transform('median')), inplace=True)\n",
    "# проверяем количество пропущенных значений\n",
    "df.parks_nearest.isna().sum()"
   ]
  },
  {
   "cell_type": "code",
   "execution_count": 24,
   "metadata": {},
   "outputs": [
    {
     "data": {
      "text/plain": [
       "0"
      ]
     },
     "execution_count": 24,
     "metadata": {},
     "output_type": "execute_result"
    }
   ],
   "source": [
    "# заполняем оставшиеся пропущенные значения медианным значением всего столбца 'parks_nearest'\n",
    "df.parks_nearest.fillna((df.parks_nearest.median()), inplace=True)\n",
    "# проверяем количество пропущенных значений\n",
    "df.parks_nearest.isna().sum()"
   ]
  },
  {
   "cell_type": "code",
   "execution_count": 25,
   "metadata": {},
   "outputs": [
    {
     "data": {
      "text/plain": [
       "4829"
      ]
     },
     "execution_count": 25,
     "metadata": {},
     "output_type": "execute_result"
    }
   ],
   "source": [
    "# заполняем пропущенные значения столбца количества водоёмов в радиусе 3 км медианными значениями,\n",
    "# медианные значения взяты из сргуппированных населенных пунктов\n",
    "df.ponds_around3000.fillna((df.groupby('locality_name')['ponds_around3000'].transform('median')), inplace=True)\n",
    "# проверяем количество пропущенных значений\n",
    "df.ponds_around3000.isna().sum()"
   ]
  },
  {
   "cell_type": "code",
   "execution_count": 26,
   "metadata": {},
   "outputs": [
    {
     "data": {
      "text/plain": [
       "0"
      ]
     },
     "execution_count": 26,
     "metadata": {},
     "output_type": "execute_result"
    }
   ],
   "source": [
    "# заполняем оставшиеся пропущенные значения медианным значением всего столбца 'ponds_around3000'\n",
    "df.ponds_around3000.fillna((df.ponds_around3000.median()), inplace=True)\n",
    "# проверяем количество пропущенных значений\n",
    "df.ponds_around3000.isna().sum()"
   ]
  },
  {
   "cell_type": "code",
   "execution_count": 27,
   "metadata": {},
   "outputs": [
    {
     "data": {
      "text/plain": [
       "4938"
      ]
     },
     "execution_count": 27,
     "metadata": {},
     "output_type": "execute_result"
    }
   ],
   "source": [
    "# заполняем пропущенные значения столбца расстояние до ближайшего водоёма медианными значениями,\n",
    "# медианные значения взяты из сргуппированных населенных пунктов\n",
    "df.ponds_nearest.fillna((df.groupby('locality_name')['ponds_nearest'].transform('median')), inplace=True)\n",
    "# проверяем количество пропущенных значений\n",
    "df.ponds_nearest.isna().sum()"
   ]
  },
  {
   "cell_type": "code",
   "execution_count": 28,
   "metadata": {},
   "outputs": [
    {
     "data": {
      "text/plain": [
       "0"
      ]
     },
     "execution_count": 28,
     "metadata": {},
     "output_type": "execute_result"
    }
   ],
   "source": [
    "# заполняем оставшиеся пропущенные значения медианным значением всего столбца 'ponds_nearest'\n",
    "df.ponds_nearest.fillna((df.ponds_nearest.median()), inplace=True)\n",
    "# проверяем количество пропущенных значений\n",
    "df.ponds_nearest.isna().sum()"
   ]
  },
  {
   "cell_type": "code",
   "execution_count": 29,
   "metadata": {},
   "outputs": [
    {
     "data": {
      "text/plain": [
       "32"
      ]
     },
     "execution_count": 29,
     "metadata": {},
     "output_type": "execute_result"
    }
   ],
   "source": [
    "# заполняем пропущенные значения столбца количества дней размещения публикации медианными значениями,\n",
    "# медианные значения взяты из сргуппированных населенных пунктов\n",
    "df.days_exposition.fillna((df.groupby('locality_name')['days_exposition'].transform('median')), inplace=True)\n",
    "# проверяем количество пропущенных значений\n",
    "df.days_exposition.isna().sum()"
   ]
  },
  {
   "cell_type": "code",
   "execution_count": 30,
   "metadata": {},
   "outputs": [
    {
     "data": {
      "text/plain": [
       "0"
      ]
     },
     "execution_count": 30,
     "metadata": {},
     "output_type": "execute_result"
    }
   ],
   "source": [
    "# заполняем оставшиеся пропущенные значения медианным значением всего столбца 'days_exposition'\n",
    "df.days_exposition.fillna((df.days_exposition.median()), inplace=True)\n",
    "# проверяем количество пропущенных значений\n",
    "df.days_exposition.isna().sum()"
   ]
  },
  {
   "cell_type": "markdown",
   "metadata": {},
   "source": [
    "Поменяем тип значений необходимых столбцов на соответсвующий."
   ]
  },
  {
   "cell_type": "code",
   "execution_count": 31,
   "metadata": {},
   "outputs": [],
   "source": [
    "df['last_price'] = df['last_price'].astype('int64')"
   ]
  },
  {
   "cell_type": "code",
   "execution_count": 32,
   "metadata": {},
   "outputs": [],
   "source": [
    "df['floors_total'] = df['floors_total'].astype('int64')"
   ]
  },
  {
   "cell_type": "code",
   "execution_count": 33,
   "metadata": {},
   "outputs": [],
   "source": [
    "df['is_apartment'] = df['is_apartment'].astype('bool')"
   ]
  },
  {
   "cell_type": "code",
   "execution_count": 34,
   "metadata": {},
   "outputs": [],
   "source": [
    "df['balcony'] = df['balcony'].astype('int64')"
   ]
  },
  {
   "cell_type": "code",
   "execution_count": 35,
   "metadata": {},
   "outputs": [],
   "source": [
    "df['airports_nearest'] = df['airports_nearest'].astype('int64')"
   ]
  },
  {
   "cell_type": "code",
   "execution_count": 36,
   "metadata": {},
   "outputs": [],
   "source": [
    "df['cityCenters_nearest'] = df['cityCenters_nearest'].astype('int64')"
   ]
  },
  {
   "cell_type": "code",
   "execution_count": 37,
   "metadata": {},
   "outputs": [],
   "source": [
    "df['parks_around3000'] = df['parks_around3000'].astype('int64')"
   ]
  },
  {
   "cell_type": "code",
   "execution_count": 38,
   "metadata": {},
   "outputs": [],
   "source": [
    "df['parks_nearest'] = df['parks_nearest'].astype('int64')"
   ]
  },
  {
   "cell_type": "code",
   "execution_count": 39,
   "metadata": {},
   "outputs": [],
   "source": [
    "df['ponds_around3000'] = df['ponds_around3000'].astype('int64')"
   ]
  },
  {
   "cell_type": "code",
   "execution_count": 40,
   "metadata": {},
   "outputs": [],
   "source": [
    "df['ponds_nearest'] = df['ponds_nearest'].astype('int64')"
   ]
  },
  {
   "cell_type": "code",
   "execution_count": 41,
   "metadata": {},
   "outputs": [],
   "source": [
    "df['days_exposition'] = df['days_exposition'].astype('int64')"
   ]
  },
  {
   "cell_type": "markdown",
   "metadata": {},
   "source": [
    "### Вывод"
   ]
  },
  {
   "cell_type": "markdown",
   "metadata": {},
   "source": [
    "В столбце названия населенного пункта были обнаружены пропущенные значения. Поскольку процент пропущенных значений составила 0.21% от всех данных, то значения были удалены.\n",
    "\n",
    "В большей части столбцов были пропущены значения. В некоторых столбцах данные были заменены медианными значениями, в некоторых нулем.\n",
    "\n",
    "Также изменили тип данных столбцов на соответсвующий."
   ]
  },
  {
   "cell_type": "markdown",
   "metadata": {},
   "source": [
    "## Расчёты и добавление результатов в таблицу"
   ]
  },
  {
   "cell_type": "markdown",
   "metadata": {},
   "source": [
    "Посчитаем и добавим в таблицу:\n",
    "* цену квадратного метра;\n",
    "* день недели, месяц и год публикации объявления;\n",
    "* этаж квартиры; варианты — первый, последний, другой;\n",
    "* соотношение жилой и общей площади, а также отношение площади кухни к общей."
   ]
  },
  {
   "cell_type": "code",
   "execution_count": 42,
   "metadata": {},
   "outputs": [],
   "source": [
    "# добавим новый столбец - цена квадратного метра\n",
    "df['price_per_m2'] = df['last_price']/df['total_area']"
   ]
  },
  {
   "cell_type": "code",
   "execution_count": 43,
   "metadata": {},
   "outputs": [],
   "source": [
    "# переводим дату публикации в удобный формат\n",
    "df['first_day_exposition'] = pd.to_datetime(df['first_day_exposition'], format='%Y %m %dT%H:%M:%S')"
   ]
  },
  {
   "cell_type": "code",
   "execution_count": 44,
   "metadata": {},
   "outputs": [],
   "source": [
    "# добавим новый столбец со значением дня недели публикации\n",
    "df['day_of_week'] = df['first_day_exposition'].dt.weekday"
   ]
  },
  {
   "cell_type": "code",
   "execution_count": 45,
   "metadata": {},
   "outputs": [],
   "source": [
    "# добавим новый столбец со значением месяца публикации\n",
    "df['month'] = df['first_day_exposition'].dt.month"
   ]
  },
  {
   "cell_type": "code",
   "execution_count": 46,
   "metadata": {},
   "outputs": [],
   "source": [
    "# добавим новый столбец со значением года публикации\n",
    "df['year'] = df['first_day_exposition'].dt.year"
   ]
  },
  {
   "cell_type": "code",
   "execution_count": 47,
   "metadata": {},
   "outputs": [],
   "source": [
    "# функция для разделения этажей по категориям\n",
    "def group_of_floors(row):\n",
    "    first_floor = row['floor']\n",
    "    last_floor = row['floors_total']\n",
    "    if first_floor == 1:\n",
    "        return 'первый'\n",
    "    if  first_floor == last_floor:\n",
    "        return 'последний'\n",
    "    return 'другой'\n",
    "# Объявляем функцию с параметром row;\n",
    "# назначаем переменные,\n",
    "# в первом записываем столбец 'floor' по которому нужно пройтись,\n",
    "# во втором записываем столбец 'floors_total';\n",
    "# используем условный оператор if, \n",
    "# в его выражении проверяем необходимые условия,\n",
    "# если этаж первый,\n",
    "# то записываем в новый столбец 'первый',\n",
    "# если этаж последний,\n",
    "# то записываем в новый столбец 'последний',\n",
    "# иначе записываем в новый столбец 'другой'"
   ]
  },
  {
   "cell_type": "code",
   "execution_count": 48,
   "metadata": {},
   "outputs": [],
   "source": [
    "# добавим новый столбец и применим функцию group_of_floors \n",
    "df['apartment_floor'] = df.apply(group_of_floors, axis=1)"
   ]
  },
  {
   "cell_type": "code",
   "execution_count": 49,
   "metadata": {},
   "outputs": [],
   "source": [
    "# посчитаем отношение жилой и общей площади\n",
    "df['living_area/total_area'] = df['living_area']/df['total_area']"
   ]
  },
  {
   "cell_type": "code",
   "execution_count": 50,
   "metadata": {},
   "outputs": [],
   "source": [
    "# посчитаем отношение площади кухни к общей\n",
    "df['kitchen_area/total_area'] = df['kitchen_area']/df['total_area']"
   ]
  },
  {
   "cell_type": "markdown",
   "metadata": {},
   "source": [
    "### Вывод"
   ]
  },
  {
   "cell_type": "markdown",
   "metadata": {},
   "source": [
    "Для определения зависимости цены квартиры были расчитаны и добавлены дополнительные параметры, по которым будем смотреть зависимость и корреляцию цены квартиры и соответсвующего параметра."
   ]
  },
  {
   "cell_type": "markdown",
   "metadata": {},
   "source": [
    "## Исследовательский анализ данных"
   ]
  },
  {
   "cell_type": "markdown",
   "metadata": {},
   "source": [
    "Изучим следующие параметры: площадь, цена, число комнат, высота потолков. Построим гистограммы для каждого параметра."
   ]
  },
  {
   "cell_type": "code",
   "execution_count": 51,
   "metadata": {
    "scrolled": true
   },
   "outputs": [
    {
     "data": {
      "text/plain": [
       "<matplotlib.axes._subplots.AxesSubplot at 0x7f6248770e90>"
      ]
     },
     "execution_count": 51,
     "metadata": {},
     "output_type": "execute_result"
    },
    {
     "data": {
      "image/png": "[encoded data removed]",
      "text/plain": [
       "<Figure size 432x288 with 1 Axes>"
      ]
     },
     "metadata": {
      "needs_background": "light"
     },
     "output_type": "display_data"
    }
   ],
   "source": [
    "# построим гистограмму общей площади квартиры\n",
    "df.total_area.hist(bins=100, range=(0, 250))"
   ]
  },
  {
   "cell_type": "markdown",
   "metadata": {},
   "source": [
    "Больше всего квартир составляет с площадью от 32 до 47 кв.м.."
   ]
  },
  {
   "cell_type": "code",
   "execution_count": 52,
   "metadata": {},
   "outputs": [
    {
     "data": {
      "text/plain": [
       "<matplotlib.axes._subplots.AxesSubplot at 0x7f624858b990>"
      ]
     },
     "execution_count": 52,
     "metadata": {},
     "output_type": "execute_result"
    },
    {
     "data": {
      "image/png": "[encoded data removed]",
      "text/plain": [
       "<Figure size 432x288 with 1 Axes>"
      ]
     },
     "metadata": {
      "needs_background": "light"
     },
     "output_type": "display_data"
    }
   ],
   "source": [
    "# построим гистограмму стоимости квартиры\n",
    "df.last_price.hist(bins=100, range=(0, 2*10**7))"
   ]
  },
  {
   "cell_type": "markdown",
   "metadata": {},
   "source": [
    "Значительная часть квартир продается за 3-5 млн."
   ]
  },
  {
   "cell_type": "code",
   "execution_count": 53,
   "metadata": {
    "scrolled": true
   },
   "outputs": [
    {
     "data": {
      "text/plain": [
       "<matplotlib.axes._subplots.AxesSubplot at 0x7f6247a5f910>"
      ]
     },
     "execution_count": 53,
     "metadata": {},
     "output_type": "execute_result"
    },
    {
     "data": {
      "image/png": "[encoded data removed]",
      "text/plain": [
       "<Figure size 432x288 with 1 Axes>"
      ]
     },
     "metadata": {
      "needs_background": "light"
     },
     "output_type": "display_data"
    }
   ],
   "source": [
    "# построим гистограмму количества комнат квартиры\n",
    "df.rooms.hist(bins=50, range=(0, 10))"
   ]
  },
  {
   "cell_type": "markdown",
   "metadata": {},
   "source": [
    "Чаще всего покупают квартиру с 1-2 комнатами. В 8 раз меньше покупают с 4 комнатами."
   ]
  },
  {
   "cell_type": "code",
   "execution_count": 54,
   "metadata": {},
   "outputs": [
    {
     "data": {
      "text/plain": [
       "<matplotlib.axes._subplots.AxesSubplot at 0x7f6247952c90>"
      ]
     },
     "execution_count": 54,
     "metadata": {},
     "output_type": "execute_result"
    },
    {
     "data": {
      "image/png": "[encoded data removed]",
      "text/plain": [
       "<Figure size 432x288 with 1 Axes>"
      ]
     },
     "metadata": {
      "needs_background": "light"
     },
     "output_type": "display_data"
    }
   ],
   "source": [
    "# построим гистограмму высоты потолка квартиры\n",
    "df.ceiling_height.hist(bins=50, range=(2.4, 3.5))"
   ]
  },
  {
   "cell_type": "markdown",
   "metadata": {},
   "source": [
    "Чаще всего у продаваемых квартир высота потолка составляет 2,7 метров."
   ]
  },
  {
   "cell_type": "code",
   "execution_count": 55,
   "metadata": {
    "scrolled": true
   },
   "outputs": [
    {
     "data": {
      "text/plain": [
       "<matplotlib.axes._subplots.AxesSubplot at 0x7f623f865950>"
      ]
     },
     "execution_count": 55,
     "metadata": {},
     "output_type": "execute_result"
    },
    {
     "data": {
      "image/png": "[encoded data removed]",
      "text/plain": [
       "<Figure size 432x288 with 1 Axes>"
      ]
     },
     "metadata": {
      "needs_background": "light"
     },
     "output_type": "display_data"
    }
   ],
   "source": [
    "# построим гистограмму количества дней размещения объявления\n",
    "df.days_exposition.hist(bins=100, range=(0, 600))"
   ]
  },
  {
   "cell_type": "markdown",
   "metadata": {},
   "source": [
    "Среди значений времени продажи квартиры сильно выделяется число 95. Больая часть квартиры продаются до 200 дней."
   ]
  },
  {
   "cell_type": "markdown",
   "metadata": {},
   "source": [
    "Изучим, сколько обычно занимает продажа и когда можно считать, что продажи прошли очень быстро, а когда необычно долго.\n",
    "\n",
    "Уберем редкие и выбивающиеся значения. "
   ]
  },
  {
   "cell_type": "code",
   "execution_count": 56,
   "metadata": {},
   "outputs": [
    {
     "data": {
      "text/plain": [
       "count    23650.000000\n",
       "mean       169.985455\n",
       "std        207.010975\n",
       "min          1.000000\n",
       "25%         45.000000\n",
       "50%         95.000000\n",
       "75%        199.000000\n",
       "max       1580.000000\n",
       "Name: days_exposition, dtype: float64"
      ]
     },
     "execution_count": 56,
     "metadata": {},
     "output_type": "execute_result"
    }
   ],
   "source": [
    "# выведем основные статистические данные для столбца количества дней размещения объявления\n",
    "df['days_exposition'].describe()"
   ]
  },
  {
   "cell_type": "code",
   "execution_count": 57,
   "metadata": {},
   "outputs": [
    {
     "data": {
      "image/png": "[encoded data removed]",
      "text/plain": [
       "<Figure size 432x288 with 1 Axes>"
      ]
     },
     "metadata": {
      "needs_background": "light"
     },
     "output_type": "display_data"
    }
   ],
   "source": [
    "# построим график - ящик с усами для количества дней размещения объявления\n",
    "df.boxplot(column='days_exposition') \n",
    "plt.ylim(0,600)\n",
    "plt.show()"
   ]
  },
  {
   "cell_type": "code",
   "execution_count": 58,
   "metadata": {},
   "outputs": [],
   "source": [
    "# Убрали выбросы находящиеся за 1.5 межквартальным интервалом, добавленного к Q3\n",
    "df_after_emissions = df.query('days_exposition < 432') "
   ]
  },
  {
   "cell_type": "code",
   "execution_count": 59,
   "metadata": {
    "scrolled": true
   },
   "outputs": [
    {
     "data": {
      "text/plain": [
       "<matplotlib.axes._subplots.AxesSubplot at 0x7f623f6152d0>"
      ]
     },
     "execution_count": 59,
     "metadata": {},
     "output_type": "execute_result"
    },
    {
     "data": {
      "image/png": "[encoded data removed]",
      "text/plain": [
       "<Figure size 432x288 with 1 Axes>"
      ]
     },
     "metadata": {
      "needs_background": "light"
     },
     "output_type": "display_data"
    }
   ],
   "source": [
    "# построим гистограмму количества дней размещения объявления\n",
    "df_after_emissions['days_exposition'].hist(bins= 100)"
   ]
  },
  {
   "cell_type": "markdown",
   "metadata": {},
   "source": [
    "По графикам было выявлено, что самое продолжительное время, за которое продают квартиры это 432 дня. Медианным значением или границей быстро проданной квартиры является 95 дней.\n",
    "\n",
    "По результату отбросили все строчки, по которому выполнялось условие: количествао дней размещения объявления меньше 432 дней."
   ]
  },
  {
   "cell_type": "code",
   "execution_count": 60,
   "metadata": {
    "scrolled": true
   },
   "outputs": [
    {
     "data": {
      "text/plain": [
       "count    2.134000e+04\n",
       "mean     6.376849e+06\n",
       "std      1.077006e+07\n",
       "min      1.219000e+04\n",
       "25%      3.400000e+06\n",
       "50%      4.600000e+06\n",
       "75%      6.650000e+06\n",
       "max      7.630000e+08\n",
       "Name: last_price, dtype: float64"
      ]
     },
     "execution_count": 60,
     "metadata": {},
     "output_type": "execute_result"
    }
   ],
   "source": [
    "# выведем основные статистические данные стоимости квартиры\n",
    "df_after_emissions['last_price'].describe()"
   ]
  },
  {
   "cell_type": "code",
   "execution_count": 61,
   "metadata": {
    "scrolled": true
   },
   "outputs": [
    {
     "data": {
      "image/png": "[encoded data removed]",
      "text/plain": [
       "<Figure size 432x288 with 1 Axes>"
      ]
     },
     "metadata": {
      "needs_background": "light"
     },
     "output_type": "display_data"
    }
   ],
   "source": [
    "# построим график - ящик с усами для стоимости квартиры\n",
    "df_after_emissions.boxplot(column='last_price')\n",
    "plt.ylim(0,15000000)\n",
    "plt.show()"
   ]
  },
  {
   "cell_type": "code",
   "execution_count": 62,
   "metadata": {},
   "outputs": [],
   "source": [
    "# Убрали выбросы находящиеся за 1.5 межквартальным интервалом, добавленного к Q3\n",
    "df_after_emissions = df_after_emissions.query('1*10**6 < last_price < 11.8*10**6')"
   ]
  },
  {
   "cell_type": "code",
   "execution_count": 63,
   "metadata": {
    "scrolled": true
   },
   "outputs": [
    {
     "data": {
      "text/plain": [
       "<matplotlib.axes._subplots.AxesSubplot at 0x7f623f415190>"
      ]
     },
     "execution_count": 63,
     "metadata": {},
     "output_type": "execute_result"
    },
    {
     "data": {
      "image/png": "[encoded data removed]",
      "text/plain": [
       "<Figure size 432x288 with 1 Axes>"
      ]
     },
     "metadata": {
      "needs_background": "light"
     },
     "output_type": "display_data"
    }
   ],
   "source": [
    "# построим гистограмму стоимости квартиры\n",
    "df_after_emissions['last_price'].hist(bins=100, range=(0, 11.8*10**6))"
   ]
  },
  {
   "cell_type": "markdown",
   "metadata": {},
   "source": [
    "По графикам было выявлено, что выбросы начинались после отметки суммы 11,8 млн.. Медианным значением стоимости квартиры явлется 4,6 млн.\n",
    "\n",
    "По результату отбросили все строчки, по которому выполнялось условие: стоимость квартиры больше 1 млн. и меньше 11,8 млн.."
   ]
  },
  {
   "cell_type": "markdown",
   "metadata": {},
   "source": [
    "Изучим, зависит ли цена от площади, числа комнат, удалённости от центра. Изучим зависимость цены от того, на каком этаже расположена квартира: первом, последнем или другом. Также изучим зависимость от даты размещения: дня недели, месяца и года."
   ]
  },
  {
   "cell_type": "code",
   "execution_count": 64,
   "metadata": {
    "scrolled": true
   },
   "outputs": [
    {
     "data": {
      "text/plain": [
       "<matplotlib.axes._subplots.AxesSubplot at 0x7f623f33c590>"
      ]
     },
     "execution_count": 64,
     "metadata": {},
     "output_type": "execute_result"
    },
    {
     "data": {
      "image/png": "[encoded data removed]",
      "text/plain": [
       "<Figure size 2160x576 with 1 Axes>"
      ]
     },
     "metadata": {
      "needs_background": "light"
     },
     "output_type": "display_data"
    }
   ],
   "source": [
    "# построим график зависимости цены квартиры от её площади\n",
    "(df_after_emissions\n",
    "    .pivot_table(index='total_area', values='last_price', aggfunc='median')\n",
    "    .plot(grid=True, style='o', figsize=(30, 8))\n",
    ")"
   ]
  },
  {
   "cell_type": "code",
   "execution_count": 65,
   "metadata": {},
   "outputs": [],
   "source": [
    "# посчитаем корреляцию цены квартиры и общей площади\n",
    "#df_after_emissions['last_price'].corr(df_after_emissions['total_area'])"
   ]
  },
  {
   "cell_type": "markdown",
   "metadata": {},
   "source": [
    "При увеличении площади, увеличивается стоимость квартиры. Коррелция положительная и большая. Это значит, что эти два параметра зависяет друг от друга."
   ]
  },
  {
   "cell_type": "code",
   "execution_count": 66,
   "metadata": {},
   "outputs": [
    {
     "data": {
      "text/plain": [
       "<matplotlib.axes._subplots.AxesSubplot at 0x7f623f2e5090>"
      ]
     },
     "execution_count": 66,
     "metadata": {},
     "output_type": "execute_result"
    },
    {
     "data": {
      "image/png": "[encoded data removed]",
      "text/plain": [
       "<Figure size 648x432 with 1 Axes>"
      ]
     },
     "metadata": {
      "needs_background": "light"
     },
     "output_type": "display_data"
    }
   ],
   "source": [
    "# построим график зависимости цены квартиры от количества комнат\n",
    "(df_after_emissions\n",
    "    .pivot_table(index='rooms', values='last_price', aggfunc='median')\n",
    "    .plot(grid=True, style='o-', figsize=(9, 6))\n",
    ")"
   ]
  },
  {
   "cell_type": "code",
   "execution_count": 67,
   "metadata": {},
   "outputs": [
    {
     "data": {
      "text/plain": [
       "0.45172644573166937"
      ]
     },
     "execution_count": 67,
     "metadata": {},
     "output_type": "execute_result"
    }
   ],
   "source": [
    "# посчитаем корреляцию цены квартиры и количества комнат\n",
    "df_after_emissions['last_price'].corr(df_after_emissions['rooms'])"
   ]
  },
  {
   "cell_type": "markdown",
   "metadata": {},
   "source": [
    "При увеличении комнат цена квартиры растет. Корреляция положительная, зависимость есть. На графике для 7 комнат провал, так как данных не так много для 7-ми комнатных квартир. "
   ]
  },
  {
   "cell_type": "code",
   "execution_count": 68,
   "metadata": {},
   "outputs": [
    {
     "data": {
      "text/plain": [
       "<matplotlib.axes._subplots.AxesSubplot at 0x7f6247a24310>"
      ]
     },
     "execution_count": 68,
     "metadata": {},
     "output_type": "execute_result"
    },
    {
     "data": {
      "image/png": "[encoded data removed]",
      "text/plain": [
       "<Figure size 648x432 with 1 Axes>"
      ]
     },
     "metadata": {
      "needs_background": "light"
     },
     "output_type": "display_data"
    }
   ],
   "source": [
    "# построим график зависимости цены квартиры от этажа\n",
    "(df_after_emissions\n",
    "    .pivot_table(index='apartment_floor', values='last_price', aggfunc='median')\n",
    "    .plot(grid=True, style='o-', figsize=(9, 6))\n",
    ")"
   ]
  },
  {
   "cell_type": "code",
   "execution_count": 69,
   "metadata": {},
   "outputs": [
    {
     "data": {
      "text/plain": [
       "0.12517101137265624"
      ]
     },
     "execution_count": 69,
     "metadata": {},
     "output_type": "execute_result"
    }
   ],
   "source": [
    "# посчитаем корреляцию цены квартиры и этажа\n",
    "df_after_emissions['floor'].corr(df_after_emissions['last_price'])"
   ]
  },
  {
   "cell_type": "markdown",
   "metadata": {},
   "source": [
    "Зависимость цены от этажа есть, но очень слабая. Цена квартир на первом этаже чуть ниже чем на других. "
   ]
  },
  {
   "cell_type": "code",
   "execution_count": 70,
   "metadata": {},
   "outputs": [
    {
     "data": {
      "text/plain": [
       "<matplotlib.axes._subplots.AxesSubplot at 0x7f623f217c10>"
      ]
     },
     "execution_count": 70,
     "metadata": {},
     "output_type": "execute_result"
    },
    {
     "data": {
      "image/png": "[encoded data removed]",
      "text/plain": [
       "<Figure size 648x432 with 1 Axes>"
      ]
     },
     "metadata": {
      "needs_background": "light"
     },
     "output_type": "display_data"
    }
   ],
   "source": [
    "# построим график зависимости цены квартиры от удаленности квартиры от центра города\n",
    "(df_after_emissions\n",
    "    .pivot_table(index='cityCenters_nearest', values='last_price', aggfunc='median')\n",
    "    .plot(grid=True, style='o', figsize=(9, 6))\n",
    ")"
   ]
  },
  {
   "cell_type": "code",
   "execution_count": 71,
   "metadata": {},
   "outputs": [
    {
     "data": {
      "text/plain": [
       "<matplotlib.axes._subplots.AxesSubplot at 0x7f623f1a2810>"
      ]
     },
     "execution_count": 71,
     "metadata": {},
     "output_type": "execute_result"
    },
    {
     "data": {
      "image/png": "[encoded data removed]",
      "text/plain": [
       "<Figure size 576x432 with 2 Axes>"
      ]
     },
     "metadata": {
      "needs_background": "light"
     },
     "output_type": "display_data"
    }
   ],
   "source": [
    "# построим график зависимости цены квартиры от удаленности квартиры от центра города\n",
    "(df_after_emissions.plot(x='cityCenters_nearest', y='last_price'\n",
    "                         , kind='hexbin', gridsize=20, figsize=(8, 6), sharex=False, grid=True)\n",
    ")"
   ]
  },
  {
   "cell_type": "code",
   "execution_count": 72,
   "metadata": {},
   "outputs": [
    {
     "data": {
      "text/plain": [
       "-0.24616037555260067"
      ]
     },
     "execution_count": 72,
     "metadata": {},
     "output_type": "execute_result"
    }
   ],
   "source": [
    "# посчитаем корреляцию цены квартиры и удаленности квартиры от центра города\n",
    "df_after_emissions['cityCenters_nearest'].corr(df_after_emissions['last_price'])"
   ]
  },
  {
   "cell_type": "markdown",
   "metadata": {},
   "source": [
    "Корреляция отрицательная, но и не сильная и не слабая. Можно сказать, что зависимость есть. Самая большая плотность продаж на на 12 км от центра города при цене квартиры в 3-4 млн.."
   ]
  },
  {
   "cell_type": "code",
   "execution_count": 73,
   "metadata": {},
   "outputs": [
    {
     "data": {
      "text/plain": [
       "<matplotlib.axes._subplots.AxesSubplot at 0x7f623f0e8990>"
      ]
     },
     "execution_count": 73,
     "metadata": {},
     "output_type": "execute_result"
    },
    {
     "data": {
      "image/png": "[encoded data removed]",
      "text/plain": [
       "<Figure size 576x288 with 1 Axes>"
      ]
     },
     "metadata": {
      "needs_background": "light"
     },
     "output_type": "display_data"
    }
   ],
   "source": [
    "# построим график зависимости количества размещения объявлений о продаже квартиры от дня недели размещения объявления\n",
    "(df_after_emissions\n",
    "    .pivot_table(index='day_of_week', values='last_price', aggfunc='count')\n",
    "    .plot(grid=True, style='o-', figsize=(8, 4), kind='bar')\n",
    ")"
   ]
  },
  {
   "cell_type": "code",
   "execution_count": 74,
   "metadata": {},
   "outputs": [
    {
     "data": {
      "text/plain": [
       "-0.009524961752298576"
      ]
     },
     "execution_count": 74,
     "metadata": {},
     "output_type": "execute_result"
    }
   ],
   "source": [
    "# посчитаем корреляцию цены квартиры и дня недели размещения объявления\n",
    "df_after_emissions['day_of_week'].corr(df_after_emissions['last_price'])"
   ]
  },
  {
   "cell_type": "markdown",
   "metadata": {},
   "source": [
    "Чаще всего объявления о продаже выставляются в будние дни. В выходные люди предпочитают отдохнуть. Зависимости между ценой и днем недели размещения объявления нет."
   ]
  },
  {
   "cell_type": "code",
   "execution_count": 75,
   "metadata": {
    "scrolled": true
   },
   "outputs": [
    {
     "data": {
      "text/plain": [
       "<matplotlib.axes._subplots.AxesSubplot at 0x7f623f0b0f50>"
      ]
     },
     "execution_count": 75,
     "metadata": {},
     "output_type": "execute_result"
    },
    {
     "data": {
      "image/png": "[encoded data removed]",
      "text/plain": [
       "<Figure size 576x288 with 1 Axes>"
      ]
     },
     "metadata": {
      "needs_background": "light"
     },
     "output_type": "display_data"
    }
   ],
   "source": [
    "# построим график зависимости количества размещения объявлений о продаже квартиры от месяца размещения объявления\n",
    "(df_after_emissions\n",
    "    .pivot_table(index='month', values='last_price', aggfunc='count')\n",
    "    .plot(grid=True, style='o-', figsize=(8, 4), kind='bar')\n",
    ")"
   ]
  },
  {
   "cell_type": "code",
   "execution_count": 76,
   "metadata": {},
   "outputs": [
    {
     "data": {
      "text/plain": [
       "0.0005807368780462038"
      ]
     },
     "execution_count": 76,
     "metadata": {},
     "output_type": "execute_result"
    }
   ],
   "source": [
    "# посчитаем корреляцию цены квартиры и месяца размещения объявления\n",
    "df_after_emissions['month'].corr(df_after_emissions['last_price'])"
   ]
  },
  {
   "cell_type": "markdown",
   "metadata": {},
   "source": [
    "Чаще всего объявления о продаже выставляются в феврале-марте-апреле и в ноябре. Обычно спрос на квартиры весной и перед новым годом маленький. Зависимости между ценой и месяцем размещения объявления нет."
   ]
  },
  {
   "cell_type": "code",
   "execution_count": 77,
   "metadata": {},
   "outputs": [
    {
     "data": {
      "text/plain": [
       "<matplotlib.axes._subplots.AxesSubplot at 0x7f623efeec90>"
      ]
     },
     "execution_count": 77,
     "metadata": {},
     "output_type": "execute_result"
    },
    {
     "data": {
      "image/png": "[encoded data removed]",
      "text/plain": [
       "<Figure size 576x288 with 1 Axes>"
      ]
     },
     "metadata": {
      "needs_background": "light"
     },
     "output_type": "display_data"
    }
   ],
   "source": [
    "# построим график зависимости количества размещения объявлений о продаже квартиры от года размещения объявления\n",
    "(df_after_emissions\n",
    "    .pivot_table(index='year', values='last_price', aggfunc='count')\n",
    "    .plot(grid=True, style='o-', figsize=(8, 4), kind='bar')\n",
    ")"
   ]
  },
  {
   "cell_type": "code",
   "execution_count": 78,
   "metadata": {},
   "outputs": [
    {
     "data": {
      "text/plain": [
       "0.03583423489759566"
      ]
     },
     "execution_count": 78,
     "metadata": {},
     "output_type": "execute_result"
    }
   ],
   "source": [
    "# посчитаем корреляцию цены квартиры и года размещения объявления\n",
    "df_after_emissions['year'].corr(df_after_emissions['last_price'])"
   ]
  },
  {
   "cell_type": "markdown",
   "metadata": {},
   "source": [
    "Чаще всего объявления продаж были в 2017 и 2018 году. Зависимости между ценой и годом размещения объявления нет."
   ]
  },
  {
   "cell_type": "markdown",
   "metadata": {},
   "source": [
    "Выберим 10 населённых пунктов с наибольшим числом объявлений. Посчитаем среднюю цену квадратного метра в этих населённых пунктах. Выделим населённые пункты с самой высокой и низкой стоимостью жилья."
   ]
  },
  {
   "cell_type": "code",
   "execution_count": 79,
   "metadata": {
    "scrolled": true
   },
   "outputs": [
    {
     "data": {
      "text/html": [
       "<div>\n",
       "<style scoped>\n",
       "    .dataframe tbody tr th:only-of-type {\n",
       "        vertical-align: middle;\n",
       "    }\n",
       "\n",
       "    .dataframe tbody tr th {\n",
       "        vertical-align: top;\n",
       "    }\n",
       "\n",
       "    .dataframe thead th {\n",
       "        text-align: right;\n",
       "    }\n",
       "</style>\n",
       "<table border=\"1\" class=\"dataframe\">\n",
       "  <thead>\n",
       "    <tr style=\"text-align: right;\">\n",
       "      <th></th>\n",
       "      <th>count</th>\n",
       "      <th>median</th>\n",
       "    </tr>\n",
       "    <tr>\n",
       "      <th>locality_name</th>\n",
       "      <th></th>\n",
       "      <th></th>\n",
       "    </tr>\n",
       "  </thead>\n",
       "  <tbody>\n",
       "    <tr>\n",
       "      <td>Санкт-Петербург</td>\n",
       "      <td>12447</td>\n",
       "      <td>101978.691020</td>\n",
       "    </tr>\n",
       "    <tr>\n",
       "      <td>Мурино</td>\n",
       "      <td>545</td>\n",
       "      <td>86272.475795</td>\n",
       "    </tr>\n",
       "    <tr>\n",
       "      <td>Кудрово</td>\n",
       "      <td>428</td>\n",
       "      <td>96136.887804</td>\n",
       "    </tr>\n",
       "    <tr>\n",
       "      <td>Шушары</td>\n",
       "      <td>407</td>\n",
       "      <td>76923.076923</td>\n",
       "    </tr>\n",
       "    <tr>\n",
       "      <td>Всеволожск</td>\n",
       "      <td>354</td>\n",
       "      <td>65789.473684</td>\n",
       "    </tr>\n",
       "    <tr>\n",
       "      <td>Колпино</td>\n",
       "      <td>314</td>\n",
       "      <td>74349.662162</td>\n",
       "    </tr>\n",
       "    <tr>\n",
       "      <td>Пушкин</td>\n",
       "      <td>308</td>\n",
       "      <td>98454.743209</td>\n",
       "    </tr>\n",
       "    <tr>\n",
       "      <td>Парголово</td>\n",
       "      <td>305</td>\n",
       "      <td>91346.153846</td>\n",
       "    </tr>\n",
       "    <tr>\n",
       "      <td>Гатчина</td>\n",
       "      <td>274</td>\n",
       "      <td>67671.510409</td>\n",
       "    </tr>\n",
       "    <tr>\n",
       "      <td>Выборг</td>\n",
       "      <td>210</td>\n",
       "      <td>58357.385977</td>\n",
       "    </tr>\n",
       "  </tbody>\n",
       "</table>\n",
       "</div>"
      ],
      "text/plain": [
       "                 count         median\n",
       "locality_name                        \n",
       "Санкт-Петербург  12447  101978.691020\n",
       "Мурино             545   86272.475795\n",
       "Кудрово            428   96136.887804\n",
       "Шушары             407   76923.076923\n",
       "Всеволожск         354   65789.473684\n",
       "Колпино            314   74349.662162\n",
       "Пушкин             308   98454.743209\n",
       "Парголово          305   91346.153846\n",
       "Гатчина            274   67671.510409\n",
       "Выборг             210   58357.385977"
      ]
     },
     "execution_count": 79,
     "metadata": {},
     "output_type": "execute_result"
    }
   ],
   "source": [
    "# отсортируем 10 населенных пунктов с наибольшим числом объявлений\n",
    "(df_after_emissions.pivot_table(index='locality_name', values='price_per_m2', aggfunc=('count','median'))\n",
    " .sort_values(by='count', ascending=False).head(10)\n",
    ")"
   ]
  },
  {
   "cell_type": "markdown",
   "metadata": {},
   "source": [
    "В Санкт-Петербурге больше всего объявлений и самая большая стоимость 1 кв.м.\n",
    "\n",
    "В Выборге меньше всего объявлений и самая низкая стоимость 1 кв.м."
   ]
  },
  {
   "cell_type": "markdown",
   "metadata": {},
   "source": [
    "Выясним, какая область входит в центр. Создадим столбец с расстоянием до центра в километрах: округлим до целых значений. После этого посчитаем среднюю цену для каждого километра. Построим график: он должен показывать, как цена зависит от удалённости от центра. Определим границу, где график сильно меняется, — это и будет центральная зона."
   ]
  },
  {
   "cell_type": "code",
   "execution_count": 80,
   "metadata": {},
   "outputs": [],
   "source": [
    "# создаем столбец с расстоянием до центра города в километрах\n",
    "df_after_emissions['cityCenters_nearest_km'] = df_after_emissions['cityCenters_nearest']/1000"
   ]
  },
  {
   "cell_type": "code",
   "execution_count": 81,
   "metadata": {},
   "outputs": [],
   "source": [
    "# посчитаем среднюю цену для каждого километра\n",
    "df_after_emissions['price_per_km'] = df_after_emissions['last_price']/df_after_emissions['cityCenters_nearest_km']"
   ]
  },
  {
   "cell_type": "code",
   "execution_count": 82,
   "metadata": {},
   "outputs": [],
   "source": [
    "# делаем срез по городу с наибольшим количеством объявлений\n",
    "apartments_in_spb = df_after_emissions.query('locality_name == \"Санкт-Петербург\"')"
   ]
  },
  {
   "cell_type": "code",
   "execution_count": 83,
   "metadata": {},
   "outputs": [
    {
     "data": {
      "text/plain": [
       "<matplotlib.axes._subplots.AxesSubplot at 0x7f623f05a450>"
      ]
     },
     "execution_count": 83,
     "metadata": {},
     "output_type": "execute_result"
    },
    {
     "data": {
      "image/png": "[encoded data removed]",
      "text/plain": [
       "<Figure size 864x432 with 1 Axes>"
      ]
     },
     "metadata": {
      "needs_background": "light"
     },
     "output_type": "display_data"
    }
   ],
   "source": [
    "# построим график зависимости цены одного километра от удаленности квартиры от центра города\n",
    "(apartments_in_spb\n",
    "    .pivot_table(index='cityCenters_nearest_km', values='price_per_km', aggfunc='median')\n",
    "    .plot(grid=True, style='o-', figsize=(12, 6), xlim=(0, 15))\n",
    ")"
   ]
  },
  {
   "cell_type": "markdown",
   "metadata": {},
   "source": [
    "Примерно на 6 км график перестает сильно меняться. Примем границу центра в 6 км. \n",
    "\n",
    "По результату отбросим все строчки, по которому выполняется условие: расстояние до центра города меньше 6 км."
   ]
  },
  {
   "cell_type": "code",
   "execution_count": 84,
   "metadata": {},
   "outputs": [],
   "source": [
    "# делаем срез по удаленности квартиры от центра города\n",
    "apartments_in_spb = apartments_in_spb.query('cityCenters_nearest_km < 6')"
   ]
  },
  {
   "cell_type": "markdown",
   "metadata": {},
   "source": [
    "Выделим сегмент квартир в центре. Изучим следующие параметры: площадь, цена, число комнат, высота потолков. Также выделим факторы, которые влияют на стоимость квартиры (число комнат, этаж, удалённость от центра, дата размещения объявления). Сделаем выводы, отличаются ли они от общих выводов по всему городу."
   ]
  },
  {
   "cell_type": "code",
   "execution_count": 85,
   "metadata": {},
   "outputs": [
    {
     "data": {
      "text/plain": [
       "<matplotlib.axes._subplots.AxesSubplot at 0x7f623ee91bd0>"
      ]
     },
     "execution_count": 85,
     "metadata": {},
     "output_type": "execute_result"
    },
    {
     "data": {
      "image/png": "[encoded data removed]",
      "text/plain": [
       "<Figure size 432x288 with 1 Axes>"
      ]
     },
     "metadata": {
      "needs_background": "light"
     },
     "output_type": "display_data"
    }
   ],
   "source": [
    "# построим гистограмму цены квартиры\n",
    "apartments_in_spb['last_price'].hist(bins=30)"
   ]
  },
  {
   "cell_type": "markdown",
   "metadata": {},
   "source": [
    "Чаще всего в центре города квартиры продаются за 7 млн.."
   ]
  },
  {
   "cell_type": "code",
   "execution_count": 86,
   "metadata": {},
   "outputs": [
    {
     "data": {
      "text/plain": [
       "<matplotlib.axes._subplots.AxesSubplot at 0x7f623d59b110>"
      ]
     },
     "execution_count": 86,
     "metadata": {},
     "output_type": "execute_result"
    },
    {
     "data": {
      "image/png": "[encoded data removed]",
      "text/plain": [
       "<Figure size 432x288 with 1 Axes>"
      ]
     },
     "metadata": {
      "needs_background": "light"
     },
     "output_type": "display_data"
    }
   ],
   "source": [
    "# построим гистограмму общей площади квартиры\n",
    "apartments_in_spb['total_area'].hist(bins=50)"
   ]
  },
  {
   "cell_type": "markdown",
   "metadata": {},
   "source": [
    "Чаще всего в центре города квартиры продаются с площадью 55-75 кв.м.."
   ]
  },
  {
   "cell_type": "code",
   "execution_count": 87,
   "metadata": {},
   "outputs": [
    {
     "data": {
      "text/plain": [
       "<matplotlib.axes._subplots.AxesSubplot at 0x7f623d4f2790>"
      ]
     },
     "execution_count": 87,
     "metadata": {},
     "output_type": "execute_result"
    },
    {
     "data": {
      "image/png": "[encoded data removed]",
      "text/plain": [
       "<Figure size 432x288 with 1 Axes>"
      ]
     },
     "metadata": {
      "needs_background": "light"
     },
     "output_type": "display_data"
    }
   ],
   "source": [
    "# построим гистограмму количества комнат \n",
    "apartments_in_spb['rooms'].hist(bins=30)"
   ]
  },
  {
   "cell_type": "markdown",
   "metadata": {},
   "source": [
    "Чаще всего в центре города продаются квартиры с 2 комнатами."
   ]
  },
  {
   "cell_type": "code",
   "execution_count": 88,
   "metadata": {},
   "outputs": [
    {
     "data": {
      "text/plain": [
       "<matplotlib.axes._subplots.AxesSubplot at 0x7f623d42b210>"
      ]
     },
     "execution_count": 88,
     "metadata": {},
     "output_type": "execute_result"
    },
    {
     "data": {
      "image/png": "[encoded data removed]",
      "text/plain": [
       "<Figure size 432x288 with 1 Axes>"
      ]
     },
     "metadata": {
      "needs_background": "light"
     },
     "output_type": "display_data"
    }
   ],
   "source": [
    "# построим гистограмму высоты потолков\n",
    "apartments_in_spb['ceiling_height'].hist(bins=30, range=(2.25, 4))"
   ]
  },
  {
   "cell_type": "markdown",
   "metadata": {},
   "source": [
    "Чаще всего в центре города продаются квартиры с высотой потолка 2,6 м."
   ]
  },
  {
   "cell_type": "code",
   "execution_count": 89,
   "metadata": {},
   "outputs": [],
   "source": [
    "# заменим название столбца, для того, чтобы было удобно различать графики\n",
    "apartments_in_spb.rename(columns={'last_price': 'last_price_in_spb'}, inplace=True)"
   ]
  },
  {
   "cell_type": "code",
   "execution_count": 90,
   "metadata": {},
   "outputs": [
    {
     "data": {
      "image/png": "[encoded data removed]",
      "text/plain": [
       "<Figure size 648x432 with 1 Axes>"
      ]
     },
     "metadata": {
      "needs_background": "light"
     },
     "output_type": "display_data"
    }
   ],
   "source": [
    "# построим график зависимости цены квартиры от количества комнат\n",
    "# по всему городу\n",
    "ax = (df_after_emissions\n",
    "    .pivot_table(index='rooms', values='last_price', aggfunc='median')\n",
    "    .plot(grid=True, style='o-', figsize=(9, 6))\n",
    ")\n",
    "\n",
    "# и по Санкт-Петербургу, где больше всего продаж квартир\n",
    "(apartments_in_spb\n",
    "    .pivot_table(index='rooms', values='last_price_in_spb', aggfunc='median')\n",
    "    .plot(grid=True, style='o-', figsize=(9, 6), ax=ax)\n",
    ")\n",
    "\n",
    "plt.show()"
   ]
  },
  {
   "cell_type": "markdown",
   "metadata": {},
   "source": [
    "С увеличением комнат увеличивается стоимость. График квартир в центре сдвинут вверх отностительно всех квартир, так ка в центре квартиры дороже. Самые дорогие 6 комнатные квартиры."
   ]
  },
  {
   "cell_type": "code",
   "execution_count": 91,
   "metadata": {},
   "outputs": [
    {
     "data": {
      "image/png": "[encoded data removed]",
      "text/plain": [
       "<Figure size 648x432 with 1 Axes>"
      ]
     },
     "metadata": {
      "needs_background": "light"
     },
     "output_type": "display_data"
    }
   ],
   "source": [
    "# построим график зависимости цены квартиры от этажа\n",
    "# по всему городу\n",
    "ax = (df_after_emissions\n",
    "    .pivot_table(index='apartment_floor', values='last_price', aggfunc='median')\n",
    "    .plot(grid=True, style='o-', figsize=(9, 6))\n",
    ")\n",
    "\n",
    "# и по Санкт-Петербургу, где больше всего продаж квартир\n",
    "(apartments_in_spb\n",
    "    .pivot_table(index='apartment_floor', values='last_price_in_spb', aggfunc='median')\n",
    "    .plot(grid=True, style='o-', figsize=(9, 6), ax=ax)\n",
    ")\n",
    "\n",
    "plt.show()"
   ]
  },
  {
   "cell_type": "markdown",
   "metadata": {},
   "source": [
    "В центральном районе цена квартиры на первом этаже сильно меньше по сравнению с последним этажом, чем цена квартиры на пераом и последнем этаже по всему городу. Также цены выше в центре города. "
   ]
  },
  {
   "cell_type": "code",
   "execution_count": 92,
   "metadata": {
    "scrolled": true
   },
   "outputs": [
    {
     "data": {
      "image/png": "[encoded data removed]",
      "text/plain": [
       "<Figure size 648x432 with 1 Axes>"
      ]
     },
     "metadata": {
      "needs_background": "light"
     },
     "output_type": "display_data"
    },
    {
     "data": {
      "image/png": "[encoded data removed]",
      "text/plain": [
       "<Figure size 648x432 with 1 Axes>"
      ]
     },
     "metadata": {
      "needs_background": "light"
     },
     "output_type": "display_data"
    }
   ],
   "source": [
    "# построим график зависимости цены квартиры от удаленности квартиры от центра города\n",
    "# по всему городу\n",
    "(df_after_emissions\n",
    "    .pivot_table(index='cityCenters_nearest', values='last_price', aggfunc='median')\n",
    "    .plot(grid=True, style='o', figsize=(9, 6))\n",
    ")\n",
    "\n",
    "# и по Санкт-Петербургу, где больше всего продаж квартир\n",
    "(apartments_in_spb\n",
    "    .pivot_table(index='cityCenters_nearest', values='last_price_in_spb', aggfunc='median')\n",
    "    .plot(grid=True, style='o', figsize=(9, 6))\n",
    ")\n",
    "plt.show()"
   ]
  },
  {
   "cell_type": "code",
   "execution_count": 93,
   "metadata": {},
   "outputs": [
    {
     "data": {
      "text/plain": [
       "<matplotlib.axes._subplots.AxesSubplot at 0x7f623d0a5290>"
      ]
     },
     "execution_count": 93,
     "metadata": {},
     "output_type": "execute_result"
    },
    {
     "data": {
      "image/png": "[encoded data removed]",
      "text/plain": [
       "<Figure size 576x432 with 2 Axes>"
      ]
     },
     "metadata": {
      "needs_background": "light"
     },
     "output_type": "display_data"
    },
    {
     "data": {
      "image/png": "[encoded data removed]",
      "text/plain": [
       "<Figure size 576x432 with 2 Axes>"
      ]
     },
     "metadata": {
      "needs_background": "light"
     },
     "output_type": "display_data"
    }
   ],
   "source": [
    "# построим график зависимости цены квартиры от удаленности квартиры от центра города\n",
    "# по всему городу\n",
    "(df_after_emissions.plot(x='cityCenters_nearest', y='last_price', kind='hexbin'\n",
    "                         , gridsize=20, figsize=(8, 6), sharex=False, grid=True)\n",
    ")\n",
    "\n",
    "# и по Санкт-Петербургу, где больше всего продаж квартир\n",
    "(apartments_in_spb.plot(x='cityCenters_nearest', y='last_price_in_spb', kind='hexbin'\n",
    "                        , gridsize=20, figsize=(8, 6), sharex=False, grid=True)\n",
    ")"
   ]
  },
  {
   "cell_type": "markdown",
   "metadata": {},
   "source": [
    "Цена большей части квартир по всему городу составляет 3-4 млн. на 12 км. \n",
    "\n",
    "Цена большей части квартир в центре города составляет 6-8 млн. на 4-5 км."
   ]
  },
  {
   "cell_type": "code",
   "execution_count": 94,
   "metadata": {
    "scrolled": true
   },
   "outputs": [
    {
     "data": {
      "image/png": "[encoded data removed]",
      "text/plain": [
       "<Figure size 648x432 with 1 Axes>"
      ]
     },
     "metadata": {
      "needs_background": "light"
     },
     "output_type": "display_data"
    }
   ],
   "source": [
    "# построим график зависимости цены квартиры от дня недели размещения объявления\n",
    "# по всему городу\n",
    "ax = (df_after_emissions\n",
    "    .pivot_table(index='day_of_week', values='last_price', aggfunc='count')\n",
    "    .plot(grid=True, style='o-', figsize=(9, 6))\n",
    ")\n",
    "\n",
    "# и по Санкт-Петербургу, где больше всего продаж квартир\n",
    "(apartments_in_spb\n",
    "    .pivot_table(index='day_of_week', values='last_price_in_spb', aggfunc='count')\n",
    "    .plot(grid=True, style='o-', figsize=(9, 6), ax=ax)\n",
    ")\n",
    "\n",
    "plt.show()"
   ]
  },
  {
   "cell_type": "markdown",
   "metadata": {},
   "source": [
    "Графики дня недели размещения объявления как по всему городу, так и в центре Санкт-Петербурга примерно одинаковые.  "
   ]
  },
  {
   "cell_type": "code",
   "execution_count": 95,
   "metadata": {
    "scrolled": true
   },
   "outputs": [
    {
     "data": {
      "image/png": "[encoded data removed]",
      "text/plain": [
       "<Figure size 648x432 with 1 Axes>"
      ]
     },
     "metadata": {
      "needs_background": "light"
     },
     "output_type": "display_data"
    }
   ],
   "source": [
    "# построим график зависимости цены квартиры от месяца размещения объявления\n",
    "# по всему городу\n",
    "ax = (df_after_emissions\n",
    "    .pivot_table(index='month', values='last_price', aggfunc='count')\n",
    "    .plot(grid=True, style='o-', figsize=(9, 6))\n",
    ")\n",
    "\n",
    "# и по Санкт-Петербургу, где больше всего продаж квартир\n",
    "(apartments_in_spb\n",
    "    .pivot_table(index='month', values='last_price_in_spb', aggfunc='count')\n",
    "    .plot(grid=True, style='o-', figsize=(9, 6), ax=ax)\n",
    ")\n",
    "\n",
    "plt.show()"
   ]
  },
  {
   "cell_type": "markdown",
   "metadata": {},
   "source": [
    "Графики месяца размещения объявления как по всему городу, так и в центре Санкт-Петербурга примерно одинаковые.  "
   ]
  },
  {
   "cell_type": "code",
   "execution_count": 96,
   "metadata": {
    "scrolled": true
   },
   "outputs": [
    {
     "data": {
      "image/png": "[encoded data removed]",
      "text/plain": [
       "<Figure size 648x432 with 1 Axes>"
      ]
     },
     "metadata": {
      "needs_background": "light"
     },
     "output_type": "display_data"
    }
   ],
   "source": [
    "# построим график зависимости цены квартиры от года размещения объявления\n",
    "# по всему городу\n",
    "ax = (df_after_emissions\n",
    "    .pivot_table(index='year', values='last_price', aggfunc='count')\n",
    "    .plot(grid=True, style='o-', figsize=(9, 6))\n",
    ")\n",
    "\n",
    "# и по Санкт-Петербургу, где больше всего продаж квартир\n",
    "(apartments_in_spb\n",
    "    .pivot_table(index='year', values='last_price_in_spb', aggfunc='count')\n",
    "    .plot(grid=True, style='o-', figsize=(9, 6), ax=ax)\n",
    ")\n",
    "\n",
    "plt.show()"
   ]
  },
  {
   "cell_type": "markdown",
   "metadata": {},
   "source": [
    "Графики года размещения объявления как по всему городу, так и в центре Санкт-Петербурга примерно одинаковые.  "
   ]
  },
  {
   "cell_type": "markdown",
   "metadata": {},
   "source": [
    "### Вывод"
   ]
  },
  {
   "cell_type": "markdown",
   "metadata": {},
   "source": [
    "По всему городу и Санкт-Петербургу корреляция цены и других парамтеров похожая. Отличие только в цене и площади. В центре города цена и площадь квартиры больше.\n",
    "\n",
    "Цена на квартиру зависит от площади, этажа, количества комнат и удаленности от центра города. "
   ]
  },
  {
   "cell_type": "markdown",
   "metadata": {},
   "source": [
    "## Общий вывод"
   ]
  },
  {
   "cell_type": "markdown",
   "metadata": {},
   "source": [
    "Общая картина часто продаваемых квартир по всему городу следующее: \n",
    "\n",
    "* площадь: 32-47 кв.м.,\n",
    "* цена: 3-5 млн.,\n",
    "* комнат: 1-2,\n",
    "* высота потолков: 2,7 м.\n",
    "\n",
    "Общая картина часто продаваемых квартир по Санкт-Петербургу: \n",
    "* площадь: 55-75 кв.м.,\n",
    "* цена: 7 млн.,\n",
    "* комнат: 2,\n",
    "* высота потолков: 2,6 м.\n",
    "\n",
    "Исследование показало, что корреляция цены большая с параметрами  площади, количества комнат, этажа и удаленности от центра города. С другими параметрами зависимость слабая."
   ]
  }
 ],
 "metadata": {
  "ExecuteTimeLog": [
   {
    "duration": 645,
    "start_time": "2022-02-10T22:08:38.191Z"
   },
   {
    "duration": 2522,
    "start_time": "2022-02-10T22:08:38.837Z"
   },
   {
    "duration": 497,
    "start_time": "2022-02-10T22:08:40.866Z"
   },
   {
    "duration": 494,
    "start_time": "2022-02-10T22:08:40.871Z"
   },
   {
    "duration": 492,
    "start_time": "2022-02-10T22:08:40.874Z"
   },
   {
    "duration": 490,
    "start_time": "2022-02-10T22:08:40.877Z"
   },
   {
    "duration": 488,
    "start_time": "2022-02-10T22:08:40.880Z"
   },
   {
    "duration": 485,
    "start_time": "2022-02-10T22:08:40.883Z"
   },
   {
    "duration": 481,
    "start_time": "2022-02-10T22:08:40.888Z"
   },
   {
    "duration": 480,
    "start_time": "2022-02-10T22:08:40.890Z"
   },
   {
    "duration": 477,
    "start_time": "2022-02-10T22:08:40.894Z"
   },
   {
    "duration": 474,
    "start_time": "2022-02-10T22:08:40.898Z"
   },
   {
    "duration": 472,
    "start_time": "2022-02-10T22:08:40.901Z"
   },
   {
    "duration": 469,
    "start_time": "2022-02-10T22:08:40.905Z"
   },
   {
    "duration": 466,
    "start_time": "2022-02-10T22:08:40.908Z"
   },
   {
    "duration": 465,
    "start_time": "2022-02-10T22:08:40.910Z"
   },
   {
    "duration": 463,
    "start_time": "2022-02-10T22:08:40.913Z"
   },
   {
    "duration": 462,
    "start_time": "2022-02-10T22:08:40.915Z"
   },
   {
    "duration": 458,
    "start_time": "2022-02-10T22:08:40.920Z"
   },
   {
    "duration": 448,
    "start_time": "2022-02-10T22:08:40.931Z"
   },
   {
    "duration": 443,
    "start_time": "2022-02-10T22:08:40.936Z"
   },
   {
    "duration": 441,
    "start_time": "2022-02-10T22:08:40.939Z"
   },
   {
    "duration": 439,
    "start_time": "2022-02-10T22:08:40.942Z"
   },
   {
    "duration": 438,
    "start_time": "2022-02-10T22:08:40.944Z"
   },
   {
    "duration": 436,
    "start_time": "2022-02-10T22:08:40.947Z"
   },
   {
    "duration": 435,
    "start_time": "2022-02-10T22:08:40.949Z"
   },
   {
    "duration": 430,
    "start_time": "2022-02-10T22:08:40.954Z"
   },
   {
    "duration": 429,
    "start_time": "2022-02-10T22:08:40.956Z"
   },
   {
    "duration": 427,
    "start_time": "2022-02-10T22:08:40.959Z"
   },
   {
    "duration": 425,
    "start_time": "2022-02-10T22:08:40.962Z"
   },
   {
    "duration": 424,
    "start_time": "2022-02-10T22:08:40.964Z"
   },
   {
    "duration": 422,
    "start_time": "2022-02-10T22:08:40.966Z"
   },
   {
    "duration": 419,
    "start_time": "2022-02-10T22:08:40.970Z"
   },
   {
    "duration": 417,
    "start_time": "2022-02-10T22:08:40.973Z"
   },
   {
    "duration": 416,
    "start_time": "2022-02-10T22:08:40.975Z"
   },
   {
    "duration": 414,
    "start_time": "2022-02-10T22:08:40.978Z"
   },
   {
    "duration": 411,
    "start_time": "2022-02-10T22:08:40.981Z"
   },
   {
    "duration": 407,
    "start_time": "2022-02-10T22:08:40.986Z"
   },
   {
    "duration": 404,
    "start_time": "2022-02-10T22:08:40.990Z"
   },
   {
    "duration": 402,
    "start_time": "2022-02-10T22:08:40.993Z"
   },
   {
    "duration": 399,
    "start_time": "2022-02-10T22:08:40.996Z"
   },
   {
    "duration": 396,
    "start_time": "2022-02-10T22:08:41.000Z"
   },
   {
    "duration": 393,
    "start_time": "2022-02-10T22:08:41.004Z"
   },
   {
    "duration": 391,
    "start_time": "2022-02-10T22:08:41.007Z"
   },
   {
    "duration": 388,
    "start_time": "2022-02-10T22:08:41.011Z"
   },
   {
    "duration": 386,
    "start_time": "2022-02-10T22:08:41.013Z"
   },
   {
    "duration": 384,
    "start_time": "2022-02-10T22:08:41.016Z"
   },
   {
    "duration": 406,
    "start_time": "2022-02-10T22:08:41.021Z"
   },
   {
    "duration": 403,
    "start_time": "2022-02-10T22:08:41.024Z"
   },
   {
    "duration": 401,
    "start_time": "2022-02-10T22:08:41.027Z"
   },
   {
    "duration": 389,
    "start_time": "2022-02-10T22:08:41.040Z"
   },
   {
    "duration": 387,
    "start_time": "2022-02-10T22:08:41.043Z"
   },
   {
    "duration": 384,
    "start_time": "2022-02-10T22:08:41.046Z"
   },
   {
    "duration": 383,
    "start_time": "2022-02-10T22:08:41.048Z"
   },
   {
    "duration": 378,
    "start_time": "2022-02-10T22:08:41.054Z"
   },
   {
    "duration": 376,
    "start_time": "2022-02-10T22:08:41.056Z"
   },
   {
    "duration": 374,
    "start_time": "2022-02-10T22:08:41.059Z"
   },
   {
    "duration": 371,
    "start_time": "2022-02-10T22:08:41.063Z"
   },
   {
    "duration": 369,
    "start_time": "2022-02-10T22:08:41.066Z"
   },
   {
    "duration": 366,
    "start_time": "2022-02-10T22:08:41.070Z"
   },
   {
    "duration": 365,
    "start_time": "2022-02-10T22:08:41.072Z"
   },
   {
    "duration": 363,
    "start_time": "2022-02-10T22:08:41.075Z"
   },
   {
    "duration": 361,
    "start_time": "2022-02-10T22:08:41.077Z"
   },
   {
    "duration": 359,
    "start_time": "2022-02-10T22:08:41.080Z"
   },
   {
    "duration": 358,
    "start_time": "2022-02-10T22:08:41.082Z"
   },
   {
    "duration": 355,
    "start_time": "2022-02-10T22:08:41.086Z"
   },
   {
    "duration": 353,
    "start_time": "2022-02-10T22:08:41.088Z"
   },
   {
    "duration": 351,
    "start_time": "2022-02-10T22:08:41.091Z"
   },
   {
    "duration": 350,
    "start_time": "2022-02-10T22:08:41.093Z"
   },
   {
    "duration": 348,
    "start_time": "2022-02-10T22:08:41.096Z"
   },
   {
    "duration": 347,
    "start_time": "2022-02-10T22:08:41.098Z"
   },
   {
    "duration": 344,
    "start_time": "2022-02-10T22:08:41.102Z"
   },
   {
    "duration": 341,
    "start_time": "2022-02-10T22:08:41.105Z"
   },
   {
    "duration": 340,
    "start_time": "2022-02-10T22:08:41.107Z"
   },
   {
    "duration": 338,
    "start_time": "2022-02-10T22:08:41.110Z"
   },
   {
    "duration": 313,
    "start_time": "2022-02-10T22:08:41.136Z"
   },
   {
    "duration": 280,
    "start_time": "2022-02-10T22:08:41.170Z"
   },
   {
    "duration": 277,
    "start_time": "2022-02-10T22:08:41.173Z"
   },
   {
    "duration": 270,
    "start_time": "2022-02-10T22:08:41.181Z"
   },
   {
    "duration": 268,
    "start_time": "2022-02-10T22:08:41.184Z"
   },
   {
    "duration": 265,
    "start_time": "2022-02-10T22:08:41.188Z"
   },
   {
    "duration": 264,
    "start_time": "2022-02-10T22:08:41.190Z"
   },
   {
    "duration": 262,
    "start_time": "2022-02-10T22:08:41.193Z"
   },
   {
    "duration": 257,
    "start_time": "2022-02-10T22:08:41.199Z"
   },
   {
    "duration": 253,
    "start_time": "2022-02-10T22:08:41.204Z"
   },
   {
    "duration": 251,
    "start_time": "2022-02-10T22:08:41.206Z"
   },
   {
    "duration": 246,
    "start_time": "2022-02-10T22:08:41.212Z"
   },
   {
    "duration": 245,
    "start_time": "2022-02-10T22:08:41.214Z"
   },
   {
    "duration": 239,
    "start_time": "2022-02-10T22:08:41.221Z"
   },
   {
    "duration": 237,
    "start_time": "2022-02-10T22:08:41.223Z"
   },
   {
    "duration": 235,
    "start_time": "2022-02-10T22:08:41.226Z"
   },
   {
    "duration": 234,
    "start_time": "2022-02-10T22:08:41.228Z"
   },
   {
    "duration": 231,
    "start_time": "2022-02-10T22:08:41.232Z"
   },
   {
    "duration": 228,
    "start_time": "2022-02-10T22:08:41.236Z"
   },
   {
    "duration": 288,
    "start_time": "2022-02-10T22:08:41.239Z"
   },
   {
    "duration": 704,
    "start_time": "2022-02-10T22:09:43.590Z"
   },
   {
    "duration": 62,
    "start_time": "2022-02-10T22:09:44.296Z"
   },
   {
    "duration": 23,
    "start_time": "2022-02-10T22:09:44.360Z"
   },
   {
    "duration": 10,
    "start_time": "2022-02-10T22:09:44.385Z"
   },
   {
    "duration": 5,
    "start_time": "2022-02-10T22:09:44.397Z"
   },
   {
    "duration": 9,
    "start_time": "2022-02-10T22:09:44.427Z"
   },
   {
    "duration": 10,
    "start_time": "2022-02-10T22:09:44.437Z"
   },
   {
    "duration": 5,
    "start_time": "2022-02-10T22:09:44.450Z"
   },
   {
    "duration": 8,
    "start_time": "2022-02-10T22:09:44.457Z"
   },
   {
    "duration": 7,
    "start_time": "2022-02-10T22:09:44.466Z"
   },
   {
    "duration": 5,
    "start_time": "2022-02-10T22:09:44.474Z"
   },
   {
    "duration": 49,
    "start_time": "2022-02-10T22:09:44.480Z"
   },
   {
    "duration": 10,
    "start_time": "2022-02-10T22:09:44.530Z"
   },
   {
    "duration": 5,
    "start_time": "2022-02-10T22:09:44.541Z"
   },
   {
    "duration": 5,
    "start_time": "2022-02-10T22:09:44.547Z"
   },
   {
    "duration": 8,
    "start_time": "2022-02-10T22:09:44.553Z"
   },
   {
    "duration": 5,
    "start_time": "2022-02-10T22:09:44.562Z"
   },
   {
    "duration": 8,
    "start_time": "2022-02-10T22:09:44.568Z"
   },
   {
    "duration": 5,
    "start_time": "2022-02-10T22:09:44.578Z"
   },
   {
    "duration": 44,
    "start_time": "2022-02-10T22:09:44.584Z"
   },
   {
    "duration": 5,
    "start_time": "2022-02-10T22:09:44.629Z"
   },
   {
    "duration": 9,
    "start_time": "2022-02-10T22:09:44.635Z"
   },
   {
    "duration": 5,
    "start_time": "2022-02-10T22:09:44.647Z"
   },
   {
    "duration": 8,
    "start_time": "2022-02-10T22:09:44.654Z"
   },
   {
    "duration": 4,
    "start_time": "2022-02-10T22:09:44.664Z"
   },
   {
    "duration": 8,
    "start_time": "2022-02-10T22:09:44.670Z"
   },
   {
    "duration": 4,
    "start_time": "2022-02-10T22:09:44.680Z"
   },
   {
    "duration": 48,
    "start_time": "2022-02-10T22:09:44.686Z"
   },
   {
    "duration": 5,
    "start_time": "2022-02-10T22:09:44.735Z"
   },
   {
    "duration": 6,
    "start_time": "2022-02-10T22:09:44.741Z"
   },
   {
    "duration": 5,
    "start_time": "2022-02-10T22:09:44.748Z"
   },
   {
    "duration": 4,
    "start_time": "2022-02-10T22:09:44.754Z"
   },
   {
    "duration": 5,
    "start_time": "2022-02-10T22:09:44.759Z"
   },
   {
    "duration": 4,
    "start_time": "2022-02-10T22:09:44.765Z"
   },
   {
    "duration": 5,
    "start_time": "2022-02-10T22:09:44.771Z"
   },
   {
    "duration": 4,
    "start_time": "2022-02-10T22:09:44.778Z"
   },
   {
    "duration": 7,
    "start_time": "2022-02-10T22:09:44.783Z"
   },
   {
    "duration": 5,
    "start_time": "2022-02-10T22:09:44.791Z"
   },
   {
    "duration": 4,
    "start_time": "2022-02-10T22:09:44.827Z"
   },
   {
    "duration": 4,
    "start_time": "2022-02-10T22:09:44.833Z"
   },
   {
    "duration": 8,
    "start_time": "2022-02-10T22:09:44.838Z"
   },
   {
    "duration": 6,
    "start_time": "2022-02-10T22:09:44.848Z"
   },
   {
    "duration": 7,
    "start_time": "2022-02-10T22:09:44.855Z"
   },
   {
    "duration": 5,
    "start_time": "2022-02-10T22:09:44.863Z"
   },
   {
    "duration": 5,
    "start_time": "2022-02-10T22:09:44.869Z"
   },
   {
    "duration": 3,
    "start_time": "2022-02-10T22:09:44.875Z"
   },
   {
    "duration": 450,
    "start_time": "2022-02-10T22:09:44.879Z"
   },
   {
    "duration": 4,
    "start_time": "2022-02-10T22:09:45.330Z"
   },
   {
    "duration": 6,
    "start_time": "2022-02-10T22:09:45.335Z"
   },
   {
    "duration": 321,
    "start_time": "2022-02-10T22:09:45.342Z"
   },
   {
    "duration": 289,
    "start_time": "2022-02-10T22:09:45.664Z"
   },
   {
    "duration": 217,
    "start_time": "2022-02-10T22:09:45.955Z"
   },
   {
    "duration": 219,
    "start_time": "2022-02-10T22:09:46.174Z"
   },
   {
    "duration": 279,
    "start_time": "2022-02-10T22:09:46.394Z"
   },
   {
    "duration": 6,
    "start_time": "2022-02-10T22:09:46.675Z"
   },
   {
    "duration": 127,
    "start_time": "2022-02-10T22:09:46.683Z"
   },
   {
    "duration": 9,
    "start_time": "2022-02-10T22:09:46.811Z"
   },
   {
    "duration": 277,
    "start_time": "2022-02-10T22:09:46.821Z"
   },
   {
    "duration": 6,
    "start_time": "2022-02-10T22:09:47.100Z"
   },
   {
    "duration": 128,
    "start_time": "2022-02-10T22:09:47.108Z"
   },
   {
    "duration": 10,
    "start_time": "2022-02-10T22:09:47.238Z"
   },
   {
    "duration": 345,
    "start_time": "2022-02-10T22:09:47.249Z"
   },
   {
    "duration": 385,
    "start_time": "2022-02-10T22:09:47.595Z"
   },
   {
    "duration": 4,
    "start_time": "2022-02-10T22:09:47.982Z"
   },
   {
    "duration": 208,
    "start_time": "2022-02-10T22:09:47.987Z"
   },
   {
    "duration": 4,
    "start_time": "2022-02-10T22:09:48.196Z"
   },
   {
    "duration": 183,
    "start_time": "2022-02-10T22:09:48.201Z"
   },
   {
    "duration": 4,
    "start_time": "2022-02-10T22:09:48.388Z"
   },
   {
    "duration": 227,
    "start_time": "2022-02-10T22:09:48.394Z"
   },
   {
    "duration": 277,
    "start_time": "2022-02-10T22:09:48.622Z"
   },
   {
    "duration": 4,
    "start_time": "2022-02-10T22:09:48.901Z"
   },
   {
    "duration": 168,
    "start_time": "2022-02-10T22:09:48.906Z"
   },
   {
    "duration": 4,
    "start_time": "2022-02-10T22:09:49.076Z"
   },
   {
    "duration": 186,
    "start_time": "2022-02-10T22:09:49.082Z"
   },
   {
    "duration": 6,
    "start_time": "2022-02-10T22:09:49.270Z"
   },
   {
    "duration": 168,
    "start_time": "2022-02-10T22:09:49.277Z"
   },
   {
    "duration": 4,
    "start_time": "2022-02-10T22:09:49.446Z"
   },
   {
    "duration": 18,
    "start_time": "2022-02-10T22:09:49.451Z"
   },
   {
    "duration": 4,
    "start_time": "2022-02-10T22:09:49.470Z"
   },
   {
    "duration": 5,
    "start_time": "2022-02-10T22:09:49.475Z"
   },
   {
    "duration": 9,
    "start_time": "2022-02-10T22:09:49.481Z"
   },
   {
    "duration": 244,
    "start_time": "2022-02-10T22:09:49.492Z"
   },
   {
    "duration": 6,
    "start_time": "2022-02-10T22:09:49.738Z"
   },
   {
    "duration": 260,
    "start_time": "2022-02-10T22:09:49.745Z"
   },
   {
    "duration": 207,
    "start_time": "2022-02-10T22:09:50.007Z"
   },
   {
    "duration": 183,
    "start_time": "2022-02-10T22:09:50.216Z"
   },
   {
    "duration": 202,
    "start_time": "2022-02-10T22:09:50.401Z"
   },
   {
    "duration": 4,
    "start_time": "2022-02-10T22:09:50.604Z"
   },
   {
    "duration": 221,
    "start_time": "2022-02-10T22:09:50.609Z"
   },
   {
    "duration": 204,
    "start_time": "2022-02-10T22:09:50.831Z"
   },
   {
    "duration": 422,
    "start_time": "2022-02-10T22:09:51.036Z"
   },
   {
    "duration": 558,
    "start_time": "2022-02-10T22:09:51.460Z"
   },
   {
    "duration": 210,
    "start_time": "2022-02-10T22:09:52.019Z"
   },
   {
    "duration": 207,
    "start_time": "2022-02-10T22:09:52.230Z"
   },
   {
    "duration": 306,
    "start_time": "2022-02-10T22:09:52.438Z"
   },
   {
    "duration": 389,
    "start_time": "2022-02-18T07:18:40.443Z"
   },
   {
    "duration": 700,
    "start_time": "2022-02-18T07:18:45.743Z"
   },
   {
    "duration": 75,
    "start_time": "2022-02-18T07:18:46.445Z"
   },
   {
    "duration": 23,
    "start_time": "2022-02-18T07:18:46.522Z"
   },
   {
    "duration": 9,
    "start_time": "2022-02-18T07:18:46.547Z"
   },
   {
    "duration": 5,
    "start_time": "2022-02-18T07:18:46.558Z"
   },
   {
    "duration": 11,
    "start_time": "2022-02-18T07:18:46.564Z"
   },
   {
    "duration": 5,
    "start_time": "2022-02-18T07:18:46.577Z"
   },
   {
    "duration": 10,
    "start_time": "2022-02-18T07:19:06.168Z"
   },
   {
    "duration": 7,
    "start_time": "2022-02-18T07:19:53.080Z"
   },
   {
    "duration": 6,
    "start_time": "2022-02-18T07:20:04.354Z"
   },
   {
    "duration": 7,
    "start_time": "2022-02-18T07:36:27.836Z"
   },
   {
    "duration": 7,
    "start_time": "2022-02-18T07:36:43.774Z"
   },
   {
    "duration": 7,
    "start_time": "2022-02-18T07:37:17.997Z"
   },
   {
    "duration": 8,
    "start_time": "2022-02-18T07:37:23.157Z"
   },
   {
    "duration": 39,
    "start_time": "2022-02-18T07:42:21.510Z"
   },
   {
    "duration": 31,
    "start_time": "2022-02-18T07:42:58.399Z"
   },
   {
    "duration": 8,
    "start_time": "2022-02-18T07:43:15.014Z"
   },
   {
    "duration": 12,
    "start_time": "2022-02-18T09:17:12.999Z"
   },
   {
    "duration": 8,
    "start_time": "2022-02-18T09:17:16.029Z"
   },
   {
    "duration": 4,
    "start_time": "2022-02-18T09:44:42.587Z"
   },
   {
    "duration": 7,
    "start_time": "2022-02-18T09:44:44.610Z"
   },
   {
    "duration": 5,
    "start_time": "2022-02-18T09:45:15.479Z"
   },
   {
    "duration": 8,
    "start_time": "2022-02-18T09:45:16.596Z"
   },
   {
    "duration": 4,
    "start_time": "2022-02-18T09:45:23.104Z"
   },
   {
    "duration": 11,
    "start_time": "2022-02-18T09:45:23.610Z"
   },
   {
    "duration": 3,
    "start_time": "2022-02-18T09:45:28.713Z"
   },
   {
    "duration": 93,
    "start_time": "2022-02-18T09:45:28.719Z"
   },
   {
    "duration": 36,
    "start_time": "2022-02-18T09:45:28.814Z"
   },
   {
    "duration": 16,
    "start_time": "2022-02-18T09:45:28.852Z"
   },
   {
    "duration": 14,
    "start_time": "2022-02-18T09:45:28.870Z"
   },
   {
    "duration": 15,
    "start_time": "2022-02-18T09:45:28.886Z"
   },
   {
    "duration": 3,
    "start_time": "2022-02-18T09:45:28.903Z"
   },
   {
    "duration": 12,
    "start_time": "2022-02-18T09:45:28.908Z"
   },
   {
    "duration": 3,
    "start_time": "2022-02-18T09:45:38.743Z"
   },
   {
    "duration": 79,
    "start_time": "2022-02-18T09:45:38.748Z"
   },
   {
    "duration": 25,
    "start_time": "2022-02-18T09:45:38.829Z"
   },
   {
    "duration": 31,
    "start_time": "2022-02-18T09:45:38.855Z"
   },
   {
    "duration": 14,
    "start_time": "2022-02-18T09:45:38.889Z"
   },
   {
    "duration": 16,
    "start_time": "2022-02-18T09:45:38.905Z"
   },
   {
    "duration": 5,
    "start_time": "2022-02-18T09:45:38.925Z"
   },
   {
    "duration": 18,
    "start_time": "2022-02-18T09:45:38.932Z"
   },
   {
    "duration": 12,
    "start_time": "2022-02-18T09:47:58.988Z"
   },
   {
    "duration": 9,
    "start_time": "2022-02-18T09:47:59.478Z"
   },
   {
    "duration": 2,
    "start_time": "2022-02-18T09:48:06.545Z"
   },
   {
    "duration": 87,
    "start_time": "2022-02-18T09:48:06.549Z"
   },
   {
    "duration": 30,
    "start_time": "2022-02-18T09:48:06.638Z"
   },
   {
    "duration": 14,
    "start_time": "2022-02-18T09:48:06.670Z"
   },
   {
    "duration": 6,
    "start_time": "2022-02-18T09:48:06.685Z"
   },
   {
    "duration": 10,
    "start_time": "2022-02-18T09:48:06.693Z"
   },
   {
    "duration": 18,
    "start_time": "2022-02-18T09:48:06.705Z"
   },
   {
    "duration": 26,
    "start_time": "2022-02-18T09:48:06.725Z"
   },
   {
    "duration": 12,
    "start_time": "2022-02-18T09:53:49.026Z"
   },
   {
    "duration": 8,
    "start_time": "2022-02-18T09:53:49.468Z"
   },
   {
    "duration": 2,
    "start_time": "2022-02-18T09:53:53.275Z"
   },
   {
    "duration": 63,
    "start_time": "2022-02-18T09:53:53.279Z"
   },
   {
    "duration": 18,
    "start_time": "2022-02-18T09:53:53.344Z"
   },
   {
    "duration": 15,
    "start_time": "2022-02-18T09:53:53.364Z"
   },
   {
    "duration": 6,
    "start_time": "2022-02-18T09:53:53.381Z"
   },
   {
    "duration": 10,
    "start_time": "2022-02-18T09:53:53.389Z"
   },
   {
    "duration": 18,
    "start_time": "2022-02-18T09:53:53.401Z"
   },
   {
    "duration": 30,
    "start_time": "2022-02-18T09:53:53.420Z"
   },
   {
    "duration": 12,
    "start_time": "2022-02-18T09:54:05.338Z"
   },
   {
    "duration": 9,
    "start_time": "2022-02-18T09:54:05.938Z"
   },
   {
    "duration": 3,
    "start_time": "2022-02-18T09:54:10.032Z"
   },
   {
    "duration": 74,
    "start_time": "2022-02-18T09:54:10.036Z"
   },
   {
    "duration": 20,
    "start_time": "2022-02-18T09:54:10.111Z"
   },
   {
    "duration": 13,
    "start_time": "2022-02-18T09:54:10.133Z"
   },
   {
    "duration": 6,
    "start_time": "2022-02-18T09:54:10.148Z"
   },
   {
    "duration": 14,
    "start_time": "2022-02-18T09:54:10.155Z"
   },
   {
    "duration": 21,
    "start_time": "2022-02-18T09:54:10.172Z"
   },
   {
    "duration": 10,
    "start_time": "2022-02-18T09:54:10.194Z"
   },
   {
    "duration": 13,
    "start_time": "2022-02-18T09:54:41.592Z"
   },
   {
    "duration": 9,
    "start_time": "2022-02-18T09:54:41.946Z"
   },
   {
    "duration": 3,
    "start_time": "2022-02-18T09:54:45.750Z"
   },
   {
    "duration": 65,
    "start_time": "2022-02-18T09:54:45.755Z"
   },
   {
    "duration": 20,
    "start_time": "2022-02-18T09:54:45.822Z"
   },
   {
    "duration": 15,
    "start_time": "2022-02-18T09:54:45.844Z"
   },
   {
    "duration": 5,
    "start_time": "2022-02-18T09:54:45.860Z"
   },
   {
    "duration": 9,
    "start_time": "2022-02-18T09:54:45.867Z"
   },
   {
    "duration": 14,
    "start_time": "2022-02-18T09:54:45.877Z"
   },
   {
    "duration": 7,
    "start_time": "2022-02-18T09:54:45.894Z"
   },
   {
    "duration": 13,
    "start_time": "2022-02-18T09:54:56.136Z"
   },
   {
    "duration": 9,
    "start_time": "2022-02-18T09:54:56.489Z"
   },
   {
    "duration": 3,
    "start_time": "2022-02-18T09:55:01.001Z"
   },
   {
    "duration": 107,
    "start_time": "2022-02-18T09:55:01.006Z"
   },
   {
    "duration": 32,
    "start_time": "2022-02-18T09:55:01.115Z"
   },
   {
    "duration": 20,
    "start_time": "2022-02-18T09:55:01.149Z"
   },
   {
    "duration": 12,
    "start_time": "2022-02-18T09:55:01.170Z"
   },
   {
    "duration": 10,
    "start_time": "2022-02-18T09:55:01.184Z"
   },
   {
    "duration": 13,
    "start_time": "2022-02-18T09:55:01.196Z"
   },
   {
    "duration": 15,
    "start_time": "2022-02-18T09:55:01.211Z"
   },
   {
    "duration": 338,
    "start_time": "2022-02-18T09:55:29.293Z"
   },
   {
    "duration": 7,
    "start_time": "2022-02-18T09:55:29.751Z"
   },
   {
    "duration": 2,
    "start_time": "2022-02-18T09:55:33.906Z"
   },
   {
    "duration": 69,
    "start_time": "2022-02-18T09:55:33.910Z"
   },
   {
    "duration": 20,
    "start_time": "2022-02-18T09:55:33.981Z"
   },
   {
    "duration": 12,
    "start_time": "2022-02-18T09:55:34.003Z"
   },
   {
    "duration": 5,
    "start_time": "2022-02-18T09:55:34.017Z"
   },
   {
    "duration": 31,
    "start_time": "2022-02-18T09:55:34.023Z"
   },
   {
    "duration": 342,
    "start_time": "2022-02-18T09:55:34.055Z"
   },
   {
    "duration": 1173,
    "start_time": "2022-02-18T09:55:33.226Z"
   },
   {
    "duration": 317,
    "start_time": "2022-02-18T09:55:51.815Z"
   },
   {
    "duration": 3,
    "start_time": "2022-02-18T09:58:24.799Z"
   },
   {
    "duration": 64,
    "start_time": "2022-02-18T09:58:24.803Z"
   },
   {
    "duration": 21,
    "start_time": "2022-02-18T09:58:24.869Z"
   },
   {
    "duration": 14,
    "start_time": "2022-02-18T09:58:24.892Z"
   },
   {
    "duration": 5,
    "start_time": "2022-02-18T09:58:24.908Z"
   },
   {
    "duration": 8,
    "start_time": "2022-02-18T09:58:24.914Z"
   },
   {
    "duration": 29,
    "start_time": "2022-02-18T09:58:24.924Z"
   },
   {
    "duration": 11,
    "start_time": "2022-02-18T09:58:24.955Z"
   },
   {
    "duration": 438,
    "start_time": "2022-02-18T13:05:21.947Z"
   },
   {
    "duration": 360,
    "start_time": "2022-02-18T13:05:22.446Z"
   },
   {
    "duration": 945,
    "start_time": "2022-02-18T13:05:26.738Z"
   },
   {
    "duration": 90,
    "start_time": "2022-02-18T13:05:27.685Z"
   },
   {
    "duration": 49,
    "start_time": "2022-02-18T13:05:27.779Z"
   },
   {
    "duration": 18,
    "start_time": "2022-02-18T13:05:27.832Z"
   },
   {
    "duration": 8,
    "start_time": "2022-02-18T13:05:27.853Z"
   },
   {
    "duration": 56,
    "start_time": "2022-02-18T13:05:27.864Z"
   },
   {
    "duration": 58,
    "start_time": "2022-02-18T13:05:27.923Z"
   },
   {
    "duration": 16,
    "start_time": "2022-02-18T13:05:28.011Z"
   },
   {
    "duration": 135,
    "start_time": "2022-02-18T13:05:28.031Z"
   },
   {
    "duration": 423,
    "start_time": "2022-02-18T13:05:27.753Z"
   },
   {
    "duration": 421,
    "start_time": "2022-02-18T13:05:27.757Z"
   },
   {
    "duration": 419,
    "start_time": "2022-02-18T13:05:27.761Z"
   },
   {
    "duration": 415,
    "start_time": "2022-02-18T13:05:27.767Z"
   },
   {
    "duration": 413,
    "start_time": "2022-02-18T13:05:27.771Z"
   },
   {
    "duration": 411,
    "start_time": "2022-02-18T13:05:27.775Z"
   },
   {
    "duration": 410,
    "start_time": "2022-02-18T13:05:27.778Z"
   },
   {
    "duration": 408,
    "start_time": "2022-02-18T13:05:27.782Z"
   },
   {
    "duration": 406,
    "start_time": "2022-02-18T13:05:27.786Z"
   },
   {
    "duration": 403,
    "start_time": "2022-02-18T13:05:27.791Z"
   },
   {
    "duration": 401,
    "start_time": "2022-02-18T13:05:27.795Z"
   },
   {
    "duration": 396,
    "start_time": "2022-02-18T13:05:27.802Z"
   },
   {
    "duration": 394,
    "start_time": "2022-02-18T13:05:27.806Z"
   },
   {
    "duration": 392,
    "start_time": "2022-02-18T13:05:27.810Z"
   },
   {
    "duration": 391,
    "start_time": "2022-02-18T13:05:27.814Z"
   },
   {
    "duration": 390,
    "start_time": "2022-02-18T13:05:27.817Z"
   },
   {
    "duration": 388,
    "start_time": "2022-02-18T13:05:27.821Z"
   },
   {
    "duration": 386,
    "start_time": "2022-02-18T13:05:27.825Z"
   },
   {
    "duration": 386,
    "start_time": "2022-02-18T13:05:27.828Z"
   },
   {
    "duration": 382,
    "start_time": "2022-02-18T13:05:27.833Z"
   },
   {
    "duration": 381,
    "start_time": "2022-02-18T13:05:27.837Z"
   },
   {
    "duration": 379,
    "start_time": "2022-02-18T13:05:27.841Z"
   },
   {
    "duration": 366,
    "start_time": "2022-02-18T13:05:27.856Z"
   },
   {
    "duration": 364,
    "start_time": "2022-02-18T13:05:27.860Z"
   },
   {
    "duration": 360,
    "start_time": "2022-02-18T13:05:27.866Z"
   },
   {
    "duration": 358,
    "start_time": "2022-02-18T13:05:27.870Z"
   },
   {
    "duration": 355,
    "start_time": "2022-02-18T13:05:27.875Z"
   },
   {
    "duration": 353,
    "start_time": "2022-02-18T13:05:27.879Z"
   },
   {
    "duration": 351,
    "start_time": "2022-02-18T13:05:27.883Z"
   },
   {
    "duration": 350,
    "start_time": "2022-02-18T13:05:27.886Z"
   },
   {
    "duration": 348,
    "start_time": "2022-02-18T13:05:27.890Z"
   },
   {
    "duration": 346,
    "start_time": "2022-02-18T13:05:27.894Z"
   },
   {
    "duration": 319,
    "start_time": "2022-02-18T13:05:27.923Z"
   },
   {
    "duration": 317,
    "start_time": "2022-02-18T13:05:27.927Z"
   },
   {
    "duration": 317,
    "start_time": "2022-02-18T13:05:27.930Z"
   },
   {
    "duration": 314,
    "start_time": "2022-02-18T13:05:27.935Z"
   },
   {
    "duration": 312,
    "start_time": "2022-02-18T13:05:27.938Z"
   },
   {
    "duration": 309,
    "start_time": "2022-02-18T13:05:27.942Z"
   },
   {
    "duration": 258,
    "start_time": "2022-02-18T13:05:27.994Z"
   },
   {
    "duration": 313,
    "start_time": "2022-02-18T13:05:27.997Z"
   },
   {
    "duration": 313,
    "start_time": "2022-02-18T13:05:27.999Z"
   },
   {
    "duration": 312,
    "start_time": "2022-02-18T13:05:28.002Z"
   },
   {
    "duration": 312,
    "start_time": "2022-02-18T13:05:28.004Z"
   },
   {
    "duration": 311,
    "start_time": "2022-02-18T13:05:28.007Z"
   },
   {
    "duration": 295,
    "start_time": "2022-02-18T13:05:28.024Z"
   },
   {
    "duration": 294,
    "start_time": "2022-02-18T13:05:28.027Z"
   },
   {
    "duration": 293,
    "start_time": "2022-02-18T13:05:28.029Z"
   },
   {
    "duration": 274,
    "start_time": "2022-02-18T13:05:28.050Z"
   },
   {
    "duration": 272,
    "start_time": "2022-02-18T13:05:28.053Z"
   },
   {
    "duration": 271,
    "start_time": "2022-02-18T13:05:28.056Z"
   },
   {
    "duration": 77,
    "start_time": "2022-02-18T13:05:28.252Z"
   },
   {
    "duration": 41,
    "start_time": "2022-02-18T13:05:28.290Z"
   },
   {
    "duration": 40,
    "start_time": "2022-02-18T13:05:28.292Z"
   },
   {
    "duration": -1,
    "start_time": "2022-02-18T13:05:28.335Z"
   },
   {
    "duration": -3,
    "start_time": "2022-02-18T13:05:28.338Z"
   },
   {
    "duration": -31,
    "start_time": "2022-02-18T13:05:28.368Z"
   },
   {
    "duration": -139,
    "start_time": "2022-02-18T13:05:28.478Z"
   },
   {
    "duration": -141,
    "start_time": "2022-02-18T13:05:28.481Z"
   },
   {
    "duration": -141,
    "start_time": "2022-02-18T13:05:28.483Z"
   },
   {
    "duration": -142,
    "start_time": "2022-02-18T13:05:28.485Z"
   },
   {
    "duration": -142,
    "start_time": "2022-02-18T13:05:28.487Z"
   },
   {
    "duration": -143,
    "start_time": "2022-02-18T13:05:28.490Z"
   },
   {
    "duration": -77,
    "start_time": "2022-02-18T13:05:28.492Z"
   },
   {
    "duration": -76,
    "start_time": "2022-02-18T13:05:28.495Z"
   },
   {
    "duration": -77,
    "start_time": "2022-02-18T13:05:28.497Z"
   },
   {
    "duration": -77,
    "start_time": "2022-02-18T13:05:28.499Z"
   },
   {
    "duration": -79,
    "start_time": "2022-02-18T13:05:28.502Z"
   },
   {
    "duration": -118,
    "start_time": "2022-02-18T13:05:28.543Z"
   },
   {
    "duration": -134,
    "start_time": "2022-02-18T13:05:28.561Z"
   },
   {
    "duration": -134,
    "start_time": "2022-02-18T13:05:28.563Z"
   },
   {
    "duration": -134,
    "start_time": "2022-02-18T13:05:28.565Z"
   },
   {
    "duration": -136,
    "start_time": "2022-02-18T13:05:28.568Z"
   },
   {
    "duration": -136,
    "start_time": "2022-02-18T13:05:28.570Z"
   },
   {
    "duration": -138,
    "start_time": "2022-02-18T13:05:28.573Z"
   },
   {
    "duration": -138,
    "start_time": "2022-02-18T13:05:28.575Z"
   },
   {
    "duration": -140,
    "start_time": "2022-02-18T13:05:28.578Z"
   },
   {
    "duration": -141,
    "start_time": "2022-02-18T13:05:28.580Z"
   },
   {
    "duration": -142,
    "start_time": "2022-02-18T13:05:28.583Z"
   },
   {
    "duration": -143,
    "start_time": "2022-02-18T13:05:28.585Z"
   },
   {
    "duration": -144,
    "start_time": "2022-02-18T13:05:28.588Z"
   },
   {
    "duration": -145,
    "start_time": "2022-02-18T13:05:28.590Z"
   },
   {
    "duration": -146,
    "start_time": "2022-02-18T13:05:28.592Z"
   },
   {
    "duration": -147,
    "start_time": "2022-02-18T13:05:28.595Z"
   },
   {
    "duration": -160,
    "start_time": "2022-02-18T13:05:28.609Z"
   },
   {
    "duration": -110,
    "start_time": "2022-02-18T13:05:28.621Z"
   },
   {
    "duration": -118,
    "start_time": "2022-02-18T13:05:28.630Z"
   },
   {
    "duration": -118,
    "start_time": "2022-02-18T13:05:28.632Z"
   },
   {
    "duration": -120,
    "start_time": "2022-02-18T13:05:28.635Z"
   },
   {
    "duration": 59,
    "start_time": "2022-02-18T13:06:21.054Z"
   },
   {
    "duration": 12,
    "start_time": "2022-02-18T13:06:21.328Z"
   },
   {
    "duration": 3,
    "start_time": "2022-02-18T13:06:25.233Z"
   },
   {
    "duration": 89,
    "start_time": "2022-02-18T13:06:25.240Z"
   },
   {
    "duration": 36,
    "start_time": "2022-02-18T13:06:25.332Z"
   },
   {
    "duration": 15,
    "start_time": "2022-02-18T13:06:25.371Z"
   },
   {
    "duration": 28,
    "start_time": "2022-02-18T13:06:25.389Z"
   },
   {
    "duration": 15,
    "start_time": "2022-02-18T13:06:25.419Z"
   },
   {
    "duration": 83,
    "start_time": "2022-02-18T13:06:25.437Z"
   },
   {
    "duration": 12,
    "start_time": "2022-02-18T13:06:25.523Z"
   },
   {
    "duration": 95,
    "start_time": "2022-02-18T13:07:33.192Z"
   },
   {
    "duration": 11,
    "start_time": "2022-02-18T13:07:33.406Z"
   },
   {
    "duration": 4,
    "start_time": "2022-02-18T13:07:36.754Z"
   },
   {
    "duration": 83,
    "start_time": "2022-02-18T13:07:36.760Z"
   },
   {
    "duration": 37,
    "start_time": "2022-02-18T13:07:36.847Z"
   },
   {
    "duration": 32,
    "start_time": "2022-02-18T13:07:36.887Z"
   },
   {
    "duration": 7,
    "start_time": "2022-02-18T13:07:36.922Z"
   },
   {
    "duration": 12,
    "start_time": "2022-02-18T13:07:36.931Z"
   },
   {
    "duration": 118,
    "start_time": "2022-02-18T13:07:36.946Z"
   },
   {
    "duration": 11,
    "start_time": "2022-02-18T13:07:37.067Z"
   },
   {
    "duration": 89,
    "start_time": "2022-02-18T13:07:56.240Z"
   },
   {
    "duration": 11,
    "start_time": "2022-02-18T13:07:56.459Z"
   },
   {
    "duration": 3,
    "start_time": "2022-02-18T13:07:59.896Z"
   },
   {
    "duration": 88,
    "start_time": "2022-02-18T13:07:59.902Z"
   },
   {
    "duration": 36,
    "start_time": "2022-02-18T13:07:59.992Z"
   },
   {
    "duration": 17,
    "start_time": "2022-02-18T13:08:00.031Z"
   },
   {
    "duration": 9,
    "start_time": "2022-02-18T13:08:00.050Z"
   },
   {
    "duration": 15,
    "start_time": "2022-02-18T13:08:00.062Z"
   },
   {
    "duration": 100,
    "start_time": "2022-02-18T13:08:00.113Z"
   },
   {
    "duration": 11,
    "start_time": "2022-02-18T13:08:00.216Z"
   },
   {
    "duration": 13,
    "start_time": "2022-02-18T13:08:16.315Z"
   },
   {
    "duration": 166,
    "start_time": "2022-02-18T13:10:34.297Z"
   },
   {
    "duration": 12,
    "start_time": "2022-02-18T13:10:34.848Z"
   },
   {
    "duration": 4,
    "start_time": "2022-02-18T13:10:38.298Z"
   },
   {
    "duration": 85,
    "start_time": "2022-02-18T13:10:38.304Z"
   },
   {
    "duration": 36,
    "start_time": "2022-02-18T13:10:38.392Z"
   },
   {
    "duration": 19,
    "start_time": "2022-02-18T13:10:38.431Z"
   },
   {
    "duration": 8,
    "start_time": "2022-02-18T13:10:38.452Z"
   },
   {
    "duration": 48,
    "start_time": "2022-02-18T13:10:38.463Z"
   },
   {
    "duration": 177,
    "start_time": "2022-02-18T13:10:38.514Z"
   },
   {
    "duration": 18,
    "start_time": "2022-02-18T13:10:38.694Z"
   },
   {
    "duration": 171,
    "start_time": "2022-02-18T13:12:32.680Z"
   },
   {
    "duration": 11,
    "start_time": "2022-02-18T13:12:32.944Z"
   },
   {
    "duration": 4,
    "start_time": "2022-02-18T13:12:37.326Z"
   },
   {
    "duration": 89,
    "start_time": "2022-02-18T13:12:37.332Z"
   },
   {
    "duration": 34,
    "start_time": "2022-02-18T13:12:37.424Z"
   },
   {
    "duration": 14,
    "start_time": "2022-02-18T13:12:37.460Z"
   },
   {
    "duration": 7,
    "start_time": "2022-02-18T13:12:37.477Z"
   },
   {
    "duration": 32,
    "start_time": "2022-02-18T13:12:37.487Z"
   },
   {
    "duration": 208,
    "start_time": "2022-02-18T13:12:37.523Z"
   },
   {
    "duration": 12,
    "start_time": "2022-02-18T13:12:37.734Z"
   },
   {
    "duration": 9,
    "start_time": "2022-02-18T13:12:56.314Z"
   },
   {
    "duration": 234,
    "start_time": "2022-02-18T13:15:50.964Z"
   },
   {
    "duration": 8,
    "start_time": "2022-02-18T13:15:51.337Z"
   },
   {
    "duration": 216,
    "start_time": "2022-02-18T13:16:51.635Z"
   },
   {
    "duration": 9,
    "start_time": "2022-02-18T13:16:51.855Z"
   },
   {
    "duration": 3,
    "start_time": "2022-02-18T13:16:55.103Z"
   },
   {
    "duration": 91,
    "start_time": "2022-02-18T13:16:55.112Z"
   },
   {
    "duration": 38,
    "start_time": "2022-02-18T13:16:55.206Z"
   },
   {
    "duration": 16,
    "start_time": "2022-02-18T13:16:55.248Z"
   },
   {
    "duration": 7,
    "start_time": "2022-02-18T13:16:55.266Z"
   },
   {
    "duration": 46,
    "start_time": "2022-02-18T13:16:55.275Z"
   },
   {
    "duration": 232,
    "start_time": "2022-02-18T13:16:55.324Z"
   },
   {
    "duration": 8,
    "start_time": "2022-02-18T13:16:55.559Z"
   },
   {
    "duration": 55,
    "start_time": "2022-02-18T13:17:58.829Z"
   },
   {
    "duration": 4,
    "start_time": "2022-02-18T13:18:07.940Z"
   },
   {
    "duration": 93,
    "start_time": "2022-02-18T13:18:07.947Z"
   },
   {
    "duration": 36,
    "start_time": "2022-02-18T13:18:08.043Z"
   },
   {
    "duration": 32,
    "start_time": "2022-02-18T13:18:08.082Z"
   },
   {
    "duration": 7,
    "start_time": "2022-02-18T13:18:08.117Z"
   },
   {
    "duration": 12,
    "start_time": "2022-02-18T13:18:08.127Z"
   },
   {
    "duration": 23,
    "start_time": "2022-02-18T13:18:08.142Z"
   },
   {
    "duration": 25,
    "start_time": "2022-02-18T13:18:28.619Z"
   },
   {
    "duration": 26,
    "start_time": "2022-02-18T13:18:43.659Z"
   },
   {
    "duration": 4,
    "start_time": "2022-02-18T13:18:47.347Z"
   },
   {
    "duration": 85,
    "start_time": "2022-02-18T13:18:47.357Z"
   },
   {
    "duration": 35,
    "start_time": "2022-02-18T13:18:47.445Z"
   },
   {
    "duration": 31,
    "start_time": "2022-02-18T13:18:47.483Z"
   },
   {
    "duration": 8,
    "start_time": "2022-02-18T13:18:47.517Z"
   },
   {
    "duration": 13,
    "start_time": "2022-02-18T13:18:47.527Z"
   },
   {
    "duration": 23,
    "start_time": "2022-02-18T13:18:47.543Z"
   },
   {
    "duration": 24,
    "start_time": "2022-02-18T13:18:55.268Z"
   },
   {
    "duration": 4,
    "start_time": "2022-02-18T13:19:02.514Z"
   },
   {
    "duration": 90,
    "start_time": "2022-02-18T13:19:02.521Z"
   },
   {
    "duration": 39,
    "start_time": "2022-02-18T13:19:02.615Z"
   },
   {
    "duration": 17,
    "start_time": "2022-02-18T13:19:02.657Z"
   },
   {
    "duration": 36,
    "start_time": "2022-02-18T13:19:02.676Z"
   },
   {
    "duration": 13,
    "start_time": "2022-02-18T13:19:02.714Z"
   },
   {
    "duration": 1638,
    "start_time": "2022-02-18T14:36:12.617Z"
   },
   {
    "duration": 408,
    "start_time": "2022-02-18T14:36:22.035Z"
   },
   {
    "duration": 1580,
    "start_time": "2022-02-18T14:42:13.701Z"
   },
   {
    "duration": 4,
    "start_time": "2022-02-18T14:42:18.972Z"
   },
   {
    "duration": 86,
    "start_time": "2022-02-18T14:42:18.978Z"
   },
   {
    "duration": 33,
    "start_time": "2022-02-18T14:42:19.067Z"
   },
   {
    "duration": 16,
    "start_time": "2022-02-18T14:42:19.110Z"
   },
   {
    "duration": 8,
    "start_time": "2022-02-18T14:42:19.128Z"
   },
   {
    "duration": 17,
    "start_time": "2022-02-18T14:42:19.138Z"
   },
   {
    "duration": 242,
    "start_time": "2022-02-18T14:42:19.158Z"
   },
   {
    "duration": 13,
    "start_time": "2022-02-18T14:42:19.403Z"
   },
   {
    "duration": 1695,
    "start_time": "2022-02-18T14:42:19.419Z"
   },
   {
    "duration": 1492,
    "start_time": "2022-02-18T14:42:23.792Z"
   },
   {
    "duration": 17,
    "start_time": "2022-02-18T14:43:04.064Z"
   },
   {
    "duration": 9,
    "start_time": "2022-02-18T14:43:35.417Z"
   },
   {
    "duration": 416,
    "start_time": "2022-02-18T14:44:01.851Z"
   },
   {
    "duration": 375,
    "start_time": "2022-02-18T14:44:10.054Z"
   },
   {
    "duration": 4,
    "start_time": "2022-02-18T14:44:13.828Z"
   },
   {
    "duration": 92,
    "start_time": "2022-02-18T14:44:13.835Z"
   },
   {
    "duration": 36,
    "start_time": "2022-02-18T14:44:13.930Z"
   },
   {
    "duration": 16,
    "start_time": "2022-02-18T14:44:13.969Z"
   },
   {
    "duration": 8,
    "start_time": "2022-02-18T14:44:14.011Z"
   },
   {
    "duration": 14,
    "start_time": "2022-02-18T14:44:14.021Z"
   },
   {
    "duration": 240,
    "start_time": "2022-02-18T14:44:14.037Z"
   },
   {
    "duration": 9,
    "start_time": "2022-02-18T14:44:14.281Z"
   },
   {
    "duration": 31,
    "start_time": "2022-02-18T14:44:14.292Z"
   },
   {
    "duration": 7,
    "start_time": "2022-02-18T14:44:14.326Z"
   },
   {
    "duration": 420,
    "start_time": "2022-02-18T14:44:14.336Z"
   },
   {
    "duration": 7,
    "start_time": "2022-02-18T14:44:48.972Z"
   },
   {
    "duration": 9,
    "start_time": "2022-02-18T14:45:00.144Z"
   },
   {
    "duration": 11,
    "start_time": "2022-02-18T14:45:58.257Z"
   },
   {
    "duration": 4,
    "start_time": "2022-02-18T14:46:47.229Z"
   },
   {
    "duration": 107,
    "start_time": "2022-02-18T14:46:47.236Z"
   },
   {
    "duration": 36,
    "start_time": "2022-02-18T14:46:47.346Z"
   },
   {
    "duration": 31,
    "start_time": "2022-02-18T14:46:47.385Z"
   },
   {
    "duration": 8,
    "start_time": "2022-02-18T14:46:47.419Z"
   },
   {
    "duration": 13,
    "start_time": "2022-02-18T14:46:47.429Z"
   },
   {
    "duration": 237,
    "start_time": "2022-02-18T14:46:47.445Z"
   },
   {
    "duration": 8,
    "start_time": "2022-02-18T14:46:47.685Z"
   },
   {
    "duration": 15,
    "start_time": "2022-02-18T14:46:47.713Z"
   },
   {
    "duration": 10,
    "start_time": "2022-02-18T14:46:47.732Z"
   },
   {
    "duration": 15,
    "start_time": "2022-02-18T14:46:47.745Z"
   },
   {
    "duration": 54,
    "start_time": "2022-02-18T14:46:47.763Z"
   },
   {
    "duration": 10,
    "start_time": "2022-02-18T14:46:47.820Z"
   },
   {
    "duration": 19,
    "start_time": "2022-02-18T14:46:47.832Z"
   },
   {
    "duration": 18,
    "start_time": "2022-02-18T14:46:47.853Z"
   },
   {
    "duration": 9,
    "start_time": "2022-02-18T14:46:47.910Z"
   },
   {
    "duration": 7,
    "start_time": "2022-02-18T14:46:47.921Z"
   },
   {
    "duration": 15,
    "start_time": "2022-02-18T14:46:47.931Z"
   },
   {
    "duration": 8,
    "start_time": "2022-02-18T14:46:47.948Z"
   },
   {
    "duration": 58,
    "start_time": "2022-02-18T14:46:47.959Z"
   },
   {
    "duration": 7,
    "start_time": "2022-02-18T14:46:48.020Z"
   },
   {
    "duration": 14,
    "start_time": "2022-02-18T14:46:48.030Z"
   },
   {
    "duration": 8,
    "start_time": "2022-02-18T14:46:48.046Z"
   },
   {
    "duration": 59,
    "start_time": "2022-02-18T14:46:48.056Z"
   },
   {
    "duration": 9,
    "start_time": "2022-02-18T14:46:48.118Z"
   },
   {
    "duration": 20,
    "start_time": "2022-02-18T14:46:48.129Z"
   },
   {
    "duration": 10,
    "start_time": "2022-02-18T14:46:48.159Z"
   },
   {
    "duration": 19,
    "start_time": "2022-02-18T14:46:48.214Z"
   },
   {
    "duration": 10,
    "start_time": "2022-02-18T14:46:48.236Z"
   },
   {
    "duration": 14,
    "start_time": "2022-02-18T14:46:48.249Z"
   },
   {
    "duration": 46,
    "start_time": "2022-02-18T14:46:48.266Z"
   },
   {
    "duration": 9,
    "start_time": "2022-02-18T14:46:48.315Z"
   },
   {
    "duration": 8,
    "start_time": "2022-02-18T14:46:48.326Z"
   },
   {
    "duration": 6,
    "start_time": "2022-02-18T14:46:48.336Z"
   },
   {
    "duration": 11,
    "start_time": "2022-02-18T14:46:48.345Z"
   },
   {
    "duration": 51,
    "start_time": "2022-02-18T14:46:48.359Z"
   },
   {
    "duration": 6,
    "start_time": "2022-02-18T14:46:48.413Z"
   },
   {
    "duration": 7,
    "start_time": "2022-02-18T14:46:48.422Z"
   },
   {
    "duration": 7,
    "start_time": "2022-02-18T14:46:48.432Z"
   },
   {
    "duration": 5,
    "start_time": "2022-02-18T14:46:48.442Z"
   },
   {
    "duration": 7,
    "start_time": "2022-02-18T14:46:48.450Z"
   },
   {
    "duration": 7,
    "start_time": "2022-02-18T14:46:48.459Z"
   },
   {
    "duration": 5,
    "start_time": "2022-02-18T14:46:48.512Z"
   },
   {
    "duration": 15,
    "start_time": "2022-02-18T14:46:48.519Z"
   },
   {
    "duration": 8,
    "start_time": "2022-02-18T14:46:48.536Z"
   },
   {
    "duration": 7,
    "start_time": "2022-02-18T14:46:48.547Z"
   },
   {
    "duration": 7,
    "start_time": "2022-02-18T14:46:48.557Z"
   },
   {
    "duration": 46,
    "start_time": "2022-02-18T14:46:48.566Z"
   },
   {
    "duration": 885,
    "start_time": "2022-02-18T14:46:48.615Z"
   },
   {
    "duration": 9,
    "start_time": "2022-02-18T14:46:49.502Z"
   },
   {
    "duration": 6,
    "start_time": "2022-02-18T14:46:49.514Z"
   },
   {
    "duration": 595,
    "start_time": "2022-02-18T14:46:49.523Z"
   },
   {
    "duration": 581,
    "start_time": "2022-02-18T14:46:50.121Z"
   },
   {
    "duration": 421,
    "start_time": "2022-02-18T14:46:50.710Z"
   },
   {
    "duration": 396,
    "start_time": "2022-02-18T14:46:51.133Z"
   },
   {
    "duration": 549,
    "start_time": "2022-02-18T14:46:51.532Z"
   },
   {
    "duration": 27,
    "start_time": "2022-02-18T14:46:52.083Z"
   },
   {
    "duration": 222,
    "start_time": "2022-02-18T14:46:52.112Z"
   },
   {
    "duration": 10,
    "start_time": "2022-02-18T14:46:52.337Z"
   },
   {
    "duration": 641,
    "start_time": "2022-02-18T14:46:52.350Z"
   },
   {
    "duration": 21,
    "start_time": "2022-02-18T14:46:52.993Z"
   },
   {
    "duration": 304,
    "start_time": "2022-02-18T14:46:53.016Z"
   },
   {
    "duration": 15,
    "start_time": "2022-02-18T14:46:53.322Z"
   },
   {
    "duration": 576,
    "start_time": "2022-02-18T14:46:53.340Z"
   },
   {
    "duration": 737,
    "start_time": "2022-02-18T14:46:53.919Z"
   },
   {
    "duration": 709,
    "start_time": "2022-02-18T14:47:00.058Z"
   },
   {
    "duration": 7,
    "start_time": "2022-02-18T14:47:01.687Z"
   },
   {
    "duration": 1388,
    "start_time": "2022-02-18T15:40:19.686Z"
   },
   {
    "duration": 101,
    "start_time": "2022-02-18T15:40:21.076Z"
   },
   {
    "duration": 52,
    "start_time": "2022-02-18T15:40:21.183Z"
   },
   {
    "duration": 15,
    "start_time": "2022-02-18T15:40:21.238Z"
   },
   {
    "duration": 9,
    "start_time": "2022-02-18T15:40:21.256Z"
   },
   {
    "duration": 49,
    "start_time": "2022-02-18T15:40:21.267Z"
   },
   {
    "duration": 316,
    "start_time": "2022-02-18T15:40:21.320Z"
   },
   {
    "duration": 24,
    "start_time": "2022-02-18T15:40:21.641Z"
   },
   {
    "duration": 10,
    "start_time": "2022-02-18T15:40:21.668Z"
   },
   {
    "duration": 43,
    "start_time": "2022-02-18T15:40:21.681Z"
   },
   {
    "duration": 16,
    "start_time": "2022-02-18T15:40:21.727Z"
   },
   {
    "duration": 11,
    "start_time": "2022-02-18T15:40:21.746Z"
   },
   {
    "duration": 62,
    "start_time": "2022-02-18T15:40:21.759Z"
   },
   {
    "duration": 15,
    "start_time": "2022-02-18T15:40:21.823Z"
   },
   {
    "duration": 8,
    "start_time": "2022-02-18T15:40:21.841Z"
   },
   {
    "duration": 7,
    "start_time": "2022-02-18T15:40:21.851Z"
   },
   {
    "duration": 61,
    "start_time": "2022-02-18T15:40:21.861Z"
   },
   {
    "duration": 8,
    "start_time": "2022-02-18T15:40:21.925Z"
   },
   {
    "duration": 13,
    "start_time": "2022-02-18T15:40:21.936Z"
   },
   {
    "duration": 10,
    "start_time": "2022-02-18T15:40:21.951Z"
   },
   {
    "duration": 59,
    "start_time": "2022-02-18T15:40:21.965Z"
   },
   {
    "duration": 8,
    "start_time": "2022-02-18T15:40:22.031Z"
   },
   {
    "duration": 14,
    "start_time": "2022-02-18T15:40:22.044Z"
   },
   {
    "duration": 8,
    "start_time": "2022-02-18T15:40:22.061Z"
   },
   {
    "duration": 16,
    "start_time": "2022-02-18T15:40:22.112Z"
   },
   {
    "duration": 9,
    "start_time": "2022-02-18T15:40:22.130Z"
   },
   {
    "duration": 13,
    "start_time": "2022-02-18T15:40:22.141Z"
   },
   {
    "duration": 7,
    "start_time": "2022-02-18T15:40:22.157Z"
   },
   {
    "duration": 58,
    "start_time": "2022-02-18T15:40:22.167Z"
   },
   {
    "duration": 8,
    "start_time": "2022-02-18T15:40:22.228Z"
   },
   {
    "duration": 7,
    "start_time": "2022-02-18T15:40:22.238Z"
   },
   {
    "duration": 5,
    "start_time": "2022-02-18T15:40:22.247Z"
   },
   {
    "duration": 6,
    "start_time": "2022-02-18T15:40:22.255Z"
   },
   {
    "duration": 6,
    "start_time": "2022-02-18T15:40:22.311Z"
   },
   {
    "duration": 5,
    "start_time": "2022-02-18T15:40:22.320Z"
   },
   {
    "duration": 7,
    "start_time": "2022-02-18T15:40:22.328Z"
   },
   {
    "duration": 8,
    "start_time": "2022-02-18T15:40:22.337Z"
   },
   {
    "duration": 7,
    "start_time": "2022-02-18T15:40:22.347Z"
   },
   {
    "duration": 6,
    "start_time": "2022-02-18T15:40:22.357Z"
   },
   {
    "duration": 6,
    "start_time": "2022-02-18T15:40:22.411Z"
   },
   {
    "duration": 5,
    "start_time": "2022-02-18T15:40:22.419Z"
   },
   {
    "duration": 11,
    "start_time": "2022-02-18T15:40:22.427Z"
   },
   {
    "duration": 11,
    "start_time": "2022-02-18T15:40:22.441Z"
   },
   {
    "duration": 11,
    "start_time": "2022-02-18T15:40:22.455Z"
   },
   {
    "duration": 44,
    "start_time": "2022-02-18T15:40:22.469Z"
   },
   {
    "duration": 10,
    "start_time": "2022-02-18T15:40:22.516Z"
   },
   {
    "duration": 12,
    "start_time": "2022-02-18T15:40:22.529Z"
   },
   {
    "duration": 1004,
    "start_time": "2022-02-18T15:40:22.544Z"
   },
   {
    "duration": 6,
    "start_time": "2022-02-18T15:40:23.550Z"
   },
   {
    "duration": 10,
    "start_time": "2022-02-18T15:40:23.559Z"
   },
   {
    "duration": 648,
    "start_time": "2022-02-18T15:40:23.572Z"
   },
   {
    "duration": 694,
    "start_time": "2022-02-18T15:40:24.223Z"
   },
   {
    "duration": 441,
    "start_time": "2022-02-18T15:40:24.920Z"
   },
   {
    "duration": 435,
    "start_time": "2022-02-18T15:40:25.364Z"
   },
   {
    "duration": 621,
    "start_time": "2022-02-18T15:40:25.802Z"
   },
   {
    "duration": 11,
    "start_time": "2022-02-18T15:40:26.425Z"
   },
   {
    "duration": 257,
    "start_time": "2022-02-18T15:40:26.438Z"
   },
   {
    "duration": 24,
    "start_time": "2022-02-18T15:40:26.698Z"
   },
   {
    "duration": 566,
    "start_time": "2022-02-18T15:40:26.725Z"
   },
   {
    "duration": 20,
    "start_time": "2022-02-18T15:40:27.295Z"
   },
   {
    "duration": 256,
    "start_time": "2022-02-18T15:40:27.317Z"
   },
   {
    "duration": 16,
    "start_time": "2022-02-18T15:40:27.575Z"
   },
   {
    "duration": 755,
    "start_time": "2022-02-18T15:40:27.594Z"
   },
   {
    "duration": 798,
    "start_time": "2022-02-18T15:40:28.353Z"
   },
   {
    "duration": 3,
    "start_time": "2022-02-18T15:40:29.154Z"
   },
   {
    "duration": 417,
    "start_time": "2022-02-18T15:40:29.160Z"
   },
   {
    "duration": 7,
    "start_time": "2022-02-18T15:40:29.586Z"
   },
   {
    "duration": 362,
    "start_time": "2022-02-18T15:40:29.612Z"
   },
   {
    "duration": 7,
    "start_time": "2022-02-18T15:40:29.977Z"
   },
   {
    "duration": 457,
    "start_time": "2022-02-18T15:40:29.987Z"
   },
   {
    "duration": 556,
    "start_time": "2022-02-18T15:40:30.446Z"
   },
   {
    "duration": 11,
    "start_time": "2022-02-18T15:40:31.005Z"
   },
   {
    "duration": 329,
    "start_time": "2022-02-18T15:40:31.019Z"
   },
   {
    "duration": 8,
    "start_time": "2022-02-18T15:40:31.351Z"
   },
   {
    "duration": 369,
    "start_time": "2022-02-18T15:40:31.361Z"
   },
   {
    "duration": 7,
    "start_time": "2022-02-18T15:40:31.733Z"
   },
   {
    "duration": 413,
    "start_time": "2022-02-18T15:40:31.744Z"
   },
   {
    "duration": 7,
    "start_time": "2022-02-18T15:40:32.160Z"
   },
   {
    "duration": 61,
    "start_time": "2022-02-18T15:40:32.169Z"
   },
   {
    "duration": 6,
    "start_time": "2022-02-18T15:40:32.234Z"
   },
   {
    "duration": 6,
    "start_time": "2022-02-18T15:40:32.243Z"
   },
   {
    "duration": 22,
    "start_time": "2022-02-18T15:40:32.251Z"
   },
   {
    "duration": 455,
    "start_time": "2022-02-18T15:40:32.276Z"
   },
   {
    "duration": 10,
    "start_time": "2022-02-18T15:40:32.734Z"
   },
   {
    "duration": 518,
    "start_time": "2022-02-18T15:40:32.747Z"
   },
   {
    "duration": 477,
    "start_time": "2022-02-18T15:40:33.268Z"
   },
   {
    "duration": 381,
    "start_time": "2022-02-18T15:40:33.748Z"
   },
   {
    "duration": 390,
    "start_time": "2022-02-18T15:40:34.132Z"
   },
   {
    "duration": 5,
    "start_time": "2022-02-18T15:40:34.525Z"
   },
   {
    "duration": 431,
    "start_time": "2022-02-18T15:40:34.532Z"
   },
   {
    "duration": 383,
    "start_time": "2022-02-18T15:40:34.966Z"
   },
   {
    "duration": 854,
    "start_time": "2022-02-18T15:40:35.352Z"
   },
   {
    "duration": 1263,
    "start_time": "2022-02-18T15:40:36.211Z"
   },
   {
    "duration": 447,
    "start_time": "2022-02-18T15:40:37.477Z"
   },
   {
    "duration": 395,
    "start_time": "2022-02-18T15:40:37.926Z"
   },
   {
    "duration": 544,
    "start_time": "2022-02-18T15:40:38.323Z"
   }
  ],
  "kernelspec": {
   "display_name": "Python 3 (ipykernel)",
   "language": "python",
   "name": "python3"
  },
  "language_info": {
   "codemirror_mode": {
    "name": "ipython",
    "version": 3
   },
   "file_extension": ".py",
   "mimetype": "text/x-python",
   "name": "python",
   "nbconvert_exporter": "python",
   "pygments_lexer": "ipython3",
   "version": "3.9.5"
  },
  "toc": {
   "base_numbering": 1,
   "nav_menu": {},
   "number_sections": true,
   "sideBar": true,
   "skip_h1_title": true,
   "title_cell": "Содержание",
   "title_sidebar": "Contents",
   "toc_cell": true,
   "toc_position": {},
   "toc_section_display": true,
   "toc_window_display": true
  }
 },
 "nbformat": 4,
 "nbformat_minor": 2
}
