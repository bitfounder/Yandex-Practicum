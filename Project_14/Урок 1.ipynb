{
 "cells": [
  {
   "cell_type": "markdown",
   "id": "e1dfb708",
   "metadata": {},
   "source": [
    "# Вводное занятие. Алгоритмизация. История языков программирования"
   ]
  },
  {
   "cell_type": "markdown",
   "id": "018d1e86",
   "metadata": {},
   "source": [
    "Что сегодня будет и чему научимся.\n",
    "\n",
    "- Основные термины программирования\n",
    "- История языка Python\n",
    "- Функция `print()`"
   ]
  },
  {
   "cell_type": "markdown",
   "id": "d6ff5721",
   "metadata": {},
   "source": [
    "![фото нет](https://yandex.ru/images/search?text=поехали%20ajj&from=tabbar&pos=24&img_url=http%3A%2F%2Fcs8.pikabu.ru%2Fvideo%2F2018%2F02%2F12%2F11%2Fog_og_1518460871317271167.jpg&rpt=simage&lr=119792)"
   ]
  },
  {
   "cell_type": "markdown",
   "id": "2f5ec05c",
   "metadata": {},
   "source": []
  },
  {
   "cell_type": "markdown",
   "id": "84d4542a",
   "metadata": {},
   "source": []
  },
  {
   "cell_type": "code",
   "execution_count": null,
   "id": "47afa4b8",
   "metadata": {},
   "outputs": [],
   "source": []
  }
 ],
 "metadata": {
  "kernelspec": {
   "display_name": "Python 3",
   "language": "python",
   "name": "python3"
  },
  "language_info": {
   "codemirror_mode": {
    "name": "ipython",
    "version": 3
   },
   "file_extension": ".py",
   "mimetype": "text/x-python",
   "name": "python",
   "nbconvert_exporter": "python",
   "pygments_lexer": "ipython3",
   "version": "3.8.8"
  }
 },
 "nbformat": 4,
 "nbformat_minor": 5
}
