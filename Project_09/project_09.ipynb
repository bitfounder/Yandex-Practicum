{
 "cells": [
  {
   "cell_type": "markdown",
   "metadata": {
    "toc": true
   },
   "source": [
    "<h1>Содержание<span class=\"tocSkip\"></span></h1>\n",
    "<div class=\"toc\"><ul class=\"toc-item\"><li><span><a href=\"#Загрузка-данных\" data-toc-modified-id=\"Загрузка-данных-1\"><span class=\"toc-item-num\">1&nbsp;&nbsp;</span>Загрузка данных</a></span><ul class=\"toc-item\"><li><span><a href=\"#Вывод\" data-toc-modified-id=\"Вывод-1.1\"><span class=\"toc-item-num\">1.1&nbsp;&nbsp;</span>Вывод</a></span></li></ul></li><li><span><a href=\"#Умножение-матриц\" data-toc-modified-id=\"Умножение-матриц-2\"><span class=\"toc-item-num\">2&nbsp;&nbsp;</span>Умножение матриц</a></span></li><li><span><a href=\"#Алгоритм-преобразования\" data-toc-modified-id=\"Алгоритм-преобразования-3\"><span class=\"toc-item-num\">3&nbsp;&nbsp;</span>Алгоритм преобразования</a></span></li><li><span><a href=\"#Проверка-алгоритма\" data-toc-modified-id=\"Проверка-алгоритма-4\"><span class=\"toc-item-num\">4&nbsp;&nbsp;</span>Проверка алгоритма</a></span></li><li><span><a href=\"#Вывод\" data-toc-modified-id=\"Вывод-5\"><span class=\"toc-item-num\">5&nbsp;&nbsp;</span>Вывод</a></span></li></ul></div>"
   ]
  },
  {
   "cell_type": "markdown",
   "metadata": {},
   "source": [
    "# Защита персональных данных клиентов"
   ]
  },
  {
   "cell_type": "markdown",
   "metadata": {},
   "source": [
    "Нам нужно защитить данные клиентов страховой компании «Хоть потоп». Разработаем такой метод преобразования данных, чтобы по ним было сложно восстановить персональную информацию.\n",
    "\n",
    "Нужно защитить данные, чтобы при преобразовании качество моделей машинного обучения не ухудшилось. "
   ]
  },
  {
   "cell_type": "markdown",
   "metadata": {},
   "source": [
    "# Описание данных\n",
    "\n",
    "* Признаки: пол, возраст и зарплата застрахованного, количество членов его семьи.\n",
    "* Целевой признак: количество страховых выплат клиенту за последние 5 лет."
   ]
  },
  {
   "cell_type": "markdown",
   "metadata": {},
   "source": [
    "## Загрузка данных"
   ]
  },
  {
   "cell_type": "markdown",
   "metadata": {},
   "source": [
    "Импортируем необходимые библиотеки."
   ]
  },
  {
   "cell_type": "code",
   "execution_count": 1,
   "metadata": {},
   "outputs": [],
   "source": [
    "import pandas as pd\n",
    "import numpy as np\n",
    "from sklearn.model_selection import train_test_split\n",
    "from sklearn.linear_model import LinearRegression\n",
    "from sklearn.metrics import r2_score"
   ]
  },
  {
   "cell_type": "markdown",
   "metadata": {},
   "source": [
    "Прочитаем и выведем первые пять строк данных."
   ]
  },
  {
   "cell_type": "code",
   "execution_count": 17,
   "metadata": {},
   "outputs": [
    {
     "data": {
      "text/html": [
       "<div>\n",
       "<style scoped>\n",
       "    .dataframe tbody tr th:only-of-type {\n",
       "        vertical-align: middle;\n",
       "    }\n",
       "\n",
       "    .dataframe tbody tr th {\n",
       "        vertical-align: top;\n",
       "    }\n",
       "\n",
       "    .dataframe thead th {\n",
       "        text-align: right;\n",
       "    }\n",
       "</style>\n",
       "<table border=\"1\" class=\"dataframe\">\n",
       "  <thead>\n",
       "    <tr style=\"text-align: right;\">\n",
       "      <th></th>\n",
       "      <th>Пол</th>\n",
       "      <th>Возраст</th>\n",
       "      <th>Зарплата</th>\n",
       "      <th>Члены семьи</th>\n",
       "      <th>Страховые выплаты</th>\n",
       "    </tr>\n",
       "  </thead>\n",
       "  <tbody>\n",
       "    <tr>\n",
       "      <th>0</th>\n",
       "      <td>1</td>\n",
       "      <td>41.0</td>\n",
       "      <td>49600.0</td>\n",
       "      <td>1</td>\n",
       "      <td>0</td>\n",
       "    </tr>\n",
       "    <tr>\n",
       "      <th>1</th>\n",
       "      <td>0</td>\n",
       "      <td>46.0</td>\n",
       "      <td>38000.0</td>\n",
       "      <td>1</td>\n",
       "      <td>1</td>\n",
       "    </tr>\n",
       "    <tr>\n",
       "      <th>2</th>\n",
       "      <td>0</td>\n",
       "      <td>29.0</td>\n",
       "      <td>21000.0</td>\n",
       "      <td>0</td>\n",
       "      <td>0</td>\n",
       "    </tr>\n",
       "    <tr>\n",
       "      <th>3</th>\n",
       "      <td>0</td>\n",
       "      <td>21.0</td>\n",
       "      <td>41700.0</td>\n",
       "      <td>2</td>\n",
       "      <td>0</td>\n",
       "    </tr>\n",
       "    <tr>\n",
       "      <th>4</th>\n",
       "      <td>1</td>\n",
       "      <td>28.0</td>\n",
       "      <td>26100.0</td>\n",
       "      <td>0</td>\n",
       "      <td>0</td>\n",
       "    </tr>\n",
       "  </tbody>\n",
       "</table>\n",
       "</div>"
      ],
      "text/plain": [
       "   Пол  Возраст  Зарплата  Члены семьи  Страховые выплаты\n",
       "0    1     41.0   49600.0            1                  0\n",
       "1    0     46.0   38000.0            1                  1\n",
       "2    0     29.0   21000.0            0                  0\n",
       "3    0     21.0   41700.0            2                  0\n",
       "4    1     28.0   26100.0            0                  0"
      ]
     },
     "execution_count": 17,
     "metadata": {},
     "output_type": "execute_result"
    }
   ],
   "source": [
    "data = pd.read_csv('/datasets/insurance.csv')"
   ]
  },
  {
   "cell_type": "markdown",
   "metadata": {},
   "source": [
    "Напишем функцию для основных характеристик данных."
   ]
  },
  {
   "cell_type": "code",
   "execution_count": 3,
   "metadata": {},
   "outputs": [],
   "source": [
    "start = '\\033[1m' # start и end для жирности текста\n",
    "end = '\\033[0m'\n",
    "\n",
    "def info(data_i):\n",
    "    print(start + 'Посмотрим на первые пять строк данных' + end)\n",
    "    display(data_i.head())\n",
    "    print('______________________________________________________________')\n",
    "    print('')\n",
    "    print(start + 'Посмотрим на общую информацию' + end)\n",
    "    display(data_i.info())\n",
    "    print('______________________________________________________________')\n",
    "    print('')\n",
    "    print(start + 'Посмотрим на основные статистические данные' + end)\n",
    "    display(data_i.describe())\n",
    "    print('______________________________________________________________')\n",
    "    print('')\n",
    "    print(start + 'Посмотрим на пропуски' + end)\n",
    "    display(data_i.isna().sum())"
   ]
  },
  {
   "cell_type": "markdown",
   "metadata": {},
   "source": [
    "Применим функцию."
   ]
  },
  {
   "cell_type": "code",
   "execution_count": 4,
   "metadata": {},
   "outputs": [
    {
     "name": "stdout",
     "output_type": "stream",
     "text": [
      "\u001b[1mПосмотрим на первые пять строк данных\u001b[0m\n"
     ]
    },
    {
     "data": {
      "text/html": [
       "<div>\n",
       "<style scoped>\n",
       "    .dataframe tbody tr th:only-of-type {\n",
       "        vertical-align: middle;\n",
       "    }\n",
       "\n",
       "    .dataframe tbody tr th {\n",
       "        vertical-align: top;\n",
       "    }\n",
       "\n",
       "    .dataframe thead th {\n",
       "        text-align: right;\n",
       "    }\n",
       "</style>\n",
       "<table border=\"1\" class=\"dataframe\">\n",
       "  <thead>\n",
       "    <tr style=\"text-align: right;\">\n",
       "      <th></th>\n",
       "      <th>Пол</th>\n",
       "      <th>Возраст</th>\n",
       "      <th>Зарплата</th>\n",
       "      <th>Члены семьи</th>\n",
       "      <th>Страховые выплаты</th>\n",
       "    </tr>\n",
       "  </thead>\n",
       "  <tbody>\n",
       "    <tr>\n",
       "      <th>0</th>\n",
       "      <td>1</td>\n",
       "      <td>41.0</td>\n",
       "      <td>49600.0</td>\n",
       "      <td>1</td>\n",
       "      <td>0</td>\n",
       "    </tr>\n",
       "    <tr>\n",
       "      <th>1</th>\n",
       "      <td>0</td>\n",
       "      <td>46.0</td>\n",
       "      <td>38000.0</td>\n",
       "      <td>1</td>\n",
       "      <td>1</td>\n",
       "    </tr>\n",
       "    <tr>\n",
       "      <th>2</th>\n",
       "      <td>0</td>\n",
       "      <td>29.0</td>\n",
       "      <td>21000.0</td>\n",
       "      <td>0</td>\n",
       "      <td>0</td>\n",
       "    </tr>\n",
       "    <tr>\n",
       "      <th>3</th>\n",
       "      <td>0</td>\n",
       "      <td>21.0</td>\n",
       "      <td>41700.0</td>\n",
       "      <td>2</td>\n",
       "      <td>0</td>\n",
       "    </tr>\n",
       "    <tr>\n",
       "      <th>4</th>\n",
       "      <td>1</td>\n",
       "      <td>28.0</td>\n",
       "      <td>26100.0</td>\n",
       "      <td>0</td>\n",
       "      <td>0</td>\n",
       "    </tr>\n",
       "  </tbody>\n",
       "</table>\n",
       "</div>"
      ],
      "text/plain": [
       "   Пол  Возраст  Зарплата  Члены семьи  Страховые выплаты\n",
       "0    1     41.0   49600.0            1                  0\n",
       "1    0     46.0   38000.0            1                  1\n",
       "2    0     29.0   21000.0            0                  0\n",
       "3    0     21.0   41700.0            2                  0\n",
       "4    1     28.0   26100.0            0                  0"
      ]
     },
     "metadata": {},
     "output_type": "display_data"
    },
    {
     "name": "stdout",
     "output_type": "stream",
     "text": [
      "______________________________________________________________\n",
      "\n",
      "\u001b[1mПосмотрим на общую информацию\u001b[0m\n",
      "<class 'pandas.core.frame.DataFrame'>\n",
      "RangeIndex: 5000 entries, 0 to 4999\n",
      "Data columns (total 5 columns):\n",
      " #   Column             Non-Null Count  Dtype  \n",
      "---  ------             --------------  -----  \n",
      " 0   Пол                5000 non-null   int64  \n",
      " 1   Возраст            5000 non-null   float64\n",
      " 2   Зарплата           5000 non-null   float64\n",
      " 3   Члены семьи        5000 non-null   int64  \n",
      " 4   Страховые выплаты  5000 non-null   int64  \n",
      "dtypes: float64(2), int64(3)\n",
      "memory usage: 195.4 KB\n"
     ]
    },
    {
     "data": {
      "text/plain": [
       "None"
      ]
     },
     "metadata": {},
     "output_type": "display_data"
    },
    {
     "name": "stdout",
     "output_type": "stream",
     "text": [
      "______________________________________________________________\n",
      "\n",
      "\u001b[1mПосмотрим на основные статистические данные\u001b[0m\n"
     ]
    },
    {
     "data": {
      "text/html": [
       "<div>\n",
       "<style scoped>\n",
       "    .dataframe tbody tr th:only-of-type {\n",
       "        vertical-align: middle;\n",
       "    }\n",
       "\n",
       "    .dataframe tbody tr th {\n",
       "        vertical-align: top;\n",
       "    }\n",
       "\n",
       "    .dataframe thead th {\n",
       "        text-align: right;\n",
       "    }\n",
       "</style>\n",
       "<table border=\"1\" class=\"dataframe\">\n",
       "  <thead>\n",
       "    <tr style=\"text-align: right;\">\n",
       "      <th></th>\n",
       "      <th>Пол</th>\n",
       "      <th>Возраст</th>\n",
       "      <th>Зарплата</th>\n",
       "      <th>Члены семьи</th>\n",
       "      <th>Страховые выплаты</th>\n",
       "    </tr>\n",
       "  </thead>\n",
       "  <tbody>\n",
       "    <tr>\n",
       "      <th>count</th>\n",
       "      <td>5000.000000</td>\n",
       "      <td>5000.000000</td>\n",
       "      <td>5000.000000</td>\n",
       "      <td>5000.000000</td>\n",
       "      <td>5000.000000</td>\n",
       "    </tr>\n",
       "    <tr>\n",
       "      <th>mean</th>\n",
       "      <td>0.499000</td>\n",
       "      <td>30.952800</td>\n",
       "      <td>39916.360000</td>\n",
       "      <td>1.194200</td>\n",
       "      <td>0.148000</td>\n",
       "    </tr>\n",
       "    <tr>\n",
       "      <th>std</th>\n",
       "      <td>0.500049</td>\n",
       "      <td>8.440807</td>\n",
       "      <td>9900.083569</td>\n",
       "      <td>1.091387</td>\n",
       "      <td>0.463183</td>\n",
       "    </tr>\n",
       "    <tr>\n",
       "      <th>min</th>\n",
       "      <td>0.000000</td>\n",
       "      <td>18.000000</td>\n",
       "      <td>5300.000000</td>\n",
       "      <td>0.000000</td>\n",
       "      <td>0.000000</td>\n",
       "    </tr>\n",
       "    <tr>\n",
       "      <th>25%</th>\n",
       "      <td>0.000000</td>\n",
       "      <td>24.000000</td>\n",
       "      <td>33300.000000</td>\n",
       "      <td>0.000000</td>\n",
       "      <td>0.000000</td>\n",
       "    </tr>\n",
       "    <tr>\n",
       "      <th>50%</th>\n",
       "      <td>0.000000</td>\n",
       "      <td>30.000000</td>\n",
       "      <td>40200.000000</td>\n",
       "      <td>1.000000</td>\n",
       "      <td>0.000000</td>\n",
       "    </tr>\n",
       "    <tr>\n",
       "      <th>75%</th>\n",
       "      <td>1.000000</td>\n",
       "      <td>37.000000</td>\n",
       "      <td>46600.000000</td>\n",
       "      <td>2.000000</td>\n",
       "      <td>0.000000</td>\n",
       "    </tr>\n",
       "    <tr>\n",
       "      <th>max</th>\n",
       "      <td>1.000000</td>\n",
       "      <td>65.000000</td>\n",
       "      <td>79000.000000</td>\n",
       "      <td>6.000000</td>\n",
       "      <td>5.000000</td>\n",
       "    </tr>\n",
       "  </tbody>\n",
       "</table>\n",
       "</div>"
      ],
      "text/plain": [
       "               Пол      Возраст      Зарплата  Члены семьи  Страховые выплаты\n",
       "count  5000.000000  5000.000000   5000.000000  5000.000000        5000.000000\n",
       "mean      0.499000    30.952800  39916.360000     1.194200           0.148000\n",
       "std       0.500049     8.440807   9900.083569     1.091387           0.463183\n",
       "min       0.000000    18.000000   5300.000000     0.000000           0.000000\n",
       "25%       0.000000    24.000000  33300.000000     0.000000           0.000000\n",
       "50%       0.000000    30.000000  40200.000000     1.000000           0.000000\n",
       "75%       1.000000    37.000000  46600.000000     2.000000           0.000000\n",
       "max       1.000000    65.000000  79000.000000     6.000000           5.000000"
      ]
     },
     "metadata": {},
     "output_type": "display_data"
    },
    {
     "name": "stdout",
     "output_type": "stream",
     "text": [
      "______________________________________________________________\n",
      "\n",
      "\u001b[1mПосмотрим на пропуски\u001b[0m\n"
     ]
    },
    {
     "data": {
      "text/plain": [
       "Пол                  0\n",
       "Возраст              0\n",
       "Зарплата             0\n",
       "Члены семьи          0\n",
       "Страховые выплаты    0\n",
       "dtype: int64"
      ]
     },
     "metadata": {},
     "output_type": "display_data"
    }
   ],
   "source": [
    "info(data)"
   ]
  },
  {
   "cell_type": "markdown",
   "metadata": {},
   "source": [
    "### Вывод"
   ]
  },
  {
   "cell_type": "markdown",
   "metadata": {},
   "source": [
    "Итак, в таблице 4 признака (`Пол`, `Возраст`, `Зарплата`, `Члены семьи`) и один целевой признак (`Страховые выплаты`). Аномалий в данных нет, поэтому можно приступать к работе."
   ]
  },
  {
   "cell_type": "markdown",
   "metadata": {},
   "source": [
    "## Умножение матриц"
   ]
  },
  {
   "cell_type": "markdown",
   "metadata": {},
   "source": [
    "В этом задании вы можете записывать формулы в *Jupyter Notebook.*\n",
    "\n",
    "Чтобы записать формулу внутри текста, окружите её символами доллара \\\\$; если снаружи —  двойными символами \\\\$\\\\$. Эти формулы записываются на языке вёрстки *LaTeX.* \n",
    "\n",
    "Для примера мы записали формулы линейной регрессии. Можете их скопировать и отредактировать, чтобы решить задачу.\n",
    "\n",
    "Работать в *LaTeX* необязательно."
   ]
  },
  {
   "cell_type": "markdown",
   "metadata": {},
   "source": [
    "Обозначения:\n",
    "\n",
    "- $X$ — матрица признаков (нулевой столбец состоит из единиц)\n",
    "\n",
    "- $y$ — вектор целевого признака\n",
    "\n",
    "- $P$ — матрица, на которую умножаются признаки\n",
    "\n",
    "- $w$ — вектор весов линейной регрессии (нулевой элемент равен сдвигу)"
   ]
  },
  {
   "cell_type": "markdown",
   "metadata": {},
   "source": [
    "Предсказания:\n",
    "\n",
    "$$\n",
    "a = Xw\n",
    "$$\n",
    "\n",
    "Задача обучения:\n",
    "\n",
    "$$\n",
    "w = \\arg\\min_w MSE(Xw, y)\n",
    "$$\n",
    "\n",
    "Формула обучения:\n",
    "\n",
    "$$\n",
    "w = (X^T X)^{-1} X^T y\n",
    "$$"
   ]
  },
  {
   "cell_type": "markdown",
   "metadata": {},
   "source": [
    "**Вопрос:** Признаки умножают на обратимую матрицу. Изменится ли качество линейной регрессии?\n",
    "\n",
    "**Ответ:** не изменится.\n",
    "\n",
    "**Обоснование:** Запишем новую матрицу признаков $X1$ как произведение \"старой\" $X$ на обратимую матрицу $P$:\n",
    "$$X1 = X*P$$\n",
    "\n",
    "Подставим новое значение $X1$ в формулу $w1$:\n",
    "\n",
    "$$w1 = ((XP)^T XP)^{-1}(XP)^Ty$$\n",
    "\n",
    "Раскроем первое произведение $(XP)^T$:\n",
    "\n",
    "$$w1 = (X^TP^T XP)^{-1}X^TP^Ty$$\n",
    "\n",
    "Перегруппируем множители в скобках, чтобы это выглядело как произведение трех множителей:\n",
    "\n",
    "$$w1 = (P^T(XX^T)P)^{-1}X^TP^Ty$$\n",
    "\n",
    "Раскроем скобки $(P^T(XX^T)P)^{-1}$:\n",
    "\n",
    "$$w1 = (P^T)^{-1}(XX^T)^{-1}P^{-1}X^TP^Ty$$\n",
    "\n",
    "Так как $P$ по условию обратимая, то произведение $(P^T)^{-1}P^T$ равно единичной матрице $E$:\n",
    "\n",
    "$$w1 = (XX^T)^{-1}P^{-1}EX^Ty = (XX^T)^{-1}P^{-1}X^Ty$$\n",
    "\n",
    "Можно заметить, что справа получилась формула для $w$:\n",
    "\n",
    "$$w1 = P^{-1}(XX^T)^{-1}X^Ty = P^{-1}w$$\n",
    "\n",
    "Подставим новое значение $X1$ и $w1$ в формулу для предсказаний линейной регрессии:\n",
    "\n",
    "$$a1 = X1w1 = XPP^{-1}w$$\n",
    "\n",
    "Так как $P$ по условию обратимая, то произведение $PP^{-1}$ равно $E$:\n",
    "\n",
    "$$a1 = XPP^{-1}w = XEw = Xw = a$$\n",
    "\n",
    "Как видно, значение предсказания $a$ не меняется, если умножать матрицу признаков на обратимую матрицу."
   ]
  },
  {
   "cell_type": "markdown",
   "metadata": {},
   "source": [
    "## Алгоритм преобразования"
   ]
  },
  {
   "cell_type": "markdown",
   "metadata": {},
   "source": [
    "**Алгоритм**\n",
    "\n",
    "Для защиты информации на этапе поиска коэффициентов регрессии и предсказаний регрессии будем умножать матрицу признаков на обратимую матрицу $Y$, которая будет генерироваться случайным образом.\n",
    "\n",
    "Этапы алгоритма:\n",
    "1. Составление матрицы $Y$.\n",
    "2. Проверка матрицы на обратимость. Вычисление детерминанта матрицы $Y$.\n",
    "3. Получение матрицы преобразованных признаков $Z = XY$.\n",
    "4. Применение алгоритма на преобразованных признаках $Z$."
   ]
  },
  {
   "cell_type": "markdown",
   "metadata": {},
   "source": [
    "**Обоснование**\n",
    "\n",
    "Матрица $Y$ должна иметь необходимую размерность $(n*n)$, где n - количество признаков для регрессии.\n",
    "Таким образом матрица $Z$ будет иметь туже размерность, что и матрица $X$. Обратная матрица $Y$ существует только для квадратных невырожденных матриц (определитель которых не равен нулю).\n",
    "\n",
    "Пример:\n",
    "\n",
    "$\n",
    "X = \\begin{pmatrix}\n",
    "1 & 2 \\\\\n",
    "2 & 3 \\\\\n",
    "4 & 5  \n",
    "\\end{pmatrix}\n",
    "\\qquad \n",
    "Y = \\begin{pmatrix}\n",
    "1 & 0 \\\\\n",
    "2 & 3 \\\\  \n",
    "\\end{pmatrix}\n",
    "\\qquad det  Y = 3 $\n",
    "\n",
    "Найдем значние Z:\n",
    "\n",
    "$\n",
    "Z = \\begin{pmatrix}\n",
    "1 & 2 \\\\\n",
    "2 & 3 \\\\\n",
    "4 & 5  \n",
    "\\end{pmatrix} \\begin{pmatrix}\n",
    "1 & 0 \\\\\n",
    "2 & 3 \\\\  \n",
    "\\end{pmatrix} = \\begin{pmatrix}\n",
    "1*1+2*2 & 1*0+2*3  \\\\\n",
    "2*1+3*2 & 2*0+3*3  \\\\\n",
    "4*1+5*2 & 4*0+5*3   \n",
    "\\end{pmatrix} = \\begin{pmatrix}\n",
    "5 & 6 \\\\\n",
    "8 & 9 \\\\\n",
    "14 & 15  \n",
    "\\end{pmatrix}$\n",
    "\n",
    "После этого добавляем нулевой столбец и вводим данные в линейную регрессию."
   ]
  },
  {
   "cell_type": "markdown",
   "metadata": {},
   "source": [
    "## Проверка алгоритма"
   ]
  },
  {
   "cell_type": "markdown",
   "metadata": {},
   "source": [
    "Разделим данные на обучающую и тестовую выборки."
   ]
  },
  {
   "cell_type": "code",
   "execution_count": 8,
   "metadata": {},
   "outputs": [],
   "source": [
    "features = data.drop('Страховые выплаты',axis=1)\n",
    "target = data['Страховые выплаты']\n",
    "\n",
    "features_train, features_test, target_train, target_test = train_test_split(\n",
    "    features, target, test_size=0.25, random_state=12345)"
   ]
  },
  {
   "cell_type": "markdown",
   "metadata": {},
   "source": [
    "Применим линейную регрессию до преобразования данных."
   ]
  },
  {
   "cell_type": "code",
   "execution_count": 9,
   "metadata": {},
   "outputs": [
    {
     "name": "stdout",
     "output_type": "stream",
     "text": [
      "Оценка R2 = 0.4352\n"
     ]
    }
   ],
   "source": [
    "model = LinearRegression()\n",
    "model.fit(features_train, target_train) # обучим модель\n",
    "predict = model.predict(features_test) # предсказываем \n",
    "r2_score_data = r2_score(target_test, predict)\n",
    "\n",
    "print(f\"Оценка R2 = {r2_score_data:.4}\")"
   ]
  },
  {
   "cell_type": "markdown",
   "metadata": {},
   "source": [
    "Создадим функцию преобразования матрицы признаков."
   ]
  },
  {
   "cell_type": "code",
   "execution_count": 10,
   "metadata": {},
   "outputs": [],
   "source": [
    "def data_protect(features):\n",
    "    protect_features = features\n",
    "    n = features.shape[1]\n",
    "    np.random.seed(12345)\n",
    "    protect_matrix = np.random.randint(1, 10, (n,n)) # создадим рандомную матрицу\n",
    "    det = np.linalg.det(protect_matrix) # вычислим определитель\n",
    "    while det == 0:\n",
    "        np.random.seed(12345)\n",
    "        protect_matrix = np.random.randint(1, 10, (n,n))\n",
    "        det = np.linalg.det(protect_matrix)\n",
    "    protect_features = protect_features @ protect_matrix\n",
    "    return protect_features, protect_matrix"
   ]
  },
  {
   "cell_type": "markdown",
   "metadata": {},
   "source": [
    "Выведем данные до преобразования и после."
   ]
  },
  {
   "cell_type": "code",
   "execution_count": 11,
   "metadata": {},
   "outputs": [
    {
     "data": {
      "text/html": [
       "<div>\n",
       "<style scoped>\n",
       "    .dataframe tbody tr th:only-of-type {\n",
       "        vertical-align: middle;\n",
       "    }\n",
       "\n",
       "    .dataframe tbody tr th {\n",
       "        vertical-align: top;\n",
       "    }\n",
       "\n",
       "    .dataframe thead th {\n",
       "        text-align: right;\n",
       "    }\n",
       "</style>\n",
       "<table border=\"1\" class=\"dataframe\">\n",
       "  <thead>\n",
       "    <tr style=\"text-align: right;\">\n",
       "      <th></th>\n",
       "      <th>Пол</th>\n",
       "      <th>Возраст</th>\n",
       "      <th>Зарплата</th>\n",
       "      <th>Члены семьи</th>\n",
       "    </tr>\n",
       "  </thead>\n",
       "  <tbody>\n",
       "    <tr>\n",
       "      <th>0</th>\n",
       "      <td>1</td>\n",
       "      <td>41.0</td>\n",
       "      <td>49600.0</td>\n",
       "      <td>1</td>\n",
       "    </tr>\n",
       "    <tr>\n",
       "      <th>1</th>\n",
       "      <td>0</td>\n",
       "      <td>46.0</td>\n",
       "      <td>38000.0</td>\n",
       "      <td>1</td>\n",
       "    </tr>\n",
       "    <tr>\n",
       "      <th>2</th>\n",
       "      <td>0</td>\n",
       "      <td>29.0</td>\n",
       "      <td>21000.0</td>\n",
       "      <td>0</td>\n",
       "    </tr>\n",
       "    <tr>\n",
       "      <th>3</th>\n",
       "      <td>0</td>\n",
       "      <td>21.0</td>\n",
       "      <td>41700.0</td>\n",
       "      <td>2</td>\n",
       "    </tr>\n",
       "    <tr>\n",
       "      <th>4</th>\n",
       "      <td>1</td>\n",
       "      <td>28.0</td>\n",
       "      <td>26100.0</td>\n",
       "      <td>0</td>\n",
       "    </tr>\n",
       "  </tbody>\n",
       "</table>\n",
       "</div>"
      ],
      "text/plain": [
       "   Пол  Возраст  Зарплата  Члены семьи\n",
       "0    1     41.0   49600.0            1\n",
       "1    0     46.0   38000.0            1\n",
       "2    0     29.0   21000.0            0\n",
       "3    0     21.0   41700.0            2\n",
       "4    1     28.0   26100.0            0"
      ]
     },
     "metadata": {},
     "output_type": "display_data"
    },
    {
     "data": {
      "text/html": [
       "<div>\n",
       "<style scoped>\n",
       "    .dataframe tbody tr th:only-of-type {\n",
       "        vertical-align: middle;\n",
       "    }\n",
       "\n",
       "    .dataframe tbody tr th {\n",
       "        vertical-align: top;\n",
       "    }\n",
       "\n",
       "    .dataframe thead th {\n",
       "        text-align: right;\n",
       "    }\n",
       "</style>\n",
       "<table border=\"1\" class=\"dataframe\">\n",
       "  <thead>\n",
       "    <tr style=\"text-align: right;\">\n",
       "      <th></th>\n",
       "      <th>0</th>\n",
       "      <th>1</th>\n",
       "      <th>2</th>\n",
       "      <th>3</th>\n",
       "    </tr>\n",
       "  </thead>\n",
       "  <tbody>\n",
       "    <tr>\n",
       "      <th>0</th>\n",
       "      <td>99452.0</td>\n",
       "      <td>396931.0</td>\n",
       "      <td>347287.0</td>\n",
       "      <td>49899.0</td>\n",
       "    </tr>\n",
       "    <tr>\n",
       "      <th>1</th>\n",
       "      <td>76279.0</td>\n",
       "      <td>304140.0</td>\n",
       "      <td>266095.0</td>\n",
       "      <td>38329.0</td>\n",
       "    </tr>\n",
       "    <tr>\n",
       "      <th>2</th>\n",
       "      <td>42174.0</td>\n",
       "      <td>168087.0</td>\n",
       "      <td>147058.0</td>\n",
       "      <td>21203.0</td>\n",
       "    </tr>\n",
       "    <tr>\n",
       "      <th>3</th>\n",
       "      <td>83532.0</td>\n",
       "      <td>333667.0</td>\n",
       "      <td>291948.0</td>\n",
       "      <td>41861.0</td>\n",
       "    </tr>\n",
       "    <tr>\n",
       "      <th>4</th>\n",
       "      <td>52371.0</td>\n",
       "      <td>208890.0</td>\n",
       "      <td>182758.0</td>\n",
       "      <td>26301.0</td>\n",
       "    </tr>\n",
       "  </tbody>\n",
       "</table>\n",
       "</div>"
      ],
      "text/plain": [
       "         0         1         2        3\n",
       "0  99452.0  396931.0  347287.0  49899.0\n",
       "1  76279.0  304140.0  266095.0  38329.0\n",
       "2  42174.0  168087.0  147058.0  21203.0\n",
       "3  83532.0  333667.0  291948.0  41861.0\n",
       "4  52371.0  208890.0  182758.0  26301.0"
      ]
     },
     "metadata": {},
     "output_type": "display_data"
    },
    {
     "data": {
      "text/plain": [
       "array([[3, 6, 2, 5],\n",
       "       [6, 3, 2, 7],\n",
       "       [2, 8, 7, 1],\n",
       "       [3, 2, 3, 7]])"
      ]
     },
     "execution_count": 11,
     "metadata": {},
     "output_type": "execute_result"
    }
   ],
   "source": [
    "display(features.head())\n",
    "features, protect_matrix = data_protect(features)\n",
    "display(features.head())\n",
    "protect_matrix"
   ]
  },
  {
   "cell_type": "markdown",
   "metadata": {},
   "source": [
    "Разделим данные на обучающую и тестовую выборки после преобразованию."
   ]
  },
  {
   "cell_type": "code",
   "execution_count": 12,
   "metadata": {},
   "outputs": [],
   "source": [
    "features_train, features_test, target_train, target_test = train_test_split(\n",
    "    features, target, test_size=0.25, random_state=12345)"
   ]
  },
  {
   "cell_type": "markdown",
   "metadata": {},
   "source": [
    "Применим линейную регрессию после преобразования данных."
   ]
  },
  {
   "cell_type": "code",
   "execution_count": 13,
   "metadata": {},
   "outputs": [
    {
     "name": "stdout",
     "output_type": "stream",
     "text": [
      "Оценка R2 после защиты = 0.4352\n"
     ]
    }
   ],
   "source": [
    "model = LinearRegression()\n",
    "model.fit(features_train, target_train)\n",
    "predict = model.predict(features_test)\n",
    "r2_score_data_protect = r2_score(target_test, predict)\n",
    "\n",
    "print(f\"Оценка R2 после преобразования = {r2_score_data_protect:.4}\")"
   ]
  },
  {
   "cell_type": "markdown",
   "metadata": {},
   "source": [
    "## Вывод"
   ]
  },
  {
   "cell_type": "markdown",
   "metadata": {},
   "source": [
    "При проверке качества моделей Линейной регрессии с помощью метрики R2 на данных - сначала на исходных, затем умноженных на обратимую матрицу метрики показали одинаковый результат. \n",
    "\n",
    "Объединим качество оценкок в таблицу:"
   ]
  },
  {
   "cell_type": "code",
   "execution_count": 14,
   "metadata": {},
   "outputs": [
    {
     "data": {
      "text/html": [
       "<div>\n",
       "<style scoped>\n",
       "    .dataframe tbody tr th:only-of-type {\n",
       "        vertical-align: middle;\n",
       "    }\n",
       "\n",
       "    .dataframe tbody tr th {\n",
       "        vertical-align: top;\n",
       "    }\n",
       "\n",
       "    .dataframe thead th {\n",
       "        text-align: right;\n",
       "    }\n",
       "</style>\n",
       "<table border=\"1\" class=\"dataframe\">\n",
       "  <thead>\n",
       "    <tr style=\"text-align: right;\">\n",
       "      <th></th>\n",
       "      <th>R2</th>\n",
       "    </tr>\n",
       "  </thead>\n",
       "  <tbody>\n",
       "    <tr>\n",
       "      <th>Линейная регрессия</th>\n",
       "      <td>0.435228</td>\n",
       "    </tr>\n",
       "    <tr>\n",
       "      <th>Линейная регрессия на преобразованных признаках</th>\n",
       "      <td>0.435228</td>\n",
       "    </tr>\n",
       "  </tbody>\n",
       "</table>\n",
       "</div>"
      ],
      "text/plain": [
       "                                                       R2\n",
       "Линейная регрессия                               0.435228\n",
       "Линейная регрессия на преобразованных признаках  0.435228"
      ]
     },
     "execution_count": 14,
     "metadata": {},
     "output_type": "execute_result"
    }
   ],
   "source": [
    "pd.DataFrame(data= [r2_score_data,\n",
    "                      r2_score_data_protect], \n",
    "                     columns=['R2'], \n",
    "                     index=['Линейная регрессия',\n",
    "                            'Линейная регрессия на преобразованных признаках'])"
   ]
  }
 ],
 "metadata": {
  "ExecuteTimeLog": [
   {
    "duration": 510,
    "start_time": "2022-05-11T16:50:21.883Z"
   },
   {
    "duration": 81,
    "start_time": "2022-05-11T16:50:59.185Z"
   },
   {
    "duration": 88,
    "start_time": "2022-05-11T16:51:06.972Z"
   },
   {
    "duration": 9,
    "start_time": "2022-05-11T16:52:18.282Z"
   },
   {
    "duration": 3840,
    "start_time": "2022-05-11T16:52:27.208Z"
   },
   {
    "duration": 9,
    "start_time": "2022-05-11T16:56:58.799Z"
   },
   {
    "duration": 69,
    "start_time": "2022-05-11T16:56:59.359Z"
   },
   {
    "duration": 11,
    "start_time": "2022-05-11T16:57:29.730Z"
   },
   {
    "duration": 10,
    "start_time": "2022-05-11T16:57:36.586Z"
   },
   {
    "duration": 25,
    "start_time": "2022-05-11T16:58:45.873Z"
   },
   {
    "duration": 28,
    "start_time": "2022-05-11T16:58:54.939Z"
   },
   {
    "duration": 6,
    "start_time": "2022-05-11T16:59:39.085Z"
   },
   {
    "duration": 61,
    "start_time": "2022-05-11T16:59:41.008Z"
   },
   {
    "duration": 1401,
    "start_time": "2022-05-11T17:00:26.713Z"
   },
   {
    "duration": 308,
    "start_time": "2022-05-11T17:00:55.030Z"
   },
   {
    "duration": 273,
    "start_time": "2022-05-11T17:01:18.078Z"
   },
   {
    "duration": 197,
    "start_time": "2022-05-11T17:01:41.363Z"
   },
   {
    "duration": 42,
    "start_time": "2022-05-11T17:05:33.040Z"
   },
   {
    "duration": 16,
    "start_time": "2022-05-11T17:05:47.250Z"
   },
   {
    "duration": 12,
    "start_time": "2022-05-11T17:07:14.137Z"
   },
   {
    "duration": 11,
    "start_time": "2022-05-11T17:07:29.166Z"
   },
   {
    "duration": 16,
    "start_time": "2022-05-11T17:07:39.999Z"
   },
   {
    "duration": 7,
    "start_time": "2022-05-11T17:08:43.443Z"
   },
   {
    "duration": 11,
    "start_time": "2022-05-11T17:09:09.229Z"
   },
   {
    "duration": 7,
    "start_time": "2022-05-11T17:11:52.436Z"
   },
   {
    "duration": 8,
    "start_time": "2022-05-11T17:12:12.945Z"
   },
   {
    "duration": 17,
    "start_time": "2022-05-11T17:12:22.415Z"
   },
   {
    "duration": 553,
    "start_time": "2022-05-13T19:01:33.982Z"
   },
   {
    "duration": 52,
    "start_time": "2022-05-13T19:01:34.539Z"
   },
   {
    "duration": 9,
    "start_time": "2022-05-13T19:01:34.593Z"
   },
   {
    "duration": 87,
    "start_time": "2022-05-13T19:01:34.607Z"
   },
   {
    "duration": 6,
    "start_time": "2022-05-13T19:01:34.698Z"
   },
   {
    "duration": 19,
    "start_time": "2022-05-13T19:01:34.706Z"
   },
   {
    "duration": 952,
    "start_time": "2022-05-13T19:02:10.615Z"
   },
   {
    "duration": 2505,
    "start_time": "2022-05-13T19:02:35.895Z"
   },
   {
    "duration": 245,
    "start_time": "2022-05-13T19:02:39.368Z"
   },
   {
    "duration": 244,
    "start_time": "2022-05-13T19:03:35.898Z"
   },
   {
    "duration": 244,
    "start_time": "2022-05-13T19:04:15.930Z"
   },
   {
    "duration": 10,
    "start_time": "2022-05-13T19:24:57.039Z"
   },
   {
    "duration": 4,
    "start_time": "2022-05-13T19:25:57.961Z"
   },
   {
    "duration": 48,
    "start_time": "2022-05-13T19:25:57.968Z"
   },
   {
    "duration": 7,
    "start_time": "2022-05-13T19:25:58.018Z"
   },
   {
    "duration": 92,
    "start_time": "2022-05-13T19:25:58.028Z"
   },
   {
    "duration": 5,
    "start_time": "2022-05-13T19:25:58.123Z"
   },
   {
    "duration": 39,
    "start_time": "2022-05-13T19:25:58.131Z"
   },
   {
    "duration": 217,
    "start_time": "2022-05-13T19:25:58.172Z"
   },
   {
    "duration": 13,
    "start_time": "2022-05-13T19:25:58.391Z"
   },
   {
    "duration": 17,
    "start_time": "2022-05-13T19:26:21.863Z"
   },
   {
    "duration": 23,
    "start_time": "2022-05-13T19:26:23.107Z"
   },
   {
    "duration": 6,
    "start_time": "2022-05-13T19:26:29.612Z"
   },
   {
    "duration": 75,
    "start_time": "2022-05-13T19:26:29.620Z"
   },
   {
    "duration": 13,
    "start_time": "2022-05-13T19:26:29.750Z"
   },
   {
    "duration": 41,
    "start_time": "2022-05-13T19:26:29.766Z"
   },
   {
    "duration": 346,
    "start_time": "2022-05-13T19:26:29.810Z"
   },
   {
    "duration": 19,
    "start_time": "2022-05-13T19:26:30.158Z"
   },
   {
    "duration": 11,
    "start_time": "2022-05-13T19:26:56.970Z"
   },
   {
    "duration": 26,
    "start_time": "2022-05-13T19:26:56.984Z"
   },
   {
    "duration": 6,
    "start_time": "2022-05-13T19:26:57.013Z"
   },
   {
    "duration": 71,
    "start_time": "2022-05-13T19:26:57.021Z"
   },
   {
    "duration": 7,
    "start_time": "2022-05-13T19:26:57.094Z"
   },
   {
    "duration": 25,
    "start_time": "2022-05-13T19:26:57.103Z"
   },
   {
    "duration": 224,
    "start_time": "2022-05-13T19:26:57.131Z"
   },
   {
    "duration": 14,
    "start_time": "2022-05-13T19:26:57.358Z"
   },
   {
    "duration": 838,
    "start_time": "2022-05-13T19:27:06.095Z"
   },
   {
    "duration": 806,
    "start_time": "2022-05-13T19:27:11.715Z"
   },
   {
    "duration": 835,
    "start_time": "2022-05-13T19:27:18.749Z"
   },
   {
    "duration": 1226,
    "start_time": "2022-05-13T19:27:38.960Z"
   },
   {
    "duration": 800,
    "start_time": "2022-05-13T19:27:47.989Z"
   },
   {
    "duration": 1161,
    "start_time": "2022-05-13T19:28:21.493Z"
   },
   {
    "duration": 1032,
    "start_time": "2022-05-13T19:28:44.693Z"
   },
   {
    "duration": 1503,
    "start_time": "2022-05-13T19:30:23.622Z"
   },
   {
    "duration": 2251,
    "start_time": "2022-05-13T19:30:40.863Z"
   },
   {
    "duration": 1251,
    "start_time": "2022-05-13T19:30:55.360Z"
   },
   {
    "duration": 1664,
    "start_time": "2022-05-13T19:31:15.902Z"
   },
   {
    "duration": 1262,
    "start_time": "2022-05-13T19:31:30.782Z"
   },
   {
    "duration": 2727,
    "start_time": "2022-05-13T19:32:39.079Z"
   },
   {
    "duration": 1722,
    "start_time": "2022-05-13T19:33:16.027Z"
   },
   {
    "duration": 1140,
    "start_time": "2022-05-17T19:28:29.597Z"
   },
   {
    "duration": 45,
    "start_time": "2022-05-17T19:28:30.739Z"
   },
   {
    "duration": 5,
    "start_time": "2022-05-17T19:28:30.785Z"
   },
   {
    "duration": 64,
    "start_time": "2022-05-17T19:28:30.792Z"
   },
   {
    "duration": 5,
    "start_time": "2022-05-17T19:28:30.857Z"
   },
   {
    "duration": 18,
    "start_time": "2022-05-17T19:28:30.863Z"
   },
   {
    "duration": 108,
    "start_time": "2022-05-17T19:28:30.883Z"
   },
   {
    "duration": 0,
    "start_time": "2022-05-17T19:28:30.993Z"
   },
   {
    "duration": 0,
    "start_time": "2022-05-17T19:28:30.994Z"
   },
   {
    "duration": 0,
    "start_time": "2022-05-17T19:28:30.995Z"
   },
   {
    "duration": 0,
    "start_time": "2022-05-17T19:28:30.997Z"
   },
   {
    "duration": 0,
    "start_time": "2022-05-17T19:28:30.998Z"
   },
   {
    "duration": 0,
    "start_time": "2022-05-17T19:28:30.999Z"
   },
   {
    "duration": 1086,
    "start_time": "2022-05-17T19:36:57.033Z"
   },
   {
    "duration": 27,
    "start_time": "2022-05-17T19:36:58.122Z"
   },
   {
    "duration": 5,
    "start_time": "2022-05-17T19:36:58.151Z"
   },
   {
    "duration": 58,
    "start_time": "2022-05-17T19:36:58.159Z"
   },
   {
    "duration": 4,
    "start_time": "2022-05-17T19:36:58.219Z"
   },
   {
    "duration": 12,
    "start_time": "2022-05-17T19:36:58.225Z"
   },
   {
    "duration": 5,
    "start_time": "2022-05-17T19:36:58.239Z"
   },
   {
    "duration": 7,
    "start_time": "2022-05-17T19:36:58.245Z"
   },
   {
    "duration": 9,
    "start_time": "2022-05-17T19:36:58.254Z"
   },
   {
    "duration": 33,
    "start_time": "2022-05-17T19:36:58.266Z"
   },
   {
    "duration": 15,
    "start_time": "2022-05-17T19:36:58.301Z"
   },
   {
    "duration": 5,
    "start_time": "2022-05-17T19:36:58.318Z"
   },
   {
    "duration": 8,
    "start_time": "2022-05-17T19:36:58.325Z"
   },
   {
    "duration": 10,
    "start_time": "2022-05-17T19:36:58.335Z"
   },
   {
    "duration": 798,
    "start_time": "2022-05-17T19:54:50.251Z"
   },
   {
    "duration": 96,
    "start_time": "2022-05-17T19:54:51.051Z"
   },
   {
    "duration": 5,
    "start_time": "2022-05-17T19:54:51.148Z"
   },
   {
    "duration": 41,
    "start_time": "2022-05-17T19:54:51.154Z"
   },
   {
    "duration": 9,
    "start_time": "2022-05-17T19:54:51.196Z"
   },
   {
    "duration": 27,
    "start_time": "2022-05-17T19:54:51.207Z"
   },
   {
    "duration": 6,
    "start_time": "2022-05-17T19:54:51.236Z"
   },
   {
    "duration": 9,
    "start_time": "2022-05-17T19:54:51.244Z"
   },
   {
    "duration": 15,
    "start_time": "2022-05-17T19:54:51.255Z"
   },
   {
    "duration": 21,
    "start_time": "2022-05-17T19:54:51.272Z"
   },
   {
    "duration": 4,
    "start_time": "2022-05-17T19:54:51.295Z"
   },
   {
    "duration": 12,
    "start_time": "2022-05-17T19:54:51.300Z"
   },
   {
    "duration": 14,
    "start_time": "2022-05-17T19:54:51.314Z"
   },
   {
    "duration": 3,
    "start_time": "2022-05-17T19:59:47.042Z"
   },
   {
    "duration": 39,
    "start_time": "2022-05-17T19:59:47.047Z"
   },
   {
    "duration": 4,
    "start_time": "2022-05-17T19:59:47.087Z"
   },
   {
    "duration": 44,
    "start_time": "2022-05-17T19:59:47.093Z"
   },
   {
    "duration": 8,
    "start_time": "2022-05-17T19:59:47.139Z"
   },
   {
    "duration": 6,
    "start_time": "2022-05-17T19:59:47.148Z"
   },
   {
    "duration": 5,
    "start_time": "2022-05-17T19:59:47.156Z"
   },
   {
    "duration": 12,
    "start_time": "2022-05-17T19:59:47.163Z"
   },
   {
    "duration": 7,
    "start_time": "2022-05-17T19:59:47.177Z"
   },
   {
    "duration": 20,
    "start_time": "2022-05-17T19:59:47.185Z"
   },
   {
    "duration": 5,
    "start_time": "2022-05-17T19:59:47.227Z"
   },
   {
    "duration": 17,
    "start_time": "2022-05-17T19:59:47.234Z"
   },
   {
    "duration": 10,
    "start_time": "2022-05-17T19:59:47.253Z"
   },
   {
    "duration": 885,
    "start_time": "2022-05-17T20:00:19.033Z"
   },
   {
    "duration": 102,
    "start_time": "2022-05-17T20:00:19.920Z"
   },
   {
    "duration": 4,
    "start_time": "2022-05-17T20:00:20.024Z"
   },
   {
    "duration": 44,
    "start_time": "2022-05-17T20:00:20.029Z"
   },
   {
    "duration": 9,
    "start_time": "2022-05-17T20:00:20.074Z"
   },
   {
    "duration": 7,
    "start_time": "2022-05-17T20:00:20.085Z"
   },
   {
    "duration": 45,
    "start_time": "2022-05-17T20:00:20.094Z"
   },
   {
    "duration": 90,
    "start_time": "2022-05-17T20:00:20.141Z"
   },
   {
    "duration": 10,
    "start_time": "2022-05-17T20:00:20.233Z"
   },
   {
    "duration": 4,
    "start_time": "2022-05-17T20:00:20.246Z"
   },
   {
    "duration": 84,
    "start_time": "2022-05-17T20:00:20.251Z"
   },
   {
    "duration": 5,
    "start_time": "2022-05-17T20:00:20.337Z"
   },
   {
    "duration": 11,
    "start_time": "2022-05-17T20:00:20.343Z"
   },
   {
    "duration": 7,
    "start_time": "2022-05-17T20:00:20.356Z"
   },
   {
    "duration": 8,
    "start_time": "2022-05-17T20:03:26.076Z"
   },
   {
    "duration": 34,
    "start_time": "2022-05-17T20:28:32.622Z"
   }
  ],
  "kernelspec": {
   "display_name": "Python 3 (ipykernel)",
   "language": "python",
   "name": "python3"
  },
  "language_info": {
   "codemirror_mode": {
    "name": "ipython",
    "version": 3
   },
   "file_extension": ".py",
   "mimetype": "text/x-python",
   "name": "python",
   "nbconvert_exporter": "python",
   "pygments_lexer": "ipython3",
   "version": "3.9.5"
  },
  "toc": {
   "base_numbering": 1,
   "nav_menu": {},
   "number_sections": true,
   "sideBar": true,
   "skip_h1_title": true,
   "title_cell": "Содержание",
   "title_sidebar": "Contents",
   "toc_cell": true,
   "toc_position": {},
   "toc_section_display": true,
   "toc_window_display": false
  }
 },
 "nbformat": 4,
 "nbformat_minor": 2
}
