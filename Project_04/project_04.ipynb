{
 "cells": [
  {
   "cell_type": "markdown",
   "metadata": {
    "toc": true
   },
   "source": [
    "<h1>Содержание<span class=\"tocSkip\"></span></h1>\n",
    "<div class=\"toc\"><ul class=\"toc-item\"><li><span><a href=\"#Изучение-данных-из-файла\" data-toc-modified-id=\"Изучение-данных-из-файла-1\"><span class=\"toc-item-num\">1&nbsp;&nbsp;</span>Изучение данных из файла</a></span><ul class=\"toc-item\"><li><span><a href=\"#Вывод\" data-toc-modified-id=\"Вывод-1.1\"><span class=\"toc-item-num\">1.1&nbsp;&nbsp;</span>Вывод</a></span></li></ul></li><li><span><a href=\"#Подготовка-данных\" data-toc-modified-id=\"Подготовка-данных-2\"><span class=\"toc-item-num\">2&nbsp;&nbsp;</span>Подготовка данных</a></span><ul class=\"toc-item\"><li><span><a href=\"#Вывод\" data-toc-modified-id=\"Вывод-2.1\"><span class=\"toc-item-num\">2.1&nbsp;&nbsp;</span>Вывод</a></span></li></ul></li><li><span><a href=\"#Исследовательский-анализ-данных\" data-toc-modified-id=\"Исследовательский-анализ-данных-3\"><span class=\"toc-item-num\">3&nbsp;&nbsp;</span>Исследовательский анализ данных</a></span><ul class=\"toc-item\"><li><span><a href=\"#Вывод\" data-toc-modified-id=\"Вывод-3.1\"><span class=\"toc-item-num\">3.1&nbsp;&nbsp;</span>Вывод</a></span></li></ul></li><li><span><a href=\"#Составление-портрета-пользователя-каждого-региона\" data-toc-modified-id=\"Составление-портрета-пользователя-каждого-региона-4\"><span class=\"toc-item-num\">4&nbsp;&nbsp;</span>Составление портрета пользователя каждого региона</a></span><ul class=\"toc-item\"><li><span><a href=\"#Вывод\" data-toc-modified-id=\"Вывод-4.1\"><span class=\"toc-item-num\">4.1&nbsp;&nbsp;</span>Вывод</a></span></li></ul></li><li><span><a href=\"#Проверка-гипотез\" data-toc-modified-id=\"Проверка-гипотез-5\"><span class=\"toc-item-num\">5&nbsp;&nbsp;</span>Проверка гипотез</a></span></li><li><span><a href=\"#Общий-вывод\" data-toc-modified-id=\"Общий-вывод-6\"><span class=\"toc-item-num\">6&nbsp;&nbsp;</span>Общий вывод</a></span></li></ul></div>"
   ]
  },
  {
   "cell_type": "markdown",
   "metadata": {},
   "source": [
    "# Исследование закономерности успеха игры\n",
    "\n",
    "Интернет-магазин «Стримчик» продаёт по всему миру\n",
    "компьютерные игры. Из открытых источников доступны исторические данные о\n",
    "продажах игр, оценки пользователей и экспертов, жанры и платформы\n",
    "(например, Xboxили PlayStation). Выявим определяющие успешность\n",
    "игры закономерности. Это позволит сделать ставку на потенциально популярный\n",
    "продукт и спланировать рекламные кампании.\n",
    "\n",
    "В наборе данных попадается аббревиатура ESRB (Entertainment Software Rating\n",
    "Board) — это ассоциация, определяющая возрастной рейтинг компьютерных\n",
    "игр. ESRB оценивает игровой контент и присваивает ему подходящую возрастную\n",
    "категорию, например, «Для взрослых», «Для детей младшего возраста» или «Для\n",
    "подростков»."
   ]
  },
  {
   "cell_type": "markdown",
   "metadata": {},
   "source": [
    "# Описание данных:\n",
    "\n",
    "* `Name` — название игры\n",
    "* `Platform` — платформа\n",
    "* `Year_of_Release` — год выпуска\n",
    "* `Genre` — жанр игры\n",
    "* `NA_sales` — продажи в Северной Америке (миллионы проданных копий)\n",
    "* `EU_sales` — продажи в Европе (миллионы проданных копий)\n",
    "* `JP_sales` — продажи в Японии (миллионы проданных копий)\n",
    "* `Other_sales` — продажи в других странах (миллионы проданных копий)\n",
    "* `Critic_Score` — оценка критиков (максимум 100)\n",
    "* `User_Score` — оценка пользователей (максимум 10)\n",
    "* `Rating` — рейтинг от организации ESRB (англ. Entertainment Software Rating Board). Эта ассоциация определяет рейтинг компьютерных игр и присваивает им подходящую возрастную категорию."
   ]
  },
  {
   "cell_type": "markdown",
   "metadata": {},
   "source": [
    "## Изучение данных из файла"
   ]
  },
  {
   "cell_type": "markdown",
   "metadata": {},
   "source": [
    "Откроем файл с данными и изучим общую информацию."
   ]
  },
  {
   "cell_type": "markdown",
   "metadata": {},
   "source": [
    "Импортируем необходимые библиотеки."
   ]
  },
  {
   "cell_type": "code",
   "execution_count": 1,
   "metadata": {},
   "outputs": [],
   "source": [
    "import pandas as pd\n",
    "import numpy as np\n",
    "import matplotlib.pyplot as plt\n",
    "import seaborn as sns\n",
    "from scipy import stats as st"
   ]
  },
  {
   "cell_type": "markdown",
   "metadata": {},
   "source": [
    "Откроем файл с данными."
   ]
  },
  {
   "cell_type": "code",
   "execution_count": 2,
   "metadata": {},
   "outputs": [],
   "source": [
    "games = pd.read_csv('/datasets/games.csv')"
   ]
  },
  {
   "cell_type": "markdown",
   "metadata": {},
   "source": [
    "Выведем первые пять строк наших данных."
   ]
  },
  {
   "cell_type": "code",
   "execution_count": 3,
   "metadata": {},
   "outputs": [
    {
     "data": {
      "text/html": [
       "<div>\n",
       "<style scoped>\n",
       "    .dataframe tbody tr th:only-of-type {\n",
       "        vertical-align: middle;\n",
       "    }\n",
       "\n",
       "    .dataframe tbody tr th {\n",
       "        vertical-align: top;\n",
       "    }\n",
       "\n",
       "    .dataframe thead th {\n",
       "        text-align: right;\n",
       "    }\n",
       "</style>\n",
       "<table border=\"1\" class=\"dataframe\">\n",
       "  <thead>\n",
       "    <tr style=\"text-align: right;\">\n",
       "      <th></th>\n",
       "      <th>Name</th>\n",
       "      <th>Platform</th>\n",
       "      <th>Year_of_Release</th>\n",
       "      <th>Genre</th>\n",
       "      <th>NA_sales</th>\n",
       "      <th>EU_sales</th>\n",
       "      <th>JP_sales</th>\n",
       "      <th>Other_sales</th>\n",
       "      <th>Critic_Score</th>\n",
       "      <th>User_Score</th>\n",
       "      <th>Rating</th>\n",
       "    </tr>\n",
       "  </thead>\n",
       "  <tbody>\n",
       "    <tr>\n",
       "      <th>0</th>\n",
       "      <td>Wii Sports</td>\n",
       "      <td>Wii</td>\n",
       "      <td>2006.0</td>\n",
       "      <td>Sports</td>\n",
       "      <td>41.36</td>\n",
       "      <td>28.96</td>\n",
       "      <td>3.77</td>\n",
       "      <td>8.45</td>\n",
       "      <td>76.0</td>\n",
       "      <td>8</td>\n",
       "      <td>E</td>\n",
       "    </tr>\n",
       "    <tr>\n",
       "      <th>1</th>\n",
       "      <td>Super Mario Bros.</td>\n",
       "      <td>NES</td>\n",
       "      <td>1985.0</td>\n",
       "      <td>Platform</td>\n",
       "      <td>29.08</td>\n",
       "      <td>3.58</td>\n",
       "      <td>6.81</td>\n",
       "      <td>0.77</td>\n",
       "      <td>NaN</td>\n",
       "      <td>NaN</td>\n",
       "      <td>NaN</td>\n",
       "    </tr>\n",
       "    <tr>\n",
       "      <th>2</th>\n",
       "      <td>Mario Kart Wii</td>\n",
       "      <td>Wii</td>\n",
       "      <td>2008.0</td>\n",
       "      <td>Racing</td>\n",
       "      <td>15.68</td>\n",
       "      <td>12.76</td>\n",
       "      <td>3.79</td>\n",
       "      <td>3.29</td>\n",
       "      <td>82.0</td>\n",
       "      <td>8.3</td>\n",
       "      <td>E</td>\n",
       "    </tr>\n",
       "    <tr>\n",
       "      <th>3</th>\n",
       "      <td>Wii Sports Resort</td>\n",
       "      <td>Wii</td>\n",
       "      <td>2009.0</td>\n",
       "      <td>Sports</td>\n",
       "      <td>15.61</td>\n",
       "      <td>10.93</td>\n",
       "      <td>3.28</td>\n",
       "      <td>2.95</td>\n",
       "      <td>80.0</td>\n",
       "      <td>8</td>\n",
       "      <td>E</td>\n",
       "    </tr>\n",
       "    <tr>\n",
       "      <th>4</th>\n",
       "      <td>Pokemon Red/Pokemon Blue</td>\n",
       "      <td>GB</td>\n",
       "      <td>1996.0</td>\n",
       "      <td>Role-Playing</td>\n",
       "      <td>11.27</td>\n",
       "      <td>8.89</td>\n",
       "      <td>10.22</td>\n",
       "      <td>1.00</td>\n",
       "      <td>NaN</td>\n",
       "      <td>NaN</td>\n",
       "      <td>NaN</td>\n",
       "    </tr>\n",
       "  </tbody>\n",
       "</table>\n",
       "</div>"
      ],
      "text/plain": [
       "                       Name Platform  Year_of_Release         Genre  NA_sales  \\\n",
       "0                Wii Sports      Wii           2006.0        Sports     41.36   \n",
       "1         Super Mario Bros.      NES           1985.0      Platform     29.08   \n",
       "2            Mario Kart Wii      Wii           2008.0        Racing     15.68   \n",
       "3         Wii Sports Resort      Wii           2009.0        Sports     15.61   \n",
       "4  Pokemon Red/Pokemon Blue       GB           1996.0  Role-Playing     11.27   \n",
       "\n",
       "   EU_sales  JP_sales  Other_sales  Critic_Score User_Score Rating  \n",
       "0     28.96      3.77         8.45          76.0          8      E  \n",
       "1      3.58      6.81         0.77           NaN        NaN    NaN  \n",
       "2     12.76      3.79         3.29          82.0        8.3      E  \n",
       "3     10.93      3.28         2.95          80.0          8      E  \n",
       "4      8.89     10.22         1.00           NaN        NaN    NaN  "
      ]
     },
     "execution_count": 3,
     "metadata": {},
     "output_type": "execute_result"
    }
   ],
   "source": [
    "games.head()"
   ]
  },
  {
   "cell_type": "markdown",
   "metadata": {},
   "source": [
    "Посмотрим на основные статистические данные."
   ]
  },
  {
   "cell_type": "code",
   "execution_count": 4,
   "metadata": {},
   "outputs": [
    {
     "data": {
      "text/html": [
       "<div>\n",
       "<style scoped>\n",
       "    .dataframe tbody tr th:only-of-type {\n",
       "        vertical-align: middle;\n",
       "    }\n",
       "\n",
       "    .dataframe tbody tr th {\n",
       "        vertical-align: top;\n",
       "    }\n",
       "\n",
       "    .dataframe thead th {\n",
       "        text-align: right;\n",
       "    }\n",
       "</style>\n",
       "<table border=\"1\" class=\"dataframe\">\n",
       "  <thead>\n",
       "    <tr style=\"text-align: right;\">\n",
       "      <th></th>\n",
       "      <th>count</th>\n",
       "      <th>mean</th>\n",
       "      <th>std</th>\n",
       "      <th>min</th>\n",
       "      <th>25%</th>\n",
       "      <th>50%</th>\n",
       "      <th>75%</th>\n",
       "      <th>max</th>\n",
       "    </tr>\n",
       "  </thead>\n",
       "  <tbody>\n",
       "    <tr>\n",
       "      <th>Year_of_Release</th>\n",
       "      <td>16446.0</td>\n",
       "      <td>2006.484616</td>\n",
       "      <td>5.877050</td>\n",
       "      <td>1980.0</td>\n",
       "      <td>2003.0</td>\n",
       "      <td>2007.00</td>\n",
       "      <td>2010.00</td>\n",
       "      <td>2016.00</td>\n",
       "    </tr>\n",
       "    <tr>\n",
       "      <th>NA_sales</th>\n",
       "      <td>16715.0</td>\n",
       "      <td>0.263377</td>\n",
       "      <td>0.813604</td>\n",
       "      <td>0.0</td>\n",
       "      <td>0.0</td>\n",
       "      <td>0.08</td>\n",
       "      <td>0.24</td>\n",
       "      <td>41.36</td>\n",
       "    </tr>\n",
       "    <tr>\n",
       "      <th>EU_sales</th>\n",
       "      <td>16715.0</td>\n",
       "      <td>0.145060</td>\n",
       "      <td>0.503339</td>\n",
       "      <td>0.0</td>\n",
       "      <td>0.0</td>\n",
       "      <td>0.02</td>\n",
       "      <td>0.11</td>\n",
       "      <td>28.96</td>\n",
       "    </tr>\n",
       "    <tr>\n",
       "      <th>JP_sales</th>\n",
       "      <td>16715.0</td>\n",
       "      <td>0.077617</td>\n",
       "      <td>0.308853</td>\n",
       "      <td>0.0</td>\n",
       "      <td>0.0</td>\n",
       "      <td>0.00</td>\n",
       "      <td>0.04</td>\n",
       "      <td>10.22</td>\n",
       "    </tr>\n",
       "    <tr>\n",
       "      <th>Other_sales</th>\n",
       "      <td>16715.0</td>\n",
       "      <td>0.047342</td>\n",
       "      <td>0.186731</td>\n",
       "      <td>0.0</td>\n",
       "      <td>0.0</td>\n",
       "      <td>0.01</td>\n",
       "      <td>0.03</td>\n",
       "      <td>10.57</td>\n",
       "    </tr>\n",
       "    <tr>\n",
       "      <th>Critic_Score</th>\n",
       "      <td>8137.0</td>\n",
       "      <td>68.967679</td>\n",
       "      <td>13.938165</td>\n",
       "      <td>13.0</td>\n",
       "      <td>60.0</td>\n",
       "      <td>71.00</td>\n",
       "      <td>79.00</td>\n",
       "      <td>98.00</td>\n",
       "    </tr>\n",
       "  </tbody>\n",
       "</table>\n",
       "</div>"
      ],
      "text/plain": [
       "                   count         mean        std     min     25%      50%  \\\n",
       "Year_of_Release  16446.0  2006.484616   5.877050  1980.0  2003.0  2007.00   \n",
       "NA_sales         16715.0     0.263377   0.813604     0.0     0.0     0.08   \n",
       "EU_sales         16715.0     0.145060   0.503339     0.0     0.0     0.02   \n",
       "JP_sales         16715.0     0.077617   0.308853     0.0     0.0     0.00   \n",
       "Other_sales      16715.0     0.047342   0.186731     0.0     0.0     0.01   \n",
       "Critic_Score      8137.0    68.967679  13.938165    13.0    60.0    71.00   \n",
       "\n",
       "                     75%      max  \n",
       "Year_of_Release  2010.00  2016.00  \n",
       "NA_sales            0.24    41.36  \n",
       "EU_sales            0.11    28.96  \n",
       "JP_sales            0.04    10.22  \n",
       "Other_sales         0.03    10.57  \n",
       "Critic_Score       79.00    98.00  "
      ]
     },
     "execution_count": 4,
     "metadata": {},
     "output_type": "execute_result"
    }
   ],
   "source": [
    "games.describe().T"
   ]
  },
  {
   "cell_type": "markdown",
   "metadata": {},
   "source": [
    "Посмотрим на общую информацию данных."
   ]
  },
  {
   "cell_type": "code",
   "execution_count": 5,
   "metadata": {
    "scrolled": true
   },
   "outputs": [
    {
     "name": "stdout",
     "output_type": "stream",
     "text": [
      "<class 'pandas.core.frame.DataFrame'>\n",
      "RangeIndex: 16715 entries, 0 to 16714\n",
      "Data columns (total 11 columns):\n",
      " #   Column           Non-Null Count  Dtype  \n",
      "---  ------           --------------  -----  \n",
      " 0   Name             16713 non-null  object \n",
      " 1   Platform         16715 non-null  object \n",
      " 2   Year_of_Release  16446 non-null  float64\n",
      " 3   Genre            16713 non-null  object \n",
      " 4   NA_sales         16715 non-null  float64\n",
      " 5   EU_sales         16715 non-null  float64\n",
      " 6   JP_sales         16715 non-null  float64\n",
      " 7   Other_sales      16715 non-null  float64\n",
      " 8   Critic_Score     8137 non-null   float64\n",
      " 9   User_Score       10014 non-null  object \n",
      " 10  Rating           9949 non-null   object \n",
      "dtypes: float64(6), object(5)\n",
      "memory usage: 1.4+ MB\n"
     ]
    }
   ],
   "source": [
    "games.info()"
   ]
  },
  {
   "cell_type": "markdown",
   "metadata": {},
   "source": [
    "Итак, в таблице 11 столбцов и 16715 строк. \n",
    "\n",
    "Согласно документации к данным:\n",
    "* `Name` — название игры\n",
    "* `Platform` — платформа\n",
    "* `Year_of_Release` — год выпуска\n",
    "* `Genre` — жанр игры\n",
    "* `NA_sales` — продажи в Северной Америке (миллионы проданных копий)\n",
    "* `EU_sales` — продажи в Европе (миллионы проданных копий)\n",
    "* `JP_sales` — продажи в Японии (миллионы проданных копий)\n",
    "* `Other_sales` — продажи в других странах (миллионы проданных копий)\n",
    "* `Critic_Score` — оценка критиков (максимум 100)\n",
    "* `User_Score` — оценка пользователей (максимум 10)\n",
    "* `Rating` — рейтинг от организации ESRB (англ. Entertainment Software Rating Board). Эта ассоциация определяет рейтинг компьютерных игр и присваивает им подходящую возрастную категорию."
   ]
  },
  {
   "cell_type": "markdown",
   "metadata": {},
   "source": [
    "### Вывод"
   ]
  },
  {
   "cell_type": "markdown",
   "metadata": {},
   "source": [
    "Таблица описывает основные параметры игр, сами игры, продажи в разных регионах, оценки пользователей и критиков, рейтинг игр с 1980 по 2016 год.\n",
    "\n",
    "Из статистических данных можно сделать вывод о положительной скошенности продаж на всех регионах. Средние значения больше медианных. Учитывая максимальные и минимальные значения продаж и стандартные отклонения, можно сказать о больших выбросах. \n",
    "\n",
    "Предварительно можно утверждать, что, данных достаточно для исследования. Но для работы с данными необходимо:\n",
    "* привести названия столбцов и значения некоторых столбцов к нижнему регистру;\n",
    "* преобразовать данные к нужному типу;\n",
    "* обработать пропуски;\n",
    "* добавить новый столбец суммарных продаж по всем регионам.\n",
    "\n",
    "Чтобы двигаться дальше, нужно устранить проблемы в данных."
   ]
  },
  {
   "cell_type": "markdown",
   "metadata": {},
   "source": [
    "## Подготовка данных"
   ]
  },
  {
   "cell_type": "markdown",
   "metadata": {},
   "source": [
    "Преобразуем названия колонок в нижний регистр."
   ]
  },
  {
   "cell_type": "code",
   "execution_count": 6,
   "metadata": {},
   "outputs": [],
   "source": [
    "games.columns = games.columns.str.lower()"
   ]
  },
  {
   "cell_type": "markdown",
   "metadata": {},
   "source": [
    "Преобразуем значения колонок в нижний регистр.\n"
   ]
  },
  {
   "cell_type": "code",
   "execution_count": 7,
   "metadata": {},
   "outputs": [],
   "source": [
    "games.name = games.name.str.lower() # колонка названия игры\n",
    "games.platform = games.platform.str.lower() # колонка платформы\n",
    "games.genre = games.genre.str.lower() # колонка жанра\n",
    "games.rating = games.rating.str.lower() # колонка рейтинга"
   ]
  },
  {
   "cell_type": "markdown",
   "metadata": {},
   "source": [
    "Удаляем строки с пропущенными значениями."
   ]
  },
  {
   "cell_type": "code",
   "execution_count": 8,
   "metadata": {},
   "outputs": [],
   "source": [
    "games.dropna(subset=['name'], inplace=True) # колонка названия игры\n",
    "games.dropna(subset=['year_of_release'], inplace=True) # колонка года выпуска игры"
   ]
  },
  {
   "cell_type": "markdown",
   "metadata": {},
   "source": [
    "Преобразуем `float` в `int` для года выхода."
   ]
  },
  {
   "cell_type": "code",
   "execution_count": 9,
   "metadata": {},
   "outputs": [],
   "source": [
    "games.year_of_release = games.year_of_release.astype('int')"
   ]
  },
  {
   "cell_type": "markdown",
   "metadata": {},
   "source": [
    "Заполним пропущенные значения оценок критиков медианным значением."
   ]
  },
  {
   "cell_type": "code",
   "execution_count": 10,
   "metadata": {},
   "outputs": [],
   "source": [
    "# games['critic_score'] = games['critic_score']\n",
    "# .fillna(games.groupby('genre')['critic_score'].transform('median'))\n",
    "games['critic_score'] = games['critic_score'].fillna(-5)"
   ]
  },
  {
   "cell_type": "markdown",
   "metadata": {},
   "source": [
    "Заполним значения `tbd` на пропущенные значения.\n"
   ]
  },
  {
   "cell_type": "code",
   "execution_count": 11,
   "metadata": {},
   "outputs": [],
   "source": [
    "games.loc[games.user_score=='tbd', 'user_score'] = np.nan"
   ]
  },
  {
   "cell_type": "markdown",
   "metadata": {},
   "source": [
    "Преобразуем `object` в `float` для оценки пользоватлей.\n"
   ]
  },
  {
   "cell_type": "code",
   "execution_count": 12,
   "metadata": {},
   "outputs": [],
   "source": [
    "games.user_score = games.user_score.astype('float64')"
   ]
  },
  {
   "cell_type": "markdown",
   "metadata": {},
   "source": [
    "Заполним пропущенные значения оценок пользователей медианным значением."
   ]
  },
  {
   "cell_type": "code",
   "execution_count": 13,
   "metadata": {},
   "outputs": [],
   "source": [
    "#games['user_score'] = games['user_score'].fillna(games.groupby('genre')['user_score'].transform('median'))\n",
    "games['user_score'] = games['user_score'].fillna(-1)"
   ]
  },
  {
   "cell_type": "markdown",
   "metadata": {},
   "source": [
    "Заполним пропущенные значения рейтинга на `unknow`."
   ]
  },
  {
   "cell_type": "code",
   "execution_count": 14,
   "metadata": {},
   "outputs": [],
   "source": [
    "games.rating = games.rating.fillna('unknow')"
   ]
  },
  {
   "cell_type": "markdown",
   "metadata": {},
   "source": [
    "Gосмотрим на общую информацию данных.\n"
   ]
  },
  {
   "cell_type": "code",
   "execution_count": 15,
   "metadata": {},
   "outputs": [
    {
     "name": "stdout",
     "output_type": "stream",
     "text": [
      "<class 'pandas.core.frame.DataFrame'>\n",
      "Int64Index: 16444 entries, 0 to 16714\n",
      "Data columns (total 11 columns):\n",
      " #   Column           Non-Null Count  Dtype  \n",
      "---  ------           --------------  -----  \n",
      " 0   name             16444 non-null  object \n",
      " 1   platform         16444 non-null  object \n",
      " 2   year_of_release  16444 non-null  int64  \n",
      " 3   genre            16444 non-null  object \n",
      " 4   na_sales         16444 non-null  float64\n",
      " 5   eu_sales         16444 non-null  float64\n",
      " 6   jp_sales         16444 non-null  float64\n",
      " 7   other_sales      16444 non-null  float64\n",
      " 8   critic_score     16444 non-null  float64\n",
      " 9   user_score       16444 non-null  float64\n",
      " 10  rating           16444 non-null  object \n",
      "dtypes: float64(6), int64(1), object(4)\n",
      "memory usage: 1.5+ MB\n"
     ]
    }
   ],
   "source": [
    "games.info()"
   ]
  },
  {
   "cell_type": "markdown",
   "metadata": {},
   "source": [
    "Суммируем продажи игр по всем регионам.\n"
   ]
  },
  {
   "cell_type": "code",
   "execution_count": 16,
   "metadata": {},
   "outputs": [],
   "source": [
    "games['sales'] = games['na_sales'] + games['eu_sales'] + games['jp_sales'] + games['other_sales']"
   ]
  },
  {
   "cell_type": "markdown",
   "metadata": {},
   "source": [
    "Проверим на дубликаты."
   ]
  },
  {
   "cell_type": "code",
   "execution_count": 17,
   "metadata": {},
   "outputs": [
    {
     "data": {
      "text/plain": [
       "0"
      ]
     },
     "execution_count": 17,
     "metadata": {},
     "output_type": "execute_result"
    }
   ],
   "source": [
    "games.duplicated().sum()"
   ]
  },
  {
   "cell_type": "markdown",
   "metadata": {},
   "source": [
    "Выведем таблицу с добавленным столбцом."
   ]
  },
  {
   "cell_type": "code",
   "execution_count": 18,
   "metadata": {
    "scrolled": false
   },
   "outputs": [
    {
     "data": {
      "text/html": [
       "<div>\n",
       "<style scoped>\n",
       "    .dataframe tbody tr th:only-of-type {\n",
       "        vertical-align: middle;\n",
       "    }\n",
       "\n",
       "    .dataframe tbody tr th {\n",
       "        vertical-align: top;\n",
       "    }\n",
       "\n",
       "    .dataframe thead th {\n",
       "        text-align: right;\n",
       "    }\n",
       "</style>\n",
       "<table border=\"1\" class=\"dataframe\">\n",
       "  <thead>\n",
       "    <tr style=\"text-align: right;\">\n",
       "      <th></th>\n",
       "      <th>name</th>\n",
       "      <th>platform</th>\n",
       "      <th>year_of_release</th>\n",
       "      <th>genre</th>\n",
       "      <th>na_sales</th>\n",
       "      <th>eu_sales</th>\n",
       "      <th>jp_sales</th>\n",
       "      <th>other_sales</th>\n",
       "      <th>critic_score</th>\n",
       "      <th>user_score</th>\n",
       "      <th>rating</th>\n",
       "      <th>sales</th>\n",
       "    </tr>\n",
       "  </thead>\n",
       "  <tbody>\n",
       "    <tr>\n",
       "      <th>0</th>\n",
       "      <td>wii sports</td>\n",
       "      <td>wii</td>\n",
       "      <td>2006</td>\n",
       "      <td>sports</td>\n",
       "      <td>41.36</td>\n",
       "      <td>28.96</td>\n",
       "      <td>3.77</td>\n",
       "      <td>8.45</td>\n",
       "      <td>76.0</td>\n",
       "      <td>8.0</td>\n",
       "      <td>e</td>\n",
       "      <td>82.54</td>\n",
       "    </tr>\n",
       "    <tr>\n",
       "      <th>1</th>\n",
       "      <td>super mario bros.</td>\n",
       "      <td>nes</td>\n",
       "      <td>1985</td>\n",
       "      <td>platform</td>\n",
       "      <td>29.08</td>\n",
       "      <td>3.58</td>\n",
       "      <td>6.81</td>\n",
       "      <td>0.77</td>\n",
       "      <td>-5.0</td>\n",
       "      <td>-1.0</td>\n",
       "      <td>unknow</td>\n",
       "      <td>40.24</td>\n",
       "    </tr>\n",
       "    <tr>\n",
       "      <th>2</th>\n",
       "      <td>mario kart wii</td>\n",
       "      <td>wii</td>\n",
       "      <td>2008</td>\n",
       "      <td>racing</td>\n",
       "      <td>15.68</td>\n",
       "      <td>12.76</td>\n",
       "      <td>3.79</td>\n",
       "      <td>3.29</td>\n",
       "      <td>82.0</td>\n",
       "      <td>8.3</td>\n",
       "      <td>e</td>\n",
       "      <td>35.52</td>\n",
       "    </tr>\n",
       "    <tr>\n",
       "      <th>3</th>\n",
       "      <td>wii sports resort</td>\n",
       "      <td>wii</td>\n",
       "      <td>2009</td>\n",
       "      <td>sports</td>\n",
       "      <td>15.61</td>\n",
       "      <td>10.93</td>\n",
       "      <td>3.28</td>\n",
       "      <td>2.95</td>\n",
       "      <td>80.0</td>\n",
       "      <td>8.0</td>\n",
       "      <td>e</td>\n",
       "      <td>32.77</td>\n",
       "    </tr>\n",
       "    <tr>\n",
       "      <th>4</th>\n",
       "      <td>pokemon red/pokemon blue</td>\n",
       "      <td>gb</td>\n",
       "      <td>1996</td>\n",
       "      <td>role-playing</td>\n",
       "      <td>11.27</td>\n",
       "      <td>8.89</td>\n",
       "      <td>10.22</td>\n",
       "      <td>1.00</td>\n",
       "      <td>-5.0</td>\n",
       "      <td>-1.0</td>\n",
       "      <td>unknow</td>\n",
       "      <td>31.38</td>\n",
       "    </tr>\n",
       "  </tbody>\n",
       "</table>\n",
       "</div>"
      ],
      "text/plain": [
       "                       name platform  year_of_release         genre  na_sales  \\\n",
       "0                wii sports      wii             2006        sports     41.36   \n",
       "1         super mario bros.      nes             1985      platform     29.08   \n",
       "2            mario kart wii      wii             2008        racing     15.68   \n",
       "3         wii sports resort      wii             2009        sports     15.61   \n",
       "4  pokemon red/pokemon blue       gb             1996  role-playing     11.27   \n",
       "\n",
       "   eu_sales  jp_sales  other_sales  critic_score  user_score  rating  sales  \n",
       "0     28.96      3.77         8.45          76.0         8.0       e  82.54  \n",
       "1      3.58      6.81         0.77          -5.0        -1.0  unknow  40.24  \n",
       "2     12.76      3.79         3.29          82.0         8.3       e  35.52  \n",
       "3     10.93      3.28         2.95          80.0         8.0       e  32.77  \n",
       "4      8.89     10.22         1.00          -5.0        -1.0  unknow  31.38  "
      ]
     },
     "execution_count": 18,
     "metadata": {},
     "output_type": "execute_result"
    }
   ],
   "source": [
    "games.head()"
   ]
  },
  {
   "cell_type": "markdown",
   "metadata": {},
   "source": [
    "### Вывод"
   ]
  },
  {
   "cell_type": "markdown",
   "metadata": {},
   "source": [
    "При \"очистке\" данных были приведены к нижнему регистру названия столбцов и значения некоторых столбцов, преобразованы данные к нужному типу, добавлен новый столбец по суммарным продажам по всем регионам и обработаны пропуски. Дубликаты отсутствуют.\n",
    "\n",
    "В значениях оценки пользователей присутствовало аббревиатура `tbd`, означающее `предстоит определить`. Поскольку значительная часть знаений столбца `user_score` имело `tbd`, было решено заменить их медианными значениями оценок пользователей сгруппированными по жанрам."
   ]
  },
  {
   "cell_type": "markdown",
   "metadata": {},
   "source": [
    "## Исследовательский анализ данных"
   ]
  },
  {
   "cell_type": "markdown",
   "metadata": {},
   "source": [
    "Построим график - количество игр выпущенных за все годы.\n"
   ]
  },
  {
   "cell_type": "code",
   "execution_count": 19,
   "metadata": {
    "scrolled": false
   },
   "outputs": [
    {
     "data": {
      "image/png": "[encoded data removed]",
      "text/plain": [
       "<Figure size 864x576 with 1 Axes>"
      ]
     },
     "metadata": {
      "needs_background": "light"
     },
     "output_type": "display_data"
    }
   ],
   "source": [
    "(games\n",
    " .pivot_table(index='year_of_release', values='name', aggfunc='count')\n",
    " .plot(kind='bar', figsize=(12, 8))\n",
    ")\n",
    "plt.legend([], frameon=False)\n",
    "plt.xlabel('Год выпуска')\n",
    "plt.ylabel('Количество выпущенных игр (шт)')\n",
    "plt.title('Количество выпущенных игр за все годы (1980-2016)')\n",
    "plt.show()"
   ]
  },
  {
   "cell_type": "markdown",
   "metadata": {},
   "source": [
    "Можно сказать, что стремительный рост выпуска игр началось с 1994 года. Урожайным годом выпуска игр были 2008-2009 год. После пошел спад."
   ]
  },
  {
   "cell_type": "markdown",
   "metadata": {},
   "source": [
    "Построим график - топ 10 продаж по платформам.\n"
   ]
  },
  {
   "cell_type": "code",
   "execution_count": 20,
   "metadata": {
    "scrolled": false
   },
   "outputs": [
    {
     "data": {
      "image/png": "[encoded data removed]",
      "text/plain": [
       "<Figure size 648x432 with 1 Axes>"
      ]
     },
     "metadata": {
      "needs_background": "light"
     },
     "output_type": "display_data"
    }
   ],
   "source": [
    "(games.pivot_table(index='platform', values='sales', aggfunc='sum')\n",
    " .sort_values(by = 'sales', ascending = False)[:10]\n",
    " .plot(kind='bar', grid=True, style='o-', figsize=(9, 6))\n",
    ")\n",
    "plt.legend([], frameon=False)\n",
    "plt.xlabel('Платформы')\n",
    "plt.ylabel('Сумма продаж (млн.копий))')\n",
    "plt.title('Топ 10 платформ по общим продажам за все годы (1980-2016)')\n",
    "plt.show()"
   ]
  },
  {
   "cell_type": "markdown",
   "metadata": {},
   "source": [
    "Лидирующая позиция по суммарным продажам у платформы `ps2`."
   ]
  },
  {
   "cell_type": "markdown",
   "metadata": {},
   "source": [
    "Преобразуем названия топ 10 платформ по продажам в индексы, чтобы вывести потом графики."
   ]
  },
  {
   "cell_type": "code",
   "execution_count": 21,
   "metadata": {},
   "outputs": [],
   "source": [
    "platform_top = games.groupby('platform').agg({'sales':'sum'}).sort_values(by = 'sales', ascending = False)[:10].index"
   ]
  },
  {
   "cell_type": "markdown",
   "metadata": {},
   "source": [
    "Выведем суммарные продажи сгруппированные по платформам и году выпуска игр."
   ]
  },
  {
   "cell_type": "code",
   "execution_count": 22,
   "metadata": {
    "scrolled": true
   },
   "outputs": [],
   "source": [
    "platform_top_sum = games.groupby(['platform', 'year_of_release'], as_index=False).agg({'sales':'sum'})"
   ]
  },
  {
   "cell_type": "markdown",
   "metadata": {},
   "source": [
    "Построим график для топ 10 платформ по суммарным продажам.\n"
   ]
  },
  {
   "cell_type": "code",
   "execution_count": 23,
   "metadata": {
    "scrolled": false
   },
   "outputs": [
    {
     "data": {
      "image/png": "[encoded data removed]",
      "text/plain": [
       "<Figure size 648x432 with 1 Axes>"
      ]
     },
     "metadata": {
      "needs_background": "light"
     },
     "output_type": "display_data"
    }
   ],
   "source": [
    "fig, ax = plt.subplots()\n",
    "\n",
    "for i in platform_top:\n",
    "    (platform_top_sum[platform_top_sum['platform']==i]\n",
    "     .plot.line(x='year_of_release', y='sales', ax=ax, grid=True, figsize=(9, 6))\n",
    "    )\n",
    "plt.xlabel('Год продаж')\n",
    "plt.ylabel('Сумма продаж (млн.копий))')\n",
    "plt.title('Топ 10 платформ с наибольшими суммарными продажами')\n",
    "ax.legend(platform_top)\n",
    "plt.show()"
   ]
  },
  {
   "cell_type": "markdown",
   "metadata": {},
   "source": [
    "Платформа `ds` была первой из 10 кто начал раньше выпускать игры с 1985 по 2013 год. Эта же платформа являлось самой долговыпускаемой платформой, выпускающие игры. \n",
    "У большей частии платформ из топ 10 примерная продолжительность жизни 7-10 лет. "
   ]
  },
  {
   "cell_type": "markdown",
   "metadata": {},
   "source": [
    "Срежем данные применив фильтрацию по году выпуска. Это годы актуального периода. "
   ]
  },
  {
   "cell_type": "code",
   "execution_count": 24,
   "metadata": {},
   "outputs": [],
   "source": [
    "current_period = games.query('2013 <= year_of_release <= 2016') "
   ]
  },
  {
   "cell_type": "markdown",
   "metadata": {},
   "source": [
    "Преобразуем названия платформ по продажам в индексы."
   ]
  },
  {
   "cell_type": "code",
   "execution_count": 25,
   "metadata": {},
   "outputs": [],
   "source": [
    "current_period_platform_top = (current_period.groupby('platform').agg({'sales':'sum'})\n",
    "                               .sort_values(by = 'sales', ascending = False).index)"
   ]
  },
  {
   "cell_type": "markdown",
   "metadata": {},
   "source": [
    "Выведем суммарные продажи сгруппированные по платформам и году выпуска игр.\n"
   ]
  },
  {
   "cell_type": "code",
   "execution_count": 26,
   "metadata": {
    "scrolled": true
   },
   "outputs": [],
   "source": [
    "current_period_platform_top_sum = (current_period.groupby(['platform', 'year_of_release'], as_index=False)\n",
    "                                   .agg({'sales':'sum'}))"
   ]
  },
  {
   "cell_type": "markdown",
   "metadata": {},
   "source": [
    "Построим график для платформ по суммарным продажам в актуальный период.\n"
   ]
  },
  {
   "cell_type": "code",
   "execution_count": 27,
   "metadata": {
    "scrolled": false
   },
   "outputs": [
    {
     "data": {
      "image/png": "[encoded data removed]",
      "text/plain": [
       "<Figure size 648x432 with 1 Axes>"
      ]
     },
     "metadata": {
      "needs_background": "light"
     },
     "output_type": "display_data"
    }
   ],
   "source": [
    "fig, ax = plt.subplots()\n",
    "for i in current_period_platform_top:\n",
    "    (current_period_platform_top_sum[current_period_platform_top_sum['platform']==i]\n",
    "     .plot.line(x='year_of_release', y='sales', ax=ax, grid=True, figsize=(9, 6))\n",
    "    )\n",
    "plt.xlabel('Год продаж')\n",
    "plt.ylabel('Сумма продаж (млн.копий))')\n",
    "plt.title('Платформы с наибольшими суммарными продажами в актаульный перод (2013-2016)')\n",
    "ax.legend(current_period_platform_top)\n",
    "plt.show()"
   ]
  },
  {
   "cell_type": "markdown",
   "metadata": {},
   "source": [
    "Актуальным периодом можно считать начиная с 2013 года. Можно увидеть, что все, кроме двух платформ, а именно `ps4` и `xone`, хорошо двигались по продажам, но затем сбавили темпы. Потенциально прибыльными платформами могут стать `psv` и `pc`."
   ]
  },
  {
   "cell_type": "markdown",
   "metadata": {},
   "source": [
    "Построим график «ящик с усами» по глобальным продажам игр в разбивке по платформам.\n"
   ]
  },
  {
   "cell_type": "code",
   "execution_count": 28,
   "metadata": {},
   "outputs": [
    {
     "data": {
      "image/png": "[encoded data removed]",
      "text/plain": [
       "<Figure size 864x576 with 1 Axes>"
      ]
     },
     "metadata": {
      "needs_background": "light"
     },
     "output_type": "display_data"
    }
   ],
   "source": [
    "fig, ax = plt.subplots(figsize =(12,8))\n",
    "sns.boxplot(x = 'platform', \n",
    "            y = 'sales',\n",
    "            data = current_period, ax=ax\n",
    "           )\n",
    "plt.xlabel('Платформы')\n",
    "plt.ylabel('Продажи (млн.копий))')\n",
    "plt.title('Платформы по глобальным продажам игр в актуальный период (2013-2016)')\n",
    "plt.show()"
   ]
  },
  {
   "cell_type": "markdown",
   "metadata": {},
   "source": [
    "Не очень наглядно. Изменим масштаб, чтобы лучше увидеть \"ящик с усами\"."
   ]
  },
  {
   "cell_type": "code",
   "execution_count": 29,
   "metadata": {},
   "outputs": [
    {
     "data": {
      "image/png": "[encoded data removed]",
      "text/plain": [
       "<Figure size 864x576 with 1 Axes>"
      ]
     },
     "metadata": {
      "needs_background": "light"
     },
     "output_type": "display_data"
    }
   ],
   "source": [
    "fig, ax = plt.subplots(figsize =(12,8))\n",
    "sns.boxplot(x = 'platform', \n",
    "            y = 'sales',\n",
    "            data = current_period, ax=ax\n",
    "           )\n",
    "plt.xlabel('Платформы')\n",
    "plt.ylabel('Продажи (млн.копий))')\n",
    "plt.title('Платформы по глобальным продажам игр в актуальный период (2013-2016)')\n",
    "plt.ylim(0, 2)\n",
    "plt.show()"
   ]
  },
  {
   "cell_type": "markdown",
   "id": "e9e31e39",
   "metadata": {},
   "source": [
    "Большой объем продаж в актуальный период у платформ `x360`, `wii` и `ps4`. Если судить по медиане, то \"большой чек\" продаж у `x360`. "
   ]
  },
  {
   "cell_type": "markdown",
   "id": "10252197",
   "metadata": {},
   "source": [
    "Диаграмма рассеяния по глобальным продажам внутри платформы `ps4` в зависимости от оценок критиков и пользователей."
   ]
  },
  {
   "cell_type": "code",
   "execution_count": 30,
   "id": "d65fe930",
   "metadata": {},
   "outputs": [
    {
     "data": {
      "image/png": "[encoded data removed]",
      "text/plain": [
       "<Figure size 864x360 with 1 Axes>"
      ]
     },
     "metadata": {
      "needs_background": "light"
     },
     "output_type": "display_data"
    },
    {
     "data": {
      "image/png": "[encoded data removed]",
      "text/plain": [
       "<Figure size 864x360 with 1 Axes>"
      ]
     },
     "metadata": {
      "needs_background": "light"
     },
     "output_type": "display_data"
    }
   ],
   "source": [
    "# для критиков\n",
    "current_period.query('platform == \"ps4\"').plot(x='sales', y='critic_score', kind='scatter', figsize=(12, 5))\n",
    "plt.xlabel('Продажи (млн.копий))')\n",
    "plt.ylabel('Оценка критиков')\n",
    "plt.title('Глобальные продажи платформы \"ps4\" в зависимости от оценки критиков (2013-2016)')\n",
    "plt.show()\n",
    "# для пользователей\n",
    "current_period.query('platform == \"ps4\"').plot(x='sales', y='user_score', kind='scatter', figsize=(12, 5))\n",
    "plt.xlabel('Продажи (млн.копий))')\n",
    "plt.ylabel('Оценка пользователей')\n",
    "plt.title('Глобальные продажи платформы \"ps4\" в зависимости от оценки пользователей (2013-2016)')\n",
    "plt.show()"
   ]
  },
  {
   "cell_type": "markdown",
   "id": "c3359d66",
   "metadata": {},
   "source": [
    "Большая часть продаж у платформы `ps4` лежит в диапазоне до 0,75 млн.копий. Немного видна зависимость между продажами от оценки критиков. Зависимость между продажами от оценок пользователей слабовыраженная. \n",
    "\n",
    "В самой нижней части это заполненные значения, которые не берем в расчет. "
   ]
  },
  {
   "cell_type": "markdown",
   "id": "bfa8a8ac",
   "metadata": {},
   "source": [
    "Посчитаем корреляцию между отзывами критиков и продажами, и отзывами пользователей и продажами.\n"
   ]
  },
  {
   "cell_type": "code",
   "execution_count": 31,
   "id": "562b555a",
   "metadata": {},
   "outputs": [
    {
     "name": "stdout",
     "output_type": "stream",
     "text": [
      "Корреляция между отзывами критиков и продажами 40.66%\n",
      "Корреляция между отзывами пользователей и продажами -3.20%\n"
     ]
    }
   ],
   "source": [
    "corr_critic = (current_period.query('platform == \"ps4\" and critic_score>0')['critic_score']\n",
    "               .corr(current_period.query('platform == \"ps4\"')['sales'])\n",
    "              )\n",
    "corr_user = (current_period.query('platform == \"ps4\" and user_score>0')['user_score']\n",
    "             .corr(current_period.query('platform == \"ps4\"')['sales'])\n",
    "            )\n",
    "print(f'Корреляция между отзывами критиков и продажами {corr_critic:.2%}')\n",
    "print(f'Корреляция между отзывами пользователей и продажами {corr_user:.2%}')"
   ]
  },
  {
   "cell_type": "markdown",
   "id": "3c567aea",
   "metadata": {},
   "source": [
    "Посчитаем корреляцию отбросив данные не попадающие в ящик с усами. "
   ]
  },
  {
   "cell_type": "code",
   "execution_count": 32,
   "id": "dea56f60",
   "metadata": {
    "scrolled": true
   },
   "outputs": [
    {
     "name": "stdout",
     "output_type": "stream",
     "text": [
      "Корреляция между отзывами критиков и продажами 27.26%\n",
      "Корреляция между отзывами пользователей и продажами 1.14%\n"
     ]
    }
   ],
   "source": [
    "corr_critic = (current_period.query('platform == \"ps4\" and sales<=1.75 and critic_score>0')['critic_score']\n",
    "               .corr(current_period.query('platform == \"ps4\" and sales<=1.75')['sales'])\n",
    "              )\n",
    "corr_user = (current_period.query('platform == \"ps4\" and sales<=1.75 and user_score>0')['user_score']\n",
    "             .corr(current_period.query('platform == \"ps4\" and sales<=1.75')['sales'])\n",
    "            )\n",
    "print(f'Корреляция между отзывами критиков и продажами {corr_critic:.2%}')\n",
    "print(f'Корреляция между отзывами пользователей и продажами {corr_user:.2%}')"
   ]
  },
  {
   "cell_type": "markdown",
   "id": "cda9e731",
   "metadata": {},
   "source": [
    "Диаграммы рассения и расчет корреляции платформы `ps4` показали положительную зависимость между отзывами критиков и продажами и слабую отрицательную зависимость между отзывами пользователей и продажами.\n",
    "\n",
    "После того как отбросили значения продаж не попадающие в ящик продаж корреляция между отзывами критиков и продажами стала меньше, а корреляция между отзывами пользователей и продажами стала положительной и тоже уменьшилась. \n",
    "\n",
    "Можно сделать вывод, что зависимость между отзывами критиков и продажами есть, но маленькая, а между отзывами пользователей и продажами практически отсутсвует."
   ]
  },
  {
   "cell_type": "markdown",
   "id": "c5b3fd72",
   "metadata": {},
   "source": [
    "Диаграмма рассеяния по глобальным продажам внутри платформы `x360` в зависимости от оценок критиков и пользователей."
   ]
  },
  {
   "cell_type": "code",
   "execution_count": 33,
   "id": "d6095334",
   "metadata": {},
   "outputs": [
    {
     "data": {
      "image/png": "[encoded data removed]",
      "text/plain": [
       "<Figure size 864x360 with 1 Axes>"
      ]
     },
     "metadata": {
      "needs_background": "light"
     },
     "output_type": "display_data"
    },
    {
     "data": {
      "image/png": "[encoded data removed]",
      "text/plain": [
       "<Figure size 864x360 with 1 Axes>"
      ]
     },
     "metadata": {
      "needs_background": "light"
     },
     "output_type": "display_data"
    }
   ],
   "source": [
    "# для критиков\n",
    "current_period.query('platform == \"x360\"').plot(x='sales', y='critic_score', kind='scatter', figsize=(12, 5))\n",
    "plt.xlabel('Продажи (млн.копий))')\n",
    "plt.ylabel('Оценка критиков')\n",
    "plt.title('Глобальные продажи платформы \"x360\" в зависимости от оценки критиков (2013-2016)')\n",
    "plt.show()\n",
    "# для пользователей\n",
    "current_period.query('platform == \"x360\"').plot(x='sales', y='user_score', kind='scatter', figsize=(12, 5))\n",
    "plt.xlabel('Продажи (млн.копий))')\n",
    "plt.ylabel('Оценка пользователей')\n",
    "plt.title('Глобальные продажи платформы \"x360\" в зависимости от оценки пользователей (2013-2016)')\n",
    "plt.show()"
   ]
  },
  {
   "cell_type": "markdown",
   "id": "7db56137",
   "metadata": {},
   "source": [
    "Большая часть продаж у платформы `x360` лежит в диапазоне до 0,80 млн.копий. Видна зависимость между продажами от оценки критиков. Зависимость между продажами от оценок пользователей слабовыраженная."
   ]
  },
  {
   "cell_type": "markdown",
   "id": "ec64e1f2",
   "metadata": {},
   "source": [
    "Посчитаем корреляцию между отзывами критиков и продажами, и отзывами пользователей и продажами.\n"
   ]
  },
  {
   "cell_type": "code",
   "execution_count": 34,
   "id": "c4a4e6c8",
   "metadata": {
    "scrolled": true
   },
   "outputs": [
    {
     "name": "stdout",
     "output_type": "stream",
     "text": [
      "Корреляция между отзывами критиков и продажами 47.20%\n",
      "Корреляция между отзывами пользователей и продажами 3.77%\n"
     ]
    }
   ],
   "source": [
    "corr_critic = (current_period.query('platform == \"x360\" and sales<=1.70 and critic_score>0')['critic_score']\n",
    "               .corr(current_period.query('platform == \"x360\" and sales<=1.70')['sales'])\n",
    "              )\n",
    "\n",
    "corr_user = (current_period.query('platform == \"x360\" and sales<=1.70 and user_score>0')['user_score']\n",
    "             .corr(current_period.query('platform == \"x360\" and sales<=1.70')['sales'])\n",
    "            )\n",
    "print(f'Корреляция между отзывами критиков и продажами {corr_critic:.2%}')\n",
    "print(f'Корреляция между отзывами пользователей и продажами {corr_user:.2%}')"
   ]
  },
  {
   "cell_type": "markdown",
   "id": "b1310b4f",
   "metadata": {},
   "source": [
    "У платформы `x360` положительная зависимость между отзывами критиков и продажами и слабая зависимость между отзывами пользователей и продажами."
   ]
  },
  {
   "cell_type": "markdown",
   "id": "65b66ab2",
   "metadata": {},
   "source": [
    "Диаграмма рассеяния по глобальным продажам внутри платформы `xone` в зависимости от оценок критиков и пользователей."
   ]
  },
  {
   "cell_type": "code",
   "execution_count": 35,
   "id": "4c709034",
   "metadata": {},
   "outputs": [
    {
     "data": {
      "image/png": "[encoded data removed]",
      "text/plain": [
       "<Figure size 864x360 with 1 Axes>"
      ]
     },
     "metadata": {
      "needs_background": "light"
     },
     "output_type": "display_data"
    },
    {
     "data": {
      "image/png": "[encoded data removed]",
      "text/plain": [
       "<Figure size 864x360 with 1 Axes>"
      ]
     },
     "metadata": {
      "needs_background": "light"
     },
     "output_type": "display_data"
    }
   ],
   "source": [
    "# для критиков\n",
    "current_period.query('platform == \"xone\"').plot(x='sales', y='critic_score', kind='scatter', figsize=(12, 5))\n",
    "plt.xlabel('Продажи (млн.копий))')\n",
    "plt.ylabel('Оценка критиков')\n",
    "plt.title('Глобальные продажи платформы \"xone\" в зависимости от оценки критиков (2013-2016)')\n",
    "plt.show()\n",
    "# для пользователей\n",
    "current_period.query('platform == \"xone\"').plot(x='sales', y='user_score', kind='scatter', figsize=(12, 5))\n",
    "plt.xlabel('Продажи (млн.копий))')\n",
    "plt.ylabel('Оценка пользователей')\n",
    "plt.title('Глобальные продажи платформы \"xone\" в зависимости от оценки пользователей (2013-2016)')\n",
    "plt.show()"
   ]
  },
  {
   "cell_type": "markdown",
   "id": "7db56137",
   "metadata": {},
   "source": [
    "Большая часть продаж у платформы `xone` лежит в диапазоне до 0,70 млн.копий. Видна зависимость между продажами от оценки критиков. Зависимость между продажами от оценок пользователей слабовыраженная."
   ]
  },
  {
   "cell_type": "markdown",
   "id": "bfa8a8ac",
   "metadata": {},
   "source": [
    "Посчитаем корреляцию между отзывами критиков и продажами, и отзывами пользователей и продажами.\n"
   ]
  },
  {
   "cell_type": "code",
   "execution_count": 36,
   "id": "dea56f60",
   "metadata": {
    "scrolled": true
   },
   "outputs": [
    {
     "name": "stdout",
     "output_type": "stream",
     "text": [
      "Корреляция между отзывами критиков и продажами 42.01%\n",
      "Корреляция между отзывами пользователей и продажами 5.99%\n"
     ]
    }
   ],
   "source": [
    "corr_critic = (current_period.query('platform == \"xone\" and sales<=1.60 and critic_score>0')['critic_score']\n",
    "               .corr(current_period.query('platform == \"xone\" and sales<=1.60')['sales'])\n",
    "              )\n",
    "\n",
    "corr_user = (current_period.query('platform == \"xone\" and sales<=1.60 and user_score>0')['user_score']\n",
    "             .corr(current_period.query('platform == \"xone\" and sales<=1.60')['sales'])\n",
    "            )\n",
    "print(f'Корреляция между отзывами критиков и продажами {corr_critic:.2%}')\n",
    "print(f'Корреляция между отзывами пользователей и продажами {corr_user:.2%}')"
   ]
  },
  {
   "cell_type": "markdown",
   "id": "cda9e731",
   "metadata": {},
   "source": [
    "У платформы `xone` положительная зависимость между отзывами критиков и продажами и слабая зависимость между отзывами пользователей и продажами."
   ]
  },
  {
   "cell_type": "markdown",
   "id": "10252197",
   "metadata": {},
   "source": [
    "Диаграмма рассеяния по глобальным продажам внутри платформы `wiiu` в зависимости от оценок критиков и пользователей."
   ]
  },
  {
   "cell_type": "code",
   "execution_count": 37,
   "id": "4c709034",
   "metadata": {},
   "outputs": [
    {
     "data": {
      "image/png": "[encoded data removed]",
      "text/plain": [
       "<Figure size 864x360 with 1 Axes>"
      ]
     },
     "metadata": {
      "needs_background": "light"
     },
     "output_type": "display_data"
    },
    {
     "data": {
      "image/png": "[encoded data removed]",
      "text/plain": [
       "<Figure size 864x360 with 1 Axes>"
      ]
     },
     "metadata": {
      "needs_background": "light"
     },
     "output_type": "display_data"
    }
   ],
   "source": [
    "# для критиков\n",
    "current_period.query('platform == \"wiiu\"').plot(x='sales', y='critic_score', kind='scatter', figsize=(12, 5))\n",
    "plt.xlabel('Продажи (млн.копий))')\n",
    "plt.ylabel('Оценка критиков')\n",
    "plt.title('Глобальные продажи платформы \"wiiu\" в зависимости от оценки критиков (2013-2016)')\n",
    "plt.show()\n",
    "# для пользователей\n",
    "current_period.query('platform == \"wiiu\"').plot(x='sales', y='user_score', kind='scatter', figsize=(12, 5))\n",
    "plt.xlabel('Продажи (млн.копий))')\n",
    "plt.ylabel('Оценка пользователей')\n",
    "plt.title('Глобальные продажи платформы \"wiiu\" в зависимости от оценки пользователей (2013-2016)')\n",
    "plt.show()"
   ]
  },
  {
   "cell_type": "markdown",
   "id": "7db56137",
   "metadata": {},
   "source": [
    "Большая часть продаж у платформы `wiiu` лежит в диапазоне до 0,60 млн.копий. На этот раз видна зависимость между продажами от оценки критиков и пользователей."
   ]
  },
  {
   "cell_type": "markdown",
   "id": "bfa8a8ac",
   "metadata": {},
   "source": [
    "Посчитаем корреляцию между отзывами критиков и продажами, и отзывами пользователей и продажами.\n"
   ]
  },
  {
   "cell_type": "code",
   "execution_count": 38,
   "id": "dea56f60",
   "metadata": {
    "scrolled": true
   },
   "outputs": [
    {
     "name": "stdout",
     "output_type": "stream",
     "text": [
      "Корреляция между отзывами критиков и продажами 43.39%\n",
      "Корреляция между отзывами пользователей и продажами 45.49%\n"
     ]
    }
   ],
   "source": [
    "corr_critic = (current_period.query('platform == \"wiiu\" and sales<=1.30 and critic_score>0')['critic_score']\n",
    "               .corr(current_period.query('platform == \"wiiu\" and sales<=1.30')['sales'])\n",
    "              )\n",
    "\n",
    "corr_user = (current_period.query('platform == \"wiiu\" and sales<=1.30 and user_score>0')['user_score']\n",
    "             .corr(current_period.query('platform == \"wiiu\" and sales<=1.30')['sales'])\n",
    "            )\n",
    "print(f'Корреляция между отзывами критиков и продажами {corr_critic:.2%}')\n",
    "print(f'Корреляция между отзывами пользователей и продажами {corr_user:.2%}')"
   ]
  },
  {
   "cell_type": "markdown",
   "id": "cda9e731",
   "metadata": {},
   "source": [
    "У платформы `xone` сильная положительная зависимость между отзывами критиков и пользователей и продажами."
   ]
  },
  {
   "cell_type": "markdown",
   "metadata": {},
   "source": [
    "Посчитаем количество игр, суммарные продажи и медианы сгруппированные по жанрам.\n"
   ]
  },
  {
   "cell_type": "code",
   "execution_count": 39,
   "metadata": {},
   "outputs": [],
   "source": [
    "genre_current_period = current_period.groupby('genre', as_index=True).agg({'name':'count', 'sales':['median','sum']})"
   ]
  },
  {
   "cell_type": "markdown",
   "metadata": {},
   "source": [
    "Избавимся от мультииндекса.\n"
   ]
  },
  {
   "cell_type": "code",
   "execution_count": 40,
   "metadata": {},
   "outputs": [],
   "source": [
    "genre_current_period.columns = genre_current_period.columns.map(''.join)"
   ]
  },
  {
   "cell_type": "markdown",
   "metadata": {},
   "source": [
    "Поменяем названия колонок.\n"
   ]
  },
  {
   "cell_type": "code",
   "execution_count": 41,
   "metadata": {},
   "outputs": [],
   "source": [
    "genre_current_period = (genre_current_period\n",
    "                        .rename(columns={'namecount':'count', 'salesmedian':'median', 'salessum':'sum'})\n",
    "                        .sort_values(by='sum', ascending=False)\n",
    "                       )"
   ]
  },
  {
   "cell_type": "markdown",
   "metadata": {},
   "source": [
    "Посмотрим на распределение игр по жанрам.\n"
   ]
  },
  {
   "cell_type": "code",
   "execution_count": 42,
   "metadata": {
    "scrolled": false
   },
   "outputs": [
    {
     "data": {
      "text/html": [
       "<div>\n",
       "<style scoped>\n",
       "    .dataframe tbody tr th:only-of-type {\n",
       "        vertical-align: middle;\n",
       "    }\n",
       "\n",
       "    .dataframe tbody tr th {\n",
       "        vertical-align: top;\n",
       "    }\n",
       "\n",
       "    .dataframe thead th {\n",
       "        text-align: right;\n",
       "    }\n",
       "</style>\n",
       "<table border=\"1\" class=\"dataframe\">\n",
       "  <thead>\n",
       "    <tr style=\"text-align: right;\">\n",
       "      <th></th>\n",
       "      <th>count</th>\n",
       "      <th>median</th>\n",
       "      <th>sum</th>\n",
       "    </tr>\n",
       "    <tr>\n",
       "      <th>genre</th>\n",
       "      <th></th>\n",
       "      <th></th>\n",
       "      <th></th>\n",
       "    </tr>\n",
       "  </thead>\n",
       "  <tbody>\n",
       "    <tr>\n",
       "      <th>action</th>\n",
       "      <td>766</td>\n",
       "      <td>0.110</td>\n",
       "      <td>321.87</td>\n",
       "    </tr>\n",
       "    <tr>\n",
       "      <th>shooter</th>\n",
       "      <td>187</td>\n",
       "      <td>0.450</td>\n",
       "      <td>232.98</td>\n",
       "    </tr>\n",
       "    <tr>\n",
       "      <th>sports</th>\n",
       "      <td>214</td>\n",
       "      <td>0.240</td>\n",
       "      <td>150.65</td>\n",
       "    </tr>\n",
       "    <tr>\n",
       "      <th>role-playing</th>\n",
       "      <td>292</td>\n",
       "      <td>0.125</td>\n",
       "      <td>145.89</td>\n",
       "    </tr>\n",
       "    <tr>\n",
       "      <th>misc</th>\n",
       "      <td>155</td>\n",
       "      <td>0.100</td>\n",
       "      <td>62.82</td>\n",
       "    </tr>\n",
       "    <tr>\n",
       "      <th>platform</th>\n",
       "      <td>74</td>\n",
       "      <td>0.225</td>\n",
       "      <td>42.63</td>\n",
       "    </tr>\n",
       "    <tr>\n",
       "      <th>racing</th>\n",
       "      <td>85</td>\n",
       "      <td>0.120</td>\n",
       "      <td>39.89</td>\n",
       "    </tr>\n",
       "    <tr>\n",
       "      <th>fighting</th>\n",
       "      <td>80</td>\n",
       "      <td>0.125</td>\n",
       "      <td>35.31</td>\n",
       "    </tr>\n",
       "    <tr>\n",
       "      <th>adventure</th>\n",
       "      <td>245</td>\n",
       "      <td>0.030</td>\n",
       "      <td>23.64</td>\n",
       "    </tr>\n",
       "    <tr>\n",
       "      <th>simulation</th>\n",
       "      <td>62</td>\n",
       "      <td>0.100</td>\n",
       "      <td>21.76</td>\n",
       "    </tr>\n",
       "    <tr>\n",
       "      <th>strategy</th>\n",
       "      <td>56</td>\n",
       "      <td>0.080</td>\n",
       "      <td>10.08</td>\n",
       "    </tr>\n",
       "    <tr>\n",
       "      <th>puzzle</th>\n",
       "      <td>17</td>\n",
       "      <td>0.060</td>\n",
       "      <td>3.17</td>\n",
       "    </tr>\n",
       "  </tbody>\n",
       "</table>\n",
       "</div>"
      ],
      "text/plain": [
       "              count  median     sum\n",
       "genre                              \n",
       "action          766   0.110  321.87\n",
       "shooter         187   0.450  232.98\n",
       "sports          214   0.240  150.65\n",
       "role-playing    292   0.125  145.89\n",
       "misc            155   0.100   62.82\n",
       "platform         74   0.225   42.63\n",
       "racing           85   0.120   39.89\n",
       "fighting         80   0.125   35.31\n",
       "adventure       245   0.030   23.64\n",
       "simulation       62   0.100   21.76\n",
       "strategy         56   0.080   10.08\n",
       "puzzle           17   0.060    3.17"
      ]
     },
     "execution_count": 42,
     "metadata": {},
     "output_type": "execute_result"
    }
   ],
   "source": [
    "genre_current_period"
   ]
  },
  {
   "cell_type": "markdown",
   "metadata": {},
   "source": [
    "Если не брать в расчет `action` жанр, то у самых продаваемых жанров большое медианное значение и количество продаж. У малопродаваемых жанров низкое медианное значение. Также можно выделить жанр `adventure` у которого много проданных игр, но медианное значение самое низкое."
   ]
  },
  {
   "cell_type": "markdown",
   "metadata": {},
   "source": [
    "### Вывод"
   ]
  },
  {
   "cell_type": "markdown",
   "metadata": {},
   "source": [
    "Обобщим все краткие вышеприведенные выводы. \n",
    "\n",
    "1994 год - год стремительного роста выпуска игр. Примерная продолжительность жизни платформ 7-10 лет. В актуальный период который начинается с 2013 года практически все платформы сбавляли темпы продаж. Зависимость между отзывами критиков и продажами есть, но маленькая, а между отзывами пользователей и продажами практически отсутсвует. Жанры с низкими и высокими продажами имеют маленькое и высокое медианное значение соответственно. Исключение из жанров составляет `adventure`, у которого много проданных игр, но медианное значение самое низкое."
   ]
  },
  {
   "cell_type": "markdown",
   "metadata": {},
   "source": [
    "## Составление портрета пользователя каждого региона"
   ]
  },
  {
   "cell_type": "markdown",
   "metadata": {},
   "source": [
    "Топ 5 платформ по продажам в Северной Америке.\n"
   ]
  },
  {
   "cell_type": "code",
   "execution_count": 43,
   "metadata": {},
   "outputs": [
    {
     "data": {
      "text/html": [
       "<div>\n",
       "<style scoped>\n",
       "    .dataframe tbody tr th:only-of-type {\n",
       "        vertical-align: middle;\n",
       "    }\n",
       "\n",
       "    .dataframe tbody tr th {\n",
       "        vertical-align: top;\n",
       "    }\n",
       "\n",
       "    .dataframe thead th {\n",
       "        text-align: right;\n",
       "    }\n",
       "</style>\n",
       "<table border=\"1\" class=\"dataframe\">\n",
       "  <thead>\n",
       "    <tr style=\"text-align: right;\">\n",
       "      <th></th>\n",
       "      <th>na_sales</th>\n",
       "      <th>sales</th>\n",
       "      <th>ratio</th>\n",
       "    </tr>\n",
       "    <tr>\n",
       "      <th>platform</th>\n",
       "      <th></th>\n",
       "      <th></th>\n",
       "      <th></th>\n",
       "    </tr>\n",
       "  </thead>\n",
       "  <tbody>\n",
       "    <tr>\n",
       "      <th>ps4</th>\n",
       "      <td>108.74</td>\n",
       "      <td>314.14</td>\n",
       "      <td>0.346151</td>\n",
       "    </tr>\n",
       "    <tr>\n",
       "      <th>xone</th>\n",
       "      <td>93.12</td>\n",
       "      <td>159.32</td>\n",
       "      <td>0.584484</td>\n",
       "    </tr>\n",
       "    <tr>\n",
       "      <th>x360</th>\n",
       "      <td>81.66</td>\n",
       "      <td>136.80</td>\n",
       "      <td>0.596930</td>\n",
       "    </tr>\n",
       "    <tr>\n",
       "      <th>ps3</th>\n",
       "      <td>63.50</td>\n",
       "      <td>181.43</td>\n",
       "      <td>0.349997</td>\n",
       "    </tr>\n",
       "    <tr>\n",
       "      <th>3ds</th>\n",
       "      <td>38.20</td>\n",
       "      <td>143.25</td>\n",
       "      <td>0.266667</td>\n",
       "    </tr>\n",
       "  </tbody>\n",
       "</table>\n",
       "</div>"
      ],
      "text/plain": [
       "          na_sales   sales     ratio\n",
       "platform                            \n",
       "ps4         108.74  314.14  0.346151\n",
       "xone         93.12  159.32  0.584484\n",
       "x360         81.66  136.80  0.596930\n",
       "ps3          63.50  181.43  0.349997\n",
       "3ds          38.20  143.25  0.266667"
      ]
     },
     "execution_count": 43,
     "metadata": {},
     "output_type": "execute_result"
    }
   ],
   "source": [
    "na_sales_top = (current_period.groupby('platform')\n",
    "                .agg({'na_sales':'sum', 'sales':'sum'}, as_index=False)\n",
    "                .sort_values(by='na_sales', ascending=False)[:5]\n",
    "               )\n",
    "na_sales_top['ratio'] = na_sales_top.na_sales/na_sales_top.sales\n",
    "na_sales_top"
   ]
  },
  {
   "cell_type": "markdown",
   "metadata": {},
   "source": [
    "Топ 5 платформ по продажам в Европе.\n"
   ]
  },
  {
   "cell_type": "code",
   "execution_count": 44,
   "metadata": {},
   "outputs": [
    {
     "data": {
      "text/html": [
       "<div>\n",
       "<style scoped>\n",
       "    .dataframe tbody tr th:only-of-type {\n",
       "        vertical-align: middle;\n",
       "    }\n",
       "\n",
       "    .dataframe tbody tr th {\n",
       "        vertical-align: top;\n",
       "    }\n",
       "\n",
       "    .dataframe thead th {\n",
       "        text-align: right;\n",
       "    }\n",
       "</style>\n",
       "<table border=\"1\" class=\"dataframe\">\n",
       "  <thead>\n",
       "    <tr style=\"text-align: right;\">\n",
       "      <th></th>\n",
       "      <th>eu_sales</th>\n",
       "      <th>sales</th>\n",
       "      <th>ratio</th>\n",
       "    </tr>\n",
       "    <tr>\n",
       "      <th>platform</th>\n",
       "      <th></th>\n",
       "      <th></th>\n",
       "      <th></th>\n",
       "    </tr>\n",
       "  </thead>\n",
       "  <tbody>\n",
       "    <tr>\n",
       "      <th>ps4</th>\n",
       "      <td>141.09</td>\n",
       "      <td>314.14</td>\n",
       "      <td>0.449131</td>\n",
       "    </tr>\n",
       "    <tr>\n",
       "      <th>ps3</th>\n",
       "      <td>67.81</td>\n",
       "      <td>181.43</td>\n",
       "      <td>0.373753</td>\n",
       "    </tr>\n",
       "    <tr>\n",
       "      <th>xone</th>\n",
       "      <td>51.59</td>\n",
       "      <td>159.32</td>\n",
       "      <td>0.323814</td>\n",
       "    </tr>\n",
       "    <tr>\n",
       "      <th>x360</th>\n",
       "      <td>42.52</td>\n",
       "      <td>136.80</td>\n",
       "      <td>0.310819</td>\n",
       "    </tr>\n",
       "    <tr>\n",
       "      <th>3ds</th>\n",
       "      <td>30.96</td>\n",
       "      <td>143.25</td>\n",
       "      <td>0.216126</td>\n",
       "    </tr>\n",
       "  </tbody>\n",
       "</table>\n",
       "</div>"
      ],
      "text/plain": [
       "          eu_sales   sales     ratio\n",
       "platform                            \n",
       "ps4         141.09  314.14  0.449131\n",
       "ps3          67.81  181.43  0.373753\n",
       "xone         51.59  159.32  0.323814\n",
       "x360         42.52  136.80  0.310819\n",
       "3ds          30.96  143.25  0.216126"
      ]
     },
     "execution_count": 44,
     "metadata": {},
     "output_type": "execute_result"
    }
   ],
   "source": [
    "eu_sales_top = (current_period.groupby('platform')\n",
    "                .agg({'eu_sales':'sum', 'sales':'sum'}, as_index=False)\n",
    "                .sort_values(by='eu_sales', ascending=False)[:5]\n",
    "               )\n",
    "eu_sales_top['ratio'] = eu_sales_top.eu_sales/eu_sales_top.sales\n",
    "eu_sales_top"
   ]
  },
  {
   "cell_type": "markdown",
   "metadata": {},
   "source": [
    "Топ 5 платформ по продажам в Японии.\n"
   ]
  },
  {
   "cell_type": "code",
   "execution_count": 45,
   "metadata": {
    "scrolled": true
   },
   "outputs": [
    {
     "data": {
      "text/html": [
       "<div>\n",
       "<style scoped>\n",
       "    .dataframe tbody tr th:only-of-type {\n",
       "        vertical-align: middle;\n",
       "    }\n",
       "\n",
       "    .dataframe tbody tr th {\n",
       "        vertical-align: top;\n",
       "    }\n",
       "\n",
       "    .dataframe thead th {\n",
       "        text-align: right;\n",
       "    }\n",
       "</style>\n",
       "<table border=\"1\" class=\"dataframe\">\n",
       "  <thead>\n",
       "    <tr style=\"text-align: right;\">\n",
       "      <th></th>\n",
       "      <th>jp_sales</th>\n",
       "      <th>sales</th>\n",
       "      <th>ratio</th>\n",
       "    </tr>\n",
       "    <tr>\n",
       "      <th>platform</th>\n",
       "      <th></th>\n",
       "      <th></th>\n",
       "      <th></th>\n",
       "    </tr>\n",
       "  </thead>\n",
       "  <tbody>\n",
       "    <tr>\n",
       "      <th>3ds</th>\n",
       "      <td>67.81</td>\n",
       "      <td>143.25</td>\n",
       "      <td>0.473368</td>\n",
       "    </tr>\n",
       "    <tr>\n",
       "      <th>ps3</th>\n",
       "      <td>23.35</td>\n",
       "      <td>181.43</td>\n",
       "      <td>0.128700</td>\n",
       "    </tr>\n",
       "    <tr>\n",
       "      <th>psv</th>\n",
       "      <td>18.59</td>\n",
       "      <td>32.99</td>\n",
       "      <td>0.563504</td>\n",
       "    </tr>\n",
       "    <tr>\n",
       "      <th>ps4</th>\n",
       "      <td>15.96</td>\n",
       "      <td>314.14</td>\n",
       "      <td>0.050805</td>\n",
       "    </tr>\n",
       "    <tr>\n",
       "      <th>wiiu</th>\n",
       "      <td>10.88</td>\n",
       "      <td>64.63</td>\n",
       "      <td>0.168343</td>\n",
       "    </tr>\n",
       "  </tbody>\n",
       "</table>\n",
       "</div>"
      ],
      "text/plain": [
       "          jp_sales   sales     ratio\n",
       "platform                            \n",
       "3ds          67.81  143.25  0.473368\n",
       "ps3          23.35  181.43  0.128700\n",
       "psv          18.59   32.99  0.563504\n",
       "ps4          15.96  314.14  0.050805\n",
       "wiiu         10.88   64.63  0.168343"
      ]
     },
     "execution_count": 45,
     "metadata": {},
     "output_type": "execute_result"
    }
   ],
   "source": [
    "jp_sales_top = (current_period.groupby('platform')\n",
    "                .agg({'jp_sales':'sum', 'sales':'sum'}, as_index=False)\n",
    "                .sort_values(by='jp_sales', ascending=False)[:5]\n",
    "               )\n",
    "jp_sales_top['ratio'] = jp_sales_top.jp_sales/jp_sales_top.sales\n",
    "jp_sales_top"
   ]
  },
  {
   "cell_type": "markdown",
   "id": "055e4288",
   "metadata": {},
   "source": [
    "Большая доля продаж наблюдается в Северной Америке. По объему продаж лидирующая платформа в Северной Америке и Европе - `ps4`, Японии - `3ds`. Ожидаемые результаты. Запад на своей платформе, Япония со своим легендарным Нинтендо."
   ]
  },
  {
   "cell_type": "markdown",
   "metadata": {},
   "source": [
    "Топ 5 жанров по продажам в Северной Америке.\n"
   ]
  },
  {
   "cell_type": "code",
   "execution_count": 46,
   "metadata": {},
   "outputs": [
    {
     "data": {
      "text/html": [
       "<div>\n",
       "<style scoped>\n",
       "    .dataframe tbody tr th:only-of-type {\n",
       "        vertical-align: middle;\n",
       "    }\n",
       "\n",
       "    .dataframe tbody tr th {\n",
       "        vertical-align: top;\n",
       "    }\n",
       "\n",
       "    .dataframe thead th {\n",
       "        text-align: right;\n",
       "    }\n",
       "</style>\n",
       "<table border=\"1\" class=\"dataframe\">\n",
       "  <thead>\n",
       "    <tr style=\"text-align: right;\">\n",
       "      <th></th>\n",
       "      <th>na_sales</th>\n",
       "    </tr>\n",
       "    <tr>\n",
       "      <th>genre</th>\n",
       "      <th></th>\n",
       "    </tr>\n",
       "  </thead>\n",
       "  <tbody>\n",
       "    <tr>\n",
       "      <th>action</th>\n",
       "      <td>126.05</td>\n",
       "    </tr>\n",
       "    <tr>\n",
       "      <th>shooter</th>\n",
       "      <td>109.74</td>\n",
       "    </tr>\n",
       "    <tr>\n",
       "      <th>sports</th>\n",
       "      <td>65.27</td>\n",
       "    </tr>\n",
       "    <tr>\n",
       "      <th>role-playing</th>\n",
       "      <td>46.40</td>\n",
       "    </tr>\n",
       "    <tr>\n",
       "      <th>misc</th>\n",
       "      <td>27.49</td>\n",
       "    </tr>\n",
       "  </tbody>\n",
       "</table>\n",
       "</div>"
      ],
      "text/plain": [
       "              na_sales\n",
       "genre                 \n",
       "action          126.05\n",
       "shooter         109.74\n",
       "sports           65.27\n",
       "role-playing     46.40\n",
       "misc             27.49"
      ]
     },
     "execution_count": 46,
     "metadata": {},
     "output_type": "execute_result"
    }
   ],
   "source": [
    "current_period.groupby('genre').agg({'na_sales':'sum'}, as_index=False).sort_values(by='na_sales', ascending=False)[:5]"
   ]
  },
  {
   "cell_type": "markdown",
   "metadata": {},
   "source": [
    "Топ 5 жанров по продажам в Европе.\n"
   ]
  },
  {
   "cell_type": "code",
   "execution_count": 47,
   "metadata": {},
   "outputs": [
    {
     "data": {
      "text/html": [
       "<div>\n",
       "<style scoped>\n",
       "    .dataframe tbody tr th:only-of-type {\n",
       "        vertical-align: middle;\n",
       "    }\n",
       "\n",
       "    .dataframe tbody tr th {\n",
       "        vertical-align: top;\n",
       "    }\n",
       "\n",
       "    .dataframe thead th {\n",
       "        text-align: right;\n",
       "    }\n",
       "</style>\n",
       "<table border=\"1\" class=\"dataframe\">\n",
       "  <thead>\n",
       "    <tr style=\"text-align: right;\">\n",
       "      <th></th>\n",
       "      <th>eu_sales</th>\n",
       "    </tr>\n",
       "    <tr>\n",
       "      <th>genre</th>\n",
       "      <th></th>\n",
       "    </tr>\n",
       "  </thead>\n",
       "  <tbody>\n",
       "    <tr>\n",
       "      <th>action</th>\n",
       "      <td>118.13</td>\n",
       "    </tr>\n",
       "    <tr>\n",
       "      <th>shooter</th>\n",
       "      <td>87.86</td>\n",
       "    </tr>\n",
       "    <tr>\n",
       "      <th>sports</th>\n",
       "      <td>60.52</td>\n",
       "    </tr>\n",
       "    <tr>\n",
       "      <th>role-playing</th>\n",
       "      <td>36.97</td>\n",
       "    </tr>\n",
       "    <tr>\n",
       "      <th>racing</th>\n",
       "      <td>20.19</td>\n",
       "    </tr>\n",
       "  </tbody>\n",
       "</table>\n",
       "</div>"
      ],
      "text/plain": [
       "              eu_sales\n",
       "genre                 \n",
       "action          118.13\n",
       "shooter          87.86\n",
       "sports           60.52\n",
       "role-playing     36.97\n",
       "racing           20.19"
      ]
     },
     "execution_count": 47,
     "metadata": {},
     "output_type": "execute_result"
    }
   ],
   "source": [
    "current_period.groupby('genre').agg({'eu_sales':'sum'}, as_index=False).sort_values(by='eu_sales', ascending=False)[:5]"
   ]
  },
  {
   "cell_type": "markdown",
   "metadata": {},
   "source": [
    "Топ 5 жанров по продажам в Японии.\n"
   ]
  },
  {
   "cell_type": "code",
   "execution_count": 48,
   "metadata": {
    "scrolled": true
   },
   "outputs": [
    {
     "data": {
      "text/html": [
       "<div>\n",
       "<style scoped>\n",
       "    .dataframe tbody tr th:only-of-type {\n",
       "        vertical-align: middle;\n",
       "    }\n",
       "\n",
       "    .dataframe tbody tr th {\n",
       "        vertical-align: top;\n",
       "    }\n",
       "\n",
       "    .dataframe thead th {\n",
       "        text-align: right;\n",
       "    }\n",
       "</style>\n",
       "<table border=\"1\" class=\"dataframe\">\n",
       "  <thead>\n",
       "    <tr style=\"text-align: right;\">\n",
       "      <th></th>\n",
       "      <th>jp_sales</th>\n",
       "    </tr>\n",
       "    <tr>\n",
       "      <th>genre</th>\n",
       "      <th></th>\n",
       "    </tr>\n",
       "  </thead>\n",
       "  <tbody>\n",
       "    <tr>\n",
       "      <th>role-playing</th>\n",
       "      <td>51.04</td>\n",
       "    </tr>\n",
       "    <tr>\n",
       "      <th>action</th>\n",
       "      <td>40.49</td>\n",
       "    </tr>\n",
       "    <tr>\n",
       "      <th>misc</th>\n",
       "      <td>9.20</td>\n",
       "    </tr>\n",
       "    <tr>\n",
       "      <th>fighting</th>\n",
       "      <td>7.65</td>\n",
       "    </tr>\n",
       "    <tr>\n",
       "      <th>shooter</th>\n",
       "      <td>6.61</td>\n",
       "    </tr>\n",
       "  </tbody>\n",
       "</table>\n",
       "</div>"
      ],
      "text/plain": [
       "              jp_sales\n",
       "genre                 \n",
       "role-playing     51.04\n",
       "action           40.49\n",
       "misc              9.20\n",
       "fighting          7.65\n",
       "shooter           6.61"
      ]
     },
     "execution_count": 48,
     "metadata": {},
     "output_type": "execute_result"
    }
   ],
   "source": [
    "current_period.groupby('genre').agg({'jp_sales':'sum'}, as_index=False).sort_values(by='jp_sales', ascending=False)[:5]"
   ]
  },
  {
   "cell_type": "markdown",
   "metadata": {},
   "source": [
    "В Европе и Северной Америке наиболее популярным жанром является `action`. В Японии традиционно лидирует жанр `role-playing\t` или сокращенно `RPG`."
   ]
  },
  {
   "cell_type": "markdown",
   "metadata": {},
   "source": [
    "Влияние рейтинга на продажи в Северной Америке.\n"
   ]
  },
  {
   "cell_type": "code",
   "execution_count": 49,
   "metadata": {},
   "outputs": [
    {
     "data": {
      "text/html": [
       "<div>\n",
       "<style scoped>\n",
       "    .dataframe tbody tr th:only-of-type {\n",
       "        vertical-align: middle;\n",
       "    }\n",
       "\n",
       "    .dataframe tbody tr th {\n",
       "        vertical-align: top;\n",
       "    }\n",
       "\n",
       "    .dataframe thead th {\n",
       "        text-align: right;\n",
       "    }\n",
       "</style>\n",
       "<table border=\"1\" class=\"dataframe\">\n",
       "  <thead>\n",
       "    <tr style=\"text-align: right;\">\n",
       "      <th></th>\n",
       "      <th>na_sales</th>\n",
       "    </tr>\n",
       "    <tr>\n",
       "      <th>rating</th>\n",
       "      <th></th>\n",
       "    </tr>\n",
       "  </thead>\n",
       "  <tbody>\n",
       "    <tr>\n",
       "      <th>m</th>\n",
       "      <td>165.21</td>\n",
       "    </tr>\n",
       "    <tr>\n",
       "      <th>unknow</th>\n",
       "      <td>89.42</td>\n",
       "    </tr>\n",
       "    <tr>\n",
       "      <th>e</th>\n",
       "      <td>79.05</td>\n",
       "    </tr>\n",
       "    <tr>\n",
       "      <th>e10+</th>\n",
       "      <td>54.24</td>\n",
       "    </tr>\n",
       "    <tr>\n",
       "      <th>t</th>\n",
       "      <td>49.79</td>\n",
       "    </tr>\n",
       "  </tbody>\n",
       "</table>\n",
       "</div>"
      ],
      "text/plain": [
       "        na_sales\n",
       "rating          \n",
       "m         165.21\n",
       "unknow     89.42\n",
       "e          79.05\n",
       "e10+       54.24\n",
       "t          49.79"
      ]
     },
     "execution_count": 49,
     "metadata": {},
     "output_type": "execute_result"
    }
   ],
   "source": [
    "current_period.groupby('rating').agg({'na_sales':'sum'}, as_index=False).sort_values(by='na_sales', ascending=False)[:5]"
   ]
  },
  {
   "cell_type": "markdown",
   "metadata": {},
   "source": [
    "Влияние рейтинга на продажи в Европе.\n"
   ]
  },
  {
   "cell_type": "code",
   "execution_count": 50,
   "metadata": {},
   "outputs": [
    {
     "data": {
      "text/html": [
       "<div>\n",
       "<style scoped>\n",
       "    .dataframe tbody tr th:only-of-type {\n",
       "        vertical-align: middle;\n",
       "    }\n",
       "\n",
       "    .dataframe tbody tr th {\n",
       "        vertical-align: top;\n",
       "    }\n",
       "\n",
       "    .dataframe thead th {\n",
       "        text-align: right;\n",
       "    }\n",
       "</style>\n",
       "<table border=\"1\" class=\"dataframe\">\n",
       "  <thead>\n",
       "    <tr style=\"text-align: right;\">\n",
       "      <th></th>\n",
       "      <th>eu_sales</th>\n",
       "    </tr>\n",
       "    <tr>\n",
       "      <th>rating</th>\n",
       "      <th></th>\n",
       "    </tr>\n",
       "  </thead>\n",
       "  <tbody>\n",
       "    <tr>\n",
       "      <th>m</th>\n",
       "      <td>145.32</td>\n",
       "    </tr>\n",
       "    <tr>\n",
       "      <th>e</th>\n",
       "      <td>83.36</td>\n",
       "    </tr>\n",
       "    <tr>\n",
       "      <th>unknow</th>\n",
       "      <td>78.91</td>\n",
       "    </tr>\n",
       "    <tr>\n",
       "      <th>e10+</th>\n",
       "      <td>42.69</td>\n",
       "    </tr>\n",
       "    <tr>\n",
       "      <th>t</th>\n",
       "      <td>41.95</td>\n",
       "    </tr>\n",
       "  </tbody>\n",
       "</table>\n",
       "</div>"
      ],
      "text/plain": [
       "        eu_sales\n",
       "rating          \n",
       "m         145.32\n",
       "e          83.36\n",
       "unknow     78.91\n",
       "e10+       42.69\n",
       "t          41.95"
      ]
     },
     "execution_count": 50,
     "metadata": {},
     "output_type": "execute_result"
    }
   ],
   "source": [
    "current_period.groupby('rating').agg({'eu_sales':'sum'}, as_index=False).sort_values(by='eu_sales', ascending=False)[:5]"
   ]
  },
  {
   "cell_type": "markdown",
   "metadata": {},
   "source": [
    "Влияние рейтинга на продажи в Японии.\n"
   ]
  },
  {
   "cell_type": "code",
   "execution_count": 51,
   "metadata": {
    "scrolled": true
   },
   "outputs": [
    {
     "data": {
      "text/html": [
       "<div>\n",
       "<style scoped>\n",
       "    .dataframe tbody tr th:only-of-type {\n",
       "        vertical-align: middle;\n",
       "    }\n",
       "\n",
       "    .dataframe tbody tr th {\n",
       "        vertical-align: top;\n",
       "    }\n",
       "\n",
       "    .dataframe thead th {\n",
       "        text-align: right;\n",
       "    }\n",
       "</style>\n",
       "<table border=\"1\" class=\"dataframe\">\n",
       "  <thead>\n",
       "    <tr style=\"text-align: right;\">\n",
       "      <th></th>\n",
       "      <th>jp_sales</th>\n",
       "    </tr>\n",
       "    <tr>\n",
       "      <th>rating</th>\n",
       "      <th></th>\n",
       "    </tr>\n",
       "  </thead>\n",
       "  <tbody>\n",
       "    <tr>\n",
       "      <th>unknow</th>\n",
       "      <td>85.05</td>\n",
       "    </tr>\n",
       "    <tr>\n",
       "      <th>t</th>\n",
       "      <td>20.59</td>\n",
       "    </tr>\n",
       "    <tr>\n",
       "      <th>e</th>\n",
       "      <td>15.14</td>\n",
       "    </tr>\n",
       "    <tr>\n",
       "      <th>m</th>\n",
       "      <td>14.11</td>\n",
       "    </tr>\n",
       "    <tr>\n",
       "      <th>e10+</th>\n",
       "      <td>5.89</td>\n",
       "    </tr>\n",
       "  </tbody>\n",
       "</table>\n",
       "</div>"
      ],
      "text/plain": [
       "        jp_sales\n",
       "rating          \n",
       "unknow     85.05\n",
       "t          20.59\n",
       "e          15.14\n",
       "m          14.11\n",
       "e10+        5.89"
      ]
     },
     "execution_count": 51,
     "metadata": {},
     "output_type": "execute_result"
    }
   ],
   "source": [
    "current_period.groupby('rating').agg({'jp_sales':'sum'}, as_index=False).sort_values(by='jp_sales', ascending=False)[:5]"
   ]
  },
  {
   "cell_type": "markdown",
   "id": "095e1d30",
   "metadata": {},
   "source": [
    "Рейтинг ESRB влияет на продажи. Так, в Европе и Северной Америке большие продажи приходятся на рейтинг `m` - от 17 лет. В Японии точно не сказать, так как мы не можем восстановить рейтинг для строк со значением `unknow`. После идут игры для подростков, и замыкают тройку игры для всех."
   ]
  },
  {
   "cell_type": "markdown",
   "metadata": {},
   "source": [
    "### Вывод"
   ]
  },
  {
   "cell_type": "markdown",
   "metadata": {},
   "source": [
    "По долям продаж сгруппированным по платформам лидирует Северная Америка. Самый популярный жанр - `action`. Большие продажи пришлись на рейтинг m. "
   ]
  },
  {
   "cell_type": "markdown",
   "metadata": {},
   "source": [
    "## Проверка гипотез"
   ]
  },
  {
   "cell_type": "markdown",
   "metadata": {},
   "source": [
    "Первая гипотеза.\n",
    "\n",
    "Нулевая гипотеза: cредние пользовательские рейтинги платформ `Xbox One` и `PC` одинаковые.\n",
    "\n",
    "Альтернативная гипотеза : средние пользовательские рейтинги платформ `Xbox One` и `PC` отличаются."
   ]
  },
  {
   "cell_type": "markdown",
   "metadata": {},
   "source": [
    "Перед проверкой гипотезы посчитаем дисперсии данных."
   ]
  },
  {
   "cell_type": "code",
   "execution_count": 52,
   "metadata": {},
   "outputs": [
    {
     "name": "stdout",
     "output_type": "stream",
     "text": [
      "Дисперсия \"xone\" равно: 0.21117175955065698.\n",
      "Дисперсия \"pc\" равно: 0.27700813763090737.\n"
     ]
    }
   ],
   "source": [
    "var_xone = st.variation(current_period.query('platform == \"xone\" and user_score>0')['user_score'])\n",
    "var_pc = st.variation(current_period.query('platform == \"pc\" and user_score>0')['user_score'])\n",
    "print(f'Дисперсия \"xone\" равно: {var_xone}.')\n",
    "print(f'Дисперсия \"pc\" равно: {var_pc}.')"
   ]
  },
  {
   "cell_type": "markdown",
   "metadata": {},
   "source": [
    "Применим метод для проверки гипотезы о равенстве среднего двух генеральных совокупностей по взятым из них выборкам. Дисперсии не равны, поэтому применим при проверке гипотезы параметр `equal_var`."
   ]
  },
  {
   "cell_type": "code",
   "execution_count": 53,
   "metadata": {},
   "outputs": [
    {
     "name": "stdout",
     "output_type": "stream",
     "text": [
      "p-значение: 0.14759594013430463\n",
      "Не получилось отвергнуть нулевую гипотезу\n"
     ]
    }
   ],
   "source": [
    "alpha = .05\n",
    "\n",
    "results = st.ttest_ind(current_period.query('platform == \"xone\" and user_score>0')['user_score'],\n",
    "                            current_period.query('platform == \"pc\" and user_score>0')['user_score'],\n",
    "                      equal_var=False) \n",
    "\n",
    "print('p-значение:', results.pvalue)\n",
    "\n",
    "if results.pvalue<alpha:\n",
    "    print(\"Отвергаем нулевую гипотезу\")\n",
    "else:\n",
    "    print(\"Не получилось отвергнуть нулевую гипотезу\")"
   ]
  },
  {
   "cell_type": "markdown",
   "metadata": {},
   "source": [
    "Полученное значение p-value говорит о том, что вероятность получить такое или большее различие случайно почти 5%. Нулевая гипотеза не подтвердилась, значит средние пользовательские рейтинги платформ `Xbox One` и `PC` отличаются."
   ]
  },
  {
   "cell_type": "markdown",
   "metadata": {},
   "source": [
    "Вторая гипотеза.\n",
    "\n",
    "Нулевая гипотеза: средние пользовательские рейтинги жанров `Action` и `Sports` одинаковые.\n",
    "\n",
    "Альтернативна гипотеза: средние пользовательские рейтинги жанров `Action` и `Sports` разные."
   ]
  },
  {
   "cell_type": "markdown",
   "metadata": {},
   "source": [
    "Перед проверкой гипотезы посчитаем дисперсии данных."
   ]
  },
  {
   "cell_type": "code",
   "execution_count": 54,
   "metadata": {},
   "outputs": [
    {
     "name": "stdout",
     "output_type": "stream",
     "text": [
      "Дисперсия \"action\" равно: 0.19428975257918113.\n",
      "Дисперсия \"sports\" равно: 0.33940490551700886.\n"
     ]
    }
   ],
   "source": [
    "var_action = st.variation(current_period.query('genre == \"action\" and user_score>0')['user_score'])\n",
    "var_sports = st.variation(current_period.query('genre == \"sports\" and user_score>0')['user_score'])\n",
    "print(f'Дисперсия \"action\" равно: {var_action}.')\n",
    "print(f'Дисперсия \"sports\" равно: {var_sports}.')"
   ]
  },
  {
   "cell_type": "markdown",
   "metadata": {},
   "source": [
    "Проверим вторую гипотезу. Дисперсии не равны, поэтому также применим при проверке гипотезы параметр equal_var."
   ]
  },
  {
   "cell_type": "code",
   "execution_count": 55,
   "metadata": {
    "scrolled": true
   },
   "outputs": [
    {
     "name": "stdout",
     "output_type": "stream",
     "text": [
      "p-значение: 1.4460039700704315e-20\n",
      "Отвергаем нулевую гипотезу\n"
     ]
    }
   ],
   "source": [
    "results = st.ttest_ind(current_period.query('genre == \"action\" and user_score>0')['user_score'],\n",
    "                            current_period.query('genre == \"sports\" and user_score>0')['user_score'],\n",
    "                      equal_var=False)   \n",
    "\n",
    "print('p-значение:', results.pvalue)\n",
    "\n",
    "if results.pvalue<alpha:\n",
    "    print(\"Отвергаем нулевую гипотезу\")\n",
    "else:\n",
    "    print(\"Не получилось отвергнуть нулевую гипотезу\")"
   ]
  },
  {
   "cell_type": "markdown",
   "metadata": {},
   "source": [
    "Полученное значение p-value говорит о том, что вероятность получить такое или большее различие случайно почти 0%. Нулевая гипотеза не подтвердилась, значит средние пользовательские рейтинги жанров `Action` и `Sports` разные."
   ]
  },
  {
   "cell_type": "markdown",
   "metadata": {},
   "source": [
    "## Общий вывод"
   ]
  },
  {
   "cell_type": "markdown",
   "metadata": {},
   "source": [
    "\"Индустриализация\" в мире игр началось в 1994 году. Годом большего количества выпущенных игр является 2008 и 2009. \n",
    "\n",
    "Лидирующие позиции платформ по суммарным продажам у `ps2`, `x360`, `ps3`. У большей частии платформ из топ 10 примерная продолжительность жизни 7-10 лет. Потенциально прибыльными платформами могут стать `psv`, `3ds` и `pc`.\n",
    "\n",
    "При расчете корреляции одной из популярной платформы получили наличие зависимости продаж от отзывов критиков. \n",
    "\n",
    "Большая доля продаж наблюдается в Северной Америке. Самая большая доля продаж наблюдается в Северной Америки на платформе `xone`. В Европе и Северной Америке наиболее популярным жанром является `action`. В Японии традиционно лидирует жанр `role-playing` или сокращенно `RPG`.\n",
    "\n",
    "В Европе топ 3 платформ - `ps4`, `ps3` и `xone`. В Северной Америке - `ps4`, `xone` и `x360`. В Японии - `3ds`, `ps3` и `psv`. \n",
    "\n",
    "Тройка лучших жанров в Северной Америке - `action`, `shooter` и `ports`. В Европе - `action`, `shooter` и `sports`. В Японии - `role-playing`, `action` и `misc`.\n",
    "\n",
    "Cреди игроков Европы и Северной Америки наибеолее популярны игры для взрослых и для любого возраста. В то время как в Японии с большим отрывом лидируют игры, для которых рейтинг неустановлен. \n",
    "\n",
    "Проверка гипотез показала следующие результаты:\n",
    "\n",
    "* средние пользовательские рейтинги платформ Xbox One и PC отличаются;\n",
    "* средние пользовательские рейтинги жанров Action и Sports разные.\n",
    "\n",
    "Из вышеперечисленного можно сказать что игра будет иметь успех если выйдет на платформе `Xbox One` с жанром `action`. "
   ]
  }
 ],
 "metadata": {
  "ExecuteTimeLog": [
   {
    "duration": 1125,
    "start_time": "2022-03-13T18:00:55.513Z"
   },
   {
    "duration": 38,
    "start_time": "2022-03-13T18:00:56.639Z"
   },
   {
    "duration": 15,
    "start_time": "2022-03-13T18:00:56.679Z"
   },
   {
    "duration": 30,
    "start_time": "2022-03-13T18:00:56.696Z"
   },
   {
    "duration": 8,
    "start_time": "2022-03-13T18:00:56.728Z"
   },
   {
    "duration": 2,
    "start_time": "2022-03-13T18:00:56.738Z"
   },
   {
    "duration": 22,
    "start_time": "2022-03-13T18:00:56.742Z"
   },
   {
    "duration": 37,
    "start_time": "2022-03-13T18:00:56.767Z"
   },
   {
    "duration": 4,
    "start_time": "2022-03-13T18:00:56.807Z"
   },
   {
    "duration": 10,
    "start_time": "2022-03-13T18:00:56.812Z"
   },
   {
    "duration": 6,
    "start_time": "2022-03-13T18:00:56.824Z"
   },
   {
    "duration": 7,
    "start_time": "2022-03-13T18:00:56.832Z"
   },
   {
    "duration": 8,
    "start_time": "2022-03-13T18:00:56.841Z"
   },
   {
    "duration": 4,
    "start_time": "2022-03-13T18:00:56.850Z"
   },
   {
    "duration": 10,
    "start_time": "2022-03-13T18:00:56.855Z"
   },
   {
    "duration": 8,
    "start_time": "2022-03-13T18:00:56.905Z"
   },
   {
    "duration": 18,
    "start_time": "2022-03-13T18:00:56.914Z"
   },
   {
    "duration": 459,
    "start_time": "2022-03-13T18:00:56.933Z"
   },
   {
    "duration": 252,
    "start_time": "2022-03-13T18:00:57.393Z"
   },
   {
    "duration": 6,
    "start_time": "2022-03-13T18:00:57.646Z"
   },
   {
    "duration": 7,
    "start_time": "2022-03-13T18:00:57.654Z"
   },
   {
    "duration": 382,
    "start_time": "2022-03-13T18:00:57.663Z"
   },
   {
    "duration": 7,
    "start_time": "2022-03-13T18:00:58.048Z"
   },
   {
    "duration": 5,
    "start_time": "2022-03-13T18:00:58.056Z"
   },
   {
    "duration": 8,
    "start_time": "2022-03-13T18:00:58.062Z"
   },
   {
    "duration": 417,
    "start_time": "2022-03-13T18:00:58.071Z"
   },
   {
    "duration": 518,
    "start_time": "2022-03-13T18:00:58.489Z"
   },
   {
    "duration": 340,
    "start_time": "2022-03-13T18:00:59.009Z"
   },
   {
    "duration": 311,
    "start_time": "2022-03-13T18:00:59.351Z"
   },
   {
    "duration": 13,
    "start_time": "2022-03-13T18:00:59.664Z"
   },
   {
    "duration": 28,
    "start_time": "2022-03-13T18:00:59.678Z"
   },
   {
    "duration": 12,
    "start_time": "2022-03-13T18:00:59.707Z"
   },
   {
    "duration": 3,
    "start_time": "2022-03-13T18:00:59.721Z"
   },
   {
    "duration": 8,
    "start_time": "2022-03-13T18:00:59.726Z"
   },
   {
    "duration": 8,
    "start_time": "2022-03-13T18:00:59.736Z"
   },
   {
    "duration": 12,
    "start_time": "2022-03-13T18:00:59.745Z"
   },
   {
    "duration": 44,
    "start_time": "2022-03-13T18:00:59.759Z"
   },
   {
    "duration": 13,
    "start_time": "2022-03-13T18:00:59.805Z"
   },
   {
    "duration": 9,
    "start_time": "2022-03-13T18:00:59.819Z"
   },
   {
    "duration": 11,
    "start_time": "2022-03-13T18:00:59.830Z"
   },
   {
    "duration": 9,
    "start_time": "2022-03-13T18:00:59.842Z"
   },
   {
    "duration": 9,
    "start_time": "2022-03-13T18:00:59.853Z"
   },
   {
    "duration": 10,
    "start_time": "2022-03-13T18:00:59.863Z"
   },
   {
    "duration": 8,
    "start_time": "2022-03-13T18:00:59.902Z"
   },
   {
    "duration": 8,
    "start_time": "2022-03-13T18:00:59.912Z"
   },
   {
    "duration": 9,
    "start_time": "2022-03-13T18:00:59.921Z"
   },
   {
    "duration": 16,
    "start_time": "2022-03-13T18:00:59.931Z"
   },
   {
    "duration": 13,
    "start_time": "2022-03-13T18:00:59.948Z"
   },
   {
    "duration": 1877,
    "start_time": "2022-03-14T19:09:21.933Z"
   },
   {
    "duration": 57,
    "start_time": "2022-03-14T19:09:23.815Z"
   },
   {
    "duration": 301,
    "start_time": "2022-03-14T19:09:23.875Z"
   },
   {
    "duration": 292,
    "start_time": "2022-03-14T19:09:24.179Z"
   },
   {
    "duration": 652,
    "start_time": "2022-03-14T19:09:24.474Z"
   },
   {
    "duration": 1034,
    "start_time": "2022-03-14T19:09:25.128Z"
   },
   {
    "duration": 929,
    "start_time": "2022-03-14T19:09:26.164Z"
   },
   {
    "duration": 804,
    "start_time": "2022-03-14T19:09:27.096Z"
   },
   {
    "duration": 238,
    "start_time": "2022-03-14T19:09:27.904Z"
   },
   {
    "duration": 283,
    "start_time": "2022-03-14T19:09:28.147Z"
   },
   {
    "duration": 364,
    "start_time": "2022-03-14T19:09:28.433Z"
   },
   {
    "duration": 875,
    "start_time": "2022-03-14T19:09:28.800Z"
   },
   {
    "duration": 752,
    "start_time": "2022-03-14T19:09:29.678Z"
   },
   {
    "duration": 266,
    "start_time": "2022-03-14T19:09:30.432Z"
   },
   {
    "duration": 485,
    "start_time": "2022-03-14T19:09:30.700Z"
   },
   {
    "duration": 350,
    "start_time": "2022-03-14T19:09:31.188Z"
   },
   {
    "duration": 267,
    "start_time": "2022-03-14T19:09:31.541Z"
   },
   {
    "duration": 932,
    "start_time": "2022-03-14T19:09:31.811Z"
   },
   {
    "duration": 408,
    "start_time": "2022-03-14T19:09:32.746Z"
   },
   {
    "duration": 27,
    "start_time": "2022-03-14T19:09:33.156Z"
   },
   {
    "duration": 331,
    "start_time": "2022-03-14T19:09:33.186Z"
   },
   {
    "duration": 973,
    "start_time": "2022-03-14T19:09:33.520Z"
   },
   {
    "duration": 11,
    "start_time": "2022-03-14T19:09:34.495Z"
   },
   {
    "duration": 283,
    "start_time": "2022-03-14T19:09:34.508Z"
   },
   {
    "duration": 290,
    "start_time": "2022-03-14T19:09:34.793Z"
   },
   {
    "duration": 991,
    "start_time": "2022-03-14T19:09:35.086Z"
   },
   {
    "duration": 835,
    "start_time": "2022-03-14T19:09:36.084Z"
   },
   {
    "duration": 526,
    "start_time": "2022-03-14T19:09:36.922Z"
   },
   {
    "duration": 530,
    "start_time": "2022-03-14T19:09:37.452Z"
   },
   {
    "duration": 19,
    "start_time": "2022-03-14T19:09:37.985Z"
   },
   {
    "duration": 1004,
    "start_time": "2022-03-14T19:09:38.006Z"
   },
   {
    "duration": 770,
    "start_time": "2022-03-14T19:09:39.012Z"
   },
   {
    "duration": 1089,
    "start_time": "2022-03-14T19:09:39.784Z"
   },
   {
    "duration": 1011,
    "start_time": "2022-03-14T19:09:40.876Z"
   },
   {
    "duration": 855,
    "start_time": "2022-03-14T19:09:41.890Z"
   },
   {
    "duration": 770,
    "start_time": "2022-03-14T19:09:42.748Z"
   },
   {
    "duration": 945,
    "start_time": "2022-03-14T19:09:43.521Z"
   },
   {
    "duration": 1099,
    "start_time": "2022-03-14T19:09:44.468Z"
   },
   {
    "duration": 912,
    "start_time": "2022-03-14T19:09:45.569Z"
   },
   {
    "duration": 597,
    "start_time": "2022-03-14T19:09:46.484Z"
   },
   {
    "duration": 665,
    "start_time": "2022-03-14T19:09:47.084Z"
   },
   {
    "duration": 525,
    "start_time": "2022-03-14T19:09:47.752Z"
   },
   {
    "duration": 372,
    "start_time": "2022-03-14T19:09:48.280Z"
   },
   {
    "duration": 870,
    "start_time": "2022-03-14T19:09:48.654Z"
   },
   {
    "duration": 811,
    "start_time": "2022-03-14T19:09:49.526Z"
   },
   {
    "duration": 626,
    "start_time": "2022-03-14T19:09:50.340Z"
   },
   {
    "duration": 1014,
    "start_time": "2022-03-14T19:09:50.969Z"
   },
   {
    "duration": 890,
    "start_time": "2022-03-14T19:09:51.985Z"
   },
   {
    "duration": 1752,
    "start_time": "2022-03-25T06:35:33.674Z"
   },
   {
    "duration": 58,
    "start_time": "2022-03-25T06:35:35.429Z"
   },
   {
    "duration": 26,
    "start_time": "2022-03-25T06:35:35.489Z"
   },
   {
    "duration": 71,
    "start_time": "2022-03-25T06:35:35.517Z"
   },
   {
    "duration": 26,
    "start_time": "2022-03-25T06:35:35.593Z"
   },
   {
    "duration": 25,
    "start_time": "2022-03-25T06:35:35.621Z"
   },
   {
    "duration": 78,
    "start_time": "2022-03-25T06:35:35.649Z"
   },
   {
    "duration": 23,
    "start_time": "2022-03-25T06:35:35.730Z"
   },
   {
    "duration": 34,
    "start_time": "2022-03-25T06:35:35.756Z"
   },
   {
    "duration": 35,
    "start_time": "2022-03-25T06:35:35.793Z"
   },
   {
    "duration": 40,
    "start_time": "2022-03-25T06:35:35.830Z"
   },
   {
    "duration": 44,
    "start_time": "2022-03-25T06:35:35.873Z"
   },
   {
    "duration": 57,
    "start_time": "2022-03-25T06:35:35.919Z"
   },
   {
    "duration": 65,
    "start_time": "2022-03-25T06:35:35.984Z"
   },
   {
    "duration": 78,
    "start_time": "2022-03-25T06:35:36.052Z"
   },
   {
    "duration": 24,
    "start_time": "2022-03-25T06:35:36.134Z"
   },
   {
    "duration": 51,
    "start_time": "2022-03-25T06:35:36.161Z"
   },
   {
    "duration": 630,
    "start_time": "2022-03-25T06:35:36.215Z"
   },
   {
    "duration": 314,
    "start_time": "2022-03-25T06:35:36.848Z"
   },
   {
    "duration": 20,
    "start_time": "2022-03-25T06:35:37.164Z"
   },
   {
    "duration": 36,
    "start_time": "2022-03-25T06:35:37.186Z"
   },
   {
    "duration": 559,
    "start_time": "2022-03-25T06:35:37.224Z"
   },
   {
    "duration": 12,
    "start_time": "2022-03-25T06:35:37.785Z"
   },
   {
    "duration": 28,
    "start_time": "2022-03-25T06:35:37.800Z"
   },
   {
    "duration": 28,
    "start_time": "2022-03-25T06:35:37.830Z"
   },
   {
    "duration": 865,
    "start_time": "2022-03-25T06:35:37.860Z"
   },
   {
    "duration": 492,
    "start_time": "2022-03-25T06:35:38.728Z"
   },
   {
    "duration": 291,
    "start_time": "2022-03-25T06:35:39.223Z"
   },
   {
    "duration": 303,
    "start_time": "2022-03-25T06:35:39.516Z"
   },
   {
    "duration": 3755,
    "start_time": "2022-03-25T06:35:39.822Z"
   },
   {
    "duration": 1563,
    "start_time": "2022-03-25T06:35:43.580Z"
   },
   {
    "duration": 15,
    "start_time": "2022-03-25T06:35:45.146Z"
   },
   {
    "duration": 15,
    "start_time": "2022-03-25T06:35:45.164Z"
   },
   {
    "duration": 23,
    "start_time": "2022-03-25T06:35:45.181Z"
   },
   {
    "duration": 27,
    "start_time": "2022-03-25T06:35:45.207Z"
   },
   {
    "duration": 38,
    "start_time": "2022-03-25T06:35:45.237Z"
   },
   {
    "duration": 29,
    "start_time": "2022-03-25T06:35:45.278Z"
   },
   {
    "duration": 29,
    "start_time": "2022-03-25T06:35:45.310Z"
   },
   {
    "duration": 47,
    "start_time": "2022-03-25T06:35:45.342Z"
   },
   {
    "duration": 24,
    "start_time": "2022-03-25T06:35:45.392Z"
   },
   {
    "duration": 14,
    "start_time": "2022-03-25T06:35:45.424Z"
   },
   {
    "duration": 19,
    "start_time": "2022-03-25T06:35:45.440Z"
   },
   {
    "duration": 16,
    "start_time": "2022-03-25T06:35:45.481Z"
   },
   {
    "duration": 30,
    "start_time": "2022-03-25T06:35:45.499Z"
   },
   {
    "duration": 15,
    "start_time": "2022-03-25T06:35:45.532Z"
   },
   {
    "duration": 41,
    "start_time": "2022-03-25T06:35:45.550Z"
   },
   {
    "duration": 25,
    "start_time": "2022-03-25T06:35:45.594Z"
   },
   {
    "duration": 35,
    "start_time": "2022-03-25T06:35:45.622Z"
   },
   {
    "duration": 12,
    "start_time": "2022-03-25T06:48:22.216Z"
   },
   {
    "duration": 5,
    "start_time": "2022-03-25T06:48:27.147Z"
   },
   {
    "duration": 51,
    "start_time": "2022-03-25T06:48:27.155Z"
   },
   {
    "duration": 21,
    "start_time": "2022-03-25T06:48:27.209Z"
   },
   {
    "duration": 58,
    "start_time": "2022-03-25T06:48:27.233Z"
   },
   {
    "duration": 21,
    "start_time": "2022-03-25T06:48:27.294Z"
   },
   {
    "duration": 3,
    "start_time": "2022-03-25T06:48:27.318Z"
   },
   {
    "duration": 67,
    "start_time": "2022-03-25T06:48:27.323Z"
   },
   {
    "duration": 17,
    "start_time": "2022-03-25T06:48:27.392Z"
   },
   {
    "duration": 6,
    "start_time": "2022-03-25T06:48:27.411Z"
   },
   {
    "duration": 13,
    "start_time": "2022-03-25T06:48:27.419Z"
   },
   {
    "duration": 7,
    "start_time": "2022-03-25T06:48:27.434Z"
   },
   {
    "duration": 42,
    "start_time": "2022-03-25T06:48:27.443Z"
   },
   {
    "duration": 9,
    "start_time": "2022-03-25T06:48:27.487Z"
   },
   {
    "duration": 6,
    "start_time": "2022-03-25T06:48:27.500Z"
   },
   {
    "duration": 21,
    "start_time": "2022-03-25T06:48:27.509Z"
   },
   {
    "duration": 7,
    "start_time": "2022-03-25T06:48:27.533Z"
   },
   {
    "duration": 67,
    "start_time": "2022-03-25T06:48:27.542Z"
   },
   {
    "duration": 828,
    "start_time": "2022-03-25T06:48:27.612Z"
   },
   {
    "duration": 430,
    "start_time": "2022-03-25T06:48:28.442Z"
   },
   {
    "duration": 15,
    "start_time": "2022-03-25T06:48:28.883Z"
   },
   {
    "duration": 19,
    "start_time": "2022-03-25T06:48:28.901Z"
   },
   {
    "duration": 518,
    "start_time": "2022-03-25T06:48:28.923Z"
   },
   {
    "duration": 14,
    "start_time": "2022-03-25T06:48:29.443Z"
   },
   {
    "duration": 12,
    "start_time": "2022-03-25T06:48:33.300Z"
   },
   {
    "duration": 33,
    "start_time": "2022-03-25T06:48:43.262Z"
   },
   {
    "duration": 13,
    "start_time": "2022-03-25T06:49:00.171Z"
   },
   {
    "duration": 15,
    "start_time": "2022-03-25T06:49:09.801Z"
   },
   {
    "duration": 18,
    "start_time": "2022-03-25T06:49:19.291Z"
   },
   {
    "duration": 154,
    "start_time": "2022-03-25T06:54:26.075Z"
   },
   {
    "duration": 6,
    "start_time": "2022-03-25T06:54:32.036Z"
   },
   {
    "duration": 22,
    "start_time": "2022-03-25T06:54:41.317Z"
   },
   {
    "duration": 38,
    "start_time": "2022-03-25T06:54:47.387Z"
   },
   {
    "duration": 36,
    "start_time": "2022-03-25T06:54:56.314Z"
   },
   {
    "duration": 1348,
    "start_time": "2022-03-26T10:00:49.973Z"
   },
   {
    "duration": 39,
    "start_time": "2022-03-26T10:00:51.323Z"
   },
   {
    "duration": 16,
    "start_time": "2022-03-26T10:00:51.364Z"
   },
   {
    "duration": 30,
    "start_time": "2022-03-26T10:00:51.381Z"
   },
   {
    "duration": 12,
    "start_time": "2022-03-26T10:00:51.412Z"
   },
   {
    "duration": 3,
    "start_time": "2022-03-26T10:00:51.425Z"
   },
   {
    "duration": 22,
    "start_time": "2022-03-26T10:00:51.430Z"
   },
   {
    "duration": 10,
    "start_time": "2022-03-26T10:00:51.454Z"
   },
   {
    "duration": 4,
    "start_time": "2022-03-26T10:00:51.466Z"
   },
   {
    "duration": 3,
    "start_time": "2022-03-26T10:00:51.502Z"
   },
   {
    "duration": 9,
    "start_time": "2022-03-26T10:00:51.507Z"
   },
   {
    "duration": 7,
    "start_time": "2022-03-26T10:00:51.517Z"
   },
   {
    "duration": 7,
    "start_time": "2022-03-26T10:00:51.526Z"
   },
   {
    "duration": 4,
    "start_time": "2022-03-26T10:00:51.535Z"
   },
   {
    "duration": 14,
    "start_time": "2022-03-26T10:00:51.540Z"
   },
   {
    "duration": 4,
    "start_time": "2022-03-26T10:00:51.555Z"
   },
   {
    "duration": 14,
    "start_time": "2022-03-26T10:00:51.560Z"
   },
   {
    "duration": 339,
    "start_time": "2022-03-26T10:00:51.576Z"
   },
   {
    "duration": 171,
    "start_time": "2022-03-26T10:00:51.916Z"
   },
   {
    "duration": 16,
    "start_time": "2022-03-26T10:00:52.089Z"
   },
   {
    "duration": 9,
    "start_time": "2022-03-26T10:00:52.106Z"
   },
   {
    "duration": 326,
    "start_time": "2022-03-26T10:00:52.116Z"
   },
   {
    "duration": 12,
    "start_time": "2022-03-26T10:00:52.444Z"
   },
   {
    "duration": 13,
    "start_time": "2022-03-26T10:00:52.458Z"
   },
   {
    "duration": 9,
    "start_time": "2022-03-26T10:00:52.473Z"
   },
   {
    "duration": 11,
    "start_time": "2022-03-26T10:00:52.483Z"
   },
   {
    "duration": 337,
    "start_time": "2022-03-26T10:00:52.496Z"
   },
   {
    "duration": 21,
    "start_time": "2022-03-26T10:00:52.837Z"
   },
   {
    "duration": 404,
    "start_time": "2022-03-26T10:00:52.860Z"
   },
   {
    "duration": 155,
    "start_time": "2022-03-26T10:00:53.265Z"
   },
   {
    "duration": 158,
    "start_time": "2022-03-26T10:00:53.422Z"
   },
   {
    "duration": 15,
    "start_time": "2022-03-26T10:00:53.588Z"
   },
   {
    "duration": 13,
    "start_time": "2022-03-26T10:00:53.604Z"
   },
   {
    "duration": 18,
    "start_time": "2022-03-26T10:00:53.618Z"
   },
   {
    "duration": 10,
    "start_time": "2022-03-26T10:00:53.638Z"
   },
   {
    "duration": 16,
    "start_time": "2022-03-26T10:00:53.650Z"
   },
   {
    "duration": 23,
    "start_time": "2022-03-26T10:00:53.668Z"
   },
   {
    "duration": 18,
    "start_time": "2022-03-26T10:00:53.693Z"
   },
   {
    "duration": 11,
    "start_time": "2022-03-26T10:00:53.713Z"
   },
   {
    "duration": 19,
    "start_time": "2022-03-26T10:00:53.726Z"
   },
   {
    "duration": 16,
    "start_time": "2022-03-26T10:00:53.746Z"
   },
   {
    "duration": 15,
    "start_time": "2022-03-26T10:00:53.764Z"
   },
   {
    "duration": 17,
    "start_time": "2022-03-26T10:00:53.780Z"
   },
   {
    "duration": 14,
    "start_time": "2022-03-26T10:00:53.798Z"
   },
   {
    "duration": 23,
    "start_time": "2022-03-26T10:00:53.813Z"
   },
   {
    "duration": 21,
    "start_time": "2022-03-26T10:00:53.837Z"
   },
   {
    "duration": 10,
    "start_time": "2022-03-26T10:00:53.860Z"
   },
   {
    "duration": 19,
    "start_time": "2022-03-26T10:00:53.872Z"
   },
   {
    "duration": 23,
    "start_time": "2022-03-26T10:00:53.893Z"
   },
   {
    "duration": 20,
    "start_time": "2022-03-26T10:00:53.918Z"
   },
   {
    "duration": 4,
    "start_time": "2022-03-26T10:03:48.952Z"
   },
   {
    "duration": 53,
    "start_time": "2022-03-26T10:03:48.958Z"
   },
   {
    "duration": 15,
    "start_time": "2022-03-26T10:03:49.013Z"
   },
   {
    "duration": 30,
    "start_time": "2022-03-26T10:03:49.031Z"
   },
   {
    "duration": 42,
    "start_time": "2022-03-26T10:03:49.063Z"
   },
   {
    "duration": 3,
    "start_time": "2022-03-26T10:03:49.107Z"
   },
   {
    "duration": 24,
    "start_time": "2022-03-26T10:03:49.112Z"
   },
   {
    "duration": 9,
    "start_time": "2022-03-26T10:03:49.138Z"
   },
   {
    "duration": 3,
    "start_time": "2022-03-26T10:03:49.149Z"
   },
   {
    "duration": 7,
    "start_time": "2022-03-26T10:03:49.153Z"
   },
   {
    "duration": 5,
    "start_time": "2022-03-26T10:03:49.162Z"
   },
   {
    "duration": 6,
    "start_time": "2022-03-26T10:03:49.201Z"
   },
   {
    "duration": 8,
    "start_time": "2022-03-26T10:03:49.208Z"
   },
   {
    "duration": 5,
    "start_time": "2022-03-26T10:03:49.217Z"
   },
   {
    "duration": 17,
    "start_time": "2022-03-26T10:03:49.224Z"
   },
   {
    "duration": 4,
    "start_time": "2022-03-26T10:03:49.243Z"
   },
   {
    "duration": 18,
    "start_time": "2022-03-26T10:03:49.248Z"
   },
   {
    "duration": 318,
    "start_time": "2022-03-26T10:03:49.267Z"
   },
   {
    "duration": 189,
    "start_time": "2022-03-26T10:03:49.586Z"
   },
   {
    "duration": 12,
    "start_time": "2022-03-26T10:03:49.777Z"
   },
   {
    "duration": 37,
    "start_time": "2022-03-26T10:03:49.791Z"
   },
   {
    "duration": 295,
    "start_time": "2022-03-26T10:03:49.829Z"
   },
   {
    "duration": 10,
    "start_time": "2022-03-26T10:03:50.126Z"
   },
   {
    "duration": 9,
    "start_time": "2022-03-26T10:03:50.137Z"
   },
   {
    "duration": 6,
    "start_time": "2022-03-26T10:03:50.148Z"
   },
   {
    "duration": 8,
    "start_time": "2022-03-26T10:03:50.155Z"
   },
   {
    "duration": 347,
    "start_time": "2022-03-26T10:03:50.164Z"
   },
   {
    "duration": 21,
    "start_time": "2022-03-26T10:03:50.513Z"
   },
   {
    "duration": 302,
    "start_time": "2022-03-26T10:03:50.537Z"
   },
   {
    "duration": 141,
    "start_time": "2022-03-26T10:03:50.841Z"
   },
   {
    "duration": 161,
    "start_time": "2022-03-26T10:03:50.984Z"
   },
   {
    "duration": 14,
    "start_time": "2022-03-26T10:03:51.147Z"
   },
   {
    "duration": 16,
    "start_time": "2022-03-26T10:03:51.201Z"
   },
   {
    "duration": 12,
    "start_time": "2022-03-26T10:03:51.218Z"
   },
   {
    "duration": 3,
    "start_time": "2022-03-26T10:03:51.231Z"
   },
   {
    "duration": 6,
    "start_time": "2022-03-26T10:03:51.235Z"
   },
   {
    "duration": 12,
    "start_time": "2022-03-26T10:03:51.242Z"
   },
   {
    "duration": 16,
    "start_time": "2022-03-26T10:03:51.255Z"
   },
   {
    "duration": 34,
    "start_time": "2022-03-26T10:03:51.272Z"
   },
   {
    "duration": 11,
    "start_time": "2022-03-26T10:03:51.307Z"
   },
   {
    "duration": 9,
    "start_time": "2022-03-26T10:03:51.319Z"
   },
   {
    "duration": 11,
    "start_time": "2022-03-26T10:03:51.330Z"
   },
   {
    "duration": 8,
    "start_time": "2022-03-26T10:03:51.343Z"
   },
   {
    "duration": 49,
    "start_time": "2022-03-26T10:03:51.353Z"
   },
   {
    "duration": 9,
    "start_time": "2022-03-26T10:03:51.403Z"
   },
   {
    "duration": 9,
    "start_time": "2022-03-26T10:03:51.414Z"
   },
   {
    "duration": 8,
    "start_time": "2022-03-26T10:03:51.424Z"
   },
   {
    "duration": 10,
    "start_time": "2022-03-26T10:03:51.434Z"
   },
   {
    "duration": 62,
    "start_time": "2022-03-26T10:03:51.445Z"
   },
   {
    "duration": 9,
    "start_time": "2022-03-26T10:03:51.509Z"
   },
   {
    "duration": 3,
    "start_time": "2022-03-26T10:28:02.192Z"
   },
   {
    "duration": 56,
    "start_time": "2022-03-26T10:28:02.197Z"
   },
   {
    "duration": 14,
    "start_time": "2022-03-26T10:28:02.255Z"
   },
   {
    "duration": 32,
    "start_time": "2022-03-26T10:28:02.270Z"
   },
   {
    "duration": 12,
    "start_time": "2022-03-26T10:28:02.304Z"
   },
   {
    "duration": 3,
    "start_time": "2022-03-26T10:28:02.318Z"
   },
   {
    "duration": 25,
    "start_time": "2022-03-26T10:28:02.322Z"
   },
   {
    "duration": 9,
    "start_time": "2022-03-26T10:28:02.349Z"
   },
   {
    "duration": 5,
    "start_time": "2022-03-26T10:28:02.360Z"
   },
   {
    "duration": 35,
    "start_time": "2022-03-26T10:28:02.366Z"
   },
   {
    "duration": 5,
    "start_time": "2022-03-26T10:28:02.404Z"
   },
   {
    "duration": 6,
    "start_time": "2022-03-26T10:28:02.411Z"
   },
   {
    "duration": 7,
    "start_time": "2022-03-26T10:28:02.418Z"
   },
   {
    "duration": 9,
    "start_time": "2022-03-26T10:28:02.427Z"
   },
   {
    "duration": 18,
    "start_time": "2022-03-26T10:28:02.437Z"
   },
   {
    "duration": 4,
    "start_time": "2022-03-26T10:28:02.456Z"
   },
   {
    "duration": 19,
    "start_time": "2022-03-26T10:28:02.462Z"
   },
   {
    "duration": 311,
    "start_time": "2022-03-26T10:28:02.501Z"
   },
   {
    "duration": 170,
    "start_time": "2022-03-26T10:28:02.814Z"
   },
   {
    "duration": 6,
    "start_time": "2022-03-26T10:28:02.986Z"
   },
   {
    "duration": 8,
    "start_time": "2022-03-26T10:28:03.001Z"
   },
   {
    "duration": 296,
    "start_time": "2022-03-26T10:28:03.011Z"
   },
   {
    "duration": 10,
    "start_time": "2022-03-26T10:28:03.308Z"
   },
   {
    "duration": 9,
    "start_time": "2022-03-26T10:28:03.320Z"
   },
   {
    "duration": 6,
    "start_time": "2022-03-26T10:28:03.330Z"
   },
   {
    "duration": 8,
    "start_time": "2022-03-26T10:28:03.337Z"
   },
   {
    "duration": 382,
    "start_time": "2022-03-26T10:28:03.347Z"
   },
   {
    "duration": 23,
    "start_time": "2022-03-26T10:28:03.731Z"
   },
   {
    "duration": 334,
    "start_time": "2022-03-26T10:28:03.758Z"
   },
   {
    "duration": 156,
    "start_time": "2022-03-26T10:28:04.094Z"
   },
   {
    "duration": 154,
    "start_time": "2022-03-26T10:28:04.252Z"
   },
   {
    "duration": 16,
    "start_time": "2022-03-26T10:28:04.407Z"
   },
   {
    "duration": 17,
    "start_time": "2022-03-26T10:28:04.424Z"
   },
   {
    "duration": 8,
    "start_time": "2022-03-26T10:28:04.443Z"
   },
   {
    "duration": 4,
    "start_time": "2022-03-26T10:28:04.453Z"
   },
   {
    "duration": 6,
    "start_time": "2022-03-26T10:28:04.458Z"
   },
   {
    "duration": 39,
    "start_time": "2022-03-26T10:28:04.465Z"
   },
   {
    "duration": 14,
    "start_time": "2022-03-26T10:28:04.506Z"
   },
   {
    "duration": 12,
    "start_time": "2022-03-26T10:28:04.522Z"
   },
   {
    "duration": 13,
    "start_time": "2022-03-26T10:28:04.536Z"
   },
   {
    "duration": 10,
    "start_time": "2022-03-26T10:28:04.550Z"
   },
   {
    "duration": 45,
    "start_time": "2022-03-26T10:28:04.562Z"
   },
   {
    "duration": 9,
    "start_time": "2022-03-26T10:28:04.609Z"
   },
   {
    "duration": 10,
    "start_time": "2022-03-26T10:28:04.620Z"
   },
   {
    "duration": 10,
    "start_time": "2022-03-26T10:28:04.631Z"
   },
   {
    "duration": 13,
    "start_time": "2022-03-26T10:28:04.642Z"
   },
   {
    "duration": 46,
    "start_time": "2022-03-26T10:28:04.656Z"
   },
   {
    "duration": 11,
    "start_time": "2022-03-26T10:28:04.704Z"
   },
   {
    "duration": 14,
    "start_time": "2022-03-26T10:28:04.717Z"
   },
   {
    "duration": 11,
    "start_time": "2022-03-26T10:28:04.733Z"
   },
   {
    "duration": 3,
    "start_time": "2022-03-26T10:33:40.337Z"
   },
   {
    "duration": 53,
    "start_time": "2022-03-26T10:33:40.342Z"
   },
   {
    "duration": 14,
    "start_time": "2022-03-26T10:33:40.397Z"
   },
   {
    "duration": 33,
    "start_time": "2022-03-26T10:33:40.412Z"
   },
   {
    "duration": 15,
    "start_time": "2022-03-26T10:33:40.447Z"
   },
   {
    "duration": 39,
    "start_time": "2022-03-26T10:33:40.463Z"
   },
   {
    "duration": 23,
    "start_time": "2022-03-26T10:33:40.504Z"
   },
   {
    "duration": 12,
    "start_time": "2022-03-26T10:33:40.529Z"
   },
   {
    "duration": 5,
    "start_time": "2022-03-26T10:33:40.542Z"
   },
   {
    "duration": 4,
    "start_time": "2022-03-26T10:33:40.548Z"
   },
   {
    "duration": 5,
    "start_time": "2022-03-26T10:33:40.555Z"
   },
   {
    "duration": 39,
    "start_time": "2022-03-26T10:33:40.562Z"
   },
   {
    "duration": 5,
    "start_time": "2022-03-26T10:33:40.603Z"
   },
   {
    "duration": 8,
    "start_time": "2022-03-26T10:33:40.610Z"
   },
   {
    "duration": 21,
    "start_time": "2022-03-26T10:33:40.619Z"
   },
   {
    "duration": 4,
    "start_time": "2022-03-26T10:33:40.642Z"
   },
   {
    "duration": 18,
    "start_time": "2022-03-26T10:33:40.648Z"
   },
   {
    "duration": 14,
    "start_time": "2022-03-26T10:33:40.667Z"
   },
   {
    "duration": 323,
    "start_time": "2022-03-26T10:33:40.702Z"
   },
   {
    "duration": 184,
    "start_time": "2022-03-26T10:33:41.027Z"
   },
   {
    "duration": 9,
    "start_time": "2022-03-26T10:33:41.213Z"
   },
   {
    "duration": 25,
    "start_time": "2022-03-26T10:33:41.224Z"
   },
   {
    "duration": 313,
    "start_time": "2022-03-26T10:33:41.251Z"
   },
   {
    "duration": 10,
    "start_time": "2022-03-26T10:33:41.566Z"
   },
   {
    "duration": 23,
    "start_time": "2022-03-26T10:33:41.578Z"
   },
   {
    "duration": 6,
    "start_time": "2022-03-26T10:33:41.603Z"
   },
   {
    "duration": 8,
    "start_time": "2022-03-26T10:33:41.610Z"
   },
   {
    "duration": 359,
    "start_time": "2022-03-26T10:33:41.619Z"
   },
   {
    "duration": 32,
    "start_time": "2022-03-26T10:33:41.983Z"
   },
   {
    "duration": 329,
    "start_time": "2022-03-26T10:33:42.017Z"
   },
   {
    "duration": 165,
    "start_time": "2022-03-26T10:33:42.348Z"
   },
   {
    "duration": 161,
    "start_time": "2022-03-26T10:33:42.515Z"
   },
   {
    "duration": 23,
    "start_time": "2022-03-26T10:33:42.678Z"
   },
   {
    "duration": 17,
    "start_time": "2022-03-26T10:33:42.703Z"
   },
   {
    "duration": 13,
    "start_time": "2022-03-26T10:33:42.722Z"
   },
   {
    "duration": 4,
    "start_time": "2022-03-26T10:33:42.737Z"
   },
   {
    "duration": 6,
    "start_time": "2022-03-26T10:33:42.742Z"
   },
   {
    "duration": 10,
    "start_time": "2022-03-26T10:33:42.750Z"
   },
   {
    "duration": 41,
    "start_time": "2022-03-26T10:33:42.761Z"
   },
   {
    "duration": 14,
    "start_time": "2022-03-26T10:33:42.804Z"
   },
   {
    "duration": 21,
    "start_time": "2022-03-26T10:33:42.819Z"
   },
   {
    "duration": 12,
    "start_time": "2022-03-26T10:33:42.841Z"
   },
   {
    "duration": 12,
    "start_time": "2022-03-26T10:33:42.855Z"
   },
   {
    "duration": 38,
    "start_time": "2022-03-26T10:33:42.869Z"
   },
   {
    "duration": 11,
    "start_time": "2022-03-26T10:33:42.909Z"
   },
   {
    "duration": 10,
    "start_time": "2022-03-26T10:33:42.922Z"
   },
   {
    "duration": 10,
    "start_time": "2022-03-26T10:33:42.933Z"
   },
   {
    "duration": 19,
    "start_time": "2022-03-26T10:33:42.944Z"
   },
   {
    "duration": 36,
    "start_time": "2022-03-26T10:33:42.965Z"
   },
   {
    "duration": 11,
    "start_time": "2022-03-26T10:33:43.003Z"
   },
   {
    "duration": 11,
    "start_time": "2022-03-26T10:33:43.015Z"
   },
   {
    "duration": 375,
    "start_time": "2022-03-26T10:37:08.028Z"
   },
   {
    "duration": 305,
    "start_time": "2022-03-26T10:38:30.721Z"
   },
   {
    "duration": 3,
    "start_time": "2022-03-26T10:38:35.856Z"
   },
   {
    "duration": 54,
    "start_time": "2022-03-26T10:38:35.861Z"
   },
   {
    "duration": 13,
    "start_time": "2022-03-26T10:38:35.916Z"
   },
   {
    "duration": 28,
    "start_time": "2022-03-26T10:38:35.931Z"
   },
   {
    "duration": 12,
    "start_time": "2022-03-26T10:38:35.961Z"
   },
   {
    "duration": 27,
    "start_time": "2022-03-26T10:38:35.974Z"
   },
   {
    "duration": 23,
    "start_time": "2022-03-26T10:38:36.003Z"
   },
   {
    "duration": 9,
    "start_time": "2022-03-26T10:38:36.028Z"
   },
   {
    "duration": 3,
    "start_time": "2022-03-26T10:38:36.039Z"
   },
   {
    "duration": 4,
    "start_time": "2022-03-26T10:38:36.044Z"
   },
   {
    "duration": 5,
    "start_time": "2022-03-26T10:38:36.049Z"
   },
   {
    "duration": 7,
    "start_time": "2022-03-26T10:38:36.056Z"
   },
   {
    "duration": 6,
    "start_time": "2022-03-26T10:38:36.064Z"
   },
   {
    "duration": 5,
    "start_time": "2022-03-26T10:38:36.100Z"
   },
   {
    "duration": 18,
    "start_time": "2022-03-26T10:38:36.107Z"
   },
   {
    "duration": 4,
    "start_time": "2022-03-26T10:38:36.127Z"
   },
   {
    "duration": 17,
    "start_time": "2022-03-26T10:38:36.133Z"
   },
   {
    "duration": 12,
    "start_time": "2022-03-26T10:38:36.152Z"
   },
   {
    "duration": 308,
    "start_time": "2022-03-26T10:38:36.166Z"
   },
   {
    "duration": 0,
    "start_time": "2022-03-26T10:38:36.476Z"
   },
   {
    "duration": 0,
    "start_time": "2022-03-26T10:38:36.478Z"
   },
   {
    "duration": 0,
    "start_time": "2022-03-26T10:38:36.478Z"
   },
   {
    "duration": 0,
    "start_time": "2022-03-26T10:38:36.479Z"
   },
   {
    "duration": 0,
    "start_time": "2022-03-26T10:38:36.480Z"
   },
   {
    "duration": 0,
    "start_time": "2022-03-26T10:38:36.481Z"
   },
   {
    "duration": 0,
    "start_time": "2022-03-26T10:38:36.481Z"
   },
   {
    "duration": 0,
    "start_time": "2022-03-26T10:38:36.482Z"
   },
   {
    "duration": 0,
    "start_time": "2022-03-26T10:38:36.483Z"
   },
   {
    "duration": 0,
    "start_time": "2022-03-26T10:38:36.501Z"
   },
   {
    "duration": 0,
    "start_time": "2022-03-26T10:38:36.502Z"
   },
   {
    "duration": 0,
    "start_time": "2022-03-26T10:38:36.503Z"
   },
   {
    "duration": 0,
    "start_time": "2022-03-26T10:38:36.504Z"
   },
   {
    "duration": 0,
    "start_time": "2022-03-26T10:38:36.505Z"
   },
   {
    "duration": 0,
    "start_time": "2022-03-26T10:38:36.506Z"
   },
   {
    "duration": 0,
    "start_time": "2022-03-26T10:38:36.507Z"
   },
   {
    "duration": 0,
    "start_time": "2022-03-26T10:38:36.508Z"
   },
   {
    "duration": 0,
    "start_time": "2022-03-26T10:38:36.509Z"
   },
   {
    "duration": 0,
    "start_time": "2022-03-26T10:38:36.510Z"
   },
   {
    "duration": 0,
    "start_time": "2022-03-26T10:38:36.511Z"
   },
   {
    "duration": 0,
    "start_time": "2022-03-26T10:38:36.512Z"
   },
   {
    "duration": 0,
    "start_time": "2022-03-26T10:38:36.513Z"
   },
   {
    "duration": 1,
    "start_time": "2022-03-26T10:38:36.513Z"
   },
   {
    "duration": 0,
    "start_time": "2022-03-26T10:38:36.515Z"
   },
   {
    "duration": 0,
    "start_time": "2022-03-26T10:38:36.516Z"
   },
   {
    "duration": 0,
    "start_time": "2022-03-26T10:38:36.516Z"
   },
   {
    "duration": 0,
    "start_time": "2022-03-26T10:38:36.517Z"
   },
   {
    "duration": 0,
    "start_time": "2022-03-26T10:38:36.518Z"
   },
   {
    "duration": 0,
    "start_time": "2022-03-26T10:38:36.519Z"
   },
   {
    "duration": 0,
    "start_time": "2022-03-26T10:38:36.520Z"
   },
   {
    "duration": 0,
    "start_time": "2022-03-26T10:38:36.521Z"
   },
   {
    "duration": 0,
    "start_time": "2022-03-26T10:38:36.522Z"
   },
   {
    "duration": 379,
    "start_time": "2022-03-26T10:40:48.265Z"
   },
   {
    "duration": 304,
    "start_time": "2022-03-26T10:44:00.572Z"
   },
   {
    "duration": 302,
    "start_time": "2022-03-26T10:44:08.866Z"
   },
   {
    "duration": 353,
    "start_time": "2022-03-26T10:44:16.582Z"
   },
   {
    "duration": 290,
    "start_time": "2022-03-26T10:44:20.435Z"
   },
   {
    "duration": 286,
    "start_time": "2022-03-26T10:44:40.269Z"
   },
   {
    "duration": 367,
    "start_time": "2022-03-26T10:44:43.516Z"
   },
   {
    "duration": 280,
    "start_time": "2022-03-26T10:44:46.445Z"
   },
   {
    "duration": 1168,
    "start_time": "2022-03-26T10:45:03.311Z"
   },
   {
    "duration": 38,
    "start_time": "2022-03-26T10:45:04.481Z"
   },
   {
    "duration": 16,
    "start_time": "2022-03-26T10:45:04.521Z"
   },
   {
    "duration": 26,
    "start_time": "2022-03-26T10:45:04.540Z"
   },
   {
    "duration": 12,
    "start_time": "2022-03-26T10:45:04.568Z"
   },
   {
    "duration": 3,
    "start_time": "2022-03-26T10:45:04.601Z"
   },
   {
    "duration": 23,
    "start_time": "2022-03-26T10:45:04.606Z"
   },
   {
    "duration": 13,
    "start_time": "2022-03-26T10:45:04.631Z"
   },
   {
    "duration": 3,
    "start_time": "2022-03-26T10:45:04.645Z"
   },
   {
    "duration": 3,
    "start_time": "2022-03-26T10:45:04.651Z"
   },
   {
    "duration": 6,
    "start_time": "2022-03-26T10:45:04.655Z"
   },
   {
    "duration": 6,
    "start_time": "2022-03-26T10:45:04.663Z"
   },
   {
    "duration": 32,
    "start_time": "2022-03-26T10:45:04.670Z"
   },
   {
    "duration": 3,
    "start_time": "2022-03-26T10:45:04.704Z"
   },
   {
    "duration": 16,
    "start_time": "2022-03-26T10:45:04.709Z"
   },
   {
    "duration": 4,
    "start_time": "2022-03-26T10:45:04.726Z"
   },
   {
    "duration": 19,
    "start_time": "2022-03-26T10:45:04.732Z"
   },
   {
    "duration": 13,
    "start_time": "2022-03-26T10:45:04.752Z"
   },
   {
    "duration": 350,
    "start_time": "2022-03-26T10:45:04.767Z"
   },
   {
    "duration": 175,
    "start_time": "2022-03-26T10:45:05.119Z"
   },
   {
    "duration": 11,
    "start_time": "2022-03-26T10:45:05.295Z"
   },
   {
    "duration": 10,
    "start_time": "2022-03-26T10:45:05.308Z"
   },
   {
    "duration": 327,
    "start_time": "2022-03-26T10:45:05.319Z"
   },
   {
    "duration": 10,
    "start_time": "2022-03-26T10:45:05.647Z"
   },
   {
    "duration": 6,
    "start_time": "2022-03-26T10:45:05.659Z"
   },
   {
    "duration": 6,
    "start_time": "2022-03-26T10:45:05.666Z"
   },
   {
    "duration": 8,
    "start_time": "2022-03-26T10:45:05.673Z"
   },
   {
    "duration": 333,
    "start_time": "2022-03-26T10:45:05.685Z"
   },
   {
    "duration": 22,
    "start_time": "2022-03-26T10:45:06.020Z"
   },
   {
    "duration": 330,
    "start_time": "2022-03-26T10:45:06.044Z"
   },
   {
    "duration": 154,
    "start_time": "2022-03-26T10:45:06.375Z"
   },
   {
    "duration": 144,
    "start_time": "2022-03-26T10:45:06.531Z"
   },
   {
    "duration": 15,
    "start_time": "2022-03-26T10:45:06.676Z"
   },
   {
    "duration": 17,
    "start_time": "2022-03-26T10:45:06.701Z"
   },
   {
    "duration": 9,
    "start_time": "2022-03-26T10:45:06.720Z"
   },
   {
    "duration": 3,
    "start_time": "2022-03-26T10:45:06.731Z"
   },
   {
    "duration": 6,
    "start_time": "2022-03-26T10:45:06.736Z"
   },
   {
    "duration": 9,
    "start_time": "2022-03-26T10:45:06.744Z"
   },
   {
    "duration": 12,
    "start_time": "2022-03-26T10:45:06.755Z"
   },
   {
    "duration": 43,
    "start_time": "2022-03-26T10:45:06.768Z"
   },
   {
    "duration": 11,
    "start_time": "2022-03-26T10:45:06.813Z"
   },
   {
    "duration": 9,
    "start_time": "2022-03-26T10:45:06.826Z"
   },
   {
    "duration": 11,
    "start_time": "2022-03-26T10:45:06.837Z"
   },
   {
    "duration": 11,
    "start_time": "2022-03-26T10:45:06.849Z"
   },
   {
    "duration": 41,
    "start_time": "2022-03-26T10:45:06.861Z"
   },
   {
    "duration": 10,
    "start_time": "2022-03-26T10:45:06.904Z"
   },
   {
    "duration": 12,
    "start_time": "2022-03-26T10:45:06.915Z"
   },
   {
    "duration": 17,
    "start_time": "2022-03-26T10:45:06.928Z"
   },
   {
    "duration": 12,
    "start_time": "2022-03-26T10:45:06.947Z"
   },
   {
    "duration": 12,
    "start_time": "2022-03-26T10:45:06.961Z"
   },
   {
    "duration": 31,
    "start_time": "2022-03-26T10:45:06.975Z"
   },
   {
    "duration": 8,
    "start_time": "2022-03-26T10:50:59.427Z"
   },
   {
    "duration": 160,
    "start_time": "2022-03-26T10:52:47.792Z"
   },
   {
    "duration": 49,
    "start_time": "2022-03-26T11:21:07.375Z"
   },
   {
    "duration": 1341,
    "start_time": "2022-03-26T11:21:09.884Z"
   },
   {
    "duration": 1500,
    "start_time": "2022-03-26T11:21:11.227Z"
   },
   {
    "duration": 20,
    "start_time": "2022-03-26T11:21:12.729Z"
   },
   {
    "duration": 34,
    "start_time": "2022-03-26T11:21:12.751Z"
   },
   {
    "duration": 31,
    "start_time": "2022-03-26T11:21:12.787Z"
   },
   {
    "duration": 4,
    "start_time": "2022-03-26T11:21:12.819Z"
   },
   {
    "duration": 30,
    "start_time": "2022-03-26T11:21:12.824Z"
   },
   {
    "duration": 13,
    "start_time": "2022-03-26T11:21:12.856Z"
   },
   {
    "duration": 4,
    "start_time": "2022-03-26T11:21:12.871Z"
   },
   {
    "duration": 33,
    "start_time": "2022-03-26T11:21:12.877Z"
   },
   {
    "duration": 5,
    "start_time": "2022-03-26T11:21:12.912Z"
   },
   {
    "duration": 9,
    "start_time": "2022-03-26T11:21:12.919Z"
   },
   {
    "duration": 5,
    "start_time": "2022-03-26T11:21:12.930Z"
   },
   {
    "duration": 9,
    "start_time": "2022-03-26T11:21:12.937Z"
   },
   {
    "duration": 16,
    "start_time": "2022-03-26T11:21:12.948Z"
   },
   {
    "duration": 4,
    "start_time": "2022-03-26T11:21:12.965Z"
   },
   {
    "duration": 39,
    "start_time": "2022-03-26T11:21:12.971Z"
   },
   {
    "duration": 14,
    "start_time": "2022-03-26T11:21:13.012Z"
   },
   {
    "duration": 918,
    "start_time": "2022-03-26T11:21:13.028Z"
   },
   {
    "duration": 200,
    "start_time": "2022-03-26T11:21:13.948Z"
   },
   {
    "duration": 7,
    "start_time": "2022-03-26T11:21:14.150Z"
   },
   {
    "duration": 9,
    "start_time": "2022-03-26T11:21:14.159Z"
   },
   {
    "duration": 371,
    "start_time": "2022-03-26T11:21:14.170Z"
   },
   {
    "duration": 11,
    "start_time": "2022-03-26T11:21:14.543Z"
   },
   {
    "duration": 10,
    "start_time": "2022-03-26T11:21:14.556Z"
   },
   {
    "duration": 8,
    "start_time": "2022-03-26T11:21:14.567Z"
   },
   {
    "duration": 15,
    "start_time": "2022-03-26T11:21:14.576Z"
   },
   {
    "duration": 391,
    "start_time": "2022-03-26T11:21:14.595Z"
   },
   {
    "duration": 37,
    "start_time": "2022-03-26T11:21:14.988Z"
   },
   {
    "duration": 298,
    "start_time": "2022-03-26T11:21:15.027Z"
   },
   {
    "duration": 0,
    "start_time": "2022-03-26T11:21:15.327Z"
   },
   {
    "duration": 0,
    "start_time": "2022-03-26T11:21:15.328Z"
   },
   {
    "duration": 0,
    "start_time": "2022-03-26T11:21:15.329Z"
   },
   {
    "duration": 0,
    "start_time": "2022-03-26T11:21:15.330Z"
   },
   {
    "duration": 0,
    "start_time": "2022-03-26T11:21:15.331Z"
   },
   {
    "duration": 0,
    "start_time": "2022-03-26T11:21:15.332Z"
   },
   {
    "duration": 0,
    "start_time": "2022-03-26T11:21:15.333Z"
   },
   {
    "duration": 0,
    "start_time": "2022-03-26T11:21:15.334Z"
   },
   {
    "duration": 0,
    "start_time": "2022-03-26T11:21:15.335Z"
   },
   {
    "duration": 0,
    "start_time": "2022-03-26T11:21:15.336Z"
   },
   {
    "duration": 0,
    "start_time": "2022-03-26T11:21:15.337Z"
   },
   {
    "duration": 0,
    "start_time": "2022-03-26T11:21:15.338Z"
   },
   {
    "duration": 0,
    "start_time": "2022-03-26T11:21:15.339Z"
   },
   {
    "duration": 0,
    "start_time": "2022-03-26T11:21:15.340Z"
   },
   {
    "duration": 0,
    "start_time": "2022-03-26T11:21:15.341Z"
   },
   {
    "duration": 0,
    "start_time": "2022-03-26T11:21:15.342Z"
   },
   {
    "duration": 0,
    "start_time": "2022-03-26T11:21:15.343Z"
   },
   {
    "duration": 0,
    "start_time": "2022-03-26T11:21:15.344Z"
   },
   {
    "duration": 0,
    "start_time": "2022-03-26T11:21:15.345Z"
   },
   {
    "duration": 0,
    "start_time": "2022-03-26T11:21:15.346Z"
   },
   {
    "duration": 0,
    "start_time": "2022-03-26T11:21:15.348Z"
   },
   {
    "duration": 242,
    "start_time": "2022-03-26T11:21:39.204Z"
   },
   {
    "duration": 280,
    "start_time": "2022-03-26T11:22:33.546Z"
   },
   {
    "duration": 69,
    "start_time": "2022-03-26T11:23:59.096Z"
   },
   {
    "duration": 166,
    "start_time": "2022-03-26T11:24:06.064Z"
   },
   {
    "duration": 154,
    "start_time": "2022-03-26T11:24:09.865Z"
   },
   {
    "duration": 258,
    "start_time": "2022-03-26T11:24:31.441Z"
   },
   {
    "duration": 275,
    "start_time": "2022-03-26T11:24:39.366Z"
   },
   {
    "duration": 347,
    "start_time": "2022-03-26T11:24:46.350Z"
   },
   {
    "duration": 259,
    "start_time": "2022-03-26T11:25:22.648Z"
   },
   {
    "duration": 260,
    "start_time": "2022-03-26T11:25:41.264Z"
   },
   {
    "duration": 3,
    "start_time": "2022-03-26T11:34:49.710Z"
   },
   {
    "duration": 37,
    "start_time": "2022-03-26T11:34:49.715Z"
   },
   {
    "duration": 15,
    "start_time": "2022-03-26T11:34:49.755Z"
   },
   {
    "duration": 57,
    "start_time": "2022-03-26T11:34:49.772Z"
   },
   {
    "duration": 14,
    "start_time": "2022-03-26T11:34:49.831Z"
   },
   {
    "duration": 3,
    "start_time": "2022-03-26T11:34:49.846Z"
   },
   {
    "duration": 25,
    "start_time": "2022-03-26T11:34:49.851Z"
   },
   {
    "duration": 12,
    "start_time": "2022-03-26T11:34:49.908Z"
   },
   {
    "duration": 4,
    "start_time": "2022-03-26T11:34:49.922Z"
   },
   {
    "duration": 3,
    "start_time": "2022-03-26T11:34:49.928Z"
   },
   {
    "duration": 4,
    "start_time": "2022-03-26T11:34:49.934Z"
   },
   {
    "duration": 6,
    "start_time": "2022-03-26T11:34:49.940Z"
   },
   {
    "duration": 6,
    "start_time": "2022-03-26T11:34:49.947Z"
   },
   {
    "duration": 6,
    "start_time": "2022-03-26T11:34:49.954Z"
   },
   {
    "duration": 48,
    "start_time": "2022-03-26T11:34:49.961Z"
   },
   {
    "duration": 4,
    "start_time": "2022-03-26T11:34:50.011Z"
   },
   {
    "duration": 17,
    "start_time": "2022-03-26T11:34:50.017Z"
   },
   {
    "duration": 14,
    "start_time": "2022-03-26T11:34:50.035Z"
   },
   {
    "duration": 350,
    "start_time": "2022-03-26T11:34:50.051Z"
   },
   {
    "duration": 188,
    "start_time": "2022-03-26T11:34:50.403Z"
   },
   {
    "duration": 17,
    "start_time": "2022-03-26T11:34:50.592Z"
   },
   {
    "duration": 9,
    "start_time": "2022-03-26T11:34:50.610Z"
   },
   {
    "duration": 342,
    "start_time": "2022-03-26T11:34:50.620Z"
   },
   {
    "duration": 9,
    "start_time": "2022-03-26T11:34:50.964Z"
   },
   {
    "duration": 7,
    "start_time": "2022-03-26T11:34:50.974Z"
   },
   {
    "duration": 9,
    "start_time": "2022-03-26T11:34:50.982Z"
   },
   {
    "duration": 21,
    "start_time": "2022-03-26T11:34:50.992Z"
   },
   {
    "duration": 469,
    "start_time": "2022-03-26T11:34:51.015Z"
   },
   {
    "duration": 37,
    "start_time": "2022-03-26T11:34:51.488Z"
   },
   {
    "duration": 266,
    "start_time": "2022-03-26T11:34:51.526Z"
   },
   {
    "duration": 177,
    "start_time": "2022-03-26T11:34:51.794Z"
   },
   {
    "duration": 170,
    "start_time": "2022-03-26T11:34:51.973Z"
   },
   {
    "duration": 18,
    "start_time": "2022-03-26T11:34:52.145Z"
   },
   {
    "duration": 19,
    "start_time": "2022-03-26T11:34:52.165Z"
   },
   {
    "duration": 27,
    "start_time": "2022-03-26T11:34:52.186Z"
   },
   {
    "duration": 5,
    "start_time": "2022-03-26T11:34:52.215Z"
   },
   {
    "duration": 10,
    "start_time": "2022-03-26T11:34:52.221Z"
   },
   {
    "duration": 16,
    "start_time": "2022-03-26T11:34:52.232Z"
   },
   {
    "duration": 24,
    "start_time": "2022-03-26T11:34:52.249Z"
   },
   {
    "duration": 14,
    "start_time": "2022-03-26T11:34:52.275Z"
   },
   {
    "duration": 29,
    "start_time": "2022-03-26T11:34:52.290Z"
   },
   {
    "duration": 12,
    "start_time": "2022-03-26T11:34:52.321Z"
   },
   {
    "duration": 12,
    "start_time": "2022-03-26T11:34:52.335Z"
   },
   {
    "duration": 13,
    "start_time": "2022-03-26T11:34:52.348Z"
   },
   {
    "duration": 11,
    "start_time": "2022-03-26T11:34:52.363Z"
   },
   {
    "duration": 40,
    "start_time": "2022-03-26T11:34:52.376Z"
   },
   {
    "duration": 17,
    "start_time": "2022-03-26T11:34:52.418Z"
   },
   {
    "duration": 12,
    "start_time": "2022-03-26T11:34:52.437Z"
   },
   {
    "duration": 11,
    "start_time": "2022-03-26T11:34:52.451Z"
   },
   {
    "duration": 11,
    "start_time": "2022-03-26T11:34:52.463Z"
   },
   {
    "duration": 21,
    "start_time": "2022-03-26T11:34:52.508Z"
   },
   {
    "duration": 255,
    "start_time": "2022-03-26T11:41:22.788Z"
   },
   {
    "duration": 272,
    "start_time": "2022-03-26T12:11:54.655Z"
   },
   {
    "duration": 347,
    "start_time": "2022-03-26T12:19:29.325Z"
   },
   {
    "duration": 273,
    "start_time": "2022-03-26T12:21:34.519Z"
   },
   {
    "duration": 288,
    "start_time": "2022-03-26T12:26:23.769Z"
   },
   {
    "duration": 1372,
    "start_time": "2022-03-28T17:02:12.741Z"
   },
   {
    "duration": 45,
    "start_time": "2022-03-28T17:02:14.116Z"
   },
   {
    "duration": 20,
    "start_time": "2022-03-28T17:02:14.163Z"
   },
   {
    "duration": 36,
    "start_time": "2022-03-28T17:02:14.185Z"
   },
   {
    "duration": 14,
    "start_time": "2022-03-28T17:02:14.223Z"
   },
   {
    "duration": 3,
    "start_time": "2022-03-28T17:02:14.239Z"
   },
   {
    "duration": 24,
    "start_time": "2022-03-28T17:02:14.243Z"
   },
   {
    "duration": 39,
    "start_time": "2022-03-28T17:02:14.269Z"
   },
   {
    "duration": 4,
    "start_time": "2022-03-28T17:02:14.309Z"
   },
   {
    "duration": 4,
    "start_time": "2022-03-28T17:02:14.316Z"
   },
   {
    "duration": 5,
    "start_time": "2022-03-28T17:02:14.322Z"
   },
   {
    "duration": 8,
    "start_time": "2022-03-28T17:02:14.328Z"
   },
   {
    "duration": 5,
    "start_time": "2022-03-28T17:02:14.337Z"
   },
   {
    "duration": 5,
    "start_time": "2022-03-28T17:02:14.343Z"
   },
   {
    "duration": 14,
    "start_time": "2022-03-28T17:02:14.350Z"
   },
   {
    "duration": 5,
    "start_time": "2022-03-28T17:02:14.366Z"
   },
   {
    "duration": 21,
    "start_time": "2022-03-28T17:02:14.402Z"
   },
   {
    "duration": 19,
    "start_time": "2022-03-28T17:02:14.425Z"
   },
   {
    "duration": 518,
    "start_time": "2022-03-28T17:02:14.445Z"
   },
   {
    "duration": 260,
    "start_time": "2022-03-28T17:02:14.965Z"
   },
   {
    "duration": 9,
    "start_time": "2022-03-28T17:02:15.228Z"
   },
   {
    "duration": 12,
    "start_time": "2022-03-28T17:02:15.239Z"
   },
   {
    "duration": 362,
    "start_time": "2022-03-28T17:02:15.252Z"
   },
   {
    "duration": 10,
    "start_time": "2022-03-28T17:02:15.616Z"
   },
   {
    "duration": 8,
    "start_time": "2022-03-28T17:02:15.627Z"
   },
   {
    "duration": 6,
    "start_time": "2022-03-28T17:02:15.637Z"
   },
   {
    "duration": 9,
    "start_time": "2022-03-28T17:02:15.645Z"
   },
   {
    "duration": 385,
    "start_time": "2022-03-28T17:02:15.658Z"
   },
   {
    "duration": 26,
    "start_time": "2022-03-28T17:02:16.045Z"
   },
   {
    "duration": 364,
    "start_time": "2022-03-28T17:02:16.073Z"
   },
   {
    "duration": 281,
    "start_time": "2022-03-28T17:02:16.439Z"
   },
   {
    "duration": 178,
    "start_time": "2022-03-28T17:02:16.723Z"
   },
   {
    "duration": 159,
    "start_time": "2022-03-28T17:02:16.903Z"
   },
   {
    "duration": 22,
    "start_time": "2022-03-28T17:02:17.064Z"
   },
   {
    "duration": 23,
    "start_time": "2022-03-28T17:02:17.103Z"
   },
   {
    "duration": 11,
    "start_time": "2022-03-28T17:02:17.128Z"
   },
   {
    "duration": 17,
    "start_time": "2022-03-28T17:02:17.141Z"
   },
   {
    "duration": 11,
    "start_time": "2022-03-28T17:02:17.160Z"
   },
   {
    "duration": 17,
    "start_time": "2022-03-28T17:02:17.173Z"
   },
   {
    "duration": 18,
    "start_time": "2022-03-28T17:02:17.200Z"
   },
   {
    "duration": 17,
    "start_time": "2022-03-28T17:02:17.220Z"
   },
   {
    "duration": 20,
    "start_time": "2022-03-28T17:02:17.239Z"
   },
   {
    "duration": 13,
    "start_time": "2022-03-28T17:02:17.261Z"
   },
   {
    "duration": 14,
    "start_time": "2022-03-28T17:02:17.302Z"
   },
   {
    "duration": 16,
    "start_time": "2022-03-28T17:02:17.318Z"
   },
   {
    "duration": 13,
    "start_time": "2022-03-28T17:02:17.336Z"
   },
   {
    "duration": 14,
    "start_time": "2022-03-28T17:02:17.351Z"
   },
   {
    "duration": 40,
    "start_time": "2022-03-28T17:02:17.367Z"
   },
   {
    "duration": 11,
    "start_time": "2022-03-28T17:02:17.408Z"
   },
   {
    "duration": 13,
    "start_time": "2022-03-28T17:02:17.421Z"
   },
   {
    "duration": 16,
    "start_time": "2022-03-28T17:02:17.436Z"
   },
   {
    "duration": 13,
    "start_time": "2022-03-28T17:02:17.454Z"
   },
   {
    "duration": 25,
    "start_time": "2022-03-28T17:48:00.024Z"
   },
   {
    "duration": 27,
    "start_time": "2022-03-28T17:50:06.321Z"
   },
   {
    "duration": 54,
    "start_time": "2022-03-28T17:50:25.957Z"
   },
   {
    "duration": 4,
    "start_time": "2022-03-28T17:50:53.137Z"
   },
   {
    "duration": 13,
    "start_time": "2022-03-28T17:51:04.476Z"
   },
   {
    "duration": 27,
    "start_time": "2022-03-28T17:57:37.483Z"
   },
   {
    "duration": 15,
    "start_time": "2022-03-28T17:59:10.378Z"
   },
   {
    "duration": 23,
    "start_time": "2022-03-28T17:59:33.422Z"
   },
   {
    "duration": 14,
    "start_time": "2022-03-28T18:02:03.047Z"
   },
   {
    "duration": 40,
    "start_time": "2022-03-28T18:04:54.598Z"
   },
   {
    "duration": 5,
    "start_time": "2022-03-28T18:06:41.590Z"
   },
   {
    "duration": 8,
    "start_time": "2022-03-28T18:06:50.132Z"
   },
   {
    "duration": 13,
    "start_time": "2022-03-28T18:07:50.025Z"
   },
   {
    "duration": 13,
    "start_time": "2022-03-28T18:08:37.017Z"
   },
   {
    "duration": 15,
    "start_time": "2022-03-28T18:08:43.528Z"
   },
   {
    "duration": 7,
    "start_time": "2022-03-28T18:18:46.842Z"
   },
   {
    "duration": 12,
    "start_time": "2022-03-28T18:20:38.423Z"
   },
   {
    "duration": 16,
    "start_time": "2022-03-28T18:21:17.847Z"
   },
   {
    "duration": 4,
    "start_time": "2022-03-28T18:31:59.137Z"
   },
   {
    "duration": 54,
    "start_time": "2022-03-28T18:31:59.143Z"
   },
   {
    "duration": 11,
    "start_time": "2022-03-28T18:31:59.199Z"
   },
   {
    "duration": 30,
    "start_time": "2022-03-28T18:31:59.212Z"
   },
   {
    "duration": 13,
    "start_time": "2022-03-28T18:31:59.245Z"
   },
   {
    "duration": 3,
    "start_time": "2022-03-28T18:31:59.260Z"
   },
   {
    "duration": 54,
    "start_time": "2022-03-28T18:31:59.265Z"
   },
   {
    "duration": 9,
    "start_time": "2022-03-28T18:31:59.321Z"
   },
   {
    "duration": 4,
    "start_time": "2022-03-28T18:31:59.332Z"
   },
   {
    "duration": 5,
    "start_time": "2022-03-28T18:31:59.337Z"
   },
   {
    "duration": 6,
    "start_time": "2022-03-28T18:31:59.344Z"
   },
   {
    "duration": 10,
    "start_time": "2022-03-28T18:31:59.351Z"
   },
   {
    "duration": 39,
    "start_time": "2022-03-28T18:31:59.362Z"
   },
   {
    "duration": 5,
    "start_time": "2022-03-28T18:31:59.403Z"
   },
   {
    "duration": 14,
    "start_time": "2022-03-28T18:31:59.409Z"
   },
   {
    "duration": 4,
    "start_time": "2022-03-28T18:31:59.425Z"
   },
   {
    "duration": 25,
    "start_time": "2022-03-28T18:31:59.430Z"
   },
   {
    "duration": 14,
    "start_time": "2022-03-28T18:31:59.457Z"
   },
   {
    "duration": 346,
    "start_time": "2022-03-28T18:31:59.473Z"
   },
   {
    "duration": 181,
    "start_time": "2022-03-28T18:31:59.820Z"
   },
   {
    "duration": 7,
    "start_time": "2022-03-28T18:32:00.003Z"
   },
   {
    "duration": 23,
    "start_time": "2022-03-28T18:32:00.012Z"
   },
   {
    "duration": 358,
    "start_time": "2022-03-28T18:32:00.037Z"
   },
   {
    "duration": 14,
    "start_time": "2022-03-28T18:32:00.396Z"
   },
   {
    "duration": 17,
    "start_time": "2022-03-28T18:32:00.411Z"
   },
   {
    "duration": 22,
    "start_time": "2022-03-28T18:32:00.429Z"
   },
   {
    "duration": 26,
    "start_time": "2022-03-28T18:32:00.453Z"
   },
   {
    "duration": 472,
    "start_time": "2022-03-28T18:32:00.481Z"
   },
   {
    "duration": 24,
    "start_time": "2022-03-28T18:32:00.957Z"
   },
   {
    "duration": 33,
    "start_time": "2022-03-28T18:32:00.983Z"
   },
   {
    "duration": 274,
    "start_time": "2022-03-28T18:32:01.018Z"
   },
   {
    "duration": 273,
    "start_time": "2022-03-28T18:32:01.293Z"
   },
   {
    "duration": 159,
    "start_time": "2022-03-28T18:32:01.568Z"
   },
   {
    "duration": 156,
    "start_time": "2022-03-28T18:32:01.729Z"
   },
   {
    "duration": 21,
    "start_time": "2022-03-28T18:32:01.887Z"
   },
   {
    "duration": 17,
    "start_time": "2022-03-28T18:32:01.910Z"
   },
   {
    "duration": 9,
    "start_time": "2022-03-28T18:32:01.928Z"
   },
   {
    "duration": 7,
    "start_time": "2022-03-28T18:32:01.939Z"
   },
   {
    "duration": 16,
    "start_time": "2022-03-28T18:32:01.948Z"
   },
   {
    "duration": 12,
    "start_time": "2022-03-28T18:32:01.965Z"
   },
   {
    "duration": 29,
    "start_time": "2022-03-28T18:32:01.979Z"
   },
   {
    "duration": 20,
    "start_time": "2022-03-28T18:32:02.009Z"
   },
   {
    "duration": 19,
    "start_time": "2022-03-28T18:32:02.030Z"
   },
   {
    "duration": 10,
    "start_time": "2022-03-28T18:32:02.050Z"
   },
   {
    "duration": 15,
    "start_time": "2022-03-28T18:32:02.062Z"
   },
   {
    "duration": 24,
    "start_time": "2022-03-28T18:32:02.078Z"
   },
   {
    "duration": 9,
    "start_time": "2022-03-28T18:32:02.104Z"
   },
   {
    "duration": 19,
    "start_time": "2022-03-28T18:32:02.115Z"
   },
   {
    "duration": 10,
    "start_time": "2022-03-28T18:32:02.136Z"
   },
   {
    "duration": 12,
    "start_time": "2022-03-28T18:32:02.148Z"
   },
   {
    "duration": 41,
    "start_time": "2022-03-28T18:32:02.162Z"
   },
   {
    "duration": 10,
    "start_time": "2022-03-28T18:32:02.205Z"
   },
   {
    "duration": 14,
    "start_time": "2022-03-28T18:32:02.217Z"
   },
   {
    "duration": 25,
    "start_time": "2022-03-28T18:32:11.164Z"
   },
   {
    "duration": 49,
    "start_time": "2022-03-28T18:53:02.025Z"
   },
   {
    "duration": 1486,
    "start_time": "2022-03-28T18:53:04.854Z"
   },
   {
    "duration": 57,
    "start_time": "2022-03-28T18:53:06.342Z"
   },
   {
    "duration": 18,
    "start_time": "2022-03-28T18:53:06.401Z"
   },
   {
    "duration": 31,
    "start_time": "2022-03-28T18:53:06.421Z"
   },
   {
    "duration": 16,
    "start_time": "2022-03-28T18:53:06.453Z"
   },
   {
    "duration": 30,
    "start_time": "2022-03-28T18:53:06.471Z"
   },
   {
    "duration": 28,
    "start_time": "2022-03-28T18:53:06.503Z"
   },
   {
    "duration": 12,
    "start_time": "2022-03-28T18:53:06.533Z"
   },
   {
    "duration": 4,
    "start_time": "2022-03-28T18:53:06.547Z"
   },
   {
    "duration": 10,
    "start_time": "2022-03-28T18:53:06.554Z"
   },
   {
    "duration": 7,
    "start_time": "2022-03-28T18:53:06.566Z"
   },
   {
    "duration": 29,
    "start_time": "2022-03-28T18:53:06.574Z"
   },
   {
    "duration": 4,
    "start_time": "2022-03-28T18:53:06.605Z"
   },
   {
    "duration": 7,
    "start_time": "2022-03-28T18:53:06.610Z"
   },
   {
    "duration": 14,
    "start_time": "2022-03-28T18:53:06.619Z"
   },
   {
    "duration": 4,
    "start_time": "2022-03-28T18:53:06.634Z"
   },
   {
    "duration": 18,
    "start_time": "2022-03-28T18:53:06.640Z"
   },
   {
    "duration": 15,
    "start_time": "2022-03-28T18:53:06.659Z"
   },
   {
    "duration": 343,
    "start_time": "2022-03-28T18:53:06.700Z"
   },
   {
    "duration": 200,
    "start_time": "2022-03-28T18:53:07.045Z"
   },
   {
    "duration": 9,
    "start_time": "2022-03-28T18:53:07.247Z"
   },
   {
    "duration": 21,
    "start_time": "2022-03-28T18:53:07.258Z"
   },
   {
    "duration": 445,
    "start_time": "2022-03-28T18:53:07.281Z"
   },
   {
    "duration": 13,
    "start_time": "2022-03-28T18:53:07.728Z"
   },
   {
    "duration": 8,
    "start_time": "2022-03-28T18:53:07.743Z"
   },
   {
    "duration": 7,
    "start_time": "2022-03-28T18:53:07.753Z"
   },
   {
    "duration": 9,
    "start_time": "2022-03-28T18:53:07.762Z"
   },
   {
    "duration": 389,
    "start_time": "2022-03-28T18:53:07.776Z"
   },
   {
    "duration": 35,
    "start_time": "2022-03-28T18:53:08.167Z"
   },
   {
    "duration": 16,
    "start_time": "2022-03-28T18:53:08.204Z"
   },
   {
    "duration": 364,
    "start_time": "2022-03-28T18:53:08.222Z"
   },
   {
    "duration": 265,
    "start_time": "2022-03-28T18:53:08.587Z"
   },
   {
    "duration": 162,
    "start_time": "2022-03-28T18:53:08.854Z"
   },
   {
    "duration": 156,
    "start_time": "2022-03-28T18:53:09.017Z"
   },
   {
    "duration": 29,
    "start_time": "2022-03-28T18:53:09.175Z"
   },
   {
    "duration": 19,
    "start_time": "2022-03-28T18:53:09.206Z"
   },
   {
    "duration": 9,
    "start_time": "2022-03-28T18:53:09.226Z"
   },
   {
    "duration": 5,
    "start_time": "2022-03-28T18:53:09.237Z"
   },
   {
    "duration": 6,
    "start_time": "2022-03-28T18:53:09.243Z"
   },
   {
    "duration": 10,
    "start_time": "2022-03-28T18:53:09.251Z"
   },
   {
    "duration": 41,
    "start_time": "2022-03-28T18:53:09.263Z"
   },
   {
    "duration": 13,
    "start_time": "2022-03-28T18:53:09.306Z"
   },
   {
    "duration": 12,
    "start_time": "2022-03-28T18:53:09.321Z"
   },
   {
    "duration": 11,
    "start_time": "2022-03-28T18:53:09.335Z"
   },
   {
    "duration": 15,
    "start_time": "2022-03-28T18:53:09.347Z"
   },
   {
    "duration": 39,
    "start_time": "2022-03-28T18:53:09.364Z"
   },
   {
    "duration": 13,
    "start_time": "2022-03-28T18:53:09.404Z"
   },
   {
    "duration": 11,
    "start_time": "2022-03-28T18:53:09.418Z"
   },
   {
    "duration": 13,
    "start_time": "2022-03-28T18:53:09.431Z"
   },
   {
    "duration": 12,
    "start_time": "2022-03-28T18:53:09.446Z"
   },
   {
    "duration": 42,
    "start_time": "2022-03-28T18:53:09.460Z"
   },
   {
    "duration": 11,
    "start_time": "2022-03-28T18:53:09.504Z"
   },
   {
    "duration": 12,
    "start_time": "2022-03-28T18:53:09.516Z"
   },
   {
    "duration": 26,
    "start_time": "2022-03-28T18:53:24.882Z"
   },
   {
    "duration": 1448,
    "start_time": "2022-07-02T21:50:09.039Z"
   },
   {
    "duration": 208,
    "start_time": "2022-07-02T21:50:10.489Z"
   },
   {
    "duration": 19,
    "start_time": "2022-07-02T21:50:10.699Z"
   },
   {
    "duration": 43,
    "start_time": "2022-07-02T21:50:10.720Z"
   },
   {
    "duration": 14,
    "start_time": "2022-07-02T21:50:10.765Z"
   },
   {
    "duration": 8,
    "start_time": "2022-07-02T21:50:10.781Z"
   },
   {
    "duration": 26,
    "start_time": "2022-07-02T21:50:10.790Z"
   },
   {
    "duration": 28,
    "start_time": "2022-07-02T21:50:10.817Z"
   },
   {
    "duration": 7,
    "start_time": "2022-07-02T21:50:10.852Z"
   },
   {
    "duration": 9,
    "start_time": "2022-07-02T21:50:10.863Z"
   },
   {
    "duration": 10,
    "start_time": "2022-07-02T21:50:10.874Z"
   },
   {
    "duration": 9,
    "start_time": "2022-07-02T21:50:10.885Z"
   },
   {
    "duration": 9,
    "start_time": "2022-07-02T21:50:10.895Z"
   },
   {
    "duration": 9,
    "start_time": "2022-07-02T21:50:10.907Z"
   },
   {
    "duration": 21,
    "start_time": "2022-07-02T21:50:10.917Z"
   },
   {
    "duration": 19,
    "start_time": "2022-07-02T21:50:10.942Z"
   },
   {
    "duration": 20,
    "start_time": "2022-07-02T21:50:10.963Z"
   },
   {
    "duration": 14,
    "start_time": "2022-07-02T21:50:10.985Z"
   },
   {
    "duration": 413,
    "start_time": "2022-07-02T21:50:11.001Z"
   },
   {
    "duration": 237,
    "start_time": "2022-07-02T21:50:11.416Z"
   },
   {
    "duration": 7,
    "start_time": "2022-07-02T21:50:11.655Z"
   },
   {
    "duration": 9,
    "start_time": "2022-07-02T21:50:11.664Z"
   },
   {
    "duration": 423,
    "start_time": "2022-07-02T21:50:11.675Z"
   },
   {
    "duration": 8,
    "start_time": "2022-07-02T21:50:12.099Z"
   },
   {
    "duration": 7,
    "start_time": "2022-07-02T21:50:12.108Z"
   },
   {
    "duration": 8,
    "start_time": "2022-07-02T21:50:12.117Z"
   },
   {
    "duration": 442,
    "start_time": "2022-07-02T21:50:12.127Z"
   },
   {
    "duration": 388,
    "start_time": "2022-07-02T21:50:12.571Z"
   },
   {
    "duration": 330,
    "start_time": "2022-07-02T21:50:12.961Z"
   },
   {
    "duration": 377,
    "start_time": "2022-07-02T21:50:13.293Z"
   },
   {
    "duration": 17,
    "start_time": "2022-07-02T21:50:13.672Z"
   },
   {
    "duration": 21,
    "start_time": "2022-07-02T21:50:13.691Z"
   },
   {
    "duration": 414,
    "start_time": "2022-07-02T21:50:13.715Z"
   },
   {
    "duration": 31,
    "start_time": "2022-07-02T21:50:14.131Z"
   },
   {
    "duration": 371,
    "start_time": "2022-07-02T21:50:14.164Z"
   },
   {
    "duration": 26,
    "start_time": "2022-07-02T21:50:14.542Z"
   },
   {
    "duration": 468,
    "start_time": "2022-07-02T21:50:14.569Z"
   },
   {
    "duration": 30,
    "start_time": "2022-07-02T21:50:15.042Z"
   },
   {
    "duration": 10,
    "start_time": "2022-07-02T21:50:15.074Z"
   },
   {
    "duration": 3,
    "start_time": "2022-07-02T21:50:15.086Z"
   },
   {
    "duration": 4,
    "start_time": "2022-07-02T21:50:15.093Z"
   },
   {
    "duration": 12,
    "start_time": "2022-07-02T21:50:15.098Z"
   },
   {
    "duration": 46,
    "start_time": "2022-07-02T21:50:15.112Z"
   },
   {
    "duration": 16,
    "start_time": "2022-07-02T21:50:15.160Z"
   },
   {
    "duration": 15,
    "start_time": "2022-07-02T21:50:15.178Z"
   },
   {
    "duration": 10,
    "start_time": "2022-07-02T21:50:15.195Z"
   },
   {
    "duration": 36,
    "start_time": "2022-07-02T21:50:15.207Z"
   },
   {
    "duration": 15,
    "start_time": "2022-07-02T21:50:15.245Z"
   },
   {
    "duration": 15,
    "start_time": "2022-07-02T21:50:15.262Z"
   },
   {
    "duration": 10,
    "start_time": "2022-07-02T21:50:15.278Z"
   },
   {
    "duration": 15,
    "start_time": "2022-07-02T21:50:15.290Z"
   },
   {
    "duration": 43,
    "start_time": "2022-07-02T21:50:15.306Z"
   },
   {
    "duration": 12,
    "start_time": "2022-07-02T21:50:15.352Z"
   },
   {
    "duration": 13,
    "start_time": "2022-07-02T21:50:15.367Z"
   },
   {
    "duration": 11,
    "start_time": "2022-07-02T21:50:15.382Z"
   }
  ],
  "kernelspec": {
   "display_name": "Python 3 (ipykernel)",
   "language": "python",
   "name": "python3"
  },
  "language_info": {
   "codemirror_mode": {
    "name": "ipython",
    "version": 3
   },
   "file_extension": ".py",
   "mimetype": "text/x-python",
   "name": "python",
   "nbconvert_exporter": "python",
   "pygments_lexer": "ipython3",
   "version": "3.9.5"
  },
  "toc": {
   "base_numbering": 1,
   "nav_menu": {},
   "number_sections": true,
   "sideBar": true,
   "skip_h1_title": true,
   "title_cell": "Содержание",
   "title_sidebar": "Содержание",
   "toc_cell": true,
   "toc_position": {
    "height": "calc(100% - 180px)",
    "left": "10px",
    "top": "150px",
    "width": "252px"
   },
   "toc_section_display": true,
   "toc_window_display": true
  }
 },
 "nbformat": 4,
 "nbformat_minor": 2
}
