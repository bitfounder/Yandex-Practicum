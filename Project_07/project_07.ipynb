{
 "cells": [
  {
   "cell_type": "markdown",
   "metadata": {
    "toc": true
   },
   "source": [
    "<h1>Содержание<span class=\"tocSkip\"></span></h1>\n",
    "<div class=\"toc\"><ul class=\"toc-item\"><li><span><a href=\"#Загрузка-и-подготовка-данных\" data-toc-modified-id=\"Загрузка-и-подготовка-данных-1\"><span class=\"toc-item-num\">1&nbsp;&nbsp;</span>Загрузка и подготовка данных</a></span><ul class=\"toc-item\"><li><ul class=\"toc-item\"><li><span><a href=\"#Вывод\" data-toc-modified-id=\"Вывод-1.0.1\"><span class=\"toc-item-num\">1.0.1&nbsp;&nbsp;</span>Вывод</a></span></li></ul></li><li><span><a href=\"#Предобработка-данных\" data-toc-modified-id=\"Предобработка-данных-1.1\"><span class=\"toc-item-num\">1.1&nbsp;&nbsp;</span>Предобработка данных</a></span></li><li><span><a href=\"#Вывод\" data-toc-modified-id=\"Вывод-1.2\"><span class=\"toc-item-num\">1.2&nbsp;&nbsp;</span>Вывод</a></span></li></ul></li><li><span><a href=\"#Обучение-и-проверка-модели\" data-toc-modified-id=\"Обучение-и-проверка-модели-2\"><span class=\"toc-item-num\">2&nbsp;&nbsp;</span>Обучение и проверка модели</a></span><ul class=\"toc-item\"><li><span><a href=\"#Вывод\" data-toc-modified-id=\"Вывод-2.1\"><span class=\"toc-item-num\">2.1&nbsp;&nbsp;</span>Вывод</a></span></li></ul></li><li><span><a href=\"#Подготовка-к-расчёту-прибыли\" data-toc-modified-id=\"Подготовка-к-расчёту-прибыли-3\"><span class=\"toc-item-num\">3&nbsp;&nbsp;</span>Подготовка к расчёту прибыли</a></span><ul class=\"toc-item\"><li><span><a href=\"#Вывод\" data-toc-modified-id=\"Вывод-3.1\"><span class=\"toc-item-num\">3.1&nbsp;&nbsp;</span>Вывод</a></span></li></ul></li><li><span><a href=\"#Расчёт-прибыли-и-рисков\" data-toc-modified-id=\"Расчёт-прибыли-и-рисков-4\"><span class=\"toc-item-num\">4&nbsp;&nbsp;</span>Расчёт прибыли и рисков</a></span></li><li><span><a href=\"#Вывод\" data-toc-modified-id=\"Вывод-5\"><span class=\"toc-item-num\">5&nbsp;&nbsp;</span>Вывод</a></span></li></ul></div>"
   ]
  },
  {
   "cell_type": "markdown",
   "metadata": {},
   "source": [
    "# Выбор локации для скважины"
   ]
  },
  {
   "cell_type": "markdown",
   "metadata": {},
   "source": [
    "Допустим, мы работаем в добывающей компании «ГлавРосГосНефть». Нужно решить, где бурить новую скважину.\n",
    "\n",
    "Нам предоставлены пробы нефти в трёх регионах: в каждом 10 000 месторождений, где измерили качество нефти и объём её запасов. Построим модель машинного обучения, которая поможет определить регион, где добыча принесёт наибольшую прибыль. Проанализируем возможную прибыль и риски техникой *Bootstrap.*\n",
    "\n",
    "Шаги для выбора локации:\n",
    "\n",
    "- В избранном регионе ищут месторождения, для каждого определяют значения признаков;\n",
    "- Строят модель и оценивают объём запасов;\n",
    "- Выбирают месторождения с самым высокими оценками значений. Количество месторождений зависит от бюджета компании и стоимости разработки одной скважины;\n",
    "- Прибыль равна суммарной прибыли отобранных месторождений."
   ]
  },
  {
   "cell_type": "markdown",
   "metadata": {},
   "source": [
    "# Описаие данных\n",
    "\n",
    "* `id` — уникальный идентификатор скважины;\n",
    "* `f0, f1, f2` — три признака точек (неважно, что они означают, но сами признаки значимы);\n",
    "* `product` — объём запасов в скважине (тыс. баррелей)."
   ]
  },
  {
   "cell_type": "markdown",
   "metadata": {},
   "source": [
    "## Загрузка и подготовка данных"
   ]
  },
  {
   "cell_type": "markdown",
   "metadata": {},
   "source": [
    "Импортируем необходимые библиотеки."
   ]
  },
  {
   "cell_type": "code",
   "execution_count": 1,
   "metadata": {},
   "outputs": [],
   "source": [
    "import pandas as pd\n",
    "import numpy as np\n",
    "from sklearn.model_selection import train_test_split\n",
    "from sklearn.linear_model import LinearRegression\n",
    "from sklearn.metrics import mean_squared_error\n",
    "from scipy import stats\n",
    "import matplotlib.pyplot as plt"
   ]
  },
  {
   "cell_type": "markdown",
   "metadata": {},
   "source": [
    "Загрузим данные и напишем функцию для основных характеристик данных."
   ]
  },
  {
   "cell_type": "code",
   "execution_count": 2,
   "metadata": {},
   "outputs": [],
   "source": [
    "data_0 = pd.read_csv('/datasets/geo_data_0.csv')\n",
    "data_1 = pd.read_csv('/datasets/geo_data_1.csv')\n",
    "data_2 = pd.read_csv('/datasets/geo_data_2.csv')\n",
    "\n",
    "def info(data_i):\n",
    "    print('\\033[1m' + 'Посмотрим на первые пять строк данных' + '\\033[0m')\n",
    "    display(data_i.head())\n",
    "    print('______________________________________________________________')\n",
    "    print('')\n",
    "    print('\\033[1m' + 'Посмотрим на общую информацию' + '\\033[0m')\n",
    "    display(data_i.info())\n",
    "    print('______________________________________________________________')\n",
    "    print('')\n",
    "    print('\\033[1m' + 'Посмотрим на основные статистические данные' + '\\033[0m')\n",
    "    display(data_i.describe())\n",
    "    print('______________________________________________________________')\n",
    "    print('')\n",
    "    print('\\033[1m' + 'Посмотрим, есть ли явные дубликаты' + '\\033[0m')\n",
    "    display(data_i.duplicated().sum())\n",
    "    print('______________________________________________________________')\n",
    "    print('')\n",
    "    print('\\033[1m' + 'Посмотрим на неявные дубликаты' + '\\033[0m')\n",
    "    display(data_i['id'].value_counts())"
   ]
  },
  {
   "cell_type": "markdown",
   "metadata": {},
   "source": [
    "Выведем основные характеристики данных геологоразведки для 1 региона."
   ]
  },
  {
   "cell_type": "code",
   "execution_count": 3,
   "metadata": {},
   "outputs": [
    {
     "name": "stdout",
     "output_type": "stream",
     "text": [
      "\u001b[1mПосмотрим на первые пять строк данных\u001b[0m\n"
     ]
    },
    {
     "data": {
      "text/html": [
       "<div>\n",
       "<style scoped>\n",
       "    .dataframe tbody tr th:only-of-type {\n",
       "        vertical-align: middle;\n",
       "    }\n",
       "\n",
       "    .dataframe tbody tr th {\n",
       "        vertical-align: top;\n",
       "    }\n",
       "\n",
       "    .dataframe thead th {\n",
       "        text-align: right;\n",
       "    }\n",
       "</style>\n",
       "<table border=\"1\" class=\"dataframe\">\n",
       "  <thead>\n",
       "    <tr style=\"text-align: right;\">\n",
       "      <th></th>\n",
       "      <th>id</th>\n",
       "      <th>f0</th>\n",
       "      <th>f1</th>\n",
       "      <th>f2</th>\n",
       "      <th>product</th>\n",
       "    </tr>\n",
       "  </thead>\n",
       "  <tbody>\n",
       "    <tr>\n",
       "      <th>0</th>\n",
       "      <td>txEyH</td>\n",
       "      <td>0.705745</td>\n",
       "      <td>-0.497823</td>\n",
       "      <td>1.221170</td>\n",
       "      <td>105.280062</td>\n",
       "    </tr>\n",
       "    <tr>\n",
       "      <th>1</th>\n",
       "      <td>2acmU</td>\n",
       "      <td>1.334711</td>\n",
       "      <td>-0.340164</td>\n",
       "      <td>4.365080</td>\n",
       "      <td>73.037750</td>\n",
       "    </tr>\n",
       "    <tr>\n",
       "      <th>2</th>\n",
       "      <td>409Wp</td>\n",
       "      <td>1.022732</td>\n",
       "      <td>0.151990</td>\n",
       "      <td>1.419926</td>\n",
       "      <td>85.265647</td>\n",
       "    </tr>\n",
       "    <tr>\n",
       "      <th>3</th>\n",
       "      <td>iJLyR</td>\n",
       "      <td>-0.032172</td>\n",
       "      <td>0.139033</td>\n",
       "      <td>2.978566</td>\n",
       "      <td>168.620776</td>\n",
       "    </tr>\n",
       "    <tr>\n",
       "      <th>4</th>\n",
       "      <td>Xdl7t</td>\n",
       "      <td>1.988431</td>\n",
       "      <td>0.155413</td>\n",
       "      <td>4.751769</td>\n",
       "      <td>154.036647</td>\n",
       "    </tr>\n",
       "  </tbody>\n",
       "</table>\n",
       "</div>"
      ],
      "text/plain": [
       "      id        f0        f1        f2     product\n",
       "0  txEyH  0.705745 -0.497823  1.221170  105.280062\n",
       "1  2acmU  1.334711 -0.340164  4.365080   73.037750\n",
       "2  409Wp  1.022732  0.151990  1.419926   85.265647\n",
       "3  iJLyR -0.032172  0.139033  2.978566  168.620776\n",
       "4  Xdl7t  1.988431  0.155413  4.751769  154.036647"
      ]
     },
     "metadata": {},
     "output_type": "display_data"
    },
    {
     "name": "stdout",
     "output_type": "stream",
     "text": [
      "______________________________________________________________\n",
      "\n",
      "\u001b[1mПосмотрим на общую информацию\u001b[0m\n",
      "<class 'pandas.core.frame.DataFrame'>\n",
      "RangeIndex: 100000 entries, 0 to 99999\n",
      "Data columns (total 5 columns):\n",
      " #   Column   Non-Null Count   Dtype  \n",
      "---  ------   --------------   -----  \n",
      " 0   id       100000 non-null  object \n",
      " 1   f0       100000 non-null  float64\n",
      " 2   f1       100000 non-null  float64\n",
      " 3   f2       100000 non-null  float64\n",
      " 4   product  100000 non-null  float64\n",
      "dtypes: float64(4), object(1)\n",
      "memory usage: 3.8+ MB\n"
     ]
    },
    {
     "data": {
      "text/plain": [
       "None"
      ]
     },
     "metadata": {},
     "output_type": "display_data"
    },
    {
     "name": "stdout",
     "output_type": "stream",
     "text": [
      "______________________________________________________________\n",
      "\n",
      "\u001b[1mПосмотрим на основные статистические данные\u001b[0m\n"
     ]
    },
    {
     "data": {
      "text/html": [
       "<div>\n",
       "<style scoped>\n",
       "    .dataframe tbody tr th:only-of-type {\n",
       "        vertical-align: middle;\n",
       "    }\n",
       "\n",
       "    .dataframe tbody tr th {\n",
       "        vertical-align: top;\n",
       "    }\n",
       "\n",
       "    .dataframe thead th {\n",
       "        text-align: right;\n",
       "    }\n",
       "</style>\n",
       "<table border=\"1\" class=\"dataframe\">\n",
       "  <thead>\n",
       "    <tr style=\"text-align: right;\">\n",
       "      <th></th>\n",
       "      <th>f0</th>\n",
       "      <th>f1</th>\n",
       "      <th>f2</th>\n",
       "      <th>product</th>\n",
       "    </tr>\n",
       "  </thead>\n",
       "  <tbody>\n",
       "    <tr>\n",
       "      <th>count</th>\n",
       "      <td>100000.000000</td>\n",
       "      <td>100000.000000</td>\n",
       "      <td>100000.000000</td>\n",
       "      <td>100000.000000</td>\n",
       "    </tr>\n",
       "    <tr>\n",
       "      <th>mean</th>\n",
       "      <td>0.500419</td>\n",
       "      <td>0.250143</td>\n",
       "      <td>2.502647</td>\n",
       "      <td>92.500000</td>\n",
       "    </tr>\n",
       "    <tr>\n",
       "      <th>std</th>\n",
       "      <td>0.871832</td>\n",
       "      <td>0.504433</td>\n",
       "      <td>3.248248</td>\n",
       "      <td>44.288691</td>\n",
       "    </tr>\n",
       "    <tr>\n",
       "      <th>min</th>\n",
       "      <td>-1.408605</td>\n",
       "      <td>-0.848218</td>\n",
       "      <td>-12.088328</td>\n",
       "      <td>0.000000</td>\n",
       "    </tr>\n",
       "    <tr>\n",
       "      <th>25%</th>\n",
       "      <td>-0.072580</td>\n",
       "      <td>-0.200881</td>\n",
       "      <td>0.287748</td>\n",
       "      <td>56.497507</td>\n",
       "    </tr>\n",
       "    <tr>\n",
       "      <th>50%</th>\n",
       "      <td>0.502360</td>\n",
       "      <td>0.250252</td>\n",
       "      <td>2.515969</td>\n",
       "      <td>91.849972</td>\n",
       "    </tr>\n",
       "    <tr>\n",
       "      <th>75%</th>\n",
       "      <td>1.073581</td>\n",
       "      <td>0.700646</td>\n",
       "      <td>4.715088</td>\n",
       "      <td>128.564089</td>\n",
       "    </tr>\n",
       "    <tr>\n",
       "      <th>max</th>\n",
       "      <td>2.362331</td>\n",
       "      <td>1.343769</td>\n",
       "      <td>16.003790</td>\n",
       "      <td>185.364347</td>\n",
       "    </tr>\n",
       "  </tbody>\n",
       "</table>\n",
       "</div>"
      ],
      "text/plain": [
       "                  f0             f1             f2        product\n",
       "count  100000.000000  100000.000000  100000.000000  100000.000000\n",
       "mean        0.500419       0.250143       2.502647      92.500000\n",
       "std         0.871832       0.504433       3.248248      44.288691\n",
       "min        -1.408605      -0.848218     -12.088328       0.000000\n",
       "25%        -0.072580      -0.200881       0.287748      56.497507\n",
       "50%         0.502360       0.250252       2.515969      91.849972\n",
       "75%         1.073581       0.700646       4.715088     128.564089\n",
       "max         2.362331       1.343769      16.003790     185.364347"
      ]
     },
     "metadata": {},
     "output_type": "display_data"
    },
    {
     "name": "stdout",
     "output_type": "stream",
     "text": [
      "______________________________________________________________\n",
      "\n",
      "\u001b[1mПосмотрим, есть ли явные дубликаты\u001b[0m\n"
     ]
    },
    {
     "data": {
      "text/plain": [
       "0"
      ]
     },
     "metadata": {},
     "output_type": "display_data"
    },
    {
     "name": "stdout",
     "output_type": "stream",
     "text": [
      "______________________________________________________________\n",
      "\n",
      "\u001b[1mПосмотрим на неявные дубликаты\u001b[0m\n"
     ]
    },
    {
     "data": {
      "text/plain": [
       "HZww2    2\n",
       "74z30    2\n",
       "TtcGQ    2\n",
       "A5aEY    2\n",
       "AGS9W    2\n",
       "        ..\n",
       "TltYZ    1\n",
       "sbnp2    1\n",
       "nmDNo    1\n",
       "b0RjT    1\n",
       "mXdxW    1\n",
       "Name: id, Length: 99990, dtype: int64"
      ]
     },
     "metadata": {},
     "output_type": "display_data"
    }
   ],
   "source": [
    "info(data_0)"
   ]
  },
  {
   "cell_type": "markdown",
   "metadata": {},
   "source": [
    "Выведем основные характеристики данных геологоразведки для 2 региона."
   ]
  },
  {
   "cell_type": "code",
   "execution_count": 4,
   "metadata": {},
   "outputs": [
    {
     "name": "stdout",
     "output_type": "stream",
     "text": [
      "\u001b[1mПосмотрим на первые пять строк данных\u001b[0m\n"
     ]
    },
    {
     "data": {
      "text/html": [
       "<div>\n",
       "<style scoped>\n",
       "    .dataframe tbody tr th:only-of-type {\n",
       "        vertical-align: middle;\n",
       "    }\n",
       "\n",
       "    .dataframe tbody tr th {\n",
       "        vertical-align: top;\n",
       "    }\n",
       "\n",
       "    .dataframe thead th {\n",
       "        text-align: right;\n",
       "    }\n",
       "</style>\n",
       "<table border=\"1\" class=\"dataframe\">\n",
       "  <thead>\n",
       "    <tr style=\"text-align: right;\">\n",
       "      <th></th>\n",
       "      <th>id</th>\n",
       "      <th>f0</th>\n",
       "      <th>f1</th>\n",
       "      <th>f2</th>\n",
       "      <th>product</th>\n",
       "    </tr>\n",
       "  </thead>\n",
       "  <tbody>\n",
       "    <tr>\n",
       "      <th>0</th>\n",
       "      <td>kBEdx</td>\n",
       "      <td>-15.001348</td>\n",
       "      <td>-8.276000</td>\n",
       "      <td>-0.005876</td>\n",
       "      <td>3.179103</td>\n",
       "    </tr>\n",
       "    <tr>\n",
       "      <th>1</th>\n",
       "      <td>62mP7</td>\n",
       "      <td>14.272088</td>\n",
       "      <td>-3.475083</td>\n",
       "      <td>0.999183</td>\n",
       "      <td>26.953261</td>\n",
       "    </tr>\n",
       "    <tr>\n",
       "      <th>2</th>\n",
       "      <td>vyE1P</td>\n",
       "      <td>6.263187</td>\n",
       "      <td>-5.948386</td>\n",
       "      <td>5.001160</td>\n",
       "      <td>134.766305</td>\n",
       "    </tr>\n",
       "    <tr>\n",
       "      <th>3</th>\n",
       "      <td>KcrkZ</td>\n",
       "      <td>-13.081196</td>\n",
       "      <td>-11.506057</td>\n",
       "      <td>4.999415</td>\n",
       "      <td>137.945408</td>\n",
       "    </tr>\n",
       "    <tr>\n",
       "      <th>4</th>\n",
       "      <td>AHL4O</td>\n",
       "      <td>12.702195</td>\n",
       "      <td>-8.147433</td>\n",
       "      <td>5.004363</td>\n",
       "      <td>134.766305</td>\n",
       "    </tr>\n",
       "  </tbody>\n",
       "</table>\n",
       "</div>"
      ],
      "text/plain": [
       "      id         f0         f1        f2     product\n",
       "0  kBEdx -15.001348  -8.276000 -0.005876    3.179103\n",
       "1  62mP7  14.272088  -3.475083  0.999183   26.953261\n",
       "2  vyE1P   6.263187  -5.948386  5.001160  134.766305\n",
       "3  KcrkZ -13.081196 -11.506057  4.999415  137.945408\n",
       "4  AHL4O  12.702195  -8.147433  5.004363  134.766305"
      ]
     },
     "metadata": {},
     "output_type": "display_data"
    },
    {
     "name": "stdout",
     "output_type": "stream",
     "text": [
      "______________________________________________________________\n",
      "\n",
      "\u001b[1mПосмотрим на общую информацию\u001b[0m\n",
      "<class 'pandas.core.frame.DataFrame'>\n",
      "RangeIndex: 100000 entries, 0 to 99999\n",
      "Data columns (total 5 columns):\n",
      " #   Column   Non-Null Count   Dtype  \n",
      "---  ------   --------------   -----  \n",
      " 0   id       100000 non-null  object \n",
      " 1   f0       100000 non-null  float64\n",
      " 2   f1       100000 non-null  float64\n",
      " 3   f2       100000 non-null  float64\n",
      " 4   product  100000 non-null  float64\n",
      "dtypes: float64(4), object(1)\n",
      "memory usage: 3.8+ MB\n"
     ]
    },
    {
     "data": {
      "text/plain": [
       "None"
      ]
     },
     "metadata": {},
     "output_type": "display_data"
    },
    {
     "name": "stdout",
     "output_type": "stream",
     "text": [
      "______________________________________________________________\n",
      "\n",
      "\u001b[1mПосмотрим на основные статистические данные\u001b[0m\n"
     ]
    },
    {
     "data": {
      "text/html": [
       "<div>\n",
       "<style scoped>\n",
       "    .dataframe tbody tr th:only-of-type {\n",
       "        vertical-align: middle;\n",
       "    }\n",
       "\n",
       "    .dataframe tbody tr th {\n",
       "        vertical-align: top;\n",
       "    }\n",
       "\n",
       "    .dataframe thead th {\n",
       "        text-align: right;\n",
       "    }\n",
       "</style>\n",
       "<table border=\"1\" class=\"dataframe\">\n",
       "  <thead>\n",
       "    <tr style=\"text-align: right;\">\n",
       "      <th></th>\n",
       "      <th>f0</th>\n",
       "      <th>f1</th>\n",
       "      <th>f2</th>\n",
       "      <th>product</th>\n",
       "    </tr>\n",
       "  </thead>\n",
       "  <tbody>\n",
       "    <tr>\n",
       "      <th>count</th>\n",
       "      <td>100000.000000</td>\n",
       "      <td>100000.000000</td>\n",
       "      <td>100000.000000</td>\n",
       "      <td>100000.000000</td>\n",
       "    </tr>\n",
       "    <tr>\n",
       "      <th>mean</th>\n",
       "      <td>1.141296</td>\n",
       "      <td>-4.796579</td>\n",
       "      <td>2.494541</td>\n",
       "      <td>68.825000</td>\n",
       "    </tr>\n",
       "    <tr>\n",
       "      <th>std</th>\n",
       "      <td>8.965932</td>\n",
       "      <td>5.119872</td>\n",
       "      <td>1.703572</td>\n",
       "      <td>45.944423</td>\n",
       "    </tr>\n",
       "    <tr>\n",
       "      <th>min</th>\n",
       "      <td>-31.609576</td>\n",
       "      <td>-26.358598</td>\n",
       "      <td>-0.018144</td>\n",
       "      <td>0.000000</td>\n",
       "    </tr>\n",
       "    <tr>\n",
       "      <th>25%</th>\n",
       "      <td>-6.298551</td>\n",
       "      <td>-8.267985</td>\n",
       "      <td>1.000021</td>\n",
       "      <td>26.953261</td>\n",
       "    </tr>\n",
       "    <tr>\n",
       "      <th>50%</th>\n",
       "      <td>1.153055</td>\n",
       "      <td>-4.813172</td>\n",
       "      <td>2.011479</td>\n",
       "      <td>57.085625</td>\n",
       "    </tr>\n",
       "    <tr>\n",
       "      <th>75%</th>\n",
       "      <td>8.621015</td>\n",
       "      <td>-1.332816</td>\n",
       "      <td>3.999904</td>\n",
       "      <td>107.813044</td>\n",
       "    </tr>\n",
       "    <tr>\n",
       "      <th>max</th>\n",
       "      <td>29.421755</td>\n",
       "      <td>18.734063</td>\n",
       "      <td>5.019721</td>\n",
       "      <td>137.945408</td>\n",
       "    </tr>\n",
       "  </tbody>\n",
       "</table>\n",
       "</div>"
      ],
      "text/plain": [
       "                  f0             f1             f2        product\n",
       "count  100000.000000  100000.000000  100000.000000  100000.000000\n",
       "mean        1.141296      -4.796579       2.494541      68.825000\n",
       "std         8.965932       5.119872       1.703572      45.944423\n",
       "min       -31.609576     -26.358598      -0.018144       0.000000\n",
       "25%        -6.298551      -8.267985       1.000021      26.953261\n",
       "50%         1.153055      -4.813172       2.011479      57.085625\n",
       "75%         8.621015      -1.332816       3.999904     107.813044\n",
       "max        29.421755      18.734063       5.019721     137.945408"
      ]
     },
     "metadata": {},
     "output_type": "display_data"
    },
    {
     "name": "stdout",
     "output_type": "stream",
     "text": [
      "______________________________________________________________\n",
      "\n",
      "\u001b[1mПосмотрим, есть ли явные дубликаты\u001b[0m\n"
     ]
    },
    {
     "data": {
      "text/plain": [
       "0"
      ]
     },
     "metadata": {},
     "output_type": "display_data"
    },
    {
     "name": "stdout",
     "output_type": "stream",
     "text": [
      "______________________________________________________________\n",
      "\n",
      "\u001b[1mПосмотрим на неявные дубликаты\u001b[0m\n"
     ]
    },
    {
     "data": {
      "text/plain": [
       "LHZR0    2\n",
       "5ltQ6    2\n",
       "wt4Uk    2\n",
       "bfPNe    2\n",
       "7Ggnd    1\n",
       "        ..\n",
       "OVLkp    1\n",
       "RyaWJ    1\n",
       "Cpecj    1\n",
       "e2Lvb    1\n",
       "raui9    1\n",
       "Name: id, Length: 99996, dtype: int64"
      ]
     },
     "metadata": {},
     "output_type": "display_data"
    }
   ],
   "source": [
    "info(data_1)"
   ]
  },
  {
   "cell_type": "markdown",
   "metadata": {},
   "source": [
    "Выведем основные характеристики данных геологоразведки для 3 региона."
   ]
  },
  {
   "cell_type": "code",
   "execution_count": 5,
   "metadata": {
    "scrolled": true
   },
   "outputs": [
    {
     "name": "stdout",
     "output_type": "stream",
     "text": [
      "\u001b[1mПосмотрим на первые пять строк данных\u001b[0m\n"
     ]
    },
    {
     "data": {
      "text/html": [
       "<div>\n",
       "<style scoped>\n",
       "    .dataframe tbody tr th:only-of-type {\n",
       "        vertical-align: middle;\n",
       "    }\n",
       "\n",
       "    .dataframe tbody tr th {\n",
       "        vertical-align: top;\n",
       "    }\n",
       "\n",
       "    .dataframe thead th {\n",
       "        text-align: right;\n",
       "    }\n",
       "</style>\n",
       "<table border=\"1\" class=\"dataframe\">\n",
       "  <thead>\n",
       "    <tr style=\"text-align: right;\">\n",
       "      <th></th>\n",
       "      <th>id</th>\n",
       "      <th>f0</th>\n",
       "      <th>f1</th>\n",
       "      <th>f2</th>\n",
       "      <th>product</th>\n",
       "    </tr>\n",
       "  </thead>\n",
       "  <tbody>\n",
       "    <tr>\n",
       "      <th>0</th>\n",
       "      <td>fwXo0</td>\n",
       "      <td>-1.146987</td>\n",
       "      <td>0.963328</td>\n",
       "      <td>-0.828965</td>\n",
       "      <td>27.758673</td>\n",
       "    </tr>\n",
       "    <tr>\n",
       "      <th>1</th>\n",
       "      <td>WJtFt</td>\n",
       "      <td>0.262778</td>\n",
       "      <td>0.269839</td>\n",
       "      <td>-2.530187</td>\n",
       "      <td>56.069697</td>\n",
       "    </tr>\n",
       "    <tr>\n",
       "      <th>2</th>\n",
       "      <td>ovLUW</td>\n",
       "      <td>0.194587</td>\n",
       "      <td>0.289035</td>\n",
       "      <td>-5.586433</td>\n",
       "      <td>62.871910</td>\n",
       "    </tr>\n",
       "    <tr>\n",
       "      <th>3</th>\n",
       "      <td>q6cA6</td>\n",
       "      <td>2.236060</td>\n",
       "      <td>-0.553760</td>\n",
       "      <td>0.930038</td>\n",
       "      <td>114.572842</td>\n",
       "    </tr>\n",
       "    <tr>\n",
       "      <th>4</th>\n",
       "      <td>WPMUX</td>\n",
       "      <td>-0.515993</td>\n",
       "      <td>1.716266</td>\n",
       "      <td>5.899011</td>\n",
       "      <td>149.600746</td>\n",
       "    </tr>\n",
       "  </tbody>\n",
       "</table>\n",
       "</div>"
      ],
      "text/plain": [
       "      id        f0        f1        f2     product\n",
       "0  fwXo0 -1.146987  0.963328 -0.828965   27.758673\n",
       "1  WJtFt  0.262778  0.269839 -2.530187   56.069697\n",
       "2  ovLUW  0.194587  0.289035 -5.586433   62.871910\n",
       "3  q6cA6  2.236060 -0.553760  0.930038  114.572842\n",
       "4  WPMUX -0.515993  1.716266  5.899011  149.600746"
      ]
     },
     "metadata": {},
     "output_type": "display_data"
    },
    {
     "name": "stdout",
     "output_type": "stream",
     "text": [
      "______________________________________________________________\n",
      "\n",
      "\u001b[1mПосмотрим на общую информацию\u001b[0m\n",
      "<class 'pandas.core.frame.DataFrame'>\n",
      "RangeIndex: 100000 entries, 0 to 99999\n",
      "Data columns (total 5 columns):\n",
      " #   Column   Non-Null Count   Dtype  \n",
      "---  ------   --------------   -----  \n",
      " 0   id       100000 non-null  object \n",
      " 1   f0       100000 non-null  float64\n",
      " 2   f1       100000 non-null  float64\n",
      " 3   f2       100000 non-null  float64\n",
      " 4   product  100000 non-null  float64\n",
      "dtypes: float64(4), object(1)\n",
      "memory usage: 3.8+ MB\n"
     ]
    },
    {
     "data": {
      "text/plain": [
       "None"
      ]
     },
     "metadata": {},
     "output_type": "display_data"
    },
    {
     "name": "stdout",
     "output_type": "stream",
     "text": [
      "______________________________________________________________\n",
      "\n",
      "\u001b[1mПосмотрим на основные статистические данные\u001b[0m\n"
     ]
    },
    {
     "data": {
      "text/html": [
       "<div>\n",
       "<style scoped>\n",
       "    .dataframe tbody tr th:only-of-type {\n",
       "        vertical-align: middle;\n",
       "    }\n",
       "\n",
       "    .dataframe tbody tr th {\n",
       "        vertical-align: top;\n",
       "    }\n",
       "\n",
       "    .dataframe thead th {\n",
       "        text-align: right;\n",
       "    }\n",
       "</style>\n",
       "<table border=\"1\" class=\"dataframe\">\n",
       "  <thead>\n",
       "    <tr style=\"text-align: right;\">\n",
       "      <th></th>\n",
       "      <th>f0</th>\n",
       "      <th>f1</th>\n",
       "      <th>f2</th>\n",
       "      <th>product</th>\n",
       "    </tr>\n",
       "  </thead>\n",
       "  <tbody>\n",
       "    <tr>\n",
       "      <th>count</th>\n",
       "      <td>100000.000000</td>\n",
       "      <td>100000.000000</td>\n",
       "      <td>100000.000000</td>\n",
       "      <td>100000.000000</td>\n",
       "    </tr>\n",
       "    <tr>\n",
       "      <th>mean</th>\n",
       "      <td>0.002023</td>\n",
       "      <td>-0.002081</td>\n",
       "      <td>2.495128</td>\n",
       "      <td>95.000000</td>\n",
       "    </tr>\n",
       "    <tr>\n",
       "      <th>std</th>\n",
       "      <td>1.732045</td>\n",
       "      <td>1.730417</td>\n",
       "      <td>3.473445</td>\n",
       "      <td>44.749921</td>\n",
       "    </tr>\n",
       "    <tr>\n",
       "      <th>min</th>\n",
       "      <td>-8.760004</td>\n",
       "      <td>-7.084020</td>\n",
       "      <td>-11.970335</td>\n",
       "      <td>0.000000</td>\n",
       "    </tr>\n",
       "    <tr>\n",
       "      <th>25%</th>\n",
       "      <td>-1.162288</td>\n",
       "      <td>-1.174820</td>\n",
       "      <td>0.130359</td>\n",
       "      <td>59.450441</td>\n",
       "    </tr>\n",
       "    <tr>\n",
       "      <th>50%</th>\n",
       "      <td>0.009424</td>\n",
       "      <td>-0.009482</td>\n",
       "      <td>2.484236</td>\n",
       "      <td>94.925613</td>\n",
       "    </tr>\n",
       "    <tr>\n",
       "      <th>75%</th>\n",
       "      <td>1.158535</td>\n",
       "      <td>1.163678</td>\n",
       "      <td>4.858794</td>\n",
       "      <td>130.595027</td>\n",
       "    </tr>\n",
       "    <tr>\n",
       "      <th>max</th>\n",
       "      <td>7.238262</td>\n",
       "      <td>7.844801</td>\n",
       "      <td>16.739402</td>\n",
       "      <td>190.029838</td>\n",
       "    </tr>\n",
       "  </tbody>\n",
       "</table>\n",
       "</div>"
      ],
      "text/plain": [
       "                  f0             f1             f2        product\n",
       "count  100000.000000  100000.000000  100000.000000  100000.000000\n",
       "mean        0.002023      -0.002081       2.495128      95.000000\n",
       "std         1.732045       1.730417       3.473445      44.749921\n",
       "min        -8.760004      -7.084020     -11.970335       0.000000\n",
       "25%        -1.162288      -1.174820       0.130359      59.450441\n",
       "50%         0.009424      -0.009482       2.484236      94.925613\n",
       "75%         1.158535       1.163678       4.858794     130.595027\n",
       "max         7.238262       7.844801      16.739402     190.029838"
      ]
     },
     "metadata": {},
     "output_type": "display_data"
    },
    {
     "name": "stdout",
     "output_type": "stream",
     "text": [
      "______________________________________________________________\n",
      "\n",
      "\u001b[1mПосмотрим, есть ли явные дубликаты\u001b[0m\n"
     ]
    },
    {
     "data": {
      "text/plain": [
       "0"
      ]
     },
     "metadata": {},
     "output_type": "display_data"
    },
    {
     "name": "stdout",
     "output_type": "stream",
     "text": [
      "______________________________________________________________\n",
      "\n",
      "\u001b[1mПосмотрим на неявные дубликаты\u001b[0m\n"
     ]
    },
    {
     "data": {
      "text/plain": [
       "VF7Jo    2\n",
       "KUPhW    2\n",
       "Vcm5J    2\n",
       "xCHr8    2\n",
       "92dGR    1\n",
       "        ..\n",
       "ARzZK    1\n",
       "v97eO    1\n",
       "wPPhv    1\n",
       "N6F12    1\n",
       "e04Le    1\n",
       "Name: id, Length: 99996, dtype: int64"
      ]
     },
     "metadata": {},
     "output_type": "display_data"
    }
   ],
   "source": [
    "info(data_2)"
   ]
  },
  {
   "cell_type": "markdown",
   "metadata": {},
   "source": [
    "Итак, в таблице 4 признака и целевой признак. Тип данных у признаков - `object` `float64`.\n",
    "\n",
    "Признаки:\n",
    "\n",
    "* `id` — уникальный идентификатор скважины;\n",
    "* `f0, f1, f2` — три признака точек.\n",
    "\n",
    "Целевой признак:\n",
    "\n",
    "* `product` — объём запасов в скважине (тыс. баррелей)."
   ]
  },
  {
   "cell_type": "markdown",
   "metadata": {},
   "source": [
    "#### Вывод"
   ]
  },
  {
   "cell_type": "markdown",
   "metadata": {},
   "source": [
    "По основным характеристикам видно, что признаки распределены нормально. Данные практически готовы для начала решения задачи.\n",
    "\n",
    "Признак `id` в нашей таблице не влияет на результат нашего исследования, поэтому можно его просто удалить.\n",
    "\n",
    "Предварительно можно сказать, что данных достаточно для исследования. Перед началом работы необходимо провести предобработку данных. "
   ]
  },
  {
   "cell_type": "markdown",
   "metadata": {},
   "source": [
    "### Предобработка данных"
   ]
  },
  {
   "cell_type": "markdown",
   "metadata": {},
   "source": [
    "Удалим признак `id` со всех датасетов, который не повлияет на результат исследования. "
   ]
  },
  {
   "cell_type": "code",
   "execution_count": 6,
   "metadata": {},
   "outputs": [],
   "source": [
    "data_0 = data_0.drop(['id'], axis=1)"
   ]
  },
  {
   "cell_type": "code",
   "execution_count": 7,
   "metadata": {},
   "outputs": [
    {
     "name": "stdout",
     "output_type": "stream",
     "text": [
      "<class 'pandas.core.frame.DataFrame'>\n",
      "RangeIndex: 100000 entries, 0 to 99999\n",
      "Data columns (total 4 columns):\n",
      " #   Column   Non-Null Count   Dtype  \n",
      "---  ------   --------------   -----  \n",
      " 0   f0       100000 non-null  float64\n",
      " 1   f1       100000 non-null  float64\n",
      " 2   f2       100000 non-null  float64\n",
      " 3   product  100000 non-null  float64\n",
      "dtypes: float64(4)\n",
      "memory usage: 3.1 MB\n"
     ]
    }
   ],
   "source": [
    "data_0.info()"
   ]
  },
  {
   "cell_type": "code",
   "execution_count": 8,
   "metadata": {},
   "outputs": [],
   "source": [
    "data_1 = data_1.drop(['id'], axis=1)"
   ]
  },
  {
   "cell_type": "code",
   "execution_count": 9,
   "metadata": {},
   "outputs": [
    {
     "name": "stdout",
     "output_type": "stream",
     "text": [
      "<class 'pandas.core.frame.DataFrame'>\n",
      "RangeIndex: 100000 entries, 0 to 99999\n",
      "Data columns (total 4 columns):\n",
      " #   Column   Non-Null Count   Dtype  \n",
      "---  ------   --------------   -----  \n",
      " 0   f0       100000 non-null  float64\n",
      " 1   f1       100000 non-null  float64\n",
      " 2   f2       100000 non-null  float64\n",
      " 3   product  100000 non-null  float64\n",
      "dtypes: float64(4)\n",
      "memory usage: 3.1 MB\n"
     ]
    }
   ],
   "source": [
    "data_0.info()"
   ]
  },
  {
   "cell_type": "code",
   "execution_count": 10,
   "metadata": {},
   "outputs": [],
   "source": [
    "data_2 = data_2.drop(['id'], axis=1)"
   ]
  },
  {
   "cell_type": "code",
   "execution_count": 11,
   "metadata": {
    "scrolled": true
   },
   "outputs": [
    {
     "name": "stdout",
     "output_type": "stream",
     "text": [
      "<class 'pandas.core.frame.DataFrame'>\n",
      "RangeIndex: 100000 entries, 0 to 99999\n",
      "Data columns (total 4 columns):\n",
      " #   Column   Non-Null Count   Dtype  \n",
      "---  ------   --------------   -----  \n",
      " 0   f0       100000 non-null  float64\n",
      " 1   f1       100000 non-null  float64\n",
      " 2   f2       100000 non-null  float64\n",
      " 3   product  100000 non-null  float64\n",
      "dtypes: float64(4)\n",
      "memory usage: 3.1 MB\n"
     ]
    }
   ],
   "source": [
    "data_0.info()"
   ]
  },
  {
   "cell_type": "markdown",
   "metadata": {},
   "source": [
    "### Вывод"
   ]
  },
  {
   "cell_type": "markdown",
   "metadata": {},
   "source": [
    "После предобработки количество признаков составило 3. Теперь можно приступить к решению задачи."
   ]
  },
  {
   "cell_type": "markdown",
   "metadata": {},
   "source": [
    "## Обучение и проверка модели"
   ]
  },
  {
   "cell_type": "markdown",
   "metadata": {},
   "source": [
    "Поскольку работа происходит с 3мя таблицами, напишем функцию для основных этапов обучения моделей."
   ]
  },
  {
   "cell_type": "code",
   "execution_count": 12,
   "metadata": {},
   "outputs": [],
   "source": [
    "def allin(data_i):\n",
    "    # поделим данные на обучающую и валидационную выборки в соотношении 75:25\n",
    "    data_train, data_valid = train_test_split(data_i, test_size=0.25, random_state=12345) \n",
    "    \n",
    "    # обучающие и валидационные переменные\n",
    "    features_train = data_train.drop(['product'], axis=1) \n",
    "    target_train = data_train['product']\n",
    "    features_valid = data_valid.drop(['product'], axis=1)\n",
    "    target_valid = data_valid['product']\n",
    "    print(f'Размеры тренировочных выборок: {features_train.shape, target_train.shape}.') \n",
    "    print(f'Размеры валидационных выборок: {features_valid.shape, target_valid.shape}.')\n",
    "    print()\n",
    "    \n",
    "    # обучим модель и предскажем объемы запасов\n",
    "    global pred_mean\n",
    "    global RMSE\n",
    "    \n",
    "    model = LinearRegression() \n",
    "    model.fit(features_train, target_train) # обучим модель на обучающей выборке\n",
    "    predictions = model.predict(features_valid) # предскажем ответы \n",
    "    pred_mean = predictions.mean() # посчитаем средний запас предсказанного сырья\n",
    "    RMSE = mean_squared_error(target_valid, predictions)**0.5 # посчитаем RMSE модели\n",
    "    print(f\"Средний запас предсказанного сырья: {pred_mean:.5} тыс.баррелей.\")\n",
    "    print(f\"RMSE модели валидационной выборки:  {RMSE:.5}.\")\n",
    "    return pred_mean, RMSE"
   ]
  },
  {
   "cell_type": "code",
   "execution_count": 13,
   "metadata": {},
   "outputs": [
    {
     "name": "stdout",
     "output_type": "stream",
     "text": [
      "Размеры тренировочных выборок: ((75000, 3), (75000,)).\n",
      "Размеры валидационных выборок: ((25000, 3), (25000,)).\n",
      "\n",
      "Средний запас предсказанного сырья: 92.593 тыс.баррелей.\n",
      "RMSE модели валидационной выборки:  37.579.\n",
      "92.59256778438035 37.5794217150813\n"
     ]
    }
   ],
   "source": [
    "pred_mean_0, RMSE_0 = allin(data_0)\n",
    "print(pred_mean_0, RMSE_0)"
   ]
  },
  {
   "cell_type": "code",
   "execution_count": 14,
   "metadata": {},
   "outputs": [
    {
     "name": "stdout",
     "output_type": "stream",
     "text": [
      "Размеры тренировочных выборок: ((75000, 3), (75000,)).\n",
      "Размеры валидационных выборок: ((25000, 3), (25000,)).\n",
      "\n",
      "Средний запас предсказанного сырья: 68.729 тыс.баррелей.\n",
      "RMSE модели валидационной выборки:  0.8931.\n",
      "68.728546895446 0.893099286775617\n"
     ]
    }
   ],
   "source": [
    "pred_mean_1, RMSE_1 = allin(data_1)\n",
    "print(pred_mean_1, RMSE_1)"
   ]
  },
  {
   "cell_type": "code",
   "execution_count": 15,
   "metadata": {},
   "outputs": [
    {
     "name": "stdout",
     "output_type": "stream",
     "text": [
      "Размеры тренировочных выборок: ((75000, 3), (75000,)).\n",
      "Размеры валидационных выборок: ((25000, 3), (25000,)).\n",
      "\n",
      "Средний запас предсказанного сырья: 94.965 тыс.баррелей.\n",
      "RMSE модели валидационной выборки:  40.03.\n",
      "94.96504596800489 40.02970873393434\n"
     ]
    }
   ],
   "source": [
    "pred_mean_2, RMSE_2 = allin(data_2)\n",
    "print(pred_mean_2, RMSE_2)"
   ]
  },
  {
   "cell_type": "markdown",
   "metadata": {},
   "source": [
    "Применим функию ко всем регионам."
   ]
  },
  {
   "cell_type": "markdown",
   "metadata": {},
   "source": [
    "**Для 1 региона**"
   ]
  },
  {
   "cell_type": "code",
   "execution_count": 16,
   "metadata": {
    "scrolled": false
   },
   "outputs": [
    {
     "name": "stdout",
     "output_type": "stream",
     "text": [
      "Размеры тренировочных выборок: ((75000, 3), (75000,)).\n",
      "Размеры валидационных выборок: ((25000, 3), (25000,)).\n",
      "\n",
      "Средний запас предсказанного сырья: 92.593 тыс.баррелей.\n",
      "RMSE модели валидационной выборки:  37.579.\n"
     ]
    }
   ],
   "source": [
    "reg_0 = allin(data_0)"
   ]
  },
  {
   "cell_type": "markdown",
   "metadata": {},
   "source": [
    "**Для 2 региона**"
   ]
  },
  {
   "cell_type": "code",
   "execution_count": 17,
   "metadata": {},
   "outputs": [
    {
     "name": "stdout",
     "output_type": "stream",
     "text": [
      "Размеры тренировочных выборок: ((75000, 3), (75000,)).\n",
      "Размеры валидационных выборок: ((25000, 3), (25000,)).\n",
      "\n",
      "Средний запас предсказанного сырья: 68.729 тыс.баррелей.\n",
      "RMSE модели валидационной выборки:  0.8931.\n"
     ]
    }
   ],
   "source": [
    "reg_1 = allin(data_1)"
   ]
  },
  {
   "cell_type": "markdown",
   "metadata": {},
   "source": [
    "**Для 3 региона**"
   ]
  },
  {
   "cell_type": "code",
   "execution_count": 18,
   "metadata": {},
   "outputs": [
    {
     "name": "stdout",
     "output_type": "stream",
     "text": [
      "Размеры тренировочных выборок: ((75000, 3), (75000,)).\n",
      "Размеры валидационных выборок: ((25000, 3), (25000,)).\n",
      "\n",
      "Средний запас предсказанного сырья: 94.965 тыс.баррелей.\n",
      "RMSE модели валидационной выборки:  40.03.\n"
     ]
    }
   ],
   "source": [
    "reg_2 = allin(data_2)"
   ]
  },
  {
   "cell_type": "markdown",
   "metadata": {},
   "source": [
    "### Вывод"
   ]
  },
  {
   "cell_type": "markdown",
   "metadata": {},
   "source": [
    "В результате обучения модели и предсказания объемов запасов выявили \"победителя\" среднего объема запаса в каждом регионе. Им оказался 3 регион, затем идет 1 регион, а замыкает тройку 2 регион.\n",
    "\n",
    "По показателю RMSE картина ровно противоположная. Выигрывает 2 регион, затем 3 регион, замыкает 3 регион. \n"
   ]
  },
  {
   "cell_type": "code",
   "execution_count": 19,
   "metadata": {
    "scrolled": true
   },
   "outputs": [
    {
     "data": {
      "text/html": [
       "<div>\n",
       "<style scoped>\n",
       "    .dataframe tbody tr th:only-of-type {\n",
       "        vertical-align: middle;\n",
       "    }\n",
       "\n",
       "    .dataframe tbody tr th {\n",
       "        vertical-align: top;\n",
       "    }\n",
       "\n",
       "    .dataframe thead th {\n",
       "        text-align: right;\n",
       "    }\n",
       "</style>\n",
       "<table border=\"1\" class=\"dataframe\">\n",
       "  <thead>\n",
       "    <tr style=\"text-align: right;\">\n",
       "      <th></th>\n",
       "      <th>Средний запас предсказанного сырья (тыс.баррелей)</th>\n",
       "      <th>RMSE</th>\n",
       "    </tr>\n",
       "  </thead>\n",
       "  <tbody>\n",
       "    <tr>\n",
       "      <th>1 регион</th>\n",
       "      <td>92.593</td>\n",
       "      <td>37.579</td>\n",
       "    </tr>\n",
       "    <tr>\n",
       "      <th>2 регион</th>\n",
       "      <td>68.729</td>\n",
       "      <td>0.8931</td>\n",
       "    </tr>\n",
       "    <tr>\n",
       "      <th>3 регион</th>\n",
       "      <td>94.965</td>\n",
       "      <td>40.03</td>\n",
       "    </tr>\n",
       "  </tbody>\n",
       "</table>\n",
       "</div>"
      ],
      "text/plain": [
       "         Средний запас предсказанного сырья (тыс.баррелей)    RMSE\n",
       "1 регион                                            92.593  37.579\n",
       "2 регион                                            68.729  0.8931\n",
       "3 регион                                            94.965   40.03"
      ]
     },
     "execution_count": 19,
     "metadata": {},
     "output_type": "execute_result"
    }
   ],
   "source": [
    "pd.DataFrame({'Средний запас предсказанного сырья (тыс.баррелей)': [f'{pred_mean_0:.5}', f'{pred_mean_1:.5}', f'{pred_mean_2:.5}']\n",
    "              , 'RMSE': [f'{RMSE_0:.5}', f'{RMSE_1:.5}', f'{RMSE_2:.5}']}\n",
    "             , index=['1 регион', '2 регион', '3 регион'])"
   ]
  },
  {
   "cell_type": "markdown",
   "metadata": {},
   "source": [
    "## Подготовка к расчёту прибыли"
   ]
  },
  {
   "cell_type": "markdown",
   "metadata": {},
   "source": [
    "Рассчитаем достаточный объём сырья для безубыточной разработки новой скважины."
   ]
  },
  {
   "cell_type": "code",
   "execution_count": 20,
   "metadata": {},
   "outputs": [
    {
     "name": "stdout",
     "output_type": "stream",
     "text": [
      "Объем сырья для безубыточной разработки новой скважины:                 111.11 тыс.баррелей.\n",
      "Разница безубыточного и среднепредсказанного объема сырья в 1 регионе:  -18.519 тыс.баррелей.\n",
      "Разница безубыточного и среднепредсказанного объема сырья во 2 регионе: -42.383 тыс.баррелей.\n",
      "Разница безубыточного и среднепредсказанного объема сырья в 3 регионе:  -16.146 тыс.баррелей.\n"
     ]
    }
   ],
   "source": [
    "BUDJET = 10000000000 # бюджет на разработку скважин в регионе\n",
    "COUNT_OF_WALLS = 200 # 200 лучших точек для разработки\n",
    "REV_PER_1000_BAR = 450000 # Доход с каждой единицы продукта (с тыс.бар.)\n",
    "# считаем сумму для разработки одной точки\n",
    "ratio_budget_count_of_walls = BUDJET/COUNT_OF_WALLS\n",
    "# считаем объем сырья для безубыточной разработки новой скважины\n",
    "count_bar = ratio_budget_count_of_walls/REV_PER_1000_BAR\n",
    "\n",
    "print(f\"Объем сырья для безубыточной разработки новой скважины:                 {count_bar:.5} тыс.баррелей.\")\n",
    "\n",
    "print(f'Разница безубыточного и среднепредсказанного объема сырья в 1 регионе:  {pred_mean_0-count_bar:.5} тыс.баррелей.')\n",
    "print(f'Разница безубыточного и среднепредсказанного объема сырья во 2 регионе: {pred_mean_1-count_bar:.5} тыс.баррелей.')\n",
    "print(f'Разница безубыточного и среднепредсказанного объема сырья в 3 регионе:  {pred_mean_2-count_bar:.5} тыс.баррелей.')"
   ]
  },
  {
   "cell_type": "markdown",
   "metadata": {},
   "source": [
    "### Вывод"
   ]
  },
  {
   "cell_type": "markdown",
   "metadata": {},
   "source": [
    "При расчете прибыли получили 111 тыс.бар. - это объем сырья для безубыточной разработки новой скважины. Самым убыточным получается 2 регион, затем 1 регион, и относительно менее убыточным по объему сырья получили в 3 регионе."
   ]
  },
  {
   "cell_type": "markdown",
   "metadata": {},
   "source": [
    "## Расчёт прибыли и рисков "
   ]
  },
  {
   "cell_type": "markdown",
   "metadata": {},
   "source": [
    "Напишем функцию расчета прибыли по выбранным скважинам и предсказаниям модели."
   ]
  },
  {
   "cell_type": "code",
   "execution_count": 23,
   "metadata": {},
   "outputs": [
    {
     "ename": "NameError",
     "evalue": "name 'predictions_0' is not defined",
     "output_type": "error",
     "traceback": [
      "\u001b[0;31m---------------------------------------------------------------------------\u001b[0m",
      "\u001b[0;31mNameError\u001b[0m                                 Traceback (most recent call last)",
      "\u001b[0;32m/tmp/ipykernel_78/2774541612.py\u001b[0m in \u001b[0;36m<module>\u001b[0;34m\u001b[0m\n\u001b[1;32m      7\u001b[0m     \u001b[0;32mreturn\u001b[0m \u001b[0mprofit\u001b[0m\u001b[0;34m\u001b[0m\u001b[0;34m\u001b[0m\u001b[0m\n\u001b[1;32m      8\u001b[0m \u001b[0;31m# считаем прибыль в 1 регионе\u001b[0m\u001b[0;34m\u001b[0m\u001b[0;34m\u001b[0m\u001b[0;34m\u001b[0m\u001b[0m\n\u001b[0;32m----> 9\u001b[0;31m \u001b[0mdata_0_valid\u001b[0m\u001b[0;34m[\u001b[0m\u001b[0;34m'predictions'\u001b[0m\u001b[0;34m]\u001b[0m \u001b[0;34m=\u001b[0m \u001b[0mpredictions_0\u001b[0m\u001b[0;34m\u001b[0m\u001b[0;34m\u001b[0m\u001b[0m\n\u001b[0m\u001b[1;32m     10\u001b[0m \u001b[0mprofit_0\u001b[0m \u001b[0;34m=\u001b[0m \u001b[0mprofit\u001b[0m\u001b[0;34m(\u001b[0m\u001b[0mdata_0_valid\u001b[0m\u001b[0;34m[\u001b[0m\u001b[0;34m'product'\u001b[0m\u001b[0;34m]\u001b[0m\u001b[0;34m,\u001b[0m \u001b[0mdata_0_valid\u001b[0m\u001b[0;34m[\u001b[0m\u001b[0;34m'predictions'\u001b[0m\u001b[0;34m]\u001b[0m\u001b[0;34m,\u001b[0m \u001b[0;36m200\u001b[0m\u001b[0;34m)\u001b[0m\u001b[0;34m\u001b[0m\u001b[0;34m\u001b[0m\u001b[0m\n\u001b[1;32m     11\u001b[0m \u001b[0mprint\u001b[0m\u001b[0;34m(\u001b[0m\u001b[0;34mf\"Прибыль в 1 регионе от 200 топовых скважин:  {profit_0/10**6:.6} млн.\"\u001b[0m\u001b[0;34m)\u001b[0m\u001b[0;34m\u001b[0m\u001b[0;34m\u001b[0m\u001b[0m\n",
      "\u001b[0;31mNameError\u001b[0m: name 'predictions_0' is not defined"
     ]
    }
   ],
   "source": [
    "def profit(target, predictions, count):\n",
    "    profit = 0 # переменная для суммирования прибыли \n",
    "    pr = predictions.sort_values(ascending=False) # сортируем предсказанные объемы сырья \n",
    "    selected = target[pr.index][:count] # выбираем ответы объемов сырья в соответствии \n",
    "                                        # с индексами предсказаний\n",
    "    profit += (sum(selected)-count*count_bar)*450000 # считаем прибыль \n",
    "    return profit\n",
    "# считаем прибыль в 1 регионе\n",
    "data_0_valid['predictions'] = predictions_0\n",
    "profit_0 = profit(data_0_valid['product'], data_0_valid['predictions'], 200)\n",
    "print(f\"Прибыль в 1 регионе от 200 топовых скважин:  {profit_0/10**6:.6} млн.\")\n",
    "# считаем прибыль во 2 регионе\n",
    "data_1_valid['predictions'] = predictions_1\n",
    "profit_1 = profit(data_1_valid['product'], data_1_valid['predictions'], 200)\n",
    "print(f\"Прибыль во 2 регионе от 200 топовых скважин: {profit_1/10**6:.6} млн.\")\n",
    "# считаем прибыль в 3 регионе\n",
    "data_2_valid['predictions'] = predictions_2\n",
    "profit_2 = profit(data_2_valid['product'], data_2_valid['predictions'], 200)\n",
    "print(f\"Прибыль в 3 регионе от 200 топовых скважин:  {profit_2/10**6:.6} млн.\")"
   ]
  },
  {
   "cell_type": "markdown",
   "metadata": {},
   "source": [
    "**Посчитаем риски и прибыль для каждого региона**"
   ]
  },
  {
   "cell_type": "markdown",
   "metadata": {},
   "source": [
    "Посчитаем распределение прибыли техникой **Bootstrap** и оценки рисков. "
   ]
  },
  {
   "cell_type": "code",
   "execution_count": null,
   "metadata": {},
   "outputs": [],
   "source": [
    "def boots (target, predictions):\n",
    "    state = np.random.RandomState(12345) # создаем объект RandomState()\n",
    "    values = [] # сохраним значения прибылей в переменной values\n",
    "    for i in range(1000): # создаем 1000 подвыборок\n",
    "        target_subsample = target.sample(n=500, replace=True, random_state=state) # создаем подвыборокb\n",
    "        pred_subsample = predictions[target_subsample.index] # выбираем предсказанные объемы сырья \n",
    "                                                             # в соответствии с индексами созданных подвыборок        \n",
    "        values.append(profit(target_subsample, pred_subsample, 200)) # заполяем переменную values\n",
    "        \n",
    "    values = pd.Series(values)\n",
    "    lower = values.quantile(0.025)\n",
    "    higher = values.quantile(0.975)\n",
    "    \n",
    "    print(f'Вероятность убытков составляет                               {stats.percentileofscore(values, 0)} %.')\n",
    "    print(f\"Средняя прибыль составляет                                   {values.mean()/10**6:.5} млн.\")\n",
    "    print(f\"Верхняя и нижняя граница доверительного интервала составляет {higher/10**6:.5} и {lower/10**6:.5} млн. соответственно.\")\n",
    "    print(\"\")\n",
    "    \n",
    "print('\\033[1m' + 'Для 1 региона' + '\\033[0m')\n",
    "boots(data_0_valid['product'], data_0_valid['predictions'])\n",
    "print(\"\")\n",
    "print('\\033[1m' + 'Для 2 региона' + '\\033[0m')\n",
    "boots(data_1_valid['product'], data_1_valid['predictions'])\n",
    "print(\"\")\n",
    "print('\\033[1m' + 'Для 3 региона' + '\\033[0m')\n",
    "boots(data_2_valid['product'], data_2_valid['predictions'])"
   ]
  },
  {
   "cell_type": "markdown",
   "metadata": {},
   "source": [
    "## Вывод"
   ]
  },
  {
   "cell_type": "markdown",
   "metadata": {},
   "source": [
    "Итоги выполненной работы:\n",
    "\n",
    "* средний объем запаса больше всего в 3 регоине, затем в 1 и замыкает 2 сильноотстающий регион. Но по метрике RMSE лучшее качество у модели для 2 региона, а остальные два сильно хуже считает.\n",
    "\n",
    "* 111 тыс.бар. - объем сырья для безубыточной разработки новой скважины. Наиболее убыточным оказался 2 регион, затем 1 регион, и относительно менее убыточный по объему сырья 3 регион.\n",
    "\n",
    "* самым прибыльным регионом по 200 топовым скважинам оказался 1 регион, затем 3 и замыкающий 2 регион.\n",
    "\n",
    "Исходя из последних расчетов получаем оптимальный вариант для разработки скважин во 2 регоине. Это показывает и вероятность убытков в 1% при условии максимального 2.5%, и средняя прибыль. По прибыльности 200 топовых скважин и объему запаса 2 регион уступает другим регионам. \n",
    "\n",
    "Подытожим. Несмотря на худшие позиции по объему запаса и прибыльности для топовых скважин, по метрике RMSE, вероятности убытков и средней прибыли перевешивает другие регионы по этим позициям, поэтому лучшим регионом для разработки скважин является 2 регион. \n",
    "\n"
   ]
  }
 ],
 "metadata": {
  "ExecuteTimeLog": [
   {
    "duration": 1281,
    "start_time": "2022-04-28T03:46:21.856Z"
   },
   {
    "duration": 3,
    "start_time": "2022-04-28T03:47:42.304Z"
   },
   {
    "duration": 146,
    "start_time": "2022-04-28T03:49:54.024Z"
   },
   {
    "duration": 198,
    "start_time": "2022-04-28T03:49:55.028Z"
   },
   {
    "duration": 131,
    "start_time": "2022-04-28T03:49:55.327Z"
   },
   {
    "duration": 147,
    "start_time": "2022-04-28T03:50:10.652Z"
   },
   {
    "duration": 141,
    "start_time": "2022-04-28T03:50:13.512Z"
   },
   {
    "duration": 140,
    "start_time": "2022-04-28T03:59:50.593Z"
   },
   {
    "duration": 116,
    "start_time": "2022-04-28T04:00:02.572Z"
   },
   {
    "duration": 131,
    "start_time": "2022-04-28T04:00:31.276Z"
   },
   {
    "duration": 193,
    "start_time": "2022-04-28T04:00:37.201Z"
   },
   {
    "duration": 972,
    "start_time": "2022-04-28T04:00:47.491Z"
   },
   {
    "duration": 164,
    "start_time": "2022-04-28T04:00:57.069Z"
   },
   {
    "duration": 132,
    "start_time": "2022-04-28T04:01:03.001Z"
   },
   {
    "duration": 3,
    "start_time": "2022-04-28T04:01:22.377Z"
   },
   {
    "duration": 197,
    "start_time": "2022-04-28T04:01:25.218Z"
   },
   {
    "duration": 176,
    "start_time": "2022-04-28T04:03:20.140Z"
   },
   {
    "duration": 3138,
    "start_time": "2022-04-28T04:03:46.714Z"
   },
   {
    "duration": 3133,
    "start_time": "2022-04-28T04:03:54.264Z"
   },
   {
    "duration": 140,
    "start_time": "2022-04-28T04:04:49.543Z"
   },
   {
    "duration": 203,
    "start_time": "2022-04-28T04:10:10.285Z"
   },
   {
    "duration": 340,
    "start_time": "2022-04-28T04:11:46.730Z"
   },
   {
    "duration": 361,
    "start_time": "2022-04-28T04:12:34.636Z"
   },
   {
    "duration": 503,
    "start_time": "2022-04-28T04:13:08.903Z"
   },
   {
    "duration": 457,
    "start_time": "2022-04-28T04:13:57.013Z"
   },
   {
    "duration": 477,
    "start_time": "2022-04-28T04:14:30.883Z"
   },
   {
    "duration": 460,
    "start_time": "2022-04-28T04:14:46.554Z"
   },
   {
    "duration": 517,
    "start_time": "2022-04-28T04:15:01.814Z"
   },
   {
    "duration": 528,
    "start_time": "2022-04-28T04:15:17.499Z"
   },
   {
    "duration": 199,
    "start_time": "2022-04-28T04:15:27.866Z"
   },
   {
    "duration": 501,
    "start_time": "2022-04-28T04:15:39.175Z"
   },
   {
    "duration": 499,
    "start_time": "2022-04-28T04:15:51.723Z"
   },
   {
    "duration": 538,
    "start_time": "2022-04-28T04:16:18.339Z"
   },
   {
    "duration": 348,
    "start_time": "2022-04-28T04:16:46.644Z"
   },
   {
    "duration": 944,
    "start_time": "2022-04-28T04:17:10.521Z"
   },
   {
    "duration": 53,
    "start_time": "2022-04-28T17:10:08.106Z"
   },
   {
    "duration": 1110,
    "start_time": "2022-04-28T17:10:10.927Z"
   },
   {
    "duration": 366,
    "start_time": "2022-04-28T17:10:12.039Z"
   },
   {
    "duration": 194,
    "start_time": "2022-04-28T17:10:46.595Z"
   },
   {
    "duration": 165,
    "start_time": "2022-04-28T17:11:21.494Z"
   },
   {
    "duration": 364,
    "start_time": "2022-04-28T17:17:53.239Z"
   },
   {
    "duration": 175,
    "start_time": "2022-04-28T17:17:58.304Z"
   },
   {
    "duration": 357,
    "start_time": "2022-04-28T17:18:20.924Z"
   },
   {
    "duration": 205,
    "start_time": "2022-04-28T17:18:21.650Z"
   },
   {
    "duration": 356,
    "start_time": "2022-04-28T17:18:40.313Z"
   },
   {
    "duration": 207,
    "start_time": "2022-04-28T17:18:40.721Z"
   },
   {
    "duration": 372,
    "start_time": "2022-04-28T17:20:36.195Z"
   },
   {
    "duration": 200,
    "start_time": "2022-04-28T17:20:39.378Z"
   },
   {
    "duration": 363,
    "start_time": "2022-04-28T17:20:59.030Z"
   },
   {
    "duration": 197,
    "start_time": "2022-04-28T17:20:59.395Z"
   },
   {
    "duration": 359,
    "start_time": "2022-04-28T17:22:56.180Z"
   },
   {
    "duration": 172,
    "start_time": "2022-04-28T17:22:56.814Z"
   },
   {
    "duration": 365,
    "start_time": "2022-04-28T17:24:40.275Z"
   },
   {
    "duration": 217,
    "start_time": "2022-04-28T17:24:40.642Z"
   },
   {
    "duration": 361,
    "start_time": "2022-04-28T17:25:16.792Z"
   },
   {
    "duration": 211,
    "start_time": "2022-04-28T17:25:17.374Z"
   },
   {
    "duration": 351,
    "start_time": "2022-04-28T17:25:58.152Z"
   },
   {
    "duration": 184,
    "start_time": "2022-04-28T17:25:59.338Z"
   },
   {
    "duration": 194,
    "start_time": "2022-04-28T17:26:23.604Z"
   },
   {
    "duration": 181,
    "start_time": "2022-04-28T17:26:26.194Z"
   },
   {
    "duration": 18,
    "start_time": "2022-04-28T17:27:18.498Z"
   },
   {
    "duration": 359,
    "start_time": "2022-04-28T17:28:10.743Z"
   },
   {
    "duration": 147,
    "start_time": "2022-04-28T17:28:11.728Z"
   },
   {
    "duration": 137,
    "start_time": "2022-04-28T17:28:12.301Z"
   },
   {
    "duration": 162,
    "start_time": "2022-04-28T17:28:12.675Z"
   },
   {
    "duration": 351,
    "start_time": "2022-04-28T17:34:17.481Z"
   },
   {
    "duration": 179,
    "start_time": "2022-04-28T17:34:18.169Z"
   },
   {
    "duration": 189,
    "start_time": "2022-04-28T17:34:18.671Z"
   },
   {
    "duration": 187,
    "start_time": "2022-04-28T17:34:19.044Z"
   },
   {
    "duration": 56,
    "start_time": "2022-04-28T18:36:46.908Z"
   },
   {
    "duration": 60,
    "start_time": "2022-04-28T18:37:14.781Z"
   },
   {
    "duration": 11,
    "start_time": "2022-04-28T18:37:45.323Z"
   },
   {
    "duration": 8,
    "start_time": "2022-04-28T18:38:28.881Z"
   },
   {
    "duration": 4,
    "start_time": "2022-04-28T18:39:43.234Z"
   },
   {
    "duration": 1143,
    "start_time": "2022-04-28T18:39:44.964Z"
   },
   {
    "duration": 368,
    "start_time": "2022-04-28T18:39:46.109Z"
   },
   {
    "duration": 219,
    "start_time": "2022-04-28T18:39:46.478Z"
   },
   {
    "duration": 213,
    "start_time": "2022-04-28T18:39:46.699Z"
   },
   {
    "duration": 221,
    "start_time": "2022-04-28T18:39:46.913Z"
   },
   {
    "duration": 75,
    "start_time": "2022-04-28T18:39:47.136Z"
   },
   {
    "duration": 4,
    "start_time": "2022-04-28T18:39:47.212Z"
   },
   {
    "duration": 5,
    "start_time": "2022-04-28T18:40:24.905Z"
   },
   {
    "duration": 5,
    "start_time": "2022-04-28T18:40:44.816Z"
   },
   {
    "duration": 22,
    "start_time": "2022-04-28T19:08:08.512Z"
   },
   {
    "duration": 16,
    "start_time": "2022-04-28T19:08:45.214Z"
   },
   {
    "duration": 15,
    "start_time": "2022-04-28T19:23:36.356Z"
   },
   {
    "duration": 16,
    "start_time": "2022-04-28T19:23:50.408Z"
   },
   {
    "duration": 15,
    "start_time": "2022-04-28T19:23:54.849Z"
   },
   {
    "duration": 16,
    "start_time": "2022-04-28T19:24:10.701Z"
   },
   {
    "duration": 16,
    "start_time": "2022-04-28T19:24:13.883Z"
   },
   {
    "duration": 17,
    "start_time": "2022-04-28T19:24:17.427Z"
   },
   {
    "duration": 15,
    "start_time": "2022-04-28T19:24:24.757Z"
   },
   {
    "duration": 14,
    "start_time": "2022-04-28T19:24:56.070Z"
   },
   {
    "duration": 16,
    "start_time": "2022-04-28T19:42:45.034Z"
   },
   {
    "duration": 233,
    "start_time": "2022-04-28T19:42:47.614Z"
   },
   {
    "duration": 22,
    "start_time": "2022-04-28T19:42:53.771Z"
   },
   {
    "duration": 14,
    "start_time": "2022-04-28T19:43:03.127Z"
   },
   {
    "duration": 600,
    "start_time": "2022-04-28T19:43:31.479Z"
   },
   {
    "duration": 130,
    "start_time": "2022-04-28T19:43:57.505Z"
   },
   {
    "duration": 223,
    "start_time": "2022-04-28T19:44:02.919Z"
   },
   {
    "duration": 166,
    "start_time": "2022-04-28T19:44:08.460Z"
   },
   {
    "duration": 19,
    "start_time": "2022-04-28T19:46:10.898Z"
   },
   {
    "duration": 1341,
    "start_time": "2022-04-28T19:46:18.729Z"
   },
   {
    "duration": 335,
    "start_time": "2022-04-28T19:46:20.072Z"
   },
   {
    "duration": 183,
    "start_time": "2022-04-28T19:46:20.409Z"
   },
   {
    "duration": 184,
    "start_time": "2022-04-28T19:46:20.593Z"
   },
   {
    "duration": 183,
    "start_time": "2022-04-28T19:46:20.779Z"
   },
   {
    "duration": 69,
    "start_time": "2022-04-28T19:46:20.963Z"
   },
   {
    "duration": 6,
    "start_time": "2022-04-28T19:46:21.035Z"
   },
   {
    "duration": 41,
    "start_time": "2022-04-28T19:46:21.043Z"
   },
   {
    "duration": 97,
    "start_time": "2022-04-28T19:46:21.086Z"
   },
   {
    "duration": 112,
    "start_time": "2022-04-28T19:46:21.274Z"
   },
   {
    "duration": 2340,
    "start_time": "2022-04-28T19:46:21.389Z"
   },
   {
    "duration": 2127,
    "start_time": "2022-04-28T19:47:18.748Z"
   },
   {
    "duration": 208,
    "start_time": "2022-04-28T19:48:43.581Z"
   },
   {
    "duration": 2065,
    "start_time": "2022-04-28T19:48:56.863Z"
   },
   {
    "duration": 20,
    "start_time": "2022-04-28T20:00:19.586Z"
   },
   {
    "duration": 16,
    "start_time": "2022-04-28T20:00:55.156Z"
   },
   {
    "duration": 16,
    "start_time": "2022-04-28T20:00:55.794Z"
   },
   {
    "duration": 5,
    "start_time": "2022-04-28T20:17:46.073Z"
   },
   {
    "duration": 5,
    "start_time": "2022-04-28T20:22:58.209Z"
   },
   {
    "duration": 6,
    "start_time": "2022-04-28T20:23:14.118Z"
   },
   {
    "duration": 5,
    "start_time": "2022-04-28T20:23:24.019Z"
   },
   {
    "duration": 5,
    "start_time": "2022-04-28T20:31:50.641Z"
   },
   {
    "duration": 1664,
    "start_time": "2022-04-29T18:27:07.066Z"
   },
   {
    "duration": 340,
    "start_time": "2022-04-29T18:27:08.732Z"
   },
   {
    "duration": 180,
    "start_time": "2022-04-29T18:27:09.073Z"
   },
   {
    "duration": 175,
    "start_time": "2022-04-29T18:27:09.254Z"
   },
   {
    "duration": 170,
    "start_time": "2022-04-29T18:27:09.431Z"
   },
   {
    "duration": 51,
    "start_time": "2022-04-29T18:27:09.603Z"
   },
   {
    "duration": 5,
    "start_time": "2022-04-29T18:27:09.656Z"
   },
   {
    "duration": 135,
    "start_time": "2022-04-29T18:27:09.663Z"
   },
   {
    "duration": 193,
    "start_time": "2022-04-29T18:27:09.800Z"
   },
   {
    "duration": 106,
    "start_time": "2022-04-29T18:27:09.995Z"
   },
   {
    "duration": 91,
    "start_time": "2022-04-29T18:27:10.103Z"
   },
   {
    "duration": 5,
    "start_time": "2022-04-29T18:36:15.543Z"
   },
   {
    "duration": 5,
    "start_time": "2022-04-29T18:38:06.908Z"
   },
   {
    "duration": 6,
    "start_time": "2022-04-29T18:38:34.312Z"
   },
   {
    "duration": 6,
    "start_time": "2022-04-29T18:38:53.649Z"
   },
   {
    "duration": 107,
    "start_time": "2022-04-29T20:00:04.055Z"
   },
   {
    "duration": 2030,
    "start_time": "2022-04-29T20:00:18.087Z"
   },
   {
    "duration": 381,
    "start_time": "2022-04-29T20:00:20.119Z"
   },
   {
    "duration": 214,
    "start_time": "2022-04-29T20:00:20.503Z"
   },
   {
    "duration": 221,
    "start_time": "2022-04-29T20:00:20.719Z"
   },
   {
    "duration": 265,
    "start_time": "2022-04-29T20:00:20.944Z"
   },
   {
    "duration": 59,
    "start_time": "2022-04-29T20:00:21.211Z"
   },
   {
    "duration": 6,
    "start_time": "2022-04-29T20:00:21.272Z"
   },
   {
    "duration": 286,
    "start_time": "2022-04-29T20:00:21.293Z"
   },
   {
    "duration": 0,
    "start_time": "2022-04-29T20:00:21.593Z"
   },
   {
    "duration": 0,
    "start_time": "2022-04-29T20:00:21.594Z"
   },
   {
    "duration": 0,
    "start_time": "2022-04-29T20:00:21.596Z"
   },
   {
    "duration": 0,
    "start_time": "2022-04-29T20:00:21.597Z"
   },
   {
    "duration": 1471,
    "start_time": "2022-04-29T20:01:07.603Z"
   },
   {
    "duration": 350,
    "start_time": "2022-04-29T20:01:09.076Z"
   },
   {
    "duration": 182,
    "start_time": "2022-04-29T20:01:09.428Z"
   },
   {
    "duration": 184,
    "start_time": "2022-04-29T20:01:09.612Z"
   },
   {
    "duration": 182,
    "start_time": "2022-04-29T20:01:09.798Z"
   },
   {
    "duration": 66,
    "start_time": "2022-04-29T20:01:09.982Z"
   },
   {
    "duration": 6,
    "start_time": "2022-04-29T20:01:10.049Z"
   },
   {
    "duration": 45,
    "start_time": "2022-04-29T20:01:10.057Z"
   },
   {
    "duration": 108,
    "start_time": "2022-04-29T20:01:10.195Z"
   },
   {
    "duration": 185,
    "start_time": "2022-04-29T20:01:10.309Z"
   },
   {
    "duration": 96,
    "start_time": "2022-04-29T20:01:10.496Z"
   },
   {
    "duration": 117,
    "start_time": "2022-04-29T20:01:10.594Z"
   },
   {
    "duration": 14,
    "start_time": "2022-04-29T20:01:43.792Z"
   },
   {
    "duration": 15,
    "start_time": "2022-04-29T20:02:14.118Z"
   },
   {
    "duration": 19,
    "start_time": "2022-04-29T20:03:45.258Z"
   },
   {
    "duration": 20,
    "start_time": "2022-04-29T20:04:27.917Z"
   },
   {
    "duration": 1463,
    "start_time": "2022-04-29T20:05:46.476Z"
   },
   {
    "duration": 354,
    "start_time": "2022-04-29T20:05:47.941Z"
   },
   {
    "duration": 185,
    "start_time": "2022-04-29T20:05:48.297Z"
   },
   {
    "duration": 174,
    "start_time": "2022-04-29T20:05:48.493Z"
   },
   {
    "duration": 172,
    "start_time": "2022-04-29T20:05:48.668Z"
   },
   {
    "duration": 60,
    "start_time": "2022-04-29T20:05:48.842Z"
   },
   {
    "duration": 5,
    "start_time": "2022-04-29T20:05:48.903Z"
   },
   {
    "duration": 16,
    "start_time": "2022-04-29T20:05:48.910Z"
   },
   {
    "duration": 104,
    "start_time": "2022-04-29T20:05:48.992Z"
   },
   {
    "duration": 295,
    "start_time": "2022-04-29T20:05:49.099Z"
   },
   {
    "duration": 97,
    "start_time": "2022-04-29T20:05:49.396Z"
   },
   {
    "duration": 129,
    "start_time": "2022-04-29T20:05:49.495Z"
   },
   {
    "duration": 20,
    "start_time": "2022-04-29T20:07:00.814Z"
   },
   {
    "duration": 21,
    "start_time": "2022-04-29T20:07:45.218Z"
   },
   {
    "duration": 22,
    "start_time": "2022-04-29T20:08:04.124Z"
   },
   {
    "duration": 20,
    "start_time": "2022-04-29T20:08:26.858Z"
   },
   {
    "duration": 1580,
    "start_time": "2022-04-30T06:36:04.785Z"
   },
   {
    "duration": 344,
    "start_time": "2022-04-30T06:36:06.367Z"
   },
   {
    "duration": 184,
    "start_time": "2022-04-30T06:36:06.712Z"
   },
   {
    "duration": 188,
    "start_time": "2022-04-30T06:36:06.898Z"
   },
   {
    "duration": 195,
    "start_time": "2022-04-30T06:36:07.088Z"
   },
   {
    "duration": 58,
    "start_time": "2022-04-30T06:36:07.285Z"
   },
   {
    "duration": 6,
    "start_time": "2022-04-30T06:36:07.345Z"
   },
   {
    "duration": 121,
    "start_time": "2022-04-30T06:36:07.353Z"
   },
   {
    "duration": 110,
    "start_time": "2022-04-30T06:36:07.476Z"
   },
   {
    "duration": 188,
    "start_time": "2022-04-30T06:36:07.589Z"
   },
   {
    "duration": 114,
    "start_time": "2022-04-30T06:36:07.779Z"
   },
   {
    "duration": 23,
    "start_time": "2022-04-30T06:36:07.974Z"
   },
   {
    "duration": 22,
    "start_time": "2022-04-30T06:42:40.036Z"
   },
   {
    "duration": 21,
    "start_time": "2022-04-30T06:42:54.597Z"
   },
   {
    "duration": 21,
    "start_time": "2022-04-30T06:43:00.468Z"
   },
   {
    "duration": 21,
    "start_time": "2022-04-30T06:43:06.129Z"
   },
   {
    "duration": 23,
    "start_time": "2022-04-30T06:43:16.901Z"
   },
   {
    "duration": 22,
    "start_time": "2022-04-30T06:43:22.002Z"
   },
   {
    "duration": 21,
    "start_time": "2022-04-30T06:43:46.937Z"
   },
   {
    "duration": 21,
    "start_time": "2022-04-30T06:43:57.574Z"
   },
   {
    "duration": 22,
    "start_time": "2022-04-30T06:44:07.999Z"
   },
   {
    "duration": 28,
    "start_time": "2022-04-30T06:47:49.183Z"
   },
   {
    "duration": 3,
    "start_time": "2022-04-30T06:53:59.027Z"
   },
   {
    "duration": 4,
    "start_time": "2022-04-30T06:54:15.749Z"
   },
   {
    "duration": 7,
    "start_time": "2022-04-30T06:58:29.194Z"
   },
   {
    "duration": 8,
    "start_time": "2022-04-30T06:58:30.581Z"
   },
   {
    "duration": 6,
    "start_time": "2022-04-30T06:58:41.581Z"
   },
   {
    "duration": 5,
    "start_time": "2022-04-30T07:02:51.222Z"
   },
   {
    "duration": 8,
    "start_time": "2022-04-30T07:03:08.618Z"
   },
   {
    "duration": 10,
    "start_time": "2022-04-30T07:03:59.060Z"
   },
   {
    "duration": 1352,
    "start_time": "2022-04-30T07:04:46.812Z"
   },
   {
    "duration": 359,
    "start_time": "2022-04-30T07:04:48.166Z"
   },
   {
    "duration": 188,
    "start_time": "2022-04-30T07:04:48.527Z"
   },
   {
    "duration": 190,
    "start_time": "2022-04-30T07:04:48.717Z"
   },
   {
    "duration": 202,
    "start_time": "2022-04-30T07:04:48.909Z"
   },
   {
    "duration": 71,
    "start_time": "2022-04-30T07:04:49.113Z"
   },
   {
    "duration": 5,
    "start_time": "2022-04-30T07:04:49.186Z"
   },
   {
    "duration": 84,
    "start_time": "2022-04-30T07:04:49.193Z"
   },
   {
    "duration": 106,
    "start_time": "2022-04-30T07:04:49.279Z"
   },
   {
    "duration": 187,
    "start_time": "2022-04-30T07:04:49.389Z"
   },
   {
    "duration": 94,
    "start_time": "2022-04-30T07:04:49.580Z"
   },
   {
    "duration": 10,
    "start_time": "2022-04-30T07:04:49.676Z"
   },
   {
    "duration": 15,
    "start_time": "2022-04-30T07:04:49.688Z"
   },
   {
    "duration": 7,
    "start_time": "2022-04-30T07:05:50.004Z"
   },
   {
    "duration": 7,
    "start_time": "2022-04-30T07:06:27.388Z"
   },
   {
    "duration": 1339,
    "start_time": "2022-04-30T07:06:34.626Z"
   },
   {
    "duration": 352,
    "start_time": "2022-04-30T07:06:35.967Z"
   },
   {
    "duration": 206,
    "start_time": "2022-04-30T07:06:36.321Z"
   },
   {
    "duration": 212,
    "start_time": "2022-04-30T07:06:36.530Z"
   },
   {
    "duration": 204,
    "start_time": "2022-04-30T07:06:36.744Z"
   },
   {
    "duration": 71,
    "start_time": "2022-04-30T07:06:36.950Z"
   },
   {
    "duration": 6,
    "start_time": "2022-04-30T07:06:37.023Z"
   },
   {
    "duration": 50,
    "start_time": "2022-04-30T07:06:37.030Z"
   },
   {
    "duration": 103,
    "start_time": "2022-04-30T07:06:37.083Z"
   },
   {
    "duration": 199,
    "start_time": "2022-04-30T07:06:37.188Z"
   },
   {
    "duration": 85,
    "start_time": "2022-04-30T07:06:37.390Z"
   },
   {
    "duration": 105,
    "start_time": "2022-04-30T07:06:37.478Z"
   },
   {
    "duration": 14,
    "start_time": "2022-04-30T07:06:37.585Z"
   },
   {
    "duration": 4,
    "start_time": "2022-04-30T07:07:49.223Z"
   },
   {
    "duration": 5,
    "start_time": "2022-04-30T07:07:57.000Z"
   },
   {
    "duration": 7,
    "start_time": "2022-04-30T07:08:35.305Z"
   },
   {
    "duration": 7,
    "start_time": "2022-04-30T07:08:53.768Z"
   },
   {
    "duration": 7,
    "start_time": "2022-04-30T07:08:57.500Z"
   },
   {
    "duration": 7,
    "start_time": "2022-04-30T07:09:43.523Z"
   },
   {
    "duration": 7,
    "start_time": "2022-04-30T07:09:44.235Z"
   },
   {
    "duration": 7,
    "start_time": "2022-04-30T07:09:54.511Z"
   },
   {
    "duration": 9,
    "start_time": "2022-04-30T07:09:54.902Z"
   },
   {
    "duration": 7,
    "start_time": "2022-04-30T07:10:50.338Z"
   },
   {
    "duration": 9,
    "start_time": "2022-04-30T07:10:50.902Z"
   },
   {
    "duration": 107,
    "start_time": "2022-04-30T07:13:27.357Z"
   },
   {
    "duration": 9,
    "start_time": "2022-04-30T07:13:31.070Z"
   },
   {
    "duration": 7,
    "start_time": "2022-04-30T07:14:04.647Z"
   },
   {
    "duration": 10,
    "start_time": "2022-04-30T07:14:06.439Z"
   },
   {
    "duration": 1379,
    "start_time": "2022-04-30T07:14:13.113Z"
   },
   {
    "duration": 345,
    "start_time": "2022-04-30T07:14:14.495Z"
   },
   {
    "duration": 196,
    "start_time": "2022-04-30T07:14:14.841Z"
   },
   {
    "duration": 191,
    "start_time": "2022-04-30T07:14:15.039Z"
   },
   {
    "duration": 184,
    "start_time": "2022-04-30T07:14:15.232Z"
   },
   {
    "duration": 71,
    "start_time": "2022-04-30T07:14:15.418Z"
   },
   {
    "duration": 5,
    "start_time": "2022-04-30T07:14:15.491Z"
   },
   {
    "duration": 78,
    "start_time": "2022-04-30T07:14:15.498Z"
   },
   {
    "duration": 107,
    "start_time": "2022-04-30T07:14:15.578Z"
   },
   {
    "duration": 189,
    "start_time": "2022-04-30T07:14:15.688Z"
   },
   {
    "duration": 100,
    "start_time": "2022-04-30T07:14:15.879Z"
   },
   {
    "duration": 95,
    "start_time": "2022-04-30T07:14:15.982Z"
   },
   {
    "duration": 7,
    "start_time": "2022-04-30T07:14:16.079Z"
   },
   {
    "duration": 8,
    "start_time": "2022-04-30T07:16:03.833Z"
   },
   {
    "duration": 8,
    "start_time": "2022-04-30T07:18:38.865Z"
   },
   {
    "duration": 6,
    "start_time": "2022-04-30T07:18:40.732Z"
   },
   {
    "duration": 7,
    "start_time": "2022-04-30T07:18:50.198Z"
   },
   {
    "duration": 6,
    "start_time": "2022-04-30T07:18:51.469Z"
   },
   {
    "duration": 1411,
    "start_time": "2022-04-30T07:18:56.851Z"
   },
   {
    "duration": 341,
    "start_time": "2022-04-30T07:18:58.264Z"
   },
   {
    "duration": 192,
    "start_time": "2022-04-30T07:18:58.606Z"
   },
   {
    "duration": 185,
    "start_time": "2022-04-30T07:18:58.800Z"
   },
   {
    "duration": 177,
    "start_time": "2022-04-30T07:18:58.987Z"
   },
   {
    "duration": 61,
    "start_time": "2022-04-30T07:18:59.165Z"
   },
   {
    "duration": 6,
    "start_time": "2022-04-30T07:18:59.227Z"
   },
   {
    "duration": 45,
    "start_time": "2022-04-30T07:18:59.235Z"
   },
   {
    "duration": 106,
    "start_time": "2022-04-30T07:18:59.281Z"
   },
   {
    "duration": 195,
    "start_time": "2022-04-30T07:18:59.390Z"
   },
   {
    "duration": 187,
    "start_time": "2022-04-30T07:18:59.588Z"
   },
   {
    "duration": 9,
    "start_time": "2022-04-30T07:18:59.777Z"
   },
   {
    "duration": 14,
    "start_time": "2022-04-30T07:18:59.788Z"
   },
   {
    "duration": 10,
    "start_time": "2022-04-30T07:19:12.027Z"
   },
   {
    "duration": 13,
    "start_time": "2022-04-30T07:19:19.104Z"
   },
   {
    "duration": 8,
    "start_time": "2022-04-30T07:19:37.146Z"
   },
   {
    "duration": 12,
    "start_time": "2022-04-30T07:19:38.898Z"
   },
   {
    "duration": 8,
    "start_time": "2022-04-30T07:19:49.819Z"
   },
   {
    "duration": 7,
    "start_time": "2022-04-30T07:23:15.006Z"
   },
   {
    "duration": 7,
    "start_time": "2022-04-30T07:23:37.217Z"
   },
   {
    "duration": 12,
    "start_time": "2022-04-30T07:23:37.918Z"
   },
   {
    "duration": 21,
    "start_time": "2022-04-30T07:56:20.157Z"
   },
   {
    "duration": 1418,
    "start_time": "2022-04-30T07:56:34.544Z"
   },
   {
    "duration": 360,
    "start_time": "2022-04-30T07:56:35.964Z"
   },
   {
    "duration": 204,
    "start_time": "2022-04-30T07:56:36.326Z"
   },
   {
    "duration": 206,
    "start_time": "2022-04-30T07:56:36.532Z"
   },
   {
    "duration": 206,
    "start_time": "2022-04-30T07:56:36.740Z"
   },
   {
    "duration": 73,
    "start_time": "2022-04-30T07:56:36.948Z"
   },
   {
    "duration": 6,
    "start_time": "2022-04-30T07:56:37.023Z"
   },
   {
    "duration": 48,
    "start_time": "2022-04-30T07:56:37.031Z"
   },
   {
    "duration": 21,
    "start_time": "2022-04-30T07:56:37.172Z"
   },
   {
    "duration": 105,
    "start_time": "2022-04-30T07:56:37.278Z"
   },
   {
    "duration": 9,
    "start_time": "2022-04-30T07:56:37.472Z"
   },
   {
    "duration": 115,
    "start_time": "2022-04-30T07:56:37.483Z"
   },
   {
    "duration": 127,
    "start_time": "2022-04-30T07:56:37.600Z"
   },
   {
    "duration": 21,
    "start_time": "2022-04-30T07:56:50.087Z"
   },
   {
    "duration": 78,
    "start_time": "2022-04-30T14:26:41.517Z"
   },
   {
    "duration": 14,
    "start_time": "2022-04-30T14:27:11.081Z"
   },
   {
    "duration": 2189,
    "start_time": "2022-04-30T14:29:16.125Z"
   },
   {
    "duration": 439,
    "start_time": "2022-04-30T14:29:18.316Z"
   },
   {
    "duration": 289,
    "start_time": "2022-04-30T14:29:18.758Z"
   },
   {
    "duration": 259,
    "start_time": "2022-04-30T14:29:19.050Z"
   },
   {
    "duration": 284,
    "start_time": "2022-04-30T14:29:19.311Z"
   },
   {
    "duration": 86,
    "start_time": "2022-04-30T14:29:19.598Z"
   },
   {
    "duration": 8,
    "start_time": "2022-04-30T14:29:19.686Z"
   },
   {
    "duration": 137,
    "start_time": "2022-04-30T14:29:19.697Z"
   },
   {
    "duration": 101,
    "start_time": "2022-04-30T14:29:19.926Z"
   },
   {
    "duration": 191,
    "start_time": "2022-04-30T14:29:20.032Z"
   },
   {
    "duration": 99,
    "start_time": "2022-04-30T14:29:20.227Z"
   },
   {
    "duration": 35,
    "start_time": "2022-04-30T14:29:20.328Z"
   },
   {
    "duration": 1738,
    "start_time": "2022-04-30T14:29:20.365Z"
   },
   {
    "duration": 25,
    "start_time": "2022-04-30T14:30:13.790Z"
   },
   {
    "duration": 5233,
    "start_time": "2022-04-30T14:30:36.112Z"
   },
   {
    "duration": 5481,
    "start_time": "2022-04-30T15:45:08.453Z"
   },
   {
    "duration": 5441,
    "start_time": "2022-04-30T15:45:14.990Z"
   },
   {
    "duration": 5335,
    "start_time": "2022-04-30T15:45:21.824Z"
   },
   {
    "duration": 5366,
    "start_time": "2022-04-30T15:45:38.930Z"
   },
   {
    "duration": 5379,
    "start_time": "2022-04-30T15:51:23.810Z"
   },
   {
    "duration": 5781,
    "start_time": "2022-04-30T15:52:14.804Z"
   },
   {
    "duration": 2003,
    "start_time": "2022-04-30T15:55:40.284Z"
   },
   {
    "duration": 464,
    "start_time": "2022-04-30T15:55:42.291Z"
   },
   {
    "duration": 630,
    "start_time": "2022-04-30T15:55:42.757Z"
   },
   {
    "duration": 484,
    "start_time": "2022-04-30T15:55:43.391Z"
   },
   {
    "duration": 480,
    "start_time": "2022-04-30T15:55:43.880Z"
   },
   {
    "duration": 131,
    "start_time": "2022-04-30T15:55:44.363Z"
   },
   {
    "duration": 26,
    "start_time": "2022-04-30T15:55:44.497Z"
   },
   {
    "duration": 198,
    "start_time": "2022-04-30T15:55:44.527Z"
   },
   {
    "duration": 24,
    "start_time": "2022-04-30T15:55:44.728Z"
   },
   {
    "duration": 177,
    "start_time": "2022-04-30T15:55:44.755Z"
   },
   {
    "duration": 193,
    "start_time": "2022-04-30T15:55:44.935Z"
   },
   {
    "duration": 40,
    "start_time": "2022-04-30T15:55:45.131Z"
   },
   {
    "duration": 5384,
    "start_time": "2022-04-30T15:55:45.173Z"
   },
   {
    "duration": 9,
    "start_time": "2022-04-30T16:05:43.352Z"
   },
   {
    "duration": 14,
    "start_time": "2022-04-30T16:05:59.797Z"
   },
   {
    "duration": 9,
    "start_time": "2022-04-30T16:06:20.589Z"
   },
   {
    "duration": 9,
    "start_time": "2022-04-30T16:06:26.864Z"
   },
   {
    "duration": 13,
    "start_time": "2022-04-30T16:07:29.220Z"
   },
   {
    "duration": 14,
    "start_time": "2022-04-30T16:07:37.747Z"
   },
   {
    "duration": 166,
    "start_time": "2022-04-30T16:07:38.456Z"
   },
   {
    "duration": 14,
    "start_time": "2022-04-30T16:07:38.759Z"
   },
   {
    "duration": 1930,
    "start_time": "2022-04-30T16:08:20.316Z"
   },
   {
    "duration": 469,
    "start_time": "2022-04-30T16:08:22.249Z"
   },
   {
    "duration": 269,
    "start_time": "2022-04-30T16:08:22.720Z"
   },
   {
    "duration": 264,
    "start_time": "2022-04-30T16:08:22.993Z"
   },
   {
    "duration": 267,
    "start_time": "2022-04-30T16:08:23.260Z"
   },
   {
    "duration": 9,
    "start_time": "2022-04-30T16:08:23.530Z"
   },
   {
    "duration": 18,
    "start_time": "2022-04-30T16:08:23.541Z"
   },
   {
    "duration": 9,
    "start_time": "2022-04-30T16:08:23.561Z"
   },
   {
    "duration": 25,
    "start_time": "2022-04-30T16:08:23.573Z"
   },
   {
    "duration": 11,
    "start_time": "2022-04-30T16:08:23.627Z"
   },
   {
    "duration": 17,
    "start_time": "2022-04-30T16:08:23.640Z"
   },
   {
    "duration": 228,
    "start_time": "2022-04-30T16:08:23.659Z"
   },
   {
    "duration": 0,
    "start_time": "2022-04-30T16:08:23.889Z"
   },
   {
    "duration": 0,
    "start_time": "2022-04-30T16:08:23.891Z"
   },
   {
    "duration": 0,
    "start_time": "2022-04-30T16:08:23.893Z"
   },
   {
    "duration": 0,
    "start_time": "2022-04-30T16:08:23.894Z"
   },
   {
    "duration": 0,
    "start_time": "2022-04-30T16:08:23.896Z"
   },
   {
    "duration": 0,
    "start_time": "2022-04-30T16:08:23.897Z"
   },
   {
    "duration": 0,
    "start_time": "2022-04-30T16:08:23.898Z"
   },
   {
    "duration": 1945,
    "start_time": "2022-04-30T16:15:32.450Z"
   },
   {
    "duration": 487,
    "start_time": "2022-04-30T16:15:34.398Z"
   },
   {
    "duration": 306,
    "start_time": "2022-04-30T16:15:34.888Z"
   },
   {
    "duration": 281,
    "start_time": "2022-04-30T16:15:35.197Z"
   },
   {
    "duration": 287,
    "start_time": "2022-04-30T16:15:35.480Z"
   },
   {
    "duration": 9,
    "start_time": "2022-04-30T16:15:35.769Z"
   },
   {
    "duration": 19,
    "start_time": "2022-04-30T16:15:35.780Z"
   },
   {
    "duration": 34,
    "start_time": "2022-04-30T16:15:35.801Z"
   },
   {
    "duration": 24,
    "start_time": "2022-04-30T16:15:35.838Z"
   },
   {
    "duration": 11,
    "start_time": "2022-04-30T16:15:35.866Z"
   },
   {
    "duration": 19,
    "start_time": "2022-04-30T16:15:35.879Z"
   },
   {
    "duration": 56,
    "start_time": "2022-04-30T16:15:35.928Z"
   },
   {
    "duration": 8,
    "start_time": "2022-04-30T16:15:35.986Z"
   },
   {
    "duration": 137,
    "start_time": "2022-04-30T16:15:35.996Z"
   },
   {
    "duration": 105,
    "start_time": "2022-04-30T16:15:36.137Z"
   },
   {
    "duration": 195,
    "start_time": "2022-04-30T16:15:36.246Z"
   },
   {
    "duration": 110,
    "start_time": "2022-04-30T16:15:36.444Z"
   },
   {
    "duration": 36,
    "start_time": "2022-04-30T16:15:36.625Z"
   },
   {
    "duration": 5580,
    "start_time": "2022-04-30T16:15:36.664Z"
   },
   {
    "duration": 13,
    "start_time": "2022-04-30T16:36:40.340Z"
   },
   {
    "duration": 1893,
    "start_time": "2022-05-01T10:59:00.823Z"
   },
   {
    "duration": 362,
    "start_time": "2022-05-01T10:59:02.718Z"
   },
   {
    "duration": 236,
    "start_time": "2022-05-01T10:59:03.082Z"
   },
   {
    "duration": 205,
    "start_time": "2022-05-01T10:59:03.320Z"
   },
   {
    "duration": 208,
    "start_time": "2022-05-01T10:59:03.527Z"
   },
   {
    "duration": 19,
    "start_time": "2022-05-01T10:59:03.737Z"
   },
   {
    "duration": 21,
    "start_time": "2022-05-01T10:59:03.759Z"
   },
   {
    "duration": 18,
    "start_time": "2022-05-01T10:59:03.782Z"
   },
   {
    "duration": 36,
    "start_time": "2022-05-01T10:59:03.802Z"
   },
   {
    "duration": 15,
    "start_time": "2022-05-01T10:59:03.841Z"
   },
   {
    "duration": 22,
    "start_time": "2022-05-01T10:59:03.858Z"
   },
   {
    "duration": 46,
    "start_time": "2022-05-01T10:59:03.882Z"
   },
   {
    "duration": 5,
    "start_time": "2022-05-01T10:59:03.930Z"
   },
   {
    "duration": 29,
    "start_time": "2022-05-01T10:59:03.937Z"
   },
   {
    "duration": 89,
    "start_time": "2022-05-01T10:59:03.969Z"
   },
   {
    "duration": 114,
    "start_time": "2022-05-01T10:59:04.060Z"
   },
   {
    "duration": 192,
    "start_time": "2022-05-01T10:59:04.176Z"
   },
   {
    "duration": 193,
    "start_time": "2022-05-01T10:59:04.371Z"
   },
   {
    "duration": 9,
    "start_time": "2022-05-01T10:59:04.565Z"
   },
   {
    "duration": 46,
    "start_time": "2022-05-01T10:59:04.577Z"
   },
   {
    "duration": 3234,
    "start_time": "2022-05-01T10:59:04.624Z"
   },
   {
    "duration": 114,
    "start_time": "2022-05-01T11:01:06.126Z"
   },
   {
    "duration": 7,
    "start_time": "2022-05-01T11:01:12.351Z"
   },
   {
    "duration": 121,
    "start_time": "2022-05-01T11:01:12.839Z"
   },
   {
    "duration": 9,
    "start_time": "2022-05-01T11:02:18.081Z"
   },
   {
    "duration": 99,
    "start_time": "2022-05-01T11:02:22.366Z"
   },
   {
    "duration": 5,
    "start_time": "2022-05-01T11:04:38.397Z"
   },
   {
    "duration": 37,
    "start_time": "2022-05-01T11:04:39.039Z"
   },
   {
    "duration": 5,
    "start_time": "2022-05-01T11:06:55.059Z"
   },
   {
    "duration": 93,
    "start_time": "2022-05-01T11:06:55.263Z"
   },
   {
    "duration": 126,
    "start_time": "2022-05-01T11:08:23.933Z"
   },
   {
    "duration": 35,
    "start_time": "2022-05-01T11:08:31.182Z"
   },
   {
    "duration": 76,
    "start_time": "2022-05-01T11:08:43.480Z"
   },
   {
    "duration": 5,
    "start_time": "2022-05-01T11:36:37.143Z"
   },
   {
    "duration": 28,
    "start_time": "2022-05-01T11:36:40.798Z"
   },
   {
    "duration": 11,
    "start_time": "2022-05-01T11:37:28.303Z"
   },
   {
    "duration": 4,
    "start_time": "2022-05-01T11:37:49.246Z"
   },
   {
    "duration": 499,
    "start_time": "2022-05-01T11:37:49.252Z"
   },
   {
    "duration": 260,
    "start_time": "2022-05-01T11:37:49.754Z"
   },
   {
    "duration": 193,
    "start_time": "2022-05-01T11:37:50.016Z"
   },
   {
    "duration": 197,
    "start_time": "2022-05-01T11:37:50.212Z"
   },
   {
    "duration": 6,
    "start_time": "2022-05-01T11:37:50.411Z"
   },
   {
    "duration": 27,
    "start_time": "2022-05-01T11:37:50.418Z"
   },
   {
    "duration": 11,
    "start_time": "2022-05-01T11:37:50.447Z"
   },
   {
    "duration": 13,
    "start_time": "2022-05-01T11:37:50.460Z"
   },
   {
    "duration": 8,
    "start_time": "2022-05-01T11:37:50.474Z"
   },
   {
    "duration": 13,
    "start_time": "2022-05-01T11:37:50.484Z"
   },
   {
    "duration": 5,
    "start_time": "2022-05-01T11:37:50.499Z"
   },
   {
    "duration": 59,
    "start_time": "2022-05-01T11:37:50.506Z"
   },
   {
    "duration": 201,
    "start_time": "2022-05-01T11:37:50.567Z"
   },
   {
    "duration": 186,
    "start_time": "2022-05-01T11:37:50.770Z"
   },
   {
    "duration": 112,
    "start_time": "2022-05-01T11:37:50.958Z"
   },
   {
    "duration": 84,
    "start_time": "2022-05-01T11:37:51.072Z"
   },
   {
    "duration": 100,
    "start_time": "2022-05-01T11:37:51.162Z"
   },
   {
    "duration": 25,
    "start_time": "2022-05-01T11:37:51.264Z"
   },
   {
    "duration": 1518,
    "start_time": "2022-05-01T11:37:55.724Z"
   },
   {
    "duration": 344,
    "start_time": "2022-05-01T11:37:57.244Z"
   },
   {
    "duration": 200,
    "start_time": "2022-05-01T11:37:57.590Z"
   },
   {
    "duration": 183,
    "start_time": "2022-05-01T11:37:57.792Z"
   },
   {
    "duration": 198,
    "start_time": "2022-05-01T11:37:57.977Z"
   },
   {
    "duration": 6,
    "start_time": "2022-05-01T11:37:58.177Z"
   },
   {
    "duration": 13,
    "start_time": "2022-05-01T11:37:58.185Z"
   },
   {
    "duration": 6,
    "start_time": "2022-05-01T11:37:58.200Z"
   },
   {
    "duration": 13,
    "start_time": "2022-05-01T11:37:58.207Z"
   },
   {
    "duration": 11,
    "start_time": "2022-05-01T11:37:58.223Z"
   },
   {
    "duration": 34,
    "start_time": "2022-05-01T11:37:58.235Z"
   },
   {
    "duration": 6,
    "start_time": "2022-05-01T11:37:58.270Z"
   },
   {
    "duration": 93,
    "start_time": "2022-05-01T11:37:58.278Z"
   },
   {
    "duration": 28,
    "start_time": "2022-05-01T11:37:58.455Z"
   },
   {
    "duration": 180,
    "start_time": "2022-05-01T11:37:58.485Z"
   },
   {
    "duration": 193,
    "start_time": "2022-05-01T11:37:58.667Z"
   },
   {
    "duration": 93,
    "start_time": "2022-05-01T11:37:58.863Z"
   },
   {
    "duration": 199,
    "start_time": "2022-05-01T11:37:58.959Z"
   },
   {
    "duration": 0,
    "start_time": "2022-05-01T11:37:59.160Z"
   },
   {
    "duration": 0,
    "start_time": "2022-05-01T11:37:59.161Z"
   },
   {
    "duration": 6,
    "start_time": "2022-05-01T11:41:08.965Z"
   },
   {
    "duration": 42,
    "start_time": "2022-05-01T11:41:10.681Z"
   },
   {
    "duration": 11,
    "start_time": "2022-05-02T08:05:09.144Z"
   },
   {
    "duration": 1422,
    "start_time": "2022-05-02T17:59:31.573Z"
   },
   {
    "duration": 812,
    "start_time": "2022-05-02T17:59:32.997Z"
   },
   {
    "duration": 166,
    "start_time": "2022-05-02T17:59:33.810Z"
   },
   {
    "duration": 181,
    "start_time": "2022-05-02T17:59:33.978Z"
   },
   {
    "duration": 202,
    "start_time": "2022-05-02T17:59:34.161Z"
   },
   {
    "duration": 7,
    "start_time": "2022-05-02T17:59:34.365Z"
   },
   {
    "duration": 12,
    "start_time": "2022-05-02T17:59:34.373Z"
   },
   {
    "duration": 5,
    "start_time": "2022-05-02T17:59:34.386Z"
   },
   {
    "duration": 37,
    "start_time": "2022-05-02T17:59:34.393Z"
   },
   {
    "duration": 8,
    "start_time": "2022-05-02T17:59:34.433Z"
   },
   {
    "duration": 13,
    "start_time": "2022-05-02T17:59:34.442Z"
   },
   {
    "duration": 5,
    "start_time": "2022-05-02T17:59:34.457Z"
   },
   {
    "duration": 168,
    "start_time": "2022-05-02T17:59:34.464Z"
   },
   {
    "duration": 104,
    "start_time": "2022-05-02T17:59:34.634Z"
   },
   {
    "duration": 195,
    "start_time": "2022-05-02T17:59:34.740Z"
   },
   {
    "duration": 92,
    "start_time": "2022-05-02T17:59:34.937Z"
   },
   {
    "duration": 97,
    "start_time": "2022-05-02T17:59:35.031Z"
   },
   {
    "duration": 109,
    "start_time": "2022-05-02T17:59:35.130Z"
   },
   {
    "duration": 0,
    "start_time": "2022-05-02T17:59:35.240Z"
   },
   {
    "duration": 0,
    "start_time": "2022-05-02T17:59:35.242Z"
   },
   {
    "duration": 5,
    "start_time": "2022-05-02T18:06:42.611Z"
   },
   {
    "duration": 29,
    "start_time": "2022-05-02T18:08:40.617Z"
   },
   {
    "duration": 33,
    "start_time": "2022-05-02T18:09:41.290Z"
   },
   {
    "duration": 33,
    "start_time": "2022-05-02T18:09:41.561Z"
   },
   {
    "duration": 22,
    "start_time": "2022-05-02T18:09:43.023Z"
   },
   {
    "duration": 22,
    "start_time": "2022-05-02T18:09:44.347Z"
   },
   {
    "duration": 30,
    "start_time": "2022-05-02T18:09:45.089Z"
   },
   {
    "duration": 20,
    "start_time": "2022-05-02T18:10:26.605Z"
   },
   {
    "duration": 21,
    "start_time": "2022-05-02T18:10:26.916Z"
   },
   {
    "duration": 21,
    "start_time": "2022-05-02T18:10:27.204Z"
   },
   {
    "duration": 29,
    "start_time": "2022-05-02T18:10:28.145Z"
   },
   {
    "duration": 20,
    "start_time": "2022-05-02T18:10:28.640Z"
   },
   {
    "duration": 27,
    "start_time": "2022-05-02T18:10:29.634Z"
   },
   {
    "duration": 10,
    "start_time": "2022-05-02T18:10:50.811Z"
   },
   {
    "duration": 30,
    "start_time": "2022-05-02T18:11:50.396Z"
   },
   {
    "duration": 32,
    "start_time": "2022-05-02T18:12:05.530Z"
   },
   {
    "duration": 7,
    "start_time": "2022-05-02T18:12:36.916Z"
   },
   {
    "duration": 20,
    "start_time": "2022-05-02T18:12:37.300Z"
   },
   {
    "duration": 27,
    "start_time": "2022-05-02T18:13:26.209Z"
   },
   {
    "duration": 21,
    "start_time": "2022-05-02T18:13:37.247Z"
   },
   {
    "duration": 21,
    "start_time": "2022-05-02T18:13:38.944Z"
   },
   {
    "duration": 33,
    "start_time": "2022-05-02T18:13:39.667Z"
   },
   {
    "duration": 30,
    "start_time": "2022-05-02T18:13:40.433Z"
   },
   {
    "duration": 8,
    "start_time": "2022-05-02T18:13:43.412Z"
   },
   {
    "duration": 2342,
    "start_time": "2022-07-03T08:35:21.083Z"
   },
   {
    "duration": 1659,
    "start_time": "2022-07-03T08:35:23.427Z"
   },
   {
    "duration": 182,
    "start_time": "2022-07-03T08:35:25.088Z"
   },
   {
    "duration": 193,
    "start_time": "2022-07-03T08:35:25.271Z"
   },
   {
    "duration": 202,
    "start_time": "2022-07-03T08:35:25.466Z"
   },
   {
    "duration": 6,
    "start_time": "2022-07-03T08:35:25.670Z"
   },
   {
    "duration": 13,
    "start_time": "2022-07-03T08:35:25.678Z"
   },
   {
    "duration": 6,
    "start_time": "2022-07-03T08:35:25.692Z"
   },
   {
    "duration": 12,
    "start_time": "2022-07-03T08:35:25.700Z"
   },
   {
    "duration": 30,
    "start_time": "2022-07-03T08:35:25.713Z"
   },
   {
    "duration": 13,
    "start_time": "2022-07-03T08:35:25.744Z"
   },
   {
    "duration": 5,
    "start_time": "2022-07-03T08:35:25.759Z"
   },
   {
    "duration": 180,
    "start_time": "2022-07-03T08:35:25.766Z"
   },
   {
    "duration": 123,
    "start_time": "2022-07-03T08:35:25.949Z"
   },
   {
    "duration": 122,
    "start_time": "2022-07-03T08:35:26.142Z"
   },
   {
    "duration": 116,
    "start_time": "2022-07-03T08:35:26.342Z"
   },
   {
    "duration": 200,
    "start_time": "2022-07-03T08:35:26.460Z"
   },
   {
    "duration": 194,
    "start_time": "2022-07-03T08:35:26.662Z"
   },
   {
    "duration": 93,
    "start_time": "2022-07-03T08:35:26.858Z"
   },
   {
    "duration": 10,
    "start_time": "2022-07-03T08:35:27.043Z"
   },
   {
    "duration": 128,
    "start_time": "2022-07-03T08:35:27.055Z"
   },
   {
    "duration": 0,
    "start_time": "2022-07-03T08:35:27.185Z"
   },
   {
    "duration": 11,
    "start_time": "2022-07-03T08:44:55.846Z"
   },
   {
    "duration": 13,
    "start_time": "2022-07-03T09:07:05.389Z"
   }
  ],
  "kernelspec": {
   "display_name": "Python 3 (ipykernel)",
   "language": "python",
   "name": "python3"
  },
  "language_info": {
   "codemirror_mode": {
    "name": "ipython",
    "version": 3
   },
   "file_extension": ".py",
   "mimetype": "text/x-python",
   "name": "python",
   "nbconvert_exporter": "python",
   "pygments_lexer": "ipython3",
   "version": "3.9.5"
  },
  "toc": {
   "base_numbering": 1,
   "nav_menu": {},
   "number_sections": true,
   "sideBar": true,
   "skip_h1_title": true,
   "title_cell": "Содержание",
   "title_sidebar": "Содержание",
   "toc_cell": true,
   "toc_position": {},
   "toc_section_display": true,
   "toc_window_display": true
  }
 },
 "nbformat": 4,
 "nbformat_minor": 2
}
