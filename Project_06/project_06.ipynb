{
 "cells": [
  {
   "cell_type": "markdown",
   "metadata": {
    "toc": true
   },
   "source": [
    "<h1>Содержание<span class=\"tocSkip\"></span></h1>\n",
    "<div class=\"toc\"><ul class=\"toc-item\"><li><span><a href=\"#Подготовка-данных\" data-toc-modified-id=\"Подготовка-данных-1\"><span class=\"toc-item-num\">1&nbsp;&nbsp;</span>Подготовка данных</a></span><ul class=\"toc-item\"><li><span><a href=\"#Изучение-общей-информации\" data-toc-modified-id=\"Изучение-общей-информации-1.1\"><span class=\"toc-item-num\">1.1&nbsp;&nbsp;</span>Изучение общей информации</a></span><ul class=\"toc-item\"><li><span><a href=\"#Вывод\" data-toc-modified-id=\"Вывод-1.1.1\"><span class=\"toc-item-num\">1.1.1&nbsp;&nbsp;</span>Вывод</a></span></li></ul></li><li><span><a href=\"#Предобработка-данных\" data-toc-modified-id=\"Предобработка-данных-1.2\"><span class=\"toc-item-num\">1.2&nbsp;&nbsp;</span>Предобработка данных</a></span><ul class=\"toc-item\"><li><span><a href=\"#Вывод\" data-toc-modified-id=\"Вывод-1.2.1\"><span class=\"toc-item-num\">1.2.1&nbsp;&nbsp;</span>Вывод</a></span></li></ul></li></ul></li><li><span><a href=\"#Исследование-задачи\" data-toc-modified-id=\"Исследование-задачи-2\"><span class=\"toc-item-num\">2&nbsp;&nbsp;</span>Исследование задачи</a></span><ul class=\"toc-item\"><li><ul class=\"toc-item\"><li><span><a href=\"#Вывод\" data-toc-modified-id=\"Вывод-2.0.1\"><span class=\"toc-item-num\">2.0.1&nbsp;&nbsp;</span>Вывод</a></span></li></ul></li></ul></li><li><span><a href=\"#Борьба-с-дисбалансом\" data-toc-modified-id=\"Борьба-с-дисбалансом-3\"><span class=\"toc-item-num\">3&nbsp;&nbsp;</span>Борьба с дисбалансом</a></span><ul class=\"toc-item\"><li><ul class=\"toc-item\"><li><span><a href=\"#Вывод\" data-toc-modified-id=\"Вывод-3.0.1\"><span class=\"toc-item-num\">3.0.1&nbsp;&nbsp;</span>Вывод</a></span></li></ul></li></ul></li><li><span><a href=\"#Тестирование-модели\" data-toc-modified-id=\"Тестирование-модели-4\"><span class=\"toc-item-num\">4&nbsp;&nbsp;</span>Тестирование модели</a></span></li><li><span><a href=\"#Общий--вывод\" data-toc-modified-id=\"Общий--вывод-5\"><span class=\"toc-item-num\">5&nbsp;&nbsp;</span>Общий  вывод</a></span></li></ul></div>"
   ]
  },
  {
   "cell_type": "markdown",
   "metadata": {},
   "source": [
    "# Отток клиентов"
   ]
  },
  {
   "cell_type": "markdown",
   "metadata": {},
   "source": [
    "Из «Бета-Банка» стали уходить клиенты. Каждый месяц. Немного, но заметно. Банковские маркетологи посчитали: сохранять текущих клиентов дешевле, чем привлекать новых.\n",
    "\n",
    "Нужно спрогнозировать, уйдёт клиент из банка в ближайшее время или нет. Нам предоставлены исторические данные о поведении клиентов и расторжении договоров с банком. \n",
    "\n",
    "Построим модель со значением *F1*-меры 0.59.\n",
    "\n",
    "Дополнительно измерим *AUC-ROC*, сравнив её значение с *F1*-мерой."
   ]
  },
  {
   "cell_type": "markdown",
   "metadata": {},
   "source": [
    "# Описание данных\n",
    "\n",
    "**Признаки:**\n",
    "* `RowNumber` — индекс строки в данных\n",
    "* `CustomerId` — уникальный идентификатор клиента\n",
    "* `Surname` — фамилия\n",
    "* `CreditScore` — кредитный рейтинг\n",
    "* `Geography` — страна проживания\n",
    "* `Gender` — пол\n",
    "* `Age` — возраст\n",
    "* `Tenure` — сколько лет человек является клиентом банка\n",
    "* `Balance` — баланс на счёте\n",
    "* `NumOfProducts` — количество продуктов банка, используемых клиентом\n",
    "* `HasCrCard` — наличие кредитной карты\n",
    "* `IsActiveMember` — активность клиента\n",
    "* `EstimatedSalary` — предполагаемая зарплата\n",
    "\n",
    "**Целевой признак:**\n",
    "* `Exited` — факт ухода клиента"
   ]
  },
  {
   "cell_type": "markdown",
   "metadata": {},
   "source": [
    "## Подготовка данных"
   ]
  },
  {
   "cell_type": "markdown",
   "metadata": {},
   "source": [
    "### Изучение общей информации"
   ]
  },
  {
   "cell_type": "markdown",
   "metadata": {},
   "source": [
    "Импортируем необходимые библиотеки."
   ]
  },
  {
   "cell_type": "code",
   "execution_count": 1,
   "metadata": {},
   "outputs": [],
   "source": [
    "import pandas as pd\n",
    "import matplotlib.pyplot as plt\n",
    "import numpy as np\n",
    "from sklearn.tree import DecisionTreeClassifier\n",
    "from sklearn.ensemble import RandomForestClassifier\n",
    "from sklearn.linear_model import LogisticRegression\n",
    "from sklearn.model_selection import train_test_split\n",
    "from sklearn.preprocessing import OrdinalEncoder\n",
    "from sklearn.preprocessing import StandardScaler\n",
    "from sklearn.metrics import f1_score\n",
    "from sklearn.utils import shuffle\n",
    "from sklearn.metrics import roc_curve\n",
    "from sklearn.metrics import roc_auc_score\n",
    "import time"
   ]
  },
  {
   "cell_type": "markdown",
   "metadata": {},
   "source": [
    "Прочитаем и выведем первые 5 строк наших данных."
   ]
  },
  {
   "cell_type": "code",
   "execution_count": 2,
   "metadata": {},
   "outputs": [],
   "source": [
    "data = pd.read_csv('/datasets/Churn.csv')"
   ]
  },
  {
   "cell_type": "code",
   "execution_count": 3,
   "metadata": {},
   "outputs": [
    {
     "data": {
      "text/html": [
       "<div>\n",
       "<style scoped>\n",
       "    .dataframe tbody tr th:only-of-type {\n",
       "        vertical-align: middle;\n",
       "    }\n",
       "\n",
       "    .dataframe tbody tr th {\n",
       "        vertical-align: top;\n",
       "    }\n",
       "\n",
       "    .dataframe thead th {\n",
       "        text-align: right;\n",
       "    }\n",
       "</style>\n",
       "<table border=\"1\" class=\"dataframe\">\n",
       "  <thead>\n",
       "    <tr style=\"text-align: right;\">\n",
       "      <th></th>\n",
       "      <th>RowNumber</th>\n",
       "      <th>CustomerId</th>\n",
       "      <th>Surname</th>\n",
       "      <th>CreditScore</th>\n",
       "      <th>Geography</th>\n",
       "      <th>Gender</th>\n",
       "      <th>Age</th>\n",
       "      <th>Tenure</th>\n",
       "      <th>Balance</th>\n",
       "      <th>NumOfProducts</th>\n",
       "      <th>HasCrCard</th>\n",
       "      <th>IsActiveMember</th>\n",
       "      <th>EstimatedSalary</th>\n",
       "      <th>Exited</th>\n",
       "    </tr>\n",
       "  </thead>\n",
       "  <tbody>\n",
       "    <tr>\n",
       "      <th>0</th>\n",
       "      <td>1</td>\n",
       "      <td>15634602</td>\n",
       "      <td>Hargrave</td>\n",
       "      <td>619</td>\n",
       "      <td>France</td>\n",
       "      <td>Female</td>\n",
       "      <td>42</td>\n",
       "      <td>2.0</td>\n",
       "      <td>0.00</td>\n",
       "      <td>1</td>\n",
       "      <td>1</td>\n",
       "      <td>1</td>\n",
       "      <td>101348.88</td>\n",
       "      <td>1</td>\n",
       "    </tr>\n",
       "    <tr>\n",
       "      <th>1</th>\n",
       "      <td>2</td>\n",
       "      <td>15647311</td>\n",
       "      <td>Hill</td>\n",
       "      <td>608</td>\n",
       "      <td>Spain</td>\n",
       "      <td>Female</td>\n",
       "      <td>41</td>\n",
       "      <td>1.0</td>\n",
       "      <td>83807.86</td>\n",
       "      <td>1</td>\n",
       "      <td>0</td>\n",
       "      <td>1</td>\n",
       "      <td>112542.58</td>\n",
       "      <td>0</td>\n",
       "    </tr>\n",
       "    <tr>\n",
       "      <th>2</th>\n",
       "      <td>3</td>\n",
       "      <td>15619304</td>\n",
       "      <td>Onio</td>\n",
       "      <td>502</td>\n",
       "      <td>France</td>\n",
       "      <td>Female</td>\n",
       "      <td>42</td>\n",
       "      <td>8.0</td>\n",
       "      <td>159660.80</td>\n",
       "      <td>3</td>\n",
       "      <td>1</td>\n",
       "      <td>0</td>\n",
       "      <td>113931.57</td>\n",
       "      <td>1</td>\n",
       "    </tr>\n",
       "    <tr>\n",
       "      <th>3</th>\n",
       "      <td>4</td>\n",
       "      <td>15701354</td>\n",
       "      <td>Boni</td>\n",
       "      <td>699</td>\n",
       "      <td>France</td>\n",
       "      <td>Female</td>\n",
       "      <td>39</td>\n",
       "      <td>1.0</td>\n",
       "      <td>0.00</td>\n",
       "      <td>2</td>\n",
       "      <td>0</td>\n",
       "      <td>0</td>\n",
       "      <td>93826.63</td>\n",
       "      <td>0</td>\n",
       "    </tr>\n",
       "    <tr>\n",
       "      <th>4</th>\n",
       "      <td>5</td>\n",
       "      <td>15737888</td>\n",
       "      <td>Mitchell</td>\n",
       "      <td>850</td>\n",
       "      <td>Spain</td>\n",
       "      <td>Female</td>\n",
       "      <td>43</td>\n",
       "      <td>2.0</td>\n",
       "      <td>125510.82</td>\n",
       "      <td>1</td>\n",
       "      <td>1</td>\n",
       "      <td>1</td>\n",
       "      <td>79084.10</td>\n",
       "      <td>0</td>\n",
       "    </tr>\n",
       "  </tbody>\n",
       "</table>\n",
       "</div>"
      ],
      "text/plain": [
       "   RowNumber  CustomerId   Surname  CreditScore Geography  Gender  Age  \\\n",
       "0          1    15634602  Hargrave          619    France  Female   42   \n",
       "1          2    15647311      Hill          608     Spain  Female   41   \n",
       "2          3    15619304      Onio          502    France  Female   42   \n",
       "3          4    15701354      Boni          699    France  Female   39   \n",
       "4          5    15737888  Mitchell          850     Spain  Female   43   \n",
       "\n",
       "   Tenure    Balance  NumOfProducts  HasCrCard  IsActiveMember  \\\n",
       "0     2.0       0.00              1          1               1   \n",
       "1     1.0   83807.86              1          0               1   \n",
       "2     8.0  159660.80              3          1               0   \n",
       "3     1.0       0.00              2          0               0   \n",
       "4     2.0  125510.82              1          1               1   \n",
       "\n",
       "   EstimatedSalary  Exited  \n",
       "0        101348.88       1  \n",
       "1        112542.58       0  \n",
       "2        113931.57       1  \n",
       "3         93826.63       0  \n",
       "4         79084.10       0  "
      ]
     },
     "execution_count": 3,
     "metadata": {},
     "output_type": "execute_result"
    }
   ],
   "source": [
    "data.head()"
   ]
  },
  {
   "cell_type": "markdown",
   "metadata": {},
   "source": [
    "Посмотрим общую информацию."
   ]
  },
  {
   "cell_type": "code",
   "execution_count": 4,
   "metadata": {
    "scrolled": true
   },
   "outputs": [
    {
     "name": "stdout",
     "output_type": "stream",
     "text": [
      "<class 'pandas.core.frame.DataFrame'>\n",
      "RangeIndex: 10000 entries, 0 to 9999\n",
      "Data columns (total 14 columns):\n",
      " #   Column           Non-Null Count  Dtype  \n",
      "---  ------           --------------  -----  \n",
      " 0   RowNumber        10000 non-null  int64  \n",
      " 1   CustomerId       10000 non-null  int64  \n",
      " 2   Surname          10000 non-null  object \n",
      " 3   CreditScore      10000 non-null  int64  \n",
      " 4   Geography        10000 non-null  object \n",
      " 5   Gender           10000 non-null  object \n",
      " 6   Age              10000 non-null  int64  \n",
      " 7   Tenure           9091 non-null   float64\n",
      " 8   Balance          10000 non-null  float64\n",
      " 9   NumOfProducts    10000 non-null  int64  \n",
      " 10  HasCrCard        10000 non-null  int64  \n",
      " 11  IsActiveMember   10000 non-null  int64  \n",
      " 12  EstimatedSalary  10000 non-null  float64\n",
      " 13  Exited           10000 non-null  int64  \n",
      "dtypes: float64(3), int64(8), object(3)\n",
      "memory usage: 1.1+ MB\n"
     ]
    }
   ],
   "source": [
    "data.info()"
   ]
  },
  {
   "cell_type": "markdown",
   "metadata": {},
   "source": [
    "Итак, в таблице 13 признаков и целевой признак. Тип данных у признаков - `object`, `float64` и `int64`.\n",
    "\n",
    "Признаки:\n",
    "\n",
    "* `RowNumber` — индекс строки в данных\n",
    "* `CustomerId` — уникальный идентификатор клиента\n",
    "* `Surname` — фамилия\n",
    "* `CreditScore` — кредитный рейтинг\n",
    "* `Geography` — страна проживания\n",
    "* `Gender` — пол\n",
    "* `Age` — возраст\n",
    "* `Tenure` — сколько лет человек является клиентом банка\n",
    "* `Balance` — баланс на счёте\n",
    "* `NumOfProducts` — количество продуктов банка, используемых клиентом\n",
    "* `HasCrCard` — наличие кредитной карты\n",
    "* `IsActiveMember` — активность клиента\n",
    "* `EstimatedSalary` — предполагаемая зарплата\n",
    "\n",
    "Целевой признак:\n",
    "\n",
    "* `Exited` — факт ухода клиента"
   ]
  },
  {
   "cell_type": "markdown",
   "metadata": {},
   "source": [
    "#### Вывод"
   ]
  },
  {
   "cell_type": "markdown",
   "metadata": {},
   "source": [
    "У признака `Tenure` пропущены несколько объектов. Поскольку признак `Tenure` не сильно зависит от имеющихся признаков, то просто заполним значение пропущенных объектов нулем. \n",
    "\n",
    "Некторые признаки в нашей таблице не влияют на результат нашего исследования, поэтому можно их просто удалить.\n",
    "\n",
    "Предварительно можно сказать, что данных достаточно для исследования. Перед началом работы необходимо провести предобработку данных. "
   ]
  },
  {
   "cell_type": "markdown",
   "metadata": {},
   "source": [
    "### Предобработка данных"
   ]
  },
  {
   "cell_type": "markdown",
   "metadata": {},
   "source": [
    "Заполним пропуски у признака `Tenure` нулем."
   ]
  },
  {
   "cell_type": "code",
   "execution_count": 5,
   "metadata": {},
   "outputs": [],
   "source": [
    "data['Tenure']=data['Tenure'].fillna(0).astype('int64')"
   ]
  },
  {
   "cell_type": "markdown",
   "metadata": {},
   "source": [
    "Удалим те признаки которые не повлияют на результат исследования. "
   ]
  },
  {
   "cell_type": "code",
   "execution_count": 6,
   "metadata": {},
   "outputs": [],
   "source": [
    "data = data.drop(['RowNumber', 'CustomerId', 'Surname'], axis=1)"
   ]
  },
  {
   "cell_type": "markdown",
   "metadata": {},
   "source": [
    "Посмотрим еще раз на общую информацию."
   ]
  },
  {
   "cell_type": "code",
   "execution_count": 7,
   "metadata": {},
   "outputs": [
    {
     "name": "stdout",
     "output_type": "stream",
     "text": [
      "<class 'pandas.core.frame.DataFrame'>\n",
      "RangeIndex: 10000 entries, 0 to 9999\n",
      "Data columns (total 11 columns):\n",
      " #   Column           Non-Null Count  Dtype  \n",
      "---  ------           --------------  -----  \n",
      " 0   CreditScore      10000 non-null  int64  \n",
      " 1   Geography        10000 non-null  object \n",
      " 2   Gender           10000 non-null  object \n",
      " 3   Age              10000 non-null  int64  \n",
      " 4   Tenure           10000 non-null  int64  \n",
      " 5   Balance          10000 non-null  float64\n",
      " 6   NumOfProducts    10000 non-null  int64  \n",
      " 7   HasCrCard        10000 non-null  int64  \n",
      " 8   IsActiveMember   10000 non-null  int64  \n",
      " 9   EstimatedSalary  10000 non-null  float64\n",
      " 10  Exited           10000 non-null  int64  \n",
      "dtypes: float64(2), int64(7), object(2)\n",
      "memory usage: 859.5+ KB\n"
     ]
    }
   ],
   "source": [
    "data.info()"
   ]
  },
  {
   "cell_type": "markdown",
   "metadata": {},
   "source": [
    "#### Вывод"
   ]
  },
  {
   "cell_type": "markdown",
   "metadata": {},
   "source": [
    "После предобработки количество признаков составило 10. Теперь можно приступить к исследованию."
   ]
  },
  {
   "cell_type": "markdown",
   "metadata": {},
   "source": [
    "## Исследование задачи"
   ]
  },
  {
   "cell_type": "markdown",
   "metadata": {},
   "source": [
    "Построим гистограмму оставшихся и ушедших клиентов. "
   ]
  },
  {
   "cell_type": "code",
   "execution_count": 8,
   "metadata": {
    "scrolled": true
   },
   "outputs": [
    {
     "data": {
      "text/plain": [
       "<AxesSubplot:>"
      ]
     },
     "execution_count": 8,
     "metadata": {},
     "output_type": "execute_result"
    },
    {
     "data": {
      "image/png": "[encoded data removed]",
      "text/plain": [
       "<Figure size 432x288 with 1 Axes>"
      ]
     },
     "metadata": {
      "needs_background": "light"
     },
     "output_type": "display_data"
    }
   ],
   "source": [
    "data['Exited'].hist(bins=10)"
   ]
  },
  {
   "cell_type": "markdown",
   "metadata": {},
   "source": [
    "Соотношение ушедших к оставшимся клиентов составляет 1:4. Можно сказать что у нас наблюдается дисбаланс классов."
   ]
  },
  {
   "cell_type": "markdown",
   "metadata": {},
   "source": [
    "Преобразуем категориальные признаки в численные техникой прямого кодирования. "
   ]
  },
  {
   "cell_type": "code",
   "execution_count": 9,
   "metadata": {},
   "outputs": [],
   "source": [
    "data_ohe = pd.get_dummies(data, drop_first=True)\n",
    "\n",
    "target = data_ohe['Exited'] # переменная признаков\n",
    "features = data_ohe.drop(['Exited'], axis=1) # переменная целевого признака"
   ]
  },
  {
   "cell_type": "markdown",
   "metadata": {},
   "source": [
    "Разделим данные на обучающую, валидационную и тестовую в соотношении 3:1:1 соответственно."
   ]
  },
  {
   "cell_type": "code",
   "execution_count": 10,
   "metadata": {},
   "outputs": [],
   "source": [
    "# для начала разделим исходые данные на обучающую и валидационную\n",
    "df_train, df_valid = train_test_split(data_ohe, test_size=0.4, random_state=123)\n",
    "# а затем валидационную выборку пополам, на валидационную и тестовую\n",
    "df_valid, df_test = train_test_split(df_valid, test_size=0.5, random_state=123)"
   ]
  },
  {
   "cell_type": "code",
   "execution_count": 11,
   "metadata": {},
   "outputs": [],
   "source": [
    "# обучающие переменные\n",
    "features_train = df_train.drop(['Exited'], axis=1)\n",
    "target_train = df_train['Exited']\n",
    "# валидационные переменные \n",
    "features_valid = df_valid.drop(['Exited'], axis=1)\n",
    "target_valid = df_valid['Exited']\n",
    "# тестовые переменные\n",
    "features_test = df_test.drop(['Exited'], axis=1)\n",
    "target_test = df_test['Exited']"
   ]
  },
  {
   "cell_type": "code",
   "execution_count": 12,
   "metadata": {},
   "outputs": [
    {
     "data": {
      "text/plain": [
       "0    (6000, 11)\n",
       "1       (6000,)\n",
       "2    (2000, 11)\n",
       "3       (2000,)\n",
       "4    (2000, 11)\n",
       "5       (2000,)\n",
       "dtype: object"
      ]
     },
     "execution_count": 12,
     "metadata": {},
     "output_type": "execute_result"
    }
   ],
   "source": [
    "pd.Series([features_train.shape,  target_train.shape,  features_valid.shape\n",
    "          , target_valid.shape, features_test.shape, target_test.shape])"
   ]
  },
  {
   "cell_type": "markdown",
   "metadata": {},
   "source": [
    "Размеры разделенных данных соответсвует соотношению."
   ]
  },
  {
   "cell_type": "markdown",
   "metadata": {},
   "source": [
    "Приведем признаки к одному масштабу."
   ]
  },
  {
   "cell_type": "code",
   "execution_count": 14,
   "metadata": {},
   "outputs": [],
   "source": [
    "pd.options.mode.chained_assignment = None # чтобы не было ошибки работы\n",
    "\n",
    "numeric = ['CreditScore', 'Age', 'Tenure', 'Balance', 'EstimatedSalary', 'NumOfProducts']\n",
    "\n",
    "scaler = StandardScaler()\n",
    "scaler.fit(features_train[numeric])\n",
    "\n",
    "features_train[numeric] = scaler.transform(features_train[numeric])\n",
    "features_valid[numeric] = scaler.transform(features_valid[numeric])\n",
    "features_test[numeric] = scaler.transform(features_test[numeric])\n"
   ]
  },
  {
   "cell_type": "markdown",
   "metadata": {},
   "source": [
    "Построим модель без учета дисбаланам классов."
   ]
  },
  {
   "cell_type": "markdown",
   "metadata": {},
   "source": [
    "###### Дерево решения"
   ]
  },
  {
   "cell_type": "markdown",
   "metadata": {},
   "source": [
    "С помощью цикла найдем глубину дерева с лучшим зачением F1-меры."
   ]
  },
  {
   "cell_type": "code",
   "execution_count": 15,
   "metadata": {},
   "outputs": [
    {
     "name": "stdout",
     "output_type": "stream",
     "text": [
      "Лучшее значение F1-меры равно 0.57 при глубине дерева 7.\n",
      "Время, затраченное на выполнение данного кода 0.467\n"
     ]
    }
   ],
   "source": [
    "startTime_1 = time.time()\n",
    "\n",
    "best_f1_scor_1 = 0\n",
    "best_depth = None\n",
    "\n",
    "for depth in range(1, 20):\n",
    "    model = DecisionTreeClassifier(max_depth=depth, random_state=12345)\n",
    "    model.fit(features_train, target_train) # обучим модель на обучающей выборке\n",
    "    predictions = model.predict(features_valid) # предскажем ответы \n",
    "    f1_scor = f1_score(target_valid, predictions) # посчитаем F1-меру\n",
    "    if f1_scor > best_f1_scor_1:\n",
    "        best_f1_scor_1 = f1_scor # сохраним лучшее значение F1-меры\n",
    "        best_depth = depth # сохраним глубину дерева для лучшего значения F1-меры\n",
    "print(f'Лучшее значение F1-меры равно {best_f1_scor_1:.3} при глубине дерева {best_depth}.')\n",
    "\n",
    "endTime_1 = time.time()\n",
    "totalTime_1 = endTime_1 - startTime_1\n",
    "print(f\"Время, затраченное на выполнение данного кода {totalTime_1:.3}\")"
   ]
  },
  {
   "cell_type": "markdown",
   "metadata": {},
   "source": [
    "###### Случайный лес"
   ]
  },
  {
   "cell_type": "markdown",
   "metadata": {},
   "source": [
    "Сначала циклом найдем глубину дерева с лучшим значением F1-меры, а затем найдем при лучшей глубине дерева количество деревьев с лучшим значение F1-меры. "
   ]
  },
  {
   "cell_type": "code",
   "execution_count": 16,
   "metadata": {},
   "outputs": [
    {
     "name": "stdout",
     "output_type": "stream",
     "text": [
      "Лучшее значение F1-меры равно 0.58 при глубине дерева 12 и при количестве деревьев 115.\n",
      "Время, затраченное на выполнение данного кода 48.0\n"
     ]
    }
   ],
   "source": [
    "startTime_2 = time.time()\n",
    "\n",
    "best_f1_scor_2 = 0\n",
    "best_depth = None\n",
    "best_est = None\n",
    "\n",
    "for est in range(80, 140, 5):\n",
    "    for depth in range(2, 16, 2):\n",
    "        model = RandomForestClassifier(n_estimators=est, max_depth=depth, random_state=12345)\n",
    "        model.fit(features_train, target_train) \n",
    "        predictions = model.predict(features_valid)\n",
    "        f1_scor = f1_score(target_valid, predictions)\n",
    "        if f1_scor > best_f1_scor_2:\n",
    "            best_f1_scor_2 = f1_scor \n",
    "            best_depth = depth\n",
    "            best_est = est\n",
    "            \n",
    "print(f'Лучшее значение F1-меры равно {best_f1_scor_2:.3} при глубине дерева {best_depth} и при количестве деревьев {best_est}.')         \n",
    "\n",
    "endTime_2 = time.time()\n",
    "totalTime_2 = endTime_2 - startTime_2\n",
    "print(f\"Время, затраченное на выполнение данного кода {totalTime_2:.3}\")"
   ]
  },
  {
   "cell_type": "markdown",
   "metadata": {},
   "source": [
    "###### Логистическая регрессия"
   ]
  },
  {
   "cell_type": "code",
   "execution_count": 17,
   "metadata": {
    "scrolled": true
   },
   "outputs": [
    {
     "name": "stdout",
     "output_type": "stream",
     "text": [
      "Лучшее значение F1-меры равно 0.285.\n",
      "Время, затраченное на выполнение данного кода 0.0956\n"
     ]
    }
   ],
   "source": [
    "startTime_3 = time.time()\n",
    "\n",
    "best_f1_scor_3 = 0\n",
    "model = LogisticRegression(random_state=12345, solver='liblinear')\n",
    "model.fit(features_train, target_train)\n",
    "predictions = model.predict(features_valid)\n",
    "best_f1_scor_3 = f1_score(target_valid, predictions)\n",
    "\n",
    "print(f'Лучшее значение F1-меры равно {best_f1_scor_3:.3}.')\n",
    "\n",
    "endTime_3 = time.time()\n",
    "totalTime_3 = endTime_3 - startTime_3\n",
    "print(f\"Время, затраченное на выполнение данного кода {totalTime_3:.3}\")"
   ]
  },
  {
   "cell_type": "markdown",
   "metadata": {},
   "source": [
    "#### Вывод"
   ]
  },
  {
   "cell_type": "markdown",
   "metadata": {},
   "source": [
    "Оценим качество модели по F1-мера и скорости работы без учета дисбаланса классов.\n",
    "* F1-мера. \n",
    "Самое высокое значение у случайного леса: вместо одного решающего дерева используется целый оркестр.\n",
    "На втором месте — решающее дерево. Самое низкое качество предсказания у логистической регрессии.\n",
    "* Скорость работы. \n",
    "Высокая скорость работы у логистической регрессии: у неё меньше всего параметров.\n",
    "Скорость решающего дерева тоже высокая и зависит от глубины. Случайный лес медленнее всех: чем больше деревьев, тем неторопливее работает модель.\n",
    "\n",
    "Объединим критерии в таблицу:"
   ]
  },
  {
   "cell_type": "code",
   "execution_count": 18,
   "metadata": {},
   "outputs": [
    {
     "data": {
      "text/html": [
       "<div>\n",
       "<style scoped>\n",
       "    .dataframe tbody tr th:only-of-type {\n",
       "        vertical-align: middle;\n",
       "    }\n",
       "\n",
       "    .dataframe tbody tr th {\n",
       "        vertical-align: top;\n",
       "    }\n",
       "\n",
       "    .dataframe thead th {\n",
       "        text-align: right;\n",
       "    }\n",
       "</style>\n",
       "<table border=\"1\" class=\"dataframe\">\n",
       "  <thead>\n",
       "    <tr style=\"text-align: right;\">\n",
       "      <th></th>\n",
       "      <th>F1-мера</th>\n",
       "      <th>Скорость (сек)</th>\n",
       "    </tr>\n",
       "  </thead>\n",
       "  <tbody>\n",
       "    <tr>\n",
       "      <th>Решающее дерево</th>\n",
       "      <td>0.57</td>\n",
       "      <td>0.467</td>\n",
       "    </tr>\n",
       "    <tr>\n",
       "      <th>Случайный лес</th>\n",
       "      <td>0.58</td>\n",
       "      <td>48.0</td>\n",
       "    </tr>\n",
       "    <tr>\n",
       "      <th>Логистическая регрессия</th>\n",
       "      <td>0.285</td>\n",
       "      <td>0.0956</td>\n",
       "    </tr>\n",
       "  </tbody>\n",
       "</table>\n",
       "</div>"
      ],
      "text/plain": [
       "                        F1-мера Скорость (сек)\n",
       "Решающее дерево            0.57          0.467\n",
       "Случайный лес              0.58           48.0\n",
       "Логистическая регрессия   0.285         0.0956"
      ]
     },
     "execution_count": 18,
     "metadata": {},
     "output_type": "execute_result"
    }
   ],
   "source": [
    "pd.DataFrame({'F1-мера': [f'{best_f1_scor_1:.3}', f'{best_f1_scor_2:.3}', f'{best_f1_scor_3:.3}']\n",
    "              , 'Скорость (сек)': [f'{totalTime_1:.3}', f'{totalTime_2:.3}', f'{totalTime_3:.3}']}\n",
    "             , index=['Решающее дерево', 'Случайный лес', 'Логистическая регрессия'])"
   ]
  },
  {
   "cell_type": "markdown",
   "metadata": {},
   "source": [
    "## Борьба с дисбалансом"
   ]
  },
  {
   "cell_type": "markdown",
   "metadata": {},
   "source": [
    "###### Увеличим выборки техникой upsampling."
   ]
  },
  {
   "cell_type": "code",
   "execution_count": 19,
   "metadata": {},
   "outputs": [],
   "source": [
    "def upsample(features, target, repeat):\n",
    "    # разделим обучающую выборку на отрицательные и положительные объекты\n",
    "    features_zeros = features[target == 0] \n",
    "    features_ones = features[target == 1]\n",
    "    target_zeros = target[target == 0]\n",
    "    target_ones = target[target == 1]\n",
    "    # продублируем объекты положительного класса и объединим их с объектами отрицательного класса\n",
    "    features_upsampled = pd.concat([features_zeros] + [features_ones] * repeat)\n",
    "    target_upsampled = pd.concat([target_zeros] + [target_ones] * repeat)\n",
    "    # перемешаем данные\n",
    "    features_upsampled, target_upsampled = shuffle(\n",
    "        features_upsampled, target_upsampled, random_state=12345)\n",
    "    \n",
    "    return features_upsampled, target_upsampled\n",
    "# вызовем функцию для обучающих данных\n",
    "features_upsampled, target_upsampled = upsample(features_train, target_train, 4) "
   ]
  },
  {
   "cell_type": "markdown",
   "metadata": {},
   "source": [
    "После увеличеня выборки построим модель с учетом дисбаланса классов."
   ]
  },
  {
   "cell_type": "markdown",
   "metadata": {},
   "source": [
    "###### Дерево решения"
   ]
  },
  {
   "cell_type": "code",
   "execution_count": 20,
   "metadata": {},
   "outputs": [
    {
     "name": "stdout",
     "output_type": "stream",
     "text": [
      "Лучшее значение F1-меры равно 0.576 при глубине дерева 8.\n",
      "Время, затраченное на выполнение данного кода 0.617\n"
     ]
    }
   ],
   "source": [
    "startTime_4 = time.time()\n",
    "\n",
    "best_f1_scor_4 = 0\n",
    "best_depth = None\n",
    "\n",
    "for depth in range(1, 20):\n",
    "    model = DecisionTreeClassifier(max_depth=depth, random_state=12345)\n",
    "    model.fit(features_upsampled, target_upsampled) \n",
    "    predictions = model.predict(features_valid)\n",
    "    f1_scor = f1_score(target_valid, predictions) \n",
    "    if f1_scor > best_f1_scor_4:\n",
    "        best_f1_scor_4 = f1_scor\n",
    "        best_depth = depth \n",
    "        \n",
    "print(f'Лучшее значение F1-меры равно {best_f1_scor_4:.3} при глубине дерева {best_depth}.')\n",
    "\n",
    "endTime_4 = time.time()\n",
    "totalTime_4 = endTime_4 - startTime_4\n",
    "print(f\"Время, затраченное на выполнение данного кода {totalTime_4:.3}\")"
   ]
  },
  {
   "cell_type": "markdown",
   "metadata": {},
   "source": [
    "###### Случайный лес"
   ]
  },
  {
   "cell_type": "code",
   "execution_count": 21,
   "metadata": {},
   "outputs": [
    {
     "name": "stdout",
     "output_type": "stream",
     "text": [
      "Лучшее значение F1-меры равно 0.628 при глубине дерева 10 и при количестве деревьев 110.\n",
      "Время, затраченное на выполнение данного кода 65.2\n"
     ]
    }
   ],
   "source": [
    "startTime_5 = time.time()\n",
    "\n",
    "best_f1_scor_5 = 0\n",
    "best_depth = None\n",
    "best_est = None\n",
    "\n",
    "for est in range(80, 140, 5):\n",
    "    for depth in range(2, 16, 2):\n",
    "        model = RandomForestClassifier(n_estimators=est, max_depth=depth, random_state=12345)\n",
    "        model.fit(features_upsampled, target_upsampled) \n",
    "        predictions = model.predict(features_valid)\n",
    "        f1_scor = f1_score(target_valid, predictions)\n",
    "        if f1_scor > best_f1_scor_5:\n",
    "            best_f1_scor_5 = f1_scor \n",
    "            best_est = est\n",
    "            best_depth = depth\n",
    "            \n",
    "print(f'Лучшее значение F1-меры равно {best_f1_scor_5:.3} при глубине дерева {best_depth} и при количестве деревьев {best_est}.')\n",
    "\n",
    "endTime_5 = time.time()\n",
    "totalTime_5 = endTime_5 - startTime_5\n",
    "print(f\"Время, затраченное на выполнение данного кода {totalTime_5:.3}\")"
   ]
  },
  {
   "cell_type": "markdown",
   "metadata": {},
   "source": [
    "###### Логистическая регрессия"
   ]
  },
  {
   "cell_type": "code",
   "execution_count": 22,
   "metadata": {
    "scrolled": true
   },
   "outputs": [
    {
     "name": "stdout",
     "output_type": "stream",
     "text": [
      "Лучшее значение F1-меры равно 0.462.\n",
      "Время, затраченное на выполнение данного кода 0.0263\n"
     ]
    }
   ],
   "source": [
    "startTime_6 = time.time()\n",
    "\n",
    "best_f1_scor_6 = 0\n",
    "model = LogisticRegression(random_state=12345, solver='liblinear')\n",
    "model.fit(features_upsampled, target_upsampled)\n",
    "predictions = model.predict(features_valid)\n",
    "best_f1_scor_6 = f1_score(target_valid, predictions)\n",
    "\n",
    "print(f'Лучшее значение F1-меры равно {best_f1_scor_6:.3}.')\n",
    "\n",
    "endTime_6 = time.time()\n",
    "totalTime_6 = endTime_6 - startTime_6\n",
    "print(f\"Время, затраченное на выполнение данного кода {totalTime_6:.3}\")"
   ]
  },
  {
   "cell_type": "markdown",
   "metadata": {},
   "source": [
    "###### Уменьшим  выборки техникой downsampling."
   ]
  },
  {
   "cell_type": "code",
   "execution_count": 23,
   "metadata": {},
   "outputs": [],
   "source": [
    "def downsample(features, target, fraction):\n",
    "    features_zeros = features[target == 0]\n",
    "    features_ones = features[target == 1]\n",
    "    target_zeros = target[target == 0]\n",
    "    target_ones = target[target == 1]\n",
    "\n",
    "    features_downsampled = pd.concat(\n",
    "        [features_zeros.sample(frac=fraction, random_state=12345)] + [features_ones])\n",
    "    target_downsampled = pd.concat(\n",
    "        [target_zeros.sample(frac=fraction, random_state=12345)] + [target_ones])\n",
    "    \n",
    "    features_downsampled, target_downsampled = shuffle(\n",
    "        features_downsampled, target_downsampled, random_state=12345)\n",
    "    \n",
    "    return features_downsampled, target_downsampled\n",
    "\n",
    "features_downsampled, target_downsampled = downsample(features_train, target_train, 0.25)"
   ]
  },
  {
   "cell_type": "markdown",
   "metadata": {},
   "source": [
    "После уменьшения выборки построим модель с учетом дисбаланса классов."
   ]
  },
  {
   "cell_type": "markdown",
   "metadata": {},
   "source": [
    "###### Дерево решения"
   ]
  },
  {
   "cell_type": "code",
   "execution_count": 24,
   "metadata": {},
   "outputs": [
    {
     "name": "stdout",
     "output_type": "stream",
     "text": [
      "Лучшее значение F1-меры равно 0.561 при глубине дерева 5.\n",
      "Время, затраченное на выполнение данного кода 0.252\n"
     ]
    }
   ],
   "source": [
    "startTime_7 = time.time()\n",
    "\n",
    "best_f1_scor_7 = 0\n",
    "best_depth = None\n",
    "\n",
    "for depth in range(1, 20):\n",
    "    model = DecisionTreeClassifier(max_depth=depth, random_state=12345)\n",
    "    model.fit(features_downsampled, target_downsampled) \n",
    "    predictions = model.predict(features_valid)\n",
    "    f1_scor = f1_score(target_valid, predictions) \n",
    "    if f1_scor > best_f1_scor_7:\n",
    "        best_f1_scor_7 = f1_scor\n",
    "        best_depth = depth \n",
    "        \n",
    "print(f'Лучшее значение F1-меры равно {best_f1_scor_7:.3} при глубине дерева {best_depth}.')\n",
    "\n",
    "endTime_7 = time.time()\n",
    "totalTime_7 = endTime_7 - startTime_7\n",
    "print(f\"Время, затраченное на выполнение данного кода {totalTime_7:.3}\")"
   ]
  },
  {
   "cell_type": "markdown",
   "metadata": {},
   "source": [
    "###### Случайный лес"
   ]
  },
  {
   "cell_type": "code",
   "execution_count": 25,
   "metadata": {},
   "outputs": [
    {
     "name": "stdout",
     "output_type": "stream",
     "text": [
      "Лучшее значение F1-меры равно 0.621 при глубине дерева 10 и при количестве деревьев 110.\n",
      "Время, затраченное на выполнение данного кода 27.3\n"
     ]
    }
   ],
   "source": [
    "startTime_8 = time.time()\n",
    "\n",
    "best_f1_scor_8 = 0\n",
    "best_depth = None\n",
    "best_est = None \n",
    "\n",
    "for est in range(80, 140, 5):\n",
    "    for depth in range(2, 16, 2):\n",
    "        model = RandomForestClassifier(n_estimators=est, max_depth=depth, random_state=12345)\n",
    "        model.fit(features_downsampled, target_downsampled)  \n",
    "        predictions = model.predict(features_valid)\n",
    "        f1_scor = f1_score(target_valid, predictions)\n",
    "        if f1_scor > best_f1_scor_8:\n",
    "            best_f1_scor_8 = f1_scor  \n",
    "            best_depth = depth\n",
    "            best_est = est\n",
    "            \n",
    "print(f'Лучшее значение F1-меры равно {best_f1_scor_8:.3} при глубине дерева {best_depth} и при количестве деревьев {best_est}.')\n",
    "\n",
    "endTime_8 = time.time()\n",
    "totalTime_8 = endTime_8 - startTime_8\n",
    "print(f\"Время, затраченное на выполнение данного кода {totalTime_8:.3}\")"
   ]
  },
  {
   "cell_type": "markdown",
   "metadata": {},
   "source": [
    "###### Логистическая регрессия"
   ]
  },
  {
   "cell_type": "code",
   "execution_count": 26,
   "metadata": {},
   "outputs": [
    {
     "name": "stdout",
     "output_type": "stream",
     "text": [
      "Лучшее значение F1-меры равно 0.465.\n",
      "Время, затраченное на выполнение данного кода 0.0149\n"
     ]
    }
   ],
   "source": [
    "startTime_9 = time.time()\n",
    "\n",
    "best_f1_scor_9 = 0\n",
    "model = LogisticRegression(random_state=12345, solver='liblinear')\n",
    "model.fit(features_downsampled, target_downsampled)\n",
    "predictions = model.predict(features_valid)\n",
    "best_f1_scor_9 = f1_score(target_valid, predictions)\n",
    "\n",
    "print(f'Лучшее значение F1-меры равно {best_f1_scor_9:.3}.')\n",
    "\n",
    "endTime_9 = time.time()\n",
    "totalTime_9 = endTime_9 - startTime_9\n",
    "print(f\"Время, затраченное на выполнение данного кода {totalTime_9:.3}\")"
   ]
  },
  {
   "cell_type": "markdown",
   "metadata": {},
   "source": [
    "#### Вывод"
   ]
  },
  {
   "cell_type": "markdown",
   "metadata": {},
   "source": [
    "Качество моделей при технике увеличения выборки больше чем при технике уменьшения выборки, кроме логистической регрессии, качество которой больше при уменьшении выборки. В дальнейшем используем увеличенные обучющие выборки.  \n",
    "\n",
    "Объединим критерии в таблицу:"
   ]
  },
  {
   "cell_type": "code",
   "execution_count": 27,
   "metadata": {},
   "outputs": [
    {
     "data": {
      "text/html": [
       "<div>\n",
       "<style scoped>\n",
       "    .dataframe tbody tr th:only-of-type {\n",
       "        vertical-align: middle;\n",
       "    }\n",
       "\n",
       "    .dataframe tbody tr th {\n",
       "        vertical-align: top;\n",
       "    }\n",
       "\n",
       "    .dataframe thead th {\n",
       "        text-align: right;\n",
       "    }\n",
       "</style>\n",
       "<table border=\"1\" class=\"dataframe\">\n",
       "  <thead>\n",
       "    <tr style=\"text-align: right;\">\n",
       "      <th></th>\n",
       "      <th></th>\n",
       "      <th>F1-мера</th>\n",
       "      <th>Скорость (сек)</th>\n",
       "    </tr>\n",
       "  </thead>\n",
       "  <tbody>\n",
       "    <tr>\n",
       "      <th rowspan=\"3\" valign=\"top\">upsampling</th>\n",
       "      <th>Решающее дерево</th>\n",
       "      <td>0.576</td>\n",
       "      <td>0.617</td>\n",
       "    </tr>\n",
       "    <tr>\n",
       "      <th>Случайный лес</th>\n",
       "      <td>0.628</td>\n",
       "      <td>65.2</td>\n",
       "    </tr>\n",
       "    <tr>\n",
       "      <th>Логистическая регрессия</th>\n",
       "      <td>0.462</td>\n",
       "      <td>0.0263</td>\n",
       "    </tr>\n",
       "    <tr>\n",
       "      <th rowspan=\"3\" valign=\"top\">downsampling</th>\n",
       "      <th>Решающее дерево</th>\n",
       "      <td>0.561</td>\n",
       "      <td>0.252</td>\n",
       "    </tr>\n",
       "    <tr>\n",
       "      <th>Случайный лес</th>\n",
       "      <td>0.621</td>\n",
       "      <td>27.3</td>\n",
       "    </tr>\n",
       "    <tr>\n",
       "      <th>Логистическая регрессия</th>\n",
       "      <td>0.465</td>\n",
       "      <td>0.0149</td>\n",
       "    </tr>\n",
       "  </tbody>\n",
       "</table>\n",
       "</div>"
      ],
      "text/plain": [
       "                                     F1-мера Скорость (сек)\n",
       "upsampling   Решающее дерево           0.576          0.617\n",
       "             Случайный лес             0.628           65.2\n",
       "             Логистическая регрессия   0.462         0.0263\n",
       "downsampling Решающее дерево           0.561          0.252\n",
       "             Случайный лес             0.621           27.3\n",
       "             Логистическая регрессия   0.465         0.0149"
      ]
     },
     "execution_count": 27,
     "metadata": {},
     "output_type": "execute_result"
    }
   ],
   "source": [
    "pd.DataFrame({'F1-мера': [f'{best_f1_scor_4:.3}', f'{best_f1_scor_5:.3}', f'{best_f1_scor_6:.3}'\n",
    "                           , f'{best_f1_scor_7:.3}', f'{best_f1_scor_8:.3}', f'{best_f1_scor_9:.3}']\n",
    "              , 'Скорость (сек)': [f'{totalTime_4:.3}', f'{totalTime_5:.3}', f'{totalTime_6:.3}'\n",
    "                                  , f'{totalTime_7:.3}', f'{totalTime_8:.3}', f'{totalTime_9:.3}']}\n",
    "             , index=[['upsampling', 'upsampling', 'upsampling', 'downsampling', 'downsampling', 'downsampling'], ['Решающее дерево', 'Случайный лес', 'Логистическая регрессия'\n",
    "                        , 'Решающее дерево', 'Случайный лес', 'Логистическая регрессия']])"
   ]
  },
  {
   "cell_type": "markdown",
   "metadata": {},
   "source": [
    "## Тестирование модели"
   ]
  },
  {
   "cell_type": "markdown",
   "metadata": {},
   "source": [
    "Посчитаем качество модели с учетом увеличенной выборки. Лучшее качество показала модель **случайный лес**. Его и проверим на тестовой выборке. "
   ]
  },
  {
   "cell_type": "markdown",
   "metadata": {},
   "source": [
    "###### Случайный лес"
   ]
  },
  {
   "cell_type": "code",
   "execution_count": 28,
   "metadata": {},
   "outputs": [
    {
     "name": "stdout",
     "output_type": "stream",
     "text": [
      "Значение F1-меры равно 0.626.\n",
      "Время, затраченное на выполнение данного кода 0.959\n"
     ]
    }
   ],
   "source": [
    "startTime_10 = time.time()\n",
    "\n",
    "best_f1_scor_10 = 0\n",
    "\n",
    "model_forest = RandomForestClassifier(n_estimators=110, max_depth=10, random_state=12345)\n",
    "model_forest.fit(features_upsampled, target_upsampled)\n",
    "predictions = model_forest.predict(features_test) \n",
    "best_f1_scor_10 = f1_score(target_test, predictions)\n",
    "            \n",
    "print(f'Значение F1-меры равно {best_f1_scor_10:.3}.')\n",
    "\n",
    "endTime_10 = time.time()\n",
    "totalTime_10 = endTime_10 - startTime_10\n",
    "print(f\"Время, затраченное на выполнение данного кода {totalTime_10:.3}\")"
   ]
  },
  {
   "cell_type": "markdown",
   "metadata": {},
   "source": [
    "###### Исследуем метрику **AUC-ROC**."
   ]
  },
  {
   "cell_type": "markdown",
   "metadata": {},
   "source": [
    "Для **случайного леса**."
   ]
  },
  {
   "cell_type": "code",
   "execution_count": 29,
   "metadata": {},
   "outputs": [
    {
     "name": "stdout",
     "output_type": "stream",
     "text": [
      "AUC-ROC для случайного леса 0.866.\n"
     ]
    }
   ],
   "source": [
    "probabilities_test_forest = model_forest.predict_proba(features_test)\n",
    "probabilities_one_test = probabilities_test_forest[:, 1]\n",
    "fpr_forest, tpr_forest, thresholds = roc_curve(target_test, probabilities_one_test)\n",
    "\n",
    "roc_auc_forest = roc_auc_score(target_test, probabilities_one_test)\n",
    "print(f'AUC-ROC для случайного леса {roc_auc_forest:.3}.')"
   ]
  },
  {
   "cell_type": "markdown",
   "metadata": {},
   "source": [
    "Построим ROC-кривую для нашей модели. "
   ]
  },
  {
   "cell_type": "code",
   "execution_count": 30,
   "metadata": {},
   "outputs": [
    {
     "data": {
      "image/png": "[encoded data removed]",
      "text/plain": [
       "<Figure size 864x864 with 1 Axes>"
      ]
     },
     "metadata": {
      "needs_background": "light"
     },
     "output_type": "display_data"
    }
   ],
   "source": [
    "plt.figure(figsize=(12, 12))\n",
    "plt.plot(fpr_forest, tpr_forest, label='Случайный лес')\n",
    "plt.plot([0, 1], [0, 1], linestyle='--', label='Случайная модель')\n",
    "plt.ylim([0.0, 1.0])\n",
    "plt.xlim([0.0, 1.0])\n",
    "plt.xlabel(\"False Positive Rate\")\n",
    "plt.ylabel(\"True Positive Rate\")\n",
    "plt.title(\"ROC-кривая\")\n",
    "plt.legend()\n",
    "\n",
    "plt.show()"
   ]
  },
  {
   "cell_type": "markdown",
   "metadata": {},
   "source": [
    "При построении ROC кривой получили типовой график, который показал **случайный лес**. Качество **AUC-ROC** больше **F-меры**. "
   ]
  },
  {
   "cell_type": "markdown",
   "metadata": {},
   "source": [
    "## Общий  вывод"
   ]
  },
  {
   "cell_type": "markdown",
   "metadata": {},
   "source": [
    "###### Общая таблица"
   ]
  },
  {
   "cell_type": "code",
   "execution_count": 31,
   "metadata": {},
   "outputs": [
    {
     "data": {
      "text/html": [
       "<div>\n",
       "<style scoped>\n",
       "    .dataframe tbody tr th:only-of-type {\n",
       "        vertical-align: middle;\n",
       "    }\n",
       "\n",
       "    .dataframe tbody tr th {\n",
       "        vertical-align: top;\n",
       "    }\n",
       "\n",
       "    .dataframe thead th {\n",
       "        text-align: right;\n",
       "    }\n",
       "</style>\n",
       "<table border=\"1\" class=\"dataframe\">\n",
       "  <thead>\n",
       "    <tr style=\"text-align: right;\">\n",
       "      <th></th>\n",
       "      <th></th>\n",
       "      <th>F1-мера</th>\n",
       "      <th>AUC-ROC</th>\n",
       "    </tr>\n",
       "  </thead>\n",
       "  <tbody>\n",
       "    <tr>\n",
       "      <th rowspan=\"3\" valign=\"top\">Без учета дисбаланса</th>\n",
       "      <th>Решающее дерево</th>\n",
       "      <td>0.57</td>\n",
       "      <td>-</td>\n",
       "    </tr>\n",
       "    <tr>\n",
       "      <th>Случайный лес</th>\n",
       "      <td>0.58</td>\n",
       "      <td>-</td>\n",
       "    </tr>\n",
       "    <tr>\n",
       "      <th>Логистическая регрессия</th>\n",
       "      <td>0.285</td>\n",
       "      <td>-</td>\n",
       "    </tr>\n",
       "    <tr>\n",
       "      <th>С учетом дисбаланса</th>\n",
       "      <th>Случайный лес</th>\n",
       "      <td>0.626</td>\n",
       "      <td>0.866</td>\n",
       "    </tr>\n",
       "  </tbody>\n",
       "</table>\n",
       "</div>"
      ],
      "text/plain": [
       "                                             F1-мера AUC-ROC\n",
       "Без учета дисбаланса Решающее дерево            0.57       -\n",
       "                     Случайный лес              0.58       -\n",
       "                     Логистическая регрессия   0.285       -\n",
       "С учетом дисбаланса  Случайный лес             0.626   0.866"
      ]
     },
     "execution_count": 31,
     "metadata": {},
     "output_type": "execute_result"
    }
   ],
   "source": [
    "pd.DataFrame({'F1-мера': [f'{best_f1_scor_1:.3}', f'{best_f1_scor_2:.3}', f'{best_f1_scor_3:.3}'\n",
    "                           , f'{best_f1_scor_10:.3}']\n",
    "              , 'AUC-ROC': ['-', '-', '-'\n",
    "                            , f'{roc_auc_forest:.3}']}\n",
    "             , index=[['Без учета дисбаланса', 'Без учета дисбаланса', 'Без учета дисбаланса'\n",
    "                       , 'С учетом дисбаланса']\n",
    "                      , ['Решающее дерево', 'Случайный лес', 'Логистическая регрессия'\n",
    "                        , 'Случайный лес']])"
   ]
  },
  {
   "cell_type": "markdown",
   "metadata": {},
   "source": [
    "Цель исследования - построить модель с метрикой **F1-мера** до 0.59, была достигнута. Отношение оттока клиентов к оставшимся составляет 1:4. Это дисбаланс классов. \n",
    "\n",
    "Картина распределения \"мест\" моделей по метрике **F1-меры** с учетом и без учета дисбаланса похожая. Самое высокое значение у **случайного леса**. На втором месте — **решающее дерево**. Самое низкое качество предсказания у **логистической регрессии**. Если говорить про лучшую модель, а именно **случайный лес**, то для него такие относительно высокие значения получились при глубине дерева - 10, и при количестве деревьев - 110.\n",
    "\n",
    "Высокая скорость работы у **логистической регрессии**. Скорость **решающего дерева** тоже высокая и зависит от глубины. **Случайный лес** медленнее всех: чем больше деревьев, тем неторопливее работает модель.\n",
    "\n",
    "Сравнение значений качества метрик приведено к общей таблице(см.выше)."
   ]
  }
 ],
 "metadata": {
  "ExecuteTimeLog": [
   {
    "duration": 2124,
    "start_time": "2022-04-18T03:56:24.009Z"
   },
   {
    "duration": 37,
    "start_time": "2022-04-18T03:57:33.637Z"
   },
   {
    "duration": 19,
    "start_time": "2022-04-18T03:58:27.773Z"
   },
   {
    "duration": 24,
    "start_time": "2022-04-18T04:03:03.410Z"
   },
   {
    "duration": 6,
    "start_time": "2022-04-18T04:04:38.190Z"
   },
   {
    "duration": 17,
    "start_time": "2022-04-18T04:04:57.492Z"
   },
   {
    "duration": 1684,
    "start_time": "2022-04-18T16:08:47.889Z"
   },
   {
    "duration": 29,
    "start_time": "2022-04-18T16:08:49.575Z"
   },
   {
    "duration": 15,
    "start_time": "2022-04-18T16:08:49.605Z"
   },
   {
    "duration": 11,
    "start_time": "2022-04-18T16:08:49.623Z"
   },
   {
    "duration": 4,
    "start_time": "2022-04-18T16:08:49.636Z"
   },
   {
    "duration": 11,
    "start_time": "2022-04-18T16:08:49.642Z"
   },
   {
    "duration": 126,
    "start_time": "2022-04-18T16:14:48.153Z"
   },
   {
    "duration": 113,
    "start_time": "2022-04-18T16:14:54.544Z"
   },
   {
    "duration": 188,
    "start_time": "2022-04-18T16:15:04.904Z"
   },
   {
    "duration": 200,
    "start_time": "2022-04-18T16:15:36.139Z"
   },
   {
    "duration": 181,
    "start_time": "2022-04-18T16:15:46.111Z"
   },
   {
    "duration": 112,
    "start_time": "2022-04-18T16:15:51.407Z"
   },
   {
    "duration": 106,
    "start_time": "2022-04-18T16:54:32.928Z"
   },
   {
    "duration": 4,
    "start_time": "2022-04-18T16:55:07.244Z"
   },
   {
    "duration": 41,
    "start_time": "2022-04-18T16:55:07.249Z"
   },
   {
    "duration": 13,
    "start_time": "2022-04-18T16:55:07.292Z"
   },
   {
    "duration": 20,
    "start_time": "2022-04-18T16:55:07.307Z"
   },
   {
    "duration": 3,
    "start_time": "2022-04-18T16:55:07.328Z"
   },
   {
    "duration": 11,
    "start_time": "2022-04-18T16:55:07.333Z"
   },
   {
    "duration": 130,
    "start_time": "2022-04-18T16:55:07.346Z"
   },
   {
    "duration": 212,
    "start_time": "2022-04-18T16:55:07.478Z"
   },
   {
    "duration": 264,
    "start_time": "2022-04-18T16:55:13.560Z"
   },
   {
    "duration": 208,
    "start_time": "2022-04-18T16:56:47.215Z"
   },
   {
    "duration": 196,
    "start_time": "2022-04-18T16:56:58.295Z"
   },
   {
    "duration": 250,
    "start_time": "2022-04-18T16:57:19.953Z"
   },
   {
    "duration": 201,
    "start_time": "2022-04-18T16:58:05.177Z"
   },
   {
    "duration": 73,
    "start_time": "2022-04-18T17:00:00.783Z"
   },
   {
    "duration": 63,
    "start_time": "2022-04-18T17:00:20.803Z"
   },
   {
    "duration": 665,
    "start_time": "2022-04-18T17:07:00.996Z"
   },
   {
    "duration": 11,
    "start_time": "2022-04-18T17:07:08.796Z"
   },
   {
    "duration": 6,
    "start_time": "2022-04-18T17:07:17.355Z"
   },
   {
    "duration": 15,
    "start_time": "2022-04-18T17:07:31.686Z"
   },
   {
    "duration": 4,
    "start_time": "2022-04-18T17:09:20.816Z"
   },
   {
    "duration": 15,
    "start_time": "2022-04-18T17:11:48.070Z"
   },
   {
    "duration": 4,
    "start_time": "2022-04-18T17:16:55.049Z"
   },
   {
    "duration": 152,
    "start_time": "2022-04-18T17:16:55.097Z"
   },
   {
    "duration": 11,
    "start_time": "2022-04-18T17:16:55.251Z"
   },
   {
    "duration": 12,
    "start_time": "2022-04-18T17:16:55.263Z"
   },
   {
    "duration": 3,
    "start_time": "2022-04-18T17:16:55.276Z"
   },
   {
    "duration": 23,
    "start_time": "2022-04-18T17:16:55.281Z"
   },
   {
    "duration": 0,
    "start_time": "2022-04-18T17:16:55.306Z"
   },
   {
    "duration": 0,
    "start_time": "2022-04-18T17:16:55.307Z"
   },
   {
    "duration": 0,
    "start_time": "2022-04-18T17:16:55.308Z"
   },
   {
    "duration": 0,
    "start_time": "2022-04-18T17:16:55.309Z"
   },
   {
    "duration": 0,
    "start_time": "2022-04-18T17:16:55.310Z"
   },
   {
    "duration": 0,
    "start_time": "2022-04-18T17:16:55.311Z"
   },
   {
    "duration": 4,
    "start_time": "2022-04-18T17:17:07.938Z"
   },
   {
    "duration": 183,
    "start_time": "2022-04-18T17:17:07.944Z"
   },
   {
    "duration": 12,
    "start_time": "2022-04-18T17:17:08.129Z"
   },
   {
    "duration": 16,
    "start_time": "2022-04-18T17:17:08.142Z"
   },
   {
    "duration": 4,
    "start_time": "2022-04-18T17:17:08.160Z"
   },
   {
    "duration": 8,
    "start_time": "2022-04-18T17:17:08.166Z"
   },
   {
    "duration": 16,
    "start_time": "2022-04-18T17:17:08.175Z"
   },
   {
    "duration": 123,
    "start_time": "2022-04-18T17:17:08.192Z"
   },
   {
    "duration": 12,
    "start_time": "2022-04-18T17:17:08.316Z"
   },
   {
    "duration": 6,
    "start_time": "2022-04-18T17:17:08.330Z"
   },
   {
    "duration": 13,
    "start_time": "2022-04-18T17:17:08.337Z"
   },
   {
    "duration": 10,
    "start_time": "2022-04-18T17:17:08.351Z"
   },
   {
    "duration": 8,
    "start_time": "2022-04-18T17:17:39.013Z"
   },
   {
    "duration": 4,
    "start_time": "2022-04-18T17:17:41.118Z"
   },
   {
    "duration": 15,
    "start_time": "2022-04-18T17:18:20.187Z"
   },
   {
    "duration": 10,
    "start_time": "2022-04-18T17:28:42.442Z"
   },
   {
    "duration": 22,
    "start_time": "2022-04-18T17:31:48.074Z"
   },
   {
    "duration": 22,
    "start_time": "2022-04-18T17:31:58.465Z"
   },
   {
    "duration": 19,
    "start_time": "2022-04-18T17:32:10.967Z"
   },
   {
    "duration": 18,
    "start_time": "2022-04-18T17:32:20.655Z"
   },
   {
    "duration": 10,
    "start_time": "2022-04-18T17:32:25.735Z"
   },
   {
    "duration": 471,
    "start_time": "2022-04-18T17:46:11.186Z"
   },
   {
    "duration": 467,
    "start_time": "2022-04-18T17:46:22.167Z"
   },
   {
    "duration": 471,
    "start_time": "2022-04-18T17:49:25.885Z"
   },
   {
    "duration": 37598,
    "start_time": "2022-04-18T18:03:47.516Z"
   },
   {
    "duration": 18,
    "start_time": "2022-04-18T18:10:23.465Z"
   },
   {
    "duration": 196,
    "start_time": "2022-04-18T18:15:11.204Z"
   },
   {
    "duration": 11,
    "start_time": "2022-04-18T18:17:06.574Z"
   },
   {
    "duration": 4,
    "start_time": "2022-04-18T18:17:34.183Z"
   },
   {
    "duration": 39,
    "start_time": "2022-04-18T18:17:34.189Z"
   },
   {
    "duration": 16,
    "start_time": "2022-04-18T18:17:34.230Z"
   },
   {
    "duration": 16,
    "start_time": "2022-04-18T18:17:34.248Z"
   },
   {
    "duration": 4,
    "start_time": "2022-04-18T18:17:34.266Z"
   },
   {
    "duration": 8,
    "start_time": "2022-04-18T18:17:34.272Z"
   },
   {
    "duration": 23,
    "start_time": "2022-04-18T18:17:34.282Z"
   },
   {
    "duration": 196,
    "start_time": "2022-04-18T18:17:34.307Z"
   },
   {
    "duration": 14,
    "start_time": "2022-04-18T18:17:34.506Z"
   },
   {
    "duration": 5,
    "start_time": "2022-04-18T18:17:34.523Z"
   },
   {
    "duration": 21,
    "start_time": "2022-04-18T18:17:34.529Z"
   },
   {
    "duration": 10,
    "start_time": "2022-04-18T18:17:34.552Z"
   },
   {
    "duration": 0,
    "start_time": "2022-04-18T18:17:34.564Z"
   },
   {
    "duration": 0,
    "start_time": "2022-04-18T18:17:34.565Z"
   },
   {
    "duration": 0,
    "start_time": "2022-04-18T18:17:34.566Z"
   },
   {
    "duration": 4,
    "start_time": "2022-04-18T18:17:50.768Z"
   },
   {
    "duration": 24,
    "start_time": "2022-04-18T18:17:50.789Z"
   },
   {
    "duration": 12,
    "start_time": "2022-04-18T18:17:51.091Z"
   },
   {
    "duration": 13,
    "start_time": "2022-04-18T18:17:51.104Z"
   },
   {
    "duration": 3,
    "start_time": "2022-04-18T18:17:51.118Z"
   },
   {
    "duration": 5,
    "start_time": "2022-04-18T18:17:51.123Z"
   },
   {
    "duration": 14,
    "start_time": "2022-04-18T18:17:51.130Z"
   },
   {
    "duration": 133,
    "start_time": "2022-04-18T18:17:51.145Z"
   },
   {
    "duration": 13,
    "start_time": "2022-04-18T18:17:51.962Z"
   },
   {
    "duration": 5,
    "start_time": "2022-04-18T18:17:51.977Z"
   },
   {
    "duration": 28,
    "start_time": "2022-04-18T18:17:52.166Z"
   },
   {
    "duration": 10,
    "start_time": "2022-04-18T18:17:52.253Z"
   },
   {
    "duration": 38534,
    "start_time": "2022-04-18T18:17:53.240Z"
   },
   {
    "duration": 26,
    "start_time": "2022-04-18T18:18:31.776Z"
   },
   {
    "duration": 9,
    "start_time": "2022-04-18T18:18:31.803Z"
   },
   {
    "duration": 10,
    "start_time": "2022-04-18T18:18:44.488Z"
   },
   {
    "duration": 11,
    "start_time": "2022-04-18T18:19:44.999Z"
   },
   {
    "duration": 543,
    "start_time": "2022-04-18T18:20:08.074Z"
   },
   {
    "duration": 4,
    "start_time": "2022-04-18T18:21:55.854Z"
   },
   {
    "duration": 38,
    "start_time": "2022-04-18T18:21:55.909Z"
   },
   {
    "duration": 13,
    "start_time": "2022-04-18T18:21:55.949Z"
   },
   {
    "duration": 14,
    "start_time": "2022-04-18T18:21:55.963Z"
   },
   {
    "duration": 4,
    "start_time": "2022-04-18T18:21:55.978Z"
   },
   {
    "duration": 9,
    "start_time": "2022-04-18T18:21:55.984Z"
   },
   {
    "duration": 11,
    "start_time": "2022-04-18T18:21:55.995Z"
   },
   {
    "duration": 132,
    "start_time": "2022-04-18T18:21:56.008Z"
   },
   {
    "duration": 12,
    "start_time": "2022-04-18T18:21:56.142Z"
   },
   {
    "duration": 6,
    "start_time": "2022-04-18T18:21:56.155Z"
   },
   {
    "duration": 41,
    "start_time": "2022-04-18T18:21:56.162Z"
   },
   {
    "duration": 500,
    "start_time": "2022-04-18T18:21:56.205Z"
   },
   {
    "duration": 39786,
    "start_time": "2022-04-18T18:21:56.707Z"
   },
   {
    "duration": 23,
    "start_time": "2022-04-18T18:22:36.495Z"
   },
   {
    "duration": 9,
    "start_time": "2022-04-18T18:22:36.520Z"
   },
   {
    "duration": 24,
    "start_time": "2022-04-18T18:24:30.283Z"
   },
   {
    "duration": 63,
    "start_time": "2022-04-18T18:57:54.180Z"
   },
   {
    "duration": 11,
    "start_time": "2022-04-18T19:08:26.693Z"
   },
   {
    "duration": 8,
    "start_time": "2022-04-18T19:09:06.235Z"
   },
   {
    "duration": 5,
    "start_time": "2022-04-18T19:09:09.764Z"
   },
   {
    "duration": 4,
    "start_time": "2022-04-18T19:09:37.197Z"
   },
   {
    "duration": 5,
    "start_time": "2022-04-18T19:10:21.538Z"
   },
   {
    "duration": 4,
    "start_time": "2022-04-18T19:10:50.463Z"
   },
   {
    "duration": 10,
    "start_time": "2022-04-18T19:11:07.533Z"
   },
   {
    "duration": 4,
    "start_time": "2022-04-18T19:11:07.978Z"
   },
   {
    "duration": 3,
    "start_time": "2022-04-18T19:12:34.673Z"
   },
   {
    "duration": 4,
    "start_time": "2022-04-18T19:12:42.728Z"
   },
   {
    "duration": 7,
    "start_time": "2022-04-18T19:17:57.226Z"
   },
   {
    "duration": 201,
    "start_time": "2022-04-18T19:18:49.103Z"
   },
   {
    "duration": 13,
    "start_time": "2022-04-18T19:25:36.169Z"
   },
   {
    "duration": 822,
    "start_time": "2022-04-18T19:25:36.184Z"
   },
   {
    "duration": 43485,
    "start_time": "2022-04-18T19:25:37.008Z"
   },
   {
    "duration": 33,
    "start_time": "2022-04-18T19:26:20.499Z"
   },
   {
    "duration": 102,
    "start_time": "2022-04-18T19:26:20.602Z"
   },
   {
    "duration": 31,
    "start_time": "2022-04-18T19:29:21.182Z"
   },
   {
    "duration": 96,
    "start_time": "2022-04-18T19:29:21.217Z"
   },
   {
    "duration": 264,
    "start_time": "2022-04-18T19:29:21.401Z"
   },
   {
    "duration": 17281,
    "start_time": "2022-04-18T19:29:21.667Z"
   },
   {
    "duration": 53,
    "start_time": "2022-04-18T19:29:38.950Z"
   },
   {
    "duration": 1667,
    "start_time": "2022-04-19T04:04:13.465Z"
   },
   {
    "duration": 43,
    "start_time": "2022-04-19T04:04:15.135Z"
   },
   {
    "duration": 18,
    "start_time": "2022-04-19T04:04:15.180Z"
   },
   {
    "duration": 13,
    "start_time": "2022-04-19T04:04:15.200Z"
   },
   {
    "duration": 4,
    "start_time": "2022-04-19T04:04:15.215Z"
   },
   {
    "duration": 7,
    "start_time": "2022-04-19T04:04:15.221Z"
   },
   {
    "duration": 15,
    "start_time": "2022-04-19T04:04:15.230Z"
   },
   {
    "duration": 155,
    "start_time": "2022-04-19T04:04:15.247Z"
   },
   {
    "duration": 18,
    "start_time": "2022-04-19T04:04:15.404Z"
   },
   {
    "duration": 6,
    "start_time": "2022-04-19T04:04:15.425Z"
   },
   {
    "duration": 23,
    "start_time": "2022-04-19T04:04:15.432Z"
   },
   {
    "duration": 532,
    "start_time": "2022-04-19T04:04:15.456Z"
   },
   {
    "duration": 39108,
    "start_time": "2022-04-19T04:04:15.990Z"
   },
   {
    "duration": 125,
    "start_time": "2022-04-19T04:04:55.099Z"
   },
   {
    "duration": 97,
    "start_time": "2022-04-19T04:04:55.227Z"
   },
   {
    "duration": 13,
    "start_time": "2022-04-19T04:04:55.326Z"
   },
   {
    "duration": 647,
    "start_time": "2022-04-19T04:04:55.341Z"
   },
   {
    "duration": 54467,
    "start_time": "2022-04-19T04:04:55.990Z"
   },
   {
    "duration": 67,
    "start_time": "2022-04-19T04:05:50.459Z"
   },
   {
    "duration": 97,
    "start_time": "2022-04-19T04:05:50.529Z"
   },
   {
    "duration": 258,
    "start_time": "2022-04-19T04:05:50.628Z"
   },
   {
    "duration": 16093,
    "start_time": "2022-04-19T04:05:50.888Z"
   },
   {
    "duration": 45,
    "start_time": "2022-04-19T04:06:06.983Z"
   },
   {
    "duration": 3703,
    "start_time": "2022-04-19T04:06:07.031Z"
   },
   {
    "duration": 27423,
    "start_time": "2022-04-19T04:06:10.737Z"
   },
   {
    "duration": 120,
    "start_time": "2022-04-19T04:06:38.238Z"
   },
   {
    "duration": 261,
    "start_time": "2022-04-19T04:06:38.360Z"
   },
   {
    "duration": 0,
    "start_time": "2022-04-19T04:06:38.623Z"
   },
   {
    "duration": 1864,
    "start_time": "2022-04-19T16:41:54.408Z"
   },
   {
    "duration": 30,
    "start_time": "2022-04-19T16:41:56.274Z"
   },
   {
    "duration": 18,
    "start_time": "2022-04-19T16:41:56.305Z"
   },
   {
    "duration": 15,
    "start_time": "2022-04-19T16:41:56.325Z"
   },
   {
    "duration": 4,
    "start_time": "2022-04-19T16:41:56.343Z"
   },
   {
    "duration": 7,
    "start_time": "2022-04-19T16:41:56.349Z"
   },
   {
    "duration": 39,
    "start_time": "2022-04-19T16:41:56.358Z"
   },
   {
    "duration": 181,
    "start_time": "2022-04-19T16:41:56.399Z"
   },
   {
    "duration": 19,
    "start_time": "2022-04-19T16:41:56.582Z"
   },
   {
    "duration": 7,
    "start_time": "2022-04-19T16:41:56.603Z"
   },
   {
    "duration": 23,
    "start_time": "2022-04-19T16:41:56.612Z"
   },
   {
    "duration": 617,
    "start_time": "2022-04-19T16:41:56.636Z"
   },
   {
    "duration": 48275,
    "start_time": "2022-04-19T16:41:57.256Z"
   },
   {
    "duration": 61,
    "start_time": "2022-04-19T16:42:45.534Z"
   },
   {
    "duration": 100,
    "start_time": "2022-04-19T16:42:45.597Z"
   },
   {
    "duration": 33,
    "start_time": "2022-04-19T16:42:45.699Z"
   },
   {
    "duration": 716,
    "start_time": "2022-04-19T16:42:45.734Z"
   },
   {
    "duration": 65450,
    "start_time": "2022-04-19T16:42:46.453Z"
   },
   {
    "duration": 38,
    "start_time": "2022-04-19T16:43:51.906Z"
   },
   {
    "duration": 105,
    "start_time": "2022-04-19T16:43:51.996Z"
   },
   {
    "duration": 282,
    "start_time": "2022-04-19T16:43:52.103Z"
   },
   {
    "duration": 18554,
    "start_time": "2022-04-19T16:43:52.392Z"
   },
   {
    "duration": 56,
    "start_time": "2022-04-19T16:44:10.948Z"
   },
   {
    "duration": 3701,
    "start_time": "2022-04-19T16:44:11.007Z"
   },
   {
    "duration": 27400,
    "start_time": "2022-04-19T16:44:14.711Z"
   },
   {
    "duration": 198,
    "start_time": "2022-04-19T16:44:42.194Z"
   },
   {
    "duration": 212,
    "start_time": "2022-04-19T16:44:42.395Z"
   },
   {
    "duration": 0,
    "start_time": "2022-04-19T16:44:42.609Z"
   },
   {
    "duration": 4,
    "start_time": "2022-04-19T16:48:00.923Z"
   },
   {
    "duration": 25,
    "start_time": "2022-04-19T16:48:00.937Z"
   },
   {
    "duration": 13,
    "start_time": "2022-04-19T16:48:00.964Z"
   },
   {
    "duration": 17,
    "start_time": "2022-04-19T16:48:00.979Z"
   },
   {
    "duration": 4,
    "start_time": "2022-04-19T16:48:00.997Z"
   },
   {
    "duration": 12,
    "start_time": "2022-04-19T16:48:01.003Z"
   },
   {
    "duration": 27,
    "start_time": "2022-04-19T16:48:01.016Z"
   },
   {
    "duration": 142,
    "start_time": "2022-04-19T16:48:01.045Z"
   },
   {
    "duration": 12,
    "start_time": "2022-04-19T16:48:01.192Z"
   },
   {
    "duration": 14,
    "start_time": "2022-04-19T16:48:01.206Z"
   },
   {
    "duration": 28,
    "start_time": "2022-04-19T16:48:01.222Z"
   },
   {
    "duration": 572,
    "start_time": "2022-04-19T16:48:01.252Z"
   },
   {
    "duration": 44717,
    "start_time": "2022-04-19T16:48:01.826Z"
   },
   {
    "duration": 58,
    "start_time": "2022-04-19T16:48:46.545Z"
   },
   {
    "duration": 10,
    "start_time": "2022-04-19T16:48:46.697Z"
   },
   {
    "duration": 11,
    "start_time": "2022-04-19T16:48:46.709Z"
   },
   {
    "duration": 772,
    "start_time": "2022-04-19T16:48:46.722Z"
   },
   {
    "duration": 61718,
    "start_time": "2022-04-19T16:48:47.495Z"
   },
   {
    "duration": 36,
    "start_time": "2022-04-19T16:49:49.215Z"
   },
   {
    "duration": 105,
    "start_time": "2022-04-19T16:49:49.294Z"
   },
   {
    "duration": 294,
    "start_time": "2022-04-19T16:49:49.400Z"
   },
   {
    "duration": 18627,
    "start_time": "2022-04-19T16:49:49.696Z"
   },
   {
    "duration": 67,
    "start_time": "2022-04-19T16:50:08.325Z"
   },
   {
    "duration": 861,
    "start_time": "2022-04-19T16:50:08.395Z"
   },
   {
    "duration": 50940,
    "start_time": "2022-04-19T16:50:09.258Z"
   },
   {
    "duration": 93,
    "start_time": "2022-04-19T16:51:00.200Z"
   },
   {
    "duration": 98,
    "start_time": "2022-04-19T16:51:00.296Z"
   },
   {
    "duration": 13,
    "start_time": "2022-04-19T16:51:00.395Z"
   },
   {
    "duration": 10,
    "start_time": "2022-04-19T16:55:21.815Z"
   },
   {
    "duration": 9,
    "start_time": "2022-04-19T16:55:43.907Z"
   },
   {
    "duration": 10,
    "start_time": "2022-04-19T16:57:07.927Z"
   },
   {
    "duration": 51,
    "start_time": "2022-04-19T16:58:29.914Z"
   },
   {
    "duration": 99,
    "start_time": "2022-04-19T17:05:31.007Z"
   },
   {
    "duration": 34,
    "start_time": "2022-04-19T17:06:26.940Z"
   },
   {
    "duration": 5,
    "start_time": "2022-04-19T17:06:26.994Z"
   },
   {
    "duration": 112,
    "start_time": "2022-04-19T17:06:27.001Z"
   },
   {
    "duration": 89,
    "start_time": "2022-04-19T17:06:27.115Z"
   },
   {
    "duration": 0,
    "start_time": "2022-04-19T17:06:27.206Z"
   },
   {
    "duration": 844,
    "start_time": "2022-04-19T17:07:05.493Z"
   },
   {
    "duration": 11,
    "start_time": "2022-04-19T17:07:06.340Z"
   },
   {
    "duration": 73,
    "start_time": "2022-04-19T17:07:11.008Z"
   },
   {
    "duration": 43,
    "start_time": "2022-04-19T17:07:11.950Z"
   },
   {
    "duration": 4,
    "start_time": "2022-04-19T17:07:21.917Z"
   },
   {
    "duration": 29,
    "start_time": "2022-04-19T17:07:21.923Z"
   },
   {
    "duration": 13,
    "start_time": "2022-04-19T17:07:21.954Z"
   },
   {
    "duration": 18,
    "start_time": "2022-04-19T17:07:21.969Z"
   },
   {
    "duration": 4,
    "start_time": "2022-04-19T17:07:21.989Z"
   },
   {
    "duration": 6,
    "start_time": "2022-04-19T17:07:21.994Z"
   },
   {
    "duration": 14,
    "start_time": "2022-04-19T17:07:22.002Z"
   },
   {
    "duration": 155,
    "start_time": "2022-04-19T17:07:22.017Z"
   },
   {
    "duration": 20,
    "start_time": "2022-04-19T17:07:22.175Z"
   },
   {
    "duration": 8,
    "start_time": "2022-04-19T17:07:22.197Z"
   },
   {
    "duration": 23,
    "start_time": "2022-04-19T17:07:22.206Z"
   },
   {
    "duration": 566,
    "start_time": "2022-04-19T17:07:22.230Z"
   },
   {
    "duration": 45309,
    "start_time": "2022-04-19T17:07:22.798Z"
   },
   {
    "duration": 25,
    "start_time": "2022-04-19T17:08:08.108Z"
   },
   {
    "duration": 13,
    "start_time": "2022-04-19T17:08:08.194Z"
   },
   {
    "duration": 13,
    "start_time": "2022-04-19T17:08:08.293Z"
   },
   {
    "duration": 728,
    "start_time": "2022-04-19T17:08:08.308Z"
   },
   {
    "duration": 62104,
    "start_time": "2022-04-19T17:08:09.038Z"
   },
   {
    "duration": 54,
    "start_time": "2022-04-19T17:09:11.144Z"
   },
   {
    "duration": 103,
    "start_time": "2022-04-19T17:09:11.202Z"
   },
   {
    "duration": 368,
    "start_time": "2022-04-19T17:09:11.307Z"
   },
   {
    "duration": 18385,
    "start_time": "2022-04-19T17:09:11.676Z"
   },
   {
    "duration": 35,
    "start_time": "2022-04-19T17:09:30.063Z"
   },
   {
    "duration": 1028,
    "start_time": "2022-04-19T17:09:30.102Z"
   },
   {
    "duration": 51774,
    "start_time": "2022-04-19T17:09:31.131Z"
   },
   {
    "duration": 118,
    "start_time": "2022-04-19T17:16:47.973Z"
   },
   {
    "duration": 149,
    "start_time": "2022-04-19T17:17:18.277Z"
   },
   {
    "duration": 158,
    "start_time": "2022-04-19T17:17:34.014Z"
   },
   {
    "duration": 187,
    "start_time": "2022-04-19T17:20:57.837Z"
   },
   {
    "duration": 153,
    "start_time": "2022-04-19T17:21:04.466Z"
   },
   {
    "duration": 191,
    "start_time": "2022-04-19T17:21:07.962Z"
   },
   {
    "duration": 211,
    "start_time": "2022-04-19T17:26:13.728Z"
   },
   {
    "duration": 4,
    "start_time": "2022-04-19T18:53:58.048Z"
   },
   {
    "duration": 28,
    "start_time": "2022-04-19T18:53:58.054Z"
   },
   {
    "duration": 13,
    "start_time": "2022-04-19T18:53:58.083Z"
   },
   {
    "duration": 12,
    "start_time": "2022-04-19T18:53:58.098Z"
   },
   {
    "duration": 4,
    "start_time": "2022-04-19T18:53:58.112Z"
   },
   {
    "duration": 6,
    "start_time": "2022-04-19T18:53:58.117Z"
   },
   {
    "duration": 14,
    "start_time": "2022-04-19T18:53:58.124Z"
   },
   {
    "duration": 249,
    "start_time": "2022-04-19T18:53:58.139Z"
   },
   {
    "duration": 13,
    "start_time": "2022-04-19T18:53:58.392Z"
   },
   {
    "duration": 6,
    "start_time": "2022-04-19T18:53:58.406Z"
   },
   {
    "duration": 21,
    "start_time": "2022-04-19T18:53:58.414Z"
   },
   {
    "duration": 581,
    "start_time": "2022-04-19T18:53:58.437Z"
   },
   {
    "duration": 45154,
    "start_time": "2022-04-19T18:53:59.020Z"
   },
   {
    "duration": 39,
    "start_time": "2022-04-19T18:54:44.176Z"
   },
   {
    "duration": 10,
    "start_time": "2022-04-19T18:54:44.393Z"
   },
   {
    "duration": 15,
    "start_time": "2022-04-19T18:54:44.404Z"
   },
   {
    "duration": 733,
    "start_time": "2022-04-19T18:54:44.421Z"
   },
   {
    "duration": 62063,
    "start_time": "2022-04-19T18:54:45.156Z"
   },
   {
    "duration": 76,
    "start_time": "2022-04-19T18:55:47.220Z"
   },
   {
    "duration": 102,
    "start_time": "2022-04-19T18:55:47.299Z"
   },
   {
    "duration": 289,
    "start_time": "2022-04-19T18:55:47.402Z"
   },
   {
    "duration": 19328,
    "start_time": "2022-04-19T18:55:47.693Z"
   },
   {
    "duration": 75,
    "start_time": "2022-04-19T18:56:07.023Z"
   },
   {
    "duration": 857,
    "start_time": "2022-04-19T18:56:07.102Z"
   },
   {
    "duration": 49441,
    "start_time": "2022-04-19T18:56:07.961Z"
   },
   {
    "duration": 34,
    "start_time": "2022-04-19T18:56:57.403Z"
   },
   {
    "duration": 102,
    "start_time": "2022-04-19T18:56:57.494Z"
   },
   {
    "duration": 48,
    "start_time": "2022-04-19T18:56:57.599Z"
   },
   {
    "duration": 52,
    "start_time": "2022-04-19T18:56:57.649Z"
   },
   {
    "duration": 221,
    "start_time": "2022-04-19T18:56:57.793Z"
   },
   {
    "duration": 9,
    "start_time": "2022-04-19T19:00:12.576Z"
   },
   {
    "duration": 9,
    "start_time": "2022-04-19T19:00:32.288Z"
   },
   {
    "duration": 9,
    "start_time": "2022-04-19T19:01:15.709Z"
   },
   {
    "duration": 8,
    "start_time": "2022-04-19T19:07:13.095Z"
   },
   {
    "duration": 19,
    "start_time": "2022-04-19T19:37:35.631Z"
   },
   {
    "duration": 11,
    "start_time": "2022-04-19T19:41:11.480Z"
   },
   {
    "duration": 263,
    "start_time": "2022-04-19T19:42:15.538Z"
   },
   {
    "duration": 18430,
    "start_time": "2022-04-19T19:42:15.803Z"
   },
   {
    "duration": 59,
    "start_time": "2022-04-19T19:42:34.235Z"
   },
   {
    "duration": 107,
    "start_time": "2022-04-19T19:42:34.297Z"
   },
   {
    "duration": 0,
    "start_time": "2022-04-19T19:42:34.405Z"
   },
   {
    "duration": 0,
    "start_time": "2022-04-19T19:42:34.407Z"
   },
   {
    "duration": 0,
    "start_time": "2022-04-19T19:42:34.408Z"
   },
   {
    "duration": 0,
    "start_time": "2022-04-19T19:42:34.409Z"
   },
   {
    "duration": 0,
    "start_time": "2022-04-19T19:42:34.410Z"
   },
   {
    "duration": 0,
    "start_time": "2022-04-19T19:42:34.412Z"
   },
   {
    "duration": 0,
    "start_time": "2022-04-19T19:42:34.412Z"
   },
   {
    "duration": 10,
    "start_time": "2022-04-19T19:45:15.637Z"
   },
   {
    "duration": 13,
    "start_time": "2022-04-19T19:47:35.891Z"
   },
   {
    "duration": 11,
    "start_time": "2022-04-19T19:48:01.616Z"
   },
   {
    "duration": 3,
    "start_time": "2022-04-19T19:49:50.985Z"
   },
   {
    "duration": 31,
    "start_time": "2022-04-19T19:49:50.990Z"
   },
   {
    "duration": 13,
    "start_time": "2022-04-19T19:49:51.023Z"
   },
   {
    "duration": 24,
    "start_time": "2022-04-19T19:49:51.038Z"
   },
   {
    "duration": 4,
    "start_time": "2022-04-19T19:49:51.064Z"
   },
   {
    "duration": 23,
    "start_time": "2022-04-19T19:49:51.070Z"
   },
   {
    "duration": 12,
    "start_time": "2022-04-19T19:49:51.094Z"
   },
   {
    "duration": 151,
    "start_time": "2022-04-19T19:49:51.108Z"
   },
   {
    "duration": 13,
    "start_time": "2022-04-19T19:49:51.261Z"
   },
   {
    "duration": 20,
    "start_time": "2022-04-19T19:49:51.275Z"
   },
   {
    "duration": 21,
    "start_time": "2022-04-19T19:49:51.298Z"
   },
   {
    "duration": 571,
    "start_time": "2022-04-19T19:49:51.321Z"
   },
   {
    "duration": 44089,
    "start_time": "2022-04-19T19:49:51.894Z"
   },
   {
    "duration": 28,
    "start_time": "2022-04-19T19:50:35.993Z"
   },
   {
    "duration": 98,
    "start_time": "2022-04-19T19:50:36.097Z"
   },
   {
    "duration": 11,
    "start_time": "2022-04-19T19:50:36.197Z"
   },
   {
    "duration": 823,
    "start_time": "2022-04-19T19:50:36.209Z"
   },
   {
    "duration": 64884,
    "start_time": "2022-04-19T19:50:37.034Z"
   },
   {
    "duration": 74,
    "start_time": "2022-04-19T19:51:41.920Z"
   },
   {
    "duration": 103,
    "start_time": "2022-04-19T19:51:41.997Z"
   },
   {
    "duration": 291,
    "start_time": "2022-04-19T19:51:42.102Z"
   },
   {
    "duration": 18613,
    "start_time": "2022-04-19T19:51:42.395Z"
   },
   {
    "duration": 84,
    "start_time": "2022-04-19T19:52:01.010Z"
   },
   {
    "duration": 104,
    "start_time": "2022-04-19T19:52:01.097Z"
   },
   {
    "duration": 773,
    "start_time": "2022-04-19T19:52:01.203Z"
   },
   {
    "duration": 50427,
    "start_time": "2022-04-19T19:52:01.978Z"
   },
   {
    "duration": 36,
    "start_time": "2022-04-19T19:52:52.407Z"
   },
   {
    "duration": 12,
    "start_time": "2022-04-19T19:52:52.493Z"
   },
   {
    "duration": 47,
    "start_time": "2022-04-19T19:52:52.596Z"
   },
   {
    "duration": 50,
    "start_time": "2022-04-19T19:52:52.644Z"
   },
   {
    "duration": 308,
    "start_time": "2022-04-19T19:52:52.697Z"
   },
   {
    "duration": 9,
    "start_time": "2022-04-19T19:59:58.876Z"
   },
   {
    "duration": 96,
    "start_time": "2022-04-19T20:00:07.402Z"
   },
   {
    "duration": 98,
    "start_time": "2022-04-19T20:00:07.501Z"
   },
   {
    "duration": 34,
    "start_time": "2022-04-19T20:00:07.601Z"
   },
   {
    "duration": 72,
    "start_time": "2022-04-19T20:00:07.637Z"
   },
   {
    "duration": 13,
    "start_time": "2022-04-19T20:00:07.710Z"
   },
   {
    "duration": 385,
    "start_time": "2022-04-19T20:00:07.725Z"
   },
   {
    "duration": 732,
    "start_time": "2022-04-19T20:00:28.429Z"
   },
   {
    "duration": 49595,
    "start_time": "2022-04-19T20:00:29.162Z"
   },
   {
    "duration": 50,
    "start_time": "2022-04-19T20:01:18.759Z"
   },
   {
    "duration": 182,
    "start_time": "2022-04-19T20:01:18.812Z"
   },
   {
    "duration": 10,
    "start_time": "2022-04-19T20:01:18.995Z"
   },
   {
    "duration": 66,
    "start_time": "2022-04-19T20:01:19.006Z"
   },
   {
    "duration": 26,
    "start_time": "2022-04-19T20:01:19.074Z"
   },
   {
    "duration": 404,
    "start_time": "2022-04-19T20:01:19.102Z"
   },
   {
    "duration": 9,
    "start_time": "2022-04-19T20:10:27.037Z"
   },
   {
    "duration": 9,
    "start_time": "2022-04-19T20:10:32.912Z"
   },
   {
    "duration": 10,
    "start_time": "2022-04-19T20:10:38.238Z"
   },
   {
    "duration": 10933,
    "start_time": "2022-04-20T03:53:12.114Z"
   },
   {
    "duration": 24,
    "start_time": "2022-04-20T03:53:23.048Z"
   },
   {
    "duration": 14,
    "start_time": "2022-04-20T03:53:23.074Z"
   },
   {
    "duration": 11,
    "start_time": "2022-04-20T03:53:23.090Z"
   },
   {
    "duration": 4,
    "start_time": "2022-04-20T03:53:23.102Z"
   },
   {
    "duration": 16,
    "start_time": "2022-04-20T03:53:23.107Z"
   },
   {
    "duration": 10,
    "start_time": "2022-04-20T03:53:23.125Z"
   },
   {
    "duration": 144,
    "start_time": "2022-04-20T03:53:23.136Z"
   },
   {
    "duration": 14,
    "start_time": "2022-04-20T03:53:23.282Z"
   },
   {
    "duration": 5,
    "start_time": "2022-04-20T03:53:23.299Z"
   },
   {
    "duration": 44,
    "start_time": "2022-04-20T03:53:23.306Z"
   },
   {
    "duration": 607,
    "start_time": "2022-04-20T03:53:23.352Z"
   },
   {
    "duration": 37033,
    "start_time": "2022-04-20T03:53:23.961Z"
   },
   {
    "duration": 32,
    "start_time": "2022-04-20T03:54:00.996Z"
   },
   {
    "duration": 5561,
    "start_time": "2022-04-20T03:54:01.029Z"
   },
   {
    "duration": 24,
    "start_time": "2022-04-20T03:54:06.592Z"
   },
   {
    "duration": 652,
    "start_time": "2022-04-20T03:54:06.618Z"
   },
   {
    "duration": 50388,
    "start_time": "2022-04-20T03:54:07.272Z"
   },
   {
    "duration": 64,
    "start_time": "2022-04-20T03:54:57.661Z"
   },
   {
    "duration": 105,
    "start_time": "2022-04-20T03:54:57.726Z"
   },
   {
    "duration": 234,
    "start_time": "2022-04-20T03:54:57.833Z"
   },
   {
    "duration": 15366,
    "start_time": "2022-04-20T03:54:58.069Z"
   },
   {
    "duration": 16,
    "start_time": "2022-04-20T03:55:13.436Z"
   },
   {
    "duration": 404,
    "start_time": "2022-04-20T03:55:13.523Z"
   },
   {
    "duration": 605,
    "start_time": "2022-04-20T03:55:13.928Z"
   },
   {
    "duration": 40143,
    "start_time": "2022-04-20T03:55:14.535Z"
   },
   {
    "duration": 45,
    "start_time": "2022-04-20T03:55:54.680Z"
   },
   {
    "duration": 6962,
    "start_time": "2022-04-20T03:55:54.729Z"
   },
   {
    "duration": 18,
    "start_time": "2022-04-20T03:56:01.692Z"
   },
   {
    "duration": 39,
    "start_time": "2022-04-20T03:56:01.711Z"
   },
   {
    "duration": 12,
    "start_time": "2022-04-20T03:56:01.752Z"
   },
   {
    "duration": 289,
    "start_time": "2022-04-20T03:56:01.825Z"
   },
   {
    "duration": 1994,
    "start_time": "2022-04-20T17:28:15.371Z"
   },
   {
    "duration": 21,
    "start_time": "2022-04-20T17:28:17.367Z"
   },
   {
    "duration": 15,
    "start_time": "2022-04-20T17:28:17.390Z"
   },
   {
    "duration": 20,
    "start_time": "2022-04-20T17:28:17.406Z"
   },
   {
    "duration": 11,
    "start_time": "2022-04-20T17:28:17.429Z"
   },
   {
    "duration": 8,
    "start_time": "2022-04-20T17:28:17.441Z"
   },
   {
    "duration": 11,
    "start_time": "2022-04-20T17:28:17.450Z"
   },
   {
    "duration": 146,
    "start_time": "2022-04-20T17:28:17.463Z"
   },
   {
    "duration": 17,
    "start_time": "2022-04-20T17:28:17.610Z"
   },
   {
    "duration": 6,
    "start_time": "2022-04-20T17:28:17.630Z"
   },
   {
    "duration": 30,
    "start_time": "2022-04-20T17:28:17.638Z"
   },
   {
    "duration": 487,
    "start_time": "2022-04-20T17:28:17.669Z"
   },
   {
    "duration": 41929,
    "start_time": "2022-04-20T17:28:18.158Z"
   },
   {
    "duration": 52,
    "start_time": "2022-04-20T17:29:00.089Z"
   },
   {
    "duration": 27,
    "start_time": "2022-04-20T17:29:00.223Z"
   },
   {
    "duration": 28,
    "start_time": "2022-04-20T17:29:00.252Z"
   },
   {
    "duration": 668,
    "start_time": "2022-04-20T17:29:00.282Z"
   },
   {
    "duration": 58743,
    "start_time": "2022-04-20T17:29:00.951Z"
   },
   {
    "duration": 50,
    "start_time": "2022-04-20T17:29:59.696Z"
   },
   {
    "duration": 89,
    "start_time": "2022-04-20T17:29:59.748Z"
   },
   {
    "duration": 350,
    "start_time": "2022-04-20T17:29:59.839Z"
   },
   {
    "duration": 16340,
    "start_time": "2022-04-20T17:30:00.191Z"
   },
   {
    "duration": 22,
    "start_time": "2022-04-20T17:30:16.533Z"
   },
   {
    "duration": 84,
    "start_time": "2022-04-20T17:30:16.556Z"
   },
   {
    "duration": 726,
    "start_time": "2022-04-20T17:30:16.641Z"
   },
   {
    "duration": 49808,
    "start_time": "2022-04-20T17:30:17.368Z"
   },
   {
    "duration": 50,
    "start_time": "2022-04-20T17:31:07.178Z"
   },
   {
    "duration": 90,
    "start_time": "2022-04-20T17:31:07.238Z"
   },
   {
    "duration": 11,
    "start_time": "2022-04-20T17:31:07.330Z"
   },
   {
    "duration": 101,
    "start_time": "2022-04-20T17:31:07.343Z"
   },
   {
    "duration": 91,
    "start_time": "2022-04-20T17:31:07.446Z"
   },
   {
    "duration": 89,
    "start_time": "2022-04-20T17:31:07.539Z"
   },
   {
    "duration": 205,
    "start_time": "2022-04-20T17:31:07.630Z"
   },
   {
    "duration": 10,
    "start_time": "2022-04-20T17:31:07.837Z"
   },
   {
    "duration": 5,
    "start_time": "2022-04-20T18:49:55.285Z"
   },
   {
    "duration": 43,
    "start_time": "2022-04-20T18:49:55.292Z"
   },
   {
    "duration": 11,
    "start_time": "2022-04-20T18:49:55.337Z"
   },
   {
    "duration": 23,
    "start_time": "2022-04-20T18:49:55.349Z"
   },
   {
    "duration": 4,
    "start_time": "2022-04-20T18:49:55.375Z"
   },
   {
    "duration": 12,
    "start_time": "2022-04-20T18:49:55.381Z"
   },
   {
    "duration": 25,
    "start_time": "2022-04-20T18:49:55.394Z"
   },
   {
    "duration": 126,
    "start_time": "2022-04-20T18:49:55.420Z"
   },
   {
    "duration": 11,
    "start_time": "2022-04-20T18:49:55.548Z"
   },
   {
    "duration": 6,
    "start_time": "2022-04-20T18:49:55.561Z"
   },
   {
    "duration": 25,
    "start_time": "2022-04-20T18:49:55.570Z"
   },
   {
    "duration": 478,
    "start_time": "2022-04-20T18:49:55.597Z"
   },
   {
    "duration": 37518,
    "start_time": "2022-04-20T18:49:56.077Z"
   },
   {
    "duration": 36,
    "start_time": "2022-04-20T18:50:33.597Z"
   },
   {
    "duration": 95,
    "start_time": "2022-04-20T18:50:33.635Z"
   },
   {
    "duration": 105,
    "start_time": "2022-04-20T18:50:33.732Z"
   },
   {
    "duration": 595,
    "start_time": "2022-04-20T18:50:33.838Z"
   },
   {
    "duration": 51275,
    "start_time": "2022-04-20T18:50:34.434Z"
   },
   {
    "duration": 33,
    "start_time": "2022-04-20T18:51:25.710Z"
   },
   {
    "duration": 85,
    "start_time": "2022-04-20T18:51:25.744Z"
   },
   {
    "duration": 324,
    "start_time": "2022-04-20T18:51:25.831Z"
   },
   {
    "duration": 15784,
    "start_time": "2022-04-20T18:51:26.157Z"
   },
   {
    "duration": 15,
    "start_time": "2022-04-20T18:51:41.943Z"
   },
   {
    "duration": 102,
    "start_time": "2022-04-20T18:51:42.023Z"
   },
   {
    "duration": 111,
    "start_time": "2022-04-20T18:51:42.126Z"
   },
   {
    "duration": 0,
    "start_time": "2022-04-20T18:51:42.239Z"
   },
   {
    "duration": 0,
    "start_time": "2022-04-20T18:51:42.240Z"
   },
   {
    "duration": 0,
    "start_time": "2022-04-20T18:51:42.241Z"
   },
   {
    "duration": 0,
    "start_time": "2022-04-20T18:51:42.242Z"
   },
   {
    "duration": 0,
    "start_time": "2022-04-20T18:51:42.243Z"
   },
   {
    "duration": 0,
    "start_time": "2022-04-20T18:51:42.244Z"
   },
   {
    "duration": 0,
    "start_time": "2022-04-20T18:51:42.245Z"
   },
   {
    "duration": 0,
    "start_time": "2022-04-20T18:51:42.246Z"
   },
   {
    "duration": 0,
    "start_time": "2022-04-20T18:51:42.247Z"
   },
   {
    "duration": 647,
    "start_time": "2022-04-20T18:53:03.954Z"
   },
   {
    "duration": 40813,
    "start_time": "2022-04-20T18:53:04.603Z"
   },
   {
    "duration": 37,
    "start_time": "2022-04-20T18:53:45.417Z"
   },
   {
    "duration": 10,
    "start_time": "2022-04-20T18:53:45.523Z"
   },
   {
    "duration": 9,
    "start_time": "2022-04-20T18:53:45.624Z"
   },
   {
    "duration": 43,
    "start_time": "2022-04-20T18:53:45.634Z"
   },
   {
    "duration": 45,
    "start_time": "2022-04-20T18:53:45.679Z"
   },
   {
    "duration": 278,
    "start_time": "2022-04-20T18:53:45.725Z"
   },
   {
    "duration": 8,
    "start_time": "2022-04-20T18:53:46.004Z"
   },
   {
    "duration": 138,
    "start_time": "2022-04-20T18:53:46.014Z"
   },
   {
    "duration": 11,
    "start_time": "2022-04-20T19:01:47.856Z"
   },
   {
    "duration": 10,
    "start_time": "2022-04-20T19:31:13.759Z"
   },
   {
    "duration": 1895,
    "start_time": "2022-04-21T16:35:23.780Z"
   },
   {
    "duration": 30,
    "start_time": "2022-04-21T16:35:25.677Z"
   },
   {
    "duration": 19,
    "start_time": "2022-04-21T16:35:25.709Z"
   },
   {
    "duration": 19,
    "start_time": "2022-04-21T16:35:25.730Z"
   },
   {
    "duration": 5,
    "start_time": "2022-04-21T16:35:25.751Z"
   },
   {
    "duration": 12,
    "start_time": "2022-04-21T16:35:25.757Z"
   },
   {
    "duration": 17,
    "start_time": "2022-04-21T16:35:25.771Z"
   },
   {
    "duration": 172,
    "start_time": "2022-04-21T16:35:25.789Z"
   },
   {
    "duration": 15,
    "start_time": "2022-04-21T16:35:25.962Z"
   },
   {
    "duration": 6,
    "start_time": "2022-04-21T16:35:25.980Z"
   },
   {
    "duration": 23,
    "start_time": "2022-04-21T16:35:25.987Z"
   },
   {
    "duration": 551,
    "start_time": "2022-04-21T16:35:26.033Z"
   },
   {
    "duration": 45354,
    "start_time": "2022-04-21T16:35:26.586Z"
   },
   {
    "duration": 92,
    "start_time": "2022-04-21T16:36:11.942Z"
   },
   {
    "duration": 100,
    "start_time": "2022-04-21T16:36:12.037Z"
   },
   {
    "duration": 20,
    "start_time": "2022-04-21T16:36:12.139Z"
   },
   {
    "duration": 697,
    "start_time": "2022-04-21T16:36:12.160Z"
   },
   {
    "duration": 60268,
    "start_time": "2022-04-21T16:36:12.859Z"
   },
   {
    "duration": 39,
    "start_time": "2022-04-21T16:37:13.128Z"
   },
   {
    "duration": 101,
    "start_time": "2022-04-21T16:37:13.238Z"
   },
   {
    "duration": 286,
    "start_time": "2022-04-21T16:37:13.341Z"
   },
   {
    "duration": 18587,
    "start_time": "2022-04-21T16:37:13.634Z"
   },
   {
    "duration": 28,
    "start_time": "2022-04-21T16:37:32.222Z"
   },
   {
    "duration": 184,
    "start_time": "2022-04-21T16:37:32.251Z"
   },
   {
    "duration": 737,
    "start_time": "2022-04-21T16:37:32.437Z"
   },
   {
    "duration": 48761,
    "start_time": "2022-04-21T16:37:33.176Z"
   },
   {
    "duration": 35,
    "start_time": "2022-04-21T16:38:21.939Z"
   },
   {
    "duration": 97,
    "start_time": "2022-04-21T16:38:22.039Z"
   },
   {
    "duration": 10,
    "start_time": "2022-04-21T16:38:22.138Z"
   },
   {
    "duration": 54,
    "start_time": "2022-04-21T16:38:22.150Z"
   },
   {
    "duration": 128,
    "start_time": "2022-04-21T16:38:22.206Z"
   },
   {
    "duration": 332,
    "start_time": "2022-04-21T16:38:22.336Z"
   },
   {
    "duration": 8,
    "start_time": "2022-04-21T16:38:22.670Z"
   },
   {
    "duration": 11,
    "start_time": "2022-04-21T16:38:22.680Z"
   },
   {
    "duration": 1815,
    "start_time": "2022-04-21T18:03:13.931Z"
   },
   {
    "duration": 30,
    "start_time": "2022-04-21T18:03:15.750Z"
   },
   {
    "duration": 27,
    "start_time": "2022-04-21T18:03:15.782Z"
   },
   {
    "duration": 32,
    "start_time": "2022-04-21T18:03:15.811Z"
   },
   {
    "duration": 4,
    "start_time": "2022-04-21T18:03:15.845Z"
   },
   {
    "duration": 9,
    "start_time": "2022-04-21T18:03:15.851Z"
   },
   {
    "duration": 17,
    "start_time": "2022-04-21T18:03:15.861Z"
   },
   {
    "duration": 194,
    "start_time": "2022-04-21T18:03:15.880Z"
   },
   {
    "duration": 24,
    "start_time": "2022-04-21T18:03:16.082Z"
   },
   {
    "duration": 8,
    "start_time": "2022-04-21T18:03:16.111Z"
   },
   {
    "duration": 10,
    "start_time": "2022-04-21T18:03:16.120Z"
   },
   {
    "duration": 132,
    "start_time": "2022-04-21T18:03:16.132Z"
   },
   {
    "duration": 6,
    "start_time": "2022-04-21T18:04:56.002Z"
   },
   {
    "duration": 45,
    "start_time": "2022-04-21T18:04:56.011Z"
   },
   {
    "duration": 16,
    "start_time": "2022-04-21T18:04:56.059Z"
   },
   {
    "duration": 48,
    "start_time": "2022-04-21T18:04:56.076Z"
   },
   {
    "duration": 5,
    "start_time": "2022-04-21T18:04:56.126Z"
   },
   {
    "duration": 7,
    "start_time": "2022-04-21T18:04:56.133Z"
   },
   {
    "duration": 14,
    "start_time": "2022-04-21T18:04:56.142Z"
   },
   {
    "duration": 166,
    "start_time": "2022-04-21T18:04:56.157Z"
   },
   {
    "duration": 10,
    "start_time": "2022-04-21T18:04:56.325Z"
   },
   {
    "duration": 16,
    "start_time": "2022-04-21T18:04:56.337Z"
   },
   {
    "duration": 3,
    "start_time": "2022-04-21T18:10:32.199Z"
   },
   {
    "duration": 26,
    "start_time": "2022-04-21T18:10:32.204Z"
   },
   {
    "duration": 0,
    "start_time": "2022-04-21T18:10:32.232Z"
   },
   {
    "duration": 18,
    "start_time": "2022-04-21T18:10:32.275Z"
   },
   {
    "duration": 34,
    "start_time": "2022-04-21T18:10:32.302Z"
   },
   {
    "duration": 0,
    "start_time": "2022-04-21T18:10:32.338Z"
   },
   {
    "duration": 0,
    "start_time": "2022-04-21T18:10:32.339Z"
   },
   {
    "duration": 23,
    "start_time": "2022-04-21T18:10:32.348Z"
   },
   {
    "duration": 28,
    "start_time": "2022-04-21T18:10:32.391Z"
   },
   {
    "duration": 0,
    "start_time": "2022-04-21T18:10:32.421Z"
   },
   {
    "duration": 0,
    "start_time": "2022-04-21T18:10:32.422Z"
   },
   {
    "duration": 0,
    "start_time": "2022-04-21T18:10:32.423Z"
   },
   {
    "duration": 16,
    "start_time": "2022-04-21T18:10:32.460Z"
   },
   {
    "duration": 0,
    "start_time": "2022-04-21T18:10:32.478Z"
   },
   {
    "duration": 16,
    "start_time": "2022-04-21T18:10:32.500Z"
   },
   {
    "duration": 0,
    "start_time": "2022-04-21T18:10:32.519Z"
   },
   {
    "duration": 0,
    "start_time": "2022-04-21T18:10:32.520Z"
   },
   {
    "duration": 16,
    "start_time": "2022-04-21T18:10:32.526Z"
   },
   {
    "duration": 0,
    "start_time": "2022-04-21T18:10:32.544Z"
   },
   {
    "duration": 0,
    "start_time": "2022-04-21T18:10:32.545Z"
   },
   {
    "duration": 0,
    "start_time": "2022-04-21T18:10:32.547Z"
   },
   {
    "duration": 0,
    "start_time": "2022-04-21T18:10:32.548Z"
   },
   {
    "duration": 20,
    "start_time": "2022-04-21T18:10:32.561Z"
   },
   {
    "duration": 0,
    "start_time": "2022-04-21T18:10:32.583Z"
   },
   {
    "duration": 0,
    "start_time": "2022-04-21T18:10:32.586Z"
   },
   {
    "duration": 4,
    "start_time": "2022-04-21T18:10:45.259Z"
   },
   {
    "duration": 54,
    "start_time": "2022-04-21T18:10:45.265Z"
   },
   {
    "duration": 14,
    "start_time": "2022-04-21T18:10:45.322Z"
   },
   {
    "duration": 22,
    "start_time": "2022-04-21T18:10:45.338Z"
   },
   {
    "duration": 9,
    "start_time": "2022-04-21T18:10:45.362Z"
   },
   {
    "duration": 34,
    "start_time": "2022-04-21T18:10:45.374Z"
   },
   {
    "duration": 13,
    "start_time": "2022-04-21T18:10:45.410Z"
   },
   {
    "duration": 146,
    "start_time": "2022-04-21T18:10:45.425Z"
   },
   {
    "duration": 13,
    "start_time": "2022-04-21T18:10:45.575Z"
   },
   {
    "duration": 42,
    "start_time": "2022-04-21T18:10:45.590Z"
   },
   {
    "duration": 8,
    "start_time": "2022-04-21T18:10:45.634Z"
   },
   {
    "duration": 6,
    "start_time": "2022-04-21T18:10:45.644Z"
   },
   {
    "duration": 18,
    "start_time": "2022-04-21T18:11:19.210Z"
   },
   {
    "duration": 17,
    "start_time": "2022-04-21T18:11:27.188Z"
   },
   {
    "duration": 10,
    "start_time": "2022-04-21T18:11:32.930Z"
   },
   {
    "duration": 9,
    "start_time": "2022-04-21T18:11:36.612Z"
   },
   {
    "duration": 43,
    "start_time": "2022-04-21T18:12:14.496Z"
   },
   {
    "duration": 4,
    "start_time": "2022-04-21T18:19:45.696Z"
   },
   {
    "duration": 30,
    "start_time": "2022-04-21T18:19:45.702Z"
   },
   {
    "duration": 12,
    "start_time": "2022-04-21T18:19:45.738Z"
   },
   {
    "duration": 17,
    "start_time": "2022-04-21T18:19:45.752Z"
   },
   {
    "duration": 5,
    "start_time": "2022-04-21T18:19:45.770Z"
   },
   {
    "duration": 7,
    "start_time": "2022-04-21T18:19:45.777Z"
   },
   {
    "duration": 12,
    "start_time": "2022-04-21T18:19:45.787Z"
   },
   {
    "duration": 155,
    "start_time": "2022-04-21T18:19:45.801Z"
   },
   {
    "duration": 15,
    "start_time": "2022-04-21T18:19:45.958Z"
   },
   {
    "duration": 9,
    "start_time": "2022-04-21T18:19:45.975Z"
   },
   {
    "duration": 9,
    "start_time": "2022-04-21T18:19:45.985Z"
   },
   {
    "duration": 17,
    "start_time": "2022-04-21T18:19:45.997Z"
   },
   {
    "duration": 6,
    "start_time": "2022-04-21T18:20:55.577Z"
   },
   {
    "duration": 46,
    "start_time": "2022-04-21T18:20:55.586Z"
   },
   {
    "duration": 14,
    "start_time": "2022-04-21T18:20:55.634Z"
   },
   {
    "duration": 16,
    "start_time": "2022-04-21T18:20:55.650Z"
   },
   {
    "duration": 7,
    "start_time": "2022-04-21T18:20:55.668Z"
   },
   {
    "duration": 27,
    "start_time": "2022-04-21T18:20:55.676Z"
   },
   {
    "duration": 18,
    "start_time": "2022-04-21T18:20:55.705Z"
   },
   {
    "duration": 271,
    "start_time": "2022-04-21T18:20:55.725Z"
   },
   {
    "duration": 11,
    "start_time": "2022-04-21T18:20:55.998Z"
   },
   {
    "duration": 12,
    "start_time": "2022-04-21T18:20:56.011Z"
   },
   {
    "duration": 11,
    "start_time": "2022-04-21T18:20:56.025Z"
   },
   {
    "duration": 17,
    "start_time": "2022-04-21T18:20:56.038Z"
   },
   {
    "duration": 4,
    "start_time": "2022-04-21T18:20:56.076Z"
   },
   {
    "duration": 36,
    "start_time": "2022-04-21T18:20:56.082Z"
   },
   {
    "duration": 115,
    "start_time": "2022-04-21T18:26:08.564Z"
   },
   {
    "duration": 4,
    "start_time": "2022-04-21T18:29:05.393Z"
   },
   {
    "duration": 29,
    "start_time": "2022-04-21T18:29:05.399Z"
   },
   {
    "duration": 14,
    "start_time": "2022-04-21T18:29:05.430Z"
   },
   {
    "duration": 13,
    "start_time": "2022-04-21T18:29:05.446Z"
   },
   {
    "duration": 7,
    "start_time": "2022-04-21T18:29:05.461Z"
   },
   {
    "duration": 19,
    "start_time": "2022-04-21T18:29:05.470Z"
   },
   {
    "duration": 12,
    "start_time": "2022-04-21T18:29:05.491Z"
   },
   {
    "duration": 148,
    "start_time": "2022-04-21T18:29:05.505Z"
   },
   {
    "duration": 22,
    "start_time": "2022-04-21T18:29:05.655Z"
   },
   {
    "duration": 12,
    "start_time": "2022-04-21T18:29:05.681Z"
   },
   {
    "duration": 8,
    "start_time": "2022-04-21T18:29:06.007Z"
   },
   {
    "duration": 13,
    "start_time": "2022-04-21T18:29:06.017Z"
   },
   {
    "duration": 3,
    "start_time": "2022-04-21T18:29:06.064Z"
   },
   {
    "duration": 36,
    "start_time": "2022-04-21T18:29:06.069Z"
   },
   {
    "duration": 451,
    "start_time": "2022-04-21T18:29:06.106Z"
   },
   {
    "duration": 37728,
    "start_time": "2022-04-21T18:29:06.702Z"
   },
   {
    "duration": 5,
    "start_time": "2022-04-21T18:34:43.763Z"
   },
   {
    "duration": 36,
    "start_time": "2022-04-21T18:34:43.770Z"
   },
   {
    "duration": 13,
    "start_time": "2022-04-21T18:34:43.808Z"
   },
   {
    "duration": 17,
    "start_time": "2022-04-21T18:34:43.824Z"
   },
   {
    "duration": 4,
    "start_time": "2022-04-21T18:34:43.843Z"
   },
   {
    "duration": 17,
    "start_time": "2022-04-21T18:34:43.849Z"
   },
   {
    "duration": 21,
    "start_time": "2022-04-21T18:34:43.868Z"
   },
   {
    "duration": 154,
    "start_time": "2022-04-21T18:34:43.891Z"
   },
   {
    "duration": 11,
    "start_time": "2022-04-21T18:34:44.048Z"
   },
   {
    "duration": 9,
    "start_time": "2022-04-21T18:34:44.072Z"
   },
   {
    "duration": 14,
    "start_time": "2022-04-21T18:34:44.082Z"
   },
   {
    "duration": 9,
    "start_time": "2022-04-21T18:34:44.098Z"
   },
   {
    "duration": 5,
    "start_time": "2022-04-21T18:34:44.108Z"
   },
   {
    "duration": 36,
    "start_time": "2022-04-21T18:34:44.115Z"
   },
   {
    "duration": 429,
    "start_time": "2022-04-21T18:34:44.153Z"
   },
   {
    "duration": 4,
    "start_time": "2022-04-21T18:45:39.950Z"
   },
   {
    "duration": 36,
    "start_time": "2022-04-21T18:45:39.955Z"
   },
   {
    "duration": 13,
    "start_time": "2022-04-21T18:45:39.992Z"
   },
   {
    "duration": 20,
    "start_time": "2022-04-21T18:45:40.007Z"
   },
   {
    "duration": 6,
    "start_time": "2022-04-21T18:45:40.029Z"
   },
   {
    "duration": 8,
    "start_time": "2022-04-21T18:45:40.037Z"
   },
   {
    "duration": 12,
    "start_time": "2022-04-21T18:45:40.046Z"
   },
   {
    "duration": 152,
    "start_time": "2022-04-21T18:45:40.060Z"
   },
   {
    "duration": 11,
    "start_time": "2022-04-21T18:45:40.214Z"
   },
   {
    "duration": 8,
    "start_time": "2022-04-21T18:45:40.227Z"
   },
   {
    "duration": 7,
    "start_time": "2022-04-21T18:45:40.236Z"
   },
   {
    "duration": 33,
    "start_time": "2022-04-21T18:45:40.245Z"
   },
   {
    "duration": 9,
    "start_time": "2022-04-21T18:45:40.280Z"
   },
   {
    "duration": 26,
    "start_time": "2022-04-21T18:45:40.291Z"
   },
   {
    "duration": 429,
    "start_time": "2022-04-21T18:45:40.319Z"
   },
   {
    "duration": 36000,
    "start_time": "2022-04-21T18:45:40.750Z"
   },
   {
    "duration": 4,
    "start_time": "2022-04-21T19:21:17.652Z"
   },
   {
    "duration": 47,
    "start_time": "2022-04-21T19:21:17.658Z"
   },
   {
    "duration": 12,
    "start_time": "2022-04-21T19:21:17.707Z"
   },
   {
    "duration": 13,
    "start_time": "2022-04-21T19:21:17.721Z"
   },
   {
    "duration": 5,
    "start_time": "2022-04-21T19:21:17.736Z"
   },
   {
    "duration": 10,
    "start_time": "2022-04-21T19:21:17.742Z"
   },
   {
    "duration": 22,
    "start_time": "2022-04-21T19:21:17.754Z"
   },
   {
    "duration": 165,
    "start_time": "2022-04-21T19:21:17.778Z"
   },
   {
    "duration": 11,
    "start_time": "2022-04-21T19:21:17.944Z"
   },
   {
    "duration": 59,
    "start_time": "2022-04-21T19:21:17.957Z"
   },
   {
    "duration": 100,
    "start_time": "2022-04-21T19:21:18.018Z"
   },
   {
    "duration": 7,
    "start_time": "2022-04-21T19:21:18.120Z"
   },
   {
    "duration": 5,
    "start_time": "2022-04-21T19:21:18.129Z"
   },
   {
    "duration": 27,
    "start_time": "2022-04-21T19:21:18.136Z"
   },
   {
    "duration": 448,
    "start_time": "2022-04-21T19:21:18.166Z"
   },
   {
    "duration": 38718,
    "start_time": "2022-04-21T19:21:18.616Z"
   },
   {
    "duration": 65,
    "start_time": "2022-04-21T19:21:57.336Z"
   },
   {
    "duration": 95,
    "start_time": "2022-04-21T19:21:57.405Z"
   },
   {
    "duration": 16,
    "start_time": "2022-04-21T19:21:57.502Z"
   },
   {
    "duration": 626,
    "start_time": "2022-04-21T19:21:57.520Z"
   },
   {
    "duration": 43782,
    "start_time": "2022-04-21T19:21:58.148Z"
   },
   {
    "duration": 51,
    "start_time": "2022-04-21T19:22:41.932Z"
   },
   {
    "duration": 106,
    "start_time": "2022-04-21T19:22:41.988Z"
   },
   {
    "duration": 256,
    "start_time": "2022-04-21T19:22:42.099Z"
   },
   {
    "duration": 16877,
    "start_time": "2022-04-21T19:22:42.357Z"
   },
   {
    "duration": 44,
    "start_time": "2022-04-21T19:22:59.235Z"
   },
   {
    "duration": 112,
    "start_time": "2022-04-21T19:22:59.283Z"
   },
   {
    "duration": 13,
    "start_time": "2022-04-21T19:24:09.021Z"
   },
   {
    "duration": 1003,
    "start_time": "2022-04-21T19:24:11.000Z"
   },
   {
    "duration": 1012,
    "start_time": "2022-04-21T19:24:50.143Z"
   },
   {
    "duration": 976,
    "start_time": "2022-04-21T19:25:12.396Z"
   },
   {
    "duration": 729,
    "start_time": "2022-04-21T19:26:02.629Z"
   },
   {
    "duration": 709,
    "start_time": "2022-04-21T19:26:35.433Z"
   },
   {
    "duration": 4,
    "start_time": "2022-04-21T19:28:55.812Z"
   },
   {
    "duration": 34,
    "start_time": "2022-04-21T19:28:55.818Z"
   },
   {
    "duration": 12,
    "start_time": "2022-04-21T19:28:55.854Z"
   },
   {
    "duration": 24,
    "start_time": "2022-04-21T19:28:55.868Z"
   },
   {
    "duration": 4,
    "start_time": "2022-04-21T19:28:55.894Z"
   },
   {
    "duration": 9,
    "start_time": "2022-04-21T19:28:55.899Z"
   },
   {
    "duration": 12,
    "start_time": "2022-04-21T19:28:55.910Z"
   },
   {
    "duration": 166,
    "start_time": "2022-04-21T19:28:55.924Z"
   },
   {
    "duration": 11,
    "start_time": "2022-04-21T19:28:56.092Z"
   },
   {
    "duration": 7,
    "start_time": "2022-04-21T19:28:56.104Z"
   },
   {
    "duration": 7,
    "start_time": "2022-04-21T19:28:56.114Z"
   },
   {
    "duration": 9,
    "start_time": "2022-04-21T19:28:56.123Z"
   },
   {
    "duration": 7,
    "start_time": "2022-04-21T19:28:56.134Z"
   },
   {
    "duration": 55,
    "start_time": "2022-04-21T19:28:56.142Z"
   },
   {
    "duration": 438,
    "start_time": "2022-04-21T19:28:56.199Z"
   },
   {
    "duration": 37057,
    "start_time": "2022-04-21T19:28:56.639Z"
   },
   {
    "duration": 81,
    "start_time": "2022-04-21T19:29:33.698Z"
   },
   {
    "duration": 103,
    "start_time": "2022-04-21T19:29:33.783Z"
   },
   {
    "duration": 14,
    "start_time": "2022-04-21T19:29:33.888Z"
   },
   {
    "duration": 569,
    "start_time": "2022-04-21T19:29:33.904Z"
   },
   {
    "duration": 41374,
    "start_time": "2022-04-21T19:29:34.475Z"
   },
   {
    "duration": 45,
    "start_time": "2022-04-21T19:30:15.850Z"
   },
   {
    "duration": 104,
    "start_time": "2022-04-21T19:30:15.977Z"
   },
   {
    "duration": 231,
    "start_time": "2022-04-21T19:30:16.087Z"
   },
   {
    "duration": 16066,
    "start_time": "2022-04-21T19:30:16.320Z"
   },
   {
    "duration": 89,
    "start_time": "2022-04-21T19:30:32.388Z"
   },
   {
    "duration": 96,
    "start_time": "2022-04-21T19:30:32.489Z"
   },
   {
    "duration": 697,
    "start_time": "2022-04-21T19:30:32.588Z"
   },
   {
    "duration": 41,
    "start_time": "2022-04-21T19:30:33.289Z"
   },
   {
    "duration": 205,
    "start_time": "2022-04-21T19:30:33.332Z"
   },
   {
    "duration": 11,
    "start_time": "2022-04-21T19:30:33.539Z"
   },
   {
    "duration": 20,
    "start_time": "2022-04-21T19:36:28.998Z"
   },
   {
    "duration": 12,
    "start_time": "2022-04-21T19:37:58.998Z"
   },
   {
    "duration": 1513,
    "start_time": "2022-04-21T19:38:49.596Z"
   },
   {
    "duration": 24,
    "start_time": "2022-04-21T19:38:51.111Z"
   },
   {
    "duration": 15,
    "start_time": "2022-04-21T19:38:51.137Z"
   },
   {
    "duration": 13,
    "start_time": "2022-04-21T19:38:51.154Z"
   },
   {
    "duration": 5,
    "start_time": "2022-04-21T19:38:51.178Z"
   },
   {
    "duration": 25,
    "start_time": "2022-04-21T19:38:51.185Z"
   },
   {
    "duration": 12,
    "start_time": "2022-04-21T19:38:51.211Z"
   },
   {
    "duration": 161,
    "start_time": "2022-04-21T19:38:51.224Z"
   },
   {
    "duration": 17,
    "start_time": "2022-04-21T19:38:51.387Z"
   },
   {
    "duration": 8,
    "start_time": "2022-04-21T19:38:51.406Z"
   },
   {
    "duration": 11,
    "start_time": "2022-04-21T19:38:51.415Z"
   },
   {
    "duration": 9,
    "start_time": "2022-04-21T19:38:51.427Z"
   },
   {
    "duration": 4,
    "start_time": "2022-04-21T19:38:51.437Z"
   },
   {
    "duration": 34,
    "start_time": "2022-04-21T19:38:51.444Z"
   },
   {
    "duration": 474,
    "start_time": "2022-04-21T19:38:51.480Z"
   },
   {
    "duration": 36849,
    "start_time": "2022-04-21T19:38:51.955Z"
   },
   {
    "duration": 87,
    "start_time": "2022-04-21T19:39:28.806Z"
   },
   {
    "duration": 93,
    "start_time": "2022-04-21T19:39:28.896Z"
   },
   {
    "duration": 18,
    "start_time": "2022-04-21T19:39:28.991Z"
   },
   {
    "duration": 553,
    "start_time": "2022-04-21T19:39:29.010Z"
   },
   {
    "duration": 41249,
    "start_time": "2022-04-21T19:39:29.572Z"
   },
   {
    "duration": 153,
    "start_time": "2022-04-21T19:40:10.823Z"
   },
   {
    "duration": 14,
    "start_time": "2022-04-21T19:40:10.978Z"
   },
   {
    "duration": 299,
    "start_time": "2022-04-21T19:40:10.995Z"
   },
   {
    "duration": 16157,
    "start_time": "2022-04-21T19:40:11.296Z"
   },
   {
    "duration": 35,
    "start_time": "2022-04-21T19:40:27.455Z"
   },
   {
    "duration": 194,
    "start_time": "2022-04-21T19:40:27.494Z"
   },
   {
    "duration": 721,
    "start_time": "2022-04-21T19:40:27.690Z"
   },
   {
    "duration": 44,
    "start_time": "2022-04-21T19:40:28.412Z"
   },
   {
    "duration": 235,
    "start_time": "2022-04-21T19:40:28.458Z"
   },
   {
    "duration": 11,
    "start_time": "2022-04-21T19:40:28.695Z"
   },
   {
    "duration": 714,
    "start_time": "2022-04-21T19:44:13.830Z"
   },
   {
    "duration": 2203,
    "start_time": "2022-04-22T03:39:59.278Z"
   },
   {
    "duration": 48,
    "start_time": "2022-04-22T03:40:01.484Z"
   },
   {
    "duration": 30,
    "start_time": "2022-04-22T03:40:01.534Z"
   },
   {
    "duration": 21,
    "start_time": "2022-04-22T03:40:01.567Z"
   },
   {
    "duration": 7,
    "start_time": "2022-04-22T03:40:01.590Z"
   },
   {
    "duration": 10,
    "start_time": "2022-04-22T03:40:01.599Z"
   },
   {
    "duration": 18,
    "start_time": "2022-04-22T03:40:01.611Z"
   },
   {
    "duration": 272,
    "start_time": "2022-04-22T03:40:01.631Z"
   },
   {
    "duration": 19,
    "start_time": "2022-04-22T03:40:01.906Z"
   },
   {
    "duration": 9,
    "start_time": "2022-04-22T03:40:01.929Z"
   },
   {
    "duration": 28,
    "start_time": "2022-04-22T03:40:01.941Z"
   },
   {
    "duration": 25,
    "start_time": "2022-04-22T03:40:01.971Z"
   },
   {
    "duration": 16,
    "start_time": "2022-04-22T03:40:01.999Z"
   },
   {
    "duration": 43,
    "start_time": "2022-04-22T03:40:02.017Z"
   },
   {
    "duration": 600,
    "start_time": "2022-04-22T03:40:02.062Z"
   },
   {
    "duration": 49145,
    "start_time": "2022-04-22T03:40:02.665Z"
   },
   {
    "duration": 81,
    "start_time": "2022-04-22T03:40:51.812Z"
   },
   {
    "duration": 103,
    "start_time": "2022-04-22T03:40:51.897Z"
   },
   {
    "duration": 18,
    "start_time": "2022-04-22T03:40:52.002Z"
   },
   {
    "duration": 824,
    "start_time": "2022-04-22T03:40:52.022Z"
   },
   {
    "duration": 57660,
    "start_time": "2022-04-22T03:40:52.848Z"
   },
   {
    "duration": 86,
    "start_time": "2022-04-22T03:41:50.510Z"
   },
   {
    "duration": 101,
    "start_time": "2022-04-22T03:41:50.603Z"
   },
   {
    "duration": 307,
    "start_time": "2022-04-22T03:41:50.707Z"
   },
   {
    "duration": 21240,
    "start_time": "2022-04-22T03:41:51.016Z"
   },
   {
    "duration": 36,
    "start_time": "2022-04-22T03:42:12.258Z"
   },
   {
    "duration": 198,
    "start_time": "2022-04-22T03:42:12.297Z"
   },
   {
    "duration": 963,
    "start_time": "2022-04-22T03:42:12.500Z"
   },
   {
    "duration": 58,
    "start_time": "2022-04-22T03:42:13.465Z"
   },
   {
    "duration": 322,
    "start_time": "2022-04-22T03:42:13.525Z"
   },
   {
    "duration": 172,
    "start_time": "2022-04-22T03:42:13.849Z"
   },
   {
    "duration": 1023,
    "start_time": "2022-04-22T03:56:27.386Z"
   },
   {
    "duration": 944,
    "start_time": "2022-04-22T03:57:09.436Z"
   },
   {
    "duration": 202,
    "start_time": "2022-04-22T03:57:30.759Z"
   },
   {
    "duration": 943,
    "start_time": "2022-04-22T03:57:36.598Z"
   },
   {
    "duration": 1453,
    "start_time": "2022-04-22T03:58:05.746Z"
   },
   {
    "duration": 228,
    "start_time": "2022-04-22T03:58:36.139Z"
   },
   {
    "duration": 202,
    "start_time": "2022-04-22T03:59:10.869Z"
   },
   {
    "duration": 764,
    "start_time": "2022-04-22T04:01:02.554Z"
   },
   {
    "duration": 1896,
    "start_time": "2022-04-22T04:01:17.293Z"
   },
   {
    "duration": 46,
    "start_time": "2022-04-22T04:01:19.192Z"
   },
   {
    "duration": 25,
    "start_time": "2022-04-22T04:01:19.240Z"
   },
   {
    "duration": 19,
    "start_time": "2022-04-22T04:01:19.267Z"
   },
   {
    "duration": 7,
    "start_time": "2022-04-22T04:01:19.288Z"
   },
   {
    "duration": 10,
    "start_time": "2022-04-22T04:01:19.297Z"
   },
   {
    "duration": 17,
    "start_time": "2022-04-22T04:01:19.310Z"
   },
   {
    "duration": 257,
    "start_time": "2022-04-22T04:01:19.329Z"
   },
   {
    "duration": 18,
    "start_time": "2022-04-22T04:01:19.588Z"
   },
   {
    "duration": 10,
    "start_time": "2022-04-22T04:01:19.610Z"
   },
   {
    "duration": 9,
    "start_time": "2022-04-22T04:01:19.622Z"
   },
   {
    "duration": 13,
    "start_time": "2022-04-22T04:01:19.633Z"
   },
   {
    "duration": 6,
    "start_time": "2022-04-22T04:01:19.648Z"
   },
   {
    "duration": 62,
    "start_time": "2022-04-22T04:01:19.656Z"
   },
   {
    "duration": 587,
    "start_time": "2022-04-22T04:01:19.720Z"
   },
   {
    "duration": 49299,
    "start_time": "2022-04-22T04:01:20.309Z"
   },
   {
    "duration": 32,
    "start_time": "2022-04-22T04:02:09.610Z"
   },
   {
    "duration": 102,
    "start_time": "2022-04-22T04:02:09.693Z"
   },
   {
    "duration": 20,
    "start_time": "2022-04-22T04:02:09.797Z"
   },
   {
    "duration": 767,
    "start_time": "2022-04-22T04:02:09.819Z"
   },
   {
    "duration": 59618,
    "start_time": "2022-04-22T04:02:10.592Z"
   },
   {
    "duration": 84,
    "start_time": "2022-04-22T04:03:10.213Z"
   },
   {
    "duration": 106,
    "start_time": "2022-04-22T04:03:10.300Z"
   },
   {
    "duration": 308,
    "start_time": "2022-04-22T04:03:10.408Z"
   },
   {
    "duration": 21251,
    "start_time": "2022-04-22T04:03:10.718Z"
   },
   {
    "duration": 38,
    "start_time": "2022-04-22T04:03:31.971Z"
   },
   {
    "duration": 188,
    "start_time": "2022-04-22T04:03:32.012Z"
   },
   {
    "duration": 246,
    "start_time": "2022-04-22T04:03:32.204Z"
   },
   {
    "duration": 220,
    "start_time": "2022-04-22T04:03:32.453Z"
   },
   {
    "duration": 675,
    "start_time": "2022-04-22T04:03:32.676Z"
   },
   {
    "duration": 64,
    "start_time": "2022-04-22T04:03:33.353Z"
   },
   {
    "duration": 340,
    "start_time": "2022-04-22T04:03:33.419Z"
   },
   {
    "duration": 168,
    "start_time": "2022-04-22T04:03:33.761Z"
   },
   {
    "duration": 1722,
    "start_time": "2022-04-22T17:18:13.581Z"
   },
   {
    "duration": 29,
    "start_time": "2022-04-22T17:18:15.305Z"
   },
   {
    "duration": 22,
    "start_time": "2022-04-22T17:18:15.340Z"
   },
   {
    "duration": 14,
    "start_time": "2022-04-22T17:18:15.364Z"
   },
   {
    "duration": 4,
    "start_time": "2022-04-22T17:18:15.380Z"
   },
   {
    "duration": 10,
    "start_time": "2022-04-22T17:18:15.385Z"
   },
   {
    "duration": 16,
    "start_time": "2022-04-22T17:18:15.396Z"
   },
   {
    "duration": 154,
    "start_time": "2022-04-22T17:18:15.414Z"
   },
   {
    "duration": 15,
    "start_time": "2022-04-22T17:18:15.569Z"
   },
   {
    "duration": 7,
    "start_time": "2022-04-22T17:18:15.587Z"
   },
   {
    "duration": 7,
    "start_time": "2022-04-22T17:18:15.596Z"
   },
   {
    "duration": 39,
    "start_time": "2022-04-22T17:18:15.605Z"
   },
   {
    "duration": 4,
    "start_time": "2022-04-22T17:18:15.647Z"
   },
   {
    "duration": 28,
    "start_time": "2022-04-22T17:18:15.654Z"
   },
   {
    "duration": 404,
    "start_time": "2022-04-22T17:18:15.684Z"
   },
   {
    "duration": 42592,
    "start_time": "2022-04-22T17:18:16.089Z"
   },
   {
    "duration": 59,
    "start_time": "2022-04-22T17:18:58.683Z"
   },
   {
    "duration": 19,
    "start_time": "2022-04-22T17:18:58.744Z"
   },
   {
    "duration": 232,
    "start_time": "2022-04-22T17:18:58.764Z"
   },
   {
    "duration": 0,
    "start_time": "2022-04-22T17:18:58.998Z"
   },
   {
    "duration": 0,
    "start_time": "2022-04-22T17:18:58.999Z"
   },
   {
    "duration": 0,
    "start_time": "2022-04-22T17:18:59.000Z"
   },
   {
    "duration": 0,
    "start_time": "2022-04-22T17:18:59.001Z"
   },
   {
    "duration": 0,
    "start_time": "2022-04-22T17:18:59.002Z"
   },
   {
    "duration": 0,
    "start_time": "2022-04-22T17:18:59.003Z"
   },
   {
    "duration": 0,
    "start_time": "2022-04-22T17:18:59.004Z"
   },
   {
    "duration": 0,
    "start_time": "2022-04-22T17:18:59.005Z"
   },
   {
    "duration": 0,
    "start_time": "2022-04-22T17:18:59.006Z"
   },
   {
    "duration": 0,
    "start_time": "2022-04-22T17:18:59.007Z"
   },
   {
    "duration": 0,
    "start_time": "2022-04-22T17:18:59.007Z"
   },
   {
    "duration": 0,
    "start_time": "2022-04-22T17:18:59.008Z"
   },
   {
    "duration": 1534,
    "start_time": "2022-04-22T17:26:28.002Z"
   },
   {
    "duration": 38,
    "start_time": "2022-04-22T17:26:29.546Z"
   },
   {
    "duration": 39,
    "start_time": "2022-04-22T17:26:29.587Z"
   },
   {
    "duration": 18,
    "start_time": "2022-04-22T17:26:29.629Z"
   },
   {
    "duration": 12,
    "start_time": "2022-04-22T17:26:29.649Z"
   },
   {
    "duration": 14,
    "start_time": "2022-04-22T17:26:29.662Z"
   },
   {
    "duration": 23,
    "start_time": "2022-04-22T17:26:29.678Z"
   },
   {
    "duration": 175,
    "start_time": "2022-04-22T17:26:29.703Z"
   },
   {
    "duration": 14,
    "start_time": "2022-04-22T17:26:29.880Z"
   },
   {
    "duration": 8,
    "start_time": "2022-04-22T17:26:29.898Z"
   },
   {
    "duration": 27,
    "start_time": "2022-04-22T17:26:29.908Z"
   },
   {
    "duration": 16,
    "start_time": "2022-04-22T17:26:29.936Z"
   },
   {
    "duration": 4,
    "start_time": "2022-04-22T17:26:29.953Z"
   },
   {
    "duration": 29,
    "start_time": "2022-04-22T17:26:29.958Z"
   },
   {
    "duration": 464,
    "start_time": "2022-04-22T17:26:29.989Z"
   },
   {
    "duration": 40978,
    "start_time": "2022-04-22T17:26:30.454Z"
   },
   {
    "duration": 106,
    "start_time": "2022-04-22T17:27:11.435Z"
   },
   {
    "duration": 85,
    "start_time": "2022-04-22T17:27:11.543Z"
   },
   {
    "duration": 33,
    "start_time": "2022-04-22T17:27:11.630Z"
   },
   {
    "duration": 691,
    "start_time": "2022-04-22T17:27:11.665Z"
   },
   {
    "duration": 56821,
    "start_time": "2022-04-22T17:27:12.358Z"
   },
   {
    "duration": 64,
    "start_time": "2022-04-22T17:28:09.181Z"
   },
   {
    "duration": 18,
    "start_time": "2022-04-22T17:28:09.325Z"
   },
   {
    "duration": 23847,
    "start_time": "2022-04-22T17:28:09.345Z"
   },
   {
    "duration": 24076,
    "start_time": "2022-04-22T17:28:33.195Z"
   },
   {
    "duration": 61,
    "start_time": "2022-04-22T17:28:57.273Z"
   },
   {
    "duration": 89,
    "start_time": "2022-04-22T17:28:57.338Z"
   },
   {
    "duration": 714,
    "start_time": "2022-04-22T17:28:57.431Z"
   },
   {
    "duration": 50,
    "start_time": "2022-04-22T17:28:58.148Z"
   },
   {
    "duration": 202,
    "start_time": "2022-04-22T17:28:58.200Z"
   },
   {
    "duration": 173,
    "start_time": "2022-04-22T17:28:58.404Z"
   },
   {
    "duration": 71417,
    "start_time": "2022-04-22T17:35:10.954Z"
   },
   {
    "duration": 29680,
    "start_time": "2022-04-22T17:38:58.471Z"
   },
   {
    "duration": 4,
    "start_time": "2022-04-22T17:44:53.220Z"
   },
   {
    "duration": 4,
    "start_time": "2022-04-22T17:45:08.698Z"
   },
   {
    "duration": 141,
    "start_time": "2022-04-22T17:47:46.493Z"
   },
   {
    "duration": 134,
    "start_time": "2022-04-22T17:47:55.450Z"
   },
   {
    "duration": 62486,
    "start_time": "2022-04-22T17:48:29.716Z"
   },
   {
    "duration": 1444,
    "start_time": "2022-04-22T17:52:50.122Z"
   },
   {
    "duration": 27,
    "start_time": "2022-04-22T17:52:51.568Z"
   },
   {
    "duration": 16,
    "start_time": "2022-04-22T17:52:51.596Z"
   },
   {
    "duration": 12,
    "start_time": "2022-04-22T17:52:51.614Z"
   },
   {
    "duration": 6,
    "start_time": "2022-04-22T17:52:51.627Z"
   },
   {
    "duration": 30,
    "start_time": "2022-04-22T17:52:51.635Z"
   },
   {
    "duration": 9,
    "start_time": "2022-04-22T17:52:51.667Z"
   },
   {
    "duration": 132,
    "start_time": "2022-04-22T17:52:51.678Z"
   },
   {
    "duration": 17,
    "start_time": "2022-04-22T17:52:51.811Z"
   },
   {
    "duration": 6,
    "start_time": "2022-04-22T17:52:51.833Z"
   },
   {
    "duration": 26,
    "start_time": "2022-04-22T17:52:51.841Z"
   },
   {
    "duration": 7,
    "start_time": "2022-04-22T17:52:51.869Z"
   },
   {
    "duration": 4,
    "start_time": "2022-04-22T17:52:51.877Z"
   },
   {
    "duration": 30,
    "start_time": "2022-04-22T17:52:51.883Z"
   },
   {
    "duration": 496,
    "start_time": "2022-04-22T17:52:51.915Z"
   },
   {
    "duration": 0,
    "start_time": "2022-04-22T17:52:52.413Z"
   },
   {
    "duration": 0,
    "start_time": "2022-04-22T17:52:52.415Z"
   },
   {
    "duration": 0,
    "start_time": "2022-04-22T17:52:52.416Z"
   },
   {
    "duration": 1,
    "start_time": "2022-04-22T17:52:52.424Z"
   },
   {
    "duration": 0,
    "start_time": "2022-04-22T17:52:52.426Z"
   },
   {
    "duration": 0,
    "start_time": "2022-04-22T17:52:52.427Z"
   },
   {
    "duration": 0,
    "start_time": "2022-04-22T17:52:52.429Z"
   },
   {
    "duration": 0,
    "start_time": "2022-04-22T17:52:52.431Z"
   },
   {
    "duration": 0,
    "start_time": "2022-04-22T17:52:52.432Z"
   },
   {
    "duration": 0,
    "start_time": "2022-04-22T17:52:52.433Z"
   },
   {
    "duration": 0,
    "start_time": "2022-04-22T17:52:52.435Z"
   },
   {
    "duration": 0,
    "start_time": "2022-04-22T17:52:52.435Z"
   },
   {
    "duration": 0,
    "start_time": "2022-04-22T17:52:52.436Z"
   },
   {
    "duration": 0,
    "start_time": "2022-04-22T17:52:52.437Z"
   },
   {
    "duration": 0,
    "start_time": "2022-04-22T17:52:52.440Z"
   },
   {
    "duration": 0,
    "start_time": "2022-04-22T17:52:52.442Z"
   },
   {
    "duration": 1417,
    "start_time": "2022-04-22T17:57:05.654Z"
   },
   {
    "duration": 27,
    "start_time": "2022-04-22T17:57:07.073Z"
   },
   {
    "duration": 16,
    "start_time": "2022-04-22T17:57:07.102Z"
   },
   {
    "duration": 23,
    "start_time": "2022-04-22T17:57:07.124Z"
   },
   {
    "duration": 7,
    "start_time": "2022-04-22T17:57:07.149Z"
   },
   {
    "duration": 6,
    "start_time": "2022-04-22T17:57:07.159Z"
   },
   {
    "duration": 17,
    "start_time": "2022-04-22T17:57:07.167Z"
   },
   {
    "duration": 224,
    "start_time": "2022-04-22T17:57:07.185Z"
   },
   {
    "duration": 20,
    "start_time": "2022-04-22T17:57:07.411Z"
   },
   {
    "duration": 8,
    "start_time": "2022-04-22T17:57:07.435Z"
   },
   {
    "duration": 20,
    "start_time": "2022-04-22T17:57:07.445Z"
   },
   {
    "duration": 10,
    "start_time": "2022-04-22T17:57:07.467Z"
   },
   {
    "duration": 6,
    "start_time": "2022-04-22T17:57:07.479Z"
   },
   {
    "duration": 29,
    "start_time": "2022-04-22T17:57:07.486Z"
   },
   {
    "duration": 425,
    "start_time": "2022-04-22T17:57:07.524Z"
   },
   {
    "duration": 42044,
    "start_time": "2022-04-22T17:57:07.951Z"
   },
   {
    "duration": 41,
    "start_time": "2022-04-22T17:57:49.996Z"
   },
   {
    "duration": 96,
    "start_time": "2022-04-22T17:57:50.039Z"
   },
   {
    "duration": 41,
    "start_time": "2022-04-22T17:57:50.138Z"
   },
   {
    "duration": 603,
    "start_time": "2022-04-22T17:57:50.181Z"
   },
   {
    "duration": 56789,
    "start_time": "2022-04-22T17:57:50.785Z"
   },
   {
    "duration": 51,
    "start_time": "2022-04-22T17:58:47.576Z"
   },
   {
    "duration": 17,
    "start_time": "2022-04-22T17:58:47.628Z"
   },
   {
    "duration": 339,
    "start_time": "2022-04-22T17:58:47.646Z"
   },
   {
    "duration": 23455,
    "start_time": "2022-04-22T17:58:47.986Z"
   },
   {
    "duration": 14,
    "start_time": "2022-04-22T17:59:11.442Z"
   },
   {
    "duration": 74,
    "start_time": "2022-04-22T17:59:11.458Z"
   },
   {
    "duration": 702,
    "start_time": "2022-04-22T17:59:11.537Z"
   },
   {
    "duration": 37,
    "start_time": "2022-04-22T17:59:12.241Z"
   },
   {
    "duration": 179,
    "start_time": "2022-04-22T17:59:12.280Z"
   },
   {
    "duration": 10,
    "start_time": "2022-04-22T17:59:12.460Z"
   },
   {
    "duration": 1138,
    "start_time": "2022-04-22T18:15:50.932Z"
   },
   {
    "duration": 1773,
    "start_time": "2022-04-23T06:21:12.302Z"
   },
   {
    "duration": 33,
    "start_time": "2022-04-23T06:21:14.077Z"
   },
   {
    "duration": 17,
    "start_time": "2022-04-23T06:21:14.112Z"
   },
   {
    "duration": 14,
    "start_time": "2022-04-23T06:21:14.131Z"
   },
   {
    "duration": 4,
    "start_time": "2022-04-23T06:21:14.147Z"
   },
   {
    "duration": 9,
    "start_time": "2022-04-23T06:21:14.152Z"
   },
   {
    "duration": 13,
    "start_time": "2022-04-23T06:21:14.162Z"
   },
   {
    "duration": 201,
    "start_time": "2022-04-23T06:21:14.177Z"
   },
   {
    "duration": 15,
    "start_time": "2022-04-23T06:21:14.380Z"
   },
   {
    "duration": 7,
    "start_time": "2022-04-23T06:21:14.398Z"
   },
   {
    "duration": 31,
    "start_time": "2022-04-23T06:21:14.406Z"
   },
   {
    "duration": 9,
    "start_time": "2022-04-23T06:21:14.439Z"
   },
   {
    "duration": 4,
    "start_time": "2022-04-23T06:21:14.450Z"
   },
   {
    "duration": 34,
    "start_time": "2022-04-23T06:21:14.456Z"
   },
   {
    "duration": 472,
    "start_time": "2022-04-23T06:21:14.492Z"
   },
   {
    "duration": 47968,
    "start_time": "2022-04-23T06:21:14.965Z"
   },
   {
    "duration": 101,
    "start_time": "2022-04-23T06:22:02.935Z"
   },
   {
    "duration": 99,
    "start_time": "2022-04-23T06:22:03.038Z"
   },
   {
    "duration": 12,
    "start_time": "2022-04-23T06:22:03.139Z"
   },
   {
    "duration": 630,
    "start_time": "2022-04-23T06:22:03.153Z"
   },
   {
    "duration": 65251,
    "start_time": "2022-04-23T06:22:03.785Z"
   },
   {
    "duration": 32,
    "start_time": "2022-04-23T06:23:09.038Z"
   },
   {
    "duration": 103,
    "start_time": "2022-04-23T06:23:09.135Z"
   },
   {
    "duration": 258,
    "start_time": "2022-04-23T06:23:09.241Z"
   },
   {
    "duration": 27272,
    "start_time": "2022-04-23T06:23:09.501Z"
   },
   {
    "duration": 60,
    "start_time": "2022-04-23T06:23:36.775Z"
   },
   {
    "duration": 99,
    "start_time": "2022-04-23T06:23:36.838Z"
   },
   {
    "duration": 967,
    "start_time": "2022-04-23T06:23:36.942Z"
   },
   {
    "duration": 62,
    "start_time": "2022-04-23T06:23:37.910Z"
   },
   {
    "duration": 225,
    "start_time": "2022-04-23T06:23:37.973Z"
   },
   {
    "duration": 11,
    "start_time": "2022-04-23T06:23:38.200Z"
   }
  ],
  "kernelspec": {
   "display_name": "Python 3 (ipykernel)",
   "language": "python",
   "name": "python3"
  },
  "language_info": {
   "codemirror_mode": {
    "name": "ipython",
    "version": 3
   },
   "file_extension": ".py",
   "mimetype": "text/x-python",
   "name": "python",
   "nbconvert_exporter": "python",
   "pygments_lexer": "ipython3",
   "version": "3.9.5"
  },
  "toc": {
   "base_numbering": 1,
   "nav_menu": {},
   "number_sections": true,
   "sideBar": true,
   "skip_h1_title": true,
   "title_cell": "Содержание",
   "title_sidebar": "Contents",
   "toc_cell": true,
   "toc_position": {
    "height": "calc(100% - 180px)",
    "left": "10px",
    "top": "150px",
    "width": "366px"
   },
   "toc_section_display": true,
   "toc_window_display": false
  }
 },
 "nbformat": 4,
 "nbformat_minor": 2
}
