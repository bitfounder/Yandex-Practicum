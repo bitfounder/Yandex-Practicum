{
 "cells": [
  {
   "cell_type": "markdown",
   "metadata": {
    "toc": true
   },
   "source": [
    "<h1>Содержание<span class=\"tocSkip\"></span></h1>\n",
    "<div class=\"toc\"><ul class=\"toc-item\"><li><span><a href=\"#Подготовка-данных\" data-toc-modified-id=\"Подготовка-данных-1\"><span class=\"toc-item-num\">1&nbsp;&nbsp;</span>Подготовка данных</a></span><ul class=\"toc-item\"><li><span><a href=\"#Изучение-данных\" data-toc-modified-id=\"Изучение-данных-1.1\"><span class=\"toc-item-num\">1.1&nbsp;&nbsp;</span>Изучение данных</a></span><ul class=\"toc-item\"><li><span><a href=\"#Вывод\" data-toc-modified-id=\"Вывод-1.1.1\"><span class=\"toc-item-num\">1.1.1&nbsp;&nbsp;</span>Вывод</a></span></li></ul></li><li><span><a href=\"#Проверьте,-что-эффективность-обогащения-рассчитана-правильно.-Вычислите-её-на-обучающей-выборке-для-признака-rougher.output.recovery.-Найдите-MAE-между-вашими-расчётами-и-значением-признака.-Опишите-выводы.\" data-toc-modified-id=\"Проверьте,-что-эффективность-обогащения-рассчитана-правильно.-Вычислите-её-на-обучающей-выборке-для-признака-rougher.output.recovery.-Найдите-MAE-между-вашими-расчётами-и-значением-признака.-Опишите-выводы.-1.2\"><span class=\"toc-item-num\">1.2&nbsp;&nbsp;</span>Проверьте, что эффективность обогащения рассчитана правильно. Вычислите её на обучающей выборке для признака rougher.output.recovery. Найдите MAE между вашими расчётами и значением признака. Опишите выводы.</a></span></li><li><span><a href=\"#Проанализируйте-признаки,-недоступные-в-тестовой-выборке.-Что-это-за-параметры?-К-какому-типу-относятся?\" data-toc-modified-id=\"Проанализируйте-признаки,-недоступные-в-тестовой-выборке.-Что-это-за-параметры?-К-какому-типу-относятся?-1.3\"><span class=\"toc-item-num\">1.3&nbsp;&nbsp;</span>Проанализируйте признаки, недоступные в тестовой выборке. Что это за параметры? К какому типу относятся?</a></span><ul class=\"toc-item\"><li><span><a href=\"#Вывод\" data-toc-modified-id=\"Вывод-1.3.1\"><span class=\"toc-item-num\">1.3.1&nbsp;&nbsp;</span>Вывод</a></span></li></ul></li><li><span><a href=\"#Предобработка-данных\" data-toc-modified-id=\"Предобработка-данных-1.4\"><span class=\"toc-item-num\">1.4&nbsp;&nbsp;</span>Предобработка данных</a></span><ul class=\"toc-item\"><li><span><a href=\"#Вывод\" data-toc-modified-id=\"Вывод-1.4.1\"><span class=\"toc-item-num\">1.4.1&nbsp;&nbsp;</span>Вывод</a></span></li></ul></li></ul></li><li><span><a href=\"#Анализ-данных\" data-toc-modified-id=\"Анализ-данных-2\"><span class=\"toc-item-num\">2&nbsp;&nbsp;</span>Анализ данных</a></span><ul class=\"toc-item\"><li><span><a href=\"#Посмотрите,-как-меняется-концентрация-металлов-(Au,-Ag,-Pb)-на-различных-этапах-очистки.-Опишите-выводы.\" data-toc-modified-id=\"Посмотрите,-как-меняется-концентрация-металлов-(Au,-Ag,-Pb)-на-различных-этапах-очистки.-Опишите-выводы.-2.1\"><span class=\"toc-item-num\">2.1&nbsp;&nbsp;</span>Посмотрите, как меняется концентрация металлов (Au, Ag, Pb) на различных этапах очистки. Опишите выводы.</a></span><ul class=\"toc-item\"><li><span><a href=\"#Вывод\" data-toc-modified-id=\"Вывод-2.1.1\"><span class=\"toc-item-num\">2.1.1&nbsp;&nbsp;</span>Вывод</a></span></li></ul></li><li><span><a href=\"#Сравните-распределения-размеров-гранул-сырья-на-обучающей-и-тестовой-выборках.-Если-распределения-сильно-отличаются-друг-от-друга,-оценка-модели-будет-неправильной.\" data-toc-modified-id=\"Сравните-распределения-размеров-гранул-сырья-на-обучающей-и-тестовой-выборках.-Если-распределения-сильно-отличаются-друг-от-друга,-оценка-модели-будет-неправильной.-2.2\"><span class=\"toc-item-num\">2.2&nbsp;&nbsp;</span>Сравните распределения размеров гранул сырья на обучающей и тестовой выборках. Если распределения сильно отличаются друг от друга, оценка модели будет неправильной.</a></span><ul class=\"toc-item\"><li><span><a href=\"#Вывод\" data-toc-modified-id=\"Вывод-2.2.1\"><span class=\"toc-item-num\">2.2.1&nbsp;&nbsp;</span>Вывод</a></span></li></ul></li><li><span><a href=\"#Исследуйте-суммарную-концентрацию-всех-веществ-на-разных-стадиях:-в-сырье,-в-черновом-и-финальном-концентратах.\" data-toc-modified-id=\"Исследуйте-суммарную-концентрацию-всех-веществ-на-разных-стадиях:-в-сырье,-в-черновом-и-финальном-концентратах.-2.3\"><span class=\"toc-item-num\">2.3&nbsp;&nbsp;</span>Исследуйте суммарную концентрацию всех веществ на разных стадиях: в сырье, в черновом и финальном концентратах.</a></span><ul class=\"toc-item\"><li><span><a href=\"#Вывод\" data-toc-modified-id=\"Вывод-2.3.1\"><span class=\"toc-item-num\">2.3.1&nbsp;&nbsp;</span>Вывод</a></span></li></ul></li></ul></li><li><span><a href=\"#Модель\" data-toc-modified-id=\"Модель-3\"><span class=\"toc-item-num\">3&nbsp;&nbsp;</span>Модель</a></span><ul class=\"toc-item\"><li><span><a href=\"#Напишите-функцию-для-вычисления-итоговой-sMAPE.\" data-toc-modified-id=\"Напишите-функцию-для-вычисления-итоговой-sMAPE.-3.1\"><span class=\"toc-item-num\">3.1&nbsp;&nbsp;</span>Напишите функцию для вычисления итоговой sMAPE.</a></span></li><li><span><a href=\"#Обучите-разные-модели-и-оцените-их-качество-кросс-валидацией.-Выберите-лучшую-модель-и-проверьте-её-на-тестовой-выборке.-Опишите-выводы.\" data-toc-modified-id=\"Обучите-разные-модели-и-оцените-их-качество-кросс-валидацией.-Выберите-лучшую-модель-и-проверьте-её-на-тестовой-выборке.-Опишите-выводы.-3.2\"><span class=\"toc-item-num\">3.2&nbsp;&nbsp;</span>Обучите разные модели и оцените их качество кросс-валидацией. Выберите лучшую модель и проверьте её на тестовой выборке. Опишите выводы.</a></span><ul class=\"toc-item\"><li><span><a href=\"#Решающее-дерево\" data-toc-modified-id=\"Решающее-дерево-3.2.1\"><span class=\"toc-item-num\">3.2.1&nbsp;&nbsp;</span>Решающее дерево</a></span></li><li><span><a href=\"#Линейная-регрессия\" data-toc-modified-id=\"Линейная-регрессия-3.2.2\"><span class=\"toc-item-num\">3.2.2&nbsp;&nbsp;</span>Линейная регрессия</a></span></li><li><span><a href=\"#Проверка-адекватности-регрессионных-моделей\" data-toc-modified-id=\"Проверка-адекватности-регрессионных-моделей-3.2.3\"><span class=\"toc-item-num\">3.2.3&nbsp;&nbsp;</span>Проверка адекватности регрессионных моделей</a></span></li><li><span><a href=\"#Решающее-дерево\" data-toc-modified-id=\"Решающее-дерево-3.2.4\"><span class=\"toc-item-num\">3.2.4&nbsp;&nbsp;</span>Решающее дерево</a></span></li><li><span><a href=\"#Линейная-регрессия\" data-toc-modified-id=\"Линейная-регрессия-3.2.5\"><span class=\"toc-item-num\">3.2.5&nbsp;&nbsp;</span>Линейная регрессия</a></span></li><li><span><a href=\"#Проверка-адекватности-регрессионных-моделей\" data-toc-modified-id=\"Проверка-адекватности-регрессионных-моделей-3.2.6\"><span class=\"toc-item-num\">3.2.6&nbsp;&nbsp;</span>Проверка адекватности регрессионных моделей</a></span></li><li><span><a href=\"#Итоговое-значение-sMAPE\" data-toc-modified-id=\"Итоговое-значение-sMAPE-3.2.7\"><span class=\"toc-item-num\">3.2.7&nbsp;&nbsp;</span>Итоговое значение sMAPE</a></span></li></ul></li></ul></li><li><span><a href=\"#Вывод\" data-toc-modified-id=\"Вывод-4\"><span class=\"toc-item-num\">4&nbsp;&nbsp;</span>Вывод</a></span></li></ul></div>"
   ]
  },
  {
   "cell_type": "markdown",
   "metadata": {},
   "source": [
    "# Восстановление золота из руды"
   ]
  },
  {
   "cell_type": "markdown",
   "metadata": {},
   "source": [
    "Подготовим прототип модели машинного обучения для «Цифры». Компания разрабатывает решения для эффективной работы промышленных предприятий.\n",
    "\n",
    "Модель должна предсказать коэффициент восстановления золота из золотосодержащей руды. Используем данные с параметрами добычи и очистки. \n",
    "\n",
    "Модель поможет оптимизировать производство, чтобы не запускать предприятие с убыточными характеристиками.\n",
    "\n",
    "Нам нужно:\n",
    "\n",
    "1. Подготовить данные;\n",
    "2. Провести исследовательский анализ данных;\n",
    "3. Построить и обучить модель."
   ]
  },
  {
   "cell_type": "markdown",
   "metadata": {},
   "source": [
    "## Подготовка данных"
   ]
  },
  {
   "cell_type": "markdown",
   "metadata": {},
   "source": [
    "### Изучение данных"
   ]
  },
  {
   "cell_type": "markdown",
   "metadata": {},
   "source": [
    "Импортируем необходимые библиотеки."
   ]
  },
  {
   "cell_type": "code",
   "execution_count": 1,
   "metadata": {},
   "outputs": [],
   "source": [
    "import pandas as pd\n",
    "import numpy as np\n",
    "\n",
    "from sklearn.metrics import mean_absolute_error as MAE\n",
    "import matplotlib.pyplot as plt\n",
    "from IPython.display import display\n",
    "from sklearn.linear_model import LinearRegression\n",
    "from sklearn.tree import DecisionTreeRegressor\n",
    "from sklearn.ensemble import RandomForestRegressor\n",
    "from sklearn.dummy import DummyRegressor\n",
    "from sklearn.preprocessing import StandardScaler\n",
    "from sklearn.pipeline import Pipeline\n",
    "from sklearn.model_selection import GridSearchCV\n",
    "from sklearn.model_selection import cross_val_score\n",
    "from sklearn.metrics import mean_absolute_error, r2_score\n",
    "from sklearn.metrics import make_scorer\n",
    "import random\n",
    "\n",
    "import warnings\n",
    "warnings.filterwarnings('ignore')"
   ]
  },
  {
   "cell_type": "markdown",
   "metadata": {},
   "source": [
    "Загрузим данные."
   ]
  },
  {
   "cell_type": "code",
   "execution_count": 2,
   "metadata": {},
   "outputs": [],
   "source": [
    "train = pd.read_csv('https://code.s3.yandex.net/datasets/gold_recovery_train_new.csv')\n",
    "test = pd.read_csv('https://code.s3.yandex.net/datasets/gold_recovery_test_new.csv')\n",
    "full = pd.read_csv('https://code.s3.yandex.net/datasets/gold_recovery_full_new.csv')"
   ]
  },
  {
   "cell_type": "markdown",
   "metadata": {},
   "source": [
    "Напишем функцию для основных характеристик данных."
   ]
  },
  {
   "cell_type": "code",
   "execution_count": 3,
   "metadata": {},
   "outputs": [],
   "source": [
    "start = '\\033[1m' # start и end для жирности текста\n",
    "end = '\\033[0m'\n",
    "\n",
    "def info(data_i):\n",
    "    print(start + 'Посмотрим на первые пять строк данных' + end)\n",
    "    display(data_i.head())\n",
    "    print('______________________________________________________________')\n",
    "    print('')\n",
    "    print(start + 'Посмотрим на общую информацию' + end)\n",
    "    display(data_i.info())\n",
    "    print('______________________________________________________________')\n",
    "    print('')\n",
    "    print(start + 'Посмотрим на основные статистические данные' + end)\n",
    "    display(data_i.describe())\n",
    "    print('______________________________________________________________')\n",
    "    print('')\n",
    "    print(start + 'Посмотрим, есть ли явные дубликаты' + end)\n",
    "    display(data_i.duplicated().sum())\n",
    "    print('______________________________________________________________')\n",
    "    print('')\n",
    "    print(start + 'Посмотрим на неявные дубликаты' + end)\n",
    "    display(data_i['date'].value_counts())\n",
    "    print('')\n",
    "    print(start + 'Посмотрим на пропуски' + end)\n",
    "    display(data_i.isna().sum())"
   ]
  },
  {
   "cell_type": "markdown",
   "metadata": {},
   "source": [
    "Выведем основные характеристики обучающих данных."
   ]
  },
  {
   "cell_type": "code",
   "execution_count": 4,
   "metadata": {
    "scrolled": false
   },
   "outputs": [
    {
     "name": "stdout",
     "output_type": "stream",
     "text": [
      "\u001b[1mПосмотрим на первые пять строк данных\u001b[0m\n"
     ]
    },
    {
     "data": {
      "text/html": [
       "<div>\n",
       "<style scoped>\n",
       "    .dataframe tbody tr th:only-of-type {\n",
       "        vertical-align: middle;\n",
       "    }\n",
       "\n",
       "    .dataframe tbody tr th {\n",
       "        vertical-align: top;\n",
       "    }\n",
       "\n",
       "    .dataframe thead th {\n",
       "        text-align: right;\n",
       "    }\n",
       "</style>\n",
       "<table border=\"1\" class=\"dataframe\">\n",
       "  <thead>\n",
       "    <tr style=\"text-align: right;\">\n",
       "      <th></th>\n",
       "      <th>date</th>\n",
       "      <th>final.output.concentrate_ag</th>\n",
       "      <th>final.output.concentrate_pb</th>\n",
       "      <th>final.output.concentrate_sol</th>\n",
       "      <th>final.output.concentrate_au</th>\n",
       "      <th>final.output.recovery</th>\n",
       "      <th>final.output.tail_ag</th>\n",
       "      <th>final.output.tail_pb</th>\n",
       "      <th>final.output.tail_sol</th>\n",
       "      <th>final.output.tail_au</th>\n",
       "      <th>...</th>\n",
       "      <th>secondary_cleaner.state.floatbank4_a_air</th>\n",
       "      <th>secondary_cleaner.state.floatbank4_a_level</th>\n",
       "      <th>secondary_cleaner.state.floatbank4_b_air</th>\n",
       "      <th>secondary_cleaner.state.floatbank4_b_level</th>\n",
       "      <th>secondary_cleaner.state.floatbank5_a_air</th>\n",
       "      <th>secondary_cleaner.state.floatbank5_a_level</th>\n",
       "      <th>secondary_cleaner.state.floatbank5_b_air</th>\n",
       "      <th>secondary_cleaner.state.floatbank5_b_level</th>\n",
       "      <th>secondary_cleaner.state.floatbank6_a_air</th>\n",
       "      <th>secondary_cleaner.state.floatbank6_a_level</th>\n",
       "    </tr>\n",
       "  </thead>\n",
       "  <tbody>\n",
       "    <tr>\n",
       "      <th>0</th>\n",
       "      <td>2016-01-15 00:00:00</td>\n",
       "      <td>6.055403</td>\n",
       "      <td>9.889648</td>\n",
       "      <td>5.507324</td>\n",
       "      <td>42.192020</td>\n",
       "      <td>70.541216</td>\n",
       "      <td>10.411962</td>\n",
       "      <td>0.895447</td>\n",
       "      <td>16.904297</td>\n",
       "      <td>2.143149</td>\n",
       "      <td>...</td>\n",
       "      <td>14.016835</td>\n",
       "      <td>-502.488007</td>\n",
       "      <td>12.099931</td>\n",
       "      <td>-504.715942</td>\n",
       "      <td>9.925633</td>\n",
       "      <td>-498.310211</td>\n",
       "      <td>8.079666</td>\n",
       "      <td>-500.470978</td>\n",
       "      <td>14.151341</td>\n",
       "      <td>-605.841980</td>\n",
       "    </tr>\n",
       "    <tr>\n",
       "      <th>1</th>\n",
       "      <td>2016-01-15 01:00:00</td>\n",
       "      <td>6.029369</td>\n",
       "      <td>9.968944</td>\n",
       "      <td>5.257781</td>\n",
       "      <td>42.701629</td>\n",
       "      <td>69.266198</td>\n",
       "      <td>10.462676</td>\n",
       "      <td>0.927452</td>\n",
       "      <td>16.634514</td>\n",
       "      <td>2.224930</td>\n",
       "      <td>...</td>\n",
       "      <td>13.992281</td>\n",
       "      <td>-505.503262</td>\n",
       "      <td>11.950531</td>\n",
       "      <td>-501.331529</td>\n",
       "      <td>10.039245</td>\n",
       "      <td>-500.169983</td>\n",
       "      <td>7.984757</td>\n",
       "      <td>-500.582168</td>\n",
       "      <td>13.998353</td>\n",
       "      <td>-599.787184</td>\n",
       "    </tr>\n",
       "    <tr>\n",
       "      <th>2</th>\n",
       "      <td>2016-01-15 02:00:00</td>\n",
       "      <td>6.055926</td>\n",
       "      <td>10.213995</td>\n",
       "      <td>5.383759</td>\n",
       "      <td>42.657501</td>\n",
       "      <td>68.116445</td>\n",
       "      <td>10.507046</td>\n",
       "      <td>0.953716</td>\n",
       "      <td>16.208849</td>\n",
       "      <td>2.257889</td>\n",
       "      <td>...</td>\n",
       "      <td>14.015015</td>\n",
       "      <td>-502.520901</td>\n",
       "      <td>11.912783</td>\n",
       "      <td>-501.133383</td>\n",
       "      <td>10.070913</td>\n",
       "      <td>-500.129135</td>\n",
       "      <td>8.013877</td>\n",
       "      <td>-500.517572</td>\n",
       "      <td>14.028663</td>\n",
       "      <td>-601.427363</td>\n",
       "    </tr>\n",
       "    <tr>\n",
       "      <th>3</th>\n",
       "      <td>2016-01-15 03:00:00</td>\n",
       "      <td>6.047977</td>\n",
       "      <td>9.977019</td>\n",
       "      <td>4.858634</td>\n",
       "      <td>42.689819</td>\n",
       "      <td>68.347543</td>\n",
       "      <td>10.422762</td>\n",
       "      <td>0.883763</td>\n",
       "      <td>16.532835</td>\n",
       "      <td>2.146849</td>\n",
       "      <td>...</td>\n",
       "      <td>14.036510</td>\n",
       "      <td>-500.857308</td>\n",
       "      <td>11.999550</td>\n",
       "      <td>-501.193686</td>\n",
       "      <td>9.970366</td>\n",
       "      <td>-499.201640</td>\n",
       "      <td>7.977324</td>\n",
       "      <td>-500.255908</td>\n",
       "      <td>14.005551</td>\n",
       "      <td>-599.996129</td>\n",
       "    </tr>\n",
       "    <tr>\n",
       "      <th>4</th>\n",
       "      <td>2016-01-15 04:00:00</td>\n",
       "      <td>6.148599</td>\n",
       "      <td>10.142511</td>\n",
       "      <td>4.939416</td>\n",
       "      <td>42.774141</td>\n",
       "      <td>66.927016</td>\n",
       "      <td>10.360302</td>\n",
       "      <td>0.792826</td>\n",
       "      <td>16.525686</td>\n",
       "      <td>2.055292</td>\n",
       "      <td>...</td>\n",
       "      <td>14.027298</td>\n",
       "      <td>-499.838632</td>\n",
       "      <td>11.953070</td>\n",
       "      <td>-501.053894</td>\n",
       "      <td>9.925709</td>\n",
       "      <td>-501.686727</td>\n",
       "      <td>7.894242</td>\n",
       "      <td>-500.356035</td>\n",
       "      <td>13.996647</td>\n",
       "      <td>-601.496691</td>\n",
       "    </tr>\n",
       "  </tbody>\n",
       "</table>\n",
       "<p>5 rows × 87 columns</p>\n",
       "</div>"
      ],
      "text/plain": [
       "                  date  final.output.concentrate_ag  \\\n",
       "0  2016-01-15 00:00:00                     6.055403   \n",
       "1  2016-01-15 01:00:00                     6.029369   \n",
       "2  2016-01-15 02:00:00                     6.055926   \n",
       "3  2016-01-15 03:00:00                     6.047977   \n",
       "4  2016-01-15 04:00:00                     6.148599   \n",
       "\n",
       "   final.output.concentrate_pb  final.output.concentrate_sol  \\\n",
       "0                     9.889648                      5.507324   \n",
       "1                     9.968944                      5.257781   \n",
       "2                    10.213995                      5.383759   \n",
       "3                     9.977019                      4.858634   \n",
       "4                    10.142511                      4.939416   \n",
       "\n",
       "   final.output.concentrate_au  final.output.recovery  final.output.tail_ag  \\\n",
       "0                    42.192020              70.541216             10.411962   \n",
       "1                    42.701629              69.266198             10.462676   \n",
       "2                    42.657501              68.116445             10.507046   \n",
       "3                    42.689819              68.347543             10.422762   \n",
       "4                    42.774141              66.927016             10.360302   \n",
       "\n",
       "   final.output.tail_pb  final.output.tail_sol  final.output.tail_au  ...  \\\n",
       "0              0.895447              16.904297              2.143149  ...   \n",
       "1              0.927452              16.634514              2.224930  ...   \n",
       "2              0.953716              16.208849              2.257889  ...   \n",
       "3              0.883763              16.532835              2.146849  ...   \n",
       "4              0.792826              16.525686              2.055292  ...   \n",
       "\n",
       "   secondary_cleaner.state.floatbank4_a_air  \\\n",
       "0                                 14.016835   \n",
       "1                                 13.992281   \n",
       "2                                 14.015015   \n",
       "3                                 14.036510   \n",
       "4                                 14.027298   \n",
       "\n",
       "   secondary_cleaner.state.floatbank4_a_level  \\\n",
       "0                                 -502.488007   \n",
       "1                                 -505.503262   \n",
       "2                                 -502.520901   \n",
       "3                                 -500.857308   \n",
       "4                                 -499.838632   \n",
       "\n",
       "   secondary_cleaner.state.floatbank4_b_air  \\\n",
       "0                                 12.099931   \n",
       "1                                 11.950531   \n",
       "2                                 11.912783   \n",
       "3                                 11.999550   \n",
       "4                                 11.953070   \n",
       "\n",
       "   secondary_cleaner.state.floatbank4_b_level  \\\n",
       "0                                 -504.715942   \n",
       "1                                 -501.331529   \n",
       "2                                 -501.133383   \n",
       "3                                 -501.193686   \n",
       "4                                 -501.053894   \n",
       "\n",
       "   secondary_cleaner.state.floatbank5_a_air  \\\n",
       "0                                  9.925633   \n",
       "1                                 10.039245   \n",
       "2                                 10.070913   \n",
       "3                                  9.970366   \n",
       "4                                  9.925709   \n",
       "\n",
       "   secondary_cleaner.state.floatbank5_a_level  \\\n",
       "0                                 -498.310211   \n",
       "1                                 -500.169983   \n",
       "2                                 -500.129135   \n",
       "3                                 -499.201640   \n",
       "4                                 -501.686727   \n",
       "\n",
       "   secondary_cleaner.state.floatbank5_b_air  \\\n",
       "0                                  8.079666   \n",
       "1                                  7.984757   \n",
       "2                                  8.013877   \n",
       "3                                  7.977324   \n",
       "4                                  7.894242   \n",
       "\n",
       "   secondary_cleaner.state.floatbank5_b_level  \\\n",
       "0                                 -500.470978   \n",
       "1                                 -500.582168   \n",
       "2                                 -500.517572   \n",
       "3                                 -500.255908   \n",
       "4                                 -500.356035   \n",
       "\n",
       "   secondary_cleaner.state.floatbank6_a_air  \\\n",
       "0                                 14.151341   \n",
       "1                                 13.998353   \n",
       "2                                 14.028663   \n",
       "3                                 14.005551   \n",
       "4                                 13.996647   \n",
       "\n",
       "   secondary_cleaner.state.floatbank6_a_level  \n",
       "0                                 -605.841980  \n",
       "1                                 -599.787184  \n",
       "2                                 -601.427363  \n",
       "3                                 -599.996129  \n",
       "4                                 -601.496691  \n",
       "\n",
       "[5 rows x 87 columns]"
      ]
     },
     "metadata": {},
     "output_type": "display_data"
    },
    {
     "name": "stdout",
     "output_type": "stream",
     "text": [
      "______________________________________________________________\n",
      "\n",
      "\u001b[1mПосмотрим на общую информацию\u001b[0m\n",
      "<class 'pandas.core.frame.DataFrame'>\n",
      "RangeIndex: 14149 entries, 0 to 14148\n",
      "Data columns (total 87 columns):\n",
      " #   Column                                              Non-Null Count  Dtype  \n",
      "---  ------                                              --------------  -----  \n",
      " 0   date                                                14149 non-null  object \n",
      " 1   final.output.concentrate_ag                         14148 non-null  float64\n",
      " 2   final.output.concentrate_pb                         14148 non-null  float64\n",
      " 3   final.output.concentrate_sol                        13938 non-null  float64\n",
      " 4   final.output.concentrate_au                         14149 non-null  float64\n",
      " 5   final.output.recovery                               14149 non-null  float64\n",
      " 6   final.output.tail_ag                                14149 non-null  float64\n",
      " 7   final.output.tail_pb                                14049 non-null  float64\n",
      " 8   final.output.tail_sol                               14144 non-null  float64\n",
      " 9   final.output.tail_au                                14149 non-null  float64\n",
      " 10  primary_cleaner.input.sulfate                       14129 non-null  float64\n",
      " 11  primary_cleaner.input.depressant                    14117 non-null  float64\n",
      " 12  primary_cleaner.input.feed_size                     14149 non-null  float64\n",
      " 13  primary_cleaner.input.xanthate                      14049 non-null  float64\n",
      " 14  primary_cleaner.output.concentrate_ag               14149 non-null  float64\n",
      " 15  primary_cleaner.output.concentrate_pb               14063 non-null  float64\n",
      " 16  primary_cleaner.output.concentrate_sol              13863 non-null  float64\n",
      " 17  primary_cleaner.output.concentrate_au               14149 non-null  float64\n",
      " 18  primary_cleaner.output.tail_ag                      14148 non-null  float64\n",
      " 19  primary_cleaner.output.tail_pb                      14134 non-null  float64\n",
      " 20  primary_cleaner.output.tail_sol                     14103 non-null  float64\n",
      " 21  primary_cleaner.output.tail_au                      14149 non-null  float64\n",
      " 22  primary_cleaner.state.floatbank8_a_air              14145 non-null  float64\n",
      " 23  primary_cleaner.state.floatbank8_a_level            14148 non-null  float64\n",
      " 24  primary_cleaner.state.floatbank8_b_air              14145 non-null  float64\n",
      " 25  primary_cleaner.state.floatbank8_b_level            14148 non-null  float64\n",
      " 26  primary_cleaner.state.floatbank8_c_air              14147 non-null  float64\n",
      " 27  primary_cleaner.state.floatbank8_c_level            14148 non-null  float64\n",
      " 28  primary_cleaner.state.floatbank8_d_air              14146 non-null  float64\n",
      " 29  primary_cleaner.state.floatbank8_d_level            14148 non-null  float64\n",
      " 30  rougher.calculation.sulfate_to_au_concentrate       14148 non-null  float64\n",
      " 31  rougher.calculation.floatbank10_sulfate_to_au_feed  14148 non-null  float64\n",
      " 32  rougher.calculation.floatbank11_sulfate_to_au_feed  14148 non-null  float64\n",
      " 33  rougher.calculation.au_pb_ratio                     14149 non-null  float64\n",
      " 34  rougher.input.feed_ag                               14149 non-null  float64\n",
      " 35  rougher.input.feed_pb                               14049 non-null  float64\n",
      " 36  rougher.input.feed_rate                             14141 non-null  float64\n",
      " 37  rougher.input.feed_size                             14005 non-null  float64\n",
      " 38  rougher.input.feed_sol                              14071 non-null  float64\n",
      " 39  rougher.input.feed_au                               14149 non-null  float64\n",
      " 40  rougher.input.floatbank10_sulfate                   14120 non-null  float64\n",
      " 41  rougher.input.floatbank10_xanthate                  14141 non-null  float64\n",
      " 42  rougher.input.floatbank11_sulfate                   14113 non-null  float64\n",
      " 43  rougher.input.floatbank11_xanthate                  13721 non-null  float64\n",
      " 44  rougher.output.concentrate_ag                       14149 non-null  float64\n",
      " 45  rougher.output.concentrate_pb                       14149 non-null  float64\n",
      " 46  rougher.output.concentrate_sol                      14127 non-null  float64\n",
      " 47  rougher.output.concentrate_au                       14149 non-null  float64\n",
      " 48  rougher.output.recovery                             14149 non-null  float64\n",
      " 49  rougher.output.tail_ag                              14148 non-null  float64\n",
      " 50  rougher.output.tail_pb                              14149 non-null  float64\n",
      " 51  rougher.output.tail_sol                             14149 non-null  float64\n",
      " 52  rougher.output.tail_au                              14149 non-null  float64\n",
      " 53  rougher.state.floatbank10_a_air                     14148 non-null  float64\n",
      " 54  rougher.state.floatbank10_a_level                   14148 non-null  float64\n",
      " 55  rougher.state.floatbank10_b_air                     14148 non-null  float64\n",
      " 56  rougher.state.floatbank10_b_level                   14148 non-null  float64\n",
      " 57  rougher.state.floatbank10_c_air                     14148 non-null  float64\n",
      " 58  rougher.state.floatbank10_c_level                   14148 non-null  float64\n",
      " 59  rougher.state.floatbank10_d_air                     14149 non-null  float64\n",
      " 60  rougher.state.floatbank10_d_level                   14149 non-null  float64\n",
      " 61  rougher.state.floatbank10_e_air                     13713 non-null  float64\n",
      " 62  rougher.state.floatbank10_e_level                   14149 non-null  float64\n",
      " 63  rougher.state.floatbank10_f_air                     14149 non-null  float64\n",
      " 64  rougher.state.floatbank10_f_level                   14149 non-null  float64\n",
      " 65  secondary_cleaner.output.tail_ag                    14147 non-null  float64\n",
      " 66  secondary_cleaner.output.tail_pb                    14139 non-null  float64\n",
      " 67  secondary_cleaner.output.tail_sol                   12544 non-null  float64\n",
      " 68  secondary_cleaner.output.tail_au                    14149 non-null  float64\n",
      " 69  secondary_cleaner.state.floatbank2_a_air            13932 non-null  float64\n",
      " 70  secondary_cleaner.state.floatbank2_a_level          14148 non-null  float64\n",
      " 71  secondary_cleaner.state.floatbank2_b_air            14128 non-null  float64\n",
      " 72  secondary_cleaner.state.floatbank2_b_level          14148 non-null  float64\n",
      " 73  secondary_cleaner.state.floatbank3_a_air            14145 non-null  float64\n",
      " 74  secondary_cleaner.state.floatbank3_a_level          14148 non-null  float64\n",
      " 75  secondary_cleaner.state.floatbank3_b_air            14148 non-null  float64\n",
      " 76  secondary_cleaner.state.floatbank3_b_level          14148 non-null  float64\n",
      " 77  secondary_cleaner.state.floatbank4_a_air            14143 non-null  float64\n",
      " 78  secondary_cleaner.state.floatbank4_a_level          14148 non-null  float64\n",
      " 79  secondary_cleaner.state.floatbank4_b_air            14148 non-null  float64\n",
      " 80  secondary_cleaner.state.floatbank4_b_level          14148 non-null  float64\n",
      " 81  secondary_cleaner.state.floatbank5_a_air            14148 non-null  float64\n",
      " 82  secondary_cleaner.state.floatbank5_a_level          14148 non-null  float64\n",
      " 83  secondary_cleaner.state.floatbank5_b_air            14148 non-null  float64\n",
      " 84  secondary_cleaner.state.floatbank5_b_level          14148 non-null  float64\n",
      " 85  secondary_cleaner.state.floatbank6_a_air            14147 non-null  float64\n",
      " 86  secondary_cleaner.state.floatbank6_a_level          14148 non-null  float64\n",
      "dtypes: float64(86), object(1)\n",
      "memory usage: 9.4+ MB\n"
     ]
    },
    {
     "data": {
      "text/plain": [
       "None"
      ]
     },
     "metadata": {},
     "output_type": "display_data"
    },
    {
     "name": "stdout",
     "output_type": "stream",
     "text": [
      "______________________________________________________________\n",
      "\n",
      "\u001b[1mПосмотрим на основные статистические данные\u001b[0m\n"
     ]
    },
    {
     "data": {
      "text/html": [
       "<div>\n",
       "<style scoped>\n",
       "    .dataframe tbody tr th:only-of-type {\n",
       "        vertical-align: middle;\n",
       "    }\n",
       "\n",
       "    .dataframe tbody tr th {\n",
       "        vertical-align: top;\n",
       "    }\n",
       "\n",
       "    .dataframe thead th {\n",
       "        text-align: right;\n",
       "    }\n",
       "</style>\n",
       "<table border=\"1\" class=\"dataframe\">\n",
       "  <thead>\n",
       "    <tr style=\"text-align: right;\">\n",
       "      <th></th>\n",
       "      <th>final.output.concentrate_ag</th>\n",
       "      <th>final.output.concentrate_pb</th>\n",
       "      <th>final.output.concentrate_sol</th>\n",
       "      <th>final.output.concentrate_au</th>\n",
       "      <th>final.output.recovery</th>\n",
       "      <th>final.output.tail_ag</th>\n",
       "      <th>final.output.tail_pb</th>\n",
       "      <th>final.output.tail_sol</th>\n",
       "      <th>final.output.tail_au</th>\n",
       "      <th>primary_cleaner.input.sulfate</th>\n",
       "      <th>...</th>\n",
       "      <th>secondary_cleaner.state.floatbank4_a_air</th>\n",
       "      <th>secondary_cleaner.state.floatbank4_a_level</th>\n",
       "      <th>secondary_cleaner.state.floatbank4_b_air</th>\n",
       "      <th>secondary_cleaner.state.floatbank4_b_level</th>\n",
       "      <th>secondary_cleaner.state.floatbank5_a_air</th>\n",
       "      <th>secondary_cleaner.state.floatbank5_a_level</th>\n",
       "      <th>secondary_cleaner.state.floatbank5_b_air</th>\n",
       "      <th>secondary_cleaner.state.floatbank5_b_level</th>\n",
       "      <th>secondary_cleaner.state.floatbank6_a_air</th>\n",
       "      <th>secondary_cleaner.state.floatbank6_a_level</th>\n",
       "    </tr>\n",
       "  </thead>\n",
       "  <tbody>\n",
       "    <tr>\n",
       "      <th>count</th>\n",
       "      <td>14148.000000</td>\n",
       "      <td>14148.000000</td>\n",
       "      <td>13938.000000</td>\n",
       "      <td>14149.000000</td>\n",
       "      <td>14149.000000</td>\n",
       "      <td>14149.000000</td>\n",
       "      <td>14049.000000</td>\n",
       "      <td>14144.000000</td>\n",
       "      <td>14149.000000</td>\n",
       "      <td>14129.000000</td>\n",
       "      <td>...</td>\n",
       "      <td>14143.000000</td>\n",
       "      <td>14148.000000</td>\n",
       "      <td>14148.000000</td>\n",
       "      <td>14148.000000</td>\n",
       "      <td>14148.000000</td>\n",
       "      <td>14148.000000</td>\n",
       "      <td>14148.000000</td>\n",
       "      <td>14148.000000</td>\n",
       "      <td>14147.000000</td>\n",
       "      <td>14148.000000</td>\n",
       "    </tr>\n",
       "    <tr>\n",
       "      <th>mean</th>\n",
       "      <td>5.142034</td>\n",
       "      <td>10.132960</td>\n",
       "      <td>9.202849</td>\n",
       "      <td>44.003792</td>\n",
       "      <td>66.518832</td>\n",
       "      <td>9.607035</td>\n",
       "      <td>2.597298</td>\n",
       "      <td>10.512122</td>\n",
       "      <td>2.918421</td>\n",
       "      <td>133.320659</td>\n",
       "      <td>...</td>\n",
       "      <td>19.985454</td>\n",
       "      <td>-478.696836</td>\n",
       "      <td>15.487065</td>\n",
       "      <td>-460.229416</td>\n",
       "      <td>16.775136</td>\n",
       "      <td>-483.956022</td>\n",
       "      <td>13.064590</td>\n",
       "      <td>-483.966564</td>\n",
       "      <td>19.577539</td>\n",
       "      <td>-506.798480</td>\n",
       "    </tr>\n",
       "    <tr>\n",
       "      <th>std</th>\n",
       "      <td>1.369586</td>\n",
       "      <td>1.654930</td>\n",
       "      <td>2.790516</td>\n",
       "      <td>4.905261</td>\n",
       "      <td>10.295402</td>\n",
       "      <td>2.319069</td>\n",
       "      <td>0.971843</td>\n",
       "      <td>3.003617</td>\n",
       "      <td>0.903712</td>\n",
       "      <td>39.431659</td>\n",
       "      <td>...</td>\n",
       "      <td>5.657723</td>\n",
       "      <td>50.736021</td>\n",
       "      <td>5.255655</td>\n",
       "      <td>58.843586</td>\n",
       "      <td>5.831906</td>\n",
       "      <td>37.892788</td>\n",
       "      <td>5.765617</td>\n",
       "      <td>39.207913</td>\n",
       "      <td>5.764417</td>\n",
       "      <td>37.079249</td>\n",
       "    </tr>\n",
       "    <tr>\n",
       "      <th>min</th>\n",
       "      <td>0.000000</td>\n",
       "      <td>0.000000</td>\n",
       "      <td>0.000000</td>\n",
       "      <td>0.000000</td>\n",
       "      <td>0.000000</td>\n",
       "      <td>0.000000</td>\n",
       "      <td>0.000000</td>\n",
       "      <td>0.000000</td>\n",
       "      <td>0.000000</td>\n",
       "      <td>0.003112</td>\n",
       "      <td>...</td>\n",
       "      <td>0.000000</td>\n",
       "      <td>-799.709069</td>\n",
       "      <td>0.000000</td>\n",
       "      <td>-799.889113</td>\n",
       "      <td>-0.372054</td>\n",
       "      <td>-797.142475</td>\n",
       "      <td>0.646208</td>\n",
       "      <td>-800.006180</td>\n",
       "      <td>0.195324</td>\n",
       "      <td>-809.398668</td>\n",
       "    </tr>\n",
       "    <tr>\n",
       "      <th>25%</th>\n",
       "      <td>4.211620</td>\n",
       "      <td>9.297355</td>\n",
       "      <td>7.484645</td>\n",
       "      <td>43.276111</td>\n",
       "      <td>62.545817</td>\n",
       "      <td>7.997429</td>\n",
       "      <td>1.905973</td>\n",
       "      <td>8.811324</td>\n",
       "      <td>2.368607</td>\n",
       "      <td>107.006651</td>\n",
       "      <td>...</td>\n",
       "      <td>14.990775</td>\n",
       "      <td>-500.628656</td>\n",
       "      <td>11.894558</td>\n",
       "      <td>-500.149000</td>\n",
       "      <td>11.083980</td>\n",
       "      <td>-500.363177</td>\n",
       "      <td>8.994405</td>\n",
       "      <td>-500.105994</td>\n",
       "      <td>14.989304</td>\n",
       "      <td>-500.745104</td>\n",
       "    </tr>\n",
       "    <tr>\n",
       "      <th>50%</th>\n",
       "      <td>4.994652</td>\n",
       "      <td>10.297144</td>\n",
       "      <td>8.845462</td>\n",
       "      <td>44.872436</td>\n",
       "      <td>67.432775</td>\n",
       "      <td>9.480270</td>\n",
       "      <td>2.592022</td>\n",
       "      <td>10.514621</td>\n",
       "      <td>2.851025</td>\n",
       "      <td>133.018328</td>\n",
       "      <td>...</td>\n",
       "      <td>20.001789</td>\n",
       "      <td>-499.681450</td>\n",
       "      <td>14.975536</td>\n",
       "      <td>-499.388738</td>\n",
       "      <td>17.932223</td>\n",
       "      <td>-499.702452</td>\n",
       "      <td>11.997547</td>\n",
       "      <td>-499.914556</td>\n",
       "      <td>19.984175</td>\n",
       "      <td>-500.061431</td>\n",
       "    </tr>\n",
       "    <tr>\n",
       "      <th>75%</th>\n",
       "      <td>5.859540</td>\n",
       "      <td>11.170603</td>\n",
       "      <td>10.487508</td>\n",
       "      <td>46.166425</td>\n",
       "      <td>72.346428</td>\n",
       "      <td>11.003707</td>\n",
       "      <td>3.241723</td>\n",
       "      <td>11.933009</td>\n",
       "      <td>3.434764</td>\n",
       "      <td>159.825396</td>\n",
       "      <td>...</td>\n",
       "      <td>24.990826</td>\n",
       "      <td>-477.472413</td>\n",
       "      <td>20.059375</td>\n",
       "      <td>-400.039008</td>\n",
       "      <td>21.346550</td>\n",
       "      <td>-487.712108</td>\n",
       "      <td>17.982903</td>\n",
       "      <td>-453.186936</td>\n",
       "      <td>24.991623</td>\n",
       "      <td>-499.536466</td>\n",
       "    </tr>\n",
       "    <tr>\n",
       "      <th>max</th>\n",
       "      <td>16.001945</td>\n",
       "      <td>17.031899</td>\n",
       "      <td>18.124851</td>\n",
       "      <td>52.756638</td>\n",
       "      <td>100.000000</td>\n",
       "      <td>19.552149</td>\n",
       "      <td>5.639565</td>\n",
       "      <td>22.317730</td>\n",
       "      <td>8.197408</td>\n",
       "      <td>250.127834</td>\n",
       "      <td>...</td>\n",
       "      <td>30.115735</td>\n",
       "      <td>-245.239184</td>\n",
       "      <td>24.007913</td>\n",
       "      <td>-145.071088</td>\n",
       "      <td>43.709931</td>\n",
       "      <td>-275.073125</td>\n",
       "      <td>27.926001</td>\n",
       "      <td>-157.396071</td>\n",
       "      <td>32.188906</td>\n",
       "      <td>-104.427459</td>\n",
       "    </tr>\n",
       "  </tbody>\n",
       "</table>\n",
       "<p>8 rows × 86 columns</p>\n",
       "</div>"
      ],
      "text/plain": [
       "       final.output.concentrate_ag  final.output.concentrate_pb  \\\n",
       "count                 14148.000000                 14148.000000   \n",
       "mean                      5.142034                    10.132960   \n",
       "std                       1.369586                     1.654930   \n",
       "min                       0.000000                     0.000000   \n",
       "25%                       4.211620                     9.297355   \n",
       "50%                       4.994652                    10.297144   \n",
       "75%                       5.859540                    11.170603   \n",
       "max                      16.001945                    17.031899   \n",
       "\n",
       "       final.output.concentrate_sol  final.output.concentrate_au  \\\n",
       "count                  13938.000000                 14149.000000   \n",
       "mean                       9.202849                    44.003792   \n",
       "std                        2.790516                     4.905261   \n",
       "min                        0.000000                     0.000000   \n",
       "25%                        7.484645                    43.276111   \n",
       "50%                        8.845462                    44.872436   \n",
       "75%                       10.487508                    46.166425   \n",
       "max                       18.124851                    52.756638   \n",
       "\n",
       "       final.output.recovery  final.output.tail_ag  final.output.tail_pb  \\\n",
       "count           14149.000000          14149.000000          14049.000000   \n",
       "mean               66.518832              9.607035              2.597298   \n",
       "std                10.295402              2.319069              0.971843   \n",
       "min                 0.000000              0.000000              0.000000   \n",
       "25%                62.545817              7.997429              1.905973   \n",
       "50%                67.432775              9.480270              2.592022   \n",
       "75%                72.346428             11.003707              3.241723   \n",
       "max               100.000000             19.552149              5.639565   \n",
       "\n",
       "       final.output.tail_sol  final.output.tail_au  \\\n",
       "count           14144.000000          14149.000000   \n",
       "mean               10.512122              2.918421   \n",
       "std                 3.003617              0.903712   \n",
       "min                 0.000000              0.000000   \n",
       "25%                 8.811324              2.368607   \n",
       "50%                10.514621              2.851025   \n",
       "75%                11.933009              3.434764   \n",
       "max                22.317730              8.197408   \n",
       "\n",
       "       primary_cleaner.input.sulfate  ...  \\\n",
       "count                   14129.000000  ...   \n",
       "mean                      133.320659  ...   \n",
       "std                        39.431659  ...   \n",
       "min                         0.003112  ...   \n",
       "25%                       107.006651  ...   \n",
       "50%                       133.018328  ...   \n",
       "75%                       159.825396  ...   \n",
       "max                       250.127834  ...   \n",
       "\n",
       "       secondary_cleaner.state.floatbank4_a_air  \\\n",
       "count                              14143.000000   \n",
       "mean                                  19.985454   \n",
       "std                                    5.657723   \n",
       "min                                    0.000000   \n",
       "25%                                   14.990775   \n",
       "50%                                   20.001789   \n",
       "75%                                   24.990826   \n",
       "max                                   30.115735   \n",
       "\n",
       "       secondary_cleaner.state.floatbank4_a_level  \\\n",
       "count                                14148.000000   \n",
       "mean                                  -478.696836   \n",
       "std                                     50.736021   \n",
       "min                                   -799.709069   \n",
       "25%                                   -500.628656   \n",
       "50%                                   -499.681450   \n",
       "75%                                   -477.472413   \n",
       "max                                   -245.239184   \n",
       "\n",
       "       secondary_cleaner.state.floatbank4_b_air  \\\n",
       "count                              14148.000000   \n",
       "mean                                  15.487065   \n",
       "std                                    5.255655   \n",
       "min                                    0.000000   \n",
       "25%                                   11.894558   \n",
       "50%                                   14.975536   \n",
       "75%                                   20.059375   \n",
       "max                                   24.007913   \n",
       "\n",
       "       secondary_cleaner.state.floatbank4_b_level  \\\n",
       "count                                14148.000000   \n",
       "mean                                  -460.229416   \n",
       "std                                     58.843586   \n",
       "min                                   -799.889113   \n",
       "25%                                   -500.149000   \n",
       "50%                                   -499.388738   \n",
       "75%                                   -400.039008   \n",
       "max                                   -145.071088   \n",
       "\n",
       "       secondary_cleaner.state.floatbank5_a_air  \\\n",
       "count                              14148.000000   \n",
       "mean                                  16.775136   \n",
       "std                                    5.831906   \n",
       "min                                   -0.372054   \n",
       "25%                                   11.083980   \n",
       "50%                                   17.932223   \n",
       "75%                                   21.346550   \n",
       "max                                   43.709931   \n",
       "\n",
       "       secondary_cleaner.state.floatbank5_a_level  \\\n",
       "count                                14148.000000   \n",
       "mean                                  -483.956022   \n",
       "std                                     37.892788   \n",
       "min                                   -797.142475   \n",
       "25%                                   -500.363177   \n",
       "50%                                   -499.702452   \n",
       "75%                                   -487.712108   \n",
       "max                                   -275.073125   \n",
       "\n",
       "       secondary_cleaner.state.floatbank5_b_air  \\\n",
       "count                              14148.000000   \n",
       "mean                                  13.064590   \n",
       "std                                    5.765617   \n",
       "min                                    0.646208   \n",
       "25%                                    8.994405   \n",
       "50%                                   11.997547   \n",
       "75%                                   17.982903   \n",
       "max                                   27.926001   \n",
       "\n",
       "       secondary_cleaner.state.floatbank5_b_level  \\\n",
       "count                                14148.000000   \n",
       "mean                                  -483.966564   \n",
       "std                                     39.207913   \n",
       "min                                   -800.006180   \n",
       "25%                                   -500.105994   \n",
       "50%                                   -499.914556   \n",
       "75%                                   -453.186936   \n",
       "max                                   -157.396071   \n",
       "\n",
       "       secondary_cleaner.state.floatbank6_a_air  \\\n",
       "count                              14147.000000   \n",
       "mean                                  19.577539   \n",
       "std                                    5.764417   \n",
       "min                                    0.195324   \n",
       "25%                                   14.989304   \n",
       "50%                                   19.984175   \n",
       "75%                                   24.991623   \n",
       "max                                   32.188906   \n",
       "\n",
       "       secondary_cleaner.state.floatbank6_a_level  \n",
       "count                                14148.000000  \n",
       "mean                                  -506.798480  \n",
       "std                                     37.079249  \n",
       "min                                   -809.398668  \n",
       "25%                                   -500.745104  \n",
       "50%                                   -500.061431  \n",
       "75%                                   -499.536466  \n",
       "max                                   -104.427459  \n",
       "\n",
       "[8 rows x 86 columns]"
      ]
     },
     "metadata": {},
     "output_type": "display_data"
    },
    {
     "name": "stdout",
     "output_type": "stream",
     "text": [
      "______________________________________________________________\n",
      "\n",
      "\u001b[1mПосмотрим, есть ли явные дубликаты\u001b[0m\n"
     ]
    },
    {
     "data": {
      "text/plain": [
       "0"
      ]
     },
     "metadata": {},
     "output_type": "display_data"
    },
    {
     "name": "stdout",
     "output_type": "stream",
     "text": [
      "______________________________________________________________\n",
      "\n",
      "\u001b[1mПосмотрим на неявные дубликаты\u001b[0m\n"
     ]
    },
    {
     "data": {
      "text/plain": [
       "2018-08-04 02:59:59    1\n",
       "2017-03-17 18:59:59    1\n",
       "2017-07-16 16:59:59    1\n",
       "2018-02-06 08:59:59    1\n",
       "2018-03-13 03:59:59    1\n",
       "                      ..\n",
       "2018-06-04 16:59:59    1\n",
       "2018-07-08 16:59:59    1\n",
       "2016-06-11 23:59:59    1\n",
       "2018-03-18 23:59:59    1\n",
       "2017-04-26 11:59:59    1\n",
       "Name: date, Length: 14149, dtype: int64"
      ]
     },
     "metadata": {},
     "output_type": "display_data"
    },
    {
     "name": "stdout",
     "output_type": "stream",
     "text": [
      "\n",
      "\u001b[1mПосмотрим на пропуски\u001b[0m\n"
     ]
    },
    {
     "data": {
      "text/plain": [
       "date                                            0\n",
       "final.output.concentrate_ag                     1\n",
       "final.output.concentrate_pb                     1\n",
       "final.output.concentrate_sol                  211\n",
       "final.output.concentrate_au                     0\n",
       "                                             ... \n",
       "secondary_cleaner.state.floatbank5_a_level      1\n",
       "secondary_cleaner.state.floatbank5_b_air        1\n",
       "secondary_cleaner.state.floatbank5_b_level      1\n",
       "secondary_cleaner.state.floatbank6_a_air        2\n",
       "secondary_cleaner.state.floatbank6_a_level      1\n",
       "Length: 87, dtype: int64"
      ]
     },
     "metadata": {},
     "output_type": "display_data"
    }
   ],
   "source": [
    "info(train)"
   ]
  },
  {
   "cell_type": "markdown",
   "metadata": {},
   "source": [
    "Выведем основные характеристики тестовых данных."
   ]
  },
  {
   "cell_type": "code",
   "execution_count": 5,
   "metadata": {
    "scrolled": true
   },
   "outputs": [
    {
     "name": "stdout",
     "output_type": "stream",
     "text": [
      "\u001b[1mПосмотрим на первые пять строк данных\u001b[0m\n"
     ]
    },
    {
     "data": {
      "text/html": [
       "<div>\n",
       "<style scoped>\n",
       "    .dataframe tbody tr th:only-of-type {\n",
       "        vertical-align: middle;\n",
       "    }\n",
       "\n",
       "    .dataframe tbody tr th {\n",
       "        vertical-align: top;\n",
       "    }\n",
       "\n",
       "    .dataframe thead th {\n",
       "        text-align: right;\n",
       "    }\n",
       "</style>\n",
       "<table border=\"1\" class=\"dataframe\">\n",
       "  <thead>\n",
       "    <tr style=\"text-align: right;\">\n",
       "      <th></th>\n",
       "      <th>date</th>\n",
       "      <th>primary_cleaner.input.sulfate</th>\n",
       "      <th>primary_cleaner.input.depressant</th>\n",
       "      <th>primary_cleaner.input.feed_size</th>\n",
       "      <th>primary_cleaner.input.xanthate</th>\n",
       "      <th>primary_cleaner.state.floatbank8_a_air</th>\n",
       "      <th>primary_cleaner.state.floatbank8_a_level</th>\n",
       "      <th>primary_cleaner.state.floatbank8_b_air</th>\n",
       "      <th>primary_cleaner.state.floatbank8_b_level</th>\n",
       "      <th>primary_cleaner.state.floatbank8_c_air</th>\n",
       "      <th>...</th>\n",
       "      <th>secondary_cleaner.state.floatbank4_a_air</th>\n",
       "      <th>secondary_cleaner.state.floatbank4_a_level</th>\n",
       "      <th>secondary_cleaner.state.floatbank4_b_air</th>\n",
       "      <th>secondary_cleaner.state.floatbank4_b_level</th>\n",
       "      <th>secondary_cleaner.state.floatbank5_a_air</th>\n",
       "      <th>secondary_cleaner.state.floatbank5_a_level</th>\n",
       "      <th>secondary_cleaner.state.floatbank5_b_air</th>\n",
       "      <th>secondary_cleaner.state.floatbank5_b_level</th>\n",
       "      <th>secondary_cleaner.state.floatbank6_a_air</th>\n",
       "      <th>secondary_cleaner.state.floatbank6_a_level</th>\n",
       "    </tr>\n",
       "  </thead>\n",
       "  <tbody>\n",
       "    <tr>\n",
       "      <th>0</th>\n",
       "      <td>2016-09-01 00:59:59</td>\n",
       "      <td>210.800909</td>\n",
       "      <td>14.993118</td>\n",
       "      <td>8.080000</td>\n",
       "      <td>1.005021</td>\n",
       "      <td>1398.981301</td>\n",
       "      <td>-500.225577</td>\n",
       "      <td>1399.144926</td>\n",
       "      <td>-499.919735</td>\n",
       "      <td>1400.102998</td>\n",
       "      <td>...</td>\n",
       "      <td>12.023554</td>\n",
       "      <td>-497.795834</td>\n",
       "      <td>8.016656</td>\n",
       "      <td>-501.289139</td>\n",
       "      <td>7.946562</td>\n",
       "      <td>-432.317850</td>\n",
       "      <td>4.872511</td>\n",
       "      <td>-500.037437</td>\n",
       "      <td>26.705889</td>\n",
       "      <td>-499.709414</td>\n",
       "    </tr>\n",
       "    <tr>\n",
       "      <th>1</th>\n",
       "      <td>2016-09-01 01:59:59</td>\n",
       "      <td>215.392455</td>\n",
       "      <td>14.987471</td>\n",
       "      <td>8.080000</td>\n",
       "      <td>0.990469</td>\n",
       "      <td>1398.777912</td>\n",
       "      <td>-500.057435</td>\n",
       "      <td>1398.055362</td>\n",
       "      <td>-499.778182</td>\n",
       "      <td>1396.151033</td>\n",
       "      <td>...</td>\n",
       "      <td>12.058140</td>\n",
       "      <td>-498.695773</td>\n",
       "      <td>8.130979</td>\n",
       "      <td>-499.634209</td>\n",
       "      <td>7.958270</td>\n",
       "      <td>-525.839648</td>\n",
       "      <td>4.878850</td>\n",
       "      <td>-500.162375</td>\n",
       "      <td>25.019940</td>\n",
       "      <td>-499.819438</td>\n",
       "    </tr>\n",
       "    <tr>\n",
       "      <th>2</th>\n",
       "      <td>2016-09-01 02:59:59</td>\n",
       "      <td>215.259946</td>\n",
       "      <td>12.884934</td>\n",
       "      <td>7.786667</td>\n",
       "      <td>0.996043</td>\n",
       "      <td>1398.493666</td>\n",
       "      <td>-500.868360</td>\n",
       "      <td>1398.860436</td>\n",
       "      <td>-499.764529</td>\n",
       "      <td>1398.075709</td>\n",
       "      <td>...</td>\n",
       "      <td>11.962366</td>\n",
       "      <td>-498.767484</td>\n",
       "      <td>8.096893</td>\n",
       "      <td>-500.827423</td>\n",
       "      <td>8.071056</td>\n",
       "      <td>-500.801673</td>\n",
       "      <td>4.905125</td>\n",
       "      <td>-499.828510</td>\n",
       "      <td>24.994862</td>\n",
       "      <td>-500.622559</td>\n",
       "    </tr>\n",
       "    <tr>\n",
       "      <th>3</th>\n",
       "      <td>2016-09-01 03:59:59</td>\n",
       "      <td>215.336236</td>\n",
       "      <td>12.006805</td>\n",
       "      <td>7.640000</td>\n",
       "      <td>0.863514</td>\n",
       "      <td>1399.618111</td>\n",
       "      <td>-498.863574</td>\n",
       "      <td>1397.440120</td>\n",
       "      <td>-499.211024</td>\n",
       "      <td>1400.129303</td>\n",
       "      <td>...</td>\n",
       "      <td>12.033091</td>\n",
       "      <td>-498.350935</td>\n",
       "      <td>8.074946</td>\n",
       "      <td>-499.474407</td>\n",
       "      <td>7.897085</td>\n",
       "      <td>-500.868509</td>\n",
       "      <td>4.931400</td>\n",
       "      <td>-499.963623</td>\n",
       "      <td>24.948919</td>\n",
       "      <td>-498.709987</td>\n",
       "    </tr>\n",
       "    <tr>\n",
       "      <th>4</th>\n",
       "      <td>2016-09-01 04:59:59</td>\n",
       "      <td>199.099327</td>\n",
       "      <td>10.682530</td>\n",
       "      <td>7.530000</td>\n",
       "      <td>0.805575</td>\n",
       "      <td>1401.268123</td>\n",
       "      <td>-500.808305</td>\n",
       "      <td>1398.128818</td>\n",
       "      <td>-499.504543</td>\n",
       "      <td>1402.172226</td>\n",
       "      <td>...</td>\n",
       "      <td>12.025367</td>\n",
       "      <td>-500.786497</td>\n",
       "      <td>8.054678</td>\n",
       "      <td>-500.397500</td>\n",
       "      <td>8.107890</td>\n",
       "      <td>-509.526725</td>\n",
       "      <td>4.957674</td>\n",
       "      <td>-500.360026</td>\n",
       "      <td>25.003331</td>\n",
       "      <td>-500.856333</td>\n",
       "    </tr>\n",
       "  </tbody>\n",
       "</table>\n",
       "<p>5 rows × 53 columns</p>\n",
       "</div>"
      ],
      "text/plain": [
       "                  date  primary_cleaner.input.sulfate  \\\n",
       "0  2016-09-01 00:59:59                     210.800909   \n",
       "1  2016-09-01 01:59:59                     215.392455   \n",
       "2  2016-09-01 02:59:59                     215.259946   \n",
       "3  2016-09-01 03:59:59                     215.336236   \n",
       "4  2016-09-01 04:59:59                     199.099327   \n",
       "\n",
       "   primary_cleaner.input.depressant  primary_cleaner.input.feed_size  \\\n",
       "0                         14.993118                         8.080000   \n",
       "1                         14.987471                         8.080000   \n",
       "2                         12.884934                         7.786667   \n",
       "3                         12.006805                         7.640000   \n",
       "4                         10.682530                         7.530000   \n",
       "\n",
       "   primary_cleaner.input.xanthate  primary_cleaner.state.floatbank8_a_air  \\\n",
       "0                        1.005021                             1398.981301   \n",
       "1                        0.990469                             1398.777912   \n",
       "2                        0.996043                             1398.493666   \n",
       "3                        0.863514                             1399.618111   \n",
       "4                        0.805575                             1401.268123   \n",
       "\n",
       "   primary_cleaner.state.floatbank8_a_level  \\\n",
       "0                               -500.225577   \n",
       "1                               -500.057435   \n",
       "2                               -500.868360   \n",
       "3                               -498.863574   \n",
       "4                               -500.808305   \n",
       "\n",
       "   primary_cleaner.state.floatbank8_b_air  \\\n",
       "0                             1399.144926   \n",
       "1                             1398.055362   \n",
       "2                             1398.860436   \n",
       "3                             1397.440120   \n",
       "4                             1398.128818   \n",
       "\n",
       "   primary_cleaner.state.floatbank8_b_level  \\\n",
       "0                               -499.919735   \n",
       "1                               -499.778182   \n",
       "2                               -499.764529   \n",
       "3                               -499.211024   \n",
       "4                               -499.504543   \n",
       "\n",
       "   primary_cleaner.state.floatbank8_c_air  ...  \\\n",
       "0                             1400.102998  ...   \n",
       "1                             1396.151033  ...   \n",
       "2                             1398.075709  ...   \n",
       "3                             1400.129303  ...   \n",
       "4                             1402.172226  ...   \n",
       "\n",
       "   secondary_cleaner.state.floatbank4_a_air  \\\n",
       "0                                 12.023554   \n",
       "1                                 12.058140   \n",
       "2                                 11.962366   \n",
       "3                                 12.033091   \n",
       "4                                 12.025367   \n",
       "\n",
       "   secondary_cleaner.state.floatbank4_a_level  \\\n",
       "0                                 -497.795834   \n",
       "1                                 -498.695773   \n",
       "2                                 -498.767484   \n",
       "3                                 -498.350935   \n",
       "4                                 -500.786497   \n",
       "\n",
       "   secondary_cleaner.state.floatbank4_b_air  \\\n",
       "0                                  8.016656   \n",
       "1                                  8.130979   \n",
       "2                                  8.096893   \n",
       "3                                  8.074946   \n",
       "4                                  8.054678   \n",
       "\n",
       "   secondary_cleaner.state.floatbank4_b_level  \\\n",
       "0                                 -501.289139   \n",
       "1                                 -499.634209   \n",
       "2                                 -500.827423   \n",
       "3                                 -499.474407   \n",
       "4                                 -500.397500   \n",
       "\n",
       "   secondary_cleaner.state.floatbank5_a_air  \\\n",
       "0                                  7.946562   \n",
       "1                                  7.958270   \n",
       "2                                  8.071056   \n",
       "3                                  7.897085   \n",
       "4                                  8.107890   \n",
       "\n",
       "   secondary_cleaner.state.floatbank5_a_level  \\\n",
       "0                                 -432.317850   \n",
       "1                                 -525.839648   \n",
       "2                                 -500.801673   \n",
       "3                                 -500.868509   \n",
       "4                                 -509.526725   \n",
       "\n",
       "   secondary_cleaner.state.floatbank5_b_air  \\\n",
       "0                                  4.872511   \n",
       "1                                  4.878850   \n",
       "2                                  4.905125   \n",
       "3                                  4.931400   \n",
       "4                                  4.957674   \n",
       "\n",
       "   secondary_cleaner.state.floatbank5_b_level  \\\n",
       "0                                 -500.037437   \n",
       "1                                 -500.162375   \n",
       "2                                 -499.828510   \n",
       "3                                 -499.963623   \n",
       "4                                 -500.360026   \n",
       "\n",
       "   secondary_cleaner.state.floatbank6_a_air  \\\n",
       "0                                 26.705889   \n",
       "1                                 25.019940   \n",
       "2                                 24.994862   \n",
       "3                                 24.948919   \n",
       "4                                 25.003331   \n",
       "\n",
       "   secondary_cleaner.state.floatbank6_a_level  \n",
       "0                                 -499.709414  \n",
       "1                                 -499.819438  \n",
       "2                                 -500.622559  \n",
       "3                                 -498.709987  \n",
       "4                                 -500.856333  \n",
       "\n",
       "[5 rows x 53 columns]"
      ]
     },
     "metadata": {},
     "output_type": "display_data"
    },
    {
     "name": "stdout",
     "output_type": "stream",
     "text": [
      "______________________________________________________________\n",
      "\n",
      "\u001b[1mПосмотрим на общую информацию\u001b[0m\n",
      "<class 'pandas.core.frame.DataFrame'>\n",
      "RangeIndex: 5290 entries, 0 to 5289\n",
      "Data columns (total 53 columns):\n",
      " #   Column                                      Non-Null Count  Dtype  \n",
      "---  ------                                      --------------  -----  \n",
      " 0   date                                        5290 non-null   object \n",
      " 1   primary_cleaner.input.sulfate               5286 non-null   float64\n",
      " 2   primary_cleaner.input.depressant            5285 non-null   float64\n",
      " 3   primary_cleaner.input.feed_size             5290 non-null   float64\n",
      " 4   primary_cleaner.input.xanthate              5286 non-null   float64\n",
      " 5   primary_cleaner.state.floatbank8_a_air      5290 non-null   float64\n",
      " 6   primary_cleaner.state.floatbank8_a_level    5290 non-null   float64\n",
      " 7   primary_cleaner.state.floatbank8_b_air      5290 non-null   float64\n",
      " 8   primary_cleaner.state.floatbank8_b_level    5290 non-null   float64\n",
      " 9   primary_cleaner.state.floatbank8_c_air      5290 non-null   float64\n",
      " 10  primary_cleaner.state.floatbank8_c_level    5290 non-null   float64\n",
      " 11  primary_cleaner.state.floatbank8_d_air      5290 non-null   float64\n",
      " 12  primary_cleaner.state.floatbank8_d_level    5290 non-null   float64\n",
      " 13  rougher.input.feed_ag                       5290 non-null   float64\n",
      " 14  rougher.input.feed_pb                       5290 non-null   float64\n",
      " 15  rougher.input.feed_rate                     5287 non-null   float64\n",
      " 16  rougher.input.feed_size                     5289 non-null   float64\n",
      " 17  rougher.input.feed_sol                      5269 non-null   float64\n",
      " 18  rougher.input.feed_au                       5290 non-null   float64\n",
      " 19  rougher.input.floatbank10_sulfate           5285 non-null   float64\n",
      " 20  rougher.input.floatbank10_xanthate          5290 non-null   float64\n",
      " 21  rougher.input.floatbank11_sulfate           5282 non-null   float64\n",
      " 22  rougher.input.floatbank11_xanthate          5265 non-null   float64\n",
      " 23  rougher.state.floatbank10_a_air             5290 non-null   float64\n",
      " 24  rougher.state.floatbank10_a_level           5290 non-null   float64\n",
      " 25  rougher.state.floatbank10_b_air             5290 non-null   float64\n",
      " 26  rougher.state.floatbank10_b_level           5290 non-null   float64\n",
      " 27  rougher.state.floatbank10_c_air             5290 non-null   float64\n",
      " 28  rougher.state.floatbank10_c_level           5290 non-null   float64\n",
      " 29  rougher.state.floatbank10_d_air             5290 non-null   float64\n",
      " 30  rougher.state.floatbank10_d_level           5290 non-null   float64\n",
      " 31  rougher.state.floatbank10_e_air             5290 non-null   float64\n",
      " 32  rougher.state.floatbank10_e_level           5290 non-null   float64\n",
      " 33  rougher.state.floatbank10_f_air             5290 non-null   float64\n",
      " 34  rougher.state.floatbank10_f_level           5290 non-null   float64\n",
      " 35  secondary_cleaner.state.floatbank2_a_air    5287 non-null   float64\n",
      " 36  secondary_cleaner.state.floatbank2_a_level  5290 non-null   float64\n",
      " 37  secondary_cleaner.state.floatbank2_b_air    5288 non-null   float64\n",
      " 38  secondary_cleaner.state.floatbank2_b_level  5290 non-null   float64\n",
      " 39  secondary_cleaner.state.floatbank3_a_air    5281 non-null   float64\n",
      " 40  secondary_cleaner.state.floatbank3_a_level  5290 non-null   float64\n",
      " 41  secondary_cleaner.state.floatbank3_b_air    5290 non-null   float64\n",
      " 42  secondary_cleaner.state.floatbank3_b_level  5290 non-null   float64\n",
      " 43  secondary_cleaner.state.floatbank4_a_air    5290 non-null   float64\n",
      " 44  secondary_cleaner.state.floatbank4_a_level  5290 non-null   float64\n",
      " 45  secondary_cleaner.state.floatbank4_b_air    5290 non-null   float64\n",
      " 46  secondary_cleaner.state.floatbank4_b_level  5290 non-null   float64\n",
      " 47  secondary_cleaner.state.floatbank5_a_air    5290 non-null   float64\n",
      " 48  secondary_cleaner.state.floatbank5_a_level  5290 non-null   float64\n",
      " 49  secondary_cleaner.state.floatbank5_b_air    5290 non-null   float64\n",
      " 50  secondary_cleaner.state.floatbank5_b_level  5290 non-null   float64\n",
      " 51  secondary_cleaner.state.floatbank6_a_air    5290 non-null   float64\n",
      " 52  secondary_cleaner.state.floatbank6_a_level  5290 non-null   float64\n",
      "dtypes: float64(52), object(1)\n",
      "memory usage: 2.1+ MB\n"
     ]
    },
    {
     "data": {
      "text/plain": [
       "None"
      ]
     },
     "metadata": {},
     "output_type": "display_data"
    },
    {
     "name": "stdout",
     "output_type": "stream",
     "text": [
      "______________________________________________________________\n",
      "\n",
      "\u001b[1mПосмотрим на основные статистические данные\u001b[0m\n"
     ]
    },
    {
     "data": {
      "text/html": [
       "<div>\n",
       "<style scoped>\n",
       "    .dataframe tbody tr th:only-of-type {\n",
       "        vertical-align: middle;\n",
       "    }\n",
       "\n",
       "    .dataframe tbody tr th {\n",
       "        vertical-align: top;\n",
       "    }\n",
       "\n",
       "    .dataframe thead th {\n",
       "        text-align: right;\n",
       "    }\n",
       "</style>\n",
       "<table border=\"1\" class=\"dataframe\">\n",
       "  <thead>\n",
       "    <tr style=\"text-align: right;\">\n",
       "      <th></th>\n",
       "      <th>primary_cleaner.input.sulfate</th>\n",
       "      <th>primary_cleaner.input.depressant</th>\n",
       "      <th>primary_cleaner.input.feed_size</th>\n",
       "      <th>primary_cleaner.input.xanthate</th>\n",
       "      <th>primary_cleaner.state.floatbank8_a_air</th>\n",
       "      <th>primary_cleaner.state.floatbank8_a_level</th>\n",
       "      <th>primary_cleaner.state.floatbank8_b_air</th>\n",
       "      <th>primary_cleaner.state.floatbank8_b_level</th>\n",
       "      <th>primary_cleaner.state.floatbank8_c_air</th>\n",
       "      <th>primary_cleaner.state.floatbank8_c_level</th>\n",
       "      <th>...</th>\n",
       "      <th>secondary_cleaner.state.floatbank4_a_air</th>\n",
       "      <th>secondary_cleaner.state.floatbank4_a_level</th>\n",
       "      <th>secondary_cleaner.state.floatbank4_b_air</th>\n",
       "      <th>secondary_cleaner.state.floatbank4_b_level</th>\n",
       "      <th>secondary_cleaner.state.floatbank5_a_air</th>\n",
       "      <th>secondary_cleaner.state.floatbank5_a_level</th>\n",
       "      <th>secondary_cleaner.state.floatbank5_b_air</th>\n",
       "      <th>secondary_cleaner.state.floatbank5_b_level</th>\n",
       "      <th>secondary_cleaner.state.floatbank6_a_air</th>\n",
       "      <th>secondary_cleaner.state.floatbank6_a_level</th>\n",
       "    </tr>\n",
       "  </thead>\n",
       "  <tbody>\n",
       "    <tr>\n",
       "      <th>count</th>\n",
       "      <td>5286.000000</td>\n",
       "      <td>5285.000000</td>\n",
       "      <td>5290.000000</td>\n",
       "      <td>5286.000000</td>\n",
       "      <td>5.290000e+03</td>\n",
       "      <td>5290.000000</td>\n",
       "      <td>5.290000e+03</td>\n",
       "      <td>5290.000000</td>\n",
       "      <td>5.290000e+03</td>\n",
       "      <td>5290.000000</td>\n",
       "      <td>...</td>\n",
       "      <td>5.290000e+03</td>\n",
       "      <td>5290.000000</td>\n",
       "      <td>5.290000e+03</td>\n",
       "      <td>5290.000000</td>\n",
       "      <td>5290.000000</td>\n",
       "      <td>5290.000000</td>\n",
       "      <td>5290.000000</td>\n",
       "      <td>5290.000000</td>\n",
       "      <td>5290.000000</td>\n",
       "      <td>5290.000000</td>\n",
       "    </tr>\n",
       "    <tr>\n",
       "      <th>mean</th>\n",
       "      <td>174.839652</td>\n",
       "      <td>8.683596</td>\n",
       "      <td>7.266339</td>\n",
       "      <td>1.383803</td>\n",
       "      <td>1.539494e+03</td>\n",
       "      <td>-497.665883</td>\n",
       "      <td>1.545174e+03</td>\n",
       "      <td>-500.273098</td>\n",
       "      <td>1.527272e+03</td>\n",
       "      <td>-498.330680</td>\n",
       "      <td>...</td>\n",
       "      <td>1.632007e+01</td>\n",
       "      <td>-505.144570</td>\n",
       "      <td>1.373544e+01</td>\n",
       "      <td>-463.349858</td>\n",
       "      <td>12.804186</td>\n",
       "      <td>-501.329122</td>\n",
       "      <td>9.881145</td>\n",
       "      <td>-495.663398</td>\n",
       "      <td>17.304935</td>\n",
       "      <td>-501.793193</td>\n",
       "    </tr>\n",
       "    <tr>\n",
       "      <th>std</th>\n",
       "      <td>43.027080</td>\n",
       "      <td>3.072050</td>\n",
       "      <td>0.610219</td>\n",
       "      <td>0.643474</td>\n",
       "      <td>1.167979e+02</td>\n",
       "      <td>19.952431</td>\n",
       "      <td>1.222246e+02</td>\n",
       "      <td>32.968307</td>\n",
       "      <td>1.225380e+02</td>\n",
       "      <td>21.964876</td>\n",
       "      <td>...</td>\n",
       "      <td>3.493583e+00</td>\n",
       "      <td>31.427337</td>\n",
       "      <td>3.430484e+00</td>\n",
       "      <td>86.189107</td>\n",
       "      <td>3.026591</td>\n",
       "      <td>17.951495</td>\n",
       "      <td>2.868205</td>\n",
       "      <td>34.535007</td>\n",
       "      <td>4.536544</td>\n",
       "      <td>39.044215</td>\n",
       "    </tr>\n",
       "    <tr>\n",
       "      <th>min</th>\n",
       "      <td>2.566156</td>\n",
       "      <td>0.003839</td>\n",
       "      <td>5.650000</td>\n",
       "      <td>0.004984</td>\n",
       "      <td>5.445860e-32</td>\n",
       "      <td>-795.316337</td>\n",
       "      <td>6.647490e-32</td>\n",
       "      <td>-799.997015</td>\n",
       "      <td>4.033736e-32</td>\n",
       "      <td>-799.960571</td>\n",
       "      <td>...</td>\n",
       "      <td>1.079872e-16</td>\n",
       "      <td>-799.798523</td>\n",
       "      <td>2.489718e-17</td>\n",
       "      <td>-800.836914</td>\n",
       "      <td>0.069227</td>\n",
       "      <td>-797.323986</td>\n",
       "      <td>0.528083</td>\n",
       "      <td>-800.220337</td>\n",
       "      <td>-0.079426</td>\n",
       "      <td>-809.741464</td>\n",
       "    </tr>\n",
       "    <tr>\n",
       "      <th>25%</th>\n",
       "      <td>147.121401</td>\n",
       "      <td>6.489555</td>\n",
       "      <td>6.890000</td>\n",
       "      <td>0.907623</td>\n",
       "      <td>1.498936e+03</td>\n",
       "      <td>-500.357298</td>\n",
       "      <td>1.498971e+03</td>\n",
       "      <td>-500.703002</td>\n",
       "      <td>1.473230e+03</td>\n",
       "      <td>-501.018117</td>\n",
       "      <td>...</td>\n",
       "      <td>1.403618e+01</td>\n",
       "      <td>-500.868258</td>\n",
       "      <td>1.202862e+01</td>\n",
       "      <td>-500.323028</td>\n",
       "      <td>10.914838</td>\n",
       "      <td>-500.726841</td>\n",
       "      <td>8.036719</td>\n",
       "      <td>-500.194668</td>\n",
       "      <td>13.997317</td>\n",
       "      <td>-500.690984</td>\n",
       "    </tr>\n",
       "    <tr>\n",
       "      <th>50%</th>\n",
       "      <td>177.828489</td>\n",
       "      <td>8.052207</td>\n",
       "      <td>7.250000</td>\n",
       "      <td>1.197610</td>\n",
       "      <td>1.585129e+03</td>\n",
       "      <td>-499.969164</td>\n",
       "      <td>1.595622e+03</td>\n",
       "      <td>-500.028514</td>\n",
       "      <td>1.549595e+03</td>\n",
       "      <td>-500.017711</td>\n",
       "      <td>...</td>\n",
       "      <td>1.700847e+01</td>\n",
       "      <td>-500.115727</td>\n",
       "      <td>1.496486e+01</td>\n",
       "      <td>-499.576513</td>\n",
       "      <td>12.954182</td>\n",
       "      <td>-499.990332</td>\n",
       "      <td>10.004301</td>\n",
       "      <td>-499.990535</td>\n",
       "      <td>16.014935</td>\n",
       "      <td>-500.007126</td>\n",
       "    </tr>\n",
       "    <tr>\n",
       "      <th>75%</th>\n",
       "      <td>208.125438</td>\n",
       "      <td>10.027764</td>\n",
       "      <td>7.600000</td>\n",
       "      <td>1.797819</td>\n",
       "      <td>1.602077e+03</td>\n",
       "      <td>-499.568951</td>\n",
       "      <td>1.602324e+03</td>\n",
       "      <td>-499.293257</td>\n",
       "      <td>1.601144e+03</td>\n",
       "      <td>-498.994130</td>\n",
       "      <td>...</td>\n",
       "      <td>1.803862e+01</td>\n",
       "      <td>-499.404224</td>\n",
       "      <td>1.596213e+01</td>\n",
       "      <td>-400.933805</td>\n",
       "      <td>15.097528</td>\n",
       "      <td>-499.283191</td>\n",
       "      <td>11.997467</td>\n",
       "      <td>-499.719913</td>\n",
       "      <td>21.020013</td>\n",
       "      <td>-499.373018</td>\n",
       "    </tr>\n",
       "    <tr>\n",
       "      <th>max</th>\n",
       "      <td>265.983123</td>\n",
       "      <td>40.000000</td>\n",
       "      <td>15.500000</td>\n",
       "      <td>4.102454</td>\n",
       "      <td>2.103104e+03</td>\n",
       "      <td>-57.195404</td>\n",
       "      <td>1.813084e+03</td>\n",
       "      <td>-142.527229</td>\n",
       "      <td>1.715054e+03</td>\n",
       "      <td>-150.937035</td>\n",
       "      <td>...</td>\n",
       "      <td>3.005180e+01</td>\n",
       "      <td>-401.565212</td>\n",
       "      <td>3.126971e+01</td>\n",
       "      <td>-6.506986</td>\n",
       "      <td>25.258848</td>\n",
       "      <td>-244.483566</td>\n",
       "      <td>14.086866</td>\n",
       "      <td>-137.740004</td>\n",
       "      <td>26.705889</td>\n",
       "      <td>-123.307487</td>\n",
       "    </tr>\n",
       "  </tbody>\n",
       "</table>\n",
       "<p>8 rows × 52 columns</p>\n",
       "</div>"
      ],
      "text/plain": [
       "       primary_cleaner.input.sulfate  primary_cleaner.input.depressant  \\\n",
       "count                    5286.000000                       5285.000000   \n",
       "mean                      174.839652                          8.683596   \n",
       "std                        43.027080                          3.072050   \n",
       "min                         2.566156                          0.003839   \n",
       "25%                       147.121401                          6.489555   \n",
       "50%                       177.828489                          8.052207   \n",
       "75%                       208.125438                         10.027764   \n",
       "max                       265.983123                         40.000000   \n",
       "\n",
       "       primary_cleaner.input.feed_size  primary_cleaner.input.xanthate  \\\n",
       "count                      5290.000000                     5286.000000   \n",
       "mean                          7.266339                        1.383803   \n",
       "std                           0.610219                        0.643474   \n",
       "min                           5.650000                        0.004984   \n",
       "25%                           6.890000                        0.907623   \n",
       "50%                           7.250000                        1.197610   \n",
       "75%                           7.600000                        1.797819   \n",
       "max                          15.500000                        4.102454   \n",
       "\n",
       "       primary_cleaner.state.floatbank8_a_air  \\\n",
       "count                            5.290000e+03   \n",
       "mean                             1.539494e+03   \n",
       "std                              1.167979e+02   \n",
       "min                              5.445860e-32   \n",
       "25%                              1.498936e+03   \n",
       "50%                              1.585129e+03   \n",
       "75%                              1.602077e+03   \n",
       "max                              2.103104e+03   \n",
       "\n",
       "       primary_cleaner.state.floatbank8_a_level  \\\n",
       "count                               5290.000000   \n",
       "mean                                -497.665883   \n",
       "std                                   19.952431   \n",
       "min                                 -795.316337   \n",
       "25%                                 -500.357298   \n",
       "50%                                 -499.969164   \n",
       "75%                                 -499.568951   \n",
       "max                                  -57.195404   \n",
       "\n",
       "       primary_cleaner.state.floatbank8_b_air  \\\n",
       "count                            5.290000e+03   \n",
       "mean                             1.545174e+03   \n",
       "std                              1.222246e+02   \n",
       "min                              6.647490e-32   \n",
       "25%                              1.498971e+03   \n",
       "50%                              1.595622e+03   \n",
       "75%                              1.602324e+03   \n",
       "max                              1.813084e+03   \n",
       "\n",
       "       primary_cleaner.state.floatbank8_b_level  \\\n",
       "count                               5290.000000   \n",
       "mean                                -500.273098   \n",
       "std                                   32.968307   \n",
       "min                                 -799.997015   \n",
       "25%                                 -500.703002   \n",
       "50%                                 -500.028514   \n",
       "75%                                 -499.293257   \n",
       "max                                 -142.527229   \n",
       "\n",
       "       primary_cleaner.state.floatbank8_c_air  \\\n",
       "count                            5.290000e+03   \n",
       "mean                             1.527272e+03   \n",
       "std                              1.225380e+02   \n",
       "min                              4.033736e-32   \n",
       "25%                              1.473230e+03   \n",
       "50%                              1.549595e+03   \n",
       "75%                              1.601144e+03   \n",
       "max                              1.715054e+03   \n",
       "\n",
       "       primary_cleaner.state.floatbank8_c_level  ...  \\\n",
       "count                               5290.000000  ...   \n",
       "mean                                -498.330680  ...   \n",
       "std                                   21.964876  ...   \n",
       "min                                 -799.960571  ...   \n",
       "25%                                 -501.018117  ...   \n",
       "50%                                 -500.017711  ...   \n",
       "75%                                 -498.994130  ...   \n",
       "max                                 -150.937035  ...   \n",
       "\n",
       "       secondary_cleaner.state.floatbank4_a_air  \\\n",
       "count                              5.290000e+03   \n",
       "mean                               1.632007e+01   \n",
       "std                                3.493583e+00   \n",
       "min                                1.079872e-16   \n",
       "25%                                1.403618e+01   \n",
       "50%                                1.700847e+01   \n",
       "75%                                1.803862e+01   \n",
       "max                                3.005180e+01   \n",
       "\n",
       "       secondary_cleaner.state.floatbank4_a_level  \\\n",
       "count                                 5290.000000   \n",
       "mean                                  -505.144570   \n",
       "std                                     31.427337   \n",
       "min                                   -799.798523   \n",
       "25%                                   -500.868258   \n",
       "50%                                   -500.115727   \n",
       "75%                                   -499.404224   \n",
       "max                                   -401.565212   \n",
       "\n",
       "       secondary_cleaner.state.floatbank4_b_air  \\\n",
       "count                              5.290000e+03   \n",
       "mean                               1.373544e+01   \n",
       "std                                3.430484e+00   \n",
       "min                                2.489718e-17   \n",
       "25%                                1.202862e+01   \n",
       "50%                                1.496486e+01   \n",
       "75%                                1.596213e+01   \n",
       "max                                3.126971e+01   \n",
       "\n",
       "       secondary_cleaner.state.floatbank4_b_level  \\\n",
       "count                                 5290.000000   \n",
       "mean                                  -463.349858   \n",
       "std                                     86.189107   \n",
       "min                                   -800.836914   \n",
       "25%                                   -500.323028   \n",
       "50%                                   -499.576513   \n",
       "75%                                   -400.933805   \n",
       "max                                     -6.506986   \n",
       "\n",
       "       secondary_cleaner.state.floatbank5_a_air  \\\n",
       "count                               5290.000000   \n",
       "mean                                  12.804186   \n",
       "std                                    3.026591   \n",
       "min                                    0.069227   \n",
       "25%                                   10.914838   \n",
       "50%                                   12.954182   \n",
       "75%                                   15.097528   \n",
       "max                                   25.258848   \n",
       "\n",
       "       secondary_cleaner.state.floatbank5_a_level  \\\n",
       "count                                 5290.000000   \n",
       "mean                                  -501.329122   \n",
       "std                                     17.951495   \n",
       "min                                   -797.323986   \n",
       "25%                                   -500.726841   \n",
       "50%                                   -499.990332   \n",
       "75%                                   -499.283191   \n",
       "max                                   -244.483566   \n",
       "\n",
       "       secondary_cleaner.state.floatbank5_b_air  \\\n",
       "count                               5290.000000   \n",
       "mean                                   9.881145   \n",
       "std                                    2.868205   \n",
       "min                                    0.528083   \n",
       "25%                                    8.036719   \n",
       "50%                                   10.004301   \n",
       "75%                                   11.997467   \n",
       "max                                   14.086866   \n",
       "\n",
       "       secondary_cleaner.state.floatbank5_b_level  \\\n",
       "count                                 5290.000000   \n",
       "mean                                  -495.663398   \n",
       "std                                     34.535007   \n",
       "min                                   -800.220337   \n",
       "25%                                   -500.194668   \n",
       "50%                                   -499.990535   \n",
       "75%                                   -499.719913   \n",
       "max                                   -137.740004   \n",
       "\n",
       "       secondary_cleaner.state.floatbank6_a_air  \\\n",
       "count                               5290.000000   \n",
       "mean                                  17.304935   \n",
       "std                                    4.536544   \n",
       "min                                   -0.079426   \n",
       "25%                                   13.997317   \n",
       "50%                                   16.014935   \n",
       "75%                                   21.020013   \n",
       "max                                   26.705889   \n",
       "\n",
       "       secondary_cleaner.state.floatbank6_a_level  \n",
       "count                                 5290.000000  \n",
       "mean                                  -501.793193  \n",
       "std                                     39.044215  \n",
       "min                                   -809.741464  \n",
       "25%                                   -500.690984  \n",
       "50%                                   -500.007126  \n",
       "75%                                   -499.373018  \n",
       "max                                   -123.307487  \n",
       "\n",
       "[8 rows x 52 columns]"
      ]
     },
     "metadata": {},
     "output_type": "display_data"
    },
    {
     "name": "stdout",
     "output_type": "stream",
     "text": [
      "______________________________________________________________\n",
      "\n",
      "\u001b[1mПосмотрим, есть ли явные дубликаты\u001b[0m\n"
     ]
    },
    {
     "data": {
      "text/plain": [
       "0"
      ]
     },
     "metadata": {},
     "output_type": "display_data"
    },
    {
     "name": "stdout",
     "output_type": "stream",
     "text": [
      "______________________________________________________________\n",
      "\n",
      "\u001b[1mПосмотрим на неявные дубликаты\u001b[0m\n"
     ]
    },
    {
     "data": {
      "text/plain": [
       "2017-09-28 07:59:59    1\n",
       "2017-10-22 06:59:59    1\n",
       "2017-12-09 09:59:59    1\n",
       "2016-11-11 04:59:59    1\n",
       "2016-10-16 21:59:59    1\n",
       "                      ..\n",
       "2017-12-11 18:59:59    1\n",
       "2017-11-04 00:59:59    1\n",
       "2016-12-06 19:59:59    1\n",
       "2016-09-10 23:59:59    1\n",
       "2016-12-04 20:59:59    1\n",
       "Name: date, Length: 5290, dtype: int64"
      ]
     },
     "metadata": {},
     "output_type": "display_data"
    },
    {
     "name": "stdout",
     "output_type": "stream",
     "text": [
      "\n",
      "\u001b[1mПосмотрим на пропуски\u001b[0m\n"
     ]
    },
    {
     "data": {
      "text/plain": [
       "date                                           0\n",
       "primary_cleaner.input.sulfate                  4\n",
       "primary_cleaner.input.depressant               5\n",
       "primary_cleaner.input.feed_size                0\n",
       "primary_cleaner.input.xanthate                 4\n",
       "primary_cleaner.state.floatbank8_a_air         0\n",
       "primary_cleaner.state.floatbank8_a_level       0\n",
       "primary_cleaner.state.floatbank8_b_air         0\n",
       "primary_cleaner.state.floatbank8_b_level       0\n",
       "primary_cleaner.state.floatbank8_c_air         0\n",
       "primary_cleaner.state.floatbank8_c_level       0\n",
       "primary_cleaner.state.floatbank8_d_air         0\n",
       "primary_cleaner.state.floatbank8_d_level       0\n",
       "rougher.input.feed_ag                          0\n",
       "rougher.input.feed_pb                          0\n",
       "rougher.input.feed_rate                        3\n",
       "rougher.input.feed_size                        1\n",
       "rougher.input.feed_sol                        21\n",
       "rougher.input.feed_au                          0\n",
       "rougher.input.floatbank10_sulfate              5\n",
       "rougher.input.floatbank10_xanthate             0\n",
       "rougher.input.floatbank11_sulfate              8\n",
       "rougher.input.floatbank11_xanthate            25\n",
       "rougher.state.floatbank10_a_air                0\n",
       "rougher.state.floatbank10_a_level              0\n",
       "rougher.state.floatbank10_b_air                0\n",
       "rougher.state.floatbank10_b_level              0\n",
       "rougher.state.floatbank10_c_air                0\n",
       "rougher.state.floatbank10_c_level              0\n",
       "rougher.state.floatbank10_d_air                0\n",
       "rougher.state.floatbank10_d_level              0\n",
       "rougher.state.floatbank10_e_air                0\n",
       "rougher.state.floatbank10_e_level              0\n",
       "rougher.state.floatbank10_f_air                0\n",
       "rougher.state.floatbank10_f_level              0\n",
       "secondary_cleaner.state.floatbank2_a_air       3\n",
       "secondary_cleaner.state.floatbank2_a_level     0\n",
       "secondary_cleaner.state.floatbank2_b_air       2\n",
       "secondary_cleaner.state.floatbank2_b_level     0\n",
       "secondary_cleaner.state.floatbank3_a_air       9\n",
       "secondary_cleaner.state.floatbank3_a_level     0\n",
       "secondary_cleaner.state.floatbank3_b_air       0\n",
       "secondary_cleaner.state.floatbank3_b_level     0\n",
       "secondary_cleaner.state.floatbank4_a_air       0\n",
       "secondary_cleaner.state.floatbank4_a_level     0\n",
       "secondary_cleaner.state.floatbank4_b_air       0\n",
       "secondary_cleaner.state.floatbank4_b_level     0\n",
       "secondary_cleaner.state.floatbank5_a_air       0\n",
       "secondary_cleaner.state.floatbank5_a_level     0\n",
       "secondary_cleaner.state.floatbank5_b_air       0\n",
       "secondary_cleaner.state.floatbank5_b_level     0\n",
       "secondary_cleaner.state.floatbank6_a_air       0\n",
       "secondary_cleaner.state.floatbank6_a_level     0\n",
       "dtype: int64"
      ]
     },
     "metadata": {},
     "output_type": "display_data"
    }
   ],
   "source": [
    "info(test)"
   ]
  },
  {
   "cell_type": "markdown",
   "metadata": {},
   "source": [
    "Выведем основные характеристики исходных данных."
   ]
  },
  {
   "cell_type": "code",
   "execution_count": 6,
   "metadata": {
    "scrolled": false
   },
   "outputs": [
    {
     "name": "stdout",
     "output_type": "stream",
     "text": [
      "\u001b[1mПосмотрим на первые пять строк данных\u001b[0m\n"
     ]
    },
    {
     "data": {
      "text/html": [
       "<div>\n",
       "<style scoped>\n",
       "    .dataframe tbody tr th:only-of-type {\n",
       "        vertical-align: middle;\n",
       "    }\n",
       "\n",
       "    .dataframe tbody tr th {\n",
       "        vertical-align: top;\n",
       "    }\n",
       "\n",
       "    .dataframe thead th {\n",
       "        text-align: right;\n",
       "    }\n",
       "</style>\n",
       "<table border=\"1\" class=\"dataframe\">\n",
       "  <thead>\n",
       "    <tr style=\"text-align: right;\">\n",
       "      <th></th>\n",
       "      <th>date</th>\n",
       "      <th>final.output.concentrate_ag</th>\n",
       "      <th>final.output.concentrate_pb</th>\n",
       "      <th>final.output.concentrate_sol</th>\n",
       "      <th>final.output.concentrate_au</th>\n",
       "      <th>final.output.recovery</th>\n",
       "      <th>final.output.tail_ag</th>\n",
       "      <th>final.output.tail_pb</th>\n",
       "      <th>final.output.tail_sol</th>\n",
       "      <th>final.output.tail_au</th>\n",
       "      <th>...</th>\n",
       "      <th>secondary_cleaner.state.floatbank4_a_air</th>\n",
       "      <th>secondary_cleaner.state.floatbank4_a_level</th>\n",
       "      <th>secondary_cleaner.state.floatbank4_b_air</th>\n",
       "      <th>secondary_cleaner.state.floatbank4_b_level</th>\n",
       "      <th>secondary_cleaner.state.floatbank5_a_air</th>\n",
       "      <th>secondary_cleaner.state.floatbank5_a_level</th>\n",
       "      <th>secondary_cleaner.state.floatbank5_b_air</th>\n",
       "      <th>secondary_cleaner.state.floatbank5_b_level</th>\n",
       "      <th>secondary_cleaner.state.floatbank6_a_air</th>\n",
       "      <th>secondary_cleaner.state.floatbank6_a_level</th>\n",
       "    </tr>\n",
       "  </thead>\n",
       "  <tbody>\n",
       "    <tr>\n",
       "      <th>0</th>\n",
       "      <td>2016-01-15 00:00:00</td>\n",
       "      <td>6.055403</td>\n",
       "      <td>9.889648</td>\n",
       "      <td>5.507324</td>\n",
       "      <td>42.192020</td>\n",
       "      <td>70.541216</td>\n",
       "      <td>10.411962</td>\n",
       "      <td>0.895447</td>\n",
       "      <td>16.904297</td>\n",
       "      <td>2.143149</td>\n",
       "      <td>...</td>\n",
       "      <td>14.016835</td>\n",
       "      <td>-502.488007</td>\n",
       "      <td>12.099931</td>\n",
       "      <td>-504.715942</td>\n",
       "      <td>9.925633</td>\n",
       "      <td>-498.310211</td>\n",
       "      <td>8.079666</td>\n",
       "      <td>-500.470978</td>\n",
       "      <td>14.151341</td>\n",
       "      <td>-605.841980</td>\n",
       "    </tr>\n",
       "    <tr>\n",
       "      <th>1</th>\n",
       "      <td>2016-01-15 01:00:00</td>\n",
       "      <td>6.029369</td>\n",
       "      <td>9.968944</td>\n",
       "      <td>5.257781</td>\n",
       "      <td>42.701629</td>\n",
       "      <td>69.266198</td>\n",
       "      <td>10.462676</td>\n",
       "      <td>0.927452</td>\n",
       "      <td>16.634514</td>\n",
       "      <td>2.224930</td>\n",
       "      <td>...</td>\n",
       "      <td>13.992281</td>\n",
       "      <td>-505.503262</td>\n",
       "      <td>11.950531</td>\n",
       "      <td>-501.331529</td>\n",
       "      <td>10.039245</td>\n",
       "      <td>-500.169983</td>\n",
       "      <td>7.984757</td>\n",
       "      <td>-500.582168</td>\n",
       "      <td>13.998353</td>\n",
       "      <td>-599.787184</td>\n",
       "    </tr>\n",
       "    <tr>\n",
       "      <th>2</th>\n",
       "      <td>2016-01-15 02:00:00</td>\n",
       "      <td>6.055926</td>\n",
       "      <td>10.213995</td>\n",
       "      <td>5.383759</td>\n",
       "      <td>42.657501</td>\n",
       "      <td>68.116445</td>\n",
       "      <td>10.507046</td>\n",
       "      <td>0.953716</td>\n",
       "      <td>16.208849</td>\n",
       "      <td>2.257889</td>\n",
       "      <td>...</td>\n",
       "      <td>14.015015</td>\n",
       "      <td>-502.520901</td>\n",
       "      <td>11.912783</td>\n",
       "      <td>-501.133383</td>\n",
       "      <td>10.070913</td>\n",
       "      <td>-500.129135</td>\n",
       "      <td>8.013877</td>\n",
       "      <td>-500.517572</td>\n",
       "      <td>14.028663</td>\n",
       "      <td>-601.427363</td>\n",
       "    </tr>\n",
       "    <tr>\n",
       "      <th>3</th>\n",
       "      <td>2016-01-15 03:00:00</td>\n",
       "      <td>6.047977</td>\n",
       "      <td>9.977019</td>\n",
       "      <td>4.858634</td>\n",
       "      <td>42.689819</td>\n",
       "      <td>68.347543</td>\n",
       "      <td>10.422762</td>\n",
       "      <td>0.883763</td>\n",
       "      <td>16.532835</td>\n",
       "      <td>2.146849</td>\n",
       "      <td>...</td>\n",
       "      <td>14.036510</td>\n",
       "      <td>-500.857308</td>\n",
       "      <td>11.999550</td>\n",
       "      <td>-501.193686</td>\n",
       "      <td>9.970366</td>\n",
       "      <td>-499.201640</td>\n",
       "      <td>7.977324</td>\n",
       "      <td>-500.255908</td>\n",
       "      <td>14.005551</td>\n",
       "      <td>-599.996129</td>\n",
       "    </tr>\n",
       "    <tr>\n",
       "      <th>4</th>\n",
       "      <td>2016-01-15 04:00:00</td>\n",
       "      <td>6.148599</td>\n",
       "      <td>10.142511</td>\n",
       "      <td>4.939416</td>\n",
       "      <td>42.774141</td>\n",
       "      <td>66.927016</td>\n",
       "      <td>10.360302</td>\n",
       "      <td>0.792826</td>\n",
       "      <td>16.525686</td>\n",
       "      <td>2.055292</td>\n",
       "      <td>...</td>\n",
       "      <td>14.027298</td>\n",
       "      <td>-499.838632</td>\n",
       "      <td>11.953070</td>\n",
       "      <td>-501.053894</td>\n",
       "      <td>9.925709</td>\n",
       "      <td>-501.686727</td>\n",
       "      <td>7.894242</td>\n",
       "      <td>-500.356035</td>\n",
       "      <td>13.996647</td>\n",
       "      <td>-601.496691</td>\n",
       "    </tr>\n",
       "  </tbody>\n",
       "</table>\n",
       "<p>5 rows × 87 columns</p>\n",
       "</div>"
      ],
      "text/plain": [
       "                  date  final.output.concentrate_ag  \\\n",
       "0  2016-01-15 00:00:00                     6.055403   \n",
       "1  2016-01-15 01:00:00                     6.029369   \n",
       "2  2016-01-15 02:00:00                     6.055926   \n",
       "3  2016-01-15 03:00:00                     6.047977   \n",
       "4  2016-01-15 04:00:00                     6.148599   \n",
       "\n",
       "   final.output.concentrate_pb  final.output.concentrate_sol  \\\n",
       "0                     9.889648                      5.507324   \n",
       "1                     9.968944                      5.257781   \n",
       "2                    10.213995                      5.383759   \n",
       "3                     9.977019                      4.858634   \n",
       "4                    10.142511                      4.939416   \n",
       "\n",
       "   final.output.concentrate_au  final.output.recovery  final.output.tail_ag  \\\n",
       "0                    42.192020              70.541216             10.411962   \n",
       "1                    42.701629              69.266198             10.462676   \n",
       "2                    42.657501              68.116445             10.507046   \n",
       "3                    42.689819              68.347543             10.422762   \n",
       "4                    42.774141              66.927016             10.360302   \n",
       "\n",
       "   final.output.tail_pb  final.output.tail_sol  final.output.tail_au  ...  \\\n",
       "0              0.895447              16.904297              2.143149  ...   \n",
       "1              0.927452              16.634514              2.224930  ...   \n",
       "2              0.953716              16.208849              2.257889  ...   \n",
       "3              0.883763              16.532835              2.146849  ...   \n",
       "4              0.792826              16.525686              2.055292  ...   \n",
       "\n",
       "   secondary_cleaner.state.floatbank4_a_air  \\\n",
       "0                                 14.016835   \n",
       "1                                 13.992281   \n",
       "2                                 14.015015   \n",
       "3                                 14.036510   \n",
       "4                                 14.027298   \n",
       "\n",
       "   secondary_cleaner.state.floatbank4_a_level  \\\n",
       "0                                 -502.488007   \n",
       "1                                 -505.503262   \n",
       "2                                 -502.520901   \n",
       "3                                 -500.857308   \n",
       "4                                 -499.838632   \n",
       "\n",
       "   secondary_cleaner.state.floatbank4_b_air  \\\n",
       "0                                 12.099931   \n",
       "1                                 11.950531   \n",
       "2                                 11.912783   \n",
       "3                                 11.999550   \n",
       "4                                 11.953070   \n",
       "\n",
       "   secondary_cleaner.state.floatbank4_b_level  \\\n",
       "0                                 -504.715942   \n",
       "1                                 -501.331529   \n",
       "2                                 -501.133383   \n",
       "3                                 -501.193686   \n",
       "4                                 -501.053894   \n",
       "\n",
       "   secondary_cleaner.state.floatbank5_a_air  \\\n",
       "0                                  9.925633   \n",
       "1                                 10.039245   \n",
       "2                                 10.070913   \n",
       "3                                  9.970366   \n",
       "4                                  9.925709   \n",
       "\n",
       "   secondary_cleaner.state.floatbank5_a_level  \\\n",
       "0                                 -498.310211   \n",
       "1                                 -500.169983   \n",
       "2                                 -500.129135   \n",
       "3                                 -499.201640   \n",
       "4                                 -501.686727   \n",
       "\n",
       "   secondary_cleaner.state.floatbank5_b_air  \\\n",
       "0                                  8.079666   \n",
       "1                                  7.984757   \n",
       "2                                  8.013877   \n",
       "3                                  7.977324   \n",
       "4                                  7.894242   \n",
       "\n",
       "   secondary_cleaner.state.floatbank5_b_level  \\\n",
       "0                                 -500.470978   \n",
       "1                                 -500.582168   \n",
       "2                                 -500.517572   \n",
       "3                                 -500.255908   \n",
       "4                                 -500.356035   \n",
       "\n",
       "   secondary_cleaner.state.floatbank6_a_air  \\\n",
       "0                                 14.151341   \n",
       "1                                 13.998353   \n",
       "2                                 14.028663   \n",
       "3                                 14.005551   \n",
       "4                                 13.996647   \n",
       "\n",
       "   secondary_cleaner.state.floatbank6_a_level  \n",
       "0                                 -605.841980  \n",
       "1                                 -599.787184  \n",
       "2                                 -601.427363  \n",
       "3                                 -599.996129  \n",
       "4                                 -601.496691  \n",
       "\n",
       "[5 rows x 87 columns]"
      ]
     },
     "metadata": {},
     "output_type": "display_data"
    },
    {
     "name": "stdout",
     "output_type": "stream",
     "text": [
      "______________________________________________________________\n",
      "\n",
      "\u001b[1mПосмотрим на общую информацию\u001b[0m\n",
      "<class 'pandas.core.frame.DataFrame'>\n",
      "RangeIndex: 19439 entries, 0 to 19438\n",
      "Data columns (total 87 columns):\n",
      " #   Column                                              Non-Null Count  Dtype  \n",
      "---  ------                                              --------------  -----  \n",
      " 0   date                                                19439 non-null  object \n",
      " 1   final.output.concentrate_ag                         19438 non-null  float64\n",
      " 2   final.output.concentrate_pb                         19438 non-null  float64\n",
      " 3   final.output.concentrate_sol                        19228 non-null  float64\n",
      " 4   final.output.concentrate_au                         19439 non-null  float64\n",
      " 5   final.output.recovery                               19439 non-null  float64\n",
      " 6   final.output.tail_ag                                19438 non-null  float64\n",
      " 7   final.output.tail_pb                                19338 non-null  float64\n",
      " 8   final.output.tail_sol                               19433 non-null  float64\n",
      " 9   final.output.tail_au                                19439 non-null  float64\n",
      " 10  primary_cleaner.input.sulfate                       19415 non-null  float64\n",
      " 11  primary_cleaner.input.depressant                    19402 non-null  float64\n",
      " 12  primary_cleaner.input.feed_size                     19439 non-null  float64\n",
      " 13  primary_cleaner.input.xanthate                      19335 non-null  float64\n",
      " 14  primary_cleaner.output.concentrate_ag               19439 non-null  float64\n",
      " 15  primary_cleaner.output.concentrate_pb               19323 non-null  float64\n",
      " 16  primary_cleaner.output.concentrate_sol              19069 non-null  float64\n",
      " 17  primary_cleaner.output.concentrate_au               19439 non-null  float64\n",
      " 18  primary_cleaner.output.tail_ag                      19435 non-null  float64\n",
      " 19  primary_cleaner.output.tail_pb                      19418 non-null  float64\n",
      " 20  primary_cleaner.output.tail_sol                     19377 non-null  float64\n",
      " 21  primary_cleaner.output.tail_au                      19439 non-null  float64\n",
      " 22  primary_cleaner.state.floatbank8_a_air              19435 non-null  float64\n",
      " 23  primary_cleaner.state.floatbank8_a_level            19438 non-null  float64\n",
      " 24  primary_cleaner.state.floatbank8_b_air              19435 non-null  float64\n",
      " 25  primary_cleaner.state.floatbank8_b_level            19438 non-null  float64\n",
      " 26  primary_cleaner.state.floatbank8_c_air              19437 non-null  float64\n",
      " 27  primary_cleaner.state.floatbank8_c_level            19438 non-null  float64\n",
      " 28  primary_cleaner.state.floatbank8_d_air              19436 non-null  float64\n",
      " 29  primary_cleaner.state.floatbank8_d_level            19438 non-null  float64\n",
      " 30  rougher.calculation.sulfate_to_au_concentrate       19437 non-null  float64\n",
      " 31  rougher.calculation.floatbank10_sulfate_to_au_feed  19437 non-null  float64\n",
      " 32  rougher.calculation.floatbank11_sulfate_to_au_feed  19437 non-null  float64\n",
      " 33  rougher.calculation.au_pb_ratio                     19439 non-null  float64\n",
      " 34  rougher.input.feed_ag                               19439 non-null  float64\n",
      " 35  rougher.input.feed_pb                               19339 non-null  float64\n",
      " 36  rougher.input.feed_rate                             19428 non-null  float64\n",
      " 37  rougher.input.feed_size                             19294 non-null  float64\n",
      " 38  rougher.input.feed_sol                              19340 non-null  float64\n",
      " 39  rougher.input.feed_au                               19439 non-null  float64\n",
      " 40  rougher.input.floatbank10_sulfate                   19405 non-null  float64\n",
      " 41  rougher.input.floatbank10_xanthate                  19431 non-null  float64\n",
      " 42  rougher.input.floatbank11_sulfate                   19395 non-null  float64\n",
      " 43  rougher.input.floatbank11_xanthate                  18986 non-null  float64\n",
      " 44  rougher.output.concentrate_ag                       19439 non-null  float64\n",
      " 45  rougher.output.concentrate_pb                       19439 non-null  float64\n",
      " 46  rougher.output.concentrate_sol                      19416 non-null  float64\n",
      " 47  rougher.output.concentrate_au                       19439 non-null  float64\n",
      " 48  rougher.output.recovery                             19439 non-null  float64\n",
      " 49  rougher.output.tail_ag                              19438 non-null  float64\n",
      " 50  rougher.output.tail_pb                              19439 non-null  float64\n",
      " 51  rougher.output.tail_sol                             19439 non-null  float64\n",
      " 52  rougher.output.tail_au                              19439 non-null  float64\n",
      " 53  rougher.state.floatbank10_a_air                     19438 non-null  float64\n",
      " 54  rougher.state.floatbank10_a_level                   19438 non-null  float64\n",
      " 55  rougher.state.floatbank10_b_air                     19438 non-null  float64\n",
      " 56  rougher.state.floatbank10_b_level                   19438 non-null  float64\n",
      " 57  rougher.state.floatbank10_c_air                     19438 non-null  float64\n",
      " 58  rougher.state.floatbank10_c_level                   19438 non-null  float64\n",
      " 59  rougher.state.floatbank10_d_air                     19439 non-null  float64\n",
      " 60  rougher.state.floatbank10_d_level                   19439 non-null  float64\n",
      " 61  rougher.state.floatbank10_e_air                     19003 non-null  float64\n",
      " 62  rougher.state.floatbank10_e_level                   19439 non-null  float64\n",
      " 63  rougher.state.floatbank10_f_air                     19439 non-null  float64\n",
      " 64  rougher.state.floatbank10_f_level                   19439 non-null  float64\n",
      " 65  secondary_cleaner.output.tail_ag                    19437 non-null  float64\n",
      " 66  secondary_cleaner.output.tail_pb                    19427 non-null  float64\n",
      " 67  secondary_cleaner.output.tail_sol                   17691 non-null  float64\n",
      " 68  secondary_cleaner.output.tail_au                    19439 non-null  float64\n",
      " 69  secondary_cleaner.state.floatbank2_a_air            19219 non-null  float64\n",
      " 70  secondary_cleaner.state.floatbank2_a_level          19438 non-null  float64\n",
      " 71  secondary_cleaner.state.floatbank2_b_air            19416 non-null  float64\n",
      " 72  secondary_cleaner.state.floatbank2_b_level          19438 non-null  float64\n",
      " 73  secondary_cleaner.state.floatbank3_a_air            19426 non-null  float64\n",
      " 74  secondary_cleaner.state.floatbank3_a_level          19438 non-null  float64\n",
      " 75  secondary_cleaner.state.floatbank3_b_air            19438 non-null  float64\n",
      " 76  secondary_cleaner.state.floatbank3_b_level          19438 non-null  float64\n",
      " 77  secondary_cleaner.state.floatbank4_a_air            19433 non-null  float64\n",
      " 78  secondary_cleaner.state.floatbank4_a_level          19438 non-null  float64\n",
      " 79  secondary_cleaner.state.floatbank4_b_air            19438 non-null  float64\n",
      " 80  secondary_cleaner.state.floatbank4_b_level          19438 non-null  float64\n",
      " 81  secondary_cleaner.state.floatbank5_a_air            19438 non-null  float64\n",
      " 82  secondary_cleaner.state.floatbank5_a_level          19438 non-null  float64\n",
      " 83  secondary_cleaner.state.floatbank5_b_air            19438 non-null  float64\n",
      " 84  secondary_cleaner.state.floatbank5_b_level          19438 non-null  float64\n",
      " 85  secondary_cleaner.state.floatbank6_a_air            19437 non-null  float64\n",
      " 86  secondary_cleaner.state.floatbank6_a_level          19438 non-null  float64\n",
      "dtypes: float64(86), object(1)\n",
      "memory usage: 12.9+ MB\n"
     ]
    },
    {
     "data": {
      "text/plain": [
       "None"
      ]
     },
     "metadata": {},
     "output_type": "display_data"
    },
    {
     "name": "stdout",
     "output_type": "stream",
     "text": [
      "______________________________________________________________\n",
      "\n",
      "\u001b[1mПосмотрим на основные статистические данные\u001b[0m\n"
     ]
    },
    {
     "data": {
      "text/html": [
       "<div>\n",
       "<style scoped>\n",
       "    .dataframe tbody tr th:only-of-type {\n",
       "        vertical-align: middle;\n",
       "    }\n",
       "\n",
       "    .dataframe tbody tr th {\n",
       "        vertical-align: top;\n",
       "    }\n",
       "\n",
       "    .dataframe thead th {\n",
       "        text-align: right;\n",
       "    }\n",
       "</style>\n",
       "<table border=\"1\" class=\"dataframe\">\n",
       "  <thead>\n",
       "    <tr style=\"text-align: right;\">\n",
       "      <th></th>\n",
       "      <th>final.output.concentrate_ag</th>\n",
       "      <th>final.output.concentrate_pb</th>\n",
       "      <th>final.output.concentrate_sol</th>\n",
       "      <th>final.output.concentrate_au</th>\n",
       "      <th>final.output.recovery</th>\n",
       "      <th>final.output.tail_ag</th>\n",
       "      <th>final.output.tail_pb</th>\n",
       "      <th>final.output.tail_sol</th>\n",
       "      <th>final.output.tail_au</th>\n",
       "      <th>primary_cleaner.input.sulfate</th>\n",
       "      <th>...</th>\n",
       "      <th>secondary_cleaner.state.floatbank4_a_air</th>\n",
       "      <th>secondary_cleaner.state.floatbank4_a_level</th>\n",
       "      <th>secondary_cleaner.state.floatbank4_b_air</th>\n",
       "      <th>secondary_cleaner.state.floatbank4_b_level</th>\n",
       "      <th>secondary_cleaner.state.floatbank5_a_air</th>\n",
       "      <th>secondary_cleaner.state.floatbank5_a_level</th>\n",
       "      <th>secondary_cleaner.state.floatbank5_b_air</th>\n",
       "      <th>secondary_cleaner.state.floatbank5_b_level</th>\n",
       "      <th>secondary_cleaner.state.floatbank6_a_air</th>\n",
       "      <th>secondary_cleaner.state.floatbank6_a_level</th>\n",
       "    </tr>\n",
       "  </thead>\n",
       "  <tbody>\n",
       "    <tr>\n",
       "      <th>count</th>\n",
       "      <td>19438.000000</td>\n",
       "      <td>19438.000000</td>\n",
       "      <td>19228.000000</td>\n",
       "      <td>19439.000000</td>\n",
       "      <td>19439.000000</td>\n",
       "      <td>19438.000000</td>\n",
       "      <td>19338.000000</td>\n",
       "      <td>19433.000000</td>\n",
       "      <td>19439.000000</td>\n",
       "      <td>19415.000000</td>\n",
       "      <td>...</td>\n",
       "      <td>19433.000000</td>\n",
       "      <td>19438.000000</td>\n",
       "      <td>19438.000000</td>\n",
       "      <td>19438.000000</td>\n",
       "      <td>19438.000000</td>\n",
       "      <td>19438.000000</td>\n",
       "      <td>19438.000000</td>\n",
       "      <td>19438.000000</td>\n",
       "      <td>19437.000000</td>\n",
       "      <td>19438.000000</td>\n",
       "    </tr>\n",
       "    <tr>\n",
       "      <th>mean</th>\n",
       "      <td>5.168470</td>\n",
       "      <td>9.978895</td>\n",
       "      <td>9.501224</td>\n",
       "      <td>44.076513</td>\n",
       "      <td>67.050208</td>\n",
       "      <td>9.688589</td>\n",
       "      <td>2.705795</td>\n",
       "      <td>10.583728</td>\n",
       "      <td>3.042467</td>\n",
       "      <td>144.624774</td>\n",
       "      <td>...</td>\n",
       "      <td>18.987674</td>\n",
       "      <td>-485.894516</td>\n",
       "      <td>15.010366</td>\n",
       "      <td>-461.078636</td>\n",
       "      <td>15.694452</td>\n",
       "      <td>-488.684065</td>\n",
       "      <td>12.198224</td>\n",
       "      <td>-487.149827</td>\n",
       "      <td>18.959024</td>\n",
       "      <td>-505.436305</td>\n",
       "    </tr>\n",
       "    <tr>\n",
       "      <th>std</th>\n",
       "      <td>1.372348</td>\n",
       "      <td>1.669240</td>\n",
       "      <td>2.787537</td>\n",
       "      <td>5.129784</td>\n",
       "      <td>10.125840</td>\n",
       "      <td>2.328642</td>\n",
       "      <td>0.949077</td>\n",
       "      <td>2.868782</td>\n",
       "      <td>0.922808</td>\n",
       "      <td>44.464071</td>\n",
       "      <td>...</td>\n",
       "      <td>5.411058</td>\n",
       "      <td>47.758570</td>\n",
       "      <td>4.890228</td>\n",
       "      <td>67.405524</td>\n",
       "      <td>5.510974</td>\n",
       "      <td>34.533396</td>\n",
       "      <td>5.333024</td>\n",
       "      <td>38.347312</td>\n",
       "      <td>5.550498</td>\n",
       "      <td>37.689057</td>\n",
       "    </tr>\n",
       "    <tr>\n",
       "      <th>min</th>\n",
       "      <td>0.000000</td>\n",
       "      <td>0.000000</td>\n",
       "      <td>0.000000</td>\n",
       "      <td>0.000000</td>\n",
       "      <td>0.000000</td>\n",
       "      <td>0.000000</td>\n",
       "      <td>0.000000</td>\n",
       "      <td>0.000000</td>\n",
       "      <td>0.000000</td>\n",
       "      <td>0.003112</td>\n",
       "      <td>...</td>\n",
       "      <td>0.000000</td>\n",
       "      <td>-799.798523</td>\n",
       "      <td>0.000000</td>\n",
       "      <td>-800.836914</td>\n",
       "      <td>-0.372054</td>\n",
       "      <td>-797.323986</td>\n",
       "      <td>0.528083</td>\n",
       "      <td>-800.220337</td>\n",
       "      <td>-0.079426</td>\n",
       "      <td>-809.741464</td>\n",
       "    </tr>\n",
       "    <tr>\n",
       "      <th>25%</th>\n",
       "      <td>4.251240</td>\n",
       "      <td>9.137262</td>\n",
       "      <td>7.722820</td>\n",
       "      <td>43.402215</td>\n",
       "      <td>63.299712</td>\n",
       "      <td>8.062878</td>\n",
       "      <td>2.040119</td>\n",
       "      <td>8.938947</td>\n",
       "      <td>2.461138</td>\n",
       "      <td>114.107029</td>\n",
       "      <td>...</td>\n",
       "      <td>14.975734</td>\n",
       "      <td>-500.704892</td>\n",
       "      <td>11.940294</td>\n",
       "      <td>-500.187742</td>\n",
       "      <td>10.988606</td>\n",
       "      <td>-500.458467</td>\n",
       "      <td>8.971105</td>\n",
       "      <td>-500.129462</td>\n",
       "      <td>14.983037</td>\n",
       "      <td>-500.728067</td>\n",
       "    </tr>\n",
       "    <tr>\n",
       "      <th>50%</th>\n",
       "      <td>5.066094</td>\n",
       "      <td>10.102433</td>\n",
       "      <td>9.218961</td>\n",
       "      <td>45.011244</td>\n",
       "      <td>68.172738</td>\n",
       "      <td>9.743623</td>\n",
       "      <td>2.748730</td>\n",
       "      <td>10.622456</td>\n",
       "      <td>2.984909</td>\n",
       "      <td>143.232103</td>\n",
       "      <td>...</td>\n",
       "      <td>18.017481</td>\n",
       "      <td>-499.837793</td>\n",
       "      <td>14.971014</td>\n",
       "      <td>-499.459786</td>\n",
       "      <td>15.000036</td>\n",
       "      <td>-499.802605</td>\n",
       "      <td>11.019433</td>\n",
       "      <td>-499.935317</td>\n",
       "      <td>19.960541</td>\n",
       "      <td>-500.048400</td>\n",
       "    </tr>\n",
       "    <tr>\n",
       "      <th>75%</th>\n",
       "      <td>5.895527</td>\n",
       "      <td>11.035769</td>\n",
       "      <td>10.947813</td>\n",
       "      <td>46.275313</td>\n",
       "      <td>72.686642</td>\n",
       "      <td>11.134294</td>\n",
       "      <td>3.333216</td>\n",
       "      <td>12.104271</td>\n",
       "      <td>3.571351</td>\n",
       "      <td>175.075656</td>\n",
       "      <td>...</td>\n",
       "      <td>23.012470</td>\n",
       "      <td>-498.249730</td>\n",
       "      <td>19.034162</td>\n",
       "      <td>-400.118106</td>\n",
       "      <td>18.026190</td>\n",
       "      <td>-498.384187</td>\n",
       "      <td>14.019088</td>\n",
       "      <td>-499.436708</td>\n",
       "      <td>24.003170</td>\n",
       "      <td>-499.495378</td>\n",
       "    </tr>\n",
       "    <tr>\n",
       "      <th>max</th>\n",
       "      <td>16.001945</td>\n",
       "      <td>17.031899</td>\n",
       "      <td>19.615720</td>\n",
       "      <td>52.756638</td>\n",
       "      <td>100.000000</td>\n",
       "      <td>19.552149</td>\n",
       "      <td>5.804178</td>\n",
       "      <td>22.317730</td>\n",
       "      <td>8.245022</td>\n",
       "      <td>265.983123</td>\n",
       "      <td>...</td>\n",
       "      <td>30.115735</td>\n",
       "      <td>-245.239184</td>\n",
       "      <td>31.269706</td>\n",
       "      <td>-6.506986</td>\n",
       "      <td>43.709931</td>\n",
       "      <td>-244.483566</td>\n",
       "      <td>27.926001</td>\n",
       "      <td>-137.740004</td>\n",
       "      <td>32.188906</td>\n",
       "      <td>-104.427459</td>\n",
       "    </tr>\n",
       "  </tbody>\n",
       "</table>\n",
       "<p>8 rows × 86 columns</p>\n",
       "</div>"
      ],
      "text/plain": [
       "       final.output.concentrate_ag  final.output.concentrate_pb  \\\n",
       "count                 19438.000000                 19438.000000   \n",
       "mean                      5.168470                     9.978895   \n",
       "std                       1.372348                     1.669240   \n",
       "min                       0.000000                     0.000000   \n",
       "25%                       4.251240                     9.137262   \n",
       "50%                       5.066094                    10.102433   \n",
       "75%                       5.895527                    11.035769   \n",
       "max                      16.001945                    17.031899   \n",
       "\n",
       "       final.output.concentrate_sol  final.output.concentrate_au  \\\n",
       "count                  19228.000000                 19439.000000   \n",
       "mean                       9.501224                    44.076513   \n",
       "std                        2.787537                     5.129784   \n",
       "min                        0.000000                     0.000000   \n",
       "25%                        7.722820                    43.402215   \n",
       "50%                        9.218961                    45.011244   \n",
       "75%                       10.947813                    46.275313   \n",
       "max                       19.615720                    52.756638   \n",
       "\n",
       "       final.output.recovery  final.output.tail_ag  final.output.tail_pb  \\\n",
       "count           19439.000000          19438.000000          19338.000000   \n",
       "mean               67.050208              9.688589              2.705795   \n",
       "std                10.125840              2.328642              0.949077   \n",
       "min                 0.000000              0.000000              0.000000   \n",
       "25%                63.299712              8.062878              2.040119   \n",
       "50%                68.172738              9.743623              2.748730   \n",
       "75%                72.686642             11.134294              3.333216   \n",
       "max               100.000000             19.552149              5.804178   \n",
       "\n",
       "       final.output.tail_sol  final.output.tail_au  \\\n",
       "count           19433.000000          19439.000000   \n",
       "mean               10.583728              3.042467   \n",
       "std                 2.868782              0.922808   \n",
       "min                 0.000000              0.000000   \n",
       "25%                 8.938947              2.461138   \n",
       "50%                10.622456              2.984909   \n",
       "75%                12.104271              3.571351   \n",
       "max                22.317730              8.245022   \n",
       "\n",
       "       primary_cleaner.input.sulfate  ...  \\\n",
       "count                   19415.000000  ...   \n",
       "mean                      144.624774  ...   \n",
       "std                        44.464071  ...   \n",
       "min                         0.003112  ...   \n",
       "25%                       114.107029  ...   \n",
       "50%                       143.232103  ...   \n",
       "75%                       175.075656  ...   \n",
       "max                       265.983123  ...   \n",
       "\n",
       "       secondary_cleaner.state.floatbank4_a_air  \\\n",
       "count                              19433.000000   \n",
       "mean                                  18.987674   \n",
       "std                                    5.411058   \n",
       "min                                    0.000000   \n",
       "25%                                   14.975734   \n",
       "50%                                   18.017481   \n",
       "75%                                   23.012470   \n",
       "max                                   30.115735   \n",
       "\n",
       "       secondary_cleaner.state.floatbank4_a_level  \\\n",
       "count                                19438.000000   \n",
       "mean                                  -485.894516   \n",
       "std                                     47.758570   \n",
       "min                                   -799.798523   \n",
       "25%                                   -500.704892   \n",
       "50%                                   -499.837793   \n",
       "75%                                   -498.249730   \n",
       "max                                   -245.239184   \n",
       "\n",
       "       secondary_cleaner.state.floatbank4_b_air  \\\n",
       "count                              19438.000000   \n",
       "mean                                  15.010366   \n",
       "std                                    4.890228   \n",
       "min                                    0.000000   \n",
       "25%                                   11.940294   \n",
       "50%                                   14.971014   \n",
       "75%                                   19.034162   \n",
       "max                                   31.269706   \n",
       "\n",
       "       secondary_cleaner.state.floatbank4_b_level  \\\n",
       "count                                19438.000000   \n",
       "mean                                  -461.078636   \n",
       "std                                     67.405524   \n",
       "min                                   -800.836914   \n",
       "25%                                   -500.187742   \n",
       "50%                                   -499.459786   \n",
       "75%                                   -400.118106   \n",
       "max                                     -6.506986   \n",
       "\n",
       "       secondary_cleaner.state.floatbank5_a_air  \\\n",
       "count                              19438.000000   \n",
       "mean                                  15.694452   \n",
       "std                                    5.510974   \n",
       "min                                   -0.372054   \n",
       "25%                                   10.988606   \n",
       "50%                                   15.000036   \n",
       "75%                                   18.026190   \n",
       "max                                   43.709931   \n",
       "\n",
       "       secondary_cleaner.state.floatbank5_a_level  \\\n",
       "count                                19438.000000   \n",
       "mean                                  -488.684065   \n",
       "std                                     34.533396   \n",
       "min                                   -797.323986   \n",
       "25%                                   -500.458467   \n",
       "50%                                   -499.802605   \n",
       "75%                                   -498.384187   \n",
       "max                                   -244.483566   \n",
       "\n",
       "       secondary_cleaner.state.floatbank5_b_air  \\\n",
       "count                              19438.000000   \n",
       "mean                                  12.198224   \n",
       "std                                    5.333024   \n",
       "min                                    0.528083   \n",
       "25%                                    8.971105   \n",
       "50%                                   11.019433   \n",
       "75%                                   14.019088   \n",
       "max                                   27.926001   \n",
       "\n",
       "       secondary_cleaner.state.floatbank5_b_level  \\\n",
       "count                                19438.000000   \n",
       "mean                                  -487.149827   \n",
       "std                                     38.347312   \n",
       "min                                   -800.220337   \n",
       "25%                                   -500.129462   \n",
       "50%                                   -499.935317   \n",
       "75%                                   -499.436708   \n",
       "max                                   -137.740004   \n",
       "\n",
       "       secondary_cleaner.state.floatbank6_a_air  \\\n",
       "count                              19437.000000   \n",
       "mean                                  18.959024   \n",
       "std                                    5.550498   \n",
       "min                                   -0.079426   \n",
       "25%                                   14.983037   \n",
       "50%                                   19.960541   \n",
       "75%                                   24.003170   \n",
       "max                                   32.188906   \n",
       "\n",
       "       secondary_cleaner.state.floatbank6_a_level  \n",
       "count                                19438.000000  \n",
       "mean                                  -505.436305  \n",
       "std                                     37.689057  \n",
       "min                                   -809.741464  \n",
       "25%                                   -500.728067  \n",
       "50%                                   -500.048400  \n",
       "75%                                   -499.495378  \n",
       "max                                   -104.427459  \n",
       "\n",
       "[8 rows x 86 columns]"
      ]
     },
     "metadata": {},
     "output_type": "display_data"
    },
    {
     "name": "stdout",
     "output_type": "stream",
     "text": [
      "______________________________________________________________\n",
      "\n",
      "\u001b[1mПосмотрим, есть ли явные дубликаты\u001b[0m\n"
     ]
    },
    {
     "data": {
      "text/plain": [
       "0"
      ]
     },
     "metadata": {},
     "output_type": "display_data"
    },
    {
     "name": "stdout",
     "output_type": "stream",
     "text": [
      "______________________________________________________________\n",
      "\n",
      "\u001b[1mПосмотрим на неявные дубликаты\u001b[0m\n"
     ]
    },
    {
     "data": {
      "text/plain": [
       "2018-08-04 02:59:59    1\n",
       "2017-07-23 00:59:59    1\n",
       "2016-10-28 23:59:59    1\n",
       "2017-07-07 21:59:59    1\n",
       "2016-07-10 10:59:59    1\n",
       "                      ..\n",
       "2017-06-14 00:59:59    1\n",
       "2018-02-03 02:59:59    1\n",
       "2017-01-21 00:59:59    1\n",
       "2016-12-22 20:59:59    1\n",
       "2017-04-26 11:59:59    1\n",
       "Name: date, Length: 19439, dtype: int64"
      ]
     },
     "metadata": {},
     "output_type": "display_data"
    },
    {
     "name": "stdout",
     "output_type": "stream",
     "text": [
      "\n",
      "\u001b[1mПосмотрим на пропуски\u001b[0m\n"
     ]
    },
    {
     "data": {
      "text/plain": [
       "date                                            0\n",
       "final.output.concentrate_ag                     1\n",
       "final.output.concentrate_pb                     1\n",
       "final.output.concentrate_sol                  211\n",
       "final.output.concentrate_au                     0\n",
       "                                             ... \n",
       "secondary_cleaner.state.floatbank5_a_level      1\n",
       "secondary_cleaner.state.floatbank5_b_air        1\n",
       "secondary_cleaner.state.floatbank5_b_level      1\n",
       "secondary_cleaner.state.floatbank6_a_air        2\n",
       "secondary_cleaner.state.floatbank6_a_level      1\n",
       "Length: 87, dtype: int64"
      ]
     },
     "metadata": {},
     "output_type": "display_data"
    }
   ],
   "source": [
    "info(full)"
   ]
  },
  {
   "cell_type": "markdown",
   "metadata": {},
   "source": [
    "Изменим тип признака `date`."
   ]
  },
  {
   "cell_type": "code",
   "execution_count": 7,
   "metadata": {
    "scrolled": true
   },
   "outputs": [
    {
     "name": "stdout",
     "output_type": "stream",
     "text": [
      "Тип данных столбца \"date\" у датафрейма \"gold_recovery_train\": datetime64[ns].\n",
      "Тип данных столбца \"date\" у датафрейма \"gold_recovery_test\": datetime64[ns].\n",
      "Тип данных столбца \"date\" у датафрейма \"gold_recovery_full\": datetime64[ns].\n"
     ]
    }
   ],
   "source": [
    "train.name = 'gold_recovery_train' # названия таблиц данных\n",
    "test.name = 'gold_recovery_test'\n",
    "full.name = 'gold_recovery_full'\n",
    "\n",
    "files = [train, test, full] # список таблиц данных\n",
    "# меняем тип столбца date\n",
    "for file in files:\n",
    "    file['date'] = pd.to_datetime(file['date'], format='%Y-%m-%d %H:%M:%S')\n",
    "    print('Тип данных столбца \"date\" у датафрейма \"{}\": {}.'.format(file.name, file.dtypes['date']))"
   ]
  },
  {
   "cell_type": "markdown",
   "metadata": {},
   "source": [
    "#### Вывод"
   ]
  },
  {
   "cell_type": "markdown",
   "metadata": {},
   "source": [
    "Итак, в тестовой выборке нет 34 колонок, из них 2 колонки это целевые признаки - `final.output.recovery`, `rougher.output.recovery`, остальные признаки:\n",
    "* выходные концентрации веществ на этапах (rougher/primary_cleaner/final.output.concentrate_хх) - 12 колонок;\n",
    "* выходные концентрации отвальных хвостов на всех этапах (rougher/primary_cleaner/secondary_cleaner/final.output.tail_хх) - 16 колонок;\n",
    "* расчетные характеристики на этапе флотации:(rougher.calculation.au_pb_ratio/floatbank10_sulfate_to_au_feed/floatbank11_sulfate_to_au_feed/sulfate_to_au_concentrate) - 4 колонки.\n",
    "\n",
    "В каждой таблице существуют пропуски и неявные дубликаты. Также данные распределены нормально. Предварительно можно сказать, что данных дост\n",
    "аточно для исследования. После расчета эффективности обогащения и анализа признаков необходимо провести предобработку данных."
   ]
  },
  {
   "cell_type": "markdown",
   "metadata": {},
   "source": [
    "### Проверьте, что эффективность обогащения рассчитана правильно. Вычислите её на обучающей выборке для признака rougher.output.recovery. Найдите MAE между вашими расчётами и значением признака. Опишите выводы."
   ]
  },
  {
   "cell_type": "markdown",
   "metadata": {},
   "source": [
    "Посчитаем среднюю абсолютную погрешность."
   ]
  },
  {
   "cell_type": "code",
   "execution_count": 8,
   "metadata": {},
   "outputs": [
    {
     "name": "stdout",
     "output_type": "stream",
     "text": [
      "Средняя абсолютная ошибка (MAE) признака \"rougher.output.recovery\": 9.73512347450521e-15\n"
     ]
    }
   ],
   "source": [
    "C = train['rougher.output.concentrate_au'] # доля золота в концентрате после флотации/очистки;\n",
    "F = train['rougher.input.feed_au'] # доля золота в сырье/концентрате до флотации/очистки;\n",
    "T = train['rougher.output.tail_au'] # доля золота в отвальных хвостах после флотации/очистки.\n",
    "# создадим столбец для проверки `rougher.output.recovery`\n",
    "train['rougher.output.recovery_check'] = ((C*(F - T)) / (F*(C - T))) * 100 \n",
    "MAE = MAE(train['rougher.output.recovery'], train['rougher.output.recovery_check'])\n",
    "\n",
    "print('Средняя абсолютная ошибка (MAE) признака \"rougher.output.recovery\": {}'.format(MAE))\n",
    "\n",
    "#Удалим созданный столбец \"rougher.output.recovery_check\"\n",
    "train.drop('rougher.output.recovery_check', axis=1, inplace=True)"
   ]
  },
  {
   "cell_type": "markdown",
   "metadata": {},
   "source": [
    "Эффективность обогащения расчитана верно."
   ]
  },
  {
   "cell_type": "markdown",
   "metadata": {},
   "source": [
    "### Проанализируйте признаки, недоступные в тестовой выборке. Что это за параметры? К какому типу относятся?"
   ]
  },
  {
   "cell_type": "markdown",
   "metadata": {},
   "source": [
    "Напишем функцию определяющую недостающие признаки в тестовой выборке."
   ]
  },
  {
   "cell_type": "code",
   "execution_count": 9,
   "metadata": {},
   "outputs": [],
   "source": [
    "def df1_columns_not_in_df2(df1, df2):\n",
    "    count = 0 # счетчик для недостающих признаков\n",
    "    omitted_columns = [] # список недостающих признаков\n",
    "    for column in df1.columns:\n",
    "        if column not in df2.columns: \n",
    "            omitted_columns.append(column)\n",
    "            count +=1\n",
    "    count_of_omitted_columns = \"Кол-во недоступных столбцов в тестовой выборке: {}\".format(count)\n",
    "    return (omitted_columns, count_of_omitted_columns)"
   ]
  },
  {
   "cell_type": "markdown",
   "metadata": {},
   "source": [
    "Применим функцию и посмотрим на признаки отсутствующие в тестовой выборке."
   ]
  },
  {
   "cell_type": "code",
   "execution_count": 10,
   "metadata": {},
   "outputs": [
    {
     "data": {
      "text/plain": [
       "(['final.output.concentrate_ag',\n",
       "  'final.output.concentrate_pb',\n",
       "  'final.output.concentrate_sol',\n",
       "  'final.output.concentrate_au',\n",
       "  'final.output.recovery',\n",
       "  'final.output.tail_ag',\n",
       "  'final.output.tail_pb',\n",
       "  'final.output.tail_sol',\n",
       "  'final.output.tail_au',\n",
       "  'primary_cleaner.output.concentrate_ag',\n",
       "  'primary_cleaner.output.concentrate_pb',\n",
       "  'primary_cleaner.output.concentrate_sol',\n",
       "  'primary_cleaner.output.concentrate_au',\n",
       "  'primary_cleaner.output.tail_ag',\n",
       "  'primary_cleaner.output.tail_pb',\n",
       "  'primary_cleaner.output.tail_sol',\n",
       "  'primary_cleaner.output.tail_au',\n",
       "  'rougher.calculation.sulfate_to_au_concentrate',\n",
       "  'rougher.calculation.floatbank10_sulfate_to_au_feed',\n",
       "  'rougher.calculation.floatbank11_sulfate_to_au_feed',\n",
       "  'rougher.calculation.au_pb_ratio',\n",
       "  'rougher.output.concentrate_ag',\n",
       "  'rougher.output.concentrate_pb',\n",
       "  'rougher.output.concentrate_sol',\n",
       "  'rougher.output.concentrate_au',\n",
       "  'rougher.output.recovery',\n",
       "  'rougher.output.tail_ag',\n",
       "  'rougher.output.tail_pb',\n",
       "  'rougher.output.tail_sol',\n",
       "  'rougher.output.tail_au',\n",
       "  'secondary_cleaner.output.tail_ag',\n",
       "  'secondary_cleaner.output.tail_pb',\n",
       "  'secondary_cleaner.output.tail_sol',\n",
       "  'secondary_cleaner.output.tail_au'],\n",
       " 'Кол-во недоступных столбцов в тестовой выборке: 34')"
      ]
     },
     "execution_count": 10,
     "metadata": {},
     "output_type": "execute_result"
    }
   ],
   "source": [
    "df1_columns_not_in_df2(train, test)"
   ]
  },
  {
   "cell_type": "markdown",
   "metadata": {},
   "source": [
    "#### Вывод"
   ]
  },
  {
   "cell_type": "markdown",
   "metadata": {},
   "source": [
    "В тестовой выборке не хватает 34 признака. Тип данных - `float64`. Данные параметры недоступны, потому что замеряются и/или рассчитываются значительно позже. Из-за этого в тестовой выборке отсутствуют некоторые признаки, которые могут быть в обучающей. В дальнейшем, при обучении модели необходимо удалить \"нехватающие\" в тестовой выборке признаки из обучающей выборки."
   ]
  },
  {
   "cell_type": "markdown",
   "metadata": {},
   "source": [
    "### Предобработка данных"
   ]
  },
  {
   "cell_type": "markdown",
   "metadata": {},
   "source": [
    "Заполним пропуски методом `ffill`, кроме столбцов в переменной `targets`."
   ]
  },
  {
   "cell_type": "code",
   "execution_count": 11,
   "metadata": {},
   "outputs": [],
   "source": [
    "targets = ['rougher.output.recovery', 'final.output.recovery'] # целевые признаки\n",
    "files = [train, test, full] # список таблиц данных\n",
    "\n",
    "for file in files:\n",
    "    features = [column for column in file.columns if column not in targets]\n",
    "    file[features] = file[features].fillna(method='ffill', axis=0)"
   ]
  },
  {
   "cell_type": "markdown",
   "metadata": {},
   "source": [
    "Напишем функцию для расчета количества пропусков в таблице `train` и `full`."
   ]
  },
  {
   "cell_type": "code",
   "execution_count": 12,
   "metadata": {},
   "outputs": [],
   "source": [
    "def nan_column_counts(data, column):\n",
    "    nan_counts = len(data.loc[data[column].isnull(), column])\n",
    "    print('Кол-во пропусков в столбце \"{}\" в датафрейме \"{}\": {}'.format(column, data.name, nan_counts))"
   ]
  },
  {
   "cell_type": "markdown",
   "metadata": {},
   "source": [
    "Применим функцию."
   ]
  },
  {
   "cell_type": "code",
   "execution_count": 13,
   "metadata": {},
   "outputs": [
    {
     "name": "stdout",
     "output_type": "stream",
     "text": [
      "Кол-во пропусков в столбце \"rougher.output.recovery\" в датафрейме \"gold_recovery_train\": 0\n",
      "Кол-во пропусков в столбце \"final.output.recovery\" в датафрейме \"gold_recovery_train\": 0\n",
      "Кол-во пропусков в столбце \"rougher.output.recovery\" в датафрейме \"gold_recovery_full\": 0\n",
      "Кол-во пропусков в столбце \"final.output.recovery\" в датафрейме \"gold_recovery_full\": 0\n"
     ]
    }
   ],
   "source": [
    "for file in [train, full]:\n",
    "    for column in targets:\n",
    "        nan_column_counts(file, column)"
   ]
  },
  {
   "cell_type": "markdown",
   "metadata": {},
   "source": [
    "Удалим пропуски в целевых признаках."
   ]
  },
  {
   "cell_type": "code",
   "execution_count": 14,
   "metadata": {},
   "outputs": [
    {
     "name": "stdout",
     "output_type": "stream",
     "text": [
      "                            Датафрейм \"gold_recovery_train\"\n",
      "Кол-во пропусков в столбце \"rougher.output.recovery\" в датафрейме \"gold_recovery_train\": 0\n",
      "Кол-во пропусков в столбце \"final.output.recovery\" в датафрейме \"gold_recovery_train\": 0\n",
      "\n",
      "\n",
      "                            Датафрейм \"gold_recovery_full\"\n",
      "Кол-во пропусков в столбце \"rougher.output.recovery\" в датафрейме \"gold_recovery_full\": 0\n",
      "Кол-во пропусков в столбце \"final.output.recovery\" в датафрейме \"gold_recovery_full\": 0\n",
      "\n",
      "\n"
     ]
    }
   ],
   "source": [
    "for file in [train, full]:\n",
    "    file.dropna(subset=targets, how='any', axis=0, inplace=True)\n",
    "    \n",
    "    #Проверим результат удаления\n",
    "    print('                            Датафрейм \"{}\"'.format(file.name))\n",
    "    for column in targets:\n",
    "        nan_column_counts(file, column)\n",
    "    print('\\n')"
   ]
  },
  {
   "cell_type": "markdown",
   "metadata": {},
   "source": [
    "Установим столбец `date` в качестве индекса для всех датафреймов."
   ]
  },
  {
   "cell_type": "code",
   "execution_count": 15,
   "metadata": {},
   "outputs": [],
   "source": [
    "for file in files:\n",
    "    file.set_index(keys='date', inplace=True)"
   ]
  },
  {
   "cell_type": "markdown",
   "metadata": {},
   "source": [
    "Добавим целевые признаки из исходных данных в тестовую выборку."
   ]
  },
  {
   "cell_type": "code",
   "execution_count": 16,
   "metadata": {},
   "outputs": [],
   "source": [
    "test = test.join(full[targets], how='left')"
   ]
  },
  {
   "cell_type": "markdown",
   "metadata": {},
   "source": [
    "#### Вывод"
   ]
  },
  {
   "cell_type": "markdown",
   "metadata": {},
   "source": [
    "После предобработки пропуски были заполнены методом `ffill`, столбец `date` установлен в качестве идексов и целевые признаки добавлены в тестовыую выборку. Теперь можно приступать к исследованию."
   ]
  },
  {
   "cell_type": "markdown",
   "metadata": {},
   "source": [
    "## Анализ данных"
   ]
  },
  {
   "cell_type": "markdown",
   "metadata": {},
   "source": [
    "### Посмотрите, как меняется концентрация металлов (Au, Ag, Pb) на различных этапах очистки. Опишите выводы."
   ]
  },
  {
   "cell_type": "code",
   "execution_count": 17,
   "metadata": {},
   "outputs": [
    {
     "data": {
      "image/png": "[encoded data removed]",
      "text/plain": [
       "<Figure size 1080x1440 with 3 Axes>"
      ]
     },
     "metadata": {
      "needs_background": "light"
     },
     "output_type": "display_data"
    }
   ],
   "source": [
    "metals = ['au', 'ag', 'pb'] # список металлов\n",
    "# список наименовний признаков\n",
    "stages = ['rougher.input.feed', 'rougher.output.concentrate', 'primary_cleaner.output.concentrate', 'final.output.concentrate']\n",
    "# список этапов для легенды\n",
    "legends = ['Исходное сырье', 'Флотация', 'Первичная очистка', 'Финальная концентрация']\n",
    "# построим гистограмму распределения концентрации металлов\n",
    "fig = plt.figure(figsize=(15, 20))\n",
    "\n",
    "rows = 3\n",
    "cols = 1\n",
    "counter = 1\n",
    "for metal in metals:\n",
    "    ax = plt.subplot(rows, cols, counter)\n",
    "    plt.xlabel('Значение признака', fontsize=13)\n",
    "    plt.ylabel('Кол-во, шт.', fontsize=13)\n",
    "    ax.set_title(metal, fontsize=16)\n",
    "    for stage in stages:\n",
    "        train[stage + '_' + metal].hist(bins=100, alpha=0.4, label=(stage))\n",
    "    plt.legend(legends, loc='upper left', fontsize=13)\n",
    "    counter += 1\n",
    "plt.show()"
   ]
  },
  {
   "cell_type": "markdown",
   "metadata": {},
   "source": [
    "#### Вывод"
   ]
  },
  {
   "cell_type": "markdown",
   "metadata": {},
   "source": [
    "Динамика концентрации металлов (Au, Ag, Pb) следующая:\n",
    "\n",
    "* с каждой последующим этапом отчистки концентрация золота (Au) значительно увеличивается;\n",
    "* концентрация серебра (Ag), в отличие от золота, наоборот снижается с каждым этапом;\n",
    "* концетрация свинца (Pb) увеличивается с каждым этапом, но не значительно."
   ]
  },
  {
   "cell_type": "markdown",
   "metadata": {},
   "source": [
    "### Сравните распределения размеров гранул сырья на обучающей и тестовой выборках. Если распределения сильно отличаются друг от друга, оценка модели будет неправильной."
   ]
  },
  {
   "cell_type": "code",
   "execution_count": 18,
   "metadata": {},
   "outputs": [
    {
     "data": {
      "image/png": "[encoded data removed]",
      "text/plain": [
       "<Figure size 1440x720 with 1 Axes>"
      ]
     },
     "metadata": {
      "needs_background": "light"
     },
     "output_type": "display_data"
    }
   ],
   "source": [
    "train_test = [train, test] # список обучающей и тестовой выборки\n",
    "legend = ['Обучающая выборка', 'Тестовая выборка'] # список для легенды\n",
    "# построим гистограмму распределения размеров гранул сырья\n",
    "fig = plt.figure(figsize=(20, 10))\n",
    "fig.suptitle('Распределение гранул сырья',  fontsize=25)\n",
    "\n",
    "plt.xlabel('Значение признака', fontsize=20)\n",
    "plt.ylabel('Плотность', fontsize=20)\n",
    "train['rougher.input.feed_size'].hist(bins=100, density=True, alpha=0.4, label='train')\n",
    "test['rougher.input.feed_size'].hist(bins=100, density=True, alpha=0.4, label='test')\n",
    "plt.legend(legend, loc='upper right', fontsize=15)\n",
    "plt.show()"
   ]
  },
  {
   "cell_type": "markdown",
   "metadata": {},
   "source": [
    "#### Вывод"
   ]
  },
  {
   "cell_type": "markdown",
   "metadata": {},
   "source": [
    "Размеры гранул сырья на обучающей и тестовой выборках не сильно отличаются друг от друга."
   ]
  },
  {
   "cell_type": "markdown",
   "metadata": {},
   "source": [
    "### Исследуйте суммарную концентрацию всех веществ на разных стадиях: в сырье, в черновом и финальном концентратах."
   ]
  },
  {
   "cell_type": "markdown",
   "metadata": {},
   "source": [
    "Создадим дополнительные столбцы `_total_metals_concentrate` для каждого этапа обработки для датафреймов `full` и `train`."
   ]
  },
  {
   "cell_type": "code",
   "execution_count": 19,
   "metadata": {},
   "outputs": [],
   "source": [
    "for file in [full, train]:\n",
    "    for stage in stages:\n",
    "        file[(stage + '_total_metals')] = (\n",
    "        file[stage + '_au'] + file[stage + '_ag'] + \n",
    "        file[stage + '_pb'] + file[stage + '_sol'])"
   ]
  },
  {
   "cell_type": "markdown",
   "metadata": {},
   "source": [
    "Построим гистограмму распределения."
   ]
  },
  {
   "cell_type": "code",
   "execution_count": 20,
   "metadata": {},
   "outputs": [
    {
     "data": {
      "image/png": "[encoded data removed]",
      "text/plain": [
       "<Figure size 1440x2160 with 2 Axes>"
      ]
     },
     "metadata": {
      "needs_background": "light"
     },
     "output_type": "display_data"
    }
   ],
   "source": [
    "fig = plt.figure(figsize=(20, 30))\n",
    "\n",
    "rows = 2\n",
    "cols = 1\n",
    "counter = 1\n",
    "for file in [full, train]:\n",
    "    ax = plt.subplot(rows, cols, counter)\n",
    "    ax.set_title(file.name, fontsize=20)\n",
    "    plt.xlabel('Значение признака', fontsize=20)\n",
    "    plt.ylabel('Плотность', fontsize=20)\n",
    "    for stage in stages:\n",
    "        file[stage + '_total_metals'].hist(bins=100, alpha=0.4, label=(stage))\n",
    "    plt.legend(legends, loc='upper left', fontsize=15)\n",
    "    counter += 1\n",
    "plt.show()"
   ]
  },
  {
   "cell_type": "markdown",
   "metadata": {},
   "source": [
    "Удалим столбцы с общей концентрацией всех металлов на всех этапов."
   ]
  },
  {
   "cell_type": "code",
   "execution_count": 21,
   "metadata": {},
   "outputs": [],
   "source": [
    "for file in [full, train]:\n",
    "        file.drop(['rougher.output.concentrate_total_metals',\n",
    "                 'primary_cleaner.output.concentrate_total_metals',\n",
    "                 'final.output.concentrate_total_metals'], axis=1, inplace=True)"
   ]
  },
  {
   "cell_type": "markdown",
   "metadata": {},
   "source": [
    "#### Вывод"
   ]
  },
  {
   "cell_type": "markdown",
   "metadata": {},
   "source": [
    "Суммарная концентрация распределена нормально и находится в границе от 40 до 80. В финальном концентрате увеличивается количество металлов."
   ]
  },
  {
   "cell_type": "markdown",
   "metadata": {},
   "source": [
    "## Модель"
   ]
  },
  {
   "cell_type": "markdown",
   "metadata": {},
   "source": [
    "Перед началом обучения моделей удалим те признаки из обучающей выборки, которых нет в тестовой."
   ]
  },
  {
   "cell_type": "code",
   "execution_count": 22,
   "metadata": {},
   "outputs": [
    {
     "data": {
      "text/plain": [
       "'Кол-во недоступных столбцов в тестовой выборке: 0'"
      ]
     },
     "execution_count": 22,
     "metadata": {},
     "output_type": "execute_result"
    }
   ],
   "source": [
    "train.drop(df1_columns_not_in_df2(train, test)[0], axis=1, inplace=True)\n",
    "\n",
    "# проверим результат\n",
    "df1_columns_not_in_df2(train, test)[1]"
   ]
  },
  {
   "cell_type": "markdown",
   "metadata": {},
   "source": [
    "Разделим обучающую и тестовую выборки."
   ]
  },
  {
   "cell_type": "code",
   "execution_count": 23,
   "metadata": {},
   "outputs": [],
   "source": [
    "features_train = train.drop(['rougher.output.recovery', 'final.output.recovery'], axis=1)\n",
    "features_test = test.drop(['rougher.output.recovery', 'final.output.recovery'], axis=1)\n",
    "\n",
    "target_train_rougher = pd.Series(train['rougher.output.recovery'])\n",
    "target_train_final = pd.Series(train['final.output.recovery'])\n",
    "target_test_rougher = pd.Series(test['rougher.output.recovery'])\n",
    "target_test_final = pd.Series(test['final.output.recovery'])"
   ]
  },
  {
   "cell_type": "markdown",
   "metadata": {},
   "source": [
    "### Напишите функцию для вычисления итоговой sMAPE."
   ]
  },
  {
   "cell_type": "code",
   "execution_count": 24,
   "metadata": {},
   "outputs": [],
   "source": [
    "def sMAPE(y_true, y_pred):\n",
    "    score = np.mean(abs(y_true - y_pred)/((abs(y_true)+abs(y_pred))/2))*100\n",
    "    return score"
   ]
  },
  {
   "cell_type": "markdown",
   "metadata": {},
   "source": [
    "### Обучите разные модели и оцените их качество кросс-валидацией. Выберите лучшую модель и проверьте её на тестовой выборке. Опишите выводы."
   ]
  },
  {
   "cell_type": "markdown",
   "metadata": {},
   "source": [
    "Напишем функцию, в которой стандартизируем данные, и оценим качество кросс-валидацией. "
   ]
  },
  {
   "cell_type": "code",
   "execution_count": 25,
   "metadata": {},
   "outputs": [],
   "source": [
    "def tuned_model_regression(model, parameters, name_of_regressor):\n",
    "    # создадим экземпляры класса стандартизатора и классификатора\n",
    "    scaler = StandardScaler()\n",
    "    \n",
    "    # создаём массив последовательности «шагов» конвейера\n",
    "    steps = [('normalizer', scaler), (name_of_regressor, model)]\n",
    "    pipe = Pipeline(steps)\n",
    "    \n",
    "    # переменная для множества гипермараметров\n",
    "    params = parameters\n",
    "\n",
    "    smape_scorer = make_scorer(sMAPE, greater_is_better=False)\n",
    "\n",
    "    # укажем внутри `GridSearch` параметр кросс-валидации `cv` \n",
    "    grid_search = GridSearchCV(estimator=pipe, param_grid=params, scoring=smape_scorer, cv=4)\n",
    "    return grid_search"
   ]
  },
  {
   "cell_type": "markdown",
   "metadata": {},
   "source": [
    "Созданную функцию испольуем при обучении всех моделей."
   ]
  },
  {
   "cell_type": "markdown",
   "metadata": {},
   "source": [
    "**Обучим модели на этапе `rougher`.**"
   ]
  },
  {
   "cell_type": "markdown",
   "metadata": {},
   "source": [
    "#### Решающее дерево"
   ]
  },
  {
   "cell_type": "code",
   "execution_count": 26,
   "metadata": {},
   "outputs": [
    {
     "name": "stdout",
     "output_type": "stream",
     "text": [
      "Значение метрики sMAPE для предсказания \"rougher.output.recovery\": 10.41%\n"
     ]
    }
   ],
   "source": [
    "# используем функцию tuned_model_regression\n",
    "rougher_tree = tuned_model_regression(\n",
    "    model=DecisionTreeRegressor(random_state=12345),\n",
    "    parameters={'rougher_tree__max_depth': np.arange(1, 21),\n",
    "               'rougher_tree__min_samples_leaf': [1, 5, 10, 20, 50, 100]},\n",
    "    name_of_regressor='rougher_tree')\n",
    "# обучим модель на обучающей выборке\n",
    "rougher_tree.fit(features_train, target_train_rougher)\n",
    "# предскажем ответы \n",
    "predicted_test_rougher_tree = rougher_tree.predict(features_test)\n",
    "# посчитаем метрику sMAPE\n",
    "sMAPE_rougher_tree = sMAPE(target_test_rougher, predicted_test_rougher_tree)\n",
    "\n",
    "print('Значение метрики sMAPE для предсказания \"rougher.output.recovery\": {:.2f}%'.format(sMAPE_rougher_tree))"
   ]
  },
  {
   "cell_type": "markdown",
   "metadata": {},
   "source": [
    "#### Линейная регрессия"
   ]
  },
  {
   "cell_type": "code",
   "execution_count": 27,
   "metadata": {},
   "outputs": [
    {
     "name": "stdout",
     "output_type": "stream",
     "text": [
      "Значение метрики sMAPE для предсказания \"rougher.output.recovery\": 9.78%\n"
     ]
    }
   ],
   "source": [
    "rougher_linear = tuned_model_regression(\n",
    "    model=LinearRegression(),\n",
    "    parameters={'rougher_linear__fit_intercept': [True, False],\n",
    "                'rougher_linear__copy_X': [True, False]\n",
    "               },\n",
    "    name_of_regressor='rougher_linear')\n",
    "\n",
    "rougher_linear.fit(features_train, target_train_rougher)\n",
    "predicted_test_rougher_linear = rougher_linear.predict(features_test)\n",
    "\n",
    "sMAPE_rougher_linear = sMAPE(target_test_rougher, predicted_test_rougher_linear)\n",
    "\n",
    "print('Значение метрики sMAPE для предсказания \"rougher.output.recovery\": {:.2f}%'.format(sMAPE_rougher_linear))\n"
   ]
  },
  {
   "cell_type": "markdown",
   "metadata": {},
   "source": [
    "#### Проверка адекватности регрессионных моделей"
   ]
  },
  {
   "cell_type": "code",
   "execution_count": 28,
   "metadata": {},
   "outputs": [
    {
     "name": "stdout",
     "output_type": "stream",
     "text": [
      "Значение метрики sMAPE для предсказания \"rougher.output.recovery\": 8.63%\n"
     ]
    }
   ],
   "source": [
    "rougher_dummy = DummyRegressor(strategy='median')\n",
    "\n",
    "rougher_dummy.fit(features_train, target_train_rougher)\n",
    "predicted_test_rougher_dummy = rougher_dummy.predict(features_test)\n",
    "\n",
    "sMAPE_rougher_dummy = sMAPE(target_test_rougher, predicted_test_rougher_dummy)\n",
    "\n",
    "print('Значение метрики sMAPE для предсказания \"rougher.output.recovery\": {:.2f}%'.format(sMAPE_rougher_dummy))"
   ]
  },
  {
   "cell_type": "markdown",
   "metadata": {},
   "source": [
    "Решающее дерево - лучшая модель, предсказывающую rougher.output.recovery."
   ]
  },
  {
   "cell_type": "code",
   "execution_count": 29,
   "metadata": {},
   "outputs": [],
   "source": [
    "best_rougher_model = rougher_tree\n",
    "best_rougher_smape = sMAPE_rougher_tree"
   ]
  },
  {
   "cell_type": "markdown",
   "metadata": {},
   "source": [
    "**Обучим модели на этапе `final`.**"
   ]
  },
  {
   "cell_type": "markdown",
   "metadata": {},
   "source": [
    "#### Решающее дерево"
   ]
  },
  {
   "cell_type": "code",
   "execution_count": 30,
   "metadata": {},
   "outputs": [
    {
     "name": "stdout",
     "output_type": "stream",
     "text": [
      "Значение метрики sMAPE для предсказания \"final.output.recovery\": 9.30%\n"
     ]
    }
   ],
   "source": [
    "final_tree = tuned_model_regression(\n",
    "    model=DecisionTreeRegressor(random_state=12345),\n",
    "    parameters={'final_tree__max_depth': np.arange(1, 21),\n",
    "               'final_tree__min_samples_leaf': [1, 5, 10, 20, 50, 100]},\n",
    "    name_of_regressor='final_tree')\n",
    "\n",
    "final_tree.fit(features_train, target_train_final)\n",
    "predicted_test_final_tree = final_tree.predict(features_test)\n",
    "\n",
    "sMAPE_final_tree = sMAPE(target_test_final, predicted_test_final_tree)\n",
    "\n",
    "print('Значение метрики sMAPE для предсказания \"final.output.recovery\": {:.2f}%'.format(sMAPE_final_tree))\n"
   ]
  },
  {
   "cell_type": "markdown",
   "metadata": {},
   "source": [
    "#### Линейная регрессия"
   ]
  },
  {
   "cell_type": "code",
   "execution_count": 31,
   "metadata": {},
   "outputs": [
    {
     "name": "stdout",
     "output_type": "stream",
     "text": [
      "Значение метрики sMAPE для предсказания \"final.output.recovery\": 10.04%\n"
     ]
    }
   ],
   "source": [
    "final_linear = tuned_model_regression(\n",
    "    model=LinearRegression(),\n",
    "    parameters={'final_linear__fit_intercept': [True, False],\n",
    "                'final_linear__copy_X': [True, False]\n",
    "               },\n",
    "    name_of_regressor='final_linear')\n",
    "\n",
    "final_linear.fit(features_train, target_train_final)\n",
    "predicted_test_final_linear = final_linear.predict(features_test)\n",
    "\n",
    "sMAPE_final_linear = sMAPE(target_test_final, predicted_test_final_linear)\n",
    "\n",
    "print('Значение метрики sMAPE для предсказания \"final.output.recovery\": {:.2f}%'.format(sMAPE_final_linear))"
   ]
  },
  {
   "cell_type": "markdown",
   "metadata": {},
   "source": [
    "#### Проверка адекватности регрессионных моделей"
   ]
  },
  {
   "cell_type": "code",
   "execution_count": 32,
   "metadata": {},
   "outputs": [
    {
     "name": "stdout",
     "output_type": "stream",
     "text": [
      "Значение метрики sMAPE для предсказания \"rougher.output.recovery\": 9.76%\n"
     ]
    }
   ],
   "source": [
    "final_dummy = DummyRegressor(strategy='median')\n",
    "\n",
    "final_dummy.fit(features_train, target_train_final)\n",
    "predicted_test_final_dummy = final_dummy.predict(features_test)\n",
    "\n",
    "sMAPE_final_dummy = sMAPE(target_test_final, predicted_test_final_dummy)\n",
    "\n",
    "print('Значение метрики sMAPE для предсказания \"rougher.output.recovery\": {:.2f}%'.format(sMAPE_final_dummy))"
   ]
  },
  {
   "cell_type": "markdown",
   "metadata": {},
   "source": [
    "Линейная регрессия - лучшая модель, предсказывающую final.output.recovery."
   ]
  },
  {
   "cell_type": "code",
   "execution_count": 33,
   "metadata": {},
   "outputs": [],
   "source": [
    "best_final_model = final_linear\n",
    "best_final_smape = sMAPE_final_linear"
   ]
  },
  {
   "cell_type": "markdown",
   "metadata": {},
   "source": [
    "#### Итоговое значение sMAPE"
   ]
  },
  {
   "cell_type": "code",
   "execution_count": 34,
   "metadata": {},
   "outputs": [
    {
     "name": "stdout",
     "output_type": "stream",
     "text": [
      "Итоговое sMAPE: 10.13%\n"
     ]
    }
   ],
   "source": [
    "def sMAPE_total(smape_rougher, smape_final):\n",
    "    total_smape = 0.25*smape_rougher + 0.75*smape_final\n",
    "    return total_smape\n",
    "\n",
    "print('Итоговое sMAPE: {:.2f}%'.format(sMAPE_total(best_rougher_smape, best_final_smape)))"
   ]
  },
  {
   "cell_type": "markdown",
   "metadata": {},
   "source": [
    "## Вывод"
   ]
  },
  {
   "cell_type": "markdown",
   "metadata": {},
   "source": [
    "При анализе данных получили следующие выводы:\n",
    "\n",
    "* концентрация золота с каждым этапом увеличивается, у свинца увеличивается, но немного, а у серебра уменьшается.\n",
    "* размеры гранул на обучающей и тестовой выборках не отличаются\n",
    "* суммарная концентрация в исходных данных и обучающей выборке не сильно отличается.\n",
    "\n",
    "При построении модели использовали Pipeline и GridSearchCV для поиска оптимальных гиперпараметров. В ходе проделанной работы удалось обучить модель с помощью алгоритма решающего дерева и линейной регрессии, и добиться итогового качества модели (sMAPE) равное 10,13%.\n",
    "\n",
    "Объединим критерии в таблицу:"
   ]
  },
  {
   "cell_type": "code",
   "execution_count": 35,
   "metadata": {},
   "outputs": [
    {
     "data": {
      "text/html": [
       "<div>\n",
       "<style scoped>\n",
       "    .dataframe tbody tr th:only-of-type {\n",
       "        vertical-align: middle;\n",
       "    }\n",
       "\n",
       "    .dataframe tbody tr th {\n",
       "        vertical-align: top;\n",
       "    }\n",
       "\n",
       "    .dataframe thead th {\n",
       "        text-align: right;\n",
       "    }\n",
       "</style>\n",
       "<table border=\"1\" class=\"dataframe\">\n",
       "  <thead>\n",
       "    <tr style=\"text-align: right;\">\n",
       "      <th></th>\n",
       "      <th></th>\n",
       "      <th>sMAPE</th>\n",
       "    </tr>\n",
       "  </thead>\n",
       "  <tbody>\n",
       "    <tr>\n",
       "      <th rowspan=\"3\" valign=\"top\">Этап rougher</th>\n",
       "      <th>Решающее дерево</th>\n",
       "      <td>10.4</td>\n",
       "    </tr>\n",
       "    <tr>\n",
       "      <th>Линейная регрессия</th>\n",
       "      <td>9.78</td>\n",
       "    </tr>\n",
       "    <tr>\n",
       "      <th>Проверка адекватности</th>\n",
       "      <td>8.63</td>\n",
       "    </tr>\n",
       "    <tr>\n",
       "      <th rowspan=\"3\" valign=\"top\">Этап final</th>\n",
       "      <th>Решающее дерево</th>\n",
       "      <td>9.3</td>\n",
       "    </tr>\n",
       "    <tr>\n",
       "      <th>Линейная регрессия</th>\n",
       "      <td>10.0</td>\n",
       "    </tr>\n",
       "    <tr>\n",
       "      <th>Проверка адекватности</th>\n",
       "      <td>9.76</td>\n",
       "    </tr>\n",
       "  </tbody>\n",
       "</table>\n",
       "</div>"
      ],
      "text/plain": [
       "                                   sMAPE\n",
       "Этап rougher Решающее дерево        10.4\n",
       "             Линейная регрессия     9.78\n",
       "             Проверка адекватности  8.63\n",
       "Этап final   Решающее дерево         9.3\n",
       "             Линейная регрессия     10.0\n",
       "             Проверка адекватности  9.76"
      ]
     },
     "execution_count": 35,
     "metadata": {},
     "output_type": "execute_result"
    }
   ],
   "source": [
    "pd.DataFrame({'sMAPE': [f'{sMAPE_rougher_tree:.3}', f'{sMAPE_rougher_linear:.3}', f'{sMAPE_rougher_dummy:.3}'\n",
    "                           , f'{sMAPE_final_tree:.3}', f'{sMAPE_final_linear:.3}', f'{sMAPE_final_dummy:.3}']}\n",
    "              , index=[['Этап rougher', 'Этап rougher', 'Этап rougher', 'Этап final', 'Этап final', 'Этап final']\n",
    "                       , ['Решающее дерево', 'Линейная регрессия', 'Проверка адекватности'\n",
    "                        , 'Решающее дерево', 'Линейная регрессия', 'Проверка адекватности']])"
   ]
  }
 ],
 "metadata": {
  "ExecuteTimeLog": [
   {
    "duration": 1723,
    "start_time": "2022-05-04T04:06:30.086Z"
   },
   {
    "duration": 167,
    "start_time": "2022-05-04T04:08:22.674Z"
   },
   {
    "duration": 1386,
    "start_time": "2022-05-04T04:08:46.176Z"
   },
   {
    "duration": 155,
    "start_time": "2022-05-04T04:08:47.564Z"
   },
   {
    "duration": 66,
    "start_time": "2022-05-04T04:09:27.651Z"
   },
   {
    "duration": 88,
    "start_time": "2022-05-04T04:10:08.323Z"
   },
   {
    "duration": 79,
    "start_time": "2022-05-04T04:11:26.990Z"
   },
   {
    "duration": 52,
    "start_time": "2022-05-04T04:14:41.423Z"
   },
   {
    "duration": 1672,
    "start_time": "2022-05-04T04:15:15.216Z"
   },
   {
    "duration": 5,
    "start_time": "2022-05-04T04:17:50.792Z"
   },
   {
    "duration": 2478,
    "start_time": "2022-05-04T04:18:35.577Z"
   },
   {
    "duration": 0,
    "start_time": "2022-05-04T04:18:38.057Z"
   },
   {
    "duration": 0,
    "start_time": "2022-05-04T04:18:38.058Z"
   },
   {
    "duration": 2013,
    "start_time": "2022-05-04T04:18:42.887Z"
   },
   {
    "duration": 2234,
    "start_time": "2022-05-04T04:18:49.024Z"
   },
   {
    "duration": 7,
    "start_time": "2022-05-04T04:23:00.950Z"
   },
   {
    "duration": 511,
    "start_time": "2022-05-04T04:23:01.720Z"
   },
   {
    "duration": 176,
    "start_time": "2022-05-04T04:23:52.874Z"
   },
   {
    "duration": 340,
    "start_time": "2022-05-04T04:23:54.397Z"
   },
   {
    "duration": 2144,
    "start_time": "2022-05-04T20:05:18.461Z"
   },
   {
    "duration": 4935,
    "start_time": "2022-05-04T20:05:20.608Z"
   },
   {
    "duration": 11,
    "start_time": "2022-05-04T20:05:25.547Z"
   },
   {
    "duration": 399,
    "start_time": "2022-05-04T20:05:25.561Z"
   },
   {
    "duration": 167,
    "start_time": "2022-05-04T20:05:25.962Z"
   },
   {
    "duration": 374,
    "start_time": "2022-05-04T20:05:26.131Z"
   },
   {
    "duration": 11,
    "start_time": "2022-05-04T20:05:26.507Z"
   },
   {
    "duration": 108,
    "start_time": "2022-05-04T20:05:56.411Z"
   },
   {
    "duration": 15,
    "start_time": "2022-05-04T20:06:02.183Z"
   },
   {
    "duration": 130,
    "start_time": "2022-05-04T20:10:31.641Z"
   },
   {
    "duration": 5,
    "start_time": "2022-05-04T20:13:09.667Z"
   },
   {
    "duration": 4,
    "start_time": "2022-05-04T20:13:47.734Z"
   },
   {
    "duration": 12,
    "start_time": "2022-05-04T20:14:17.595Z"
   },
   {
    "duration": 10,
    "start_time": "2022-05-04T20:14:20.360Z"
   },
   {
    "duration": 10,
    "start_time": "2022-05-04T20:14:28.442Z"
   },
   {
    "duration": 9,
    "start_time": "2022-05-04T20:14:30.864Z"
   },
   {
    "duration": 4,
    "start_time": "2022-05-04T20:15:13.942Z"
   },
   {
    "duration": 6,
    "start_time": "2022-05-04T20:16:17.491Z"
   },
   {
    "duration": 8,
    "start_time": "2022-05-04T20:17:14.054Z"
   },
   {
    "duration": 1423,
    "start_time": "2022-05-04T20:17:24.810Z"
   },
   {
    "duration": 3007,
    "start_time": "2022-05-04T20:17:26.235Z"
   },
   {
    "duration": 8,
    "start_time": "2022-05-04T20:17:29.246Z"
   },
   {
    "duration": 380,
    "start_time": "2022-05-04T20:17:29.256Z"
   },
   {
    "duration": 200,
    "start_time": "2022-05-04T20:17:29.637Z"
   },
   {
    "duration": 399,
    "start_time": "2022-05-04T20:17:29.838Z"
   },
   {
    "duration": 59,
    "start_time": "2022-05-04T20:17:30.238Z"
   },
   {
    "duration": 5,
    "start_time": "2022-05-04T20:17:30.298Z"
   },
   {
    "duration": 14,
    "start_time": "2022-05-04T20:20:04.415Z"
   },
   {
    "duration": 109,
    "start_time": "2022-05-04T20:20:15.703Z"
   },
   {
    "duration": 9,
    "start_time": "2022-05-04T20:24:33.158Z"
   },
   {
    "duration": 9,
    "start_time": "2022-05-04T20:25:14.712Z"
   },
   {
    "duration": 10,
    "start_time": "2022-05-04T20:26:22.216Z"
   },
   {
    "duration": 20,
    "start_time": "2022-05-04T20:26:50.224Z"
   },
   {
    "duration": 1438,
    "start_time": "2022-05-04T20:27:07.626Z"
   },
   {
    "duration": 2995,
    "start_time": "2022-05-04T20:27:09.066Z"
   },
   {
    "duration": 7,
    "start_time": "2022-05-04T20:27:12.063Z"
   },
   {
    "duration": 543,
    "start_time": "2022-05-04T20:27:12.072Z"
   },
   {
    "duration": 195,
    "start_time": "2022-05-04T20:27:12.617Z"
   },
   {
    "duration": 375,
    "start_time": "2022-05-04T20:27:12.814Z"
   },
   {
    "duration": 119,
    "start_time": "2022-05-04T20:27:13.191Z"
   },
   {
    "duration": 0,
    "start_time": "2022-05-04T20:27:13.312Z"
   },
   {
    "duration": 3,
    "start_time": "2022-05-04T20:29:49.860Z"
   },
   {
    "duration": 28,
    "start_time": "2022-05-04T20:29:53.194Z"
   },
   {
    "duration": 2,
    "start_time": "2022-05-04T20:30:19.992Z"
   },
   {
    "duration": 5,
    "start_time": "2022-05-04T20:30:26.343Z"
   },
   {
    "duration": 3,
    "start_time": "2022-05-04T20:30:41.226Z"
   },
   {
    "duration": 3,
    "start_time": "2022-05-04T20:30:53.601Z"
   },
   {
    "duration": 4,
    "start_time": "2022-05-04T20:31:02.650Z"
   },
   {
    "duration": 103,
    "start_time": "2022-05-04T20:32:59.987Z"
   },
   {
    "duration": 1451,
    "start_time": "2022-05-04T20:33:12.230Z"
   },
   {
    "duration": 2196,
    "start_time": "2022-05-04T20:33:13.683Z"
   },
   {
    "duration": 6,
    "start_time": "2022-05-04T20:33:15.880Z"
   },
   {
    "duration": 436,
    "start_time": "2022-05-04T20:33:15.888Z"
   },
   {
    "duration": 191,
    "start_time": "2022-05-04T20:33:16.325Z"
   },
   {
    "duration": 397,
    "start_time": "2022-05-04T20:33:16.518Z"
   },
   {
    "duration": 2188,
    "start_time": "2022-05-04T20:33:16.917Z"
   },
   {
    "duration": 31,
    "start_time": "2022-05-04T20:33:19.106Z"
   },
   {
    "duration": 1503,
    "start_time": "2022-05-05T06:57:48.718Z"
   },
   {
    "duration": 2993,
    "start_time": "2022-05-05T06:57:50.223Z"
   },
   {
    "duration": 5,
    "start_time": "2022-05-05T06:57:53.218Z"
   },
   {
    "duration": 369,
    "start_time": "2022-05-05T06:57:53.224Z"
   },
   {
    "duration": 175,
    "start_time": "2022-05-05T06:57:53.595Z"
   },
   {
    "duration": 354,
    "start_time": "2022-05-05T06:57:53.771Z"
   },
   {
    "duration": 2941,
    "start_time": "2022-05-05T06:57:54.127Z"
   },
   {
    "duration": 16,
    "start_time": "2022-05-05T06:57:57.069Z"
   },
   {
    "duration": 129,
    "start_time": "2022-05-05T07:00:01.214Z"
   },
   {
    "duration": 108,
    "start_time": "2022-05-05T07:04:09.788Z"
   },
   {
    "duration": 133,
    "start_time": "2022-05-05T07:05:03.839Z"
   },
   {
    "duration": 116,
    "start_time": "2022-05-05T07:05:30.705Z"
   },
   {
    "duration": 99,
    "start_time": "2022-05-05T07:12:16.175Z"
   },
   {
    "duration": 51,
    "start_time": "2022-05-05T07:14:14.291Z"
   },
   {
    "duration": 109,
    "start_time": "2022-05-05T07:14:25.854Z"
   },
   {
    "duration": 140,
    "start_time": "2022-05-05T07:14:40.120Z"
   },
   {
    "duration": 163,
    "start_time": "2022-05-05T07:14:55.507Z"
   },
   {
    "duration": 23,
    "start_time": "2022-05-05T07:15:01.395Z"
   },
   {
    "duration": 216,
    "start_time": "2022-05-05T07:15:21.658Z"
   },
   {
    "duration": 136,
    "start_time": "2022-05-05T07:15:42.489Z"
   },
   {
    "duration": 110,
    "start_time": "2022-05-05T07:15:44.580Z"
   },
   {
    "duration": 122,
    "start_time": "2022-05-05T07:16:30.935Z"
   },
   {
    "duration": 22,
    "start_time": "2022-05-05T07:39:19.606Z"
   },
   {
    "duration": 10,
    "start_time": "2022-05-05T07:44:07.221Z"
   },
   {
    "duration": 21,
    "start_time": "2022-05-05T07:44:28.055Z"
   },
   {
    "duration": 115,
    "start_time": "2022-05-05T07:44:33.778Z"
   },
   {
    "duration": 85,
    "start_time": "2022-05-05T07:44:55.325Z"
   },
   {
    "duration": 12,
    "start_time": "2022-05-05T07:49:49.823Z"
   },
   {
    "duration": 29,
    "start_time": "2022-05-05T07:53:41.882Z"
   },
   {
    "duration": 29,
    "start_time": "2022-05-05T07:53:51.285Z"
   },
   {
    "duration": 16,
    "start_time": "2022-05-05T07:54:15.270Z"
   },
   {
    "duration": 13,
    "start_time": "2022-05-05T07:54:22.151Z"
   },
   {
    "duration": 108,
    "start_time": "2022-05-05T07:54:30.552Z"
   },
   {
    "duration": 18,
    "start_time": "2022-05-05T07:54:40.097Z"
   },
   {
    "duration": 4,
    "start_time": "2022-05-05T08:28:03.787Z"
   },
   {
    "duration": 375,
    "start_time": "2022-05-05T08:28:37.060Z"
   },
   {
    "duration": 5,
    "start_time": "2022-05-05T08:28:48.329Z"
   },
   {
    "duration": 9,
    "start_time": "2022-05-05T08:30:18.408Z"
   },
   {
    "duration": 5,
    "start_time": "2022-05-05T08:37:55.652Z"
   },
   {
    "duration": 10,
    "start_time": "2022-05-05T09:08:04.096Z"
   },
   {
    "duration": 43,
    "start_time": "2022-05-05T09:08:14.842Z"
   },
   {
    "duration": 17,
    "start_time": "2022-05-05T09:10:13.283Z"
   },
   {
    "duration": 11,
    "start_time": "2022-05-05T09:10:24.639Z"
   },
   {
    "duration": 15,
    "start_time": "2022-05-05T09:10:42.033Z"
   },
   {
    "duration": 10,
    "start_time": "2022-05-05T09:11:07.003Z"
   },
   {
    "duration": 4,
    "start_time": "2022-05-05T09:11:11.834Z"
   },
   {
    "duration": 1431,
    "start_time": "2022-05-05T09:15:51.668Z"
   },
   {
    "duration": 4717,
    "start_time": "2022-05-05T09:15:53.101Z"
   },
   {
    "duration": 6,
    "start_time": "2022-05-05T09:15:57.820Z"
   },
   {
    "duration": 377,
    "start_time": "2022-05-05T09:15:57.828Z"
   },
   {
    "duration": 182,
    "start_time": "2022-05-05T09:15:58.207Z"
   },
   {
    "duration": 365,
    "start_time": "2022-05-05T09:15:58.391Z"
   },
   {
    "duration": 3121,
    "start_time": "2022-05-05T09:15:58.757Z"
   },
   {
    "duration": 28,
    "start_time": "2022-05-05T09:16:01.879Z"
   },
   {
    "duration": 3,
    "start_time": "2022-05-05T09:16:01.909Z"
   },
   {
    "duration": 266,
    "start_time": "2022-05-05T09:16:01.915Z"
   },
   {
    "duration": 116,
    "start_time": "2022-05-05T09:16:02.183Z"
   },
   {
    "duration": 0,
    "start_time": "2022-05-05T09:16:02.302Z"
   },
   {
    "duration": 0,
    "start_time": "2022-05-05T09:16:02.303Z"
   },
   {
    "duration": 10,
    "start_time": "2022-05-05T09:16:29.272Z"
   },
   {
    "duration": 10,
    "start_time": "2022-05-05T09:16:40.081Z"
   },
   {
    "duration": 11,
    "start_time": "2022-05-05T09:16:43.787Z"
   },
   {
    "duration": 49,
    "start_time": "2022-05-05T09:17:16.479Z"
   },
   {
    "duration": 20,
    "start_time": "2022-05-05T09:17:18.665Z"
   },
   {
    "duration": 12,
    "start_time": "2022-05-05T09:17:37.132Z"
   },
   {
    "duration": 3,
    "start_time": "2022-05-05T09:51:31.204Z"
   },
   {
    "duration": 6,
    "start_time": "2022-05-05T09:54:14.430Z"
   },
   {
    "duration": 17,
    "start_time": "2022-05-05T10:10:40.589Z"
   },
   {
    "duration": 10,
    "start_time": "2022-05-05T10:24:34.902Z"
   },
   {
    "duration": 5,
    "start_time": "2022-05-05T10:24:48.203Z"
   },
   {
    "duration": 1326,
    "start_time": "2022-05-05T10:38:40.375Z"
   },
   {
    "duration": 3451,
    "start_time": "2022-05-05T10:38:41.703Z"
   },
   {
    "duration": 5,
    "start_time": "2022-05-05T10:38:45.156Z"
   },
   {
    "duration": 371,
    "start_time": "2022-05-05T10:38:45.163Z"
   },
   {
    "duration": 180,
    "start_time": "2022-05-05T10:38:45.535Z"
   },
   {
    "duration": 381,
    "start_time": "2022-05-05T10:38:45.717Z"
   },
   {
    "duration": 7031,
    "start_time": "2022-05-05T10:38:46.099Z"
   },
   {
    "duration": 36,
    "start_time": "2022-05-05T10:38:53.133Z"
   },
   {
    "duration": 3,
    "start_time": "2022-05-05T10:38:53.171Z"
   },
   {
    "duration": 267,
    "start_time": "2022-05-05T10:38:53.176Z"
   },
   {
    "duration": 11,
    "start_time": "2022-05-05T10:38:53.448Z"
   },
   {
    "duration": 5,
    "start_time": "2022-05-05T10:38:53.460Z"
   },
   {
    "duration": 48,
    "start_time": "2022-05-05T10:38:53.466Z"
   },
   {
    "duration": 3,
    "start_time": "2022-05-05T10:38:53.516Z"
   },
   {
    "duration": 30,
    "start_time": "2022-05-05T10:38:53.520Z"
   },
   {
    "duration": 16,
    "start_time": "2022-05-05T10:38:53.552Z"
   },
   {
    "duration": 5,
    "start_time": "2022-05-05T10:51:25.187Z"
   },
   {
    "duration": 246,
    "start_time": "2022-05-05T12:42:39.434Z"
   },
   {
    "duration": 1784,
    "start_time": "2022-05-05T12:43:36.222Z"
   },
   {
    "duration": 540,
    "start_time": "2022-05-05T12:45:23.862Z"
   },
   {
    "duration": 1147,
    "start_time": "2022-05-05T12:45:38.883Z"
   },
   {
    "duration": 1490,
    "start_time": "2022-05-05T12:45:43.166Z"
   },
   {
    "duration": 1374,
    "start_time": "2022-05-05T12:47:13.574Z"
   },
   {
    "duration": 2646,
    "start_time": "2022-05-05T12:48:01.612Z"
   },
   {
    "duration": 1535,
    "start_time": "2022-05-05T12:48:09.439Z"
   },
   {
    "duration": 1679,
    "start_time": "2022-05-05T12:48:20.554Z"
   },
   {
    "duration": 1564,
    "start_time": "2022-05-05T12:48:47.112Z"
   },
   {
    "duration": 1569,
    "start_time": "2022-05-05T12:49:00.164Z"
   },
   {
    "duration": 1507,
    "start_time": "2022-05-05T12:49:11.062Z"
   },
   {
    "duration": 1639,
    "start_time": "2022-05-05T12:49:18.094Z"
   },
   {
    "duration": 1556,
    "start_time": "2022-05-05T12:49:28.440Z"
   },
   {
    "duration": 5,
    "start_time": "2022-05-05T13:03:40.951Z"
   },
   {
    "duration": 1317,
    "start_time": "2022-05-05T13:04:30.531Z"
   },
   {
    "duration": 4,
    "start_time": "2022-05-05T13:04:57.098Z"
   },
   {
    "duration": 479,
    "start_time": "2022-05-05T13:04:57.354Z"
   },
   {
    "duration": 5,
    "start_time": "2022-05-05T13:05:26.664Z"
   },
   {
    "duration": 501,
    "start_time": "2022-05-05T13:05:27.125Z"
   },
   {
    "duration": 5,
    "start_time": "2022-05-05T13:06:13.216Z"
   },
   {
    "duration": 469,
    "start_time": "2022-05-05T13:06:13.659Z"
   },
   {
    "duration": 4,
    "start_time": "2022-05-05T13:06:36.493Z"
   },
   {
    "duration": 661,
    "start_time": "2022-05-05T13:06:37.234Z"
   },
   {
    "duration": 1563,
    "start_time": "2022-05-05T13:07:41.710Z"
   },
   {
    "duration": 1492,
    "start_time": "2022-05-05T13:07:51.903Z"
   },
   {
    "duration": 1563,
    "start_time": "2022-05-05T13:08:07.061Z"
   },
   {
    "duration": 537,
    "start_time": "2022-05-05T13:08:19.346Z"
   },
   {
    "duration": 1598,
    "start_time": "2022-05-05T13:08:43.600Z"
   },
   {
    "duration": 1390,
    "start_time": "2022-05-05T13:11:52.916Z"
   },
   {
    "duration": 2173,
    "start_time": "2022-05-05T13:18:58.273Z"
   },
   {
    "duration": 1637,
    "start_time": "2022-05-05T13:19:16.735Z"
   },
   {
    "duration": 16,
    "start_time": "2022-05-05T13:19:37.916Z"
   },
   {
    "duration": 16,
    "start_time": "2022-05-05T13:19:47.109Z"
   },
   {
    "duration": 1494,
    "start_time": "2022-05-05T13:20:09.312Z"
   },
   {
    "duration": 2108,
    "start_time": "2022-05-05T13:20:25.219Z"
   },
   {
    "duration": 1695,
    "start_time": "2022-05-05T13:20:53.129Z"
   },
   {
    "duration": 1600,
    "start_time": "2022-05-05T13:21:02.284Z"
   },
   {
    "duration": 1741,
    "start_time": "2022-05-05T13:21:12.306Z"
   },
   {
    "duration": 1850,
    "start_time": "2022-05-05T13:21:58.861Z"
   },
   {
    "duration": 1672,
    "start_time": "2022-05-05T13:22:12.043Z"
   },
   {
    "duration": 1824,
    "start_time": "2022-05-05T13:22:48.055Z"
   },
   {
    "duration": 2141,
    "start_time": "2022-05-05T13:23:35.592Z"
   },
   {
    "duration": 1721,
    "start_time": "2022-05-05T13:23:59.810Z"
   },
   {
    "duration": 1776,
    "start_time": "2022-05-05T13:25:08.691Z"
   },
   {
    "duration": 1695,
    "start_time": "2022-05-05T13:25:25.171Z"
   },
   {
    "duration": 1638,
    "start_time": "2022-05-05T13:26:55.188Z"
   },
   {
    "duration": 1827,
    "start_time": "2022-05-05T13:27:08.121Z"
   },
   {
    "duration": 1630,
    "start_time": "2022-05-05T13:27:51.309Z"
   },
   {
    "duration": 1651,
    "start_time": "2022-05-05T13:27:59.621Z"
   },
   {
    "duration": 1673,
    "start_time": "2022-05-05T13:28:11.361Z"
   },
   {
    "duration": 72,
    "start_time": "2022-05-05T15:49:53.174Z"
   },
   {
    "duration": 2253,
    "start_time": "2022-05-05T15:50:05.031Z"
   },
   {
    "duration": 6806,
    "start_time": "2022-05-05T15:50:07.287Z"
   },
   {
    "duration": 8,
    "start_time": "2022-05-05T15:50:14.096Z"
   },
   {
    "duration": 587,
    "start_time": "2022-05-05T15:50:14.107Z"
   },
   {
    "duration": 308,
    "start_time": "2022-05-05T15:50:14.699Z"
   },
   {
    "duration": 587,
    "start_time": "2022-05-05T15:50:15.009Z"
   },
   {
    "duration": 2798,
    "start_time": "2022-05-05T15:50:15.599Z"
   },
   {
    "duration": 39,
    "start_time": "2022-05-05T15:50:18.399Z"
   },
   {
    "duration": 5,
    "start_time": "2022-05-05T15:50:18.440Z"
   },
   {
    "duration": 417,
    "start_time": "2022-05-05T15:50:18.447Z"
   },
   {
    "duration": 28,
    "start_time": "2022-05-05T15:50:18.866Z"
   },
   {
    "duration": 7,
    "start_time": "2022-05-05T15:50:18.897Z"
   },
   {
    "duration": 10,
    "start_time": "2022-05-05T15:50:18.906Z"
   },
   {
    "duration": 164,
    "start_time": "2022-05-05T15:50:18.921Z"
   },
   {
    "duration": 6,
    "start_time": "2022-05-05T15:50:19.087Z"
   },
   {
    "duration": 10,
    "start_time": "2022-05-05T15:50:19.096Z"
   },
   {
    "duration": 28,
    "start_time": "2022-05-05T15:50:19.109Z"
   },
   {
    "duration": 184,
    "start_time": "2022-05-05T15:50:19.140Z"
   },
   {
    "duration": 0,
    "start_time": "2022-05-05T15:50:19.327Z"
   },
   {
    "duration": 0,
    "start_time": "2022-05-05T15:50:19.329Z"
   },
   {
    "duration": 3262,
    "start_time": "2022-05-05T15:51:00.219Z"
   },
   {
    "duration": 3401,
    "start_time": "2022-05-05T15:58:24.517Z"
   },
   {
    "duration": 3268,
    "start_time": "2022-05-05T15:59:51.615Z"
   },
   {
    "duration": 3336,
    "start_time": "2022-05-05T16:02:14.226Z"
   },
   {
    "duration": 3230,
    "start_time": "2022-05-05T16:02:22.916Z"
   },
   {
    "duration": 2199,
    "start_time": "2022-05-05T16:04:02.348Z"
   },
   {
    "duration": 4200,
    "start_time": "2022-05-05T16:04:04.550Z"
   },
   {
    "duration": 7,
    "start_time": "2022-05-05T16:04:08.753Z"
   },
   {
    "duration": 582,
    "start_time": "2022-05-05T16:04:08.763Z"
   },
   {
    "duration": 311,
    "start_time": "2022-05-05T16:04:09.348Z"
   },
   {
    "duration": 592,
    "start_time": "2022-05-05T16:04:09.661Z"
   },
   {
    "duration": 3553,
    "start_time": "2022-05-05T16:04:10.255Z"
   },
   {
    "duration": 48,
    "start_time": "2022-05-05T16:04:13.811Z"
   },
   {
    "duration": 6,
    "start_time": "2022-05-05T16:04:13.862Z"
   },
   {
    "duration": 442,
    "start_time": "2022-05-05T16:04:13.894Z"
   },
   {
    "duration": 16,
    "start_time": "2022-05-05T16:04:14.338Z"
   },
   {
    "duration": 7,
    "start_time": "2022-05-05T16:04:14.356Z"
   },
   {
    "duration": 29,
    "start_time": "2022-05-05T16:04:14.365Z"
   },
   {
    "duration": 69,
    "start_time": "2022-05-05T16:04:14.396Z"
   },
   {
    "duration": 5,
    "start_time": "2022-05-05T16:04:14.467Z"
   },
   {
    "duration": 8,
    "start_time": "2022-05-05T16:04:14.493Z"
   },
   {
    "duration": 29,
    "start_time": "2022-05-05T16:04:14.503Z"
   },
   {
    "duration": 3528,
    "start_time": "2022-05-05T16:04:14.534Z"
   },
   {
    "duration": 1147,
    "start_time": "2022-05-05T16:05:07.536Z"
   },
   {
    "duration": 3347,
    "start_time": "2022-05-05T16:05:13.023Z"
   },
   {
    "duration": 4017,
    "start_time": "2022-05-05T16:08:58.880Z"
   },
   {
    "duration": 3277,
    "start_time": "2022-05-05T16:09:08.797Z"
   },
   {
    "duration": 3351,
    "start_time": "2022-05-05T16:09:39.195Z"
   },
   {
    "duration": 4551,
    "start_time": "2022-05-05T16:10:01.169Z"
   },
   {
    "duration": 4108,
    "start_time": "2022-05-05T16:10:13.866Z"
   },
   {
    "duration": 2766,
    "start_time": "2022-05-05T16:12:14.183Z"
   },
   {
    "duration": 2766,
    "start_time": "2022-05-05T16:12:28.127Z"
   },
   {
    "duration": 2028,
    "start_time": "2022-05-05T16:12:41.314Z"
   },
   {
    "duration": 3675,
    "start_time": "2022-05-05T16:12:43.345Z"
   },
   {
    "duration": 7,
    "start_time": "2022-05-05T16:12:47.023Z"
   },
   {
    "duration": 575,
    "start_time": "2022-05-05T16:12:47.033Z"
   },
   {
    "duration": 295,
    "start_time": "2022-05-05T16:12:47.610Z"
   },
   {
    "duration": 589,
    "start_time": "2022-05-05T16:12:47.908Z"
   },
   {
    "duration": 2695,
    "start_time": "2022-05-05T16:12:48.499Z"
   },
   {
    "duration": 47,
    "start_time": "2022-05-05T16:12:51.196Z"
   },
   {
    "duration": 5,
    "start_time": "2022-05-05T16:12:51.245Z"
   },
   {
    "duration": 452,
    "start_time": "2022-05-05T16:12:51.254Z"
   },
   {
    "duration": 16,
    "start_time": "2022-05-05T16:12:51.708Z"
   },
   {
    "duration": 7,
    "start_time": "2022-05-05T16:12:51.726Z"
   },
   {
    "duration": 11,
    "start_time": "2022-05-05T16:12:51.735Z"
   },
   {
    "duration": 101,
    "start_time": "2022-05-05T16:12:51.748Z"
   },
   {
    "duration": 5,
    "start_time": "2022-05-05T16:12:51.851Z"
   },
   {
    "duration": 12,
    "start_time": "2022-05-05T16:12:51.858Z"
   },
   {
    "duration": 44,
    "start_time": "2022-05-05T16:12:51.872Z"
   },
   {
    "duration": 3488,
    "start_time": "2022-05-05T16:12:51.918Z"
   },
   {
    "duration": 2548,
    "start_time": "2022-05-05T16:12:55.408Z"
   },
   {
    "duration": 1967,
    "start_time": "2022-05-05T16:13:43.429Z"
   },
   {
    "duration": 3321,
    "start_time": "2022-05-05T16:13:45.398Z"
   },
   {
    "duration": 7,
    "start_time": "2022-05-05T16:13:48.721Z"
   },
   {
    "duration": 583,
    "start_time": "2022-05-05T16:13:48.731Z"
   },
   {
    "duration": 293,
    "start_time": "2022-05-05T16:13:49.317Z"
   },
   {
    "duration": 567,
    "start_time": "2022-05-05T16:13:49.612Z"
   },
   {
    "duration": 3047,
    "start_time": "2022-05-05T16:13:50.193Z"
   },
   {
    "duration": 60,
    "start_time": "2022-05-05T16:13:53.242Z"
   },
   {
    "duration": 6,
    "start_time": "2022-05-05T16:13:53.304Z"
   },
   {
    "duration": 438,
    "start_time": "2022-05-05T16:13:53.314Z"
   },
   {
    "duration": 15,
    "start_time": "2022-05-05T16:13:53.754Z"
   },
   {
    "duration": 23,
    "start_time": "2022-05-05T16:13:53.771Z"
   },
   {
    "duration": 7,
    "start_time": "2022-05-05T16:13:53.796Z"
   },
   {
    "duration": 88,
    "start_time": "2022-05-05T16:13:53.805Z"
   },
   {
    "duration": 4,
    "start_time": "2022-05-05T16:13:53.895Z"
   },
   {
    "duration": 24,
    "start_time": "2022-05-05T16:13:53.901Z"
   },
   {
    "duration": 29,
    "start_time": "2022-05-05T16:13:53.927Z"
   },
   {
    "duration": 3324,
    "start_time": "2022-05-05T16:13:53.958Z"
   },
   {
    "duration": 2623,
    "start_time": "2022-05-05T16:13:57.284Z"
   },
   {
    "duration": 3162,
    "start_time": "2022-05-05T16:14:20.869Z"
   },
   {
    "duration": 2105,
    "start_time": "2022-05-05T16:14:54.705Z"
   },
   {
    "duration": 3890,
    "start_time": "2022-05-05T16:14:56.813Z"
   },
   {
    "duration": 8,
    "start_time": "2022-05-05T16:15:00.706Z"
   },
   {
    "duration": 606,
    "start_time": "2022-05-05T16:15:00.718Z"
   },
   {
    "duration": 306,
    "start_time": "2022-05-05T16:15:01.326Z"
   },
   {
    "duration": 577,
    "start_time": "2022-05-05T16:15:01.634Z"
   },
   {
    "duration": 3643,
    "start_time": "2022-05-05T16:15:02.213Z"
   },
   {
    "duration": 52,
    "start_time": "2022-05-05T16:15:05.858Z"
   },
   {
    "duration": 5,
    "start_time": "2022-05-05T16:15:05.912Z"
   },
   {
    "duration": 426,
    "start_time": "2022-05-05T16:15:05.921Z"
   },
   {
    "duration": 17,
    "start_time": "2022-05-05T16:15:06.349Z"
   },
   {
    "duration": 25,
    "start_time": "2022-05-05T16:15:06.369Z"
   },
   {
    "duration": 11,
    "start_time": "2022-05-05T16:15:06.396Z"
   },
   {
    "duration": 77,
    "start_time": "2022-05-05T16:15:06.409Z"
   },
   {
    "duration": 4,
    "start_time": "2022-05-05T16:15:06.492Z"
   },
   {
    "duration": 21,
    "start_time": "2022-05-05T16:15:06.498Z"
   },
   {
    "duration": 32,
    "start_time": "2022-05-05T16:15:06.521Z"
   },
   {
    "duration": 3211,
    "start_time": "2022-05-05T16:15:06.555Z"
   },
   {
    "duration": 3158,
    "start_time": "2022-05-05T16:15:09.768Z"
   },
   {
    "duration": 3242,
    "start_time": "2022-05-05T16:27:05.223Z"
   },
   {
    "duration": 712,
    "start_time": "2022-05-05T16:28:31.812Z"
   },
   {
    "duration": 828,
    "start_time": "2022-05-05T16:29:34.423Z"
   },
   {
    "duration": 764,
    "start_time": "2022-05-05T16:31:05.948Z"
   },
   {
    "duration": 19,
    "start_time": "2022-05-05T16:43:05.182Z"
   },
   {
    "duration": 3776,
    "start_time": "2022-05-05T16:45:06.866Z"
   },
   {
    "duration": 3866,
    "start_time": "2022-05-05T16:45:24.623Z"
   },
   {
    "duration": 3556,
    "start_time": "2022-05-05T16:45:41.472Z"
   },
   {
    "duration": 17,
    "start_time": "2022-05-05T16:45:53.313Z"
   },
   {
    "duration": 2123,
    "start_time": "2022-05-05T16:56:09.827Z"
   },
   {
    "duration": 2756,
    "start_time": "2022-05-05T16:56:30.787Z"
   },
   {
    "duration": 5,
    "start_time": "2022-05-05T17:22:55.893Z"
   },
   {
    "duration": 7,
    "start_time": "2022-05-05T18:58:44.819Z"
   },
   {
    "duration": 185,
    "start_time": "2022-05-05T18:59:43.130Z"
   },
   {
    "duration": 2103,
    "start_time": "2022-05-05T19:01:40.690Z"
   },
   {
    "duration": 3884,
    "start_time": "2022-05-05T19:01:42.796Z"
   },
   {
    "duration": 14,
    "start_time": "2022-05-05T19:01:46.683Z"
   },
   {
    "duration": 615,
    "start_time": "2022-05-05T19:01:46.703Z"
   },
   {
    "duration": 315,
    "start_time": "2022-05-05T19:01:47.320Z"
   },
   {
    "duration": 627,
    "start_time": "2022-05-05T19:01:47.638Z"
   },
   {
    "duration": 3115,
    "start_time": "2022-05-05T19:01:48.267Z"
   },
   {
    "duration": 74,
    "start_time": "2022-05-05T19:01:51.385Z"
   },
   {
    "duration": 6,
    "start_time": "2022-05-05T19:01:51.461Z"
   },
   {
    "duration": 460,
    "start_time": "2022-05-05T19:01:51.471Z"
   },
   {
    "duration": 162,
    "start_time": "2022-05-05T19:01:51.933Z"
   },
   {
    "duration": 0,
    "start_time": "2022-05-05T19:01:52.097Z"
   },
   {
    "duration": 0,
    "start_time": "2022-05-05T19:01:52.099Z"
   },
   {
    "duration": 0,
    "start_time": "2022-05-05T19:01:52.101Z"
   },
   {
    "duration": 1,
    "start_time": "2022-05-05T19:01:52.103Z"
   },
   {
    "duration": 0,
    "start_time": "2022-05-05T19:01:52.105Z"
   },
   {
    "duration": 0,
    "start_time": "2022-05-05T19:01:52.107Z"
   },
   {
    "duration": 0,
    "start_time": "2022-05-05T19:01:52.109Z"
   },
   {
    "duration": 0,
    "start_time": "2022-05-05T19:01:52.110Z"
   },
   {
    "duration": 0,
    "start_time": "2022-05-05T19:01:52.113Z"
   },
   {
    "duration": 0,
    "start_time": "2022-05-05T19:01:52.116Z"
   },
   {
    "duration": 0,
    "start_time": "2022-05-05T19:01:52.118Z"
   },
   {
    "duration": 0,
    "start_time": "2022-05-05T19:01:52.119Z"
   },
   {
    "duration": 0,
    "start_time": "2022-05-05T19:01:52.121Z"
   },
   {
    "duration": 0,
    "start_time": "2022-05-05T19:01:52.122Z"
   },
   {
    "duration": 2359,
    "start_time": "2022-05-05T19:03:02.693Z"
   },
   {
    "duration": 3616,
    "start_time": "2022-05-05T19:03:05.055Z"
   },
   {
    "duration": 19,
    "start_time": "2022-05-05T19:03:08.674Z"
   },
   {
    "duration": 614,
    "start_time": "2022-05-05T19:03:08.703Z"
   },
   {
    "duration": 322,
    "start_time": "2022-05-05T19:03:09.319Z"
   },
   {
    "duration": 635,
    "start_time": "2022-05-05T19:03:09.643Z"
   },
   {
    "duration": 2771,
    "start_time": "2022-05-05T19:03:10.297Z"
   },
   {
    "duration": 58,
    "start_time": "2022-05-05T19:03:13.070Z"
   },
   {
    "duration": 5,
    "start_time": "2022-05-05T19:03:13.130Z"
   },
   {
    "duration": 468,
    "start_time": "2022-05-05T19:03:13.139Z"
   },
   {
    "duration": 16,
    "start_time": "2022-05-05T19:03:13.610Z"
   },
   {
    "duration": 7,
    "start_time": "2022-05-05T19:03:13.628Z"
   },
   {
    "duration": 7,
    "start_time": "2022-05-05T19:03:13.637Z"
   },
   {
    "duration": 107,
    "start_time": "2022-05-05T19:03:13.646Z"
   },
   {
    "duration": 4,
    "start_time": "2022-05-05T19:03:13.755Z"
   },
   {
    "duration": 20,
    "start_time": "2022-05-05T19:03:13.761Z"
   },
   {
    "duration": 31,
    "start_time": "2022-05-05T19:03:13.800Z"
   },
   {
    "duration": 3817,
    "start_time": "2022-05-05T19:03:13.833Z"
   },
   {
    "duration": 904,
    "start_time": "2022-05-05T19:03:17.652Z"
   },
   {
    "duration": 18,
    "start_time": "2022-05-05T19:03:18.558Z"
   },
   {
    "duration": 2884,
    "start_time": "2022-05-05T19:03:18.578Z"
   },
   {
    "duration": 203,
    "start_time": "2022-05-05T19:03:21.464Z"
   },
   {
    "duration": 0,
    "start_time": "2022-05-05T19:03:21.669Z"
   },
   {
    "duration": 0,
    "start_time": "2022-05-05T19:03:21.670Z"
   },
   {
    "duration": 0,
    "start_time": "2022-05-05T19:03:21.671Z"
   },
   {
    "duration": 2150,
    "start_time": "2022-05-05T19:06:49.106Z"
   },
   {
    "duration": 3556,
    "start_time": "2022-05-05T19:06:51.259Z"
   },
   {
    "duration": 8,
    "start_time": "2022-05-05T19:06:54.818Z"
   },
   {
    "duration": 624,
    "start_time": "2022-05-05T19:06:54.829Z"
   },
   {
    "duration": 317,
    "start_time": "2022-05-05T19:06:55.457Z"
   },
   {
    "duration": 601,
    "start_time": "2022-05-05T19:06:55.793Z"
   },
   {
    "duration": 3566,
    "start_time": "2022-05-05T19:06:56.402Z"
   },
   {
    "duration": 56,
    "start_time": "2022-05-05T19:06:59.970Z"
   },
   {
    "duration": 7,
    "start_time": "2022-05-05T19:07:00.029Z"
   },
   {
    "duration": 686,
    "start_time": "2022-05-05T19:07:00.038Z"
   },
   {
    "duration": 21,
    "start_time": "2022-05-05T19:07:00.727Z"
   },
   {
    "duration": 10,
    "start_time": "2022-05-05T19:07:00.751Z"
   },
   {
    "duration": 40,
    "start_time": "2022-05-05T19:07:00.764Z"
   },
   {
    "duration": 76,
    "start_time": "2022-05-05T19:07:00.811Z"
   },
   {
    "duration": 5,
    "start_time": "2022-05-05T19:07:00.893Z"
   },
   {
    "duration": 25,
    "start_time": "2022-05-05T19:07:00.901Z"
   },
   {
    "duration": 38,
    "start_time": "2022-05-05T19:07:00.928Z"
   },
   {
    "duration": 3566,
    "start_time": "2022-05-05T19:07:00.968Z"
   },
   {
    "duration": 780,
    "start_time": "2022-05-05T19:07:04.536Z"
   },
   {
    "duration": 19,
    "start_time": "2022-05-05T19:07:05.319Z"
   },
   {
    "duration": 2805,
    "start_time": "2022-05-05T19:07:05.340Z"
   },
   {
    "duration": 225,
    "start_time": "2022-05-05T19:07:08.147Z"
   },
   {
    "duration": 0,
    "start_time": "2022-05-05T19:07:08.375Z"
   },
   {
    "duration": 0,
    "start_time": "2022-05-05T19:07:08.377Z"
   },
   {
    "duration": 0,
    "start_time": "2022-05-05T19:07:08.378Z"
   },
   {
    "duration": 23,
    "start_time": "2022-05-05T19:34:10.275Z"
   },
   {
    "duration": 22,
    "start_time": "2022-05-05T19:34:20.531Z"
   },
   {
    "duration": 25,
    "start_time": "2022-05-05T19:34:24.926Z"
   },
   {
    "duration": 5,
    "start_time": "2022-05-05T19:48:22.149Z"
   },
   {
    "duration": 10,
    "start_time": "2022-05-05T19:48:37.379Z"
   },
   {
    "duration": 22,
    "start_time": "2022-05-05T19:48:41.382Z"
   },
   {
    "duration": 21,
    "start_time": "2022-05-05T19:51:38.461Z"
   },
   {
    "duration": 3201,
    "start_time": "2022-05-05T19:52:46.216Z"
   },
   {
    "duration": 23,
    "start_time": "2022-05-05T20:06:46.296Z"
   },
   {
    "duration": 19,
    "start_time": "2022-05-05T20:07:32.407Z"
   },
   {
    "duration": 2065,
    "start_time": "2022-05-05T20:08:01.701Z"
   },
   {
    "duration": 4043,
    "start_time": "2022-05-05T20:08:03.769Z"
   },
   {
    "duration": 7,
    "start_time": "2022-05-05T20:08:07.814Z"
   },
   {
    "duration": 633,
    "start_time": "2022-05-05T20:08:07.824Z"
   },
   {
    "duration": 344,
    "start_time": "2022-05-05T20:08:08.460Z"
   },
   {
    "duration": 623,
    "start_time": "2022-05-05T20:08:08.807Z"
   },
   {
    "duration": 2984,
    "start_time": "2022-05-05T20:08:09.432Z"
   },
   {
    "duration": 45,
    "start_time": "2022-05-05T20:08:12.419Z"
   },
   {
    "duration": 5,
    "start_time": "2022-05-05T20:08:12.466Z"
   },
   {
    "duration": 746,
    "start_time": "2022-05-05T20:08:12.494Z"
   },
   {
    "duration": 21,
    "start_time": "2022-05-05T20:08:13.243Z"
   },
   {
    "duration": 28,
    "start_time": "2022-05-05T20:08:13.267Z"
   },
   {
    "duration": 320,
    "start_time": "2022-05-05T20:08:13.299Z"
   },
   {
    "duration": 0,
    "start_time": "2022-05-05T20:08:13.622Z"
   },
   {
    "duration": 0,
    "start_time": "2022-05-05T20:08:13.624Z"
   },
   {
    "duration": 0,
    "start_time": "2022-05-05T20:08:13.626Z"
   },
   {
    "duration": 0,
    "start_time": "2022-05-05T20:08:13.627Z"
   },
   {
    "duration": 0,
    "start_time": "2022-05-05T20:08:13.628Z"
   },
   {
    "duration": 0,
    "start_time": "2022-05-05T20:08:13.629Z"
   },
   {
    "duration": 0,
    "start_time": "2022-05-05T20:08:13.631Z"
   },
   {
    "duration": 0,
    "start_time": "2022-05-05T20:08:13.632Z"
   },
   {
    "duration": 0,
    "start_time": "2022-05-05T20:08:13.633Z"
   },
   {
    "duration": 0,
    "start_time": "2022-05-05T20:08:13.634Z"
   },
   {
    "duration": 1,
    "start_time": "2022-05-05T20:08:13.635Z"
   },
   {
    "duration": 0,
    "start_time": "2022-05-05T20:08:13.636Z"
   },
   {
    "duration": 0,
    "start_time": "2022-05-05T20:08:13.638Z"
   },
   {
    "duration": 0,
    "start_time": "2022-05-05T20:08:13.639Z"
   },
   {
    "duration": 10,
    "start_time": "2022-05-05T20:08:51.082Z"
   },
   {
    "duration": 21,
    "start_time": "2022-05-05T20:08:52.451Z"
   },
   {
    "duration": 12,
    "start_time": "2022-05-05T20:12:05.111Z"
   },
   {
    "duration": 16,
    "start_time": "2022-05-05T20:14:06.323Z"
   },
   {
    "duration": 14,
    "start_time": "2022-05-05T20:14:23.990Z"
   },
   {
    "duration": 7,
    "start_time": "2022-05-05T20:19:13.571Z"
   },
   {
    "duration": 92,
    "start_time": "2022-05-05T20:19:19.573Z"
   },
   {
    "duration": 4,
    "start_time": "2022-05-05T20:19:19.667Z"
   },
   {
    "duration": 10,
    "start_time": "2022-05-05T20:19:20.972Z"
   },
   {
    "duration": 36,
    "start_time": "2022-05-05T20:19:22.176Z"
   },
   {
    "duration": 35,
    "start_time": "2022-05-05T20:19:28.836Z"
   },
   {
    "duration": 6,
    "start_time": "2022-05-05T20:23:48.153Z"
   },
   {
    "duration": 112,
    "start_time": "2022-05-05T20:23:51.224Z"
   },
   {
    "duration": 2481,
    "start_time": "2022-05-05T20:24:02.462Z"
   },
   {
    "duration": 3233,
    "start_time": "2022-05-05T20:24:04.947Z"
   },
   {
    "duration": 10,
    "start_time": "2022-05-05T20:24:08.183Z"
   },
   {
    "duration": 684,
    "start_time": "2022-05-05T20:24:08.196Z"
   },
   {
    "duration": 346,
    "start_time": "2022-05-05T20:24:08.894Z"
   },
   {
    "duration": 632,
    "start_time": "2022-05-05T20:24:09.243Z"
   },
   {
    "duration": 3563,
    "start_time": "2022-05-05T20:24:09.877Z"
   },
   {
    "duration": 44,
    "start_time": "2022-05-05T20:24:13.442Z"
   },
   {
    "duration": 11,
    "start_time": "2022-05-05T20:24:13.505Z"
   },
   {
    "duration": 474,
    "start_time": "2022-05-05T20:24:13.518Z"
   },
   {
    "duration": 18,
    "start_time": "2022-05-05T20:24:13.995Z"
   },
   {
    "duration": 24,
    "start_time": "2022-05-05T20:24:14.016Z"
   },
   {
    "duration": 9,
    "start_time": "2022-05-05T20:24:14.042Z"
   },
   {
    "duration": 200,
    "start_time": "2022-05-05T20:24:14.055Z"
   },
   {
    "duration": 0,
    "start_time": "2022-05-05T20:24:14.257Z"
   },
   {
    "duration": 0,
    "start_time": "2022-05-05T20:24:14.258Z"
   },
   {
    "duration": 0,
    "start_time": "2022-05-05T20:24:14.260Z"
   },
   {
    "duration": 0,
    "start_time": "2022-05-05T20:24:14.261Z"
   },
   {
    "duration": 0,
    "start_time": "2022-05-05T20:24:14.263Z"
   },
   {
    "duration": 0,
    "start_time": "2022-05-05T20:24:14.264Z"
   },
   {
    "duration": 0,
    "start_time": "2022-05-05T20:24:14.266Z"
   },
   {
    "duration": 0,
    "start_time": "2022-05-05T20:24:14.267Z"
   },
   {
    "duration": 0,
    "start_time": "2022-05-05T20:24:14.269Z"
   },
   {
    "duration": 0,
    "start_time": "2022-05-05T20:24:14.299Z"
   },
   {
    "duration": 0,
    "start_time": "2022-05-05T20:24:14.301Z"
   },
   {
    "duration": 0,
    "start_time": "2022-05-05T20:24:14.303Z"
   },
   {
    "duration": 0,
    "start_time": "2022-05-05T20:24:14.306Z"
   },
   {
    "duration": 72,
    "start_time": "2022-05-05T20:25:03.944Z"
   },
   {
    "duration": 4,
    "start_time": "2022-05-05T20:25:06.119Z"
   },
   {
    "duration": 8,
    "start_time": "2022-05-05T20:25:07.818Z"
   },
   {
    "duration": 34,
    "start_time": "2022-05-05T20:25:08.977Z"
   },
   {
    "duration": 9,
    "start_time": "2022-05-05T20:25:09.939Z"
   },
   {
    "duration": 11,
    "start_time": "2022-05-05T20:25:11.195Z"
   },
   {
    "duration": 8,
    "start_time": "2022-05-05T20:25:46.447Z"
   },
   {
    "duration": 2228,
    "start_time": "2022-05-05T20:25:53.916Z"
   },
   {
    "duration": 3890,
    "start_time": "2022-05-05T20:25:56.148Z"
   },
   {
    "duration": 8,
    "start_time": "2022-05-05T20:26:00.040Z"
   },
   {
    "duration": 697,
    "start_time": "2022-05-05T20:26:00.050Z"
   },
   {
    "duration": 452,
    "start_time": "2022-05-05T20:26:00.750Z"
   },
   {
    "duration": 641,
    "start_time": "2022-05-05T20:26:01.205Z"
   },
   {
    "duration": 3652,
    "start_time": "2022-05-05T20:26:01.849Z"
   },
   {
    "duration": 52,
    "start_time": "2022-05-05T20:26:05.504Z"
   },
   {
    "duration": 5,
    "start_time": "2022-05-05T20:26:05.558Z"
   },
   {
    "duration": 544,
    "start_time": "2022-05-05T20:26:05.566Z"
   },
   {
    "duration": 18,
    "start_time": "2022-05-05T20:26:06.113Z"
   },
   {
    "duration": 13,
    "start_time": "2022-05-05T20:26:06.134Z"
   },
   {
    "duration": 18,
    "start_time": "2022-05-05T20:26:06.149Z"
   },
   {
    "duration": 84,
    "start_time": "2022-05-05T20:26:06.171Z"
   },
   {
    "duration": 4,
    "start_time": "2022-05-05T20:26:06.257Z"
   },
   {
    "duration": 23,
    "start_time": "2022-05-05T20:26:06.263Z"
   },
   {
    "duration": 53,
    "start_time": "2022-05-05T20:26:06.288Z"
   },
   {
    "duration": 8,
    "start_time": "2022-05-05T20:26:06.343Z"
   },
   {
    "duration": 17,
    "start_time": "2022-05-05T20:26:06.354Z"
   },
   {
    "duration": 10,
    "start_time": "2022-05-05T20:26:06.373Z"
   },
   {
    "duration": 3689,
    "start_time": "2022-05-05T20:26:06.385Z"
   },
   {
    "duration": 833,
    "start_time": "2022-05-05T20:26:10.077Z"
   },
   {
    "duration": 24,
    "start_time": "2022-05-05T20:26:10.913Z"
   },
   {
    "duration": 2924,
    "start_time": "2022-05-05T20:26:10.939Z"
   },
   {
    "duration": 44,
    "start_time": "2022-05-05T20:26:13.866Z"
   },
   {
    "duration": 8,
    "start_time": "2022-05-05T20:26:13.912Z"
   },
   {
    "duration": 10,
    "start_time": "2022-05-05T20:26:13.925Z"
   },
   {
    "duration": 2060,
    "start_time": "2022-05-05T20:27:45.427Z"
   },
   {
    "duration": 2837,
    "start_time": "2022-05-05T20:27:47.490Z"
   },
   {
    "duration": 9,
    "start_time": "2022-05-05T20:27:50.329Z"
   },
   {
    "duration": 689,
    "start_time": "2022-05-05T20:27:50.342Z"
   },
   {
    "duration": 343,
    "start_time": "2022-05-05T20:27:51.034Z"
   },
   {
    "duration": 701,
    "start_time": "2022-05-05T20:27:51.401Z"
   },
   {
    "duration": 5007,
    "start_time": "2022-05-05T20:27:52.104Z"
   },
   {
    "duration": 47,
    "start_time": "2022-05-05T20:27:57.116Z"
   },
   {
    "duration": 6,
    "start_time": "2022-05-05T20:27:57.165Z"
   },
   {
    "duration": 507,
    "start_time": "2022-05-05T20:27:57.192Z"
   },
   {
    "duration": 20,
    "start_time": "2022-05-05T20:27:57.702Z"
   },
   {
    "duration": 12,
    "start_time": "2022-05-05T20:27:57.725Z"
   },
   {
    "duration": 8,
    "start_time": "2022-05-05T20:27:57.740Z"
   },
   {
    "duration": 118,
    "start_time": "2022-05-05T20:27:57.750Z"
   },
   {
    "duration": 5,
    "start_time": "2022-05-05T20:27:57.870Z"
   },
   {
    "duration": 20,
    "start_time": "2022-05-05T20:27:57.877Z"
   },
   {
    "duration": 40,
    "start_time": "2022-05-05T20:27:57.900Z"
   },
   {
    "duration": 7,
    "start_time": "2022-05-05T20:27:57.942Z"
   },
   {
    "duration": 12,
    "start_time": "2022-05-05T20:27:57.951Z"
   },
   {
    "duration": 59,
    "start_time": "2022-05-05T20:27:57.965Z"
   },
   {
    "duration": 3962,
    "start_time": "2022-05-05T20:27:58.027Z"
   },
   {
    "duration": 875,
    "start_time": "2022-05-05T20:28:01.992Z"
   },
   {
    "duration": 45,
    "start_time": "2022-05-05T20:28:02.870Z"
   },
   {
    "duration": 4134,
    "start_time": "2022-05-05T20:28:02.918Z"
   },
   {
    "duration": 23,
    "start_time": "2022-05-05T20:28:07.055Z"
   },
   {
    "duration": 15,
    "start_time": "2022-05-05T20:28:07.098Z"
   },
   {
    "duration": 9,
    "start_time": "2022-05-05T20:28:07.117Z"
   },
   {
    "duration": 2565,
    "start_time": "2022-05-05T20:36:34.655Z"
   },
   {
    "duration": 2912,
    "start_time": "2022-05-05T20:36:37.224Z"
   },
   {
    "duration": 7,
    "start_time": "2022-05-05T20:36:40.139Z"
   },
   {
    "duration": 647,
    "start_time": "2022-05-05T20:36:40.148Z"
   },
   {
    "duration": 346,
    "start_time": "2022-05-05T20:36:40.802Z"
   },
   {
    "duration": 674,
    "start_time": "2022-05-05T20:36:41.151Z"
   },
   {
    "duration": 3618,
    "start_time": "2022-05-05T20:36:41.828Z"
   },
   {
    "duration": 55,
    "start_time": "2022-05-05T20:36:45.449Z"
   },
   {
    "duration": 7,
    "start_time": "2022-05-05T20:36:45.508Z"
   },
   {
    "duration": 509,
    "start_time": "2022-05-05T20:36:45.518Z"
   },
   {
    "duration": 16,
    "start_time": "2022-05-05T20:36:46.029Z"
   },
   {
    "duration": 7,
    "start_time": "2022-05-05T20:36:46.048Z"
   },
   {
    "duration": 7,
    "start_time": "2022-05-05T20:36:46.057Z"
   },
   {
    "duration": 76,
    "start_time": "2022-05-05T20:36:46.093Z"
   },
   {
    "duration": 29,
    "start_time": "2022-05-05T20:36:46.172Z"
   },
   {
    "duration": 26,
    "start_time": "2022-05-05T20:36:46.204Z"
   },
   {
    "duration": 28,
    "start_time": "2022-05-05T20:36:46.232Z"
   },
   {
    "duration": 7,
    "start_time": "2022-05-05T20:36:46.262Z"
   },
   {
    "duration": 26,
    "start_time": "2022-05-05T20:36:46.271Z"
   },
   {
    "duration": 4179,
    "start_time": "2022-05-05T20:36:46.299Z"
   },
   {
    "duration": 879,
    "start_time": "2022-05-05T20:36:50.480Z"
   },
   {
    "duration": 46,
    "start_time": "2022-05-05T20:36:51.362Z"
   },
   {
    "duration": 2874,
    "start_time": "2022-05-05T20:36:51.411Z"
   },
   {
    "duration": 29,
    "start_time": "2022-05-05T20:36:54.287Z"
   },
   {
    "duration": 5,
    "start_time": "2022-05-05T20:36:54.319Z"
   },
   {
    "duration": 15,
    "start_time": "2022-05-05T20:36:54.326Z"
   },
   {
    "duration": 437538,
    "start_time": "2022-05-05T20:36:54.343Z"
   },
   {
    "duration": 0,
    "start_time": "2022-05-05T20:44:11.885Z"
   },
   {
    "duration": 0,
    "start_time": "2022-05-05T20:44:11.893Z"
   },
   {
    "duration": 0,
    "start_time": "2022-05-05T20:44:11.896Z"
   },
   {
    "duration": 8,
    "start_time": "2022-05-05T20:47:03.652Z"
   },
   {
    "duration": 7,
    "start_time": "2022-05-05T20:47:10.776Z"
   },
   {
    "duration": 103,
    "start_time": "2022-05-05T20:47:17.311Z"
   },
   {
    "duration": 5,
    "start_time": "2022-05-05T20:47:17.661Z"
   },
   {
    "duration": 9,
    "start_time": "2022-05-05T20:47:17.895Z"
   },
   {
    "duration": 31,
    "start_time": "2022-05-05T20:47:18.122Z"
   },
   {
    "duration": 21,
    "start_time": "2022-05-05T20:47:18.320Z"
   },
   {
    "duration": 29,
    "start_time": "2022-05-05T20:47:18.529Z"
   },
   {
    "duration": 2430,
    "start_time": "2022-05-05T20:47:45.629Z"
   },
   {
    "duration": 4157,
    "start_time": "2022-05-05T20:47:48.061Z"
   },
   {
    "duration": 8,
    "start_time": "2022-05-05T20:47:52.221Z"
   },
   {
    "duration": 672,
    "start_time": "2022-05-05T20:47:52.234Z"
   },
   {
    "duration": 343,
    "start_time": "2022-05-05T20:47:52.908Z"
   },
   {
    "duration": 854,
    "start_time": "2022-05-05T20:47:53.254Z"
   },
   {
    "duration": 3438,
    "start_time": "2022-05-05T20:47:54.111Z"
   },
   {
    "duration": 78,
    "start_time": "2022-05-05T20:47:57.552Z"
   },
   {
    "duration": 5,
    "start_time": "2022-05-05T20:47:57.632Z"
   },
   {
    "duration": 707,
    "start_time": "2022-05-05T20:47:57.642Z"
   },
   {
    "duration": 18,
    "start_time": "2022-05-05T20:47:58.352Z"
   },
   {
    "duration": 24,
    "start_time": "2022-05-05T20:47:58.372Z"
   },
   {
    "duration": 15,
    "start_time": "2022-05-05T20:47:58.399Z"
   },
   {
    "duration": 95,
    "start_time": "2022-05-05T20:47:58.416Z"
   },
   {
    "duration": 17,
    "start_time": "2022-05-05T20:47:58.514Z"
   },
   {
    "duration": 16,
    "start_time": "2022-05-05T20:47:58.534Z"
   },
   {
    "duration": 68,
    "start_time": "2022-05-05T20:47:58.553Z"
   },
   {
    "duration": 8,
    "start_time": "2022-05-05T20:47:58.624Z"
   },
   {
    "duration": 17,
    "start_time": "2022-05-05T20:47:58.635Z"
   },
   {
    "duration": 5663,
    "start_time": "2022-05-05T20:47:58.655Z"
   },
   {
    "duration": 1176,
    "start_time": "2022-05-05T20:48:04.322Z"
   },
   {
    "duration": 28,
    "start_time": "2022-05-05T20:48:05.505Z"
   },
   {
    "duration": 4174,
    "start_time": "2022-05-05T20:48:05.535Z"
   },
   {
    "duration": 303,
    "start_time": "2022-05-05T20:48:09.712Z"
   },
   {
    "duration": 0,
    "start_time": "2022-05-05T20:48:10.019Z"
   },
   {
    "duration": 0,
    "start_time": "2022-05-05T20:48:10.021Z"
   },
   {
    "duration": 0,
    "start_time": "2022-05-05T20:48:10.022Z"
   },
   {
    "duration": 0,
    "start_time": "2022-05-05T20:48:10.023Z"
   },
   {
    "duration": 0,
    "start_time": "2022-05-05T20:48:10.025Z"
   },
   {
    "duration": 0,
    "start_time": "2022-05-05T20:48:10.026Z"
   },
   {
    "duration": 0,
    "start_time": "2022-05-05T20:48:10.028Z"
   },
   {
    "duration": 19,
    "start_time": "2022-05-05T20:48:45.914Z"
   },
   {
    "duration": 15,
    "start_time": "2022-05-05T20:50:09.273Z"
   },
   {
    "duration": 5,
    "start_time": "2022-05-05T20:51:12.021Z"
   },
   {
    "duration": 10,
    "start_time": "2022-05-05T20:51:23.093Z"
   },
   {
    "duration": 8,
    "start_time": "2022-05-05T20:51:28.017Z"
   },
   {
    "duration": 101,
    "start_time": "2022-05-05T20:51:28.388Z"
   },
   {
    "duration": 5,
    "start_time": "2022-05-05T20:51:28.569Z"
   },
   {
    "duration": 9,
    "start_time": "2022-05-05T20:51:28.734Z"
   },
   {
    "duration": 29,
    "start_time": "2022-05-05T20:51:28.921Z"
   },
   {
    "duration": 19,
    "start_time": "2022-05-05T20:51:29.485Z"
   },
   {
    "duration": 2221,
    "start_time": "2022-05-05T20:52:02.422Z"
   },
   {
    "duration": 2898,
    "start_time": "2022-05-05T20:52:04.645Z"
   },
   {
    "duration": 9,
    "start_time": "2022-05-05T20:52:07.546Z"
   },
   {
    "duration": 670,
    "start_time": "2022-05-05T20:52:07.558Z"
   },
   {
    "duration": 338,
    "start_time": "2022-05-05T20:52:08.231Z"
   },
   {
    "duration": 658,
    "start_time": "2022-05-05T20:52:08.571Z"
   },
   {
    "duration": 3165,
    "start_time": "2022-05-05T20:52:09.232Z"
   },
   {
    "duration": 55,
    "start_time": "2022-05-05T20:52:12.400Z"
   },
   {
    "duration": 6,
    "start_time": "2022-05-05T20:52:12.457Z"
   },
   {
    "duration": 519,
    "start_time": "2022-05-05T20:52:12.465Z"
   },
   {
    "duration": 23,
    "start_time": "2022-05-05T20:52:12.986Z"
   },
   {
    "duration": 16,
    "start_time": "2022-05-05T20:52:13.012Z"
   },
   {
    "duration": 5,
    "start_time": "2022-05-05T20:52:13.031Z"
   },
   {
    "duration": 10,
    "start_time": "2022-05-05T20:52:13.040Z"
   },
   {
    "duration": 108,
    "start_time": "2022-05-05T20:52:13.052Z"
   },
   {
    "duration": 5,
    "start_time": "2022-05-05T20:52:13.162Z"
   },
   {
    "duration": 27,
    "start_time": "2022-05-05T20:52:13.169Z"
   },
   {
    "duration": 33,
    "start_time": "2022-05-05T20:52:13.206Z"
   },
   {
    "duration": 8,
    "start_time": "2022-05-05T20:52:13.242Z"
   },
   {
    "duration": 22,
    "start_time": "2022-05-05T20:52:13.252Z"
   },
   {
    "duration": 3997,
    "start_time": "2022-05-05T20:52:13.277Z"
   },
   {
    "duration": 876,
    "start_time": "2022-05-05T20:52:17.276Z"
   },
   {
    "duration": 46,
    "start_time": "2022-05-05T20:52:18.155Z"
   },
   {
    "duration": 2941,
    "start_time": "2022-05-05T20:52:18.206Z"
   },
   {
    "duration": 16,
    "start_time": "2022-05-05T20:52:21.149Z"
   },
   {
    "duration": 37,
    "start_time": "2022-05-05T20:52:21.167Z"
   },
   {
    "duration": 26,
    "start_time": "2022-05-05T20:52:21.207Z"
   },
   {
    "duration": 7,
    "start_time": "2022-05-05T20:52:21.236Z"
   },
   {
    "duration": 291810,
    "start_time": "2022-05-05T20:52:21.246Z"
   },
   {
    "duration": 12652,
    "start_time": "2022-05-05T20:57:13.059Z"
   },
   {
    "duration": 17,
    "start_time": "2022-05-05T20:57:25.714Z"
   },
   {
    "duration": 95,
    "start_time": "2022-05-05T20:57:25.734Z"
   },
   {
    "duration": 288209,
    "start_time": "2022-05-05T20:57:25.833Z"
   },
   {
    "duration": 11465,
    "start_time": "2022-05-05T21:02:14.044Z"
   },
   {
    "duration": 88,
    "start_time": "2022-05-05T21:02:25.512Z"
   },
   {
    "duration": 28,
    "start_time": "2022-05-05T21:02:25.604Z"
   },
   {
    "duration": 14,
    "start_time": "2022-05-05T21:02:25.635Z"
   },
   {
    "duration": 1714,
    "start_time": "2022-05-06T04:37:34.956Z"
   },
   {
    "duration": 1554,
    "start_time": "2022-05-06T04:37:36.672Z"
   },
   {
    "duration": 7,
    "start_time": "2022-05-06T04:37:38.228Z"
   },
   {
    "duration": 418,
    "start_time": "2022-05-06T04:37:38.238Z"
   },
   {
    "duration": 209,
    "start_time": "2022-05-06T04:37:38.657Z"
   },
   {
    "duration": 391,
    "start_time": "2022-05-06T04:37:38.868Z"
   },
   {
    "duration": 25,
    "start_time": "2022-05-06T04:37:39.261Z"
   },
   {
    "duration": 1424,
    "start_time": "2022-05-06T04:38:37.230Z"
   },
   {
    "duration": 1366,
    "start_time": "2022-05-06T04:38:38.659Z"
   },
   {
    "duration": 6,
    "start_time": "2022-05-06T04:38:40.027Z"
   },
   {
    "duration": 400,
    "start_time": "2022-05-06T04:38:40.035Z"
   },
   {
    "duration": 192,
    "start_time": "2022-05-06T04:38:40.437Z"
   },
   {
    "duration": 371,
    "start_time": "2022-05-06T04:38:40.631Z"
   },
   {
    "duration": 22,
    "start_time": "2022-05-06T04:38:41.004Z"
   },
   {
    "duration": 4,
    "start_time": "2022-05-06T04:38:41.028Z"
   },
   {
    "duration": 266,
    "start_time": "2022-05-06T04:38:41.055Z"
   },
   {
    "duration": 11,
    "start_time": "2022-05-06T04:38:41.322Z"
   },
   {
    "duration": 5,
    "start_time": "2022-05-06T04:38:41.335Z"
   },
   {
    "duration": 16,
    "start_time": "2022-05-06T04:38:41.341Z"
   },
   {
    "duration": 8,
    "start_time": "2022-05-06T04:38:41.359Z"
   },
   {
    "duration": 52,
    "start_time": "2022-05-06T04:38:41.369Z"
   },
   {
    "duration": 3,
    "start_time": "2022-05-06T04:38:41.423Z"
   },
   {
    "duration": 17,
    "start_time": "2022-05-06T04:38:41.427Z"
   },
   {
    "duration": 23,
    "start_time": "2022-05-06T04:38:41.446Z"
   },
   {
    "duration": 5,
    "start_time": "2022-05-06T04:38:41.470Z"
   },
   {
    "duration": 9,
    "start_time": "2022-05-06T04:38:41.476Z"
   },
   {
    "duration": 1941,
    "start_time": "2022-05-06T04:38:41.486Z"
   },
   {
    "duration": 417,
    "start_time": "2022-05-06T04:38:43.429Z"
   },
   {
    "duration": 20,
    "start_time": "2022-05-06T04:38:43.847Z"
   },
   {
    "duration": 1466,
    "start_time": "2022-05-06T04:38:43.869Z"
   },
   {
    "duration": 22,
    "start_time": "2022-05-06T04:38:45.336Z"
   },
   {
    "duration": 9,
    "start_time": "2022-05-06T04:38:45.359Z"
   },
   {
    "duration": 3,
    "start_time": "2022-05-06T04:38:45.369Z"
   },
   {
    "duration": 4,
    "start_time": "2022-05-06T04:38:45.376Z"
   },
   {
    "duration": 204005,
    "start_time": "2022-05-06T04:38:45.381Z"
   },
   {
    "duration": 5077,
    "start_time": "2022-05-06T04:42:09.387Z"
   },
   {
    "duration": 9,
    "start_time": "2022-05-06T04:42:14.556Z"
   },
   {
    "duration": 88,
    "start_time": "2022-05-06T04:42:14.567Z"
   },
   {
    "duration": 5027,
    "start_time": "2022-05-06T04:45:30.831Z"
   },
   {
    "duration": 94,
    "start_time": "2022-05-06T04:45:35.860Z"
   },
   {
    "duration": 2,
    "start_time": "2022-05-06T04:45:35.957Z"
   },
   {
    "duration": 5,
    "start_time": "2022-05-06T04:45:35.961Z"
   },
   {
    "duration": 1487,
    "start_time": "2022-05-06T04:45:40.677Z"
   },
   {
    "duration": 1262,
    "start_time": "2022-05-06T04:45:42.166Z"
   },
   {
    "duration": 6,
    "start_time": "2022-05-06T04:45:43.430Z"
   },
   {
    "duration": 406,
    "start_time": "2022-05-06T04:45:43.438Z"
   },
   {
    "duration": 186,
    "start_time": "2022-05-06T04:45:43.854Z"
   },
   {
    "duration": 383,
    "start_time": "2022-05-06T04:45:44.042Z"
   },
   {
    "duration": 28,
    "start_time": "2022-05-06T04:45:44.427Z"
   },
   {
    "duration": 17,
    "start_time": "2022-05-06T04:45:44.457Z"
   },
   {
    "duration": 268,
    "start_time": "2022-05-06T04:45:44.476Z"
   },
   {
    "duration": 16,
    "start_time": "2022-05-06T04:45:44.746Z"
   },
   {
    "duration": 6,
    "start_time": "2022-05-06T04:45:44.764Z"
   },
   {
    "duration": 5,
    "start_time": "2022-05-06T04:45:44.772Z"
   },
   {
    "duration": 7,
    "start_time": "2022-05-06T04:45:44.779Z"
   },
   {
    "duration": 78,
    "start_time": "2022-05-06T04:45:44.790Z"
   },
   {
    "duration": 5,
    "start_time": "2022-05-06T04:45:44.869Z"
   },
   {
    "duration": 13,
    "start_time": "2022-05-06T04:45:44.875Z"
   },
   {
    "duration": 20,
    "start_time": "2022-05-06T04:45:44.890Z"
   },
   {
    "duration": 5,
    "start_time": "2022-05-06T04:45:44.912Z"
   },
   {
    "duration": 9,
    "start_time": "2022-05-06T04:45:44.918Z"
   },
   {
    "duration": 2110,
    "start_time": "2022-05-06T04:45:44.929Z"
   },
   {
    "duration": 407,
    "start_time": "2022-05-06T04:45:47.041Z"
   },
   {
    "duration": 18,
    "start_time": "2022-05-06T04:45:47.449Z"
   },
   {
    "duration": 1495,
    "start_time": "2022-05-06T04:45:47.469Z"
   },
   {
    "duration": 13,
    "start_time": "2022-05-06T04:45:48.966Z"
   },
   {
    "duration": 9,
    "start_time": "2022-05-06T04:45:48.980Z"
   },
   {
    "duration": 10,
    "start_time": "2022-05-06T04:45:48.990Z"
   },
   {
    "duration": 17,
    "start_time": "2022-05-06T04:45:49.002Z"
   },
   {
    "duration": 202912,
    "start_time": "2022-05-06T04:45:49.021Z"
   },
   {
    "duration": 4925,
    "start_time": "2022-05-06T04:49:11.935Z"
   },
   {
    "duration": 102,
    "start_time": "2022-05-06T04:49:16.862Z"
   },
   {
    "duration": 92,
    "start_time": "2022-05-06T04:49:16.966Z"
   },
   {
    "duration": 195748,
    "start_time": "2022-05-06T04:49:17.060Z"
   },
   {
    "duration": 4852,
    "start_time": "2022-05-06T04:52:32.809Z"
   },
   {
    "duration": 99,
    "start_time": "2022-05-06T04:52:37.664Z"
   },
   {
    "duration": 97,
    "start_time": "2022-05-06T04:52:37.764Z"
   },
   {
    "duration": 6,
    "start_time": "2022-05-06T04:52:37.863Z"
   },
   {
    "duration": 1882,
    "start_time": "2022-05-06T07:05:01.411Z"
   },
   {
    "duration": 2074,
    "start_time": "2022-05-06T07:05:03.295Z"
   },
   {
    "duration": 9,
    "start_time": "2022-05-06T07:05:05.373Z"
   },
   {
    "duration": 483,
    "start_time": "2022-05-06T07:05:05.384Z"
   },
   {
    "duration": 220,
    "start_time": "2022-05-06T07:05:05.870Z"
   },
   {
    "duration": 436,
    "start_time": "2022-05-06T07:05:06.092Z"
   },
   {
    "duration": 48,
    "start_time": "2022-05-06T07:05:06.529Z"
   },
   {
    "duration": 9,
    "start_time": "2022-05-06T07:05:06.583Z"
   },
   {
    "duration": 316,
    "start_time": "2022-05-06T07:05:06.594Z"
   },
   {
    "duration": 11,
    "start_time": "2022-05-06T07:05:06.913Z"
   },
   {
    "duration": 4,
    "start_time": "2022-05-06T07:05:06.926Z"
   },
   {
    "duration": 9,
    "start_time": "2022-05-06T07:05:06.932Z"
   },
   {
    "duration": 56,
    "start_time": "2022-05-06T07:05:06.957Z"
   },
   {
    "duration": 3,
    "start_time": "2022-05-06T07:05:07.015Z"
   },
   {
    "duration": 14,
    "start_time": "2022-05-06T07:05:07.020Z"
   },
   {
    "duration": 31,
    "start_time": "2022-05-06T07:05:07.036Z"
   },
   {
    "duration": 12,
    "start_time": "2022-05-06T07:05:07.068Z"
   },
   {
    "duration": 11,
    "start_time": "2022-05-06T07:05:07.083Z"
   },
   {
    "duration": 3475,
    "start_time": "2022-05-06T07:05:07.096Z"
   },
   {
    "duration": 747,
    "start_time": "2022-05-06T07:05:10.577Z"
   },
   {
    "duration": 18,
    "start_time": "2022-05-06T07:05:11.325Z"
   },
   {
    "duration": 1824,
    "start_time": "2022-05-06T07:05:11.344Z"
   },
   {
    "duration": 18,
    "start_time": "2022-05-06T07:05:13.172Z"
   },
   {
    "duration": 18,
    "start_time": "2022-05-06T07:05:13.192Z"
   },
   {
    "duration": 51,
    "start_time": "2022-05-06T07:05:13.212Z"
   },
   {
    "duration": 39,
    "start_time": "2022-05-06T07:05:13.266Z"
   },
   {
    "duration": 1811,
    "start_time": "2022-05-06T07:08:02.190Z"
   },
   {
    "duration": 1563,
    "start_time": "2022-05-06T07:08:04.004Z"
   },
   {
    "duration": 7,
    "start_time": "2022-05-06T07:08:05.571Z"
   },
   {
    "duration": 492,
    "start_time": "2022-05-06T07:08:05.583Z"
   },
   {
    "duration": 220,
    "start_time": "2022-05-06T07:08:06.076Z"
   },
   {
    "duration": 433,
    "start_time": "2022-05-06T07:08:06.298Z"
   },
   {
    "duration": 36,
    "start_time": "2022-05-06T07:08:06.733Z"
   },
   {
    "duration": 23,
    "start_time": "2022-05-06T07:08:06.770Z"
   },
   {
    "duration": 395,
    "start_time": "2022-05-06T07:08:06.795Z"
   },
   {
    "duration": 11,
    "start_time": "2022-05-06T07:08:07.194Z"
   },
   {
    "duration": 21,
    "start_time": "2022-05-06T07:08:07.207Z"
   },
   {
    "duration": 4,
    "start_time": "2022-05-06T07:08:07.230Z"
   },
   {
    "duration": 29,
    "start_time": "2022-05-06T07:08:07.235Z"
   },
   {
    "duration": 78,
    "start_time": "2022-05-06T07:08:07.266Z"
   },
   {
    "duration": 4,
    "start_time": "2022-05-06T07:08:07.345Z"
   },
   {
    "duration": 44,
    "start_time": "2022-05-06T07:08:07.351Z"
   },
   {
    "duration": 22,
    "start_time": "2022-05-06T07:08:07.397Z"
   },
   {
    "duration": 6,
    "start_time": "2022-05-06T07:08:07.421Z"
   },
   {
    "duration": 13,
    "start_time": "2022-05-06T07:08:07.428Z"
   },
   {
    "duration": 2400,
    "start_time": "2022-05-06T07:08:07.443Z"
   },
   {
    "duration": 488,
    "start_time": "2022-05-06T07:08:09.846Z"
   },
   {
    "duration": 34,
    "start_time": "2022-05-06T07:08:10.336Z"
   },
   {
    "duration": 2664,
    "start_time": "2022-05-06T07:08:10.372Z"
   },
   {
    "duration": 23,
    "start_time": "2022-05-06T07:08:13.038Z"
   },
   {
    "duration": 15,
    "start_time": "2022-05-06T07:08:13.063Z"
   },
   {
    "duration": 5,
    "start_time": "2022-05-06T07:08:13.087Z"
   },
   {
    "duration": 6,
    "start_time": "2022-05-06T07:08:13.093Z"
   },
   {
    "duration": 2277,
    "start_time": "2022-05-06T07:09:49.935Z"
   },
   {
    "duration": 2106,
    "start_time": "2022-05-06T07:09:52.214Z"
   },
   {
    "duration": 9,
    "start_time": "2022-05-06T07:09:54.322Z"
   },
   {
    "duration": 642,
    "start_time": "2022-05-06T07:09:54.334Z"
   },
   {
    "duration": 231,
    "start_time": "2022-05-06T07:09:54.978Z"
   },
   {
    "duration": 454,
    "start_time": "2022-05-06T07:09:55.211Z"
   },
   {
    "duration": 34,
    "start_time": "2022-05-06T07:09:55.667Z"
   },
   {
    "duration": 6,
    "start_time": "2022-05-06T07:09:55.703Z"
   },
   {
    "duration": 475,
    "start_time": "2022-05-06T07:09:55.711Z"
   },
   {
    "duration": 19,
    "start_time": "2022-05-06T07:09:56.191Z"
   },
   {
    "duration": 18,
    "start_time": "2022-05-06T07:09:56.213Z"
   },
   {
    "duration": 22,
    "start_time": "2022-05-06T07:09:56.233Z"
   },
   {
    "duration": 53,
    "start_time": "2022-05-06T07:09:56.256Z"
   },
   {
    "duration": 85,
    "start_time": "2022-05-06T07:09:56.311Z"
   },
   {
    "duration": 4,
    "start_time": "2022-05-06T07:09:56.401Z"
   },
   {
    "duration": 13,
    "start_time": "2022-05-06T07:09:56.407Z"
   },
   {
    "duration": 39,
    "start_time": "2022-05-06T07:09:56.422Z"
   },
   {
    "duration": 15,
    "start_time": "2022-05-06T07:09:56.464Z"
   },
   {
    "duration": 35,
    "start_time": "2022-05-06T07:09:56.482Z"
   },
   {
    "duration": 3770,
    "start_time": "2022-05-06T07:09:56.520Z"
   },
   {
    "duration": 488,
    "start_time": "2022-05-06T07:10:00.292Z"
   },
   {
    "duration": 19,
    "start_time": "2022-05-06T07:10:00.781Z"
   },
   {
    "duration": 1815,
    "start_time": "2022-05-06T07:10:00.802Z"
   },
   {
    "duration": 15,
    "start_time": "2022-05-06T07:10:02.620Z"
   },
   {
    "duration": 34,
    "start_time": "2022-05-06T07:10:02.636Z"
   },
   {
    "duration": 23,
    "start_time": "2022-05-06T07:10:02.677Z"
   },
   {
    "duration": 31,
    "start_time": "2022-05-06T07:10:02.702Z"
   },
   {
    "duration": 246948,
    "start_time": "2022-05-06T07:10:02.737Z"
   },
   {
    "duration": 7373,
    "start_time": "2022-05-06T07:14:09.687Z"
   },
   {
    "duration": 90,
    "start_time": "2022-05-06T07:14:17.073Z"
   },
   {
    "duration": 26,
    "start_time": "2022-05-06T07:14:17.169Z"
   },
   {
    "duration": 251305,
    "start_time": "2022-05-06T07:14:17.197Z"
   },
   {
    "duration": 8187,
    "start_time": "2022-05-06T07:18:28.503Z"
   },
   {
    "duration": 10,
    "start_time": "2022-05-06T07:18:36.693Z"
   },
   {
    "duration": 60,
    "start_time": "2022-05-06T07:18:36.705Z"
   },
   {
    "duration": 29,
    "start_time": "2022-05-06T07:18:36.767Z"
   },
   {
    "duration": 2189,
    "start_time": "2022-05-06T08:39:55.981Z"
   },
   {
    "duration": 1503,
    "start_time": "2022-05-06T08:41:03.905Z"
   },
   {
    "duration": 1700,
    "start_time": "2022-05-06T08:41:05.410Z"
   },
   {
    "duration": 5,
    "start_time": "2022-05-06T08:41:07.112Z"
   },
   {
    "duration": 421,
    "start_time": "2022-05-06T08:41:07.119Z"
   },
   {
    "duration": 199,
    "start_time": "2022-05-06T08:41:07.541Z"
   },
   {
    "duration": 396,
    "start_time": "2022-05-06T08:41:07.742Z"
   },
   {
    "duration": 27,
    "start_time": "2022-05-06T08:41:08.140Z"
   },
   {
    "duration": 19,
    "start_time": "2022-05-06T08:41:08.168Z"
   },
   {
    "duration": 4,
    "start_time": "2022-05-06T08:41:08.189Z"
   },
   {
    "duration": 7,
    "start_time": "2022-05-06T08:41:08.196Z"
   },
   {
    "duration": 79,
    "start_time": "2022-05-06T08:41:08.205Z"
   },
   {
    "duration": 4,
    "start_time": "2022-05-06T08:41:08.286Z"
   },
   {
    "duration": 11,
    "start_time": "2022-05-06T08:41:08.291Z"
   },
   {
    "duration": 20,
    "start_time": "2022-05-06T08:41:08.304Z"
   },
   {
    "duration": 5,
    "start_time": "2022-05-06T08:41:08.326Z"
   },
   {
    "duration": 26,
    "start_time": "2022-05-06T08:41:08.332Z"
   },
   {
    "duration": 2007,
    "start_time": "2022-05-06T08:41:08.360Z"
   },
   {
    "duration": 589,
    "start_time": "2022-05-06T08:41:10.369Z"
   },
   {
    "duration": 16,
    "start_time": "2022-05-06T08:41:10.960Z"
   },
   {
    "duration": 1559,
    "start_time": "2022-05-06T08:41:10.978Z"
   },
   {
    "duration": 24,
    "start_time": "2022-05-06T08:41:12.539Z"
   },
   {
    "duration": 10,
    "start_time": "2022-05-06T08:41:12.564Z"
   },
   {
    "duration": 4,
    "start_time": "2022-05-06T08:41:12.576Z"
   },
   {
    "duration": 8,
    "start_time": "2022-05-06T08:41:12.581Z"
   },
   {
    "duration": 1530,
    "start_time": "2022-05-06T08:57:27.268Z"
   },
   {
    "duration": 1222,
    "start_time": "2022-05-06T08:57:28.801Z"
   },
   {
    "duration": 6,
    "start_time": "2022-05-06T08:57:30.025Z"
   },
   {
    "duration": 412,
    "start_time": "2022-05-06T08:57:30.034Z"
   },
   {
    "duration": 208,
    "start_time": "2022-05-06T08:57:30.455Z"
   },
   {
    "duration": 406,
    "start_time": "2022-05-06T08:57:30.665Z"
   },
   {
    "duration": 14,
    "start_time": "2022-05-06T08:57:31.073Z"
   },
   {
    "duration": 59,
    "start_time": "2022-05-06T08:57:31.089Z"
   },
   {
    "duration": 118,
    "start_time": "2022-05-06T08:57:31.150Z"
   },
   {
    "duration": 15,
    "start_time": "2022-05-06T08:57:31.271Z"
   },
   {
    "duration": 87,
    "start_time": "2022-05-06T08:57:31.288Z"
   },
   {
    "duration": 3,
    "start_time": "2022-05-06T08:57:31.377Z"
   },
   {
    "duration": 39,
    "start_time": "2022-05-06T08:57:31.382Z"
   },
   {
    "duration": 39,
    "start_time": "2022-05-06T08:57:31.424Z"
   },
   {
    "duration": 12,
    "start_time": "2022-05-06T08:57:31.465Z"
   },
   {
    "duration": 30,
    "start_time": "2022-05-06T08:57:31.478Z"
   },
   {
    "duration": 2089,
    "start_time": "2022-05-06T08:57:31.510Z"
   },
   {
    "duration": 558,
    "start_time": "2022-05-06T08:57:33.601Z"
   },
   {
    "duration": 16,
    "start_time": "2022-05-06T08:57:34.161Z"
   },
   {
    "duration": 1540,
    "start_time": "2022-05-06T08:57:34.179Z"
   },
   {
    "duration": 14,
    "start_time": "2022-05-06T08:57:35.721Z"
   },
   {
    "duration": 10,
    "start_time": "2022-05-06T08:57:35.755Z"
   },
   {
    "duration": 4,
    "start_time": "2022-05-06T08:57:35.767Z"
   },
   {
    "duration": 5,
    "start_time": "2022-05-06T08:57:35.773Z"
   },
   {
    "duration": 220516,
    "start_time": "2022-05-06T08:57:35.780Z"
   },
   {
    "duration": 4965,
    "start_time": "2022-05-06T09:01:16.298Z"
   },
   {
    "duration": 94,
    "start_time": "2022-05-06T09:01:21.265Z"
   },
   {
    "duration": 93,
    "start_time": "2022-05-06T09:01:21.363Z"
   },
   {
    "duration": 219727,
    "start_time": "2022-05-06T09:01:21.458Z"
   },
   {
    "duration": 5268,
    "start_time": "2022-05-06T09:05:01.187Z"
   },
   {
    "duration": 8,
    "start_time": "2022-05-06T09:05:06.458Z"
   },
   {
    "duration": 15,
    "start_time": "2022-05-06T09:05:06.468Z"
   },
   {
    "duration": 4,
    "start_time": "2022-05-06T09:05:06.555Z"
   },
   {
    "duration": 143,
    "start_time": "2022-05-06T10:36:31.082Z"
   },
   {
    "duration": 126,
    "start_time": "2022-05-06T11:42:26.931Z"
   },
   {
    "duration": 178,
    "start_time": "2022-05-06T11:43:05.701Z"
   },
   {
    "duration": 191,
    "start_time": "2022-05-06T11:43:10.290Z"
   },
   {
    "duration": 138,
    "start_time": "2022-05-06T11:44:10.570Z"
   },
   {
    "duration": 11,
    "start_time": "2022-05-06T11:44:39.844Z"
   },
   {
    "duration": 11,
    "start_time": "2022-05-06T11:45:05.618Z"
   },
   {
    "duration": 10,
    "start_time": "2022-05-06T11:45:28.007Z"
   },
   {
    "duration": 1584,
    "start_time": "2022-05-06T11:45:58.811Z"
   },
   {
    "duration": 1564,
    "start_time": "2022-05-06T11:46:00.397Z"
   },
   {
    "duration": 6,
    "start_time": "2022-05-06T11:46:01.963Z"
   },
   {
    "duration": 427,
    "start_time": "2022-05-06T11:46:01.971Z"
   },
   {
    "duration": 200,
    "start_time": "2022-05-06T11:46:02.399Z"
   },
   {
    "duration": 401,
    "start_time": "2022-05-06T11:46:02.601Z"
   },
   {
    "duration": 15,
    "start_time": "2022-05-06T11:46:03.003Z"
   },
   {
    "duration": 43,
    "start_time": "2022-05-06T11:46:03.020Z"
   },
   {
    "duration": 4,
    "start_time": "2022-05-06T11:46:03.064Z"
   },
   {
    "duration": 6,
    "start_time": "2022-05-06T11:46:03.072Z"
   },
   {
    "duration": 78,
    "start_time": "2022-05-06T11:46:03.080Z"
   },
   {
    "duration": 3,
    "start_time": "2022-05-06T11:46:03.160Z"
   },
   {
    "duration": 11,
    "start_time": "2022-05-06T11:46:03.165Z"
   },
   {
    "duration": 17,
    "start_time": "2022-05-06T11:46:03.178Z"
   },
   {
    "duration": 4,
    "start_time": "2022-05-06T11:46:03.197Z"
   },
   {
    "duration": 8,
    "start_time": "2022-05-06T11:46:03.202Z"
   },
   {
    "duration": 1967,
    "start_time": "2022-05-06T11:46:03.212Z"
   },
   {
    "duration": 546,
    "start_time": "2022-05-06T11:46:05.181Z"
   },
   {
    "duration": 25,
    "start_time": "2022-05-06T11:46:05.728Z"
   },
   {
    "duration": 1532,
    "start_time": "2022-05-06T11:46:05.755Z"
   },
   {
    "duration": 28,
    "start_time": "2022-05-06T11:46:07.289Z"
   },
   {
    "duration": 7,
    "start_time": "2022-05-06T11:46:07.320Z"
   },
   {
    "duration": 26,
    "start_time": "2022-05-06T11:46:07.329Z"
   },
   {
    "duration": 3,
    "start_time": "2022-05-06T11:46:07.357Z"
   },
   {
    "duration": 8,
    "start_time": "2022-05-06T11:46:07.362Z"
   },
   {
    "duration": 218037,
    "start_time": "2022-05-06T11:46:07.371Z"
   },
   {
    "duration": 5053,
    "start_time": "2022-05-06T11:49:45.410Z"
   },
   {
    "duration": 10,
    "start_time": "2022-05-06T11:49:50.556Z"
   },
   {
    "duration": 87,
    "start_time": "2022-05-06T11:49:50.569Z"
   },
   {
    "duration": 218547,
    "start_time": "2022-05-06T11:49:50.658Z"
   },
   {
    "duration": 6057,
    "start_time": "2022-05-06T11:53:29.208Z"
   },
   {
    "duration": 8,
    "start_time": "2022-05-06T11:53:35.271Z"
   },
   {
    "duration": 4,
    "start_time": "2022-05-06T11:53:35.356Z"
   },
   {
    "duration": 93,
    "start_time": "2022-05-06T11:53:35.362Z"
   },
   {
    "duration": 13,
    "start_time": "2022-05-06T11:53:35.457Z"
   }
  ],
  "kernelspec": {
   "display_name": "Python 3 (ipykernel)",
   "language": "python",
   "name": "python3"
  },
  "language_info": {
   "codemirror_mode": {
    "name": "ipython",
    "version": 3
   },
   "file_extension": ".py",
   "mimetype": "text/x-python",
   "name": "python",
   "nbconvert_exporter": "python",
   "pygments_lexer": "ipython3",
   "version": "3.9.5"
  },
  "toc": {
   "base_numbering": 1,
   "nav_menu": {},
   "number_sections": true,
   "sideBar": true,
   "skip_h1_title": true,
   "title_cell": "Содержание",
   "title_sidebar": "Contents",
   "toc_cell": true,
   "toc_position": {
    "height": "calc(100% - 180px)",
    "left": "10px",
    "top": "150px",
    "width": "317px"
   },
   "toc_section_display": true,
   "toc_window_display": true
  }
 },
 "nbformat": 4,
 "nbformat_minor": 2
}
