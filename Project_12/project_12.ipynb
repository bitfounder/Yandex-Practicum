{
 "cells": [
  {
   "cell_type": "markdown",
   "metadata": {
    "toc": true
   },
   "source": [
    "<h1>Содержание<span class=\"tocSkip\"></span></h1>\n",
    "<div class=\"toc\"><ul class=\"toc-item\"><li><span><a href=\"#Подготовка\" data-toc-modified-id=\"Подготовка-1\"><span class=\"toc-item-num\">1&nbsp;&nbsp;</span>Подготовка</a></span><ul class=\"toc-item\"><li><span><a href=\"#Вывод\" data-toc-modified-id=\"Вывод-1.1\"><span class=\"toc-item-num\">1.1&nbsp;&nbsp;</span>Вывод</a></span></li></ul></li><li><span><a href=\"#Обучение\" data-toc-modified-id=\"Обучение-2\"><span class=\"toc-item-num\">2&nbsp;&nbsp;</span>Обучение</a></span><ul class=\"toc-item\"><li><span><a href=\"#Логистическая-регрессия\" data-toc-modified-id=\"Логистическая-регрессия-2.1\"><span class=\"toc-item-num\">2.1&nbsp;&nbsp;</span>Логистическая регрессия</a></span></li><li><span><a href=\"#LGBMClassifier\" data-toc-modified-id=\"LGBMClassifier-2.2\"><span class=\"toc-item-num\">2.2&nbsp;&nbsp;</span>LGBMClassifier</a></span></li><li><span><a href=\"#Лучшая-модель\" data-toc-modified-id=\"Лучшая-модель-2.3\"><span class=\"toc-item-num\">2.3&nbsp;&nbsp;</span>Лучшая модель</a></span></li></ul></li><li><span><a href=\"#Выводы\" data-toc-modified-id=\"Выводы-3\"><span class=\"toc-item-num\">3&nbsp;&nbsp;</span>Выводы</a></span></li></ul></div>"
   ]
  },
  {
   "cell_type": "markdown",
   "metadata": {},
   "source": [
    "# Проект для «Викишоп»"
   ]
  },
  {
   "cell_type": "markdown",
   "metadata": {},
   "source": [
    "Интернет-магазин «Викишоп» запускает новый сервис. Теперь пользователи могут редактировать и дополнять описания товаров, как в вики-сообществах. То есть клиенты предлагают свои правки и комментируют изменения других. Магазину нужен инструмент, который будет искать токсичные комментарии и отправлять их на модерацию. \n",
    "\n",
    "Обучим модель классифицировать комментарии на позитивные и негативные. В нашем распоряжении набор данных с разметкой о токсичности правок.\n",
    "\n",
    "Построим модель со значением метрики качества *F1* не меньше 0.75. "
   ]
  },
  {
   "cell_type": "markdown",
   "metadata": {},
   "source": [
    "## Подготовка"
   ]
  },
  {
   "cell_type": "markdown",
   "metadata": {},
   "source": [
    "Импортируем необходимые библиотеки."
   ]
  },
  {
   "cell_type": "code",
   "execution_count": 1,
   "metadata": {},
   "outputs": [],
   "source": [
    "import pandas as pd\n",
    "import re\n",
    "import matplotlib.pyplot as plt \n",
    "import tqdm\n",
    "from tqdm.notebook import tqdm\n",
    "from pymystem3 import Mystem\n",
    "import nltk\n",
    "from nltk.corpus import stopwords as nltk_stopwords\n",
    "from sklearn.feature_extraction.text import TfidfVectorizer\n",
    "from sklearn.model_selection import train_test_split, GridSearchCV\n",
    "from sklearn.linear_model import LogisticRegression\n",
    "from sklearn.metrics import f1_score\n",
    "from sklearn.ensemble import RandomForestClassifier\n",
    "from catboost import CatBoostClassifier\n",
    "from sklearn.utils import shuffle\n",
    "import time\n",
    "# from sklearn.pipeline import Pipeline\n",
    "import string\n",
    "from nltk.stem.wordnet import WordNetLemmatizer\n",
    "# import spacy\n",
    "import en_core_web_sm\n",
    "from sklearn.tree import DecisionTreeClassifier\n",
    "from lightgbm import LGBMClassifier\n",
    "from sklearn.pipeline import Pipeline"
   ]
  },
  {
   "cell_type": "markdown",
   "metadata": {},
   "source": [
    "Прочитаем и выведем первые 5 строк данных."
   ]
  },
  {
   "cell_type": "code",
   "execution_count": 2,
   "metadata": {},
   "outputs": [],
   "source": [
    "df = pd.read_csv('/datasets/toxic_comments.csv')"
   ]
  },
  {
   "cell_type": "code",
   "execution_count": 3,
   "metadata": {},
   "outputs": [
    {
     "data": {
      "text/html": [
       "<div>\n",
       "<style scoped>\n",
       "    .dataframe tbody tr th:only-of-type {\n",
       "        vertical-align: middle;\n",
       "    }\n",
       "\n",
       "    .dataframe tbody tr th {\n",
       "        vertical-align: top;\n",
       "    }\n",
       "\n",
       "    .dataframe thead th {\n",
       "        text-align: right;\n",
       "    }\n",
       "</style>\n",
       "<table border=\"1\" class=\"dataframe\">\n",
       "  <thead>\n",
       "    <tr style=\"text-align: right;\">\n",
       "      <th></th>\n",
       "      <th>text</th>\n",
       "      <th>toxic</th>\n",
       "    </tr>\n",
       "  </thead>\n",
       "  <tbody>\n",
       "    <tr>\n",
       "      <th>0</th>\n",
       "      <td>Explanation\\nWhy the edits made under my usern...</td>\n",
       "      <td>0</td>\n",
       "    </tr>\n",
       "    <tr>\n",
       "      <th>1</th>\n",
       "      <td>D'aww! He matches this background colour I'm s...</td>\n",
       "      <td>0</td>\n",
       "    </tr>\n",
       "    <tr>\n",
       "      <th>2</th>\n",
       "      <td>Hey man, I'm really not trying to edit war. It...</td>\n",
       "      <td>0</td>\n",
       "    </tr>\n",
       "    <tr>\n",
       "      <th>3</th>\n",
       "      <td>\"\\nMore\\nI can't make any real suggestions on ...</td>\n",
       "      <td>0</td>\n",
       "    </tr>\n",
       "    <tr>\n",
       "      <th>4</th>\n",
       "      <td>You, sir, are my hero. Any chance you remember...</td>\n",
       "      <td>0</td>\n",
       "    </tr>\n",
       "  </tbody>\n",
       "</table>\n",
       "</div>"
      ],
      "text/plain": [
       "                                                text  toxic\n",
       "0  Explanation\\nWhy the edits made under my usern...      0\n",
       "1  D'aww! He matches this background colour I'm s...      0\n",
       "2  Hey man, I'm really not trying to edit war. It...      0\n",
       "3  \"\\nMore\\nI can't make any real suggestions on ...      0\n",
       "4  You, sir, are my hero. Any chance you remember...      0"
      ]
     },
     "execution_count": 3,
     "metadata": {},
     "output_type": "execute_result"
    }
   ],
   "source": [
    "df.head()"
   ]
  },
  {
   "cell_type": "markdown",
   "metadata": {},
   "source": [
    "Посмотрим на общую информацию."
   ]
  },
  {
   "cell_type": "code",
   "execution_count": 4,
   "metadata": {},
   "outputs": [
    {
     "name": "stdout",
     "output_type": "stream",
     "text": [
      "<class 'pandas.core.frame.DataFrame'>\n",
      "RangeIndex: 159571 entries, 0 to 159570\n",
      "Data columns (total 2 columns):\n",
      " #   Column  Non-Null Count   Dtype \n",
      "---  ------  --------------   ----- \n",
      " 0   text    159571 non-null  object\n",
      " 1   toxic   159571 non-null  int64 \n",
      "dtypes: int64(1), object(1)\n",
      "memory usage: 2.4+ MB\n"
     ]
    }
   ],
   "source": [
    "df.info()"
   ]
  },
  {
   "cell_type": "markdown",
   "metadata": {},
   "source": [
    "Выведем основные статистические данные."
   ]
  },
  {
   "cell_type": "code",
   "execution_count": 5,
   "metadata": {},
   "outputs": [
    {
     "data": {
      "text/html": [
       "<div>\n",
       "<style scoped>\n",
       "    .dataframe tbody tr th:only-of-type {\n",
       "        vertical-align: middle;\n",
       "    }\n",
       "\n",
       "    .dataframe tbody tr th {\n",
       "        vertical-align: top;\n",
       "    }\n",
       "\n",
       "    .dataframe thead th {\n",
       "        text-align: right;\n",
       "    }\n",
       "</style>\n",
       "<table border=\"1\" class=\"dataframe\">\n",
       "  <thead>\n",
       "    <tr style=\"text-align: right;\">\n",
       "      <th></th>\n",
       "      <th>count</th>\n",
       "      <th>unique</th>\n",
       "      <th>top</th>\n",
       "      <th>freq</th>\n",
       "      <th>mean</th>\n",
       "      <th>std</th>\n",
       "      <th>min</th>\n",
       "      <th>25%</th>\n",
       "      <th>50%</th>\n",
       "      <th>75%</th>\n",
       "      <th>max</th>\n",
       "    </tr>\n",
       "  </thead>\n",
       "  <tbody>\n",
       "    <tr>\n",
       "      <th>text</th>\n",
       "      <td>159571</td>\n",
       "      <td>159571</td>\n",
       "      <td>No, I can't find a citation in the book for th...</td>\n",
       "      <td>1</td>\n",
       "      <td>NaN</td>\n",
       "      <td>NaN</td>\n",
       "      <td>NaN</td>\n",
       "      <td>NaN</td>\n",
       "      <td>NaN</td>\n",
       "      <td>NaN</td>\n",
       "      <td>NaN</td>\n",
       "    </tr>\n",
       "    <tr>\n",
       "      <th>toxic</th>\n",
       "      <td>159571.0</td>\n",
       "      <td>NaN</td>\n",
       "      <td>NaN</td>\n",
       "      <td>NaN</td>\n",
       "      <td>0.101679</td>\n",
       "      <td>0.302226</td>\n",
       "      <td>0.0</td>\n",
       "      <td>0.0</td>\n",
       "      <td>0.0</td>\n",
       "      <td>0.0</td>\n",
       "      <td>1.0</td>\n",
       "    </tr>\n",
       "  </tbody>\n",
       "</table>\n",
       "</div>"
      ],
      "text/plain": [
       "          count  unique                                                top  \\\n",
       "text     159571  159571  No, I can't find a citation in the book for th...   \n",
       "toxic  159571.0     NaN                                                NaN   \n",
       "\n",
       "      freq      mean       std  min  25%  50%  75%  max  \n",
       "text     1       NaN       NaN  NaN  NaN  NaN  NaN  NaN  \n",
       "toxic  NaN  0.101679  0.302226  0.0  0.0  0.0  0.0  1.0  "
      ]
     },
     "execution_count": 5,
     "metadata": {},
     "output_type": "execute_result"
    }
   ],
   "source": [
    "df.describe(include='all').T"
   ]
  },
  {
   "cell_type": "markdown",
   "metadata": {},
   "source": [
    "Посмотрим на пропущенные значения и явные дубликаты."
   ]
  },
  {
   "cell_type": "code",
   "execution_count": 6,
   "metadata": {},
   "outputs": [
    {
     "data": {
      "text/plain": [
       "text     0\n",
       "toxic    0\n",
       "dtype: int64"
      ]
     },
     "execution_count": 6,
     "metadata": {},
     "output_type": "execute_result"
    }
   ],
   "source": [
    "df.isna().sum()"
   ]
  },
  {
   "cell_type": "code",
   "execution_count": 7,
   "metadata": {},
   "outputs": [
    {
     "data": {
      "text/plain": [
       "0"
      ]
     },
     "execution_count": 7,
     "metadata": {},
     "output_type": "execute_result"
    }
   ],
   "source": [
    "df.duplicated().sum()"
   ]
  },
  {
   "cell_type": "markdown",
   "metadata": {},
   "source": [
    "Построим гистограмму целевого признака."
   ]
  },
  {
   "cell_type": "code",
   "execution_count": 8,
   "metadata": {
    "scrolled": true
   },
   "outputs": [
    {
     "data": {
      "text/plain": [
       "Text(0, 0.5, 'Frequency')"
      ]
     },
     "execution_count": 8,
     "metadata": {},
     "output_type": "execute_result"
    },
    {
     "data": {
      "image/png": "[encoded data removed]",
      "text/plain": [
       "<Figure size 432x288 with 1 Axes>"
      ]
     },
     "metadata": {
      "needs_background": "light"
     },
     "output_type": "display_data"
    }
   ],
   "source": [
    "df['toxic'].hist()\n",
    "plt.title('Toxic')\n",
    "plt.xlabel('Classification of comments')\n",
    "plt.ylabel('Frequency')"
   ]
  },
  {
   "cell_type": "markdown",
   "metadata": {},
   "source": [
    "Явно виден дисбаланс классов. В дальнейшем в моделях сбалансируем классы."
   ]
  },
  {
   "cell_type": "markdown",
   "metadata": {},
   "source": [
    "Очистим функцией от регулярных выражений."
   ]
  },
  {
   "cell_type": "code",
   "execution_count": 9,
   "metadata": {},
   "outputs": [],
   "source": [
    "def clean_text(text):\n",
    "    text = text.lower()\n",
    "    text = re.sub(r\"what's\", \"what is \", text)\n",
    "    text = re.sub(r\"\\'s\", \" \", text)\n",
    "    text = re.sub(r\"\\'ve\", \" have \", text)\n",
    "    text = re.sub(r\"can't\", \"cannot \", text)\n",
    "    text = re.sub(r\"n't\", \" not \", text)\n",
    "    text = re.sub(r\"i'm\", \"i am \", text)\n",
    "    text = re.sub(r\"\\'re\", \" are \", text)\n",
    "    text = re.sub(r\"\\'d\", \" would \", text)\n",
    "    text = re.sub(r\"\\'ll\", \" will \", text)\n",
    "    text = re.sub('\\W', ' ', text)\n",
    "    text = re.sub('\\s+', ' ', text)\n",
    "    text = text.strip(' ')\n",
    "    return text"
   ]
  },
  {
   "cell_type": "markdown",
   "metadata": {},
   "source": [
    "Применим функцию."
   ]
  },
  {
   "cell_type": "code",
   "execution_count": 11,
   "metadata": {},
   "outputs": [
    {
     "name": "stdout",
     "output_type": "stream",
     "text": [
      "CPU times: user 8.49 s, sys: 60.9 ms, total: 8.56 s\n",
      "Wall time: 8.64 s\n"
     ]
    }
   ],
   "source": [
    "%%time\n",
    "df['text'] = df['text'].map(lambda x: clean_text(x))"
   ]
  },
  {
   "cell_type": "markdown",
   "metadata": {},
   "source": [
    "Посмотрим на результат функции."
   ]
  },
  {
   "cell_type": "code",
   "execution_count": 12,
   "metadata": {},
   "outputs": [
    {
     "data": {
      "text/html": [
       "<div>\n",
       "<style scoped>\n",
       "    .dataframe tbody tr th:only-of-type {\n",
       "        vertical-align: middle;\n",
       "    }\n",
       "\n",
       "    .dataframe tbody tr th {\n",
       "        vertical-align: top;\n",
       "    }\n",
       "\n",
       "    .dataframe thead th {\n",
       "        text-align: right;\n",
       "    }\n",
       "</style>\n",
       "<table border=\"1\" class=\"dataframe\">\n",
       "  <thead>\n",
       "    <tr style=\"text-align: right;\">\n",
       "      <th></th>\n",
       "      <th>text</th>\n",
       "      <th>toxic</th>\n",
       "    </tr>\n",
       "  </thead>\n",
       "  <tbody>\n",
       "    <tr>\n",
       "      <th>0</th>\n",
       "      <td>explanation why the edits made under my userna...</td>\n",
       "      <td>0</td>\n",
       "    </tr>\n",
       "    <tr>\n",
       "      <th>1</th>\n",
       "      <td>d aww he matches this background colour i am s...</td>\n",
       "      <td>0</td>\n",
       "    </tr>\n",
       "    <tr>\n",
       "      <th>2</th>\n",
       "      <td>hey man i am really not trying to edit war it ...</td>\n",
       "      <td>0</td>\n",
       "    </tr>\n",
       "    <tr>\n",
       "      <th>3</th>\n",
       "      <td>more i cannot make any real suggestions on imp...</td>\n",
       "      <td>0</td>\n",
       "    </tr>\n",
       "    <tr>\n",
       "      <th>4</th>\n",
       "      <td>you sir are my hero any chance you remember wh...</td>\n",
       "      <td>0</td>\n",
       "    </tr>\n",
       "    <tr>\n",
       "      <th>5</th>\n",
       "      <td>congratulations from me as well use the tools ...</td>\n",
       "      <td>0</td>\n",
       "    </tr>\n",
       "    <tr>\n",
       "      <th>6</th>\n",
       "      <td>cocksucker before you piss around on my work</td>\n",
       "      <td>1</td>\n",
       "    </tr>\n",
       "    <tr>\n",
       "      <th>7</th>\n",
       "      <td>your vandalism to the matt shirvington article...</td>\n",
       "      <td>0</td>\n",
       "    </tr>\n",
       "    <tr>\n",
       "      <th>8</th>\n",
       "      <td>sorry if the word nonsense was offensive to yo...</td>\n",
       "      <td>0</td>\n",
       "    </tr>\n",
       "    <tr>\n",
       "      <th>9</th>\n",
       "      <td>alignment on this subject and which are contra...</td>\n",
       "      <td>0</td>\n",
       "    </tr>\n",
       "  </tbody>\n",
       "</table>\n",
       "</div>"
      ],
      "text/plain": [
       "                                                text  toxic\n",
       "0  explanation why the edits made under my userna...      0\n",
       "1  d aww he matches this background colour i am s...      0\n",
       "2  hey man i am really not trying to edit war it ...      0\n",
       "3  more i cannot make any real suggestions on imp...      0\n",
       "4  you sir are my hero any chance you remember wh...      0\n",
       "5  congratulations from me as well use the tools ...      0\n",
       "6       cocksucker before you piss around on my work      1\n",
       "7  your vandalism to the matt shirvington article...      0\n",
       "8  sorry if the word nonsense was offensive to yo...      0\n",
       "9  alignment on this subject and which are contra...      0"
      ]
     },
     "execution_count": 12,
     "metadata": {},
     "output_type": "execute_result"
    }
   ],
   "source": [
    "df.head(10)"
   ]
  },
  {
   "cell_type": "markdown",
   "metadata": {},
   "source": [
    "Лемматизируем текст."
   ]
  },
  {
   "cell_type": "code",
   "execution_count": 13,
   "metadata": {},
   "outputs": [
    {
     "data": {
      "application/vnd.jupyter.widget-view+json": {
       "model_id": "aa7cd0147a194988870bc500ddc78e94",
       "version_major": 2,
       "version_minor": 0
      },
      "text/plain": [
       "  0%|          | 0/159571 [00:00<?, ?it/s]"
      ]
     },
     "metadata": {},
     "output_type": "display_data"
    }
   ],
   "source": [
    "nlp = en_core_web_sm.load()\n",
    "\n",
    "def lemmatize(text):\n",
    "    temp = []\n",
    "    for i in nlp(text):\n",
    "        if i.is_stop == False:\n",
    "            temp.append(i.lemma_)\n",
    "    return \" \".join(temp)\n",
    "\n",
    "\n",
    "tqdm.pandas()\n",
    "df['text'] = df['text'].progress_apply(lemmatize)"
   ]
  },
  {
   "cell_type": "markdown",
   "metadata": {},
   "source": [
    "Посмотрим на результат лемматизации."
   ]
  },
  {
   "cell_type": "code",
   "execution_count": 14,
   "metadata": {},
   "outputs": [
    {
     "data": {
      "text/html": [
       "<div>\n",
       "<style scoped>\n",
       "    .dataframe tbody tr th:only-of-type {\n",
       "        vertical-align: middle;\n",
       "    }\n",
       "\n",
       "    .dataframe tbody tr th {\n",
       "        vertical-align: top;\n",
       "    }\n",
       "\n",
       "    .dataframe thead th {\n",
       "        text-align: right;\n",
       "    }\n",
       "</style>\n",
       "<table border=\"1\" class=\"dataframe\">\n",
       "  <thead>\n",
       "    <tr style=\"text-align: right;\">\n",
       "      <th></th>\n",
       "      <th>text</th>\n",
       "      <th>toxic</th>\n",
       "    </tr>\n",
       "  </thead>\n",
       "  <tbody>\n",
       "    <tr>\n",
       "      <th>0</th>\n",
       "      <td>explanation edit username hardcore metallica f...</td>\n",
       "      <td>0</td>\n",
       "    </tr>\n",
       "    <tr>\n",
       "      <th>1</th>\n",
       "      <td>d aww match background colour seemingly stuck ...</td>\n",
       "      <td>0</td>\n",
       "    </tr>\n",
       "    <tr>\n",
       "      <th>2</th>\n",
       "      <td>hey man try edit war guy constantly remove rel...</td>\n",
       "      <td>0</td>\n",
       "    </tr>\n",
       "    <tr>\n",
       "      <th>3</th>\n",
       "      <td>real suggestion improvement wonder section sta...</td>\n",
       "      <td>0</td>\n",
       "    </tr>\n",
       "    <tr>\n",
       "      <th>4</th>\n",
       "      <td>sir hero chance remember page</td>\n",
       "      <td>0</td>\n",
       "    </tr>\n",
       "  </tbody>\n",
       "</table>\n",
       "</div>"
      ],
      "text/plain": [
       "                                                text  toxic\n",
       "0  explanation edit username hardcore metallica f...      0\n",
       "1  d aww match background colour seemingly stuck ...      0\n",
       "2  hey man try edit war guy constantly remove rel...      0\n",
       "3  real suggestion improvement wonder section sta...      0\n",
       "4                      sir hero chance remember page      0"
      ]
     },
     "execution_count": 14,
     "metadata": {},
     "output_type": "execute_result"
    }
   ],
   "source": [
    "df.head()"
   ]
  },
  {
   "cell_type": "markdown",
   "metadata": {},
   "source": [
    "### Вывод"
   ]
  },
  {
   "cell_type": "markdown",
   "metadata": {},
   "source": [
    "Датафрейм содержит 159571 объектов. Дубликаты и пропуски не обнаружены. По гистограмме целевого признака можно сказать о дисбалансе классов. В дальнейшем необходимо уравновесить их. Можно сказать что данных достаточно для анализа данных."
   ]
  },
  {
   "cell_type": "markdown",
   "metadata": {},
   "source": [
    "## Обучение"
   ]
  },
  {
   "cell_type": "markdown",
   "metadata": {},
   "source": [
    "Разделим данные на обучающую и тестовую выборки."
   ]
  },
  {
   "cell_type": "code",
   "execution_count": 15,
   "metadata": {},
   "outputs": [],
   "source": [
    "target = df['toxic']\n",
    "features = df.drop('toxic', axis=1)\n",
    "features_train, features_test, target_train, target_test = train_test_split(\n",
    "    features, target, test_size=0.3, random_state=12345)"
   ]
  },
  {
   "cell_type": "markdown",
   "metadata": {},
   "source": [
    "Обучим разные модели."
   ]
  },
  {
   "cell_type": "markdown",
   "metadata": {},
   "source": [
    "### Логистическая регрессия"
   ]
  },
  {
   "cell_type": "code",
   "execution_count": 20,
   "metadata": {},
   "outputs": [
    {
     "name": "stderr",
     "output_type": "stream",
     "text": [
      "[nltk_data] Downloading package stopwords to /home/jovyan/nltk_data...\n",
      "[nltk_data]   Package stopwords is already up-to-date!\n"
     ]
    },
    {
     "name": "stdout",
     "output_type": "stream",
     "text": [
      "{'clf__C': 10, 'clf__class_weight': None}\n",
      "0.7690138451850984\n",
      "CPU times: user 3min 52s, sys: 2min 35s, total: 6min 27s\n",
      "Wall time: 6min 28s\n"
     ]
    }
   ],
   "source": [
    "%%time\n",
    "nltk.download('stopwords')\n",
    "stopwords = set(nltk_stopwords.words('english'))\n",
    "\n",
    "log_pip = Pipeline([\n",
    "    ('tfidf', TfidfVectorizer(stop_words=stopwords)),\n",
    "    ('clf', LogisticRegression(random_state=123, solver='liblinear'))])\n",
    "\n",
    "params = {'clf__C': [0.1, 1, 10, 50],\n",
    "          'clf__class_weight': ['balanced', None]}\n",
    "\n",
    "log_grid = GridSearchCV(estimator=log_pip, param_grid=params, cv=3, scoring='f1', n_jobs=-1)\n",
    "log_grid.fit(features_train['text'], target_train)\n",
    "\n",
    "print(log_grid.best_params_)\n",
    "print(log_grid.best_score_)"
   ]
  },
  {
   "cell_type": "markdown",
   "metadata": {},
   "source": [
    "### LGBMClassifier"
   ]
  },
  {
   "cell_type": "code",
   "execution_count": 23,
   "metadata": {
    "scrolled": true
   },
   "outputs": [
    {
     "name": "stdout",
     "output_type": "stream",
     "text": [
      "{'clf__class_weight': None, 'clf__learning_rate': 0.3, 'clf__max_depth': 10, 'clf__n_estimators': 150}\n",
      "0.7558504027733294\n",
      "CPU times: user 1h 53s, sys: 15.3 s, total: 1h 1min 9s\n",
      "Wall time: 1h 1min 21s\n"
     ]
    }
   ],
   "source": [
    "%%time\n",
    "lgb_pip = Pipeline([\n",
    "    ('tfidf', TfidfVectorizer(stop_words=stopwords)),\n",
    "    ('clf', LGBMClassifier(random_state=12345))])\n",
    "\n",
    "params = {\n",
    "  'clf__n_estimators': [100, 150],\n",
    "  'clf__learning_rate': [0.1, 0.3],\n",
    "  'clf__max_depth': [8, 10],\n",
    "  'clf__class_weight': ['balanced', None]}\n",
    "\n",
    "lgb_grid = GridSearchCV(estimator=lgb_pip, param_grid=params, cv=3, scoring='f1', n_jobs=-1)\n",
    "lgb_grid.fit(features_train['text'], target_train)\n",
    "\n",
    "print(lgb_grid.best_params_)\n",
    "print(lgb_grid.best_score_)"
   ]
  },
  {
   "cell_type": "markdown",
   "metadata": {},
   "source": [
    "Лучшей моделью по качеству при кросс-валидации оказалась `Логистическая регрессия`, поэтому ценим её на тестовых данных."
   ]
  },
  {
   "cell_type": "markdown",
   "metadata": {},
   "source": [
    "### Лучшая модель"
   ]
  },
  {
   "cell_type": "markdown",
   "metadata": {},
   "source": [
    "Создадим признаки с учетом стоп-слов."
   ]
  },
  {
   "cell_type": "code",
   "execution_count": null,
   "metadata": {},
   "outputs": [],
   "source": [
    "# Создадим счетчик, указав в нем стоп-слова\n",
    "count_tf_idf = TfidfVectorizer(stop_words=stopwords)\n",
    "# Посчитаем TD-IDF для корпуса текстов\n",
    "tf_idf_train = count_tf_idf.fit_transform(features_train['text'])\n",
    "# Создадим признаки\n",
    "tf_idf_test = count_tf_idf.transform(features_test['text'])"
   ]
  },
  {
   "cell_type": "markdown",
   "metadata": {},
   "source": [
    "Обучим с найденными гиперпараметрами логистическую регрессию."
   ]
  },
  {
   "cell_type": "code",
   "execution_count": 37,
   "metadata": {},
   "outputs": [
    {
     "name": "stdout",
     "output_type": "stream",
     "text": [
      "CPU times: user 23.4 s, sys: 21.7 s, total: 45.1 s\n",
      "Wall time: 45.2 s\n"
     ]
    },
    {
     "name": "stderr",
     "output_type": "stream",
     "text": [
      "/opt/conda/lib/python3.9/site-packages/sklearn/linear_model/_logistic.py:763: ConvergenceWarning: lbfgs failed to converge (status=1):\n",
      "STOP: TOTAL NO. of ITERATIONS REACHED LIMIT.\n",
      "\n",
      "Increase the number of iterations (max_iter) or scale the data as shown in:\n",
      "    https://scikit-learn.org/stable/modules/preprocessing.html\n",
      "Please also refer to the documentation for alternative solver options:\n",
      "    https://scikit-learn.org/stable/modules/linear_model.html#logistic-regression\n",
      "  n_iter_i = _check_optimize_result(\n"
     ]
    },
    {
     "data": {
      "text/plain": [
       "LogisticRegression(C=10, class_weight='balanced', random_state=123)"
      ]
     },
     "execution_count": 37,
     "metadata": {},
     "output_type": "execute_result"
    }
   ],
   "source": [
    "%%time\n",
    "log_model = LogisticRegression(C=10, class_weight='balanced', random_state=123)\n",
    "log_model.fit(tf_idf_train, target_train)"
   ]
  },
  {
   "cell_type": "markdown",
   "metadata": {},
   "source": [
    "Посчитаем качество модели."
   ]
  },
  {
   "cell_type": "code",
   "execution_count": 38,
   "metadata": {
    "scrolled": true
   },
   "outputs": [
    {
     "name": "stdout",
     "output_type": "stream",
     "text": [
      "F1 тестовой выборки: 0.7665684130455455\n",
      "CPU times: user 18.5 ms, sys: 97 µs, total: 18.6 ms\n",
      "Wall time: 16.9 ms\n"
     ]
    }
   ],
   "source": [
    "%%time\n",
    "log_pred_test = log_model.predict(tf_idf_test)\n",
    "print(f'F1 тестовой выборки: {f1_score(target_test, log_pred_test)}')"
   ]
  },
  {
   "cell_type": "markdown",
   "metadata": {},
   "source": [
    "## Выводы"
   ]
  },
  {
   "cell_type": "markdown",
   "metadata": {},
   "source": [
    "При анализе данных выявили дисбаланс классов целевого признака. Придали объектам редкого класса больший вес апсэмплингом внутри кросс-валидации. Пайплайном объединили процесс векторизации и кросс-валидации. Нашли лучшую модель по качеству при кросс-валидации и затем испытали её на тестовых данных.\n",
    "\n",
    "Картина распределения \"мест\" моделей по метрике **F1** не сильно разнится. Самое низкое значение метрики при кросс-валидации у **LGBMClassifier**. Чуть повыше качество предсказаниaя у **LogisticRegression**. Лучшей моделью по качеству оказалось **LogisticRegression**. С найденными оптимальными гиперпараметрами посчитали и нашли его качество на тестовых данных. Оно получилось ниже на 0,03. \n",
    "\n",
    "Высокая скорость обучения с учетом поиска оптимальных гиперпараметров, у **Логистической регрессии**. Скорость у **LGBMClassifier** значительно ниже.\n",
    "\n",
    "Цель задачи - обучить модель классифицировать комментарии на позитивные и негативные с метрикой **F1** не меньше 0.75, была достигнута.\n",
    "\n",
    "Сравнение значений качества метрик приведено к общей таблице(см.ниже)."
   ]
  },
  {
   "cell_type": "code",
   "execution_count": 40,
   "metadata": {},
   "outputs": [
    {
     "data": {
      "text/html": [
       "<div>\n",
       "<style scoped>\n",
       "    .dataframe tbody tr th:only-of-type {\n",
       "        vertical-align: middle;\n",
       "    }\n",
       "\n",
       "    .dataframe tbody tr th {\n",
       "        vertical-align: top;\n",
       "    }\n",
       "\n",
       "    .dataframe thead th {\n",
       "        text-align: right;\n",
       "    }\n",
       "</style>\n",
       "<table border=\"1\" class=\"dataframe\">\n",
       "  <thead>\n",
       "    <tr style=\"text-align: right;\">\n",
       "      <th></th>\n",
       "      <th>f1-train</th>\n",
       "      <th>f1-test</th>\n",
       "      <th>Скорость(мин)</th>\n",
       "    </tr>\n",
       "  </thead>\n",
       "  <tbody>\n",
       "    <tr>\n",
       "      <th>Логистическая регрессия</th>\n",
       "      <td>0.769</td>\n",
       "      <td>0.766</td>\n",
       "      <td>6.5</td>\n",
       "    </tr>\n",
       "    <tr>\n",
       "      <th>LGBMClassifier</th>\n",
       "      <td>0.756</td>\n",
       "      <td>-</td>\n",
       "      <td>61.5</td>\n",
       "    </tr>\n",
       "  </tbody>\n",
       "</table>\n",
       "</div>"
      ],
      "text/plain": [
       "                         f1-train f1-test  Скорость(мин)\n",
       "Логистическая регрессия     0.769   0.766            6.5\n",
       "LGBMClassifier              0.756       -           61.5"
      ]
     },
     "execution_count": 40,
     "metadata": {},
     "output_type": "execute_result"
    }
   ],
   "source": [
    "pd.DataFrame({'f1-train': [0.769, 0.756],\n",
    "              'f1-test': [0.766, '-'], \n",
    "              'Скорость(мин)': [6.5, 61.5]}\n",
    "             , index=['Логистическая регрессия', 'LGBMClassifier'])"
   ]
  }
 ],
 "metadata": {
  "ExecuteTimeLog": [
   {
    "duration": 80713,
    "start_time": "2022-06-25T11:52:14.439Z"
   },
   {
    "duration": 4141,
    "start_time": "2022-06-25T11:53:35.155Z"
   },
   {
    "duration": 19,
    "start_time": "2022-06-25T11:53:39.297Z"
   },
   {
    "duration": 31,
    "start_time": "2022-06-25T11:53:39.319Z"
   },
   {
    "duration": 26,
    "start_time": "2022-06-25T11:53:39.351Z"
   },
   {
    "duration": 62,
    "start_time": "2022-06-25T11:53:39.379Z"
   },
   {
    "duration": 293,
    "start_time": "2022-06-25T11:53:39.443Z"
   },
   {
    "duration": 663,
    "start_time": "2022-06-25T11:53:39.738Z"
   },
   {
    "duration": 939,
    "start_time": "2022-06-25T11:53:40.403Z"
   },
   {
    "duration": 83,
    "start_time": "2022-06-25T12:15:59.768Z"
   },
   {
    "duration": 3,
    "start_time": "2022-06-25T12:16:04.690Z"
   },
   {
    "duration": 72525,
    "start_time": "2022-06-25T12:44:08.616Z"
   },
   {
    "duration": 862,
    "start_time": "2022-06-25T12:45:21.143Z"
   },
   {
    "duration": 20,
    "start_time": "2022-06-25T12:45:22.006Z"
   },
   {
    "duration": 61,
    "start_time": "2022-06-25T12:45:22.028Z"
   },
   {
    "duration": 33,
    "start_time": "2022-06-25T12:45:22.092Z"
   },
   {
    "duration": 27,
    "start_time": "2022-06-25T12:45:22.127Z"
   },
   {
    "duration": 241,
    "start_time": "2022-06-25T12:45:22.156Z"
   },
   {
    "duration": 344,
    "start_time": "2022-06-25T12:45:22.399Z"
   },
   {
    "duration": 4,
    "start_time": "2022-06-25T12:45:22.745Z"
   },
   {
    "duration": 5,
    "start_time": "2022-06-25T12:45:22.774Z"
   },
   {
    "duration": 0,
    "start_time": "2022-06-25T12:45:22.781Z"
   },
   {
    "duration": 0,
    "start_time": "2022-06-25T12:45:22.782Z"
   },
   {
    "duration": 66584,
    "start_time": "2022-06-25T12:46:24.015Z"
   },
   {
    "duration": 903,
    "start_time": "2022-06-25T12:47:30.602Z"
   },
   {
    "duration": 14,
    "start_time": "2022-06-25T12:47:31.507Z"
   },
   {
    "duration": 47,
    "start_time": "2022-06-25T12:47:31.523Z"
   },
   {
    "duration": 32,
    "start_time": "2022-06-25T12:47:31.572Z"
   },
   {
    "duration": 32,
    "start_time": "2022-06-25T12:47:31.607Z"
   },
   {
    "duration": 274,
    "start_time": "2022-06-25T12:47:31.641Z"
   },
   {
    "duration": 365,
    "start_time": "2022-06-25T12:47:31.917Z"
   },
   {
    "duration": 11,
    "start_time": "2022-06-25T12:47:32.284Z"
   },
   {
    "duration": 461,
    "start_time": "2022-06-25T13:02:43.237Z"
   },
   {
    "duration": 933,
    "start_time": "2022-06-25T13:02:43.700Z"
   },
   {
    "duration": 49,
    "start_time": "2022-06-25T13:02:44.635Z"
   },
   {
    "duration": 15,
    "start_time": "2022-06-25T13:02:44.691Z"
   },
   {
    "duration": 44,
    "start_time": "2022-06-25T13:02:44.708Z"
   },
   {
    "duration": 65,
    "start_time": "2022-06-25T13:02:44.753Z"
   },
   {
    "duration": 58,
    "start_time": "2022-06-25T13:02:44.820Z"
   },
   {
    "duration": 290,
    "start_time": "2022-06-25T13:02:44.883Z"
   },
   {
    "duration": 407,
    "start_time": "2022-06-25T13:02:45.175Z"
   },
   {
    "duration": 11,
    "start_time": "2022-06-25T13:02:45.584Z"
   },
   {
    "duration": 12,
    "start_time": "2022-06-25T13:02:45.610Z"
   },
   {
    "duration": 5,
    "start_time": "2022-06-25T13:02:45.624Z"
   },
   {
    "duration": 11,
    "start_time": "2022-06-25T13:03:29.389Z"
   },
   {
    "duration": 7,
    "start_time": "2022-06-25T13:03:40.129Z"
   },
   {
    "duration": 6,
    "start_time": "2022-06-25T13:03:51.896Z"
   },
   {
    "duration": 17,
    "start_time": "2022-06-25T13:03:55.985Z"
   },
   {
    "duration": 177,
    "start_time": "2022-06-25T13:04:50.345Z"
   },
   {
    "duration": 4,
    "start_time": "2022-06-25T13:06:14.437Z"
   },
   {
    "duration": 6,
    "start_time": "2022-06-25T13:06:23.930Z"
   },
   {
    "duration": 6,
    "start_time": "2022-06-25T13:06:26.944Z"
   },
   {
    "duration": 413,
    "start_time": "2022-06-25T13:06:35.213Z"
   },
   {
    "duration": 1307,
    "start_time": "2022-06-25T13:06:35.628Z"
   },
   {
    "duration": 112,
    "start_time": "2022-06-25T13:06:36.937Z"
   },
   {
    "duration": 36,
    "start_time": "2022-06-25T13:06:37.057Z"
   },
   {
    "duration": 31,
    "start_time": "2022-06-25T13:06:37.098Z"
   },
   {
    "duration": 25,
    "start_time": "2022-06-25T13:06:37.132Z"
   },
   {
    "duration": 36,
    "start_time": "2022-06-25T13:06:37.161Z"
   },
   {
    "duration": 43,
    "start_time": "2022-06-25T13:06:37.200Z"
   },
   {
    "duration": 34,
    "start_time": "2022-06-25T13:06:37.245Z"
   },
   {
    "duration": 214,
    "start_time": "2022-06-25T13:06:37.289Z"
   },
   {
    "duration": 464,
    "start_time": "2022-06-25T13:06:37.509Z"
   },
   {
    "duration": 2,
    "start_time": "2022-06-25T13:06:37.974Z"
   },
   {
    "duration": 19,
    "start_time": "2022-06-25T13:06:37.978Z"
   },
   {
    "duration": 5,
    "start_time": "2022-06-25T13:06:37.998Z"
   },
   {
    "duration": 78654,
    "start_time": "2022-06-25T13:07:27.796Z"
   },
   {
    "duration": 861,
    "start_time": "2022-06-25T13:08:46.452Z"
   },
   {
    "duration": 60,
    "start_time": "2022-06-25T13:08:47.315Z"
   },
   {
    "duration": 11,
    "start_time": "2022-06-25T13:08:47.377Z"
   },
   {
    "duration": 25,
    "start_time": "2022-06-25T13:08:47.392Z"
   },
   {
    "duration": 17,
    "start_time": "2022-06-25T13:08:47.419Z"
   },
   {
    "duration": 43,
    "start_time": "2022-06-25T13:08:47.437Z"
   },
   {
    "duration": 41,
    "start_time": "2022-06-25T13:08:47.490Z"
   },
   {
    "duration": 39,
    "start_time": "2022-06-25T13:08:47.534Z"
   },
   {
    "duration": 177,
    "start_time": "2022-06-25T13:08:47.578Z"
   },
   {
    "duration": 335,
    "start_time": "2022-06-25T13:08:47.760Z"
   },
   {
    "duration": 4,
    "start_time": "2022-06-25T13:08:48.096Z"
   },
   {
    "duration": 1618790,
    "start_time": "2022-06-25T13:08:48.101Z"
   },
   {
    "duration": 1122,
    "start_time": "2022-06-25T13:35:46.897Z"
   },
   {
    "duration": 5,
    "start_time": "2022-06-25T13:57:01.883Z"
   },
   {
    "duration": 7,
    "start_time": "2022-06-25T13:57:36.379Z"
   },
   {
    "duration": 7,
    "start_time": "2022-06-25T13:57:42.488Z"
   },
   {
    "duration": 35821,
    "start_time": "2022-06-25T13:58:41.998Z"
   },
   {
    "duration": 410,
    "start_time": "2022-06-25T13:59:35.745Z"
   },
   {
    "duration": 7,
    "start_time": "2022-06-25T13:59:44.179Z"
   },
   {
    "duration": 4,
    "start_time": "2022-06-25T14:02:48.641Z"
   },
   {
    "duration": 5,
    "start_time": "2022-06-25T14:11:14.305Z"
   },
   {
    "duration": 6,
    "start_time": "2022-06-25T14:11:31.498Z"
   },
   {
    "duration": 18,
    "start_time": "2022-06-25T14:11:40.036Z"
   },
   {
    "duration": 8,
    "start_time": "2022-06-25T14:11:50.284Z"
   },
   {
    "duration": 21,
    "start_time": "2022-06-25T14:12:22.982Z"
   },
   {
    "duration": 65138,
    "start_time": "2022-06-25T14:21:47.534Z"
   },
   {
    "duration": 2546,
    "start_time": "2022-06-25T14:22:52.674Z"
   },
   {
    "duration": 49,
    "start_time": "2022-06-25T14:22:55.222Z"
   },
   {
    "duration": 6,
    "start_time": "2022-06-25T14:22:55.274Z"
   },
   {
    "duration": 11,
    "start_time": "2022-06-25T14:22:55.281Z"
   },
   {
    "duration": 12,
    "start_time": "2022-06-25T14:22:55.293Z"
   },
   {
    "duration": 28,
    "start_time": "2022-06-25T14:22:55.306Z"
   },
   {
    "duration": 37,
    "start_time": "2022-06-25T14:22:55.335Z"
   },
   {
    "duration": 22,
    "start_time": "2022-06-25T14:22:55.374Z"
   },
   {
    "duration": 147,
    "start_time": "2022-06-25T14:22:55.399Z"
   },
   {
    "duration": 366,
    "start_time": "2022-06-25T14:22:55.548Z"
   },
   {
    "duration": 6,
    "start_time": "2022-06-25T14:22:55.916Z"
   },
   {
    "duration": 5,
    "start_time": "2022-06-25T14:22:55.923Z"
   },
   {
    "duration": 1454398,
    "start_time": "2022-06-25T14:22:55.930Z"
   },
   {
    "duration": 11,
    "start_time": "2022-06-25T14:47:10.330Z"
   },
   {
    "duration": 635,
    "start_time": "2022-06-25T14:47:10.342Z"
   },
   {
    "duration": 40954,
    "start_time": "2022-06-25T14:47:10.989Z"
   },
   {
    "duration": 29,
    "start_time": "2022-06-25T14:47:51.945Z"
   },
   {
    "duration": 50,
    "start_time": "2022-06-25T14:47:52.101Z"
   },
   {
    "duration": 2,
    "start_time": "2022-06-25T17:13:58.529Z"
   },
   {
    "duration": 25,
    "start_time": "2022-06-25T17:13:59.976Z"
   },
   {
    "duration": 758,
    "start_time": "2022-06-25T17:14:01.339Z"
   },
   {
    "duration": 34,
    "start_time": "2022-06-25T17:15:22.373Z"
   },
   {
    "duration": 5,
    "start_time": "2022-06-25T17:16:12.655Z"
   },
   {
    "duration": 4,
    "start_time": "2022-06-25T17:16:40.530Z"
   },
   {
    "duration": 4,
    "start_time": "2022-06-25T17:18:56.855Z"
   },
   {
    "duration": 3,
    "start_time": "2022-06-25T17:19:10.938Z"
   },
   {
    "duration": 5,
    "start_time": "2022-06-25T17:20:18.837Z"
   },
   {
    "duration": 4,
    "start_time": "2022-06-25T17:20:19.268Z"
   },
   {
    "duration": 8,
    "start_time": "2022-06-25T17:25:38.359Z"
   },
   {
    "duration": 789,
    "start_time": "2022-06-25T17:28:35.996Z"
   },
   {
    "duration": 303,
    "start_time": "2022-06-25T17:28:41.056Z"
   },
   {
    "duration": 404,
    "start_time": "2022-06-25T17:29:12.440Z"
   },
   {
    "duration": 226,
    "start_time": "2022-06-25T17:29:13.044Z"
   },
   {
    "duration": 448,
    "start_time": "2022-06-25T17:31:53.742Z"
   },
   {
    "duration": 28040,
    "start_time": "2022-06-25T17:31:54.350Z"
   },
   {
    "duration": 8,
    "start_time": "2022-06-25T17:32:38.299Z"
   },
   {
    "duration": 419,
    "start_time": "2022-06-25T17:32:54.396Z"
   },
   {
    "duration": 26336,
    "start_time": "2022-06-25T17:32:56.293Z"
   },
   {
    "duration": 7,
    "start_time": "2022-06-25T17:33:22.631Z"
   },
   {
    "duration": 15,
    "start_time": "2022-06-25T17:36:13.066Z"
   },
   {
    "duration": 2,
    "start_time": "2022-06-25T17:36:14.363Z"
   },
   {
    "duration": 24,
    "start_time": "2022-06-25T17:36:49.306Z"
   },
   {
    "duration": 3,
    "start_time": "2022-06-25T17:37:58.224Z"
   },
   {
    "duration": 5,
    "start_time": "2022-06-25T17:37:58.860Z"
   },
   {
    "duration": 7,
    "start_time": "2022-06-25T17:38:02.580Z"
   },
   {
    "duration": 195,
    "start_time": "2022-06-25T17:42:28.398Z"
   },
   {
    "duration": 6,
    "start_time": "2022-06-25T17:42:41.332Z"
   },
   {
    "duration": 4,
    "start_time": "2022-06-25T17:42:58.176Z"
   },
   {
    "duration": 410,
    "start_time": "2022-06-25T17:49:30.071Z"
   },
   {
    "duration": 207,
    "start_time": "2022-06-25T17:49:30.661Z"
   },
   {
    "duration": 7,
    "start_time": "2022-06-25T17:49:31.940Z"
   },
   {
    "duration": 10,
    "start_time": "2022-06-25T17:49:37.641Z"
   },
   {
    "duration": 55517,
    "start_time": "2022-06-25T17:52:49.821Z"
   },
   {
    "duration": 2330,
    "start_time": "2022-06-25T17:53:45.340Z"
   },
   {
    "duration": 38,
    "start_time": "2022-06-25T17:53:47.671Z"
   },
   {
    "duration": 3,
    "start_time": "2022-06-25T17:53:47.711Z"
   },
   {
    "duration": 10,
    "start_time": "2022-06-25T17:53:47.716Z"
   },
   {
    "duration": 13,
    "start_time": "2022-06-25T17:53:47.727Z"
   },
   {
    "duration": 34,
    "start_time": "2022-06-25T17:53:47.742Z"
   },
   {
    "duration": 16,
    "start_time": "2022-06-25T17:53:47.777Z"
   },
   {
    "duration": 21,
    "start_time": "2022-06-25T17:53:47.794Z"
   },
   {
    "duration": 145,
    "start_time": "2022-06-25T17:53:47.817Z"
   },
   {
    "duration": 294,
    "start_time": "2022-06-25T17:53:47.964Z"
   },
   {
    "duration": 4,
    "start_time": "2022-06-25T17:53:48.260Z"
   },
   {
    "duration": 5,
    "start_time": "2022-06-25T17:53:48.266Z"
   },
   {
    "duration": 1233533,
    "start_time": "2022-06-25T17:53:48.272Z"
   },
   {
    "duration": 8,
    "start_time": "2022-06-25T18:14:21.807Z"
   },
   {
    "duration": 492,
    "start_time": "2022-06-25T18:14:21.817Z"
   },
   {
    "duration": 95703,
    "start_time": "2022-06-25T18:14:22.310Z"
   },
   {
    "duration": 7,
    "start_time": "2022-06-25T18:15:58.014Z"
   },
   {
    "duration": 33,
    "start_time": "2022-06-25T18:15:58.023Z"
   },
   {
    "duration": 452,
    "start_time": "2022-06-25T18:15:58.058Z"
   },
   {
    "duration": 0,
    "start_time": "2022-06-25T18:15:58.511Z"
   },
   {
    "duration": 0,
    "start_time": "2022-06-25T18:15:58.513Z"
   },
   {
    "duration": 0,
    "start_time": "2022-06-25T18:15:58.514Z"
   },
   {
    "duration": 0,
    "start_time": "2022-06-25T18:15:58.515Z"
   },
   {
    "duration": 0,
    "start_time": "2022-06-25T18:15:58.516Z"
   },
   {
    "duration": 48,
    "start_time": "2022-06-25T18:19:12.463Z"
   },
   {
    "duration": 4,
    "start_time": "2022-06-25T18:19:22.511Z"
   },
   {
    "duration": 8,
    "start_time": "2022-06-25T18:19:34.506Z"
   },
   {
    "duration": 398,
    "start_time": "2022-06-25T18:24:49.619Z"
   },
   {
    "duration": 78816,
    "start_time": "2022-06-25T18:24:50.872Z"
   },
   {
    "duration": 8,
    "start_time": "2022-06-25T18:26:09.690Z"
   },
   {
    "duration": 48461,
    "start_time": "2022-06-25T18:27:09.870Z"
   },
   {
    "duration": 769,
    "start_time": "2022-06-25T18:27:58.333Z"
   },
   {
    "duration": 38,
    "start_time": "2022-06-25T18:27:59.104Z"
   },
   {
    "duration": 16,
    "start_time": "2022-06-25T18:27:59.144Z"
   },
   {
    "duration": 13,
    "start_time": "2022-06-25T18:27:59.161Z"
   },
   {
    "duration": 21,
    "start_time": "2022-06-25T18:27:59.175Z"
   },
   {
    "duration": 27,
    "start_time": "2022-06-25T18:27:59.198Z"
   },
   {
    "duration": 19,
    "start_time": "2022-06-25T18:27:59.226Z"
   },
   {
    "duration": 21,
    "start_time": "2022-06-25T18:27:59.259Z"
   },
   {
    "duration": 145,
    "start_time": "2022-06-25T18:27:59.283Z"
   },
   {
    "duration": 305,
    "start_time": "2022-06-25T18:27:59.429Z"
   },
   {
    "duration": 4,
    "start_time": "2022-06-25T18:27:59.735Z"
   },
   {
    "duration": 5,
    "start_time": "2022-06-25T18:27:59.741Z"
   },
   {
    "duration": 1157961,
    "start_time": "2022-06-25T18:27:59.759Z"
   },
   {
    "duration": 10,
    "start_time": "2022-06-25T18:47:17.722Z"
   },
   {
    "duration": 472,
    "start_time": "2022-06-25T18:47:17.733Z"
   },
   {
    "duration": 23468,
    "start_time": "2022-06-25T18:47:18.207Z"
   },
   {
    "duration": 7,
    "start_time": "2022-06-25T18:47:41.677Z"
   },
   {
    "duration": 19,
    "start_time": "2022-06-25T18:47:41.685Z"
   },
   {
    "duration": 137,
    "start_time": "2022-06-25T18:47:41.706Z"
   },
   {
    "duration": 3,
    "start_time": "2022-06-25T18:47:41.845Z"
   },
   {
    "duration": 11,
    "start_time": "2022-06-25T18:47:41.849Z"
   },
   {
    "duration": 5,
    "start_time": "2022-06-25T18:47:41.862Z"
   },
   {
    "duration": 365,
    "start_time": "2022-06-25T18:47:41.869Z"
   },
   {
    "duration": 61,
    "start_time": "2022-06-25T18:47:42.235Z"
   },
   {
    "duration": 63,
    "start_time": "2022-06-25T18:47:42.298Z"
   },
   {
    "duration": 16,
    "start_time": "2022-06-25T18:47:42.362Z"
   },
   {
    "duration": 0,
    "start_time": "2022-06-25T18:47:42.379Z"
   },
   {
    "duration": 0,
    "start_time": "2022-06-25T18:47:42.380Z"
   },
   {
    "duration": 0,
    "start_time": "2022-06-25T18:47:42.381Z"
   },
   {
    "duration": 0,
    "start_time": "2022-06-25T18:47:42.382Z"
   },
   {
    "duration": 0,
    "start_time": "2022-06-25T18:47:42.383Z"
   },
   {
    "duration": 0,
    "start_time": "2022-06-25T18:47:42.384Z"
   },
   {
    "duration": 0,
    "start_time": "2022-06-25T18:47:42.385Z"
   },
   {
    "duration": 0,
    "start_time": "2022-06-25T18:47:42.386Z"
   },
   {
    "duration": 0,
    "start_time": "2022-06-25T18:47:42.387Z"
   },
   {
    "duration": 5,
    "start_time": "2022-06-25T19:08:40.312Z"
   },
   {
    "duration": 7,
    "start_time": "2022-06-25T19:13:10.144Z"
   },
   {
    "duration": 4,
    "start_time": "2022-06-25T19:13:11.045Z"
   },
   {
    "duration": 7,
    "start_time": "2022-06-25T19:14:30.186Z"
   },
   {
    "duration": 5,
    "start_time": "2022-06-25T19:14:32.270Z"
   },
   {
    "duration": 7,
    "start_time": "2022-06-25T19:19:44.197Z"
   },
   {
    "duration": 4,
    "start_time": "2022-06-25T19:19:44.599Z"
   },
   {
    "duration": 5,
    "start_time": "2022-06-25T19:19:46.821Z"
   },
   {
    "duration": 4,
    "start_time": "2022-06-25T19:22:45.566Z"
   },
   {
    "duration": 2987,
    "start_time": "2022-06-25T19:23:00.266Z"
   },
   {
    "duration": 5,
    "start_time": "2022-06-25T19:30:34.343Z"
   },
   {
    "duration": 1269,
    "start_time": "2022-06-25T19:32:14.519Z"
   },
   {
    "duration": 861,
    "start_time": "2022-06-25T19:32:15.790Z"
   },
   {
    "duration": 41,
    "start_time": "2022-06-25T19:32:16.653Z"
   },
   {
    "duration": 3,
    "start_time": "2022-06-25T19:32:16.696Z"
   },
   {
    "duration": 21,
    "start_time": "2022-06-25T19:32:16.701Z"
   },
   {
    "duration": 20,
    "start_time": "2022-06-25T19:32:16.723Z"
   },
   {
    "duration": 35,
    "start_time": "2022-06-25T19:32:16.745Z"
   },
   {
    "duration": 25,
    "start_time": "2022-06-25T19:32:16.781Z"
   },
   {
    "duration": 25,
    "start_time": "2022-06-25T19:32:16.808Z"
   },
   {
    "duration": 168,
    "start_time": "2022-06-25T19:32:16.835Z"
   },
   {
    "duration": 458,
    "start_time": "2022-06-25T19:32:17.005Z"
   },
   {
    "duration": 6,
    "start_time": "2022-06-25T19:32:17.465Z"
   },
   {
    "duration": 7,
    "start_time": "2022-06-25T19:32:17.472Z"
   },
   {
    "duration": 4,
    "start_time": "2022-06-25T19:32:17.482Z"
   },
   {
    "duration": 9,
    "start_time": "2022-06-25T19:32:17.488Z"
   },
   {
    "duration": 6,
    "start_time": "2022-06-25T19:32:17.499Z"
   },
   {
    "duration": 1324,
    "start_time": "2022-06-25T19:36:35.290Z"
   },
   {
    "duration": 893,
    "start_time": "2022-06-25T19:36:36.616Z"
   },
   {
    "duration": 49,
    "start_time": "2022-06-25T19:36:37.510Z"
   },
   {
    "duration": 4,
    "start_time": "2022-06-25T19:36:37.560Z"
   },
   {
    "duration": 10,
    "start_time": "2022-06-25T19:36:37.566Z"
   },
   {
    "duration": 11,
    "start_time": "2022-06-25T19:36:37.577Z"
   },
   {
    "duration": 25,
    "start_time": "2022-06-25T19:36:37.590Z"
   },
   {
    "duration": 42,
    "start_time": "2022-06-25T19:36:37.617Z"
   },
   {
    "duration": 20,
    "start_time": "2022-06-25T19:36:37.661Z"
   },
   {
    "duration": 130,
    "start_time": "2022-06-25T19:36:37.682Z"
   },
   {
    "duration": 382,
    "start_time": "2022-06-25T19:36:37.814Z"
   },
   {
    "duration": 4,
    "start_time": "2022-06-25T19:36:38.197Z"
   },
   {
    "duration": 7,
    "start_time": "2022-06-25T19:36:38.203Z"
   },
   {
    "duration": 5,
    "start_time": "2022-06-25T19:36:38.213Z"
   },
   {
    "duration": 11,
    "start_time": "2022-06-25T19:36:38.219Z"
   },
   {
    "duration": 7,
    "start_time": "2022-06-25T19:36:38.231Z"
   },
   {
    "duration": 1505,
    "start_time": "2022-06-25T19:36:38.239Z"
   },
   {
    "duration": 0,
    "start_time": "2022-06-25T19:36:39.745Z"
   },
   {
    "duration": 0,
    "start_time": "2022-06-25T19:36:39.746Z"
   },
   {
    "duration": 0,
    "start_time": "2022-06-25T19:36:39.747Z"
   },
   {
    "duration": 0,
    "start_time": "2022-06-25T19:36:39.749Z"
   },
   {
    "duration": 0,
    "start_time": "2022-06-25T19:36:39.750Z"
   },
   {
    "duration": 0,
    "start_time": "2022-06-25T19:36:39.751Z"
   },
   {
    "duration": 0,
    "start_time": "2022-06-25T19:36:39.752Z"
   },
   {
    "duration": 0,
    "start_time": "2022-06-25T19:36:39.753Z"
   },
   {
    "duration": 0,
    "start_time": "2022-06-25T19:36:39.754Z"
   },
   {
    "duration": 0,
    "start_time": "2022-06-25T19:36:39.755Z"
   },
   {
    "duration": 0,
    "start_time": "2022-06-25T19:36:39.756Z"
   },
   {
    "duration": 0,
    "start_time": "2022-06-25T19:36:39.757Z"
   },
   {
    "duration": 0,
    "start_time": "2022-06-25T19:36:39.759Z"
   },
   {
    "duration": 0,
    "start_time": "2022-06-25T19:36:39.760Z"
   },
   {
    "duration": 0,
    "start_time": "2022-06-25T19:36:39.761Z"
   },
   {
    "duration": 0,
    "start_time": "2022-06-25T19:36:39.761Z"
   },
   {
    "duration": 0,
    "start_time": "2022-06-25T19:36:39.762Z"
   },
   {
    "duration": 0,
    "start_time": "2022-06-25T19:36:39.764Z"
   },
   {
    "duration": 0,
    "start_time": "2022-06-25T19:36:39.765Z"
   },
   {
    "duration": 0,
    "start_time": "2022-06-25T19:36:39.766Z"
   },
   {
    "duration": 0,
    "start_time": "2022-06-25T19:36:39.767Z"
   },
   {
    "duration": 5,
    "start_time": "2022-06-25T19:37:01.471Z"
   },
   {
    "duration": 324,
    "start_time": "2022-06-25T19:37:02.571Z"
   },
   {
    "duration": 272,
    "start_time": "2022-06-25T19:37:28.303Z"
   },
   {
    "duration": 218,
    "start_time": "2022-06-25T19:37:36.820Z"
   },
   {
    "duration": 1319,
    "start_time": "2022-06-25T19:39:13.378Z"
   },
   {
    "duration": 844,
    "start_time": "2022-06-25T19:39:14.698Z"
   },
   {
    "duration": 38,
    "start_time": "2022-06-25T19:39:15.543Z"
   },
   {
    "duration": 4,
    "start_time": "2022-06-25T19:39:15.583Z"
   },
   {
    "duration": 11,
    "start_time": "2022-06-25T19:39:15.588Z"
   },
   {
    "duration": 10,
    "start_time": "2022-06-25T19:39:15.600Z"
   },
   {
    "duration": 24,
    "start_time": "2022-06-25T19:39:15.611Z"
   },
   {
    "duration": 37,
    "start_time": "2022-06-25T19:39:15.637Z"
   },
   {
    "duration": 21,
    "start_time": "2022-06-25T19:39:15.675Z"
   },
   {
    "duration": 130,
    "start_time": "2022-06-25T19:39:15.699Z"
   },
   {
    "duration": 411,
    "start_time": "2022-06-25T19:39:15.831Z"
   },
   {
    "duration": 15,
    "start_time": "2022-06-25T19:39:16.244Z"
   },
   {
    "duration": 3,
    "start_time": "2022-06-25T19:39:16.260Z"
   },
   {
    "duration": 7,
    "start_time": "2022-06-25T19:39:16.264Z"
   },
   {
    "duration": 8,
    "start_time": "2022-06-25T19:39:16.273Z"
   },
   {
    "duration": 11,
    "start_time": "2022-06-25T19:39:16.283Z"
   },
   {
    "duration": 72691,
    "start_time": "2022-06-25T19:39:16.296Z"
   },
   {
    "duration": 4,
    "start_time": "2022-06-25T19:40:28.990Z"
   },
   {
    "duration": 19,
    "start_time": "2022-06-25T19:40:28.995Z"
   },
   {
    "duration": 31,
    "start_time": "2022-06-25T19:40:29.016Z"
   },
   {
    "duration": 6,
    "start_time": "2022-06-25T19:40:29.048Z"
   },
   {
    "duration": 218,
    "start_time": "2022-06-25T19:40:29.056Z"
   },
   {
    "duration": 4,
    "start_time": "2022-06-25T19:40:29.276Z"
   },
   {
    "duration": 11,
    "start_time": "2022-06-25T19:40:29.282Z"
   },
   {
    "duration": 7,
    "start_time": "2022-06-25T19:40:29.295Z"
   },
   {
    "duration": 179,
    "start_time": "2022-06-25T19:40:29.304Z"
   },
   {
    "duration": 58,
    "start_time": "2022-06-25T19:40:29.485Z"
   },
   {
    "duration": 53,
    "start_time": "2022-06-25T19:40:29.547Z"
   },
   {
    "duration": 11,
    "start_time": "2022-06-25T19:40:29.601Z"
   },
   {
    "duration": 0,
    "start_time": "2022-06-25T19:40:29.613Z"
   },
   {
    "duration": 0,
    "start_time": "2022-06-25T19:40:29.614Z"
   },
   {
    "duration": 0,
    "start_time": "2022-06-25T19:40:29.615Z"
   },
   {
    "duration": 0,
    "start_time": "2022-06-25T19:40:29.616Z"
   },
   {
    "duration": 0,
    "start_time": "2022-06-25T19:40:29.617Z"
   },
   {
    "duration": 0,
    "start_time": "2022-06-25T19:40:29.618Z"
   },
   {
    "duration": 0,
    "start_time": "2022-06-25T19:40:29.619Z"
   },
   {
    "duration": 0,
    "start_time": "2022-06-25T19:40:29.620Z"
   },
   {
    "duration": 0,
    "start_time": "2022-06-25T19:40:29.620Z"
   },
   {
    "duration": 7,
    "start_time": "2022-06-25T19:41:32.931Z"
   },
   {
    "duration": 5322,
    "start_time": "2022-06-25T19:41:33.528Z"
   },
   {
    "duration": 2,
    "start_time": "2022-06-25T19:41:39.888Z"
   },
   {
    "duration": 7,
    "start_time": "2022-06-25T19:41:40.560Z"
   },
   {
    "duration": 1364,
    "start_time": "2022-06-25T19:41:50.742Z"
   },
   {
    "duration": 870,
    "start_time": "2022-06-25T19:41:52.107Z"
   },
   {
    "duration": 42,
    "start_time": "2022-06-25T19:41:52.978Z"
   },
   {
    "duration": 4,
    "start_time": "2022-06-25T19:41:53.023Z"
   },
   {
    "duration": 13,
    "start_time": "2022-06-25T19:41:53.029Z"
   },
   {
    "duration": 29,
    "start_time": "2022-06-25T19:41:53.043Z"
   },
   {
    "duration": 32,
    "start_time": "2022-06-25T19:41:53.074Z"
   },
   {
    "duration": 18,
    "start_time": "2022-06-25T19:41:53.107Z"
   },
   {
    "duration": 35,
    "start_time": "2022-06-25T19:41:53.127Z"
   },
   {
    "duration": 135,
    "start_time": "2022-06-25T19:41:53.165Z"
   },
   {
    "duration": 404,
    "start_time": "2022-06-25T19:41:53.302Z"
   },
   {
    "duration": 4,
    "start_time": "2022-06-25T19:41:53.708Z"
   },
   {
    "duration": 4,
    "start_time": "2022-06-25T19:41:53.713Z"
   },
   {
    "duration": 6,
    "start_time": "2022-06-25T19:41:53.719Z"
   },
   {
    "duration": 11,
    "start_time": "2022-06-25T19:41:53.726Z"
   },
   {
    "duration": 21,
    "start_time": "2022-06-25T19:41:53.739Z"
   },
   {
    "duration": 3717,
    "start_time": "2022-06-25T19:41:53.762Z"
   },
   {
    "duration": 2,
    "start_time": "2022-06-25T19:41:57.481Z"
   },
   {
    "duration": 12,
    "start_time": "2022-06-25T19:41:57.485Z"
   },
   {
    "duration": 20,
    "start_time": "2022-06-25T19:41:57.498Z"
   },
   {
    "duration": 5,
    "start_time": "2022-06-25T19:41:57.519Z"
   },
   {
    "duration": 201,
    "start_time": "2022-06-25T19:41:57.526Z"
   },
   {
    "duration": 4,
    "start_time": "2022-06-25T19:41:57.729Z"
   },
   {
    "duration": 14,
    "start_time": "2022-06-25T19:41:57.735Z"
   },
   {
    "duration": 10,
    "start_time": "2022-06-25T19:41:57.751Z"
   },
   {
    "duration": 201,
    "start_time": "2022-06-25T19:41:57.763Z"
   },
   {
    "duration": 58,
    "start_time": "2022-06-25T19:41:57.966Z"
   },
   {
    "duration": 60,
    "start_time": "2022-06-25T19:41:58.028Z"
   },
   {
    "duration": 11,
    "start_time": "2022-06-25T19:41:58.090Z"
   },
   {
    "duration": 1,
    "start_time": "2022-06-25T19:41:58.102Z"
   },
   {
    "duration": 0,
    "start_time": "2022-06-25T19:41:58.104Z"
   },
   {
    "duration": 0,
    "start_time": "2022-06-25T19:41:58.105Z"
   },
   {
    "duration": 0,
    "start_time": "2022-06-25T19:41:58.105Z"
   },
   {
    "duration": 0,
    "start_time": "2022-06-25T19:41:58.107Z"
   },
   {
    "duration": 0,
    "start_time": "2022-06-25T19:41:58.108Z"
   },
   {
    "duration": 0,
    "start_time": "2022-06-25T19:41:58.109Z"
   },
   {
    "duration": 0,
    "start_time": "2022-06-25T19:41:58.110Z"
   },
   {
    "duration": 0,
    "start_time": "2022-06-25T19:41:58.111Z"
   },
   {
    "duration": 7,
    "start_time": "2022-06-25T19:42:49.069Z"
   },
   {
    "duration": 3,
    "start_time": "2022-06-25T19:42:49.794Z"
   },
   {
    "duration": 11,
    "start_time": "2022-06-25T19:50:30.513Z"
   },
   {
    "duration": 9,
    "start_time": "2022-06-25T19:50:37.181Z"
   },
   {
    "duration": 59,
    "start_time": "2022-06-25T19:50:50.737Z"
   },
   {
    "duration": 7,
    "start_time": "2022-06-25T19:50:57.002Z"
   },
   {
    "duration": 165,
    "start_time": "2022-06-25T19:51:02.112Z"
   },
   {
    "duration": 1375,
    "start_time": "2022-06-25T19:51:53.937Z"
   },
   {
    "duration": 867,
    "start_time": "2022-06-25T19:51:55.314Z"
   },
   {
    "duration": 39,
    "start_time": "2022-06-25T19:51:56.183Z"
   },
   {
    "duration": 3,
    "start_time": "2022-06-25T19:51:56.225Z"
   },
   {
    "duration": 20,
    "start_time": "2022-06-25T19:51:56.230Z"
   },
   {
    "duration": 15,
    "start_time": "2022-06-25T19:51:56.259Z"
   },
   {
    "duration": 42,
    "start_time": "2022-06-25T19:51:56.276Z"
   },
   {
    "duration": 15,
    "start_time": "2022-06-25T19:51:56.320Z"
   },
   {
    "duration": 26,
    "start_time": "2022-06-25T19:51:56.337Z"
   },
   {
    "duration": 133,
    "start_time": "2022-06-25T19:51:56.366Z"
   },
   {
    "duration": 398,
    "start_time": "2022-06-25T19:51:56.501Z"
   },
   {
    "duration": 4,
    "start_time": "2022-06-25T19:51:56.900Z"
   },
   {
    "duration": 16,
    "start_time": "2022-06-25T19:51:56.905Z"
   },
   {
    "duration": 27,
    "start_time": "2022-06-25T19:51:56.923Z"
   },
   {
    "duration": 22,
    "start_time": "2022-06-25T19:51:56.952Z"
   },
   {
    "duration": 6,
    "start_time": "2022-06-25T19:51:56.976Z"
   },
   {
    "duration": 3500,
    "start_time": "2022-06-25T19:51:56.984Z"
   },
   {
    "duration": 5,
    "start_time": "2022-06-25T19:52:00.486Z"
   },
   {
    "duration": 13,
    "start_time": "2022-06-25T19:52:00.492Z"
   },
   {
    "duration": 28,
    "start_time": "2022-06-25T19:52:00.507Z"
   },
   {
    "duration": 9,
    "start_time": "2022-06-25T19:52:00.537Z"
   },
   {
    "duration": 18,
    "start_time": "2022-06-25T19:52:00.547Z"
   },
   {
    "duration": 355,
    "start_time": "2022-06-25T19:52:00.566Z"
   },
   {
    "duration": 9,
    "start_time": "2022-06-25T19:52:00.923Z"
   },
   {
    "duration": 27,
    "start_time": "2022-06-25T19:52:00.934Z"
   },
   {
    "duration": 6,
    "start_time": "2022-06-25T19:52:00.962Z"
   },
   {
    "duration": 12,
    "start_time": "2022-06-25T19:52:00.969Z"
   },
   {
    "duration": 180,
    "start_time": "2022-06-25T19:52:00.984Z"
   },
   {
    "duration": 53,
    "start_time": "2022-06-25T19:52:01.165Z"
   },
   {
    "duration": 58,
    "start_time": "2022-06-25T19:52:01.220Z"
   },
   {
    "duration": 12,
    "start_time": "2022-06-25T19:52:01.279Z"
   },
   {
    "duration": 0,
    "start_time": "2022-06-25T19:52:01.293Z"
   },
   {
    "duration": 0,
    "start_time": "2022-06-25T19:52:01.295Z"
   },
   {
    "duration": 0,
    "start_time": "2022-06-25T19:52:01.295Z"
   },
   {
    "duration": 0,
    "start_time": "2022-06-25T19:52:01.297Z"
   },
   {
    "duration": 0,
    "start_time": "2022-06-25T19:52:01.298Z"
   },
   {
    "duration": 0,
    "start_time": "2022-06-25T19:52:01.299Z"
   },
   {
    "duration": 0,
    "start_time": "2022-06-25T19:52:01.300Z"
   },
   {
    "duration": 0,
    "start_time": "2022-06-25T19:52:01.301Z"
   },
   {
    "duration": 0,
    "start_time": "2022-06-25T19:52:01.302Z"
   },
   {
    "duration": 1291,
    "start_time": "2022-06-25T19:59:31.216Z"
   },
   {
    "duration": 907,
    "start_time": "2022-06-25T19:59:32.509Z"
   },
   {
    "duration": 2,
    "start_time": "2022-06-25T19:59:33.418Z"
   },
   {
    "duration": 9,
    "start_time": "2022-06-25T19:59:33.422Z"
   },
   {
    "duration": 11,
    "start_time": "2022-06-25T19:59:33.432Z"
   },
   {
    "duration": 20,
    "start_time": "2022-06-25T19:59:33.444Z"
   },
   {
    "duration": 33,
    "start_time": "2022-06-25T19:59:33.465Z"
   },
   {
    "duration": 21,
    "start_time": "2022-06-25T19:59:33.500Z"
   },
   {
    "duration": 49,
    "start_time": "2022-06-25T19:59:33.523Z"
   },
   {
    "duration": 234,
    "start_time": "2022-06-25T19:59:33.575Z"
   },
   {
    "duration": 399,
    "start_time": "2022-06-25T19:59:33.810Z"
   },
   {
    "duration": 5,
    "start_time": "2022-06-25T19:59:34.211Z"
   },
   {
    "duration": 6,
    "start_time": "2022-06-25T19:59:34.217Z"
   },
   {
    "duration": 5,
    "start_time": "2022-06-25T19:59:34.224Z"
   },
   {
    "duration": 27,
    "start_time": "2022-06-25T19:59:34.232Z"
   },
   {
    "duration": 5,
    "start_time": "2022-06-25T19:59:34.260Z"
   },
   {
    "duration": 7733,
    "start_time": "2022-06-25T19:59:34.267Z"
   },
   {
    "duration": 2,
    "start_time": "2022-06-25T19:59:42.002Z"
   },
   {
    "duration": 15,
    "start_time": "2022-06-25T19:59:42.005Z"
   },
   {
    "duration": 45,
    "start_time": "2022-06-25T19:59:42.021Z"
   },
   {
    "duration": 7,
    "start_time": "2022-06-25T19:59:42.068Z"
   },
   {
    "duration": 461,
    "start_time": "2022-06-25T19:59:42.077Z"
   },
   {
    "duration": 18,
    "start_time": "2022-06-25T19:59:42.540Z"
   },
   {
    "duration": 4,
    "start_time": "2022-06-25T19:59:42.560Z"
   },
   {
    "duration": 7,
    "start_time": "2022-06-25T19:59:42.566Z"
   },
   {
    "duration": 10,
    "start_time": "2022-06-25T19:59:42.575Z"
   },
   {
    "duration": 262,
    "start_time": "2022-06-25T19:59:42.587Z"
   },
   {
    "duration": 53,
    "start_time": "2022-06-25T19:59:42.852Z"
   },
   {
    "duration": 63,
    "start_time": "2022-06-25T19:59:42.906Z"
   },
   {
    "duration": 9,
    "start_time": "2022-06-25T19:59:42.971Z"
   },
   {
    "duration": 0,
    "start_time": "2022-06-25T19:59:42.982Z"
   },
   {
    "duration": 0,
    "start_time": "2022-06-25T19:59:42.984Z"
   },
   {
    "duration": 0,
    "start_time": "2022-06-25T19:59:42.986Z"
   },
   {
    "duration": 0,
    "start_time": "2022-06-25T19:59:42.987Z"
   },
   {
    "duration": 0,
    "start_time": "2022-06-25T19:59:42.988Z"
   },
   {
    "duration": 0,
    "start_time": "2022-06-25T19:59:42.989Z"
   },
   {
    "duration": 0,
    "start_time": "2022-06-25T19:59:42.990Z"
   },
   {
    "duration": 0,
    "start_time": "2022-06-25T19:59:42.991Z"
   },
   {
    "duration": 0,
    "start_time": "2022-06-25T19:59:42.992Z"
   },
   {
    "duration": 1350,
    "start_time": "2022-06-25T20:05:36.418Z"
   },
   {
    "duration": 905,
    "start_time": "2022-06-25T20:05:37.770Z"
   },
   {
    "duration": 2,
    "start_time": "2022-06-25T20:05:38.678Z"
   },
   {
    "duration": 5,
    "start_time": "2022-06-25T20:05:38.682Z"
   },
   {
    "duration": 10,
    "start_time": "2022-06-25T20:05:38.689Z"
   },
   {
    "duration": 10,
    "start_time": "2022-06-25T20:05:38.700Z"
   },
   {
    "duration": 62,
    "start_time": "2022-06-25T20:05:38.712Z"
   },
   {
    "duration": 21,
    "start_time": "2022-06-25T20:05:38.776Z"
   },
   {
    "duration": 27,
    "start_time": "2022-06-25T20:05:38.799Z"
   },
   {
    "duration": 239,
    "start_time": "2022-06-25T20:05:38.827Z"
   },
   {
    "duration": 392,
    "start_time": "2022-06-25T20:05:39.068Z"
   },
   {
    "duration": 5,
    "start_time": "2022-06-25T20:05:39.462Z"
   },
   {
    "duration": 6,
    "start_time": "2022-06-25T20:05:39.468Z"
   },
   {
    "duration": 6,
    "start_time": "2022-06-25T20:05:39.478Z"
   },
   {
    "duration": 15,
    "start_time": "2022-06-25T20:05:39.485Z"
   },
   {
    "duration": 9,
    "start_time": "2022-06-25T20:05:39.501Z"
   },
   {
    "duration": 7560,
    "start_time": "2022-06-25T20:05:39.511Z"
   },
   {
    "duration": 2,
    "start_time": "2022-06-25T20:05:47.073Z"
   },
   {
    "duration": 10,
    "start_time": "2022-06-25T20:05:47.077Z"
   },
   {
    "duration": 33,
    "start_time": "2022-06-25T20:05:47.089Z"
   },
   {
    "duration": 6,
    "start_time": "2022-06-25T20:05:47.124Z"
   },
   {
    "duration": 4,
    "start_time": "2022-06-25T20:05:47.132Z"
   },
   {
    "duration": 7004,
    "start_time": "2022-06-25T20:05:47.160Z"
   },
   {
    "duration": 3,
    "start_time": "2022-06-25T20:05:54.166Z"
   },
   {
    "duration": 8,
    "start_time": "2022-06-25T20:05:54.170Z"
   },
   {
    "duration": 5,
    "start_time": "2022-06-25T20:05:54.179Z"
   },
   {
    "duration": 46892,
    "start_time": "2022-06-25T20:05:54.185Z"
   },
   {
    "duration": 160,
    "start_time": "2022-06-25T20:06:41.079Z"
   },
   {
    "duration": 56,
    "start_time": "2022-06-25T20:06:41.240Z"
   },
   {
    "duration": 10,
    "start_time": "2022-06-25T20:06:41.298Z"
   },
   {
    "duration": 0,
    "start_time": "2022-06-25T20:06:41.309Z"
   },
   {
    "duration": 0,
    "start_time": "2022-06-25T20:06:41.311Z"
   },
   {
    "duration": 0,
    "start_time": "2022-06-25T20:06:41.312Z"
   },
   {
    "duration": 0,
    "start_time": "2022-06-25T20:06:41.313Z"
   },
   {
    "duration": 0,
    "start_time": "2022-06-25T20:06:41.315Z"
   },
   {
    "duration": 0,
    "start_time": "2022-06-25T20:06:41.316Z"
   },
   {
    "duration": 0,
    "start_time": "2022-06-25T20:06:41.317Z"
   },
   {
    "duration": 0,
    "start_time": "2022-06-25T20:06:41.318Z"
   },
   {
    "duration": 0,
    "start_time": "2022-06-25T20:06:41.319Z"
   },
   {
    "duration": 35207,
    "start_time": "2022-06-25T20:06:57.062Z"
   },
   {
    "duration": 105,
    "start_time": "2022-06-25T20:07:32.271Z"
   },
   {
    "duration": 23,
    "start_time": "2022-06-25T20:07:32.378Z"
   },
   {
    "duration": 4,
    "start_time": "2022-06-25T20:08:30.517Z"
   },
   {
    "duration": 1906,
    "start_time": "2022-06-25T20:08:35.916Z"
   },
   {
    "duration": 1413,
    "start_time": "2022-06-25T20:12:44.261Z"
   },
   {
    "duration": 786,
    "start_time": "2022-06-25T20:12:45.677Z"
   },
   {
    "duration": 2,
    "start_time": "2022-06-25T20:12:46.465Z"
   },
   {
    "duration": 5,
    "start_time": "2022-06-25T20:12:46.469Z"
   },
   {
    "duration": 5,
    "start_time": "2022-06-25T20:12:46.559Z"
   },
   {
    "duration": 14,
    "start_time": "2022-06-25T20:12:46.566Z"
   },
   {
    "duration": 33,
    "start_time": "2022-06-25T20:12:46.582Z"
   },
   {
    "duration": 20,
    "start_time": "2022-06-25T20:12:46.616Z"
   },
   {
    "duration": 29,
    "start_time": "2022-06-25T20:12:46.658Z"
   },
   {
    "duration": 230,
    "start_time": "2022-06-25T20:12:46.689Z"
   },
   {
    "duration": 148,
    "start_time": "2022-06-25T20:12:46.921Z"
   },
   {
    "duration": 6,
    "start_time": "2022-06-25T20:12:47.071Z"
   },
   {
    "duration": 11,
    "start_time": "2022-06-25T20:12:47.079Z"
   },
   {
    "duration": 662,
    "start_time": "2022-06-25T20:12:47.093Z"
   },
   {
    "duration": 6,
    "start_time": "2022-06-25T20:12:47.757Z"
   },
   {
    "duration": 18,
    "start_time": "2022-06-25T20:12:47.765Z"
   },
   {
    "duration": 0,
    "start_time": "2022-06-25T20:12:47.784Z"
   },
   {
    "duration": 0,
    "start_time": "2022-06-25T20:12:47.786Z"
   },
   {
    "duration": 0,
    "start_time": "2022-06-25T20:12:47.787Z"
   },
   {
    "duration": 0,
    "start_time": "2022-06-25T20:12:47.788Z"
   },
   {
    "duration": 0,
    "start_time": "2022-06-25T20:12:47.788Z"
   },
   {
    "duration": 0,
    "start_time": "2022-06-25T20:12:47.789Z"
   },
   {
    "duration": 0,
    "start_time": "2022-06-25T20:12:47.791Z"
   },
   {
    "duration": 0,
    "start_time": "2022-06-25T20:12:47.791Z"
   },
   {
    "duration": 0,
    "start_time": "2022-06-25T20:12:47.792Z"
   },
   {
    "duration": 0,
    "start_time": "2022-06-25T20:12:47.793Z"
   },
   {
    "duration": 0,
    "start_time": "2022-06-25T20:12:47.794Z"
   },
   {
    "duration": 0,
    "start_time": "2022-06-25T20:12:47.795Z"
   },
   {
    "duration": 0,
    "start_time": "2022-06-25T20:12:47.796Z"
   },
   {
    "duration": 1,
    "start_time": "2022-06-25T20:12:47.796Z"
   },
   {
    "duration": 0,
    "start_time": "2022-06-25T20:12:47.798Z"
   },
   {
    "duration": 0,
    "start_time": "2022-06-25T20:12:47.799Z"
   },
   {
    "duration": 0,
    "start_time": "2022-06-25T20:12:47.800Z"
   },
   {
    "duration": 0,
    "start_time": "2022-06-25T20:12:47.802Z"
   },
   {
    "duration": 0,
    "start_time": "2022-06-25T20:12:47.802Z"
   },
   {
    "duration": 66206,
    "start_time": "2022-06-25T20:13:04.919Z"
   },
   {
    "duration": 773,
    "start_time": "2022-06-25T20:14:11.127Z"
   },
   {
    "duration": 3,
    "start_time": "2022-06-25T20:14:11.902Z"
   },
   {
    "duration": 7,
    "start_time": "2022-06-25T20:14:11.906Z"
   },
   {
    "duration": 9,
    "start_time": "2022-06-25T20:14:11.915Z"
   },
   {
    "duration": 12,
    "start_time": "2022-06-25T20:14:11.925Z"
   },
   {
    "duration": 52,
    "start_time": "2022-06-25T20:14:11.939Z"
   },
   {
    "duration": 20,
    "start_time": "2022-06-25T20:14:11.993Z"
   },
   {
    "duration": 48,
    "start_time": "2022-06-25T20:14:12.015Z"
   },
   {
    "duration": 225,
    "start_time": "2022-06-25T20:14:12.065Z"
   },
   {
    "duration": 156,
    "start_time": "2022-06-25T20:14:12.292Z"
   },
   {
    "duration": 10,
    "start_time": "2022-06-25T20:14:12.450Z"
   },
   {
    "duration": 3,
    "start_time": "2022-06-25T20:14:12.461Z"
   },
   {
    "duration": 51218,
    "start_time": "2022-06-25T20:22:25.877Z"
   },
   {
    "duration": 845,
    "start_time": "2022-06-25T20:23:17.097Z"
   },
   {
    "duration": 20,
    "start_time": "2022-06-25T20:23:17.944Z"
   },
   {
    "duration": 31,
    "start_time": "2022-06-25T20:23:17.967Z"
   },
   {
    "duration": 21,
    "start_time": "2022-06-25T20:23:18.000Z"
   },
   {
    "duration": 49,
    "start_time": "2022-06-25T20:23:18.023Z"
   },
   {
    "duration": 226,
    "start_time": "2022-06-25T20:23:18.074Z"
   },
   {
    "duration": 158,
    "start_time": "2022-06-25T20:23:18.302Z"
   },
   {
    "duration": 493,
    "start_time": "2022-06-25T20:23:18.462Z"
   },
   {
    "duration": 3,
    "start_time": "2022-06-25T20:23:18.959Z"
   },
   {
    "duration": 46581,
    "start_time": "2022-06-25T20:23:18.964Z"
   },
   {
    "duration": 12,
    "start_time": "2022-06-25T20:24:05.547Z"
   },
   {
    "duration": 52,
    "start_time": "2022-06-25T20:24:05.561Z"
   },
   {
    "duration": 6,
    "start_time": "2022-06-25T20:24:05.615Z"
   },
   {
    "duration": 14,
    "start_time": "2022-06-25T20:24:05.622Z"
   },
   {
    "duration": 7621,
    "start_time": "2022-06-25T20:24:05.638Z"
   },
   {
    "duration": 4,
    "start_time": "2022-06-25T20:24:13.264Z"
   },
   {
    "duration": 11,
    "start_time": "2022-06-25T20:24:13.270Z"
   },
   {
    "duration": 45503,
    "start_time": "2022-06-25T20:24:13.282Z"
   },
   {
    "duration": 46273,
    "start_time": "2022-06-25T20:24:58.787Z"
   },
   {
    "duration": 21,
    "start_time": "2022-06-25T20:25:45.062Z"
   },
   {
    "duration": 366423,
    "start_time": "2022-06-25T20:25:45.085Z"
   },
   {
    "duration": 5951,
    "start_time": "2022-06-25T20:31:51.510Z"
   },
   {
    "duration": 1038,
    "start_time": "2022-06-25T20:31:57.463Z"
   },
   {
    "duration": 11957,
    "start_time": "2022-06-25T20:31:58.503Z"
   },
   {
    "duration": 92,
    "start_time": "2022-06-25T20:35:33.706Z"
   },
   {
    "duration": 51,
    "start_time": "2022-06-25T20:35:57.521Z"
   },
   {
    "duration": 53,
    "start_time": "2022-06-25T20:36:04.967Z"
   },
   {
    "duration": 51,
    "start_time": "2022-06-25T20:36:13.686Z"
   },
   {
    "duration": 56481,
    "start_time": "2022-06-25T20:37:15.247Z"
   },
   {
    "duration": 2310,
    "start_time": "2022-06-25T20:38:11.730Z"
   },
   {
    "duration": 13,
    "start_time": "2022-06-25T20:38:14.042Z"
   },
   {
    "duration": 32,
    "start_time": "2022-06-25T20:38:14.057Z"
   },
   {
    "duration": 22,
    "start_time": "2022-06-25T20:38:14.092Z"
   },
   {
    "duration": 44,
    "start_time": "2022-06-25T20:38:14.116Z"
   },
   {
    "duration": 223,
    "start_time": "2022-06-25T20:38:14.162Z"
   },
   {
    "duration": 158,
    "start_time": "2022-06-25T20:38:14.387Z"
   },
   {
    "duration": 12,
    "start_time": "2022-06-25T20:38:14.547Z"
   },
   {
    "duration": 9,
    "start_time": "2022-06-25T20:38:14.560Z"
   },
   {
    "duration": 7118,
    "start_time": "2022-06-25T20:38:14.571Z"
   },
   {
    "duration": 346,
    "start_time": "2022-06-25T20:38:21.692Z"
   },
   {
    "duration": 0,
    "start_time": "2022-06-25T20:38:22.040Z"
   },
   {
    "duration": 0,
    "start_time": "2022-06-25T20:38:22.041Z"
   },
   {
    "duration": 0,
    "start_time": "2022-06-25T20:38:22.043Z"
   },
   {
    "duration": 0,
    "start_time": "2022-06-25T20:38:22.043Z"
   },
   {
    "duration": 0,
    "start_time": "2022-06-25T20:38:22.045Z"
   },
   {
    "duration": 0,
    "start_time": "2022-06-25T20:38:22.046Z"
   },
   {
    "duration": 0,
    "start_time": "2022-06-25T20:38:22.058Z"
   },
   {
    "duration": 0,
    "start_time": "2022-06-25T20:38:22.060Z"
   },
   {
    "duration": 0,
    "start_time": "2022-06-25T20:38:22.061Z"
   },
   {
    "duration": 0,
    "start_time": "2022-06-25T20:38:22.062Z"
   },
   {
    "duration": 0,
    "start_time": "2022-06-25T20:38:22.063Z"
   },
   {
    "duration": 0,
    "start_time": "2022-06-25T20:38:22.064Z"
   },
   {
    "duration": 0,
    "start_time": "2022-06-25T20:38:22.065Z"
   },
   {
    "duration": 0,
    "start_time": "2022-06-25T20:38:22.066Z"
   },
   {
    "duration": 0,
    "start_time": "2022-06-25T20:38:22.067Z"
   },
   {
    "duration": 0,
    "start_time": "2022-06-25T20:38:22.069Z"
   },
   {
    "duration": 0,
    "start_time": "2022-06-25T20:38:22.069Z"
   },
   {
    "duration": 27,
    "start_time": "2022-06-25T20:42:46.102Z"
   },
   {
    "duration": 22,
    "start_time": "2022-06-25T20:42:56.805Z"
   },
   {
    "duration": 19,
    "start_time": "2022-06-25T20:43:40.352Z"
   },
   {
    "duration": 20,
    "start_time": "2022-06-25T20:43:53.414Z"
   },
   {
    "duration": 5,
    "start_time": "2022-06-25T20:46:31.435Z"
   },
   {
    "duration": 3,
    "start_time": "2022-06-25T20:46:35.734Z"
   },
   {
    "duration": 1810,
    "start_time": "2022-06-25T20:48:46.141Z"
   },
   {
    "duration": 830,
    "start_time": "2022-06-25T20:48:47.953Z"
   },
   {
    "duration": 100,
    "start_time": "2022-06-25T20:48:48.785Z"
   },
   {
    "duration": 31,
    "start_time": "2022-06-25T20:48:48.887Z"
   },
   {
    "duration": 17,
    "start_time": "2022-06-25T20:48:48.920Z"
   },
   {
    "duration": 50,
    "start_time": "2022-06-25T20:48:48.938Z"
   },
   {
    "duration": 226,
    "start_time": "2022-06-25T20:48:48.990Z"
   },
   {
    "duration": 156,
    "start_time": "2022-06-25T20:48:49.218Z"
   },
   {
    "duration": 5,
    "start_time": "2022-06-25T20:48:49.375Z"
   },
   {
    "duration": 9,
    "start_time": "2022-06-25T20:48:49.382Z"
   },
   {
    "duration": 54072,
    "start_time": "2022-06-25T20:58:20.546Z"
   },
   {
    "duration": 776,
    "start_time": "2022-06-25T20:59:14.619Z"
   },
   {
    "duration": 11,
    "start_time": "2022-06-25T20:59:15.397Z"
   },
   {
    "duration": 35,
    "start_time": "2022-06-25T20:59:15.409Z"
   },
   {
    "duration": 44,
    "start_time": "2022-06-25T20:59:15.446Z"
   },
   {
    "duration": 25,
    "start_time": "2022-06-25T20:59:15.492Z"
   },
   {
    "duration": 216,
    "start_time": "2022-06-25T20:59:15.519Z"
   },
   {
    "duration": 154,
    "start_time": "2022-06-25T20:59:15.737Z"
   },
   {
    "duration": 5,
    "start_time": "2022-06-25T20:59:15.893Z"
   },
   {
    "duration": 7,
    "start_time": "2022-06-25T20:59:15.900Z"
   },
   {
    "duration": 8131,
    "start_time": "2022-06-25T20:59:15.908Z"
   },
   {
    "duration": 7,
    "start_time": "2022-06-25T20:59:24.041Z"
   },
   {
    "duration": 2252314,
    "start_time": "2022-06-25T20:59:24.060Z"
   },
   {
    "duration": 34,
    "start_time": "2022-06-25T21:36:56.375Z"
   },
   {
    "duration": 6,
    "start_time": "2022-06-25T21:36:56.410Z"
   },
   {
    "duration": 5,
    "start_time": "2022-06-25T21:36:56.417Z"
   },
   {
    "duration": 5017,
    "start_time": "2022-06-25T21:36:56.424Z"
   },
   {
    "duration": 4,
    "start_time": "2022-06-25T21:37:01.443Z"
   },
   {
    "duration": 34,
    "start_time": "2022-06-25T21:37:01.449Z"
   },
   {
    "duration": 340289,
    "start_time": "2022-06-25T21:37:01.485Z"
   },
   {
    "duration": 4303,
    "start_time": "2022-06-25T21:42:41.776Z"
   },
   {
    "duration": 99,
    "start_time": "2022-06-25T21:42:46.082Z"
   },
   {
    "duration": 319838,
    "start_time": "2022-06-25T21:42:46.183Z"
   },
   {
    "duration": 4849,
    "start_time": "2022-06-25T21:48:06.023Z"
   },
   {
    "duration": 932,
    "start_time": "2022-06-25T21:48:10.874Z"
   },
   {
    "duration": 82230,
    "start_time": "2022-06-25T21:48:11.807Z"
   },
   {
    "duration": 5090,
    "start_time": "2022-06-25T21:49:34.039Z"
   },
   {
    "duration": 40,
    "start_time": "2022-06-25T21:49:39.131Z"
   },
   {
    "duration": 10,
    "start_time": "2022-06-25T21:49:39.173Z"
   },
   {
    "duration": 40449,
    "start_time": "2022-06-25T21:51:11.532Z"
   },
   {
    "duration": 48087,
    "start_time": "2022-06-25T21:51:51.983Z"
   },
   {
    "duration": 20,
    "start_time": "2022-06-25T21:52:40.072Z"
   },
   {
    "duration": 63754,
    "start_time": "2022-06-25T21:53:03.226Z"
   },
   {
    "duration": 47284,
    "start_time": "2022-06-25T21:54:06.982Z"
   },
   {
    "duration": 107,
    "start_time": "2022-06-25T21:54:54.270Z"
   },
   {
    "duration": 663660,
    "start_time": "2022-06-25T21:54:54.380Z"
   },
   {
    "duration": 5205,
    "start_time": "2022-06-25T22:05:58.043Z"
   },
   {
    "duration": 978,
    "start_time": "2022-06-25T22:06:03.249Z"
   },
   {
    "duration": 169574,
    "start_time": "2022-06-25T22:06:04.229Z"
   },
   {
    "duration": 5308,
    "start_time": "2022-06-25T22:08:53.804Z"
   },
   {
    "duration": 26,
    "start_time": "2022-06-25T22:08:59.114Z"
   },
   {
    "duration": 66022,
    "start_time": "2022-06-25T22:08:59.142Z"
   },
   {
    "duration": 45589,
    "start_time": "2022-06-25T22:10:05.172Z"
   },
   {
    "duration": 105,
    "start_time": "2022-06-25T22:10:50.763Z"
   },
   {
    "duration": 15,
    "start_time": "2022-06-25T22:10:50.872Z"
   },
   {
    "duration": 21481,
    "start_time": "2022-06-25T22:13:01.260Z"
   },
   {
    "duration": 5,
    "start_time": "2022-06-25T22:13:22.743Z"
   },
   {
    "duration": 60744,
    "start_time": "2022-06-25T22:13:22.749Z"
   },
   {
    "duration": 58372,
    "start_time": "2022-06-25T22:14:23.495Z"
   },
   {
    "duration": 25,
    "start_time": "2022-06-25T22:15:21.869Z"
   },
   {
    "duration": 405,
    "start_time": "2022-06-25T22:15:21.895Z"
   },
   {
    "duration": 94,
    "start_time": "2022-06-25T22:15:22.302Z"
   },
   {
    "duration": 89,
    "start_time": "2022-06-25T22:15:22.398Z"
   },
   {
    "duration": 123235,
    "start_time": "2022-06-25T22:15:22.489Z"
   },
   {
    "duration": 7965,
    "start_time": "2022-06-25T22:17:25.726Z"
   },
   {
    "duration": 49,
    "start_time": "2022-06-25T22:17:33.693Z"
   },
   {
    "duration": 584545,
    "start_time": "2022-06-25T22:17:33.744Z"
   },
   {
    "duration": 59986,
    "start_time": "2022-06-25T22:27:18.291Z"
   },
   {
    "duration": 101,
    "start_time": "2022-06-25T22:28:18.279Z"
   },
   {
    "duration": 9,
    "start_time": "2022-06-25T22:28:18.381Z"
   },
   {
    "duration": 38,
    "start_time": "2022-06-25T22:28:18.391Z"
   },
   {
    "duration": 57948,
    "start_time": "2022-06-25T23:00:51.994Z"
   },
   {
    "duration": 786,
    "start_time": "2022-06-25T23:01:49.944Z"
   },
   {
    "duration": 12,
    "start_time": "2022-06-25T23:01:50.731Z"
   },
   {
    "duration": 44,
    "start_time": "2022-06-25T23:01:50.747Z"
   },
   {
    "duration": 20,
    "start_time": "2022-06-25T23:01:50.793Z"
   },
   {
    "duration": 44,
    "start_time": "2022-06-25T23:01:50.815Z"
   },
   {
    "duration": 229,
    "start_time": "2022-06-25T23:01:50.861Z"
   },
   {
    "duration": 149,
    "start_time": "2022-06-25T23:01:51.091Z"
   },
   {
    "duration": 5,
    "start_time": "2022-06-25T23:01:51.242Z"
   },
   {
    "duration": 11,
    "start_time": "2022-06-25T23:01:51.249Z"
   },
   {
    "duration": 7776,
    "start_time": "2022-06-25T23:01:51.261Z"
   },
   {
    "duration": 7,
    "start_time": "2022-06-25T23:01:59.039Z"
   },
   {
    "duration": 2231193,
    "start_time": "2022-06-25T23:01:59.059Z"
   },
   {
    "duration": 34,
    "start_time": "2022-06-25T23:39:10.259Z"
   },
   {
    "duration": 70,
    "start_time": "2022-06-25T23:39:10.295Z"
   },
   {
    "duration": 9,
    "start_time": "2022-06-25T23:39:10.367Z"
   },
   {
    "duration": 6,
    "start_time": "2022-06-25T23:39:10.378Z"
   },
   {
    "duration": 6702,
    "start_time": "2022-06-25T23:39:10.385Z"
   },
   {
    "duration": 6,
    "start_time": "2022-06-25T23:39:17.089Z"
   },
   {
    "duration": 87806,
    "start_time": "2022-06-25T23:39:17.096Z"
   },
   {
    "duration": 47575,
    "start_time": "2022-06-25T23:40:44.904Z"
   },
   {
    "duration": 25,
    "start_time": "2022-06-25T23:41:32.558Z"
   },
   {
    "duration": 58,
    "start_time": "2022-06-26T00:05:55.915Z"
   },
   {
    "duration": 7,
    "start_time": "2022-06-26T00:06:06.482Z"
   },
   {
    "duration": 76557,
    "start_time": "2022-06-26T00:06:12.881Z"
   },
   {
    "duration": 804,
    "start_time": "2022-06-26T00:07:29.440Z"
   },
   {
    "duration": 27,
    "start_time": "2022-06-26T00:07:30.246Z"
   },
   {
    "duration": 37,
    "start_time": "2022-06-26T00:07:30.274Z"
   },
   {
    "duration": 19,
    "start_time": "2022-06-26T00:07:30.313Z"
   },
   {
    "duration": 42,
    "start_time": "2022-06-26T00:07:30.334Z"
   },
   {
    "duration": 235,
    "start_time": "2022-06-26T00:07:30.378Z"
   },
   {
    "duration": 161,
    "start_time": "2022-06-26T00:07:30.615Z"
   },
   {
    "duration": 5,
    "start_time": "2022-06-26T00:07:30.777Z"
   },
   {
    "duration": 17,
    "start_time": "2022-06-26T00:07:30.784Z"
   },
   {
    "duration": 8190,
    "start_time": "2022-06-26T00:07:30.803Z"
   },
   {
    "duration": 7,
    "start_time": "2022-06-26T00:07:38.995Z"
   },
   {
    "duration": 2233742,
    "start_time": "2022-06-26T00:07:39.004Z"
   },
   {
    "duration": 53,
    "start_time": "2022-06-26T00:44:52.764Z"
   },
   {
    "duration": 91,
    "start_time": "2022-06-26T00:44:52.819Z"
   },
   {
    "duration": 6,
    "start_time": "2022-06-26T00:44:52.912Z"
   },
   {
    "duration": 6,
    "start_time": "2022-06-26T00:44:52.920Z"
   },
   {
    "duration": 7197,
    "start_time": "2022-06-26T00:44:52.928Z"
   },
   {
    "duration": 7,
    "start_time": "2022-06-26T00:45:00.127Z"
   },
   {
    "duration": 91568,
    "start_time": "2022-06-26T00:45:00.136Z"
   },
   {
    "duration": 47457,
    "start_time": "2022-06-26T00:46:31.706Z"
   },
   {
    "duration": 22,
    "start_time": "2022-06-26T00:47:19.168Z"
   },
   {
    "duration": 3,
    "start_time": "2022-06-26T00:47:19.191Z"
   },
   {
    "duration": 16,
    "start_time": "2022-06-26T00:47:19.259Z"
   },
   {
    "duration": 6,
    "start_time": "2022-06-26T00:47:19.277Z"
   },
   {
    "duration": 257281,
    "start_time": "2022-06-26T00:47:19.285Z"
   },
   {
    "duration": 8226,
    "start_time": "2022-06-26T00:51:36.568Z"
   },
   {
    "duration": 33,
    "start_time": "2022-06-26T00:51:44.796Z"
   },
   {
    "duration": 9,
    "start_time": "2022-06-26T00:51:44.830Z"
   },
   {
    "duration": 5177052,
    "start_time": "2022-06-26T00:53:03.312Z"
   },
   {
    "duration": 157899,
    "start_time": "2022-06-26T02:19:20.366Z"
   },
   {
    "duration": 2050,
    "start_time": "2022-06-26T02:21:58.267Z"
   },
   {
    "duration": 9,
    "start_time": "2022-06-26T03:59:11.766Z"
   },
   {
    "duration": 0,
    "start_time": "2022-06-26T14:58:56.522Z"
   },
   {
    "duration": 0,
    "start_time": "2022-06-26T14:58:56.524Z"
   },
   {
    "duration": 670,
    "start_time": "2022-06-26T14:58:57.897Z"
   },
   {
    "duration": 4,
    "start_time": "2022-06-26T14:59:00.239Z"
   },
   {
    "duration": 9,
    "start_time": "2022-06-26T14:59:01.900Z"
   },
   {
    "duration": 30,
    "start_time": "2022-06-26T14:59:02.819Z"
   },
   {
    "duration": 18,
    "start_time": "2022-06-26T14:59:03.363Z"
   },
   {
    "duration": 26,
    "start_time": "2022-06-26T14:59:03.765Z"
   },
   {
    "duration": 198,
    "start_time": "2022-06-26T14:59:03.911Z"
   },
   {
    "duration": 134,
    "start_time": "2022-06-26T14:59:04.201Z"
   },
   {
    "duration": 5,
    "start_time": "2022-06-26T14:59:04.616Z"
   },
   {
    "duration": 2,
    "start_time": "2022-06-26T14:59:04.765Z"
   },
   {
    "duration": 7777,
    "start_time": "2022-06-26T14:59:05.043Z"
   },
   {
    "duration": 7,
    "start_time": "2022-06-26T14:59:12.823Z"
   },
   {
    "duration": 2214177,
    "start_time": "2022-06-26T14:59:12.831Z"
   },
   {
    "duration": 26,
    "start_time": "2022-06-26T15:36:07.010Z"
   },
   {
    "duration": 66,
    "start_time": "2022-06-26T15:36:07.037Z"
   },
   {
    "duration": 5,
    "start_time": "2022-06-26T15:36:07.104Z"
   },
   {
    "duration": 5,
    "start_time": "2022-06-26T15:36:07.111Z"
   },
   {
    "duration": 6071,
    "start_time": "2022-06-26T15:36:07.118Z"
   },
   {
    "duration": 6,
    "start_time": "2022-06-26T15:36:13.191Z"
   },
   {
    "duration": 87485,
    "start_time": "2022-06-26T15:36:13.200Z"
   },
   {
    "duration": 45267,
    "start_time": "2022-06-26T15:37:40.687Z"
   },
   {
    "duration": 26,
    "start_time": "2022-06-26T15:38:25.956Z"
   },
   {
    "duration": 52,
    "start_time": "2022-06-26T19:59:16.248Z"
   },
   {
    "duration": 81012,
    "start_time": "2022-06-26T19:59:21.516Z"
   },
   {
    "duration": 2409,
    "start_time": "2022-06-26T20:00:42.531Z"
   },
   {
    "duration": 14,
    "start_time": "2022-06-26T20:00:44.942Z"
   },
   {
    "duration": 50,
    "start_time": "2022-06-26T20:00:44.958Z"
   },
   {
    "duration": 29,
    "start_time": "2022-06-26T20:00:45.387Z"
   },
   {
    "duration": 54,
    "start_time": "2022-06-27T11:46:29.201Z"
   },
   {
    "duration": 98253,
    "start_time": "2022-06-28T16:35:36.629Z"
   },
   {
    "duration": 2841,
    "start_time": "2022-06-28T16:37:14.884Z"
   },
   {
    "duration": 11,
    "start_time": "2022-06-28T16:37:17.727Z"
   },
   {
    "duration": 29,
    "start_time": "2022-06-28T16:37:17.740Z"
   },
   {
    "duration": 243,
    "start_time": "2022-06-28T16:37:17.771Z"
   },
   {
    "duration": 30,
    "start_time": "2022-06-28T16:37:18.016Z"
   },
   {
    "duration": 218,
    "start_time": "2022-06-28T16:37:18.047Z"
   },
   {
    "duration": 185,
    "start_time": "2022-06-28T16:37:18.267Z"
   },
   {
    "duration": 6,
    "start_time": "2022-06-28T16:37:18.453Z"
   },
   {
    "duration": 11,
    "start_time": "2022-06-28T16:37:18.462Z"
   },
   {
    "duration": 7828,
    "start_time": "2022-06-28T16:37:18.475Z"
   },
   {
    "duration": 6,
    "start_time": "2022-06-28T16:37:26.305Z"
   },
   {
    "duration": 2276192,
    "start_time": "2022-06-28T16:37:26.312Z"
   },
   {
    "duration": 346,
    "start_time": "2022-06-28T17:15:22.506Z"
   },
   {
    "duration": 0,
    "start_time": "2022-06-28T17:15:22.853Z"
   },
   {
    "duration": 0,
    "start_time": "2022-06-28T17:15:22.855Z"
   },
   {
    "duration": 0,
    "start_time": "2022-06-28T17:15:22.856Z"
   },
   {
    "duration": 0,
    "start_time": "2022-06-28T17:15:22.857Z"
   },
   {
    "duration": 0,
    "start_time": "2022-06-28T17:15:22.859Z"
   },
   {
    "duration": 0,
    "start_time": "2022-06-28T17:15:22.860Z"
   },
   {
    "duration": 0,
    "start_time": "2022-06-28T17:15:22.861Z"
   },
   {
    "duration": 0,
    "start_time": "2022-06-28T17:15:22.862Z"
   },
   {
    "duration": 0,
    "start_time": "2022-06-28T17:15:22.864Z"
   },
   {
    "duration": 0,
    "start_time": "2022-06-28T17:15:22.865Z"
   },
   {
    "duration": 0,
    "start_time": "2022-06-28T17:15:22.865Z"
   },
   {
    "duration": 0,
    "start_time": "2022-06-28T17:15:22.867Z"
   },
   {
    "duration": 6,
    "start_time": "2022-06-28T18:33:12.971Z"
   },
   {
    "duration": 35,
    "start_time": "2022-06-28T18:33:12.979Z"
   },
   {
    "duration": 3,
    "start_time": "2022-06-28T18:33:13.016Z"
   },
   {
    "duration": 7,
    "start_time": "2022-06-28T18:33:13.020Z"
   },
   {
    "duration": 14,
    "start_time": "2022-06-28T18:33:13.029Z"
   },
   {
    "duration": 7,
    "start_time": "2022-06-28T18:33:13.044Z"
   },
   {
    "duration": 7,
    "start_time": "2022-06-28T18:33:13.053Z"
   },
   {
    "duration": 0,
    "start_time": "2022-06-28T18:33:13.061Z"
   },
   {
    "duration": 0,
    "start_time": "2022-06-28T18:33:13.062Z"
   },
   {
    "duration": 0,
    "start_time": "2022-06-28T18:33:13.063Z"
   },
   {
    "duration": 0,
    "start_time": "2022-06-28T18:33:13.064Z"
   },
   {
    "duration": 0,
    "start_time": "2022-06-28T18:33:13.065Z"
   },
   {
    "duration": 0,
    "start_time": "2022-06-28T18:33:13.066Z"
   },
   {
    "duration": 8,
    "start_time": "2022-06-28T18:33:33.594Z"
   },
   {
    "duration": 42,
    "start_time": "2022-06-28T18:33:33.604Z"
   },
   {
    "duration": 3,
    "start_time": "2022-06-28T18:33:33.647Z"
   },
   {
    "duration": 6,
    "start_time": "2022-06-28T18:33:33.653Z"
   },
   {
    "duration": 7,
    "start_time": "2022-06-28T18:33:33.661Z"
   },
   {
    "duration": 8,
    "start_time": "2022-06-28T18:33:33.670Z"
   },
   {
    "duration": 7,
    "start_time": "2022-06-28T18:33:33.680Z"
   },
   {
    "duration": 0,
    "start_time": "2022-06-28T18:33:33.689Z"
   },
   {
    "duration": 0,
    "start_time": "2022-06-28T18:33:33.690Z"
   },
   {
    "duration": 0,
    "start_time": "2022-06-28T18:33:33.692Z"
   },
   {
    "duration": 0,
    "start_time": "2022-06-28T18:33:33.693Z"
   },
   {
    "duration": 0,
    "start_time": "2022-06-28T18:33:33.693Z"
   },
   {
    "duration": 0,
    "start_time": "2022-06-28T18:33:33.695Z"
   },
   {
    "duration": 286,
    "start_time": "2022-06-28T18:37:50.322Z"
   },
   {
    "duration": 82461,
    "start_time": "2022-06-28T18:38:44.521Z"
   },
   {
    "duration": 2957,
    "start_time": "2022-06-28T18:40:06.984Z"
   },
   {
    "duration": 11,
    "start_time": "2022-06-28T18:40:09.943Z"
   },
   {
    "duration": 37,
    "start_time": "2022-06-28T18:40:09.956Z"
   },
   {
    "duration": 286,
    "start_time": "2022-06-28T18:40:09.994Z"
   },
   {
    "duration": 27,
    "start_time": "2022-06-28T18:40:10.281Z"
   },
   {
    "duration": 239,
    "start_time": "2022-06-28T18:40:10.310Z"
   },
   {
    "duration": 180,
    "start_time": "2022-06-28T18:40:10.551Z"
   },
   {
    "duration": 11,
    "start_time": "2022-06-28T18:40:10.733Z"
   },
   {
    "duration": 12,
    "start_time": "2022-06-28T18:40:10.747Z"
   },
   {
    "duration": 7851,
    "start_time": "2022-06-28T18:40:10.761Z"
   },
   {
    "duration": 8,
    "start_time": "2022-06-28T18:40:18.614Z"
   },
   {
    "duration": 2282848,
    "start_time": "2022-06-28T18:40:18.624Z"
   },
   {
    "duration": 7,
    "start_time": "2022-06-28T19:18:21.474Z"
   },
   {
    "duration": 41,
    "start_time": "2022-06-28T19:18:21.483Z"
   },
   {
    "duration": 16,
    "start_time": "2022-06-28T19:18:21.526Z"
   },
   {
    "duration": 2,
    "start_time": "2022-06-28T19:18:21.544Z"
   },
   {
    "duration": 6,
    "start_time": "2022-06-28T19:18:21.548Z"
   },
   {
    "duration": 8,
    "start_time": "2022-06-28T19:18:21.555Z"
   },
   {
    "duration": 89313,
    "start_time": "2022-06-29T10:56:57.697Z"
   },
   {
    "duration": 3085,
    "start_time": "2022-06-29T10:58:27.011Z"
   },
   {
    "duration": 12,
    "start_time": "2022-06-29T10:58:30.097Z"
   },
   {
    "duration": 35,
    "start_time": "2022-06-29T10:58:30.111Z"
   },
   {
    "duration": 253,
    "start_time": "2022-06-29T10:58:30.148Z"
   },
   {
    "duration": 25,
    "start_time": "2022-06-29T10:58:30.403Z"
   },
   {
    "duration": 233,
    "start_time": "2022-06-29T10:58:30.430Z"
   },
   {
    "duration": 183,
    "start_time": "2022-06-29T10:58:30.664Z"
   },
   {
    "duration": 7,
    "start_time": "2022-06-29T10:58:30.849Z"
   },
   {
    "duration": 11,
    "start_time": "2022-06-29T10:58:30.858Z"
   },
   {
    "duration": 7573,
    "start_time": "2022-06-29T10:58:30.871Z"
   },
   {
    "duration": 8,
    "start_time": "2022-06-29T10:58:38.446Z"
   },
   {
    "duration": 87799,
    "start_time": "2022-06-29T11:26:41.282Z"
   },
   {
    "duration": 764,
    "start_time": "2022-06-29T11:28:09.083Z"
   },
   {
    "duration": 12,
    "start_time": "2022-06-29T11:28:09.849Z"
   },
   {
    "duration": 30,
    "start_time": "2022-06-29T11:28:09.862Z"
   },
   {
    "duration": 251,
    "start_time": "2022-06-29T11:28:09.894Z"
   },
   {
    "duration": 29,
    "start_time": "2022-06-29T11:28:10.147Z"
   },
   {
    "duration": 218,
    "start_time": "2022-06-29T11:28:10.178Z"
   },
   {
    "duration": 161,
    "start_time": "2022-06-29T11:28:10.397Z"
   },
   {
    "duration": 6,
    "start_time": "2022-06-29T11:28:10.559Z"
   },
   {
    "duration": 6,
    "start_time": "2022-06-29T11:28:10.566Z"
   },
   {
    "duration": 7528,
    "start_time": "2022-06-29T11:28:10.574Z"
   },
   {
    "duration": 8,
    "start_time": "2022-06-29T11:28:18.104Z"
   },
   {
    "duration": 2212171,
    "start_time": "2022-06-29T11:28:18.114Z"
   },
   {
    "duration": 7,
    "start_time": "2022-06-29T12:05:10.288Z"
   },
   {
    "duration": 37,
    "start_time": "2022-06-29T12:05:10.297Z"
   },
   {
    "duration": 2,
    "start_time": "2022-06-29T12:05:10.336Z"
   },
   {
    "duration": 2,
    "start_time": "2022-06-29T12:05:10.356Z"
   },
   {
    "duration": 3,
    "start_time": "2022-06-29T12:05:10.360Z"
   },
   {
    "duration": 28,
    "start_time": "2022-06-29T12:05:10.365Z"
   },
   {
    "duration": 88359,
    "start_time": "2022-06-29T12:42:43.806Z"
   },
   {
    "duration": 826,
    "start_time": "2022-06-29T12:44:12.167Z"
   },
   {
    "duration": 12,
    "start_time": "2022-06-29T12:44:12.995Z"
   },
   {
    "duration": 48,
    "start_time": "2022-06-29T12:44:13.009Z"
   },
   {
    "duration": 289,
    "start_time": "2022-06-29T12:44:13.059Z"
   },
   {
    "duration": 34,
    "start_time": "2022-06-29T12:44:13.352Z"
   },
   {
    "duration": 238,
    "start_time": "2022-06-29T12:44:13.388Z"
   },
   {
    "duration": 193,
    "start_time": "2022-06-29T12:44:13.628Z"
   },
   {
    "duration": 7,
    "start_time": "2022-06-29T12:44:13.823Z"
   },
   {
    "duration": 8,
    "start_time": "2022-06-29T12:44:13.833Z"
   },
   {
    "duration": 9315,
    "start_time": "2022-06-29T12:44:13.853Z"
   },
   {
    "duration": 9,
    "start_time": "2022-06-29T12:44:23.176Z"
   },
   {
    "duration": 2578136,
    "start_time": "2022-06-29T12:44:23.187Z"
   },
   {
    "duration": 6,
    "start_time": "2022-06-29T13:27:21.325Z"
   },
   {
    "duration": 61,
    "start_time": "2022-06-29T13:27:21.332Z"
   },
   {
    "duration": 2,
    "start_time": "2022-06-29T13:27:21.395Z"
   },
   {
    "duration": 8,
    "start_time": "2022-06-29T13:27:21.399Z"
   },
   {
    "duration": 8,
    "start_time": "2022-06-29T13:27:21.409Z"
   },
   {
    "duration": 11,
    "start_time": "2022-06-29T13:27:21.419Z"
   },
   {
    "duration": 178307,
    "start_time": "2022-06-29T13:35:34.781Z"
   },
   {
    "duration": 836,
    "start_time": "2022-06-29T13:38:33.090Z"
   },
   {
    "duration": 12,
    "start_time": "2022-06-29T13:38:33.928Z"
   },
   {
    "duration": 46,
    "start_time": "2022-06-29T13:38:33.942Z"
   },
   {
    "duration": 287,
    "start_time": "2022-06-29T13:38:33.990Z"
   },
   {
    "duration": 29,
    "start_time": "2022-06-29T13:38:34.279Z"
   },
   {
    "duration": 234,
    "start_time": "2022-06-29T13:38:34.310Z"
   },
   {
    "duration": 172,
    "start_time": "2022-06-29T13:38:34.546Z"
   },
   {
    "duration": 5,
    "start_time": "2022-06-29T13:38:34.719Z"
   },
   {
    "duration": 8,
    "start_time": "2022-06-29T13:38:34.727Z"
   },
   {
    "duration": 9087,
    "start_time": "2022-06-29T13:38:34.736Z"
   },
   {
    "duration": 8,
    "start_time": "2022-06-29T13:38:43.825Z"
   },
   {
    "duration": 2411991,
    "start_time": "2022-06-29T13:38:43.835Z"
   },
   {
    "duration": 8,
    "start_time": "2022-06-29T14:18:55.828Z"
   },
   {
    "duration": 62,
    "start_time": "2022-06-29T14:18:55.838Z"
   },
   {
    "duration": 3,
    "start_time": "2022-06-29T14:18:55.902Z"
   },
   {
    "duration": 9,
    "start_time": "2022-06-29T14:18:55.907Z"
   },
   {
    "duration": 4,
    "start_time": "2022-06-29T14:18:55.918Z"
   },
   {
    "duration": 7,
    "start_time": "2022-06-29T14:18:55.924Z"
   },
   {
    "duration": 398937,
    "start_time": "2022-06-29T14:18:55.933Z"
   },
   {
    "duration": 2,
    "start_time": "2022-06-29T14:25:34.873Z"
   },
   {
    "duration": 12,
    "start_time": "2022-06-29T14:25:34.877Z"
   },
   {
    "duration": 13,
    "start_time": "2022-06-29T14:25:34.891Z"
   },
   {
    "duration": 0,
    "start_time": "2022-06-29T14:25:34.906Z"
   },
   {
    "duration": 0,
    "start_time": "2022-06-29T14:25:34.907Z"
   },
   {
    "duration": 0,
    "start_time": "2022-06-29T14:25:34.909Z"
   },
   {
    "duration": 86456,
    "start_time": "2022-06-29T15:12:00.764Z"
   },
   {
    "duration": 773,
    "start_time": "2022-06-29T15:13:27.223Z"
   },
   {
    "duration": 12,
    "start_time": "2022-06-29T15:13:27.998Z"
   },
   {
    "duration": 28,
    "start_time": "2022-06-29T15:13:28.012Z"
   },
   {
    "duration": 298,
    "start_time": "2022-06-29T15:13:28.055Z"
   },
   {
    "duration": 33,
    "start_time": "2022-06-29T15:13:28.355Z"
   },
   {
    "duration": 256,
    "start_time": "2022-06-29T15:13:28.390Z"
   },
   {
    "duration": 160,
    "start_time": "2022-06-29T15:13:28.648Z"
   },
   {
    "duration": 5,
    "start_time": "2022-06-29T15:13:28.810Z"
   },
   {
    "duration": 8,
    "start_time": "2022-06-29T15:13:28.817Z"
   },
   {
    "duration": 8646,
    "start_time": "2022-06-29T15:13:28.826Z"
   },
   {
    "duration": 8,
    "start_time": "2022-06-29T15:13:37.475Z"
   },
   {
    "duration": 2337087,
    "start_time": "2022-06-29T15:13:37.485Z"
   },
   {
    "duration": 6,
    "start_time": "2022-06-29T15:52:34.578Z"
   },
   {
    "duration": 33,
    "start_time": "2022-06-29T15:52:34.586Z"
   },
   {
    "duration": 2,
    "start_time": "2022-06-29T15:52:34.621Z"
   },
   {
    "duration": 11,
    "start_time": "2022-06-29T15:52:34.625Z"
   },
   {
    "duration": 5,
    "start_time": "2022-06-29T15:52:34.637Z"
   },
   {
    "duration": 17,
    "start_time": "2022-06-29T15:52:34.653Z"
   },
   {
    "duration": 388895,
    "start_time": "2022-06-29T15:52:34.672Z"
   },
   {
    "duration": 3,
    "start_time": "2022-06-29T15:59:03.569Z"
   },
   {
    "duration": 7,
    "start_time": "2022-06-29T15:59:03.573Z"
   },
   {
    "duration": 3681690,
    "start_time": "2022-06-29T15:59:03.581Z"
   },
   {
    "duration": 3,
    "start_time": "2022-06-29T17:00:25.273Z"
   },
   {
    "duration": 6,
    "start_time": "2022-06-29T17:00:25.278Z"
   },
   {
    "duration": 12,
    "start_time": "2022-06-29T17:00:25.285Z"
   },
   {
    "duration": 448,
    "start_time": "2022-06-29T17:14:43.335Z"
   },
   {
    "duration": 93,
    "start_time": "2022-06-29T17:14:43.785Z"
   },
   {
    "duration": 118,
    "start_time": "2022-06-29T17:15:32.035Z"
   },
   {
    "duration": 132,
    "start_time": "2022-06-29T17:17:36.089Z"
   },
   {
    "duration": 125,
    "start_time": "2022-06-29T17:18:07.084Z"
   },
   {
    "duration": 114,
    "start_time": "2022-06-29T18:42:03.671Z"
   },
   {
    "duration": 4,
    "start_time": "2022-06-29T18:42:49.793Z"
   },
   {
    "duration": 103,
    "start_time": "2022-06-29T18:42:57.133Z"
   },
   {
    "duration": 113,
    "start_time": "2022-06-29T18:43:17.272Z"
   },
   {
    "duration": 4466,
    "start_time": "2022-06-29T18:47:13.398Z"
   },
   {
    "duration": 45174,
    "start_time": "2022-06-29T18:47:25.487Z"
   },
   {
    "duration": 21,
    "start_time": "2022-06-29T18:48:18.119Z"
   },
   {
    "duration": 10,
    "start_time": "2022-06-29T19:45:09.322Z"
   },
   {
    "duration": 13,
    "start_time": "2022-06-29T19:45:30.773Z"
   },
   {
    "duration": 45,
    "start_time": "2022-06-30T04:38:42.956Z"
   }
  ],
  "kernelspec": {
   "display_name": "Python 3 (ipykernel)",
   "language": "python",
   "name": "python3"
  },
  "language_info": {
   "codemirror_mode": {
    "name": "ipython",
    "version": 3
   },
   "file_extension": ".py",
   "mimetype": "text/x-python",
   "name": "python",
   "nbconvert_exporter": "python",
   "pygments_lexer": "ipython3",
   "version": "3.9.5"
  },
  "toc": {
   "base_numbering": 1,
   "nav_menu": {},
   "number_sections": true,
   "sideBar": true,
   "skip_h1_title": true,
   "title_cell": "Содержание",
   "title_sidebar": "Contents",
   "toc_cell": true,
   "toc_position": {
    "height": "calc(100% - 180px)",
    "left": "10px",
    "top": "150px",
    "width": "170.37px"
   },
   "toc_section_display": true,
   "toc_window_display": true
  }
 },
 "nbformat": 4,
 "nbformat_minor": 2
}
