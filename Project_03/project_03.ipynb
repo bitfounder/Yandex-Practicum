{
 "cells": [
  {
   "cell_type": "markdown",
   "metadata": {
    "toc": true
   },
   "source": [
    "<h1>Содержание<span class=\"tocSkip\"></span></h1>\n",
    "<div class=\"toc\"><ul class=\"toc-item\"><li><span><a href=\"#Изучение-данных-из-файла\" data-toc-modified-id=\"Изучение-данных-из-файла-1\"><span class=\"toc-item-num\">1&nbsp;&nbsp;</span>Изучение данных из файла</a></span><ul class=\"toc-item\"><li><span><a href=\"#Вывод\" data-toc-modified-id=\"Вывод-1.1\"><span class=\"toc-item-num\">1.1&nbsp;&nbsp;</span>Вывод</a></span></li></ul></li><li><span><a href=\"#Предобработка-данных\" data-toc-modified-id=\"Предобработка-данных-2\"><span class=\"toc-item-num\">2&nbsp;&nbsp;</span>Предобработка данных</a></span><ul class=\"toc-item\"><li><span><a href=\"#Вывод\" data-toc-modified-id=\"Вывод-2.1\"><span class=\"toc-item-num\">2.1&nbsp;&nbsp;</span>Вывод</a></span></li></ul></li><li><span><a href=\"#Анализ-данных\" data-toc-modified-id=\"Анализ-данных-3\"><span class=\"toc-item-num\">3&nbsp;&nbsp;</span>Анализ данных</a></span><ul class=\"toc-item\"><li><span><a href=\"#Вывод\" data-toc-modified-id=\"Вывод-3.1\"><span class=\"toc-item-num\">3.1&nbsp;&nbsp;</span>Вывод</a></span></li></ul></li><li><span><a href=\"#Проверка-гипотез\" data-toc-modified-id=\"Проверка-гипотез-4\"><span class=\"toc-item-num\">4&nbsp;&nbsp;</span>Проверка гипотез</a></span></li><li><span><a href=\"#Общий-вывод\" data-toc-modified-id=\"Общий-вывод-5\"><span class=\"toc-item-num\">5&nbsp;&nbsp;</span>Общий вывод</a></span></li></ul></div>"
   ]
  },
  {
   "cell_type": "markdown",
   "metadata": {},
   "source": [
    "# Определение перспективного тарифа для телеком-компании\n",
    "\n",
    "В компании «Мегалайн» — федерального оператора сотовой связи, клиентам предлагают два тарифных плана: «Смарт» и «Ультра». Чтобы скорректировать рекламный бюджет, коммерческий департамент хочет понять, какой тариф приносит больше денег.\n",
    "\n",
    "Необходимо сделать предварительный анализ тарифов на небольшой выборке клиентов. В нашем распоряжении данные 500 пользователей «Мегалайна»: кто они, откуда, каким тарифом пользуются, сколько звонков и сообщений каждый отправил за 2018 год. Нужно проанализировать поведение клиентов и сделать вывод — какой тариф лучше."
   ]
  },
  {
   "cell_type": "markdown",
   "metadata": {},
   "source": [
    "# Описание тарифов\n",
    "\n",
    "###### Тариф «Смарт»\n",
    "1. Ежемесячная плата: 550 рублей\n",
    "2. Включено 500 минут разговора, 50 сообщений и 15 Гб интернет-трафика\n",
    "3. Стоимость услуг сверх тарифного пакета:\n",
    "\n",
    "   * минута разговора: 3 рубля\n",
    "   * сообщение: 3 рубля\n",
    "   * 1 Гб интернет-трафика: 200 рублей\n",
    "\n",
    "###### Тариф «Ультра»\n",
    "1. Ежемесячная плата: 1950 рублей\n",
    "2. Включено 3000 минут разговора, 1000 сообщений и 30 Гб интернет-трафика\n",
    "3. Стоимость услуг сверх тарифного пакета:\n",
    "\n",
    "   * минута разговора: 1 рубль\n",
    "   * сообщение: 1 рубль\n",
    "   * 1 Гб интернет-трафика: 150 рублей"
   ]
  },
  {
   "cell_type": "markdown",
   "metadata": {},
   "source": [
    "# Описание данных\n",
    "\n",
    "**Таблица calls (информация о звонках):**\n",
    "* `id` — уникальный номер звонка\n",
    "* `call_date` — дата звонка\n",
    "* `duration` — длительность звонка в минутах\n",
    "* `user_id` — идентификатор пользователя, сделавшего звонок\n",
    "\n",
    "**Таблица internet (информация об интернет-сессиях):**\n",
    "* `id` — уникальный номер сессии\n",
    "* `mb_used` — объём потраченного за сессию интернет-трафика (в мегабайтах)\n",
    "* `session_date` — дата интернет-сессии\n",
    "* `user_id` — идентификатор пользователя\n",
    "\n",
    "**Таблица messages (информация о сообщениях):**\n",
    "* `id` — уникальный номер сообщения\n",
    "* `message_date` — дата сообщения\n",
    "* `user_id` — идентификатор пользователя, отправившего сообщение\n",
    "\n",
    "**Таблица tariffs (информация о тарифах):**\n",
    "* `tariff_name` — название тарифа\n",
    "* `rub_monthly_fee` — ежемесячная абонентская плата в рублях\n",
    "* `minutes_included` — количество минут разговора в месяц, включённых в абонентскую плату\n",
    "* `messages_included` — количество сообщений в месяц, включённых в абонентскую плату\n",
    "* `mb_per_month_included` — объём интернет-трафика, включённого в абонентскую плату (в мегабайтах)\n",
    "* `rub_per_minute` — стоимость минуты разговора сверх тарифного пакета (например, если в тарифе 100 минут разговора в месяц, то со 101 минуты будет взиматься плата)\n",
    "* `rub_per_message` — стоимость отправки сообщения сверх тарифного пакета\n",
    "* `rub_per_gb` — стоимость дополнительного гигабайта интернет-трафика сверх тарифного пакета (1 гигабайт = 1024 мегабайта)\n",
    "\n",
    "**Таблица users (информация о пользователях):**\n",
    "* `user_id` — уникальный идентификатор пользователя\n",
    "* `first_name` — имя пользователя\n",
    "* `last_name` — фамилия пользователя\n",
    "* `age` — возраст пользователя (годы)\n",
    "* `reg_date` — дата подключения тарифа (день, месяц, год)\n",
    "* `churn_date` — дата прекращения пользования тарифом (если значение пропущено, то тариф ещё действовал на момент выгрузки данных)\n",
    "* `city` — город проживания пользователя\n",
    "* `tarif` — название тарифного плана"
   ]
  },
  {
   "cell_type": "markdown",
   "metadata": {},
   "source": [
    "## Изучение данных из файла"
   ]
  },
  {
   "cell_type": "code",
   "execution_count": 1,
   "metadata": {},
   "outputs": [],
   "source": [
    "# импортируем необходимые библиотеки\n",
    "import pandas as pd\n",
    "import math        \n",
    "import numpy as np\n",
    "import matplotlib.pyplot as plt\n",
    "from scipy import stats as st"
   ]
  },
  {
   "cell_type": "code",
   "execution_count": 2,
   "metadata": {},
   "outputs": [],
   "source": [
    "# открываем файл с данными\n",
    "calls = pd.read_csv('/datasets/calls.csv')\n",
    "internet = pd.read_csv('/datasets/internet.csv')\n",
    "messages = pd.read_csv('/datasets/messages.csv')\n",
    "tariffs = pd.read_csv('/datasets/tariffs.csv')\n",
    "users = pd.read_csv('/datasets/users.csv')"
   ]
  },
  {
   "cell_type": "code",
   "execution_count": 3,
   "metadata": {
    "scrolled": true
   },
   "outputs": [
    {
     "data": {
      "text/html": [
       "<div>\n",
       "<style scoped>\n",
       "    .dataframe tbody tr th:only-of-type {\n",
       "        vertical-align: middle;\n",
       "    }\n",
       "\n",
       "    .dataframe tbody tr th {\n",
       "        vertical-align: top;\n",
       "    }\n",
       "\n",
       "    .dataframe thead th {\n",
       "        text-align: right;\n",
       "    }\n",
       "</style>\n",
       "<table border=\"1\" class=\"dataframe\">\n",
       "  <thead>\n",
       "    <tr style=\"text-align: right;\">\n",
       "      <th></th>\n",
       "      <th>id</th>\n",
       "      <th>call_date</th>\n",
       "      <th>duration</th>\n",
       "      <th>user_id</th>\n",
       "    </tr>\n",
       "  </thead>\n",
       "  <tbody>\n",
       "    <tr>\n",
       "      <td>0</td>\n",
       "      <td>1000_0</td>\n",
       "      <td>2018-07-25</td>\n",
       "      <td>0.00</td>\n",
       "      <td>1000</td>\n",
       "    </tr>\n",
       "    <tr>\n",
       "      <td>1</td>\n",
       "      <td>1000_1</td>\n",
       "      <td>2018-08-17</td>\n",
       "      <td>0.00</td>\n",
       "      <td>1000</td>\n",
       "    </tr>\n",
       "    <tr>\n",
       "      <td>2</td>\n",
       "      <td>1000_2</td>\n",
       "      <td>2018-06-11</td>\n",
       "      <td>2.85</td>\n",
       "      <td>1000</td>\n",
       "    </tr>\n",
       "    <tr>\n",
       "      <td>3</td>\n",
       "      <td>1000_3</td>\n",
       "      <td>2018-09-21</td>\n",
       "      <td>13.80</td>\n",
       "      <td>1000</td>\n",
       "    </tr>\n",
       "    <tr>\n",
       "      <td>4</td>\n",
       "      <td>1000_4</td>\n",
       "      <td>2018-12-15</td>\n",
       "      <td>5.18</td>\n",
       "      <td>1000</td>\n",
       "    </tr>\n",
       "  </tbody>\n",
       "</table>\n",
       "</div>"
      ],
      "text/plain": [
       "       id   call_date  duration  user_id\n",
       "0  1000_0  2018-07-25      0.00     1000\n",
       "1  1000_1  2018-08-17      0.00     1000\n",
       "2  1000_2  2018-06-11      2.85     1000\n",
       "3  1000_3  2018-09-21     13.80     1000\n",
       "4  1000_4  2018-12-15      5.18     1000"
      ]
     },
     "execution_count": 3,
     "metadata": {},
     "output_type": "execute_result"
    }
   ],
   "source": [
    "# выводим первые пять строк наших данных\n",
    "calls.head()"
   ]
  },
  {
   "cell_type": "code",
   "execution_count": 4,
   "metadata": {
    "scrolled": false
   },
   "outputs": [
    {
     "name": "stdout",
     "output_type": "stream",
     "text": [
      "<class 'pandas.core.frame.DataFrame'>\n",
      "RangeIndex: 202607 entries, 0 to 202606\n",
      "Data columns (total 4 columns):\n",
      "id           202607 non-null object\n",
      "call_date    202607 non-null object\n",
      "duration     202607 non-null float64\n",
      "user_id      202607 non-null int64\n",
      "dtypes: float64(1), int64(1), object(2)\n",
      "memory usage: 6.2+ MB\n"
     ]
    }
   ],
   "source": [
    "# смотрим общую информацию наших данных\n",
    "calls.info()"
   ]
  },
  {
   "cell_type": "code",
   "execution_count": 5,
   "metadata": {},
   "outputs": [
    {
     "data": {
      "text/html": [
       "<div>\n",
       "<style scoped>\n",
       "    .dataframe tbody tr th:only-of-type {\n",
       "        vertical-align: middle;\n",
       "    }\n",
       "\n",
       "    .dataframe tbody tr th {\n",
       "        vertical-align: top;\n",
       "    }\n",
       "\n",
       "    .dataframe thead th {\n",
       "        text-align: right;\n",
       "    }\n",
       "</style>\n",
       "<table border=\"1\" class=\"dataframe\">\n",
       "  <thead>\n",
       "    <tr style=\"text-align: right;\">\n",
       "      <th></th>\n",
       "      <th>Unnamed: 0</th>\n",
       "      <th>id</th>\n",
       "      <th>mb_used</th>\n",
       "      <th>session_date</th>\n",
       "      <th>user_id</th>\n",
       "    </tr>\n",
       "  </thead>\n",
       "  <tbody>\n",
       "    <tr>\n",
       "      <td>0</td>\n",
       "      <td>0</td>\n",
       "      <td>1000_0</td>\n",
       "      <td>112.95</td>\n",
       "      <td>2018-11-25</td>\n",
       "      <td>1000</td>\n",
       "    </tr>\n",
       "    <tr>\n",
       "      <td>1</td>\n",
       "      <td>1</td>\n",
       "      <td>1000_1</td>\n",
       "      <td>1052.81</td>\n",
       "      <td>2018-09-07</td>\n",
       "      <td>1000</td>\n",
       "    </tr>\n",
       "    <tr>\n",
       "      <td>2</td>\n",
       "      <td>2</td>\n",
       "      <td>1000_2</td>\n",
       "      <td>1197.26</td>\n",
       "      <td>2018-06-25</td>\n",
       "      <td>1000</td>\n",
       "    </tr>\n",
       "    <tr>\n",
       "      <td>3</td>\n",
       "      <td>3</td>\n",
       "      <td>1000_3</td>\n",
       "      <td>550.27</td>\n",
       "      <td>2018-08-22</td>\n",
       "      <td>1000</td>\n",
       "    </tr>\n",
       "    <tr>\n",
       "      <td>4</td>\n",
       "      <td>4</td>\n",
       "      <td>1000_4</td>\n",
       "      <td>302.56</td>\n",
       "      <td>2018-09-24</td>\n",
       "      <td>1000</td>\n",
       "    </tr>\n",
       "  </tbody>\n",
       "</table>\n",
       "</div>"
      ],
      "text/plain": [
       "   Unnamed: 0      id  mb_used session_date  user_id\n",
       "0           0  1000_0   112.95   2018-11-25     1000\n",
       "1           1  1000_1  1052.81   2018-09-07     1000\n",
       "2           2  1000_2  1197.26   2018-06-25     1000\n",
       "3           3  1000_3   550.27   2018-08-22     1000\n",
       "4           4  1000_4   302.56   2018-09-24     1000"
      ]
     },
     "execution_count": 5,
     "metadata": {},
     "output_type": "execute_result"
    }
   ],
   "source": [
    "# выводим первые пять строк наших данных\n",
    "internet.head()"
   ]
  },
  {
   "cell_type": "code",
   "execution_count": 6,
   "metadata": {
    "scrolled": true
   },
   "outputs": [
    {
     "name": "stdout",
     "output_type": "stream",
     "text": [
      "<class 'pandas.core.frame.DataFrame'>\n",
      "RangeIndex: 149396 entries, 0 to 149395\n",
      "Data columns (total 5 columns):\n",
      "Unnamed: 0      149396 non-null int64\n",
      "id              149396 non-null object\n",
      "mb_used         149396 non-null float64\n",
      "session_date    149396 non-null object\n",
      "user_id         149396 non-null int64\n",
      "dtypes: float64(1), int64(2), object(2)\n",
      "memory usage: 5.7+ MB\n"
     ]
    }
   ],
   "source": [
    "# смотрим общую информацию наших данных\n",
    "internet.info()"
   ]
  },
  {
   "cell_type": "code",
   "execution_count": 7,
   "metadata": {},
   "outputs": [
    {
     "data": {
      "text/html": [
       "<div>\n",
       "<style scoped>\n",
       "    .dataframe tbody tr th:only-of-type {\n",
       "        vertical-align: middle;\n",
       "    }\n",
       "\n",
       "    .dataframe tbody tr th {\n",
       "        vertical-align: top;\n",
       "    }\n",
       "\n",
       "    .dataframe thead th {\n",
       "        text-align: right;\n",
       "    }\n",
       "</style>\n",
       "<table border=\"1\" class=\"dataframe\">\n",
       "  <thead>\n",
       "    <tr style=\"text-align: right;\">\n",
       "      <th></th>\n",
       "      <th>id</th>\n",
       "      <th>message_date</th>\n",
       "      <th>user_id</th>\n",
       "    </tr>\n",
       "  </thead>\n",
       "  <tbody>\n",
       "    <tr>\n",
       "      <td>0</td>\n",
       "      <td>1000_0</td>\n",
       "      <td>2018-06-27</td>\n",
       "      <td>1000</td>\n",
       "    </tr>\n",
       "    <tr>\n",
       "      <td>1</td>\n",
       "      <td>1000_1</td>\n",
       "      <td>2018-10-08</td>\n",
       "      <td>1000</td>\n",
       "    </tr>\n",
       "    <tr>\n",
       "      <td>2</td>\n",
       "      <td>1000_2</td>\n",
       "      <td>2018-08-04</td>\n",
       "      <td>1000</td>\n",
       "    </tr>\n",
       "    <tr>\n",
       "      <td>3</td>\n",
       "      <td>1000_3</td>\n",
       "      <td>2018-06-16</td>\n",
       "      <td>1000</td>\n",
       "    </tr>\n",
       "    <tr>\n",
       "      <td>4</td>\n",
       "      <td>1000_4</td>\n",
       "      <td>2018-12-05</td>\n",
       "      <td>1000</td>\n",
       "    </tr>\n",
       "  </tbody>\n",
       "</table>\n",
       "</div>"
      ],
      "text/plain": [
       "       id message_date  user_id\n",
       "0  1000_0   2018-06-27     1000\n",
       "1  1000_1   2018-10-08     1000\n",
       "2  1000_2   2018-08-04     1000\n",
       "3  1000_3   2018-06-16     1000\n",
       "4  1000_4   2018-12-05     1000"
      ]
     },
     "execution_count": 7,
     "metadata": {},
     "output_type": "execute_result"
    }
   ],
   "source": [
    "# выводим первые пять строк наших данных\n",
    "messages.head()"
   ]
  },
  {
   "cell_type": "code",
   "execution_count": 8,
   "metadata": {
    "scrolled": true
   },
   "outputs": [
    {
     "name": "stdout",
     "output_type": "stream",
     "text": [
      "<class 'pandas.core.frame.DataFrame'>\n",
      "RangeIndex: 123036 entries, 0 to 123035\n",
      "Data columns (total 3 columns):\n",
      "id              123036 non-null object\n",
      "message_date    123036 non-null object\n",
      "user_id         123036 non-null int64\n",
      "dtypes: int64(1), object(2)\n",
      "memory usage: 2.8+ MB\n"
     ]
    }
   ],
   "source": [
    "# смотрим общую информацию наших данных\n",
    "messages.info()"
   ]
  },
  {
   "cell_type": "code",
   "execution_count": 9,
   "metadata": {},
   "outputs": [
    {
     "data": {
      "text/html": [
       "<div>\n",
       "<style scoped>\n",
       "    .dataframe tbody tr th:only-of-type {\n",
       "        vertical-align: middle;\n",
       "    }\n",
       "\n",
       "    .dataframe tbody tr th {\n",
       "        vertical-align: top;\n",
       "    }\n",
       "\n",
       "    .dataframe thead th {\n",
       "        text-align: right;\n",
       "    }\n",
       "</style>\n",
       "<table border=\"1\" class=\"dataframe\">\n",
       "  <thead>\n",
       "    <tr style=\"text-align: right;\">\n",
       "      <th></th>\n",
       "      <th>messages_included</th>\n",
       "      <th>mb_per_month_included</th>\n",
       "      <th>minutes_included</th>\n",
       "      <th>rub_monthly_fee</th>\n",
       "      <th>rub_per_gb</th>\n",
       "      <th>rub_per_message</th>\n",
       "      <th>rub_per_minute</th>\n",
       "      <th>tariff_name</th>\n",
       "    </tr>\n",
       "  </thead>\n",
       "  <tbody>\n",
       "    <tr>\n",
       "      <td>0</td>\n",
       "      <td>50</td>\n",
       "      <td>15360</td>\n",
       "      <td>500</td>\n",
       "      <td>550</td>\n",
       "      <td>200</td>\n",
       "      <td>3</td>\n",
       "      <td>3</td>\n",
       "      <td>smart</td>\n",
       "    </tr>\n",
       "    <tr>\n",
       "      <td>1</td>\n",
       "      <td>1000</td>\n",
       "      <td>30720</td>\n",
       "      <td>3000</td>\n",
       "      <td>1950</td>\n",
       "      <td>150</td>\n",
       "      <td>1</td>\n",
       "      <td>1</td>\n",
       "      <td>ultra</td>\n",
       "    </tr>\n",
       "  </tbody>\n",
       "</table>\n",
       "</div>"
      ],
      "text/plain": [
       "   messages_included  mb_per_month_included  minutes_included  \\\n",
       "0                 50                  15360               500   \n",
       "1               1000                  30720              3000   \n",
       "\n",
       "   rub_monthly_fee  rub_per_gb  rub_per_message  rub_per_minute tariff_name  \n",
       "0              550         200                3               3       smart  \n",
       "1             1950         150                1               1       ultra  "
      ]
     },
     "execution_count": 9,
     "metadata": {},
     "output_type": "execute_result"
    }
   ],
   "source": [
    "# выводим первые пять строк наших данных\n",
    "tariffs.head()"
   ]
  },
  {
   "cell_type": "code",
   "execution_count": 10,
   "metadata": {
    "scrolled": true
   },
   "outputs": [
    {
     "name": "stdout",
     "output_type": "stream",
     "text": [
      "<class 'pandas.core.frame.DataFrame'>\n",
      "RangeIndex: 2 entries, 0 to 1\n",
      "Data columns (total 8 columns):\n",
      "messages_included        2 non-null int64\n",
      "mb_per_month_included    2 non-null int64\n",
      "minutes_included         2 non-null int64\n",
      "rub_monthly_fee          2 non-null int64\n",
      "rub_per_gb               2 non-null int64\n",
      "rub_per_message          2 non-null int64\n",
      "rub_per_minute           2 non-null int64\n",
      "tariff_name              2 non-null object\n",
      "dtypes: int64(7), object(1)\n",
      "memory usage: 256.0+ bytes\n"
     ]
    }
   ],
   "source": [
    "# смотрим общую информацию наших данных\n",
    "tariffs.info()"
   ]
  },
  {
   "cell_type": "code",
   "execution_count": 11,
   "metadata": {
    "scrolled": true
   },
   "outputs": [
    {
     "data": {
      "text/html": [
       "<div>\n",
       "<style scoped>\n",
       "    .dataframe tbody tr th:only-of-type {\n",
       "        vertical-align: middle;\n",
       "    }\n",
       "\n",
       "    .dataframe tbody tr th {\n",
       "        vertical-align: top;\n",
       "    }\n",
       "\n",
       "    .dataframe thead th {\n",
       "        text-align: right;\n",
       "    }\n",
       "</style>\n",
       "<table border=\"1\" class=\"dataframe\">\n",
       "  <thead>\n",
       "    <tr style=\"text-align: right;\">\n",
       "      <th></th>\n",
       "      <th>user_id</th>\n",
       "      <th>age</th>\n",
       "      <th>churn_date</th>\n",
       "      <th>city</th>\n",
       "      <th>first_name</th>\n",
       "      <th>last_name</th>\n",
       "      <th>reg_date</th>\n",
       "      <th>tariff</th>\n",
       "    </tr>\n",
       "  </thead>\n",
       "  <tbody>\n",
       "    <tr>\n",
       "      <td>0</td>\n",
       "      <td>1000</td>\n",
       "      <td>52</td>\n",
       "      <td>NaN</td>\n",
       "      <td>Краснодар</td>\n",
       "      <td>Рафаил</td>\n",
       "      <td>Верещагин</td>\n",
       "      <td>2018-05-25</td>\n",
       "      <td>ultra</td>\n",
       "    </tr>\n",
       "    <tr>\n",
       "      <td>1</td>\n",
       "      <td>1001</td>\n",
       "      <td>41</td>\n",
       "      <td>NaN</td>\n",
       "      <td>Москва</td>\n",
       "      <td>Иван</td>\n",
       "      <td>Ежов</td>\n",
       "      <td>2018-11-01</td>\n",
       "      <td>smart</td>\n",
       "    </tr>\n",
       "    <tr>\n",
       "      <td>2</td>\n",
       "      <td>1002</td>\n",
       "      <td>59</td>\n",
       "      <td>NaN</td>\n",
       "      <td>Стерлитамак</td>\n",
       "      <td>Евгений</td>\n",
       "      <td>Абрамович</td>\n",
       "      <td>2018-06-17</td>\n",
       "      <td>smart</td>\n",
       "    </tr>\n",
       "    <tr>\n",
       "      <td>3</td>\n",
       "      <td>1003</td>\n",
       "      <td>23</td>\n",
       "      <td>NaN</td>\n",
       "      <td>Москва</td>\n",
       "      <td>Белла</td>\n",
       "      <td>Белякова</td>\n",
       "      <td>2018-08-17</td>\n",
       "      <td>ultra</td>\n",
       "    </tr>\n",
       "    <tr>\n",
       "      <td>4</td>\n",
       "      <td>1004</td>\n",
       "      <td>68</td>\n",
       "      <td>NaN</td>\n",
       "      <td>Новокузнецк</td>\n",
       "      <td>Татьяна</td>\n",
       "      <td>Авдеенко</td>\n",
       "      <td>2018-05-14</td>\n",
       "      <td>ultra</td>\n",
       "    </tr>\n",
       "  </tbody>\n",
       "</table>\n",
       "</div>"
      ],
      "text/plain": [
       "   user_id  age churn_date         city first_name  last_name    reg_date  \\\n",
       "0     1000   52        NaN    Краснодар     Рафаил  Верещагин  2018-05-25   \n",
       "1     1001   41        NaN       Москва       Иван       Ежов  2018-11-01   \n",
       "2     1002   59        NaN  Стерлитамак    Евгений  Абрамович  2018-06-17   \n",
       "3     1003   23        NaN       Москва      Белла   Белякова  2018-08-17   \n",
       "4     1004   68        NaN  Новокузнецк    Татьяна   Авдеенко  2018-05-14   \n",
       "\n",
       "  tariff  \n",
       "0  ultra  \n",
       "1  smart  \n",
       "2  smart  \n",
       "3  ultra  \n",
       "4  ultra  "
      ]
     },
     "execution_count": 11,
     "metadata": {},
     "output_type": "execute_result"
    }
   ],
   "source": [
    "# выводим первые пять строк наших данных\n",
    "users.head()"
   ]
  },
  {
   "cell_type": "code",
   "execution_count": 12,
   "metadata": {
    "scrolled": true
   },
   "outputs": [
    {
     "name": "stdout",
     "output_type": "stream",
     "text": [
      "<class 'pandas.core.frame.DataFrame'>\n",
      "RangeIndex: 500 entries, 0 to 499\n",
      "Data columns (total 8 columns):\n",
      "user_id       500 non-null int64\n",
      "age           500 non-null int64\n",
      "churn_date    38 non-null object\n",
      "city          500 non-null object\n",
      "first_name    500 non-null object\n",
      "last_name     500 non-null object\n",
      "reg_date      500 non-null object\n",
      "tariff        500 non-null object\n",
      "dtypes: int64(2), object(6)\n",
      "memory usage: 31.4+ KB\n"
     ]
    }
   ],
   "source": [
    "# смотрим общую информацию наших данных\n",
    "users.info()"
   ]
  },
  {
   "cell_type": "code",
   "execution_count": 13,
   "metadata": {},
   "outputs": [
    {
     "data": {
      "text/html": [
       "<div>\n",
       "<style scoped>\n",
       "    .dataframe tbody tr th:only-of-type {\n",
       "        vertical-align: middle;\n",
       "    }\n",
       "\n",
       "    .dataframe tbody tr th {\n",
       "        vertical-align: top;\n",
       "    }\n",
       "\n",
       "    .dataframe thead th {\n",
       "        text-align: right;\n",
       "    }\n",
       "</style>\n",
       "<table border=\"1\" class=\"dataframe\">\n",
       "  <thead>\n",
       "    <tr style=\"text-align: right;\">\n",
       "      <th></th>\n",
       "      <th>count</th>\n",
       "      <th>mean</th>\n",
       "      <th>std</th>\n",
       "      <th>min</th>\n",
       "      <th>25%</th>\n",
       "      <th>50%</th>\n",
       "      <th>75%</th>\n",
       "      <th>max</th>\n",
       "    </tr>\n",
       "  </thead>\n",
       "  <tbody>\n",
       "    <tr>\n",
       "      <td>user_id</td>\n",
       "      <td>500.0</td>\n",
       "      <td>1249.500</td>\n",
       "      <td>144.481833</td>\n",
       "      <td>1000.0</td>\n",
       "      <td>1124.75</td>\n",
       "      <td>1249.5</td>\n",
       "      <td>1374.25</td>\n",
       "      <td>1499.0</td>\n",
       "    </tr>\n",
       "    <tr>\n",
       "      <td>age</td>\n",
       "      <td>500.0</td>\n",
       "      <td>46.588</td>\n",
       "      <td>16.667630</td>\n",
       "      <td>18.0</td>\n",
       "      <td>32.00</td>\n",
       "      <td>46.0</td>\n",
       "      <td>62.00</td>\n",
       "      <td>75.0</td>\n",
       "    </tr>\n",
       "  </tbody>\n",
       "</table>\n",
       "</div>"
      ],
      "text/plain": [
       "         count      mean         std     min      25%     50%      75%     max\n",
       "user_id  500.0  1249.500  144.481833  1000.0  1124.75  1249.5  1374.25  1499.0\n",
       "age      500.0    46.588   16.667630    18.0    32.00    46.0    62.00    75.0"
      ]
     },
     "execution_count": 13,
     "metadata": {},
     "output_type": "execute_result"
    }
   ],
   "source": [
    "users.describe().T"
   ]
  },
  {
   "cell_type": "markdown",
   "metadata": {},
   "source": [
    "###### Описание данных\n",
    "\n",
    "###### Таблица calls (информация о звонках):\n",
    "* `id` — уникальный номер звонка\n",
    "* `call_date` — дата звонка\n",
    "* `duration` — длительность звонка в минутах\n",
    "* `user_id` — идентификатор пользователя, сделавшего звонок\n",
    "\n",
    "###### Таблица internet (информация об интернет-сессиях):\n",
    "* `id` — уникальный номер сессии\n",
    "* `mb_used` — объём потраченного за сессию интернет-трафика (в мегабайтах)\n",
    "* `session_date` — дата интернет-сессии\n",
    "* `user_id` — идентификатор пользователя\n",
    "\n",
    "###### Таблица messages (информация о сообщениях):\n",
    "* `id` — уникальный номер сообщения\n",
    "* `message_date` — дата сообщения\n",
    "* `user_id` — идентификатор пользователя, отправившего сообщение\n",
    "\n",
    "###### Таблица tariffs (информация о тарифах):\n",
    "* `tariff_name` — название тарифа\n",
    "* `rub_monthly_fee` — ежемесячная абонентская плата в рублях\n",
    "* `minutes_included` — количество минут разговора в месяц, включённых в абонентскую плату\n",
    "* `messages_included` — количество сообщений в месяц, включённых в абонентскую плату\n",
    "* `mb_per_month_included` — объём интернет-трафика, включённого в абонентскую плату (в мегабайтах)\n",
    "* `rub_per_minute` — стоимость минуты разговора сверх тарифного пакета (например, если в тарифе 100 минут разговора в месяц, то со 101 минуты будет взиматься плата)\n",
    "* `rub_per_message` — стоимость отправки сообщения сверх тарифного пакета\n",
    "* `rub_per_gb` — стоимость дополнительного гигабайта интернет-трафика сверх тарифного пакета (1 гигабайт = 1024 мегабайта)\n",
    "\n",
    "###### Таблица users (информация о пользователях):\n",
    "* `user_id` — уникальный идентификатор пользователя\n",
    "* `first_name` — имя пользователя\n",
    "* `last_name` — фамилия пользователя\n",
    "* `age` — возраст пользователя (годы)\n",
    "* `reg_date` — дата подключения тарифа (день, месяц, год)\n",
    "* `churn_date` — дата прекращения пользования тарифом (если значение пропущено, то тариф ещё действовал на момент выгрузки данных)\n",
    "* `city` — город проживания пользователя\n",
    "* `tarif` — название тарифного плана"
   ]
  },
  {
   "cell_type": "markdown",
   "metadata": {},
   "source": [
    "### Вывод"
   ]
  },
  {
   "cell_type": "markdown",
   "metadata": {},
   "source": [
    "Из пяти таблиц данных только в одной - `users` есть пропущенные значения, но так-как их отсутствие не влияет на результат проверки гипотез, то можно не трогать этот столбец. Так же, необходимо в четырех таблицах поменять тп данных.\n",
    "\n",
    "Предварительно можно утверждать, что, данных достаточно для исследования.\n",
    "\n",
    "Чтобы двигаться дальше, нужно устранить проблемы в данных."
   ]
  },
  {
   "cell_type": "markdown",
   "metadata": {},
   "source": [
    "## Предобработка данных"
   ]
  },
  {
   "cell_type": "code",
   "execution_count": 14,
   "metadata": {},
   "outputs": [],
   "source": [
    "# переводим дату в удобный формат\n",
    "# calls['call_date'] = pd.to_datetime(calls['call_date'], format='%Y %m %dT%H:%M:%S')\n",
    "DATETIME = '%Y %m %dT%H:%M:%S'\n",
    "calls['call_date'] = pd.to_datetime(calls['call_date'], format=DATETIME)"
   ]
  },
  {
   "cell_type": "code",
   "execution_count": 15,
   "metadata": {},
   "outputs": [],
   "source": [
    "# переводим продолжительность звонка в минуты и меняем тип данных\n",
    "calls['duration_min'] = calls['duration'].apply(np.ceil).astype('int64')"
   ]
  },
  {
   "cell_type": "code",
   "execution_count": 16,
   "metadata": {},
   "outputs": [],
   "source": [
    "# извлекаем месяц из даты\n",
    "calls['month'] = calls['call_date'].dt.month"
   ]
  },
  {
   "cell_type": "code",
   "execution_count": 17,
   "metadata": {},
   "outputs": [],
   "source": [
    "# переводим дату в удобный формат\n",
    "internet['session_date'] = pd.to_datetime(internet['session_date'], format='%Y %m %dT%H:%M:%S')"
   ]
  },
  {
   "cell_type": "code",
   "execution_count": 18,
   "metadata": {},
   "outputs": [],
   "source": [
    "# меняем тип данных\n",
    "internet['mb_used'] = internet['mb_used'].astype('int64')"
   ]
  },
  {
   "cell_type": "code",
   "execution_count": 19,
   "metadata": {},
   "outputs": [],
   "source": [
    "# извлекаем месяц из даты\n",
    "internet['month'] = internet['session_date'].dt.month"
   ]
  },
  {
   "cell_type": "code",
   "execution_count": 20,
   "metadata": {},
   "outputs": [],
   "source": [
    "# переводим дату в удобный формат\n",
    "messages['message_date'] = pd.to_datetime(messages['message_date'], format='%Y %m %dT%H:%M:%S')"
   ]
  },
  {
   "cell_type": "code",
   "execution_count": 21,
   "metadata": {},
   "outputs": [],
   "source": [
    "# извлекаем месяц из даты\n",
    "messages['month'] = messages['message_date'].dt.month"
   ]
  },
  {
   "cell_type": "code",
   "execution_count": 22,
   "metadata": {},
   "outputs": [],
   "source": [
    "# создаем новый датафрейм с соответствующими столбцами\n",
    "total_frame = pd.DataFrame(columns = ['user_id'\n",
    "                                      ,'month'\n",
    "                                    ,'calls_count'\n",
    "                                    ,'calls_sum'\n",
    "                                   ,'messages_count'\n",
    "                                   ,'internet_sum'])"
   ]
  },
  {
   "cell_type": "code",
   "execution_count": 23,
   "metadata": {},
   "outputs": [],
   "source": [
    "# добаляем значения в новый датафрейм\n",
    "# цикл с переменным проходящим по id-пользователям  \n",
    "for user in users['user_id']:\n",
    "    # цикл с переменным проходящим по месяцам \n",
    "    for m in range(1, 13):\n",
    "        # если значение месяца присутствует в переведенный в нампай массиве звонков и сообщений, то считаем:\n",
    "        if ((m in calls.query('user_id==@user')['month'].to_numpy()) \n",
    "            or (m in messages.query('user_id==@user')['month'].to_numpy())):\n",
    "            \n",
    "            calls_count = calls.query('user_id == @user and month == @m').shape[0] # количество звонков \n",
    "            calls_sum = calls.query('user_id == @user and month == @m')['duration_min'].sum() # сумму продолжительности звонков\n",
    "            messages_count = messages.query('user_id == @user and month == @m').shape[0] # количество смс\n",
    "            internet_sum = internet.query('user_id == @user and month == @m')['mb_used'].sum() # сумму использованного интернета\n",
    "            # добавляем значения в новую таблицу\n",
    "            total_frame = total_frame.append({'user_id':user,\n",
    "                               'month':m,             \n",
    "                               'calls_count':calls_count,\n",
    "                               'calls_sum':calls_sum,\n",
    "                               'messages_count':messages_count,\n",
    "                               'internet_sum':internet_sum             \n",
    "                                           }, ignore_index=True)"
   ]
  },
  {
   "cell_type": "code",
   "execution_count": 24,
   "metadata": {},
   "outputs": [
    {
     "name": "stdout",
     "output_type": "stream",
     "text": [
      "<class 'pandas.core.frame.DataFrame'>\n",
      "RangeIndex: 3213 entries, 0 to 3212\n",
      "Data columns (total 6 columns):\n",
      "user_id           3213 non-null object\n",
      "month             3213 non-null object\n",
      "calls_count       3213 non-null object\n",
      "calls_sum         3213 non-null object\n",
      "messages_count    3213 non-null object\n",
      "internet_sum      3213 non-null object\n",
      "dtypes: object(6)\n",
      "memory usage: 150.7+ KB\n"
     ]
    }
   ],
   "source": [
    "# смотрим общую информацию наших данных\n",
    "total_frame.info()"
   ]
  },
  {
   "cell_type": "code",
   "execution_count": 25,
   "metadata": {},
   "outputs": [],
   "source": [
    "# меняем тип данных для столбцов на соответсвущий \n",
    "total_frame['user_id'] = total_frame['user_id'].astype('int')\n",
    "total_frame['month'] = total_frame['month'].astype('int')\n",
    "total_frame['calls_count'] = total_frame['calls_count'].astype('int')\n",
    "total_frame['messages_count'] = total_frame['messages_count'].astype('int')\n",
    "total_frame['internet_sum'] = total_frame['internet_sum'].astype('int')"
   ]
  },
  {
   "cell_type": "code",
   "execution_count": 26,
   "metadata": {},
   "outputs": [],
   "source": [
    "# добавляем в таблицу два дополнительных столбца\n",
    "total_frame = total_frame.merge(users[['user_id','tariff']], on = 'user_id')\n",
    "total_frame = total_frame.merge(users[['user_id','city']], on = 'user_id')"
   ]
  },
  {
   "cell_type": "code",
   "execution_count": 27,
   "metadata": {},
   "outputs": [],
   "source": [
    "# функция для расчета помесячной выручки с каждого пользователя \n",
    "def get_income(row):\n",
    "    # переменные для хранения выручки тарифа smart:\n",
    "    calls_over_smart = 0 \n",
    "    messages_over_smart = 0\n",
    "    gb_over_smart = 0\n",
    "    pay_smart = 0\n",
    "    # переменные для хранения выручки тарифа ultra:\n",
    "    calls_over_ultra = 0\n",
    "    messages_over_ultra = 0\n",
    "    gb_over_ultra = 0\n",
    "    pay_ultra = 0\n",
    "    # оператор для выручки тарифа smart\n",
    "    if row['tariff']=='smart':\n",
    "        if row['calls_sum'] > tariffs['minutes_included'][0]: \n",
    "            calls_over_smart = tariffs['rub_monthly_fee'][0]+(row['calls_sum'] - tariffs['minutes_included'][0])*tariffs['rub_per_minute'][0]\n",
    "        else:\n",
    "            calls_over_smart = tariffs['rub_monthly_fee'][0]\n",
    "        if row['messages_count'] > tariffs['messages_included'][0]:\n",
    "            messages_over_smart = (row['messages_count'] - tariffs['messages_included'][0])*tariffs['rub_per_message'][0]\n",
    "        if row['internet_sum'] > tariffs['mb_per_month_included'][0]:\n",
    "            gb_over_smart = (row['internet_sum'] - tariffs['mb_per_month_included'][0])*tariffs['rub_per_gb'][0]/1024\n",
    "        pay_smart = (calls_over_smart + messages_over_smart + gb_over_smart)\n",
    "        \n",
    "        return pay_smart\n",
    "    # оператор для выручки тарифа ultra\n",
    "    if row['tariff']=='ultra':\n",
    "        if row['calls_sum'] > tariffs['minutes_included'][1]: \n",
    "            calls_over_ultra = tariffs['rub_monthly_fee'][1]+(row['calls_sum'] - tariffs['minutes_included'][1])*tariffs['rub_per_minute'][1]\n",
    "        else:\n",
    "            calls_over_ultra = tariffs['rub_monthly_fee'][1]\n",
    "        if row['messages_count'] > tariffs['messages_included'][1]:\n",
    "            messages_over_ultra = (row['messages_count'] - tariffs['messages_included'][1])*tariffs['rub_per_message'][1]\n",
    "        if row['internet_sum'] > tariffs['mb_per_month_included'][1]:\n",
    "            gb_over_ultra = (row['internet_sum'] - tariffs['mb_per_month_included'][1])*tariffs['rub_per_gb'][1]/1024\n",
    "        pay_ultra = (calls_over_ultra + messages_over_ultra + gb_over_ultra)\n",
    "        \n",
    "        return pay_ultra  "
   ]
  },
  {
   "cell_type": "code",
   "execution_count": 28,
   "metadata": {},
   "outputs": [],
   "source": [
    "# новый столбец выручки\n",
    "total_frame['payment'] = total_frame.apply(get_income, axis=1)"
   ]
  },
  {
   "cell_type": "code",
   "execution_count": 29,
   "metadata": {
    "scrolled": true
   },
   "outputs": [
    {
     "data": {
      "text/html": [
       "<div>\n",
       "<style scoped>\n",
       "    .dataframe tbody tr th:only-of-type {\n",
       "        vertical-align: middle;\n",
       "    }\n",
       "\n",
       "    .dataframe tbody tr th {\n",
       "        vertical-align: top;\n",
       "    }\n",
       "\n",
       "    .dataframe thead th {\n",
       "        text-align: right;\n",
       "    }\n",
       "</style>\n",
       "<table border=\"1\" class=\"dataframe\">\n",
       "  <thead>\n",
       "    <tr style=\"text-align: right;\">\n",
       "      <th></th>\n",
       "      <th>user_id</th>\n",
       "      <th>month</th>\n",
       "      <th>calls_count</th>\n",
       "      <th>calls_sum</th>\n",
       "      <th>messages_count</th>\n",
       "      <th>internet_sum</th>\n",
       "      <th>tariff</th>\n",
       "      <th>city</th>\n",
       "      <th>payment</th>\n",
       "    </tr>\n",
       "  </thead>\n",
       "  <tbody>\n",
       "    <tr>\n",
       "      <td>0</td>\n",
       "      <td>1000</td>\n",
       "      <td>5</td>\n",
       "      <td>22</td>\n",
       "      <td>159</td>\n",
       "      <td>22</td>\n",
       "      <td>2252</td>\n",
       "      <td>ultra</td>\n",
       "      <td>Краснодар</td>\n",
       "      <td>1950.0</td>\n",
       "    </tr>\n",
       "    <tr>\n",
       "      <td>1</td>\n",
       "      <td>1000</td>\n",
       "      <td>6</td>\n",
       "      <td>43</td>\n",
       "      <td>172</td>\n",
       "      <td>60</td>\n",
       "      <td>23213</td>\n",
       "      <td>ultra</td>\n",
       "      <td>Краснодар</td>\n",
       "      <td>1950.0</td>\n",
       "    </tr>\n",
       "    <tr>\n",
       "      <td>2</td>\n",
       "      <td>1000</td>\n",
       "      <td>7</td>\n",
       "      <td>47</td>\n",
       "      <td>340</td>\n",
       "      <td>75</td>\n",
       "      <td>13988</td>\n",
       "      <td>ultra</td>\n",
       "      <td>Краснодар</td>\n",
       "      <td>1950.0</td>\n",
       "    </tr>\n",
       "    <tr>\n",
       "      <td>3</td>\n",
       "      <td>1000</td>\n",
       "      <td>8</td>\n",
       "      <td>52</td>\n",
       "      <td>408</td>\n",
       "      <td>81</td>\n",
       "      <td>14043</td>\n",
       "      <td>ultra</td>\n",
       "      <td>Краснодар</td>\n",
       "      <td>1950.0</td>\n",
       "    </tr>\n",
       "    <tr>\n",
       "      <td>4</td>\n",
       "      <td>1000</td>\n",
       "      <td>9</td>\n",
       "      <td>58</td>\n",
       "      <td>466</td>\n",
       "      <td>57</td>\n",
       "      <td>14556</td>\n",
       "      <td>ultra</td>\n",
       "      <td>Краснодар</td>\n",
       "      <td>1950.0</td>\n",
       "    </tr>\n",
       "  </tbody>\n",
       "</table>\n",
       "</div>"
      ],
      "text/plain": [
       "   user_id  month  calls_count calls_sum  messages_count  internet_sum tariff  \\\n",
       "0     1000      5           22       159              22          2252  ultra   \n",
       "1     1000      6           43       172              60         23213  ultra   \n",
       "2     1000      7           47       340              75         13988  ultra   \n",
       "3     1000      8           52       408              81         14043  ultra   \n",
       "4     1000      9           58       466              57         14556  ultra   \n",
       "\n",
       "        city  payment  \n",
       "0  Краснодар   1950.0  \n",
       "1  Краснодар   1950.0  \n",
       "2  Краснодар   1950.0  \n",
       "3  Краснодар   1950.0  \n",
       "4  Краснодар   1950.0  "
      ]
     },
     "execution_count": 29,
     "metadata": {},
     "output_type": "execute_result"
    }
   ],
   "source": [
    "# выводим первые пять строк наших данных\n",
    "total_frame.head()"
   ]
  },
  {
   "cell_type": "code",
   "execution_count": 30,
   "metadata": {},
   "outputs": [
    {
     "name": "stdout",
     "output_type": "stream",
     "text": [
      "<class 'pandas.core.frame.DataFrame'>\n",
      "Int64Index: 3213 entries, 0 to 3212\n",
      "Data columns (total 9 columns):\n",
      "user_id           3213 non-null int64\n",
      "month             3213 non-null int64\n",
      "calls_count       3213 non-null int64\n",
      "calls_sum         3213 non-null object\n",
      "messages_count    3213 non-null int64\n",
      "internet_sum      3213 non-null int64\n",
      "tariff            3213 non-null object\n",
      "city              3213 non-null object\n",
      "payment           3213 non-null float64\n",
      "dtypes: float64(1), int64(5), object(3)\n",
      "memory usage: 251.0+ KB\n"
     ]
    }
   ],
   "source": [
    "# смотрим общую информацию наших данных\n",
    "total_frame.info()"
   ]
  },
  {
   "cell_type": "code",
   "execution_count": 31,
   "metadata": {},
   "outputs": [],
   "source": [
    "# изменяем тип данных\n",
    "total_frame['calls_sum'] = total_frame['calls_sum'].astype('int')"
   ]
  },
  {
   "cell_type": "markdown",
   "metadata": {},
   "source": [
    "### Вывод"
   ]
  },
  {
   "cell_type": "markdown",
   "metadata": {},
   "source": [
    "По предобработке данных было:\n",
    "* перевед даты в удобный формат,\n",
    "* перевед продолжительности звонка в минуты,\n",
    "* замена типа данных столбцов.\n",
    "\n",
    "Помимо предобработки был создан новый датафрейм в который были добавлены такие столбцы как:\n",
    "* `user_id` - уникальный идентификатор пользователя\n",
    "* `month` - месяц года, в течении которого пользователь используют тариф \n",
    "* `calls_count` - количество звонков пользователя\n",
    "* `calls_sum` - сумма продолжительности звонков\n",
    "* `messages_count` - количество смс\n",
    "* `internet_sum` - сумма использованного интернета\n",
    "* `tariff` - вид тарифа\n",
    "* `city` - город пользователя\n",
    "* `payment` - помесячный платеж пользователя за свой тариф."
   ]
  },
  {
   "cell_type": "markdown",
   "metadata": {},
   "source": [
    "## Анализ данных"
   ]
  },
  {
   "cell_type": "code",
   "execution_count": 32,
   "metadata": {
    "scrolled": true
   },
   "outputs": [
    {
     "data": {
      "text/html": [
       "<div>\n",
       "<style scoped>\n",
       "    .dataframe tbody tr th:only-of-type {\n",
       "        vertical-align: middle;\n",
       "    }\n",
       "\n",
       "    .dataframe tbody tr th {\n",
       "        vertical-align: top;\n",
       "    }\n",
       "\n",
       "    .dataframe thead tr th {\n",
       "        text-align: left;\n",
       "    }\n",
       "\n",
       "    .dataframe thead tr:last-of-type th {\n",
       "        text-align: right;\n",
       "    }\n",
       "</style>\n",
       "<table border=\"1\" class=\"dataframe\">\n",
       "  <thead>\n",
       "    <tr>\n",
       "      <th></th>\n",
       "      <th colspan=\"4\" halign=\"left\">mean</th>\n",
       "      <th colspan=\"4\" halign=\"left\">median</th>\n",
       "      <th colspan=\"4\" halign=\"left\">var</th>\n",
       "      <th colspan=\"4\" halign=\"left\">std</th>\n",
       "    </tr>\n",
       "    <tr>\n",
       "      <th></th>\n",
       "      <th>calls_sum</th>\n",
       "      <th>internet_sum</th>\n",
       "      <th>messages_count</th>\n",
       "      <th>payment</th>\n",
       "      <th>calls_sum</th>\n",
       "      <th>internet_sum</th>\n",
       "      <th>messages_count</th>\n",
       "      <th>payment</th>\n",
       "      <th>calls_sum</th>\n",
       "      <th>internet_sum</th>\n",
       "      <th>messages_count</th>\n",
       "      <th>payment</th>\n",
       "      <th>calls_sum</th>\n",
       "      <th>internet_sum</th>\n",
       "      <th>messages_count</th>\n",
       "      <th>payment</th>\n",
       "    </tr>\n",
       "    <tr>\n",
       "      <th>tariff</th>\n",
       "      <th></th>\n",
       "      <th></th>\n",
       "      <th></th>\n",
       "      <th></th>\n",
       "      <th></th>\n",
       "      <th></th>\n",
       "      <th></th>\n",
       "      <th></th>\n",
       "      <th></th>\n",
       "      <th></th>\n",
       "      <th></th>\n",
       "      <th></th>\n",
       "      <th></th>\n",
       "      <th></th>\n",
       "      <th></th>\n",
       "      <th></th>\n",
       "    </tr>\n",
       "  </thead>\n",
       "  <tbody>\n",
       "    <tr>\n",
       "      <td>smart</td>\n",
       "      <td>417.934948</td>\n",
       "      <td>16187.578735</td>\n",
       "      <td>33.384029</td>\n",
       "      <td>1227.543367</td>\n",
       "      <td>422.0</td>\n",
       "      <td>16482.0</td>\n",
       "      <td>28</td>\n",
       "      <td>953.539062</td>\n",
       "      <td>36219.315784</td>\n",
       "      <td>3.437981e+07</td>\n",
       "      <td>796.812958</td>\n",
       "      <td>614285.712829</td>\n",
       "      <td>190.313730</td>\n",
       "      <td>5863.430302</td>\n",
       "      <td>28.227876</td>\n",
       "      <td>783.763812</td>\n",
       "    </tr>\n",
       "    <tr>\n",
       "      <td>ultra</td>\n",
       "      <td>527.158537</td>\n",
       "      <td>19469.871951</td>\n",
       "      <td>49.413618</td>\n",
       "      <td>2059.317835</td>\n",
       "      <td>518.5</td>\n",
       "      <td>19292.5</td>\n",
       "      <td>38</td>\n",
       "      <td>1950.000000</td>\n",
       "      <td>100693.836489</td>\n",
       "      <td>1.013048e+08</td>\n",
       "      <td>2285.109519</td>\n",
       "      <td>125052.914584</td>\n",
       "      <td>317.322921</td>\n",
       "      <td>10065.031021</td>\n",
       "      <td>47.802819</td>\n",
       "      <td>353.628215</td>\n",
       "    </tr>\n",
       "  </tbody>\n",
       "</table>\n",
       "</div>"
      ],
      "text/plain": [
       "              mean                                              median  \\\n",
       "         calls_sum  internet_sum messages_count      payment calls_sum   \n",
       "tariff                                                                   \n",
       "smart   417.934948  16187.578735      33.384029  1227.543367     422.0   \n",
       "ultra   527.158537  19469.871951      49.413618  2059.317835     518.5   \n",
       "\n",
       "                                                           var                \\\n",
       "       internet_sum messages_count      payment      calls_sum  internet_sum   \n",
       "tariff                                                                         \n",
       "smart       16482.0             28   953.539062   36219.315784  3.437981e+07   \n",
       "ultra       19292.5             38  1950.000000  100693.836489  1.013048e+08   \n",
       "\n",
       "                                             std                               \\\n",
       "       messages_count        payment   calls_sum  internet_sum messages_count   \n",
       "tariff                                                                          \n",
       "smart      796.812958  614285.712829  190.313730   5863.430302      28.227876   \n",
       "ultra     2285.109519  125052.914584  317.322921  10065.031021      47.802819   \n",
       "\n",
       "                    \n",
       "           payment  \n",
       "tariff              \n",
       "smart   783.763812  \n",
       "ultra   353.628215  "
      ]
     },
     "execution_count": 32,
     "metadata": {},
     "output_type": "execute_result"
    }
   ],
   "source": [
    "# посчитаем среднее количество, дисперсию и стандартное отклонение\n",
    "total_frame.pivot_table(index = 'tariff', \n",
    "              values = ['calls_sum', 'messages_count', 'internet_sum','payment'], \n",
    "                        aggfunc = ['mean', 'median', 'var', 'std'])"
   ]
  },
  {
   "cell_type": "code",
   "execution_count": 33,
   "metadata": {},
   "outputs": [
    {
     "data": {
      "image/png": "[encoded data removed]",
      "text/plain": [
       "<Figure size 864x576 with 1 Axes>"
      ]
     },
     "metadata": {
      "needs_background": "light"
     },
     "output_type": "display_data"
    }
   ],
   "source": [
    "# построим гистограмму для суммы продолжительности звонков\n",
    "calls_sum_smart = total_frame.loc[total_frame['tariff'] == 'smart']['calls_sum']\n",
    "calls_sum_ultra = total_frame.loc[total_frame['tariff'] == 'ultra']['calls_sum']\n",
    "\n",
    "ax = calls_sum_smart.plot(\n",
    "    kind='hist',\n",
    "    bins=50,\n",
    "    alpha=0.7,\n",
    "    label='smart',\n",
    "    figsize=(12, 8)\n",
    ")\n",
    "calls_sum_ultra.plot(\n",
    "    kind='hist',\n",
    "    bins=50,\n",
    "    alpha=0.7,\n",
    "    label='ultra',\n",
    "    ax=ax,\n",
    "    grid=True,\n",
    "    legend=True\n",
    ") \n",
    "plt.xlabel('Продолжительность звонков (мин)')\n",
    "plt.ylabel('Частота (шт)')\n",
    "plt.title('Помесячная продолжительность звонков (за 12 месяцев)')\n",
    "plt.legend()\n",
    "plt.show()\n",
    "\n"
   ]
  },
  {
   "cell_type": "code",
   "execution_count": 34,
   "metadata": {},
   "outputs": [
    {
     "data": {
      "image/png": "[encoded data removed]",
      "text/plain": [
       "<Figure size 864x576 with 1 Axes>"
      ]
     },
     "metadata": {
      "needs_background": "light"
     },
     "output_type": "display_data"
    }
   ],
   "source": [
    "# построим гистограмму для количества смс\n",
    "messages_count_smart = total_frame.loc[total_frame['tariff'] == 'smart']['messages_count']\n",
    "messages_count_ultra = total_frame.loc[total_frame['tariff'] == 'ultra']['messages_count']\n",
    "\n",
    "ax = messages_count_smart.plot(\n",
    "    kind='hist',\n",
    "    bins=50,\n",
    "    alpha=0.7,\n",
    "    label='smart',\n",
    "    figsize=(12, 8)\n",
    ")\n",
    "messages_count_ultra.plot(\n",
    "    kind='hist',\n",
    "    bins=50,\n",
    "    alpha=0.7,\n",
    "    label='ultra',\n",
    "    ax=ax,\n",
    "    grid=True,\n",
    "    legend=True,\n",
    ") \n",
    "plt.xlabel('Использованное количество сообщений (шт)')\n",
    "plt.ylabel('Частота (шт)')\n",
    "plt.title('Помесячное количество сообщений (за 12 месяцев)')\n",
    "plt.legend()\n",
    "plt.show()"
   ]
  },
  {
   "cell_type": "code",
   "execution_count": 35,
   "metadata": {},
   "outputs": [
    {
     "data": {
      "image/png": "[encoded data removed]",
      "text/plain": [
       "<Figure size 864x576 with 1 Axes>"
      ]
     },
     "metadata": {
      "needs_background": "light"
     },
     "output_type": "display_data"
    }
   ],
   "source": [
    "# построим гистограмму для суммы использованного инетернета\n",
    "internet_sum_smart = total_frame.loc[total_frame['tariff'] == 'smart']['internet_sum']\n",
    "internet_sum_ultra = total_frame.loc[total_frame['tariff'] == 'ultra']['internet_sum']\n",
    "\n",
    "ax = internet_sum_smart.plot(\n",
    "    kind='hist',\n",
    "    bins=50,\n",
    "    alpha=0.7,\n",
    "    label='smart',\n",
    "    figsize=(12, 8)\n",
    ")\n",
    "internet_sum_ultra.plot(\n",
    "    kind='hist',\n",
    "    bins=50,\n",
    "    alpha=0.7,\n",
    "    label='ultra',\n",
    "    ax=ax,\n",
    "    grid=True,\n",
    "    legend=True,\n",
    ") \n",
    "plt.xlabel('Потраченные мегабайты')\n",
    "plt.ylabel('Частота (шт)')\n",
    "plt.title('Помесячное использование интернета (за 12 месяцев)')\n",
    "plt.legend()\n",
    "plt.show()"
   ]
  },
  {
   "cell_type": "code",
   "execution_count": 36,
   "metadata": {
    "scrolled": false
   },
   "outputs": [
    {
     "data": {
      "image/png": "[encoded data removed]",
      "text/plain": [
       "<Figure size 864x576 with 1 Axes>"
      ]
     },
     "metadata": {
      "needs_background": "light"
     },
     "output_type": "display_data"
    }
   ],
   "source": [
    "# построим гистограмму для помесячной выручки каждого пользователя\n",
    "payment_smart = total_frame.loc[total_frame['tariff'] == 'smart']['payment']\n",
    "payment_ultra = total_frame.loc[total_frame['tariff'] == 'ultra']['payment']\n",
    "\n",
    "ax = payment_smart.plot(\n",
    "    kind='hist',\n",
    "    bins=50,\n",
    "    alpha=0.7,\n",
    "    label='smart',\n",
    "    figsize=(12, 8)\n",
    ")\n",
    "payment_ultra.plot(\n",
    "    kind='hist',\n",
    "    bins=50,\n",
    "    alpha=0.7,\n",
    "    label='ultra',\n",
    "    ax=ax,\n",
    "    grid=True,\n",
    "    legend=True,\n",
    ") \n",
    "plt.xlabel('Сумма платежа (руб.)')\n",
    "plt.ylabel('Частота (шт)')\n",
    "plt.title('Помесячный платеж за тариф (за 12 месяцев)')\n",
    "plt.legend()\n",
    "plt.show()"
   ]
  },
  {
   "cell_type": "markdown",
   "metadata": {},
   "source": [
    "### Вывод"
   ]
  },
  {
   "cell_type": "markdown",
   "metadata": {},
   "source": [
    "По гистограммам видно что скошенность у тарифа `ultra` положительная, а у `smart` отрицательная. Клиенты `smart` чаще используют сверхлимит, в свою очередь `ultra` наоборот не добирают до лимита."
   ]
  },
  {
   "cell_type": "markdown",
   "metadata": {},
   "source": [
    "## Проверка гипотез"
   ]
  },
  {
   "cell_type": "markdown",
   "metadata": {},
   "source": [
    "Проверка гипотез:\n",
    "\n",
    "1. средняя выручка пользователей тарифов «Ультра» и «Смарт» различаются;\n",
    "2. средняя выручка пользователей из Москвы отличается от выручки пользователей из других регионов."
   ]
  },
  {
   "cell_type": "markdown",
   "metadata": {},
   "source": [
    "Проверка первой гипотезы:\n",
    "\n",
    "* H0 - средняя выручка пользователей тарифов «Ультра» и «Смарт» равны;\n",
    "* H1 - средние выручки пользователей тарифов «Ультра» и «Смарт» различаются."
   ]
  },
  {
   "cell_type": "code",
   "execution_count": 37,
   "metadata": {
    "scrolled": true
   },
   "outputs": [
    {
     "name": "stdout",
     "output_type": "stream",
     "text": [
      "p-значение:  4.499021128238002e-194\n",
      "Отвергаем нулевую гипотезу\n"
     ]
    }
   ],
   "source": [
    "payment_smart = total_frame.query('tariff == \"smart\"')['payment']\n",
    "payment_ultra = total_frame.query('tariff == \"ultra\"')['payment']\n",
    "\n",
    "alpha = .05 # критический уровень статистической значимости\n",
    "# если p-value окажется меньше него - отвергнем гипотезу\n",
    "\n",
    "results = st.ttest_ind(\n",
    "    payment_smart, \n",
    "    payment_ultra)\n",
    "\n",
    "print('p-значение: ', results.pvalue)\n",
    "\n",
    "if results.pvalue < alpha:\n",
    "    print(\"Отвергаем нулевую гипотезу\")\n",
    "else:\n",
    "    print(\"Не получилось отвергнуть нулевую гипотезу\") "
   ]
  },
  {
   "cell_type": "markdown",
   "metadata": {},
   "source": [
    "Альтернативная гипотеза заключается в неравенстве средней выручки тарифов, а нулевая в равенстве.\n",
    "\n",
    "Полученное значение p-value говорит о том, что вероятность получить такое или большее различие случайно почти 0%. Это явно слишком маленькая вероятность, соответсвенно отвергаем нулевую гипотезу и подтвеждаем альтернативную."
   ]
  },
  {
   "cell_type": "markdown",
   "metadata": {},
   "source": [
    "Проверка второй гипотезы:\n",
    "\n",
    "* Н0 - средняя выручка пользователей из Москвы равна средней выручке пользователей из других регионов;\n",
    "* Н1 - средняя выручка пользователей из Москвы отличается от выручки пользователей из других регионов."
   ]
  },
  {
   "cell_type": "code",
   "execution_count": 38,
   "metadata": {
    "scrolled": true
   },
   "outputs": [
    {
     "name": "stdout",
     "output_type": "stream",
     "text": [
      "p-значение:  0.4591643006417385\n",
      "Не получилось отвергнуть нулевую гипотезу\n"
     ]
    }
   ],
   "source": [
    "payment_in_msk = total_frame.query('city == \"Москва\"')['payment']\n",
    "payment_not_in_msk = total_frame.query('city != \"Москва\"')['payment']\n",
    "\n",
    "results = st.ttest_ind(\n",
    "    payment_in_msk, \n",
    "    payment_not_in_msk,\n",
    "    equal_var=False\n",
    ")\n",
    "\n",
    "print('p-значение: ', results.pvalue)\n",
    "\n",
    "if results.pvalue < alpha:\n",
    "    print(\"Отвергаем нулевую гипотезу\")\n",
    "else:\n",
    "    print(\"Не получилось отвергнуть нулевую гипотезу\")"
   ]
  },
  {
   "cell_type": "markdown",
   "metadata": {},
   "source": [
    "Альтернативная гипотеза заключается в неравенстве средней выручки пользователей из Москвы и других регионов, а нулевая в равенстве.\n",
    "\n",
    "Полученное значение p-value говорит о том, что вероятность получить такое или большее различие случайно почти 40%. Это явно слишком большая вероятность, соответсвенно делаем вывод о низком различии средней выручки в Москве и регионах. "
   ]
  },
  {
   "cell_type": "markdown",
   "metadata": {},
   "source": [
    "## Общий вывод"
   ]
  },
  {
   "cell_type": "markdown",
   "metadata": {},
   "source": [
    "Средние выручки тарифов смарт и ультра значимо различаются. В среднем пользователи тарифа ультра и смарт платят 2060 и 1230 рублей соответственно. Клиенты смарт чаще используют сверхлимит, в свою очередь ультра наоборот не добирают до лимита.\n",
    "\n",
    "Средняя выручка по Москве и другим регионам значимо не различаются. Это значит, что цену на тарифы можно устанавливать одинаковую для всей страны. \n",
    "\n",
    "Общая продолжителньость звонков, количество сообщений, использованные магайбайты и платежи растут с начала года и до конца линейно. Это будет полезно при проведении рекламной кампании. "
   ]
  },
  {
   "cell_type": "code",
   "execution_count": null,
   "metadata": {},
   "outputs": [],
   "source": []
  }
 ],
 "metadata": {
  "ExecuteTimeLog": [
   {
    "duration": 716,
    "start_time": "2022-02-19T19:51:05.511Z"
   },
   {
    "duration": 1936,
    "start_time": "2022-02-19T19:51:06.230Z"
   },
   {
    "duration": 1025,
    "start_time": "2022-02-19T19:51:07.144Z"
   },
   {
    "duration": 1022,
    "start_time": "2022-02-19T19:51:07.149Z"
   },
   {
    "duration": 1022,
    "start_time": "2022-02-19T19:51:07.151Z"
   },
   {
    "duration": 1021,
    "start_time": "2022-02-19T19:51:07.153Z"
   },
   {
    "duration": 1022,
    "start_time": "2022-02-19T19:51:07.154Z"
   },
   {
    "duration": 1023,
    "start_time": "2022-02-19T19:51:07.155Z"
   },
   {
    "duration": 494,
    "start_time": "2022-02-19T19:52:08.848Z"
   },
   {
    "duration": 520,
    "start_time": "2022-02-19T19:52:14.012Z"
   },
   {
    "duration": 20,
    "start_time": "2022-02-19T19:52:14.536Z"
   },
   {
    "duration": 31,
    "start_time": "2022-02-19T19:52:15.913Z"
   },
   {
    "duration": 310,
    "start_time": "2022-02-19T19:56:53.858Z"
   },
   {
    "duration": 41,
    "start_time": "2022-02-19T19:57:05.167Z"
   },
   {
    "duration": 770,
    "start_time": "2022-02-22T09:01:19.763Z"
   },
   {
    "duration": 608,
    "start_time": "2022-02-22T09:01:20.536Z"
   },
   {
    "duration": 24,
    "start_time": "2022-02-22T09:01:21.147Z"
   },
   {
    "duration": 28,
    "start_time": "2022-02-22T09:01:21.174Z"
   },
   {
    "duration": 50,
    "start_time": "2022-02-22T09:01:21.204Z"
   },
   {
    "duration": 19,
    "start_time": "2022-02-22T09:01:21.257Z"
   },
   {
    "duration": 33,
    "start_time": "2022-02-22T09:01:21.279Z"
   },
   {
    "duration": 20,
    "start_time": "2022-02-22T09:01:21.314Z"
   },
   {
    "duration": 17,
    "start_time": "2022-02-22T09:01:21.337Z"
   },
   {
    "duration": 24,
    "start_time": "2022-02-22T09:01:21.357Z"
   },
   {
    "duration": 1189,
    "start_time": "2022-02-22T09:05:18.422Z"
   },
   {
    "duration": 1189,
    "start_time": "2022-02-22T09:05:18.424Z"
   },
   {
    "duration": 1187,
    "start_time": "2022-02-22T09:05:18.428Z"
   },
   {
    "duration": 1187,
    "start_time": "2022-02-22T09:05:18.430Z"
   },
   {
    "duration": 1188,
    "start_time": "2022-02-22T09:05:18.432Z"
   },
   {
    "duration": 1188,
    "start_time": "2022-02-22T09:05:18.434Z"
   },
   {
    "duration": 17,
    "start_time": "2022-02-22T09:05:37.236Z"
   },
   {
    "duration": 29,
    "start_time": "2022-02-22T09:05:38.747Z"
   },
   {
    "duration": 17,
    "start_time": "2022-02-22T09:05:42.213Z"
   },
   {
    "duration": 10164,
    "start_time": "2022-02-22T09:05:42.868Z"
   },
   {
    "duration": 368,
    "start_time": "2022-02-22T09:06:12.561Z"
   },
   {
    "duration": 376,
    "start_time": "2022-02-22T09:10:10.207Z"
   },
   {
    "duration": 3,
    "start_time": "2022-02-22T09:10:20.521Z"
   },
   {
    "duration": 571,
    "start_time": "2022-02-22T09:10:20.527Z"
   },
   {
    "duration": 12,
    "start_time": "2022-02-22T09:10:21.102Z"
   },
   {
    "duration": 29,
    "start_time": "2022-02-22T09:10:21.117Z"
   },
   {
    "duration": 67,
    "start_time": "2022-02-22T09:10:21.149Z"
   },
   {
    "duration": 6,
    "start_time": "2022-02-22T09:10:21.219Z"
   },
   {
    "duration": 11,
    "start_time": "2022-02-22T09:10:39.067Z"
   },
   {
    "duration": 6,
    "start_time": "2022-02-22T09:12:29.515Z"
   },
   {
    "duration": 4,
    "start_time": "2022-02-22T09:12:41.694Z"
   },
   {
    "duration": 527,
    "start_time": "2022-02-22T09:12:41.702Z"
   },
   {
    "duration": 12,
    "start_time": "2022-02-22T09:12:42.232Z"
   },
   {
    "duration": 32,
    "start_time": "2022-02-22T09:12:42.247Z"
   },
   {
    "duration": 46,
    "start_time": "2022-02-22T09:12:42.282Z"
   },
   {
    "duration": 6,
    "start_time": "2022-02-22T09:12:42.331Z"
   },
   {
    "duration": 6,
    "start_time": "2022-02-22T09:12:47.565Z"
   },
   {
    "duration": 25,
    "start_time": "2022-02-22T09:12:47.876Z"
   },
   {
    "duration": 22,
    "start_time": "2022-02-22T09:14:20.347Z"
   },
   {
    "duration": 3,
    "start_time": "2022-02-22T09:20:12.918Z"
   },
   {
    "duration": 544,
    "start_time": "2022-02-22T09:20:12.924Z"
   },
   {
    "duration": 11,
    "start_time": "2022-02-22T09:20:13.471Z"
   },
   {
    "duration": 27,
    "start_time": "2022-02-22T09:20:13.485Z"
   },
   {
    "duration": 36,
    "start_time": "2022-02-22T09:20:13.515Z"
   },
   {
    "duration": 5,
    "start_time": "2022-02-22T09:20:13.554Z"
   },
   {
    "duration": 12,
    "start_time": "2022-02-22T09:20:13.562Z"
   },
   {
    "duration": 54,
    "start_time": "2022-02-22T09:20:13.577Z"
   },
   {
    "duration": 6,
    "start_time": "2022-02-22T09:20:13.634Z"
   },
   {
    "duration": 29,
    "start_time": "2022-02-22T09:20:13.642Z"
   },
   {
    "duration": 22,
    "start_time": "2022-02-22T09:20:23.095Z"
   },
   {
    "duration": 11,
    "start_time": "2022-02-22T09:20:35.514Z"
   },
   {
    "duration": 514,
    "start_time": "2022-02-22T19:11:13.216Z"
   },
   {
    "duration": 788,
    "start_time": "2022-02-22T19:11:16.413Z"
   },
   {
    "duration": 482,
    "start_time": "2022-02-22T19:11:17.204Z"
   },
   {
    "duration": 23,
    "start_time": "2022-02-22T19:11:17.690Z"
   },
   {
    "duration": 32,
    "start_time": "2022-02-22T19:11:17.716Z"
   },
   {
    "duration": 44,
    "start_time": "2022-02-22T19:11:17.751Z"
   },
   {
    "duration": 7,
    "start_time": "2022-02-22T19:11:17.798Z"
   },
   {
    "duration": 45,
    "start_time": "2022-02-22T19:11:17.808Z"
   },
   {
    "duration": 37,
    "start_time": "2022-02-22T19:11:17.856Z"
   },
   {
    "duration": 7,
    "start_time": "2022-02-22T19:11:17.898Z"
   },
   {
    "duration": 81,
    "start_time": "2022-02-22T19:11:17.908Z"
   },
   {
    "duration": 19,
    "start_time": "2022-02-22T19:11:17.992Z"
   },
   {
    "duration": 43,
    "start_time": "2022-02-22T19:11:18.013Z"
   },
   {
    "duration": 21,
    "start_time": "2022-02-22T19:12:11.348Z"
   },
   {
    "duration": 4,
    "start_time": "2022-02-22T19:12:56.077Z"
   },
   {
    "duration": 497,
    "start_time": "2022-02-22T19:12:56.084Z"
   },
   {
    "duration": 12,
    "start_time": "2022-02-22T19:12:56.584Z"
   },
   {
    "duration": 37,
    "start_time": "2022-02-22T19:12:56.599Z"
   },
   {
    "duration": 41,
    "start_time": "2022-02-22T19:12:56.640Z"
   },
   {
    "duration": 6,
    "start_time": "2022-02-22T19:12:56.684Z"
   },
   {
    "duration": 17,
    "start_time": "2022-02-22T19:12:56.692Z"
   },
   {
    "duration": 51,
    "start_time": "2022-02-22T19:12:56.713Z"
   },
   {
    "duration": 6,
    "start_time": "2022-02-22T19:12:56.766Z"
   },
   {
    "duration": 34,
    "start_time": "2022-02-22T19:12:56.774Z"
   },
   {
    "duration": 38,
    "start_time": "2022-02-22T19:12:56.810Z"
   },
   {
    "duration": 11,
    "start_time": "2022-02-22T19:12:56.852Z"
   },
   {
    "duration": 20,
    "start_time": "2022-02-22T19:12:56.865Z"
   },
   {
    "duration": 61,
    "start_time": "2022-02-22T19:12:56.887Z"
   },
   {
    "duration": 15,
    "start_time": "2022-02-22T19:12:56.951Z"
   },
   {
    "duration": 9,
    "start_time": "2022-02-22T19:13:15.654Z"
   },
   {
    "duration": 3,
    "start_time": "2022-02-22T19:20:14.884Z"
   },
   {
    "duration": 507,
    "start_time": "2022-02-22T19:20:14.894Z"
   },
   {
    "duration": 13,
    "start_time": "2022-02-22T19:20:15.404Z"
   },
   {
    "duration": 35,
    "start_time": "2022-02-22T19:20:15.421Z"
   },
   {
    "duration": 38,
    "start_time": "2022-02-22T19:20:15.459Z"
   },
   {
    "duration": 6,
    "start_time": "2022-02-22T19:20:15.500Z"
   },
   {
    "duration": 45,
    "start_time": "2022-02-22T19:20:15.508Z"
   },
   {
    "duration": 24,
    "start_time": "2022-02-22T19:20:15.556Z"
   },
   {
    "duration": 6,
    "start_time": "2022-02-22T19:20:15.583Z"
   },
   {
    "duration": 58,
    "start_time": "2022-02-22T19:20:15.591Z"
   },
   {
    "duration": 12,
    "start_time": "2022-02-22T19:20:15.651Z"
   },
   {
    "duration": 155,
    "start_time": "2022-02-22T19:20:15.666Z"
   },
   {
    "duration": 3,
    "start_time": "2022-02-22T19:20:30.796Z"
   },
   {
    "duration": 495,
    "start_time": "2022-02-22T19:20:30.802Z"
   },
   {
    "duration": 17,
    "start_time": "2022-02-22T19:20:31.301Z"
   },
   {
    "duration": 57,
    "start_time": "2022-02-22T19:20:31.321Z"
   },
   {
    "duration": 77,
    "start_time": "2022-02-22T19:20:31.381Z"
   },
   {
    "duration": 7,
    "start_time": "2022-02-22T19:20:31.461Z"
   },
   {
    "duration": 17,
    "start_time": "2022-02-22T19:20:31.471Z"
   },
   {
    "duration": 40,
    "start_time": "2022-02-22T19:20:31.491Z"
   },
   {
    "duration": 15,
    "start_time": "2022-02-22T19:20:31.535Z"
   },
   {
    "duration": 44,
    "start_time": "2022-02-22T19:20:31.553Z"
   },
   {
    "duration": 13,
    "start_time": "2022-02-22T19:20:31.599Z"
   },
   {
    "duration": 31,
    "start_time": "2022-02-22T19:20:31.614Z"
   },
   {
    "duration": 14,
    "start_time": "2022-02-22T19:20:37.388Z"
   },
   {
    "duration": 4,
    "start_time": "2022-02-22T19:22:15.807Z"
   },
   {
    "duration": 469,
    "start_time": "2022-02-22T19:22:15.814Z"
   },
   {
    "duration": 13,
    "start_time": "2022-02-22T19:22:16.286Z"
   },
   {
    "duration": 36,
    "start_time": "2022-02-22T19:22:16.302Z"
   },
   {
    "duration": 40,
    "start_time": "2022-02-22T19:22:16.341Z"
   },
   {
    "duration": 6,
    "start_time": "2022-02-22T19:22:16.384Z"
   },
   {
    "duration": 15,
    "start_time": "2022-02-22T19:22:16.392Z"
   },
   {
    "duration": 55,
    "start_time": "2022-02-22T19:22:16.409Z"
   },
   {
    "duration": 5,
    "start_time": "2022-02-22T19:22:16.468Z"
   },
   {
    "duration": 33,
    "start_time": "2022-02-22T19:22:16.475Z"
   },
   {
    "duration": 11,
    "start_time": "2022-02-22T19:22:16.511Z"
   },
   {
    "duration": 6,
    "start_time": "2022-02-22T19:22:16.548Z"
   },
   {
    "duration": 16,
    "start_time": "2022-02-22T19:22:16.557Z"
   },
   {
    "duration": 21,
    "start_time": "2022-02-22T19:22:16.576Z"
   },
   {
    "duration": 50,
    "start_time": "2022-02-22T19:22:16.599Z"
   },
   {
    "duration": 15,
    "start_time": "2022-02-22T19:22:16.652Z"
   },
   {
    "duration": 11,
    "start_time": "2022-02-22T19:22:16.670Z"
   },
   {
    "duration": 10,
    "start_time": "2022-02-22T19:22:16.684Z"
   },
   {
    "duration": 14,
    "start_time": "2022-02-22T19:22:22.489Z"
   },
   {
    "duration": 9,
    "start_time": "2022-02-22T19:22:35.344Z"
   },
   {
    "duration": 321,
    "start_time": "2022-02-22T19:23:27.665Z"
   },
   {
    "duration": 7,
    "start_time": "2022-02-22T19:23:38.426Z"
   },
   {
    "duration": 7,
    "start_time": "2022-02-22T19:24:15.449Z"
   },
   {
    "duration": 6,
    "start_time": "2022-02-22T19:24:39.553Z"
   },
   {
    "duration": 11,
    "start_time": "2022-02-22T19:24:53.490Z"
   },
   {
    "duration": 424,
    "start_time": "2022-02-22T19:30:45.662Z"
   },
   {
    "duration": 454,
    "start_time": "2022-02-22T19:30:59.215Z"
   },
   {
    "duration": 270,
    "start_time": "2022-02-22T19:31:02.762Z"
   },
   {
    "duration": 174,
    "start_time": "2022-02-22T19:31:29.657Z"
   },
   {
    "duration": 12,
    "start_time": "2022-02-22T19:32:12.394Z"
   },
   {
    "duration": 11,
    "start_time": "2022-02-22T19:32:51.676Z"
   },
   {
    "duration": 24,
    "start_time": "2022-02-22T19:33:36.063Z"
   },
   {
    "duration": 19,
    "start_time": "2022-02-22T19:33:55.330Z"
   },
   {
    "duration": 12,
    "start_time": "2022-02-22T19:34:03.094Z"
   },
   {
    "duration": 149,
    "start_time": "2022-02-22T19:34:34.327Z"
   },
   {
    "duration": 36,
    "start_time": "2022-02-22T19:35:58.443Z"
   },
   {
    "duration": 4,
    "start_time": "2022-02-22T19:36:04.751Z"
   },
   {
    "duration": 494,
    "start_time": "2022-02-22T19:36:04.757Z"
   },
   {
    "duration": 12,
    "start_time": "2022-02-22T19:36:05.255Z"
   },
   {
    "duration": 47,
    "start_time": "2022-02-22T19:36:05.270Z"
   },
   {
    "duration": 52,
    "start_time": "2022-02-22T19:36:05.320Z"
   },
   {
    "duration": 6,
    "start_time": "2022-02-22T19:36:05.374Z"
   },
   {
    "duration": 37,
    "start_time": "2022-02-22T19:36:05.382Z"
   },
   {
    "duration": 8,
    "start_time": "2022-02-22T19:38:36.374Z"
   },
   {
    "duration": 5,
    "start_time": "2022-02-22T19:38:46.922Z"
   },
   {
    "duration": 11,
    "start_time": "2022-02-22T19:38:53.456Z"
   },
   {
    "duration": 17,
    "start_time": "2022-02-22T19:51:06.015Z"
   },
   {
    "duration": 288,
    "start_time": "2022-02-22T19:58:26.015Z"
   },
   {
    "duration": 86,
    "start_time": "2022-02-22T19:58:29.436Z"
   },
   {
    "duration": 13,
    "start_time": "2022-02-22T19:58:31.666Z"
   },
   {
    "duration": 7,
    "start_time": "2022-02-22T19:58:40.014Z"
   },
   {
    "duration": 91,
    "start_time": "2022-02-22T19:58:48.108Z"
   },
   {
    "duration": 7,
    "start_time": "2022-02-22T19:58:53.577Z"
   },
   {
    "duration": 334,
    "start_time": "2022-02-22T20:03:55.901Z"
   },
   {
    "duration": 33,
    "start_time": "2022-02-22T20:04:04.710Z"
   },
   {
    "duration": 3528,
    "start_time": "2022-02-22T20:04:33.352Z"
   },
   {
    "duration": 357,
    "start_time": "2022-02-22T20:05:06.899Z"
   },
   {
    "duration": 440,
    "start_time": "2022-02-22T20:05:17.916Z"
   },
   {
    "duration": 94,
    "start_time": "2022-02-22T20:05:26.516Z"
   },
   {
    "duration": 305,
    "start_time": "2022-02-22T20:05:32.300Z"
   },
   {
    "duration": 34,
    "start_time": "2022-02-22T20:05:55.230Z"
   },
   {
    "duration": 32,
    "start_time": "2022-02-22T20:06:32.553Z"
   },
   {
    "duration": 12,
    "start_time": "2022-02-22T20:06:38.672Z"
   },
   {
    "duration": 4,
    "start_time": "2022-02-22T20:09:40.698Z"
   },
   {
    "duration": 1561,
    "start_time": "2022-02-22T20:10:15.253Z"
   },
   {
    "duration": 4,
    "start_time": "2022-02-22T20:11:09.110Z"
   },
   {
    "duration": 1610,
    "start_time": "2022-02-22T20:11:09.848Z"
   },
   {
    "duration": 4,
    "start_time": "2022-02-22T20:12:02.761Z"
   },
   {
    "duration": 1084,
    "start_time": "2022-02-22T20:12:03.543Z"
   },
   {
    "duration": 5,
    "start_time": "2022-02-22T20:12:40.290Z"
   },
   {
    "duration": 1212,
    "start_time": "2022-02-22T20:12:40.635Z"
   },
   {
    "duration": 5,
    "start_time": "2022-02-22T20:12:48.564Z"
   },
   {
    "duration": 1135,
    "start_time": "2022-02-22T20:12:49.264Z"
   },
   {
    "duration": 32,
    "start_time": "2022-02-22T20:13:24.092Z"
   },
   {
    "duration": 3,
    "start_time": "2022-02-22T20:13:29.016Z"
   },
   {
    "duration": 1164,
    "start_time": "2022-02-22T20:13:29.937Z"
   },
   {
    "duration": 4,
    "start_time": "2022-02-22T20:13:44.403Z"
   },
   {
    "duration": 1158,
    "start_time": "2022-02-22T20:13:44.737Z"
   },
   {
    "duration": 13,
    "start_time": "2022-02-22T20:15:12.380Z"
   },
   {
    "duration": 32,
    "start_time": "2022-02-22T20:19:59.368Z"
   },
   {
    "duration": 12,
    "start_time": "2022-02-22T20:20:08.984Z"
   },
   {
    "duration": 4,
    "start_time": "2022-02-22T20:21:16.861Z"
   },
   {
    "duration": 4,
    "start_time": "2022-02-22T20:22:30.624Z"
   },
   {
    "duration": 2618,
    "start_time": "2022-02-22T20:22:30.980Z"
   },
   {
    "duration": 2149,
    "start_time": "2022-02-22T20:22:56.503Z"
   },
   {
    "duration": 4,
    "start_time": "2022-02-22T20:23:39.325Z"
   },
   {
    "duration": 2876,
    "start_time": "2022-02-22T20:23:40.344Z"
   },
   {
    "duration": 2466,
    "start_time": "2022-02-22T20:23:55.819Z"
   },
   {
    "duration": 5,
    "start_time": "2022-02-22T20:26:34.225Z"
   },
   {
    "duration": 2479,
    "start_time": "2022-02-22T20:26:37.626Z"
   },
   {
    "duration": 2316,
    "start_time": "2022-02-22T20:26:49.903Z"
   },
   {
    "duration": 32,
    "start_time": "2022-02-22T20:27:54.069Z"
   },
   {
    "duration": 470,
    "start_time": "2022-02-22T20:29:44.913Z"
   },
   {
    "duration": 415,
    "start_time": "2022-02-22T20:30:10.639Z"
   },
   {
    "duration": 4,
    "start_time": "2022-02-22T20:31:00.593Z"
   },
   {
    "duration": 527,
    "start_time": "2022-02-22T20:31:00.600Z"
   },
   {
    "duration": 12,
    "start_time": "2022-02-22T20:31:01.129Z"
   },
   {
    "duration": 33,
    "start_time": "2022-02-22T20:31:01.144Z"
   },
   {
    "duration": 39,
    "start_time": "2022-02-22T20:31:01.180Z"
   },
   {
    "duration": 6,
    "start_time": "2022-02-22T20:31:01.221Z"
   },
   {
    "duration": 48,
    "start_time": "2022-02-22T20:31:01.229Z"
   },
   {
    "duration": 423,
    "start_time": "2022-02-22T20:31:01.279Z"
   },
   {
    "duration": 427,
    "start_time": "2022-02-22T20:31:49.476Z"
   },
   {
    "duration": 392,
    "start_time": "2022-02-22T20:32:14.062Z"
   },
   {
    "duration": 383,
    "start_time": "2022-02-22T20:34:46.445Z"
   },
   {
    "duration": 497,
    "start_time": "2022-02-22T20:34:53.668Z"
   },
   {
    "duration": 373,
    "start_time": "2022-02-22T20:35:04.498Z"
   },
   {
    "duration": 13,
    "start_time": "2022-02-22T20:46:12.643Z"
   },
   {
    "duration": 13,
    "start_time": "2022-02-22T20:46:21.562Z"
   },
   {
    "duration": 6,
    "start_time": "2022-02-22T20:46:37.548Z"
   },
   {
    "duration": 6,
    "start_time": "2022-02-22T20:46:42.811Z"
   },
   {
    "duration": 13,
    "start_time": "2022-02-22T20:47:23.256Z"
   },
   {
    "duration": 19,
    "start_time": "2022-02-22T20:47:35.004Z"
   },
   {
    "duration": 26,
    "start_time": "2022-02-22T20:53:02.832Z"
   },
   {
    "duration": 10,
    "start_time": "2022-02-22T20:53:08.674Z"
   },
   {
    "duration": 7,
    "start_time": "2022-02-22T20:55:47.673Z"
   },
   {
    "duration": 4,
    "start_time": "2022-02-22T21:30:57.155Z"
   },
   {
    "duration": 540,
    "start_time": "2022-02-22T21:30:57.163Z"
   },
   {
    "duration": 13,
    "start_time": "2022-02-22T21:30:57.706Z"
   },
   {
    "duration": 33,
    "start_time": "2022-02-22T21:30:57.722Z"
   },
   {
    "duration": 40,
    "start_time": "2022-02-22T21:30:57.758Z"
   },
   {
    "duration": 8,
    "start_time": "2022-02-22T21:30:57.800Z"
   },
   {
    "duration": 61,
    "start_time": "2022-02-22T21:30:57.810Z"
   },
   {
    "duration": 23,
    "start_time": "2022-02-22T21:30:57.874Z"
   },
   {
    "duration": 11,
    "start_time": "2022-02-22T21:30:57.901Z"
   },
   {
    "duration": 47,
    "start_time": "2022-02-22T21:30:57.915Z"
   },
   {
    "duration": 33,
    "start_time": "2022-02-22T21:30:57.964Z"
   },
   {
    "duration": 7,
    "start_time": "2022-02-22T21:30:57.999Z"
   },
   {
    "duration": 7665,
    "start_time": "2022-02-22T21:30:58.011Z"
   },
   {
    "duration": 171,
    "start_time": "2022-02-22T21:31:05.508Z"
   },
   {
    "duration": 170,
    "start_time": "2022-02-22T21:31:05.511Z"
   },
   {
    "duration": 169,
    "start_time": "2022-02-22T21:31:05.513Z"
   },
   {
    "duration": 169,
    "start_time": "2022-02-22T21:31:05.515Z"
   },
   {
    "duration": 168,
    "start_time": "2022-02-22T21:31:05.517Z"
   },
   {
    "duration": 166,
    "start_time": "2022-02-22T21:31:05.520Z"
   },
   {
    "duration": 166,
    "start_time": "2022-02-22T21:31:05.522Z"
   },
   {
    "duration": 165,
    "start_time": "2022-02-22T21:31:05.524Z"
   },
   {
    "duration": 165,
    "start_time": "2022-02-22T21:31:05.526Z"
   },
   {
    "duration": 164,
    "start_time": "2022-02-22T21:31:05.528Z"
   },
   {
    "duration": 165,
    "start_time": "2022-02-22T21:31:05.529Z"
   },
   {
    "duration": 163,
    "start_time": "2022-02-22T21:31:05.532Z"
   },
   {
    "duration": 4,
    "start_time": "2022-02-22T21:34:36.531Z"
   },
   {
    "duration": 514,
    "start_time": "2022-02-22T21:34:36.537Z"
   },
   {
    "duration": 12,
    "start_time": "2022-02-22T21:34:37.054Z"
   },
   {
    "duration": 42,
    "start_time": "2022-02-22T21:34:37.069Z"
   },
   {
    "duration": 67,
    "start_time": "2022-02-22T21:34:37.113Z"
   },
   {
    "duration": 6,
    "start_time": "2022-02-22T21:34:37.183Z"
   },
   {
    "duration": 34,
    "start_time": "2022-02-22T21:34:37.192Z"
   },
   {
    "duration": 42,
    "start_time": "2022-02-22T21:34:37.228Z"
   },
   {
    "duration": 13,
    "start_time": "2022-02-22T21:34:37.275Z"
   },
   {
    "duration": 37,
    "start_time": "2022-02-22T21:34:37.291Z"
   },
   {
    "duration": 31,
    "start_time": "2022-02-22T21:34:37.350Z"
   },
   {
    "duration": 7,
    "start_time": "2022-02-22T21:34:37.384Z"
   },
   {
    "duration": 55,
    "start_time": "2022-02-22T21:34:37.393Z"
   },
   {
    "duration": 20,
    "start_time": "2022-02-22T21:34:37.451Z"
   },
   {
    "duration": 10,
    "start_time": "2022-02-22T21:34:37.473Z"
   },
   {
    "duration": 31,
    "start_time": "2022-02-22T21:34:37.485Z"
   },
   {
    "duration": 52,
    "start_time": "2022-02-22T21:34:37.518Z"
   },
   {
    "duration": 13,
    "start_time": "2022-02-22T21:34:37.572Z"
   },
   {
    "duration": 13,
    "start_time": "2022-02-22T21:34:37.588Z"
   },
   {
    "duration": 8,
    "start_time": "2022-02-22T21:34:37.604Z"
   },
   {
    "duration": 45,
    "start_time": "2022-02-22T21:34:37.614Z"
   },
   {
    "duration": 8,
    "start_time": "2022-02-22T21:34:37.662Z"
   },
   {
    "duration": 8,
    "start_time": "2022-02-22T21:34:37.673Z"
   },
   {
    "duration": 15,
    "start_time": "2022-02-22T21:34:37.684Z"
   },
   {
    "duration": 11,
    "start_time": "2022-02-22T21:34:37.702Z"
   },
   {
    "duration": 13,
    "start_time": "2022-02-22T21:34:59.882Z"
   },
   {
    "duration": 13,
    "start_time": "2022-02-22T21:35:36.666Z"
   },
   {
    "duration": 8,
    "start_time": "2022-02-22T21:36:48.590Z"
   },
   {
    "duration": 10,
    "start_time": "2022-02-22T21:36:59.922Z"
   },
   {
    "duration": 8,
    "start_time": "2022-02-22T21:44:31.356Z"
   },
   {
    "duration": 22,
    "start_time": "2022-02-22T21:45:30.535Z"
   },
   {
    "duration": 10,
    "start_time": "2022-02-22T21:45:31.165Z"
   },
   {
    "duration": 36,
    "start_time": "2022-02-22T21:46:07.267Z"
   },
   {
    "duration": 11,
    "start_time": "2022-02-22T21:46:07.822Z"
   },
   {
    "duration": 29,
    "start_time": "2022-02-22T21:46:34.594Z"
   },
   {
    "duration": 10,
    "start_time": "2022-02-22T21:46:34.972Z"
   },
   {
    "duration": 24,
    "start_time": "2022-02-22T21:47:45.293Z"
   },
   {
    "duration": 10,
    "start_time": "2022-02-22T21:47:45.844Z"
   },
   {
    "duration": 22,
    "start_time": "2022-02-22T21:54:54.402Z"
   },
   {
    "duration": 520,
    "start_time": "2022-02-22T21:54:54.855Z"
   },
   {
    "duration": 17,
    "start_time": "2022-02-22T21:55:00.421Z"
   },
   {
    "duration": 301,
    "start_time": "2022-02-22T22:05:21.027Z"
   },
   {
    "duration": 292,
    "start_time": "2022-02-22T22:05:39.603Z"
   },
   {
    "duration": 107,
    "start_time": "2022-02-22T22:07:49.596Z"
   },
   {
    "duration": 301,
    "start_time": "2022-02-22T22:07:54.995Z"
   },
   {
    "duration": 376,
    "start_time": "2022-02-22T22:08:26.963Z"
   },
   {
    "duration": 285,
    "start_time": "2022-02-22T22:08:41.775Z"
   },
   {
    "duration": 275,
    "start_time": "2022-02-22T22:09:41.806Z"
   },
   {
    "duration": 25,
    "start_time": "2022-02-22T22:13:44.639Z"
   },
   {
    "duration": 9,
    "start_time": "2022-02-22T22:14:12.354Z"
   },
   {
    "duration": 9,
    "start_time": "2022-02-22T22:15:34.685Z"
   },
   {
    "duration": 8,
    "start_time": "2022-02-22T22:15:36.681Z"
   },
   {
    "duration": 445,
    "start_time": "2022-02-22T22:15:48.372Z"
   },
   {
    "duration": 300,
    "start_time": "2022-02-22T22:16:04.917Z"
   },
   {
    "duration": 10,
    "start_time": "2022-02-22T22:16:11.495Z"
   },
   {
    "duration": 7,
    "start_time": "2022-02-22T22:16:13.202Z"
   },
   {
    "duration": 14,
    "start_time": "2022-02-22T22:17:33.772Z"
   },
   {
    "duration": 26,
    "start_time": "2022-02-22T22:17:54.132Z"
   },
   {
    "duration": 13,
    "start_time": "2022-02-22T22:17:54.778Z"
   },
   {
    "duration": 300,
    "start_time": "2022-02-22T22:20:09.922Z"
   },
   {
    "duration": 25,
    "start_time": "2022-02-22T22:21:06.247Z"
   },
   {
    "duration": 9,
    "start_time": "2022-02-22T22:21:06.819Z"
   },
   {
    "duration": 291,
    "start_time": "2022-02-24T09:50:51.129Z"
   },
   {
    "duration": 581,
    "start_time": "2022-02-24T09:50:56.071Z"
   },
   {
    "duration": 394,
    "start_time": "2022-02-24T09:50:56.654Z"
   },
   {
    "duration": 19,
    "start_time": "2022-02-24T09:50:57.051Z"
   },
   {
    "duration": 27,
    "start_time": "2022-02-24T09:50:57.073Z"
   },
   {
    "duration": 35,
    "start_time": "2022-02-24T09:50:57.102Z"
   },
   {
    "duration": 5,
    "start_time": "2022-02-24T09:50:57.139Z"
   },
   {
    "duration": 28,
    "start_time": "2022-02-24T09:50:57.146Z"
   },
   {
    "duration": 45,
    "start_time": "2022-02-24T09:50:57.177Z"
   },
   {
    "duration": 9,
    "start_time": "2022-02-24T09:50:57.224Z"
   },
   {
    "duration": 23,
    "start_time": "2022-02-24T09:50:57.235Z"
   },
   {
    "duration": 22,
    "start_time": "2022-02-24T09:50:57.260Z"
   },
   {
    "duration": 10,
    "start_time": "2022-02-24T09:50:57.283Z"
   },
   {
    "duration": 39,
    "start_time": "2022-02-24T09:50:57.294Z"
   },
   {
    "duration": 22,
    "start_time": "2022-02-24T09:50:57.335Z"
   },
   {
    "duration": 6,
    "start_time": "2022-02-24T09:50:57.359Z"
   },
   {
    "duration": 16,
    "start_time": "2022-02-24T09:50:57.367Z"
   },
   {
    "duration": 38,
    "start_time": "2022-02-24T09:50:57.384Z"
   },
   {
    "duration": 22,
    "start_time": "2022-02-24T09:50:57.424Z"
   },
   {
    "duration": 15,
    "start_time": "2022-02-24T09:50:57.448Z"
   },
   {
    "duration": 40,
    "start_time": "2022-02-24T09:50:57.465Z"
   },
   {
    "duration": 7,
    "start_time": "2022-02-24T09:50:57.507Z"
   },
   {
    "duration": 16,
    "start_time": "2022-02-24T09:50:57.518Z"
   },
   {
    "duration": 16,
    "start_time": "2022-02-24T09:50:57.537Z"
   },
   {
    "duration": 13,
    "start_time": "2022-02-24T09:50:57.555Z"
   },
   {
    "duration": 24,
    "start_time": "2022-02-24T09:50:57.570Z"
   },
   {
    "duration": 22,
    "start_time": "2022-02-24T09:50:57.596Z"
   },
   {
    "duration": 47,
    "start_time": "2022-02-24T09:50:57.619Z"
   },
   {
    "duration": 13,
    "start_time": "2022-02-24T09:50:57.668Z"
   },
   {
    "duration": 21,
    "start_time": "2022-02-24T09:50:57.683Z"
   },
   {
    "duration": 8,
    "start_time": "2022-02-24T09:52:01.513Z"
   },
   {
    "duration": 36,
    "start_time": "2022-02-24T10:17:13.009Z"
   },
   {
    "duration": 16,
    "start_time": "2022-02-24T10:17:13.308Z"
   },
   {
    "duration": 591,
    "start_time": "2022-02-24T10:20:47.706Z"
   },
   {
    "duration": 33,
    "start_time": "2022-02-24T10:22:48.216Z"
   },
   {
    "duration": 15,
    "start_time": "2022-02-24T10:22:49.223Z"
   },
   {
    "duration": 28,
    "start_time": "2022-02-24T10:25:03.459Z"
   },
   {
    "duration": 14,
    "start_time": "2022-02-24T10:25:03.837Z"
   },
   {
    "duration": 26,
    "start_time": "2022-02-24T10:26:27.558Z"
   },
   {
    "duration": 15,
    "start_time": "2022-02-24T10:26:28.161Z"
   },
   {
    "duration": 299,
    "start_time": "2022-02-24T10:27:46.876Z"
   },
   {
    "duration": 24,
    "start_time": "2022-02-24T10:28:10.411Z"
   },
   {
    "duration": 15,
    "start_time": "2022-02-24T10:28:10.750Z"
   },
   {
    "duration": 5,
    "start_time": "2022-02-24T10:36:59.712Z"
   },
   {
    "duration": 5,
    "start_time": "2022-02-24T10:37:04.682Z"
   },
   {
    "duration": 295,
    "start_time": "2022-02-24T10:39:07.363Z"
   },
   {
    "duration": 242,
    "start_time": "2022-02-24T10:39:12.766Z"
   },
   {
    "duration": 13,
    "start_time": "2022-02-24T10:39:16.994Z"
   },
   {
    "duration": 4,
    "start_time": "2022-02-24T10:40:05.575Z"
   },
   {
    "duration": 307,
    "start_time": "2022-02-24T10:40:21.803Z"
   },
   {
    "duration": 4,
    "start_time": "2022-02-24T10:40:41.498Z"
   },
   {
    "duration": 279,
    "start_time": "2022-02-24T10:40:45.223Z"
   },
   {
    "duration": 5,
    "start_time": "2022-02-24T10:40:49.181Z"
   },
   {
    "duration": 4,
    "start_time": "2022-02-24T10:41:06.524Z"
   },
   {
    "duration": 4,
    "start_time": "2022-02-24T10:41:17.718Z"
   },
   {
    "duration": 16,
    "start_time": "2022-02-24T10:41:36.029Z"
   },
   {
    "duration": 25,
    "start_time": "2022-02-24T10:42:05.708Z"
   },
   {
    "duration": 35,
    "start_time": "2022-02-24T10:42:06.342Z"
   },
   {
    "duration": 16,
    "start_time": "2022-02-24T10:42:06.794Z"
   },
   {
    "duration": 19,
    "start_time": "2022-02-24T10:42:16.727Z"
   },
   {
    "duration": 34,
    "start_time": "2022-02-24T10:42:17.054Z"
   },
   {
    "duration": 5,
    "start_time": "2022-02-24T10:42:17.332Z"
   },
   {
    "duration": 14,
    "start_time": "2022-02-24T10:42:21.800Z"
   },
   {
    "duration": 17,
    "start_time": "2022-02-24T10:42:32.971Z"
   },
   {
    "duration": 24,
    "start_time": "2022-02-24T10:42:34.888Z"
   },
   {
    "duration": 15,
    "start_time": "2022-02-24T10:42:40.723Z"
   },
   {
    "duration": 3,
    "start_time": "2022-02-24T10:42:49.509Z"
   },
   {
    "duration": 439,
    "start_time": "2022-02-24T10:42:49.514Z"
   },
   {
    "duration": 10,
    "start_time": "2022-02-24T10:42:49.956Z"
   },
   {
    "duration": 24,
    "start_time": "2022-02-24T10:42:49.968Z"
   },
   {
    "duration": 28,
    "start_time": "2022-02-24T10:42:49.994Z"
   },
   {
    "duration": 5,
    "start_time": "2022-02-24T10:42:50.024Z"
   },
   {
    "duration": 31,
    "start_time": "2022-02-24T10:42:50.031Z"
   },
   {
    "duration": 378,
    "start_time": "2022-02-24T10:42:50.064Z"
   },
   {
    "duration": 1148,
    "start_time": "2022-02-24T10:42:49.297Z"
   },
   {
    "duration": 1148,
    "start_time": "2022-02-24T10:42:49.298Z"
   },
   {
    "duration": 1149,
    "start_time": "2022-02-24T10:42:49.299Z"
   },
   {
    "duration": 1146,
    "start_time": "2022-02-24T10:42:49.303Z"
   },
   {
    "duration": 1146,
    "start_time": "2022-02-24T10:42:49.305Z"
   },
   {
    "duration": 1145,
    "start_time": "2022-02-24T10:42:49.307Z"
   },
   {
    "duration": 1147,
    "start_time": "2022-02-24T10:42:49.307Z"
   },
   {
    "duration": 1147,
    "start_time": "2022-02-24T10:42:49.308Z"
   },
   {
    "duration": 1110,
    "start_time": "2022-02-24T10:42:49.347Z"
   },
   {
    "duration": 1110,
    "start_time": "2022-02-24T10:42:49.348Z"
   },
   {
    "duration": 1110,
    "start_time": "2022-02-24T10:42:49.349Z"
   },
   {
    "duration": 1110,
    "start_time": "2022-02-24T10:42:49.350Z"
   },
   {
    "duration": 1110,
    "start_time": "2022-02-24T10:42:49.351Z"
   },
   {
    "duration": 1109,
    "start_time": "2022-02-24T10:42:49.353Z"
   },
   {
    "duration": 34,
    "start_time": "2022-02-24T10:43:04.460Z"
   },
   {
    "duration": 14,
    "start_time": "2022-02-24T10:43:04.972Z"
   },
   {
    "duration": 264,
    "start_time": "2022-02-24T10:43:12.119Z"
   },
   {
    "duration": 15,
    "start_time": "2022-02-24T10:43:12.411Z"
   },
   {
    "duration": 3,
    "start_time": "2022-02-24T10:43:31.948Z"
   },
   {
    "duration": 410,
    "start_time": "2022-02-24T10:43:31.952Z"
   },
   {
    "duration": 8,
    "start_time": "2022-02-24T10:43:32.364Z"
   },
   {
    "duration": 34,
    "start_time": "2022-02-24T10:43:32.374Z"
   },
   {
    "duration": 47,
    "start_time": "2022-02-24T10:43:32.410Z"
   },
   {
    "duration": 6,
    "start_time": "2022-02-24T10:43:32.458Z"
   },
   {
    "duration": 31,
    "start_time": "2022-02-24T10:43:32.465Z"
   },
   {
    "duration": 32,
    "start_time": "2022-02-24T10:43:32.498Z"
   },
   {
    "duration": 13,
    "start_time": "2022-02-24T10:43:32.533Z"
   },
   {
    "duration": 14,
    "start_time": "2022-02-24T10:43:32.548Z"
   },
   {
    "duration": 28,
    "start_time": "2022-02-24T10:43:32.563Z"
   },
   {
    "duration": 35,
    "start_time": "2022-02-24T10:43:32.593Z"
   },
   {
    "duration": 5,
    "start_time": "2022-02-24T10:43:32.630Z"
   },
   {
    "duration": 22,
    "start_time": "2022-02-24T10:43:32.637Z"
   },
   {
    "duration": 26,
    "start_time": "2022-02-24T10:43:32.661Z"
   },
   {
    "duration": 36,
    "start_time": "2022-02-24T10:43:32.689Z"
   },
   {
    "duration": 13,
    "start_time": "2022-02-24T10:43:32.728Z"
   },
   {
    "duration": 19,
    "start_time": "2022-02-24T10:43:32.743Z"
   },
   {
    "duration": 20,
    "start_time": "2022-02-24T10:43:32.764Z"
   },
   {
    "duration": 37,
    "start_time": "2022-02-24T10:43:32.786Z"
   },
   {
    "duration": 26,
    "start_time": "2022-02-24T10:43:32.825Z"
   },
   {
    "duration": 14,
    "start_time": "2022-02-24T10:43:32.853Z"
   },
   {
    "duration": 4,
    "start_time": "2022-02-24T10:56:20.334Z"
   },
   {
    "duration": 19,
    "start_time": "2022-02-24T10:56:21.054Z"
   },
   {
    "duration": 29,
    "start_time": "2022-02-24T10:56:21.418Z"
   },
   {
    "duration": 14,
    "start_time": "2022-02-24T10:56:22.166Z"
   },
   {
    "duration": 335,
    "start_time": "2022-02-24T12:14:23.053Z"
   },
   {
    "duration": 234,
    "start_time": "2022-02-24T12:14:35.777Z"
   },
   {
    "duration": 7,
    "start_time": "2022-02-24T12:15:40.274Z"
   },
   {
    "duration": 6,
    "start_time": "2022-02-24T12:15:48.878Z"
   },
   {
    "duration": 5,
    "start_time": "2022-02-24T12:15:58.289Z"
   },
   {
    "duration": 7,
    "start_time": "2022-02-24T12:16:00.015Z"
   },
   {
    "duration": 8,
    "start_time": "2022-02-24T12:16:10.118Z"
   },
   {
    "duration": 103,
    "start_time": "2022-02-24T14:19:28.407Z"
   },
   {
    "duration": 94,
    "start_time": "2022-02-24T14:19:57.597Z"
   },
   {
    "duration": 750,
    "start_time": "2022-02-24T14:20:32.105Z"
   },
   {
    "duration": 510,
    "start_time": "2022-02-24T14:20:32.858Z"
   },
   {
    "duration": 24,
    "start_time": "2022-02-24T14:20:33.372Z"
   },
   {
    "duration": 31,
    "start_time": "2022-02-24T14:20:33.399Z"
   },
   {
    "duration": 78,
    "start_time": "2022-02-24T14:20:33.432Z"
   },
   {
    "duration": 9,
    "start_time": "2022-02-24T14:20:33.512Z"
   },
   {
    "duration": 59,
    "start_time": "2022-02-24T14:20:33.524Z"
   },
   {
    "duration": 14,
    "start_time": "2022-02-24T14:20:33.586Z"
   },
   {
    "duration": 23,
    "start_time": "2022-02-24T14:20:33.604Z"
   },
   {
    "duration": 60,
    "start_time": "2022-02-24T14:20:33.630Z"
   },
   {
    "duration": 6,
    "start_time": "2022-02-24T14:20:33.693Z"
   },
   {
    "duration": 26,
    "start_time": "2022-02-24T14:20:33.702Z"
   },
   {
    "duration": 35,
    "start_time": "2022-02-24T14:20:33.731Z"
   },
   {
    "duration": 21,
    "start_time": "2022-02-24T14:20:33.768Z"
   },
   {
    "duration": 30,
    "start_time": "2022-02-24T14:20:33.791Z"
   },
   {
    "duration": 49,
    "start_time": "2022-02-24T14:20:33.824Z"
   },
   {
    "duration": 13,
    "start_time": "2022-02-24T14:20:33.875Z"
   },
   {
    "duration": 11,
    "start_time": "2022-02-24T14:20:33.890Z"
   },
   {
    "duration": 15,
    "start_time": "2022-02-24T14:20:33.903Z"
   },
   {
    "duration": 48,
    "start_time": "2022-02-24T14:20:33.921Z"
   },
   {
    "duration": 23,
    "start_time": "2022-02-24T14:20:33.971Z"
   },
   {
    "duration": 19,
    "start_time": "2022-02-24T14:20:33.997Z"
   },
   {
    "duration": 20,
    "start_time": "2022-02-24T14:20:34.018Z"
   },
   {
    "duration": 20,
    "start_time": "2022-02-24T14:20:34.040Z"
   },
   {
    "duration": 95,
    "start_time": "2022-02-24T14:20:34.062Z"
   },
   {
    "duration": 105,
    "start_time": "2022-02-24T14:20:56.206Z"
   },
   {
    "duration": 30084,
    "start_time": "2022-02-24T14:21:23.325Z"
   },
   {
    "duration": 10,
    "start_time": "2022-02-24T14:22:06.681Z"
   },
   {
    "duration": 32870,
    "start_time": "2022-02-24T14:22:34.112Z"
   },
   {
    "duration": 4,
    "start_time": "2022-02-24T14:23:11.045Z"
   },
   {
    "duration": 512,
    "start_time": "2022-02-24T14:23:11.052Z"
   },
   {
    "duration": 10,
    "start_time": "2022-02-24T14:23:11.567Z"
   },
   {
    "duration": 27,
    "start_time": "2022-02-24T14:23:11.580Z"
   },
   {
    "duration": 66,
    "start_time": "2022-02-24T14:23:11.610Z"
   },
   {
    "duration": 6,
    "start_time": "2022-02-24T14:23:11.678Z"
   },
   {
    "duration": 31,
    "start_time": "2022-02-24T14:23:11.687Z"
   },
   {
    "duration": 12,
    "start_time": "2022-02-24T14:23:11.722Z"
   },
   {
    "duration": 45,
    "start_time": "2022-02-24T14:23:11.737Z"
   },
   {
    "duration": 29,
    "start_time": "2022-02-24T14:23:11.784Z"
   },
   {
    "duration": 5,
    "start_time": "2022-02-24T14:23:11.815Z"
   },
   {
    "duration": 56,
    "start_time": "2022-02-24T14:23:11.822Z"
   },
   {
    "duration": 9,
    "start_time": "2022-02-24T14:23:11.880Z"
   },
   {
    "duration": 19,
    "start_time": "2022-02-24T14:23:11.892Z"
   },
   {
    "duration": 50,
    "start_time": "2022-02-24T14:23:11.913Z"
   },
   {
    "duration": 20,
    "start_time": "2022-02-24T14:23:11.965Z"
   },
   {
    "duration": 12,
    "start_time": "2022-02-24T14:23:11.988Z"
   },
   {
    "duration": 11,
    "start_time": "2022-02-24T14:23:12.003Z"
   },
   {
    "duration": 54,
    "start_time": "2022-02-24T14:23:12.017Z"
   },
   {
    "duration": 9,
    "start_time": "2022-02-24T14:23:12.074Z"
   },
   {
    "duration": 10,
    "start_time": "2022-02-24T14:23:12.085Z"
   },
   {
    "duration": 8,
    "start_time": "2022-02-24T14:23:12.097Z"
   },
   {
    "duration": 18,
    "start_time": "2022-02-24T14:23:12.109Z"
   },
   {
    "duration": 36,
    "start_time": "2022-02-24T14:23:12.130Z"
   },
   {
    "duration": 34192,
    "start_time": "2022-02-24T14:23:12.169Z"
   },
   {
    "duration": 10,
    "start_time": "2022-02-24T14:23:46.364Z"
   },
   {
    "duration": 4,
    "start_time": "2022-02-24T14:25:41.195Z"
   },
   {
    "duration": 500,
    "start_time": "2022-02-24T14:25:41.201Z"
   },
   {
    "duration": 11,
    "start_time": "2022-02-24T14:25:41.705Z"
   },
   {
    "duration": 30,
    "start_time": "2022-02-24T14:25:41.719Z"
   },
   {
    "duration": 43,
    "start_time": "2022-02-24T14:25:41.752Z"
   },
   {
    "duration": 6,
    "start_time": "2022-02-24T14:25:41.798Z"
   },
   {
    "duration": 57,
    "start_time": "2022-02-24T14:25:41.806Z"
   },
   {
    "duration": 13,
    "start_time": "2022-02-24T14:25:41.866Z"
   },
   {
    "duration": 25,
    "start_time": "2022-02-24T14:25:41.883Z"
   },
   {
    "duration": 54,
    "start_time": "2022-02-24T14:25:41.911Z"
   },
   {
    "duration": 5,
    "start_time": "2022-02-24T14:25:41.967Z"
   },
   {
    "duration": 27,
    "start_time": "2022-02-24T14:25:41.974Z"
   },
   {
    "duration": 12,
    "start_time": "2022-02-24T14:25:42.003Z"
   },
   {
    "duration": 53,
    "start_time": "2022-02-24T14:25:42.017Z"
   },
   {
    "duration": 25,
    "start_time": "2022-02-24T14:25:42.073Z"
   },
   {
    "duration": 21,
    "start_time": "2022-02-24T14:25:42.100Z"
   },
   {
    "duration": 41,
    "start_time": "2022-02-24T14:25:42.123Z"
   },
   {
    "duration": 10,
    "start_time": "2022-02-24T14:25:42.166Z"
   },
   {
    "duration": 18,
    "start_time": "2022-02-24T14:25:42.178Z"
   },
   {
    "duration": 9,
    "start_time": "2022-02-24T14:25:42.198Z"
   },
   {
    "duration": 8,
    "start_time": "2022-02-24T14:25:42.210Z"
   },
   {
    "duration": 41,
    "start_time": "2022-02-24T14:25:42.220Z"
   },
   {
    "duration": 6,
    "start_time": "2022-02-24T14:25:42.264Z"
   },
   {
    "duration": 10,
    "start_time": "2022-02-24T14:25:42.272Z"
   },
   {
    "duration": 82398,
    "start_time": "2022-02-24T14:25:42.284Z"
   },
   {
    "duration": 14,
    "start_time": "2022-02-24T14:27:04.684Z"
   },
   {
    "duration": 34070,
    "start_time": "2022-02-24T14:30:41.841Z"
   },
   {
    "duration": 4,
    "start_time": "2022-02-24T14:31:31.981Z"
   },
   {
    "duration": 486,
    "start_time": "2022-02-24T14:31:31.989Z"
   },
   {
    "duration": 12,
    "start_time": "2022-02-24T14:31:32.478Z"
   },
   {
    "duration": 28,
    "start_time": "2022-02-24T14:31:32.492Z"
   },
   {
    "duration": 53,
    "start_time": "2022-02-24T14:31:32.522Z"
   },
   {
    "duration": 6,
    "start_time": "2022-02-24T14:31:32.578Z"
   },
   {
    "duration": 37,
    "start_time": "2022-02-24T14:31:32.586Z"
   },
   {
    "duration": 12,
    "start_time": "2022-02-24T14:31:32.625Z"
   },
   {
    "duration": 24,
    "start_time": "2022-02-24T14:31:32.664Z"
   },
   {
    "duration": 31,
    "start_time": "2022-02-24T14:31:32.692Z"
   },
   {
    "duration": 6,
    "start_time": "2022-02-24T14:31:32.725Z"
   },
   {
    "duration": 54,
    "start_time": "2022-02-24T14:31:32.733Z"
   },
   {
    "duration": 11,
    "start_time": "2022-02-24T14:31:32.790Z"
   },
   {
    "duration": 19,
    "start_time": "2022-02-24T14:31:32.803Z"
   },
   {
    "duration": 27,
    "start_time": "2022-02-24T14:31:32.861Z"
   },
   {
    "duration": 22,
    "start_time": "2022-02-24T14:31:32.891Z"
   },
   {
    "duration": 14,
    "start_time": "2022-02-24T14:31:32.915Z"
   },
   {
    "duration": 10,
    "start_time": "2022-02-24T14:31:32.962Z"
   },
   {
    "duration": 22,
    "start_time": "2022-02-24T14:31:32.974Z"
   },
   {
    "duration": 10,
    "start_time": "2022-02-24T14:31:32.999Z"
   },
   {
    "duration": 9,
    "start_time": "2022-02-24T14:31:33.012Z"
   },
   {
    "duration": 43,
    "start_time": "2022-02-24T14:31:33.023Z"
   },
   {
    "duration": 10,
    "start_time": "2022-02-24T14:31:33.070Z"
   },
   {
    "duration": 10,
    "start_time": "2022-02-24T14:31:33.082Z"
   },
   {
    "duration": 6,
    "start_time": "2022-02-24T14:32:05.157Z"
   },
   {
    "duration": 501,
    "start_time": "2022-02-24T14:32:05.166Z"
   },
   {
    "duration": 12,
    "start_time": "2022-02-24T14:32:05.669Z"
   },
   {
    "duration": 34,
    "start_time": "2022-02-24T14:32:05.684Z"
   },
   {
    "duration": 60,
    "start_time": "2022-02-24T14:32:05.720Z"
   },
   {
    "duration": 6,
    "start_time": "2022-02-24T14:32:05.783Z"
   },
   {
    "duration": 34,
    "start_time": "2022-02-24T14:32:05.791Z"
   },
   {
    "duration": 32,
    "start_time": "2022-02-24T14:32:05.828Z"
   },
   {
    "duration": 25,
    "start_time": "2022-02-24T14:32:05.864Z"
   },
   {
    "duration": 31,
    "start_time": "2022-02-24T14:32:05.892Z"
   },
   {
    "duration": 36,
    "start_time": "2022-02-24T14:32:05.925Z"
   },
   {
    "duration": 27,
    "start_time": "2022-02-24T14:32:05.964Z"
   },
   {
    "duration": 11,
    "start_time": "2022-02-24T14:32:05.993Z"
   },
   {
    "duration": 26,
    "start_time": "2022-02-24T14:32:06.006Z"
   },
   {
    "duration": 28,
    "start_time": "2022-02-24T14:32:06.062Z"
   },
   {
    "duration": 21,
    "start_time": "2022-02-24T14:32:06.092Z"
   },
   {
    "duration": 12,
    "start_time": "2022-02-24T14:32:06.116Z"
   },
   {
    "duration": 38,
    "start_time": "2022-02-24T14:32:06.130Z"
   },
   {
    "duration": 22,
    "start_time": "2022-02-24T14:32:06.173Z"
   },
   {
    "duration": 11,
    "start_time": "2022-02-24T14:32:06.198Z"
   },
   {
    "duration": 9,
    "start_time": "2022-02-24T14:32:06.212Z"
   },
   {
    "duration": 38,
    "start_time": "2022-02-24T14:32:06.223Z"
   },
   {
    "duration": 29,
    "start_time": "2022-02-24T14:32:06.264Z"
   },
   {
    "duration": 10,
    "start_time": "2022-02-24T14:32:06.295Z"
   },
   {
    "duration": 32350,
    "start_time": "2022-02-24T14:32:06.307Z"
   },
   {
    "duration": 15,
    "start_time": "2022-02-24T14:32:38.662Z"
   },
   {
    "duration": 4,
    "start_time": "2022-02-24T14:32:56.211Z"
   },
   {
    "duration": 462,
    "start_time": "2022-02-24T14:32:56.219Z"
   },
   {
    "duration": 11,
    "start_time": "2022-02-24T14:32:56.684Z"
   },
   {
    "duration": 29,
    "start_time": "2022-02-24T14:32:56.697Z"
   },
   {
    "duration": 50,
    "start_time": "2022-02-24T14:32:56.728Z"
   },
   {
    "duration": 6,
    "start_time": "2022-02-24T14:32:56.780Z"
   },
   {
    "duration": 32,
    "start_time": "2022-02-24T14:32:56.789Z"
   },
   {
    "duration": 12,
    "start_time": "2022-02-24T14:32:56.823Z"
   },
   {
    "duration": 44,
    "start_time": "2022-02-24T14:32:56.838Z"
   },
   {
    "duration": 27,
    "start_time": "2022-02-24T14:32:56.885Z"
   },
   {
    "duration": 5,
    "start_time": "2022-02-24T14:32:56.914Z"
   },
   {
    "duration": 58,
    "start_time": "2022-02-24T14:32:56.922Z"
   },
   {
    "duration": 11,
    "start_time": "2022-02-24T14:32:56.983Z"
   },
   {
    "duration": 25,
    "start_time": "2022-02-24T14:32:56.996Z"
   },
   {
    "duration": 52,
    "start_time": "2022-02-24T14:32:57.023Z"
   },
   {
    "duration": 22,
    "start_time": "2022-02-24T14:32:57.077Z"
   },
   {
    "duration": 12,
    "start_time": "2022-02-24T14:32:57.102Z"
   },
   {
    "duration": 17,
    "start_time": "2022-02-24T14:32:57.116Z"
   },
   {
    "duration": 41,
    "start_time": "2022-02-24T14:32:57.135Z"
   },
   {
    "duration": 13,
    "start_time": "2022-02-24T14:32:57.178Z"
   },
   {
    "duration": 9,
    "start_time": "2022-02-24T14:32:57.194Z"
   },
   {
    "duration": 10,
    "start_time": "2022-02-24T14:32:57.205Z"
   },
   {
    "duration": 10,
    "start_time": "2022-02-24T14:32:57.217Z"
   },
   {
    "duration": 44,
    "start_time": "2022-02-24T14:32:57.230Z"
   },
   {
    "duration": 79104,
    "start_time": "2022-02-24T14:32:57.276Z"
   },
   {
    "duration": 14,
    "start_time": "2022-02-24T14:34:16.383Z"
   },
   {
    "duration": 4,
    "start_time": "2022-02-24T14:37:47.206Z"
   },
   {
    "duration": 482,
    "start_time": "2022-02-24T14:37:47.213Z"
   },
   {
    "duration": 12,
    "start_time": "2022-02-24T14:37:47.698Z"
   },
   {
    "duration": 29,
    "start_time": "2022-02-24T14:37:47.713Z"
   },
   {
    "duration": 46,
    "start_time": "2022-02-24T14:37:47.744Z"
   },
   {
    "duration": 7,
    "start_time": "2022-02-24T14:37:47.792Z"
   },
   {
    "duration": 60,
    "start_time": "2022-02-24T14:37:47.802Z"
   },
   {
    "duration": 13,
    "start_time": "2022-02-24T14:37:47.865Z"
   },
   {
    "duration": 22,
    "start_time": "2022-02-24T14:37:47.882Z"
   },
   {
    "duration": 60,
    "start_time": "2022-02-24T14:37:47.907Z"
   },
   {
    "duration": 5,
    "start_time": "2022-02-24T14:37:47.969Z"
   },
   {
    "duration": 28,
    "start_time": "2022-02-24T14:37:47.977Z"
   },
   {
    "duration": 10,
    "start_time": "2022-02-24T14:37:48.008Z"
   },
   {
    "duration": 49,
    "start_time": "2022-02-24T14:37:48.020Z"
   },
   {
    "duration": 29,
    "start_time": "2022-02-24T14:37:48.072Z"
   },
   {
    "duration": 22,
    "start_time": "2022-02-24T14:37:48.103Z"
   },
   {
    "duration": 36,
    "start_time": "2022-02-24T14:37:48.128Z"
   },
   {
    "duration": 10,
    "start_time": "2022-02-24T14:37:48.167Z"
   },
   {
    "duration": 18,
    "start_time": "2022-02-24T14:37:48.179Z"
   },
   {
    "duration": 11,
    "start_time": "2022-02-24T14:37:48.199Z"
   },
   {
    "duration": 49,
    "start_time": "2022-02-24T14:37:48.213Z"
   },
   {
    "duration": 7,
    "start_time": "2022-02-24T14:37:48.264Z"
   },
   {
    "duration": 16,
    "start_time": "2022-02-24T14:37:48.274Z"
   },
   {
    "duration": 10,
    "start_time": "2022-02-24T14:37:48.295Z"
   },
   {
    "duration": 474,
    "start_time": "2022-02-24T14:37:48.307Z"
   },
   {
    "duration": -257,
    "start_time": "2022-02-24T14:37:49.041Z"
   },
   {
    "duration": 4,
    "start_time": "2022-02-24T14:38:34.462Z"
   },
   {
    "duration": 588,
    "start_time": "2022-02-24T14:38:34.469Z"
   },
   {
    "duration": 17,
    "start_time": "2022-02-24T14:38:35.063Z"
   },
   {
    "duration": 45,
    "start_time": "2022-02-24T14:38:35.087Z"
   },
   {
    "duration": 44,
    "start_time": "2022-02-24T14:38:35.134Z"
   },
   {
    "duration": 6,
    "start_time": "2022-02-24T14:38:35.180Z"
   },
   {
    "duration": 40,
    "start_time": "2022-02-24T14:38:35.189Z"
   },
   {
    "duration": 17,
    "start_time": "2022-02-24T14:38:35.232Z"
   },
   {
    "duration": 36,
    "start_time": "2022-02-24T14:38:35.263Z"
   },
   {
    "duration": 46,
    "start_time": "2022-02-24T14:38:35.303Z"
   },
   {
    "duration": 6,
    "start_time": "2022-02-24T14:38:35.360Z"
   },
   {
    "duration": 37,
    "start_time": "2022-02-24T14:38:35.368Z"
   },
   {
    "duration": 10,
    "start_time": "2022-02-24T14:38:35.408Z"
   },
   {
    "duration": 23,
    "start_time": "2022-02-24T14:38:35.421Z"
   },
   {
    "duration": 30,
    "start_time": "2022-02-24T14:38:35.447Z"
   },
   {
    "duration": 20,
    "start_time": "2022-02-24T14:38:35.480Z"
   },
   {
    "duration": 11,
    "start_time": "2022-02-24T14:38:35.503Z"
   },
   {
    "duration": 12,
    "start_time": "2022-02-24T14:38:35.518Z"
   },
   {
    "duration": 17,
    "start_time": "2022-02-24T14:38:35.532Z"
   },
   {
    "duration": 15,
    "start_time": "2022-02-24T14:38:35.551Z"
   },
   {
    "duration": 10,
    "start_time": "2022-02-24T14:38:35.568Z"
   },
   {
    "duration": 11,
    "start_time": "2022-02-24T14:38:35.581Z"
   },
   {
    "duration": 12,
    "start_time": "2022-02-24T14:38:35.594Z"
   },
   {
    "duration": 12,
    "start_time": "2022-02-24T14:38:35.609Z"
   },
   {
    "duration": 81156,
    "start_time": "2022-02-24T14:38:35.623Z"
   },
   {
    "duration": 15,
    "start_time": "2022-02-24T14:39:56.782Z"
   },
   {
    "duration": 4,
    "start_time": "2022-02-24T14:43:08.897Z"
   },
   {
    "duration": 490,
    "start_time": "2022-02-24T14:43:08.904Z"
   },
   {
    "duration": 11,
    "start_time": "2022-02-24T14:43:09.397Z"
   },
   {
    "duration": 30,
    "start_time": "2022-02-24T14:43:09.411Z"
   },
   {
    "duration": 47,
    "start_time": "2022-02-24T14:43:09.443Z"
   },
   {
    "duration": 6,
    "start_time": "2022-02-24T14:43:09.493Z"
   },
   {
    "duration": 59,
    "start_time": "2022-02-24T14:43:09.502Z"
   },
   {
    "duration": 12,
    "start_time": "2022-02-24T14:43:09.563Z"
   },
   {
    "duration": 30,
    "start_time": "2022-02-24T14:43:09.579Z"
   },
   {
    "duration": 50,
    "start_time": "2022-02-24T14:43:09.611Z"
   },
   {
    "duration": 6,
    "start_time": "2022-02-24T14:43:09.664Z"
   },
   {
    "duration": 29,
    "start_time": "2022-02-24T14:43:09.672Z"
   },
   {
    "duration": 11,
    "start_time": "2022-02-24T14:43:09.704Z"
   },
   {
    "duration": 55,
    "start_time": "2022-02-24T14:43:09.717Z"
   },
   {
    "duration": 36,
    "start_time": "2022-02-24T14:43:09.775Z"
   },
   {
    "duration": 20,
    "start_time": "2022-02-24T14:43:09.814Z"
   },
   {
    "duration": 33,
    "start_time": "2022-02-24T14:43:09.837Z"
   },
   {
    "duration": 9,
    "start_time": "2022-02-24T14:43:09.872Z"
   },
   {
    "duration": 16,
    "start_time": "2022-02-24T14:43:09.883Z"
   },
   {
    "duration": 13,
    "start_time": "2022-02-24T14:43:09.902Z"
   },
   {
    "duration": 45,
    "start_time": "2022-02-24T14:43:09.917Z"
   },
   {
    "duration": 11,
    "start_time": "2022-02-24T14:43:09.964Z"
   },
   {
    "duration": 8,
    "start_time": "2022-02-24T14:43:09.978Z"
   },
   {
    "duration": 8,
    "start_time": "2022-02-24T14:43:09.988Z"
   },
   {
    "duration": 79840,
    "start_time": "2022-02-24T14:43:09.999Z"
   },
   {
    "duration": 20,
    "start_time": "2022-02-24T14:44:29.841Z"
   },
   {
    "duration": 19,
    "start_time": "2022-02-24T14:45:45.023Z"
   },
   {
    "duration": 9,
    "start_time": "2022-02-24T14:55:44.209Z"
   },
   {
    "duration": 4,
    "start_time": "2022-02-24T15:01:40.323Z"
   },
   {
    "duration": 487,
    "start_time": "2022-02-24T15:01:40.330Z"
   },
   {
    "duration": 11,
    "start_time": "2022-02-24T15:01:40.821Z"
   },
   {
    "duration": 28,
    "start_time": "2022-02-24T15:01:40.835Z"
   },
   {
    "duration": 38,
    "start_time": "2022-02-24T15:01:40.866Z"
   },
   {
    "duration": 7,
    "start_time": "2022-02-24T15:01:40.906Z"
   },
   {
    "duration": 65,
    "start_time": "2022-02-24T15:01:40.915Z"
   },
   {
    "duration": 12,
    "start_time": "2022-02-24T15:01:40.982Z"
   },
   {
    "duration": 25,
    "start_time": "2022-02-24T15:01:40.999Z"
   },
   {
    "duration": 57,
    "start_time": "2022-02-24T15:01:41.028Z"
   },
   {
    "duration": 5,
    "start_time": "2022-02-24T15:01:41.088Z"
   },
   {
    "duration": 24,
    "start_time": "2022-02-24T15:01:41.095Z"
   },
   {
    "duration": 11,
    "start_time": "2022-02-24T15:01:41.121Z"
   },
   {
    "duration": 21,
    "start_time": "2022-02-24T15:01:41.161Z"
   },
   {
    "duration": 24,
    "start_time": "2022-02-24T15:01:41.184Z"
   },
   {
    "duration": 20,
    "start_time": "2022-02-24T15:01:41.210Z"
   },
   {
    "duration": 37,
    "start_time": "2022-02-24T15:01:41.233Z"
   },
   {
    "duration": 12,
    "start_time": "2022-02-24T15:01:41.273Z"
   },
   {
    "duration": 16,
    "start_time": "2022-02-24T15:01:41.287Z"
   },
   {
    "duration": 10,
    "start_time": "2022-02-24T15:01:41.305Z"
   },
   {
    "duration": 45,
    "start_time": "2022-02-24T15:01:41.317Z"
   },
   {
    "duration": 6,
    "start_time": "2022-02-24T15:01:41.364Z"
   },
   {
    "duration": 10,
    "start_time": "2022-02-24T15:01:41.372Z"
   },
   {
    "duration": 11,
    "start_time": "2022-02-24T15:01:41.385Z"
   },
   {
    "duration": 79226,
    "start_time": "2022-02-24T15:01:41.398Z"
   },
   {
    "duration": 8,
    "start_time": "2022-02-24T15:03:00.627Z"
   },
   {
    "duration": 294,
    "start_time": "2022-02-24T15:03:00.640Z"
   },
   {
    "duration": 3,
    "start_time": "2022-02-24T15:07:27.564Z"
   },
   {
    "duration": 515,
    "start_time": "2022-02-24T15:07:27.570Z"
   },
   {
    "duration": 12,
    "start_time": "2022-02-24T15:07:28.088Z"
   },
   {
    "duration": 36,
    "start_time": "2022-02-24T15:07:28.103Z"
   },
   {
    "duration": 39,
    "start_time": "2022-02-24T15:07:28.142Z"
   },
   {
    "duration": 8,
    "start_time": "2022-02-24T15:07:28.184Z"
   },
   {
    "duration": 51,
    "start_time": "2022-02-24T15:07:28.194Z"
   },
   {
    "duration": 22,
    "start_time": "2022-02-24T15:07:28.247Z"
   },
   {
    "duration": 23,
    "start_time": "2022-02-24T15:07:28.274Z"
   },
   {
    "duration": 30,
    "start_time": "2022-02-24T15:07:28.300Z"
   },
   {
    "duration": 32,
    "start_time": "2022-02-24T15:07:28.332Z"
   },
   {
    "duration": 29,
    "start_time": "2022-02-24T15:07:28.367Z"
   },
   {
    "duration": 10,
    "start_time": "2022-02-24T15:07:28.398Z"
   },
   {
    "duration": 24,
    "start_time": "2022-02-24T15:07:28.410Z"
   },
   {
    "duration": 25,
    "start_time": "2022-02-24T15:07:28.462Z"
   },
   {
    "duration": 23,
    "start_time": "2022-02-24T15:07:28.489Z"
   },
   {
    "duration": 13,
    "start_time": "2022-02-24T15:07:28.515Z"
   },
   {
    "duration": 10,
    "start_time": "2022-02-24T15:07:28.562Z"
   },
   {
    "duration": 18,
    "start_time": "2022-02-24T15:07:28.575Z"
   },
   {
    "duration": 10,
    "start_time": "2022-02-24T15:07:28.596Z"
   },
   {
    "duration": 9,
    "start_time": "2022-02-24T15:07:28.608Z"
   },
   {
    "duration": 42,
    "start_time": "2022-02-24T15:07:28.619Z"
   },
   {
    "duration": 7,
    "start_time": "2022-02-24T15:07:28.664Z"
   },
   {
    "duration": 8,
    "start_time": "2022-02-24T15:07:28.673Z"
   },
   {
    "duration": 80046,
    "start_time": "2022-02-24T15:07:28.684Z"
   },
   {
    "duration": 10,
    "start_time": "2022-02-24T15:08:48.732Z"
   },
   {
    "duration": 31,
    "start_time": "2022-02-24T15:08:48.747Z"
   },
   {
    "duration": 4,
    "start_time": "2022-02-24T15:15:13.428Z"
   },
   {
    "duration": 491,
    "start_time": "2022-02-24T15:15:13.436Z"
   },
   {
    "duration": 11,
    "start_time": "2022-02-24T15:15:13.930Z"
   },
   {
    "duration": 29,
    "start_time": "2022-02-24T15:15:13.944Z"
   },
   {
    "duration": 37,
    "start_time": "2022-02-24T15:15:13.976Z"
   },
   {
    "duration": 6,
    "start_time": "2022-02-24T15:15:14.016Z"
   },
   {
    "duration": 56,
    "start_time": "2022-02-24T15:15:14.024Z"
   },
   {
    "duration": 12,
    "start_time": "2022-02-24T15:15:14.083Z"
   },
   {
    "duration": 24,
    "start_time": "2022-02-24T15:15:14.099Z"
   },
   {
    "duration": 56,
    "start_time": "2022-02-24T15:15:14.126Z"
   },
   {
    "duration": 7,
    "start_time": "2022-02-24T15:15:14.185Z"
   },
   {
    "duration": 27,
    "start_time": "2022-02-24T15:15:14.194Z"
   },
   {
    "duration": 11,
    "start_time": "2022-02-24T15:15:14.223Z"
   },
   {
    "duration": 19,
    "start_time": "2022-02-24T15:15:14.262Z"
   },
   {
    "duration": 24,
    "start_time": "2022-02-24T15:15:14.283Z"
   },
   {
    "duration": 53,
    "start_time": "2022-02-24T15:15:14.309Z"
   },
   {
    "duration": 11,
    "start_time": "2022-02-24T15:15:14.365Z"
   },
   {
    "duration": 9,
    "start_time": "2022-02-24T15:15:14.378Z"
   },
   {
    "duration": 15,
    "start_time": "2022-02-24T15:15:14.389Z"
   },
   {
    "duration": 10,
    "start_time": "2022-02-24T15:15:14.406Z"
   },
   {
    "duration": 7,
    "start_time": "2022-02-24T15:15:14.462Z"
   },
   {
    "duration": 8,
    "start_time": "2022-02-24T15:15:14.471Z"
   },
   {
    "duration": 8,
    "start_time": "2022-02-24T15:15:14.481Z"
   },
   {
    "duration": 11,
    "start_time": "2022-02-24T15:15:14.492Z"
   },
   {
    "duration": 80619,
    "start_time": "2022-02-24T15:15:14.506Z"
   },
   {
    "duration": 10,
    "start_time": "2022-02-24T15:16:35.127Z"
   },
   {
    "duration": 38,
    "start_time": "2022-02-24T15:16:35.141Z"
   },
   {
    "duration": 25,
    "start_time": "2022-02-24T15:17:20.075Z"
   },
   {
    "duration": 266,
    "start_time": "2022-02-24T15:43:06.425Z"
   },
   {
    "duration": 13,
    "start_time": "2022-02-24T15:43:31.742Z"
   },
   {
    "duration": 15,
    "start_time": "2022-02-24T15:45:54.713Z"
   },
   {
    "duration": 789,
    "start_time": "2022-02-25T13:37:57.264Z"
   },
   {
    "duration": 509,
    "start_time": "2022-02-25T13:37:58.056Z"
   },
   {
    "duration": 22,
    "start_time": "2022-02-25T13:37:58.568Z"
   },
   {
    "duration": 33,
    "start_time": "2022-02-25T13:37:58.592Z"
   },
   {
    "duration": 43,
    "start_time": "2022-02-25T13:37:58.628Z"
   },
   {
    "duration": 7,
    "start_time": "2022-02-25T13:37:58.673Z"
   },
   {
    "duration": 37,
    "start_time": "2022-02-25T13:37:58.682Z"
   },
   {
    "duration": 13,
    "start_time": "2022-02-25T13:37:58.722Z"
   },
   {
    "duration": 25,
    "start_time": "2022-02-25T13:37:58.739Z"
   },
   {
    "duration": 46,
    "start_time": "2022-02-25T13:37:58.767Z"
   },
   {
    "duration": 6,
    "start_time": "2022-02-25T13:37:58.816Z"
   },
   {
    "duration": 26,
    "start_time": "2022-02-25T13:37:58.824Z"
   },
   {
    "duration": 10,
    "start_time": "2022-02-25T13:37:58.852Z"
   },
   {
    "duration": 22,
    "start_time": "2022-02-25T13:37:58.865Z"
   },
   {
    "duration": 27,
    "start_time": "2022-02-25T13:37:58.894Z"
   },
   {
    "duration": 21,
    "start_time": "2022-02-25T13:37:58.923Z"
   },
   {
    "duration": 11,
    "start_time": "2022-02-25T13:37:58.946Z"
   },
   {
    "duration": 9,
    "start_time": "2022-02-25T13:37:58.960Z"
   },
   {
    "duration": 24,
    "start_time": "2022-02-25T13:37:58.971Z"
   },
   {
    "duration": 9,
    "start_time": "2022-02-25T13:37:58.997Z"
   },
   {
    "duration": 8,
    "start_time": "2022-02-25T13:37:59.008Z"
   },
   {
    "duration": 7,
    "start_time": "2022-02-25T13:37:59.019Z"
   },
   {
    "duration": 10,
    "start_time": "2022-02-25T13:37:59.029Z"
   },
   {
    "duration": 53,
    "start_time": "2022-02-25T13:37:59.041Z"
   },
   {
    "duration": 79720,
    "start_time": "2022-02-25T13:37:59.096Z"
   },
   {
    "duration": 9,
    "start_time": "2022-02-25T13:39:18.819Z"
   },
   {
    "duration": 17,
    "start_time": "2022-02-25T13:39:18.832Z"
   },
   {
    "duration": 13,
    "start_time": "2022-02-25T13:39:18.851Z"
   },
   {
    "duration": 88,
    "start_time": "2022-02-25T13:39:18.894Z"
   },
   {
    "duration": -384,
    "start_time": "2022-02-25T13:39:19.368Z"
   },
   {
    "duration": 11,
    "start_time": "2022-02-25T13:40:54.033Z"
   },
   {
    "duration": 13,
    "start_time": "2022-02-25T13:41:12.630Z"
   },
   {
    "duration": 3821,
    "start_time": "2022-02-25T13:41:49.675Z"
   },
   {
    "duration": 509,
    "start_time": "2022-02-25T13:42:12.230Z"
   },
   {
    "duration": 16,
    "start_time": "2022-02-25T13:42:26.033Z"
   },
   {
    "duration": 6,
    "start_time": "2022-02-25T13:43:06.920Z"
   },
   {
    "duration": 6,
    "start_time": "2022-02-25T13:43:16.450Z"
   },
   {
    "duration": 16,
    "start_time": "2022-02-25T13:44:04.860Z"
   },
   {
    "duration": 15,
    "start_time": "2022-02-25T13:44:10.122Z"
   },
   {
    "duration": 9,
    "start_time": "2022-02-25T13:46:20.166Z"
   },
   {
    "duration": 17,
    "start_time": "2022-02-25T13:46:24.424Z"
   },
   {
    "duration": 18,
    "start_time": "2022-02-25T13:46:24.758Z"
   },
   {
    "duration": 13,
    "start_time": "2022-02-25T13:47:39.155Z"
   },
   {
    "duration": 4,
    "start_time": "2022-02-25T13:47:46.932Z"
   },
   {
    "duration": 1090,
    "start_time": "2022-02-25T13:47:46.940Z"
   },
   {
    "duration": 16,
    "start_time": "2022-02-25T13:47:48.034Z"
   },
   {
    "duration": 28,
    "start_time": "2022-02-25T13:47:48.053Z"
   },
   {
    "duration": 47,
    "start_time": "2022-02-25T13:47:48.085Z"
   },
   {
    "duration": 7,
    "start_time": "2022-02-25T13:47:48.135Z"
   },
   {
    "duration": 50,
    "start_time": "2022-02-25T13:47:48.144Z"
   },
   {
    "duration": 15,
    "start_time": "2022-02-25T13:47:48.198Z"
   },
   {
    "duration": 6912,
    "start_time": "2022-02-25T13:48:32.500Z"
   },
   {
    "duration": 3,
    "start_time": "2022-02-25T13:49:05.268Z"
   },
   {
    "duration": 573,
    "start_time": "2022-02-25T13:49:05.274Z"
   },
   {
    "duration": 12,
    "start_time": "2022-02-25T13:49:05.851Z"
   },
   {
    "duration": 32,
    "start_time": "2022-02-25T13:49:05.866Z"
   },
   {
    "duration": 40,
    "start_time": "2022-02-25T13:49:05.901Z"
   },
   {
    "duration": 7,
    "start_time": "2022-02-25T13:49:05.944Z"
   },
   {
    "duration": 60,
    "start_time": "2022-02-25T13:49:05.954Z"
   },
   {
    "duration": 13,
    "start_time": "2022-02-25T13:49:06.018Z"
   },
   {
    "duration": 33,
    "start_time": "2022-02-25T13:49:06.035Z"
   },
   {
    "duration": 28,
    "start_time": "2022-02-25T13:49:06.094Z"
   },
   {
    "duration": 4,
    "start_time": "2022-02-25T13:49:06.125Z"
   },
   {
    "duration": 24,
    "start_time": "2022-02-25T13:49:06.132Z"
   },
   {
    "duration": 36,
    "start_time": "2022-02-25T13:49:06.159Z"
   },
   {
    "duration": 18,
    "start_time": "2022-02-25T13:49:06.197Z"
   },
   {
    "duration": 30,
    "start_time": "2022-02-25T13:49:06.217Z"
   },
   {
    "duration": 56,
    "start_time": "2022-02-25T13:49:06.250Z"
   },
   {
    "duration": 12,
    "start_time": "2022-02-25T13:49:06.309Z"
   },
   {
    "duration": 8,
    "start_time": "2022-02-25T13:49:06.323Z"
   },
   {
    "duration": 14,
    "start_time": "2022-02-25T13:49:06.333Z"
   },
   {
    "duration": 11,
    "start_time": "2022-02-25T13:49:06.349Z"
   },
   {
    "duration": 6,
    "start_time": "2022-02-25T13:49:06.395Z"
   },
   {
    "duration": 6,
    "start_time": "2022-02-25T13:49:06.404Z"
   },
   {
    "duration": 6,
    "start_time": "2022-02-25T13:49:06.414Z"
   },
   {
    "duration": 7,
    "start_time": "2022-02-25T13:49:06.423Z"
   },
   {
    "duration": 81660,
    "start_time": "2022-02-25T13:49:06.433Z"
   },
   {
    "duration": 9,
    "start_time": "2022-02-25T13:50:28.096Z"
   },
   {
    "duration": 7,
    "start_time": "2022-02-25T13:51:11.259Z"
   },
   {
    "duration": 19,
    "start_time": "2022-02-25T13:51:11.966Z"
   },
   {
    "duration": 15,
    "start_time": "2022-02-25T13:51:14.526Z"
   },
   {
    "duration": 15,
    "start_time": "2022-02-25T13:51:36.372Z"
   },
   {
    "duration": 16,
    "start_time": "2022-02-25T13:53:55.156Z"
   },
   {
    "duration": 11,
    "start_time": "2022-02-25T13:54:54.136Z"
   },
   {
    "duration": 12,
    "start_time": "2022-02-25T13:54:55.538Z"
   },
   {
    "duration": 395,
    "start_time": "2022-02-25T13:54:58.719Z"
   },
   {
    "duration": 16,
    "start_time": "2022-02-25T13:54:59.324Z"
   },
   {
    "duration": 95,
    "start_time": "2022-02-25T13:58:00.097Z"
   },
   {
    "duration": 11,
    "start_time": "2022-02-25T13:58:28.190Z"
   },
   {
    "duration": 12,
    "start_time": "2022-02-25T13:58:28.981Z"
   },
   {
    "duration": 449,
    "start_time": "2022-02-25T13:58:33.471Z"
   },
   {
    "duration": 14,
    "start_time": "2022-02-25T13:58:34.826Z"
   },
   {
    "duration": 15,
    "start_time": "2022-02-25T13:58:49.153Z"
   },
   {
    "duration": 11,
    "start_time": "2022-02-25T13:58:49.171Z"
   },
   {
    "duration": 12,
    "start_time": "2022-02-25T13:58:49.184Z"
   },
   {
    "duration": 474,
    "start_time": "2022-02-25T13:58:49.198Z"
   },
   {
    "duration": 23,
    "start_time": "2022-02-25T13:58:49.675Z"
   },
   {
    "duration": 15,
    "start_time": "2022-02-25T13:58:55.851Z"
   },
   {
    "duration": 15,
    "start_time": "2022-02-25T13:59:23.263Z"
   },
   {
    "duration": 23,
    "start_time": "2022-02-25T14:10:50.539Z"
   },
   {
    "duration": 5,
    "start_time": "2022-02-25T14:29:47.568Z"
   },
   {
    "duration": 15,
    "start_time": "2022-02-25T14:30:02.437Z"
   },
   {
    "duration": 69,
    "start_time": "2022-02-25T14:34:01.105Z"
   },
   {
    "duration": 8,
    "start_time": "2022-02-25T14:35:59.291Z"
   },
   {
    "duration": 7,
    "start_time": "2022-02-25T14:36:03.668Z"
   },
   {
    "duration": 4,
    "start_time": "2022-02-25T14:36:37.347Z"
   },
   {
    "duration": 648,
    "start_time": "2022-02-25T14:36:37.354Z"
   },
   {
    "duration": 11,
    "start_time": "2022-02-25T14:36:38.005Z"
   },
   {
    "duration": 26,
    "start_time": "2022-02-25T14:36:38.019Z"
   },
   {
    "duration": 58,
    "start_time": "2022-02-25T14:36:38.048Z"
   },
   {
    "duration": 6,
    "start_time": "2022-02-25T14:36:38.109Z"
   },
   {
    "duration": 31,
    "start_time": "2022-02-25T14:36:38.118Z"
   },
   {
    "duration": 12,
    "start_time": "2022-02-25T14:36:38.151Z"
   },
   {
    "duration": 23,
    "start_time": "2022-02-25T14:36:38.195Z"
   },
   {
    "duration": 33,
    "start_time": "2022-02-25T14:36:38.221Z"
   },
   {
    "duration": 7,
    "start_time": "2022-02-25T14:36:38.258Z"
   },
   {
    "duration": 25,
    "start_time": "2022-02-25T14:36:38.295Z"
   },
   {
    "duration": 10,
    "start_time": "2022-02-25T14:36:38.322Z"
   },
   {
    "duration": 19,
    "start_time": "2022-02-25T14:36:38.334Z"
   },
   {
    "duration": 58,
    "start_time": "2022-02-25T14:36:38.355Z"
   },
   {
    "duration": 21,
    "start_time": "2022-02-25T14:36:38.415Z"
   },
   {
    "duration": 13,
    "start_time": "2022-02-25T14:36:38.438Z"
   },
   {
    "duration": 9,
    "start_time": "2022-02-25T14:36:38.454Z"
   },
   {
    "duration": 15,
    "start_time": "2022-02-25T14:36:38.495Z"
   },
   {
    "duration": 8,
    "start_time": "2022-02-25T14:36:38.513Z"
   },
   {
    "duration": 8,
    "start_time": "2022-02-25T14:36:38.524Z"
   },
   {
    "duration": 6,
    "start_time": "2022-02-25T14:36:38.535Z"
   },
   {
    "duration": 51,
    "start_time": "2022-02-25T14:36:38.543Z"
   },
   {
    "duration": 8,
    "start_time": "2022-02-25T14:36:38.597Z"
   },
   {
    "duration": 100293,
    "start_time": "2022-02-25T14:36:38.608Z"
   },
   {
    "duration": 10,
    "start_time": "2022-02-25T14:38:18.904Z"
   },
   {
    "duration": 18,
    "start_time": "2022-02-25T14:38:18.919Z"
   },
   {
    "duration": 11,
    "start_time": "2022-02-25T14:38:18.940Z"
   },
   {
    "duration": 579,
    "start_time": "2022-02-25T14:38:18.954Z"
   },
   {
    "duration": 15,
    "start_time": "2022-02-25T14:38:19.536Z"
   },
   {
    "duration": 122,
    "start_time": "2022-02-25T14:38:19.555Z"
   },
   {
    "duration": 393,
    "start_time": "2022-02-25T14:41:47.523Z"
   },
   {
    "duration": 45,
    "start_time": "2022-02-25T14:42:09.140Z"
   },
   {
    "duration": 15,
    "start_time": "2022-02-25T14:42:24.915Z"
   },
   {
    "duration": 45,
    "start_time": "2022-02-25T14:42:24.933Z"
   },
   {
    "duration": 82,
    "start_time": "2022-02-25T14:52:36.114Z"
   },
   {
    "duration": 86,
    "start_time": "2022-02-25T14:52:46.637Z"
   },
   {
    "duration": 46,
    "start_time": "2022-02-25T14:52:52.857Z"
   },
   {
    "duration": 69,
    "start_time": "2022-02-25T14:54:49.463Z"
   },
   {
    "duration": 47,
    "start_time": "2022-02-25T14:55:29.845Z"
   },
   {
    "duration": 93,
    "start_time": "2022-02-25T14:56:00.332Z"
   },
   {
    "duration": 614,
    "start_time": "2022-02-25T14:56:10.946Z"
   },
   {
    "duration": 466,
    "start_time": "2022-02-25T14:56:27.935Z"
   },
   {
    "duration": 276,
    "start_time": "2022-02-25T14:57:58.191Z"
   },
   {
    "duration": 340,
    "start_time": "2022-02-25T14:58:07.432Z"
   },
   {
    "duration": 357,
    "start_time": "2022-02-25T14:58:39.793Z"
   },
   {
    "duration": 319,
    "start_time": "2022-02-25T14:59:44.372Z"
   },
   {
    "duration": 277,
    "start_time": "2022-02-25T15:00:39.446Z"
   },
   {
    "duration": 693,
    "start_time": "2022-02-26T12:06:12.068Z"
   },
   {
    "duration": 981,
    "start_time": "2022-02-26T12:06:12.764Z"
   },
   {
    "duration": 21,
    "start_time": "2022-02-26T12:06:13.748Z"
   },
   {
    "duration": 26,
    "start_time": "2022-02-26T12:06:13.772Z"
   },
   {
    "duration": 69,
    "start_time": "2022-02-26T12:06:13.801Z"
   },
   {
    "duration": 6,
    "start_time": "2022-02-26T12:06:13.873Z"
   },
   {
    "duration": 31,
    "start_time": "2022-02-26T12:06:13.881Z"
   },
   {
    "duration": 37,
    "start_time": "2022-02-26T12:06:13.915Z"
   },
   {
    "duration": 25,
    "start_time": "2022-02-26T12:06:13.957Z"
   },
   {
    "duration": 36,
    "start_time": "2022-02-26T12:06:13.986Z"
   },
   {
    "duration": 32,
    "start_time": "2022-02-26T12:06:14.024Z"
   },
   {
    "duration": 27,
    "start_time": "2022-02-26T12:06:14.058Z"
   },
   {
    "duration": 10,
    "start_time": "2022-02-26T12:06:14.088Z"
   },
   {
    "duration": 56,
    "start_time": "2022-02-26T12:06:14.100Z"
   },
   {
    "duration": 27,
    "start_time": "2022-02-26T12:06:14.158Z"
   },
   {
    "duration": 22,
    "start_time": "2022-02-26T12:06:14.187Z"
   },
   {
    "duration": 42,
    "start_time": "2022-02-26T12:06:14.211Z"
   },
   {
    "duration": 9,
    "start_time": "2022-02-26T12:06:14.255Z"
   },
   {
    "duration": 14,
    "start_time": "2022-02-26T12:06:14.266Z"
   },
   {
    "duration": 9,
    "start_time": "2022-02-26T12:06:14.282Z"
   },
   {
    "duration": 6,
    "start_time": "2022-02-26T12:06:14.294Z"
   },
   {
    "duration": 65,
    "start_time": "2022-02-26T12:06:14.302Z"
   },
   {
    "duration": 9,
    "start_time": "2022-02-26T12:06:14.369Z"
   },
   {
    "duration": 10,
    "start_time": "2022-02-26T12:06:14.380Z"
   },
   {
    "duration": 91469,
    "start_time": "2022-02-26T12:06:14.393Z"
   },
   {
    "duration": 9,
    "start_time": "2022-02-26T12:07:45.864Z"
   },
   {
    "duration": 28,
    "start_time": "2022-02-26T12:07:45.878Z"
   },
   {
    "duration": 10,
    "start_time": "2022-02-26T12:07:45.909Z"
   },
   {
    "duration": 530,
    "start_time": "2022-02-26T12:07:45.921Z"
   },
   {
    "duration": 14,
    "start_time": "2022-02-26T12:07:46.453Z"
   },
   {
    "duration": 46,
    "start_time": "2022-02-26T12:07:46.470Z"
   },
   {
    "duration": 332,
    "start_time": "2022-02-26T12:07:46.518Z"
   },
   {
    "duration": 196,
    "start_time": "2022-02-26T12:10:59.615Z"
   },
   {
    "duration": 10,
    "start_time": "2022-02-26T12:12:22.110Z"
   },
   {
    "duration": 21,
    "start_time": "2022-02-26T12:13:06.107Z"
   },
   {
    "duration": 5,
    "start_time": "2022-02-26T12:15:04.127Z"
   },
   {
    "duration": 48,
    "start_time": "2022-02-26T12:15:07.945Z"
   },
   {
    "duration": 535,
    "start_time": "2022-02-26T12:15:09.825Z"
   },
   {
    "duration": 68,
    "start_time": "2022-02-26T12:43:27.775Z"
   },
   {
    "duration": 659,
    "start_time": "2022-02-26T12:43:39.665Z"
   },
   {
    "duration": 221,
    "start_time": "2022-02-26T12:44:05.765Z"
   },
   {
    "duration": 15,
    "start_time": "2022-02-26T12:44:35.032Z"
   },
   {
    "duration": 5,
    "start_time": "2022-02-26T12:44:35.050Z"
   },
   {
    "duration": 45,
    "start_time": "2022-02-26T12:44:35.059Z"
   },
   {
    "duration": 225,
    "start_time": "2022-02-26T12:44:35.106Z"
   },
   {
    "duration": 207,
    "start_time": "2022-02-26T12:45:16.101Z"
   },
   {
    "duration": 78,
    "start_time": "2022-02-26T12:49:00.313Z"
   },
   {
    "duration": 266,
    "start_time": "2022-02-26T12:49:12.280Z"
   },
   {
    "duration": 10,
    "start_time": "2022-02-26T12:50:08.527Z"
   },
   {
    "duration": 274,
    "start_time": "2022-02-26T12:51:39.723Z"
   },
   {
    "duration": 1219,
    "start_time": "2022-02-26T12:52:01.696Z"
   },
   {
    "duration": 4187,
    "start_time": "2022-02-26T12:56:36.026Z"
   },
   {
    "duration": 696,
    "start_time": "2022-02-26T12:57:05.091Z"
   },
   {
    "duration": 4,
    "start_time": "2022-02-26T12:58:13.134Z"
   },
   {
    "duration": 726,
    "start_time": "2022-02-26T12:58:18.546Z"
   },
   {
    "duration": 484,
    "start_time": "2022-02-26T12:58:35.187Z"
   },
   {
    "duration": 527,
    "start_time": "2022-02-26T12:59:49.231Z"
   },
   {
    "duration": 400,
    "start_time": "2022-02-26T13:00:30.211Z"
   },
   {
    "duration": 1073,
    "start_time": "2022-02-26T13:00:54.210Z"
   },
   {
    "duration": 1029,
    "start_time": "2022-02-26T13:01:27.725Z"
   },
   {
    "duration": 635,
    "start_time": "2022-02-26T13:02:08.521Z"
   },
   {
    "duration": 722,
    "start_time": "2022-02-26T13:02:23.820Z"
   },
   {
    "duration": 665,
    "start_time": "2022-02-26T13:02:40.341Z"
   },
   {
    "duration": 772,
    "start_time": "2022-02-26T13:02:53.233Z"
   },
   {
    "duration": 235,
    "start_time": "2022-02-26T13:03:23.408Z"
   },
   {
    "duration": 886,
    "start_time": "2022-02-26T13:03:27.286Z"
   },
   {
    "duration": 888,
    "start_time": "2022-02-26T13:03:43.692Z"
   },
   {
    "duration": 826,
    "start_time": "2022-02-26T13:03:54.232Z"
   },
   {
    "duration": 790,
    "start_time": "2022-02-26T13:04:07.884Z"
   },
   {
    "duration": 777,
    "start_time": "2022-02-26T13:06:09.446Z"
   },
   {
    "duration": 786,
    "start_time": "2022-02-26T13:06:18.476Z"
   },
   {
    "duration": 754,
    "start_time": "2022-02-26T13:06:41.347Z"
   },
   {
    "duration": 859,
    "start_time": "2022-02-26T13:06:51.642Z"
   },
   {
    "duration": 871,
    "start_time": "2022-02-26T13:07:10.831Z"
   },
   {
    "duration": 829,
    "start_time": "2022-02-26T13:07:20.134Z"
   },
   {
    "duration": 755,
    "start_time": "2022-02-26T13:07:26.834Z"
   },
   {
    "duration": 757,
    "start_time": "2022-02-26T13:07:34.553Z"
   },
   {
    "duration": 791,
    "start_time": "2022-02-26T13:08:29.755Z"
   },
   {
    "duration": 922,
    "start_time": "2022-02-26T13:11:30.132Z"
   },
   {
    "duration": 765,
    "start_time": "2022-02-26T13:11:48.192Z"
   },
   {
    "duration": 778,
    "start_time": "2022-02-26T13:12:05.332Z"
   },
   {
    "duration": 820,
    "start_time": "2022-02-26T13:12:13.543Z"
   },
   {
    "duration": 787,
    "start_time": "2022-02-26T13:12:26.103Z"
   },
   {
    "duration": 784,
    "start_time": "2022-02-26T13:12:47.215Z"
   },
   {
    "duration": 864,
    "start_time": "2022-02-26T13:13:49.681Z"
   },
   {
    "duration": 755,
    "start_time": "2022-02-26T13:15:15.989Z"
   },
   {
    "duration": 786,
    "start_time": "2022-02-26T13:16:16.691Z"
   },
   {
    "duration": 76,
    "start_time": "2022-02-26T13:21:58.851Z"
   },
   {
    "duration": 60,
    "start_time": "2022-02-26T13:22:13.203Z"
   },
   {
    "duration": 251,
    "start_time": "2022-02-26T15:35:33.125Z"
   },
   {
    "duration": 472,
    "start_time": "2022-02-26T15:35:48.654Z"
   },
   {
    "duration": 452,
    "start_time": "2022-02-26T15:35:49.128Z"
   },
   {
    "duration": 11,
    "start_time": "2022-02-26T15:35:49.583Z"
   },
   {
    "duration": 35,
    "start_time": "2022-02-26T15:35:49.596Z"
   },
   {
    "duration": 36,
    "start_time": "2022-02-26T15:35:49.633Z"
   },
   {
    "duration": 6,
    "start_time": "2022-02-26T15:35:49.671Z"
   },
   {
    "duration": 30,
    "start_time": "2022-02-26T15:35:49.680Z"
   },
   {
    "duration": 11,
    "start_time": "2022-02-26T15:35:49.712Z"
   },
   {
    "duration": 38,
    "start_time": "2022-02-26T15:35:49.728Z"
   },
   {
    "duration": 28,
    "start_time": "2022-02-26T15:35:49.769Z"
   },
   {
    "duration": 5,
    "start_time": "2022-02-26T15:35:49.799Z"
   },
   {
    "duration": 57,
    "start_time": "2022-02-26T15:35:49.806Z"
   },
   {
    "duration": 10,
    "start_time": "2022-02-26T15:35:49.865Z"
   },
   {
    "duration": 20,
    "start_time": "2022-02-26T15:35:49.877Z"
   },
   {
    "duration": 52,
    "start_time": "2022-02-26T15:35:49.899Z"
   },
   {
    "duration": 21,
    "start_time": "2022-02-26T15:35:49.953Z"
   },
   {
    "duration": 11,
    "start_time": "2022-02-26T15:35:49.976Z"
   },
   {
    "duration": 9,
    "start_time": "2022-02-26T15:35:49.989Z"
   },
   {
    "duration": 50,
    "start_time": "2022-02-26T15:35:50.001Z"
   },
   {
    "duration": 10,
    "start_time": "2022-02-26T15:35:50.053Z"
   },
   {
    "duration": 10,
    "start_time": "2022-02-26T15:35:50.066Z"
   },
   {
    "duration": 10,
    "start_time": "2022-02-26T15:35:50.078Z"
   },
   {
    "duration": 10,
    "start_time": "2022-02-26T15:35:50.091Z"
   },
   {
    "duration": 9,
    "start_time": "2022-02-26T15:35:50.103Z"
   },
   {
    "duration": 82816,
    "start_time": "2022-02-26T15:35:50.114Z"
   },
   {
    "duration": 9,
    "start_time": "2022-02-26T15:37:12.932Z"
   },
   {
    "duration": 18,
    "start_time": "2022-02-26T15:37:12.954Z"
   },
   {
    "duration": 10,
    "start_time": "2022-02-26T15:37:12.974Z"
   },
   {
    "duration": 517,
    "start_time": "2022-02-26T15:37:12.987Z"
   },
   {
    "duration": 14,
    "start_time": "2022-02-26T15:37:13.506Z"
   },
   {
    "duration": 5,
    "start_time": "2022-02-26T15:37:13.523Z"
   },
   {
    "duration": 77,
    "start_time": "2022-02-26T15:37:13.530Z"
   },
   {
    "duration": 882,
    "start_time": "2022-02-26T15:37:13.610Z"
   },
   {
    "duration": 737,
    "start_time": "2022-02-26T15:37:14.495Z"
   },
   {
    "duration": 818,
    "start_time": "2022-02-26T15:37:15.235Z"
   },
   {
    "duration": 741,
    "start_time": "2022-02-26T15:37:16.056Z"
   },
   {
    "duration": 17,
    "start_time": "2022-02-26T15:37:16.800Z"
   },
   {
    "duration": 14,
    "start_time": "2022-02-26T15:39:45.974Z"
   },
   {
    "duration": 14,
    "start_time": "2022-02-26T15:39:52.267Z"
   },
   {
    "duration": 12,
    "start_time": "2022-02-26T15:45:04.267Z"
   },
   {
    "duration": 14,
    "start_time": "2022-02-26T15:47:47.015Z"
   },
   {
    "duration": 14,
    "start_time": "2022-02-26T15:47:59.676Z"
   },
   {
    "duration": 13,
    "start_time": "2022-02-26T15:49:26.607Z"
   },
   {
    "duration": 14,
    "start_time": "2022-02-26T15:49:58.068Z"
   },
   {
    "duration": 13,
    "start_time": "2022-02-26T15:49:58.084Z"
   },
   {
    "duration": 13,
    "start_time": "2022-02-26T15:50:33.840Z"
   },
   {
    "duration": 88,
    "start_time": "2022-02-27T09:44:28.284Z"
   },
   {
    "duration": 85,
    "start_time": "2022-02-27T10:27:58.252Z"
   },
   {
    "duration": 82,
    "start_time": "2022-02-27T10:28:10.271Z"
   },
   {
    "duration": 292,
    "start_time": "2022-02-27T10:32:51.426Z"
   },
   {
    "duration": 102,
    "start_time": "2022-02-27T10:58:09.606Z"
   },
   {
    "duration": 240,
    "start_time": "2022-02-27T10:58:09.471Z"
   },
   {
    "duration": 231,
    "start_time": "2022-02-27T10:58:09.481Z"
   },
   {
    "duration": 229,
    "start_time": "2022-02-27T10:58:09.484Z"
   },
   {
    "duration": 227,
    "start_time": "2022-02-27T10:58:09.487Z"
   },
   {
    "duration": 213,
    "start_time": "2022-02-27T10:58:09.502Z"
   },
   {
    "duration": 212,
    "start_time": "2022-02-27T10:58:09.504Z"
   },
   {
    "duration": 209,
    "start_time": "2022-02-27T10:58:09.508Z"
   },
   {
    "duration": 208,
    "start_time": "2022-02-27T10:58:09.510Z"
   },
   {
    "duration": 207,
    "start_time": "2022-02-27T10:58:09.512Z"
   },
   {
    "duration": 207,
    "start_time": "2022-02-27T10:58:09.513Z"
   },
   {
    "duration": 206,
    "start_time": "2022-02-27T10:58:09.515Z"
   },
   {
    "duration": 206,
    "start_time": "2022-02-27T10:58:09.516Z"
   },
   {
    "duration": 206,
    "start_time": "2022-02-27T10:58:09.517Z"
   },
   {
    "duration": 205,
    "start_time": "2022-02-27T10:58:09.519Z"
   },
   {
    "duration": 205,
    "start_time": "2022-02-27T10:58:09.520Z"
   },
   {
    "duration": 202,
    "start_time": "2022-02-27T10:58:09.524Z"
   },
   {
    "duration": 201,
    "start_time": "2022-02-27T10:58:09.525Z"
   },
   {
    "duration": 201,
    "start_time": "2022-02-27T10:58:09.526Z"
   },
   {
    "duration": 201,
    "start_time": "2022-02-27T10:58:09.527Z"
   },
   {
    "duration": 200,
    "start_time": "2022-02-27T10:58:09.529Z"
   },
   {
    "duration": 200,
    "start_time": "2022-02-27T10:58:09.530Z"
   },
   {
    "duration": 200,
    "start_time": "2022-02-27T10:58:09.531Z"
   },
   {
    "duration": 200,
    "start_time": "2022-02-27T10:58:09.532Z"
   },
   {
    "duration": 200,
    "start_time": "2022-02-27T10:58:09.533Z"
   },
   {
    "duration": 200,
    "start_time": "2022-02-27T10:58:09.534Z"
   },
   {
    "duration": 200,
    "start_time": "2022-02-27T10:58:09.535Z"
   },
   {
    "duration": 199,
    "start_time": "2022-02-27T10:58:09.537Z"
   },
   {
    "duration": 199,
    "start_time": "2022-02-27T10:58:09.538Z"
   },
   {
    "duration": 199,
    "start_time": "2022-02-27T10:58:09.539Z"
   },
   {
    "duration": 198,
    "start_time": "2022-02-27T10:58:09.541Z"
   },
   {
    "duration": 198,
    "start_time": "2022-02-27T10:58:09.542Z"
   },
   {
    "duration": 198,
    "start_time": "2022-02-27T10:58:09.543Z"
   },
   {
    "duration": 198,
    "start_time": "2022-02-27T10:58:09.544Z"
   },
   {
    "duration": 198,
    "start_time": "2022-02-27T10:58:09.545Z"
   },
   {
    "duration": 197,
    "start_time": "2022-02-27T10:58:09.547Z"
   },
   {
    "duration": 197,
    "start_time": "2022-02-27T10:58:09.548Z"
   },
   {
    "duration": 257,
    "start_time": "2022-02-27T10:58:09.746Z"
   },
   {
    "duration": 333,
    "start_time": "2022-02-27T10:58:09.672Z"
   },
   {
    "duration": 1105,
    "start_time": "2022-02-27T10:59:10.462Z"
   },
   {
    "duration": 392,
    "start_time": "2022-02-27T10:59:11.569Z"
   },
   {
    "duration": 11,
    "start_time": "2022-02-27T10:59:11.963Z"
   },
   {
    "duration": 24,
    "start_time": "2022-02-27T10:59:11.976Z"
   },
   {
    "duration": 8,
    "start_time": "2022-02-27T10:59:12.001Z"
   },
   {
    "duration": 23,
    "start_time": "2022-02-27T10:59:12.011Z"
   },
   {
    "duration": 7,
    "start_time": "2022-02-27T10:59:12.035Z"
   },
   {
    "duration": 34,
    "start_time": "2022-02-27T10:59:12.044Z"
   },
   {
    "duration": 7,
    "start_time": "2022-02-27T10:59:12.081Z"
   },
   {
    "duration": 9,
    "start_time": "2022-02-27T10:59:12.090Z"
   },
   {
    "duration": 12,
    "start_time": "2022-02-27T10:59:12.100Z"
   },
   {
    "duration": 7,
    "start_time": "2022-02-27T10:59:12.113Z"
   },
   {
    "duration": 55,
    "start_time": "2022-02-27T10:59:12.122Z"
   },
   {
    "duration": 5,
    "start_time": "2022-02-27T10:59:12.179Z"
   },
   {
    "duration": 25,
    "start_time": "2022-02-27T10:59:12.186Z"
   },
   {
    "duration": 2,
    "start_time": "2022-02-27T10:59:12.213Z"
   },
   {
    "duration": 7,
    "start_time": "2022-02-27T10:59:12.217Z"
   },
   {
    "duration": 343,
    "start_time": "2022-02-27T10:59:12.225Z"
   },
   {
    "duration": 324,
    "start_time": "2022-02-27T10:59:12.246Z"
   },
   {
    "duration": 324,
    "start_time": "2022-02-27T10:59:12.247Z"
   },
   {
    "duration": 323,
    "start_time": "2022-02-27T10:59:12.249Z"
   },
   {
    "duration": 323,
    "start_time": "2022-02-27T10:59:12.250Z"
   },
   {
    "duration": 323,
    "start_time": "2022-02-27T10:59:12.251Z"
   },
   {
    "duration": 323,
    "start_time": "2022-02-27T10:59:12.253Z"
   },
   {
    "duration": 323,
    "start_time": "2022-02-27T10:59:12.254Z"
   },
   {
    "duration": 323,
    "start_time": "2022-02-27T10:59:12.255Z"
   },
   {
    "duration": 321,
    "start_time": "2022-02-27T10:59:12.258Z"
   },
   {
    "duration": 318,
    "start_time": "2022-02-27T10:59:12.262Z"
   },
   {
    "duration": 317,
    "start_time": "2022-02-27T10:59:12.264Z"
   },
   {
    "duration": 317,
    "start_time": "2022-02-27T10:59:12.265Z"
   },
   {
    "duration": 316,
    "start_time": "2022-02-27T10:59:12.267Z"
   },
   {
    "duration": 316,
    "start_time": "2022-02-27T10:59:12.268Z"
   },
   {
    "duration": 310,
    "start_time": "2022-02-27T10:59:12.275Z"
   },
   {
    "duration": 309,
    "start_time": "2022-02-27T10:59:12.277Z"
   },
   {
    "duration": 309,
    "start_time": "2022-02-27T10:59:12.278Z"
   },
   {
    "duration": 309,
    "start_time": "2022-02-27T10:59:12.280Z"
   },
   {
    "duration": 309,
    "start_time": "2022-02-27T10:59:12.281Z"
   },
   {
    "duration": 308,
    "start_time": "2022-02-27T10:59:12.283Z"
   },
   {
    "duration": 307,
    "start_time": "2022-02-27T10:59:12.285Z"
   },
   {
    "duration": 22,
    "start_time": "2022-02-27T11:00:33.622Z"
   },
   {
    "duration": 19,
    "start_time": "2022-02-27T11:00:35.852Z"
   },
   {
    "duration": 20,
    "start_time": "2022-02-27T11:00:44.684Z"
   },
   {
    "duration": 2,
    "start_time": "2022-02-27T11:00:44.706Z"
   },
   {
    "duration": 288,
    "start_time": "2022-02-27T11:00:44.710Z"
   },
   {
    "duration": 319,
    "start_time": "2022-02-27T11:00:44.682Z"
   },
   {
    "duration": 319,
    "start_time": "2022-02-27T11:00:44.683Z"
   },
   {
    "duration": 318,
    "start_time": "2022-02-27T11:00:44.685Z"
   },
   {
    "duration": 318,
    "start_time": "2022-02-27T11:00:44.686Z"
   },
   {
    "duration": 317,
    "start_time": "2022-02-27T11:00:44.688Z"
   },
   {
    "duration": 312,
    "start_time": "2022-02-27T11:00:44.694Z"
   },
   {
    "duration": 310,
    "start_time": "2022-02-27T11:00:44.697Z"
   },
   {
    "duration": 310,
    "start_time": "2022-02-27T11:00:44.698Z"
   },
   {
    "duration": 308,
    "start_time": "2022-02-27T11:00:44.701Z"
   },
   {
    "duration": 308,
    "start_time": "2022-02-27T11:00:44.702Z"
   },
   {
    "duration": 306,
    "start_time": "2022-02-27T11:00:44.705Z"
   },
   {
    "duration": 305,
    "start_time": "2022-02-27T11:00:44.707Z"
   },
   {
    "duration": 298,
    "start_time": "2022-02-27T11:00:44.715Z"
   },
   {
    "duration": 297,
    "start_time": "2022-02-27T11:00:44.717Z"
   },
   {
    "duration": 294,
    "start_time": "2022-02-27T11:00:44.721Z"
   },
   {
    "duration": 291,
    "start_time": "2022-02-27T11:00:44.725Z"
   },
   {
    "duration": 289,
    "start_time": "2022-02-27T11:00:44.728Z"
   },
   {
    "duration": 288,
    "start_time": "2022-02-27T11:00:44.730Z"
   },
   {
    "duration": 287,
    "start_time": "2022-02-27T11:00:44.732Z"
   },
   {
    "duration": 20,
    "start_time": "2022-02-27T11:00:54.548Z"
   },
   {
    "duration": 16,
    "start_time": "2022-02-27T11:00:55.571Z"
   },
   {
    "duration": 18,
    "start_time": "2022-02-27T11:01:08.746Z"
   },
   {
    "duration": 2,
    "start_time": "2022-02-27T11:01:08.766Z"
   },
   {
    "duration": 6,
    "start_time": "2022-02-27T11:01:08.771Z"
   },
   {
    "duration": 12,
    "start_time": "2022-02-27T11:01:08.779Z"
   },
   {
    "duration": 65986,
    "start_time": "2022-02-27T11:01:08.792Z"
   },
   {
    "duration": 8,
    "start_time": "2022-02-27T11:02:14.780Z"
   },
   {
    "duration": 13,
    "start_time": "2022-02-27T11:02:14.790Z"
   },
   {
    "duration": 32,
    "start_time": "2022-02-27T11:02:14.805Z"
   },
   {
    "duration": 16,
    "start_time": "2022-02-27T11:02:14.840Z"
   },
   {
    "duration": 346,
    "start_time": "2022-02-27T11:02:14.858Z"
   },
   {
    "duration": 12,
    "start_time": "2022-02-27T11:02:15.206Z"
   },
   {
    "duration": 12,
    "start_time": "2022-02-27T11:02:15.220Z"
   },
   {
    "duration": 15,
    "start_time": "2022-02-27T11:02:15.234Z"
   },
   {
    "duration": 57,
    "start_time": "2022-02-27T11:02:15.250Z"
   },
   {
    "duration": 597,
    "start_time": "2022-02-27T11:02:15.308Z"
   },
   {
    "duration": 607,
    "start_time": "2022-02-27T11:02:15.907Z"
   },
   {
    "duration": 526,
    "start_time": "2022-02-27T11:02:16.516Z"
   },
   {
    "duration": 535,
    "start_time": "2022-02-27T11:02:17.044Z"
   },
   {
    "duration": 10,
    "start_time": "2022-02-27T11:02:17.581Z"
   },
   {
    "duration": 13,
    "start_time": "2022-02-27T11:02:17.592Z"
   },
   {
    "duration": 296,
    "start_time": "2022-02-27T11:10:41.193Z"
   },
   {
    "duration": 272,
    "start_time": "2022-02-27T11:11:07.587Z"
   },
   {
    "duration": 2,
    "start_time": "2022-02-27T11:11:44.188Z"
   },
   {
    "duration": 9,
    "start_time": "2022-02-27T11:38:17.996Z"
   },
   {
    "duration": 9,
    "start_time": "2022-02-27T11:38:35.992Z"
   },
   {
    "duration": 11,
    "start_time": "2022-02-27T12:11:48.166Z"
   },
   {
    "duration": 9,
    "start_time": "2022-02-27T12:11:51.946Z"
   },
   {
    "duration": 50,
    "start_time": "2022-02-27T17:43:58.841Z"
   },
   {
    "duration": 1361,
    "start_time": "2022-03-08T10:53:18.325Z"
   },
   {
    "duration": 529,
    "start_time": "2022-03-08T10:53:19.689Z"
   },
   {
    "duration": 18,
    "start_time": "2022-03-08T10:53:20.221Z"
   },
   {
    "duration": 38,
    "start_time": "2022-03-08T10:53:20.242Z"
   },
   {
    "duration": 11,
    "start_time": "2022-03-08T10:53:20.282Z"
   },
   {
    "duration": 54,
    "start_time": "2022-03-08T10:53:20.295Z"
   },
   {
    "duration": 10,
    "start_time": "2022-03-08T10:53:20.351Z"
   },
   {
    "duration": 19,
    "start_time": "2022-03-08T10:53:20.365Z"
   },
   {
    "duration": 11,
    "start_time": "2022-03-08T10:53:20.387Z"
   },
   {
    "duration": 39,
    "start_time": "2022-03-08T10:53:20.400Z"
   },
   {
    "duration": 19,
    "start_time": "2022-03-08T10:53:20.441Z"
   },
   {
    "duration": 9,
    "start_time": "2022-03-08T10:53:20.462Z"
   },
   {
    "duration": 77,
    "start_time": "2022-03-08T10:53:20.474Z"
   },
   {
    "duration": 7,
    "start_time": "2022-03-08T10:53:20.553Z"
   },
   {
    "duration": 32,
    "start_time": "2022-03-08T10:53:20.562Z"
   },
   {
    "duration": 49,
    "start_time": "2022-03-08T10:53:20.596Z"
   },
   {
    "duration": 6,
    "start_time": "2022-03-08T10:53:20.647Z"
   },
   {
    "duration": 28,
    "start_time": "2022-03-08T10:53:20.655Z"
   },
   {
    "duration": 47,
    "start_time": "2022-03-08T10:53:20.685Z"
   },
   {
    "duration": 20,
    "start_time": "2022-03-08T10:53:20.735Z"
   },
   {
    "duration": 7,
    "start_time": "2022-03-08T10:53:20.757Z"
   },
   {
    "duration": 90881,
    "start_time": "2022-03-08T10:53:20.767Z"
   },
   {
    "duration": 8,
    "start_time": "2022-03-08T10:54:51.653Z"
   },
   {
    "duration": 11,
    "start_time": "2022-03-08T10:54:51.664Z"
   },
   {
    "duration": 22,
    "start_time": "2022-03-08T10:54:51.677Z"
   },
   {
    "duration": 39,
    "start_time": "2022-03-08T10:54:51.702Z"
   },
   {
    "duration": 831,
    "start_time": "2022-03-08T10:54:51.749Z"
   },
   {
    "duration": 157,
    "start_time": "2022-03-08T10:54:52.425Z"
   },
   {
    "duration": 155,
    "start_time": "2022-03-08T10:54:52.428Z"
   },
   {
    "duration": 155,
    "start_time": "2022-03-08T10:54:52.430Z"
   },
   {
    "duration": 152,
    "start_time": "2022-03-08T10:54:52.434Z"
   },
   {
    "duration": 152,
    "start_time": "2022-03-08T10:54:52.436Z"
   },
   {
    "duration": 151,
    "start_time": "2022-03-08T10:54:52.438Z"
   },
   {
    "duration": 151,
    "start_time": "2022-03-08T10:54:52.439Z"
   },
   {
    "duration": 150,
    "start_time": "2022-03-08T10:54:52.441Z"
   },
   {
    "duration": 151,
    "start_time": "2022-03-08T10:54:52.442Z"
   },
   {
    "duration": 150,
    "start_time": "2022-03-08T10:54:52.444Z"
   },
   {
    "duration": 151,
    "start_time": "2022-03-08T10:54:52.445Z"
   },
   {
    "duration": 63,
    "start_time": "2022-03-08T10:55:12.653Z"
   },
   {
    "duration": 60,
    "start_time": "2022-03-08T10:55:38.703Z"
   },
   {
    "duration": 252,
    "start_time": "2022-03-08T14:37:12.767Z"
   },
   {
    "duration": 1088,
    "start_time": "2022-03-08T14:37:16.263Z"
   },
   {
    "duration": 355,
    "start_time": "2022-03-08T14:37:17.353Z"
   },
   {
    "duration": 11,
    "start_time": "2022-03-08T14:37:17.710Z"
   },
   {
    "duration": 22,
    "start_time": "2022-03-08T14:37:17.723Z"
   },
   {
    "duration": 8,
    "start_time": "2022-03-08T14:37:17.746Z"
   },
   {
    "duration": 22,
    "start_time": "2022-03-08T14:37:17.755Z"
   },
   {
    "duration": 6,
    "start_time": "2022-03-08T14:37:17.779Z"
   },
   {
    "duration": 15,
    "start_time": "2022-03-08T14:37:17.787Z"
   },
   {
    "duration": 7,
    "start_time": "2022-03-08T14:37:17.804Z"
   },
   {
    "duration": 7,
    "start_time": "2022-03-08T14:37:17.813Z"
   },
   {
    "duration": 10,
    "start_time": "2022-03-08T14:37:17.821Z"
   },
   {
    "duration": 33,
    "start_time": "2022-03-08T14:37:17.832Z"
   },
   {
    "duration": 49,
    "start_time": "2022-03-08T14:37:17.867Z"
   },
   {
    "duration": 29,
    "start_time": "2022-03-08T14:37:17.917Z"
   },
   {
    "duration": 21,
    "start_time": "2022-03-08T14:37:17.947Z"
   },
   {
    "duration": 39,
    "start_time": "2022-03-08T14:37:17.970Z"
   },
   {
    "duration": 34,
    "start_time": "2022-03-08T14:37:18.011Z"
   },
   {
    "duration": 56,
    "start_time": "2022-03-08T14:37:18.047Z"
   },
   {
    "duration": 6,
    "start_time": "2022-03-08T14:37:18.105Z"
   },
   {
    "duration": 48,
    "start_time": "2022-03-08T14:37:18.112Z"
   },
   {
    "duration": 21,
    "start_time": "2022-03-08T14:37:18.162Z"
   },
   {
    "duration": 22,
    "start_time": "2022-03-08T14:37:18.184Z"
   },
   {
    "duration": 40,
    "start_time": "2022-03-08T14:37:18.210Z"
   },
   {
    "duration": 23,
    "start_time": "2022-03-08T14:37:18.253Z"
   },
   {
    "duration": 18,
    "start_time": "2022-03-08T14:37:18.278Z"
   },
   {
    "duration": 13,
    "start_time": "2022-03-08T14:37:18.298Z"
   },
   {
    "duration": 1113,
    "start_time": "2022-03-08T14:38:05.531Z"
   },
   {
    "duration": 368,
    "start_time": "2022-03-08T14:38:06.646Z"
   },
   {
    "duration": 11,
    "start_time": "2022-03-08T14:38:07.017Z"
   },
   {
    "duration": 28,
    "start_time": "2022-03-08T14:38:07.030Z"
   },
   {
    "duration": 9,
    "start_time": "2022-03-08T14:38:07.059Z"
   },
   {
    "duration": 19,
    "start_time": "2022-03-08T14:38:07.069Z"
   },
   {
    "duration": 7,
    "start_time": "2022-03-08T14:38:07.090Z"
   },
   {
    "duration": 23,
    "start_time": "2022-03-08T14:38:07.099Z"
   },
   {
    "duration": 10,
    "start_time": "2022-03-08T14:38:07.124Z"
   },
   {
    "duration": 29,
    "start_time": "2022-03-08T14:38:07.135Z"
   },
   {
    "duration": 13,
    "start_time": "2022-03-08T14:38:07.166Z"
   },
   {
    "duration": 10,
    "start_time": "2022-03-08T14:38:07.181Z"
   },
   {
    "duration": 34,
    "start_time": "2022-03-08T14:38:07.192Z"
   },
   {
    "duration": 43,
    "start_time": "2022-03-08T14:38:07.227Z"
   },
   {
    "duration": 15,
    "start_time": "2022-03-08T14:38:07.271Z"
   },
   {
    "duration": 26,
    "start_time": "2022-03-08T14:38:07.287Z"
   },
   {
    "duration": 15,
    "start_time": "2022-03-08T14:38:07.314Z"
   },
   {
    "duration": 57,
    "start_time": "2022-03-08T14:38:07.330Z"
   },
   {
    "duration": 5,
    "start_time": "2022-03-08T14:38:07.388Z"
   },
   {
    "duration": 25,
    "start_time": "2022-03-08T14:38:07.395Z"
   },
   {
    "duration": 20,
    "start_time": "2022-03-08T14:38:07.422Z"
   },
   {
    "duration": 22,
    "start_time": "2022-03-08T14:38:07.443Z"
   },
   {
    "duration": 18,
    "start_time": "2022-03-08T14:38:07.468Z"
   },
   {
    "duration": 18,
    "start_time": "2022-03-08T14:38:07.488Z"
   },
   {
    "duration": 14,
    "start_time": "2022-03-08T14:38:07.507Z"
   },
   {
    "duration": 5,
    "start_time": "2022-03-08T14:38:07.523Z"
   },
   {
    "duration": 58633,
    "start_time": "2022-03-08T14:38:07.530Z"
   },
   {
    "duration": 7,
    "start_time": "2022-03-08T14:39:06.164Z"
   },
   {
    "duration": 9,
    "start_time": "2022-03-08T14:39:06.172Z"
   },
   {
    "duration": 14,
    "start_time": "2022-03-08T14:39:06.182Z"
   },
   {
    "duration": 8,
    "start_time": "2022-03-08T14:39:06.197Z"
   },
   {
    "duration": 545,
    "start_time": "2022-03-08T14:39:06.207Z"
   },
   {
    "duration": 429,
    "start_time": "2022-03-08T14:39:06.325Z"
   },
   {
    "duration": 423,
    "start_time": "2022-03-08T14:39:06.332Z"
   },
   {
    "duration": 418,
    "start_time": "2022-03-08T14:39:06.338Z"
   },
   {
    "duration": 400,
    "start_time": "2022-03-08T14:39:06.357Z"
   },
   {
    "duration": 393,
    "start_time": "2022-03-08T14:39:06.365Z"
   },
   {
    "duration": 366,
    "start_time": "2022-03-08T14:39:06.393Z"
   },
   {
    "duration": 359,
    "start_time": "2022-03-08T14:39:06.401Z"
   },
   {
    "duration": 355,
    "start_time": "2022-03-08T14:39:06.406Z"
   },
   {
    "duration": 349,
    "start_time": "2022-03-08T14:39:06.413Z"
   },
   {
    "duration": 346,
    "start_time": "2022-03-08T14:39:06.417Z"
   },
   {
    "duration": 533,
    "start_time": "2022-03-08T20:49:47.911Z"
   },
   {
    "duration": 1341,
    "start_time": "2022-03-08T20:49:51.953Z"
   },
   {
    "duration": 482,
    "start_time": "2022-03-08T20:49:53.296Z"
   },
   {
    "duration": 15,
    "start_time": "2022-03-08T20:49:53.781Z"
   },
   {
    "duration": 27,
    "start_time": "2022-03-08T20:49:53.799Z"
   },
   {
    "duration": 11,
    "start_time": "2022-03-08T20:49:53.828Z"
   },
   {
    "duration": 25,
    "start_time": "2022-03-08T20:49:53.842Z"
   },
   {
    "duration": 10,
    "start_time": "2022-03-08T20:49:53.869Z"
   },
   {
    "duration": 19,
    "start_time": "2022-03-08T20:49:53.881Z"
   },
   {
    "duration": 11,
    "start_time": "2022-03-08T20:49:53.903Z"
   },
   {
    "duration": 9,
    "start_time": "2022-03-08T20:49:53.953Z"
   },
   {
    "duration": 18,
    "start_time": "2022-03-08T20:49:53.964Z"
   },
   {
    "duration": 8,
    "start_time": "2022-03-08T20:49:53.985Z"
   },
   {
    "duration": 64,
    "start_time": "2022-03-08T20:49:53.995Z"
   },
   {
    "duration": 43,
    "start_time": "2022-03-08T20:49:54.061Z"
   },
   {
    "duration": 6,
    "start_time": "2022-03-08T20:49:54.107Z"
   },
   {
    "duration": 62,
    "start_time": "2022-03-08T20:49:54.116Z"
   },
   {
    "duration": 26,
    "start_time": "2022-03-08T20:49:54.181Z"
   },
   {
    "duration": 7,
    "start_time": "2022-03-08T20:49:54.210Z"
   },
   {
    "duration": 50,
    "start_time": "2022-03-08T20:49:54.219Z"
   },
   {
    "duration": 27,
    "start_time": "2022-03-08T20:49:54.271Z"
   },
   {
    "duration": 21,
    "start_time": "2022-03-08T20:49:54.301Z"
   },
   {
    "duration": 34,
    "start_time": "2022-03-08T20:49:54.325Z"
   },
   {
    "duration": 81411,
    "start_time": "2022-03-08T20:49:54.362Z"
   },
   {
    "duration": 11,
    "start_time": "2022-03-08T20:51:15.775Z"
   },
   {
    "duration": 12,
    "start_time": "2022-03-08T20:51:15.789Z"
   },
   {
    "duration": 57,
    "start_time": "2022-03-08T20:51:15.803Z"
   },
   {
    "duration": 10,
    "start_time": "2022-03-08T20:51:15.866Z"
   },
   {
    "duration": 554,
    "start_time": "2022-03-08T20:51:15.879Z"
   },
   {
    "duration": 557,
    "start_time": "2022-03-08T20:51:15.879Z"
   },
   {
    "duration": 554,
    "start_time": "2022-03-08T20:51:15.883Z"
   },
   {
    "duration": 552,
    "start_time": "2022-03-08T20:51:15.886Z"
   },
   {
    "duration": 516,
    "start_time": "2022-03-08T20:51:15.924Z"
   },
   {
    "duration": 513,
    "start_time": "2022-03-08T20:51:15.928Z"
   },
   {
    "duration": 513,
    "start_time": "2022-03-08T20:51:15.930Z"
   },
   {
    "duration": 510,
    "start_time": "2022-03-08T20:51:15.934Z"
   },
   {
    "duration": 452,
    "start_time": "2022-03-08T20:51:15.993Z"
   },
   {
    "duration": 451,
    "start_time": "2022-03-08T20:51:15.996Z"
   },
   {
    "duration": 445,
    "start_time": "2022-03-08T20:51:16.003Z"
   },
   {
    "duration": 11,
    "start_time": "2022-03-08T21:07:05.922Z"
   },
   {
    "duration": 498,
    "start_time": "2022-03-08T21:07:05.936Z"
   },
   {
    "duration": 19,
    "start_time": "2022-03-08T21:07:06.437Z"
   },
   {
    "duration": 11,
    "start_time": "2022-03-08T21:07:06.459Z"
   },
   {
    "duration": 5,
    "start_time": "2022-03-08T21:07:06.473Z"
   },
   {
    "duration": 104,
    "start_time": "2022-03-08T21:07:06.480Z"
   },
   {
    "duration": 808,
    "start_time": "2022-03-08T21:07:06.586Z"
   },
   {
    "duration": 810,
    "start_time": "2022-03-08T21:07:07.396Z"
   },
   {
    "duration": 755,
    "start_time": "2022-03-08T21:07:08.212Z"
   },
   {
    "duration": 744,
    "start_time": "2022-03-08T21:07:08.971Z"
   },
   {
    "duration": 14,
    "start_time": "2022-03-08T21:07:09.718Z"
   },
   {
    "duration": 14,
    "start_time": "2022-03-08T21:07:09.751Z"
   },
   {
    "duration": 389,
    "start_time": "2022-03-10T19:41:43.590Z"
   },
   {
    "duration": 1400,
    "start_time": "2022-03-10T19:41:56.245Z"
   },
   {
    "duration": 519,
    "start_time": "2022-03-10T19:41:57.647Z"
   },
   {
    "duration": 17,
    "start_time": "2022-03-10T19:41:58.169Z"
   },
   {
    "duration": 29,
    "start_time": "2022-03-10T19:41:58.188Z"
   },
   {
    "duration": 12,
    "start_time": "2022-03-10T19:41:58.219Z"
   },
   {
    "duration": 24,
    "start_time": "2022-03-10T19:41:58.234Z"
   },
   {
    "duration": 10,
    "start_time": "2022-03-10T19:41:58.260Z"
   },
   {
    "duration": 20,
    "start_time": "2022-03-10T19:41:58.274Z"
   },
   {
    "duration": 45,
    "start_time": "2022-03-10T19:41:58.297Z"
   },
   {
    "duration": 9,
    "start_time": "2022-03-10T19:41:58.345Z"
   },
   {
    "duration": 16,
    "start_time": "2022-03-10T19:41:58.357Z"
   },
   {
    "duration": 10,
    "start_time": "2022-03-10T19:41:58.375Z"
   },
   {
    "duration": 67,
    "start_time": "2022-03-10T19:41:58.387Z"
   },
   {
    "duration": 46,
    "start_time": "2022-03-10T19:41:58.457Z"
   },
   {
    "duration": 29,
    "start_time": "2022-03-10T19:41:58.506Z"
   },
   {
    "duration": 35,
    "start_time": "2022-03-10T19:41:58.538Z"
   },
   {
    "duration": 30,
    "start_time": "2022-03-10T19:41:58.575Z"
   },
   {
    "duration": 28,
    "start_time": "2022-03-10T19:41:58.607Z"
   },
   {
    "duration": 25,
    "start_time": "2022-03-10T19:41:58.638Z"
   },
   {
    "duration": 26,
    "start_time": "2022-03-10T19:41:58.665Z"
   },
   {
    "duration": 50,
    "start_time": "2022-03-10T19:41:58.693Z"
   },
   {
    "duration": 8,
    "start_time": "2022-03-10T19:41:58.745Z"
   },
   {
    "duration": 87374,
    "start_time": "2022-03-10T19:41:58.758Z"
   },
   {
    "duration": 8,
    "start_time": "2022-03-10T19:43:26.135Z"
   },
   {
    "duration": 11,
    "start_time": "2022-03-10T19:43:26.146Z"
   },
   {
    "duration": 19,
    "start_time": "2022-03-10T19:43:26.159Z"
   },
   {
    "duration": 12,
    "start_time": "2022-03-10T19:43:26.180Z"
   },
   {
    "duration": 554,
    "start_time": "2022-03-10T19:43:26.194Z"
   },
   {
    "duration": 15,
    "start_time": "2022-03-10T19:43:26.750Z"
   },
   {
    "duration": 10,
    "start_time": "2022-03-10T19:43:26.767Z"
   },
   {
    "duration": 5,
    "start_time": "2022-03-10T19:43:26.780Z"
   },
   {
    "duration": 107,
    "start_time": "2022-03-10T19:43:26.787Z"
   },
   {
    "duration": 830,
    "start_time": "2022-03-10T19:43:26.896Z"
   },
   {
    "duration": 873,
    "start_time": "2022-03-10T19:43:27.732Z"
   },
   {
    "duration": 869,
    "start_time": "2022-03-10T19:43:28.607Z"
   },
   {
    "duration": 844,
    "start_time": "2022-03-10T19:43:29.478Z"
   },
   {
    "duration": 19,
    "start_time": "2022-03-10T19:43:30.324Z"
   },
   {
    "duration": 17,
    "start_time": "2022-03-10T19:43:30.345Z"
   },
   {
    "duration": 834,
    "start_time": "2022-03-10T19:45:07.290Z"
   },
   {
    "duration": 815,
    "start_time": "2022-03-10T19:45:19.163Z"
   },
   {
    "duration": 914,
    "start_time": "2022-03-10T19:47:35.118Z"
   },
   {
    "duration": 1077,
    "start_time": "2022-03-10T19:56:21.080Z"
   },
   {
    "duration": 825,
    "start_time": "2022-03-10T19:56:36.836Z"
   },
   {
    "duration": 832,
    "start_time": "2022-03-10T19:59:41.711Z"
   },
   {
    "duration": 824,
    "start_time": "2022-03-10T20:22:42.776Z"
   },
   {
    "duration": 852,
    "start_time": "2022-03-10T20:23:42.894Z"
   },
   {
    "duration": 1407,
    "start_time": "2022-03-10T20:24:06.297Z"
   },
   {
    "duration": 937,
    "start_time": "2022-03-10T20:27:47.725Z"
   },
   {
    "duration": 1349,
    "start_time": "2022-03-11T14:30:32.516Z"
   },
   {
    "duration": 562,
    "start_time": "2022-03-11T14:30:33.872Z"
   },
   {
    "duration": 17,
    "start_time": "2022-03-11T14:30:34.437Z"
   },
   {
    "duration": 29,
    "start_time": "2022-03-11T14:30:34.457Z"
   },
   {
    "duration": 12,
    "start_time": "2022-03-11T14:30:34.489Z"
   },
   {
    "duration": 24,
    "start_time": "2022-03-11T14:30:34.504Z"
   },
   {
    "duration": 11,
    "start_time": "2022-03-11T14:30:34.530Z"
   },
   {
    "duration": 47,
    "start_time": "2022-03-11T14:30:34.544Z"
   },
   {
    "duration": 12,
    "start_time": "2022-03-11T14:30:34.594Z"
   },
   {
    "duration": 13,
    "start_time": "2022-03-11T14:30:34.609Z"
   },
   {
    "duration": 48,
    "start_time": "2022-03-11T14:30:34.624Z"
   },
   {
    "duration": 9,
    "start_time": "2022-03-11T14:30:34.675Z"
   },
   {
    "duration": 34,
    "start_time": "2022-03-11T14:30:34.686Z"
   },
   {
    "duration": 71,
    "start_time": "2022-03-11T14:30:34.723Z"
   },
   {
    "duration": 7,
    "start_time": "2022-03-11T14:30:34.796Z"
   },
   {
    "duration": 33,
    "start_time": "2022-03-11T14:30:34.806Z"
   },
   {
    "duration": 50,
    "start_time": "2022-03-11T14:30:34.841Z"
   },
   {
    "duration": 6,
    "start_time": "2022-03-11T14:30:34.894Z"
   },
   {
    "duration": 28,
    "start_time": "2022-03-11T14:30:34.902Z"
   },
   {
    "duration": 53,
    "start_time": "2022-03-11T14:30:34.932Z"
   },
   {
    "duration": 21,
    "start_time": "2022-03-11T14:30:34.987Z"
   },
   {
    "duration": 8,
    "start_time": "2022-03-11T14:30:35.011Z"
   },
   {
    "duration": 104768,
    "start_time": "2022-03-11T14:30:35.023Z"
   },
   {
    "duration": 10,
    "start_time": "2022-03-11T14:32:19.794Z"
   },
   {
    "duration": 17,
    "start_time": "2022-03-11T14:32:19.807Z"
   },
   {
    "duration": 47,
    "start_time": "2022-03-11T14:32:19.826Z"
   },
   {
    "duration": 18,
    "start_time": "2022-03-11T14:32:19.877Z"
   },
   {
    "duration": 547,
    "start_time": "2022-03-11T14:32:19.899Z"
   },
   {
    "duration": 15,
    "start_time": "2022-03-11T14:32:20.448Z"
   },
   {
    "duration": 17,
    "start_time": "2022-03-11T14:32:20.473Z"
   },
   {
    "duration": 8,
    "start_time": "2022-03-11T14:32:20.493Z"
   },
   {
    "duration": 120,
    "start_time": "2022-03-11T14:32:20.505Z"
   },
   {
    "duration": 7541,
    "start_time": "2022-03-11T14:32:20.628Z"
   },
   {
    "duration": 617,
    "start_time": "2022-03-11T14:32:27.555Z"
   },
   {
    "duration": 614,
    "start_time": "2022-03-11T14:32:27.560Z"
   },
   {
    "duration": 611,
    "start_time": "2022-03-11T14:32:27.564Z"
   },
   {
    "duration": 607,
    "start_time": "2022-03-11T14:32:27.570Z"
   },
   {
    "duration": 606,
    "start_time": "2022-03-11T14:32:27.573Z"
   },
   {
    "duration": 605,
    "start_time": "2022-03-11T14:32:27.577Z"
   },
   {
    "duration": 7606,
    "start_time": "2022-03-11T14:32:59.252Z"
   },
   {
    "duration": 7700,
    "start_time": "2022-03-11T14:33:20.643Z"
   },
   {
    "duration": 7326,
    "start_time": "2022-03-11T14:41:04.602Z"
   },
   {
    "duration": 106882,
    "start_time": "2022-03-11T14:53:16.822Z"
   },
   {
    "duration": 723,
    "start_time": "2022-03-11T15:11:09.866Z"
   },
   {
    "duration": 682,
    "start_time": "2022-03-11T15:11:38.820Z"
   },
   {
    "duration": 8312,
    "start_time": "2022-03-11T15:17:11.447Z"
   },
   {
    "duration": 8277,
    "start_time": "2022-03-11T15:20:34.179Z"
   },
   {
    "duration": 5,
    "start_time": "2022-03-11T15:22:39.842Z"
   },
   {
    "duration": 835,
    "start_time": "2022-03-11T15:22:39.850Z"
   },
   {
    "duration": 16,
    "start_time": "2022-03-11T15:22:40.690Z"
   },
   {
    "duration": 45,
    "start_time": "2022-03-11T15:22:40.710Z"
   },
   {
    "duration": 36,
    "start_time": "2022-03-11T15:22:40.759Z"
   },
   {
    "duration": 37,
    "start_time": "2022-03-11T15:22:40.798Z"
   },
   {
    "duration": 34,
    "start_time": "2022-03-11T15:22:40.838Z"
   },
   {
    "duration": 43,
    "start_time": "2022-03-11T15:22:40.876Z"
   },
   {
    "duration": 24,
    "start_time": "2022-03-11T15:22:40.924Z"
   },
   {
    "duration": 10,
    "start_time": "2022-03-11T15:22:40.951Z"
   },
   {
    "duration": 32,
    "start_time": "2022-03-11T15:22:40.975Z"
   },
   {
    "duration": 39,
    "start_time": "2022-03-11T15:22:41.011Z"
   },
   {
    "duration": 56,
    "start_time": "2022-03-11T15:22:41.053Z"
   },
   {
    "duration": 40,
    "start_time": "2022-03-11T15:22:41.111Z"
   },
   {
    "duration": 20,
    "start_time": "2022-03-11T15:22:41.153Z"
   },
   {
    "duration": 40,
    "start_time": "2022-03-11T15:22:41.177Z"
   },
   {
    "duration": 82,
    "start_time": "2022-03-11T15:22:41.221Z"
   },
   {
    "duration": 7,
    "start_time": "2022-03-11T15:22:41.307Z"
   },
   {
    "duration": 40,
    "start_time": "2022-03-11T15:22:41.317Z"
   },
   {
    "duration": 37,
    "start_time": "2022-03-11T15:22:41.360Z"
   },
   {
    "duration": 27,
    "start_time": "2022-03-11T15:22:41.401Z"
   },
   {
    "duration": 43,
    "start_time": "2022-03-11T15:22:41.432Z"
   },
   {
    "duration": 1437,
    "start_time": "2022-03-11T15:22:55.166Z"
   },
   {
    "duration": 796,
    "start_time": "2022-03-11T15:22:56.607Z"
   },
   {
    "duration": 19,
    "start_time": "2022-03-11T15:22:57.407Z"
   },
   {
    "duration": 29,
    "start_time": "2022-03-11T15:22:57.429Z"
   },
   {
    "duration": 22,
    "start_time": "2022-03-11T15:22:57.461Z"
   },
   {
    "duration": 50,
    "start_time": "2022-03-11T15:22:57.487Z"
   },
   {
    "duration": 36,
    "start_time": "2022-03-11T15:22:57.541Z"
   },
   {
    "duration": 31,
    "start_time": "2022-03-11T15:22:57.582Z"
   },
   {
    "duration": 18,
    "start_time": "2022-03-11T15:22:57.617Z"
   },
   {
    "duration": 43,
    "start_time": "2022-03-11T15:22:57.638Z"
   },
   {
    "duration": 23,
    "start_time": "2022-03-11T15:22:57.684Z"
   },
   {
    "duration": 12,
    "start_time": "2022-03-11T15:22:57.709Z"
   },
   {
    "duration": 66,
    "start_time": "2022-03-11T15:22:57.724Z"
   },
   {
    "duration": 43,
    "start_time": "2022-03-11T15:22:57.792Z"
   },
   {
    "duration": 10,
    "start_time": "2022-03-11T15:22:57.838Z"
   },
   {
    "duration": 32,
    "start_time": "2022-03-11T15:22:57.875Z"
   },
   {
    "duration": 29,
    "start_time": "2022-03-11T15:22:57.910Z"
   },
   {
    "duration": 34,
    "start_time": "2022-03-11T15:22:57.942Z"
   },
   {
    "duration": 33,
    "start_time": "2022-03-11T15:22:57.979Z"
   },
   {
    "duration": 30,
    "start_time": "2022-03-11T15:22:58.015Z"
   },
   {
    "duration": 42,
    "start_time": "2022-03-11T15:22:58.048Z"
   },
   {
    "duration": 8,
    "start_time": "2022-03-11T15:22:58.093Z"
   },
   {
    "duration": 112477,
    "start_time": "2022-03-11T15:22:58.106Z"
   },
   {
    "duration": 9,
    "start_time": "2022-03-11T15:24:50.586Z"
   },
   {
    "duration": 11,
    "start_time": "2022-03-11T15:24:50.598Z"
   },
   {
    "duration": 21,
    "start_time": "2022-03-11T15:24:50.612Z"
   },
   {
    "duration": 46,
    "start_time": "2022-03-11T15:24:50.636Z"
   },
   {
    "duration": 527,
    "start_time": "2022-03-11T15:24:50.685Z"
   },
   {
    "duration": 25,
    "start_time": "2022-03-11T15:24:51.215Z"
   },
   {
    "duration": 37,
    "start_time": "2022-03-11T15:24:51.244Z"
   },
   {
    "duration": 6,
    "start_time": "2022-03-11T15:24:51.285Z"
   },
   {
    "duration": 162,
    "start_time": "2022-03-11T15:24:51.295Z"
   },
   {
    "duration": 7570,
    "start_time": "2022-03-11T15:24:51.461Z"
   },
   {
    "duration": 613,
    "start_time": "2022-03-11T15:24:58.422Z"
   },
   {
    "duration": 609,
    "start_time": "2022-03-11T15:24:58.427Z"
   },
   {
    "duration": 606,
    "start_time": "2022-03-11T15:24:58.432Z"
   },
   {
    "duration": 603,
    "start_time": "2022-03-11T15:24:58.438Z"
   },
   {
    "duration": 600,
    "start_time": "2022-03-11T15:24:58.443Z"
   },
   {
    "duration": 595,
    "start_time": "2022-03-11T15:24:58.449Z"
   },
   {
    "duration": 94,
    "start_time": "2022-03-11T15:27:53.947Z"
   },
   {
    "duration": 94,
    "start_time": "2022-03-11T15:28:06.703Z"
   },
   {
    "duration": 91,
    "start_time": "2022-03-11T15:28:19.770Z"
   },
   {
    "duration": 96,
    "start_time": "2022-03-11T15:28:48.069Z"
   },
   {
    "duration": 7369,
    "start_time": "2022-03-11T15:28:53.261Z"
   },
   {
    "duration": 8012,
    "start_time": "2022-03-11T15:29:46.670Z"
   },
   {
    "duration": 7485,
    "start_time": "2022-03-11T15:30:55.166Z"
   },
   {
    "duration": 7335,
    "start_time": "2022-03-11T15:31:09.124Z"
   },
   {
    "duration": 609,
    "start_time": "2022-03-11T15:37:56.708Z"
   },
   {
    "duration": 39564,
    "start_time": "2022-03-11T16:06:32.846Z"
   },
   {
    "duration": 7439,
    "start_time": "2022-03-11T16:07:35.047Z"
   },
   {
    "duration": 329,
    "start_time": "2022-03-11T16:08:06.375Z"
   },
   {
    "duration": 15095,
    "start_time": "2022-03-11T16:09:08.902Z"
   },
   {
    "duration": 415,
    "start_time": "2022-03-11T16:09:53.335Z"
   },
   {
    "duration": 407,
    "start_time": "2022-03-11T16:10:26.962Z"
   },
   {
    "duration": 404,
    "start_time": "2022-03-11T16:11:02.248Z"
   },
   {
    "duration": 417,
    "start_time": "2022-03-11T16:11:28.915Z"
   },
   {
    "duration": 830,
    "start_time": "2022-03-11T16:12:53.615Z"
   },
   {
    "duration": 741,
    "start_time": "2022-03-11T16:13:19.905Z"
   },
   {
    "duration": 1198,
    "start_time": "2022-03-11T16:14:13.819Z"
   },
   {
    "duration": 1139,
    "start_time": "2022-03-11T16:14:26.068Z"
   },
   {
    "duration": 1124,
    "start_time": "2022-03-11T16:14:35.449Z"
   },
   {
    "duration": 977,
    "start_time": "2022-03-11T16:14:44.707Z"
   },
   {
    "duration": 2287,
    "start_time": "2022-03-11T16:15:30.721Z"
   },
   {
    "duration": 3348,
    "start_time": "2022-03-11T16:16:16.541Z"
   },
   {
    "duration": 2279,
    "start_time": "2022-03-11T16:16:42.007Z"
   },
   {
    "duration": 2617,
    "start_time": "2022-03-11T16:17:32.105Z"
   },
   {
    "duration": 2491,
    "start_time": "2022-03-11T16:21:59.147Z"
   },
   {
    "duration": 2514,
    "start_time": "2022-03-11T16:22:32.146Z"
   },
   {
    "duration": 3186,
    "start_time": "2022-03-11T16:23:35.113Z"
   },
   {
    "duration": 2645,
    "start_time": "2022-03-11T16:27:12.547Z"
   },
   {
    "duration": 2931,
    "start_time": "2022-03-11T16:28:00.911Z"
   },
   {
    "duration": 2995,
    "start_time": "2022-03-11T16:28:09.390Z"
   },
   {
    "duration": 3774,
    "start_time": "2022-03-11T16:28:27.047Z"
   },
   {
    "duration": 2592,
    "start_time": "2022-03-11T16:30:14.765Z"
   },
   {
    "duration": 1152,
    "start_time": "2022-03-11T16:31:22.763Z"
   },
   {
    "duration": 2626,
    "start_time": "2022-03-11T16:31:40.589Z"
   },
   {
    "duration": 1383,
    "start_time": "2022-03-11T17:58:38.861Z"
   },
   {
    "duration": 589,
    "start_time": "2022-03-11T17:58:40.247Z"
   },
   {
    "duration": 17,
    "start_time": "2022-03-11T17:58:40.839Z"
   },
   {
    "duration": 37,
    "start_time": "2022-03-11T17:58:40.859Z"
   },
   {
    "duration": 21,
    "start_time": "2022-03-11T17:58:40.899Z"
   },
   {
    "duration": 41,
    "start_time": "2022-03-11T17:58:40.923Z"
   },
   {
    "duration": 10,
    "start_time": "2022-03-11T17:58:40.966Z"
   },
   {
    "duration": 37,
    "start_time": "2022-03-11T17:58:40.980Z"
   },
   {
    "duration": 39,
    "start_time": "2022-03-11T17:58:41.020Z"
   },
   {
    "duration": 26,
    "start_time": "2022-03-11T17:58:41.062Z"
   },
   {
    "duration": 40,
    "start_time": "2022-03-11T17:58:41.092Z"
   },
   {
    "duration": 30,
    "start_time": "2022-03-11T17:58:41.136Z"
   },
   {
    "duration": 42,
    "start_time": "2022-03-11T17:58:41.169Z"
   },
   {
    "duration": 55,
    "start_time": "2022-03-11T17:58:41.214Z"
   },
   {
    "duration": 8,
    "start_time": "2022-03-11T17:58:41.272Z"
   },
   {
    "duration": 50,
    "start_time": "2022-03-11T17:58:41.283Z"
   },
   {
    "duration": 38,
    "start_time": "2022-03-11T17:58:41.335Z"
   },
   {
    "duration": 7,
    "start_time": "2022-03-11T17:58:41.375Z"
   },
   {
    "duration": 50,
    "start_time": "2022-03-11T17:58:41.384Z"
   },
   {
    "duration": 35,
    "start_time": "2022-03-11T17:58:41.437Z"
   },
   {
    "duration": 25,
    "start_time": "2022-03-11T17:58:41.475Z"
   },
   {
    "duration": 21,
    "start_time": "2022-03-11T17:58:41.503Z"
   },
   {
    "duration": 101175,
    "start_time": "2022-03-11T17:58:41.529Z"
   },
   {
    "duration": 9,
    "start_time": "2022-03-11T18:00:22.707Z"
   },
   {
    "duration": 16,
    "start_time": "2022-03-11T18:00:22.718Z"
   },
   {
    "duration": 41,
    "start_time": "2022-03-11T18:00:22.736Z"
   },
   {
    "duration": 12,
    "start_time": "2022-03-11T18:00:22.779Z"
   },
   {
    "duration": 585,
    "start_time": "2022-03-11T18:00:22.793Z"
   },
   {
    "duration": 15,
    "start_time": "2022-03-11T18:00:23.381Z"
   },
   {
    "duration": 14,
    "start_time": "2022-03-11T18:00:23.398Z"
   },
   {
    "duration": 6,
    "start_time": "2022-03-11T18:00:23.414Z"
   },
   {
    "duration": 114,
    "start_time": "2022-03-11T18:00:23.422Z"
   },
   {
    "duration": 850,
    "start_time": "2022-03-11T18:00:23.539Z"
   },
   {
    "duration": 876,
    "start_time": "2022-03-11T18:00:24.392Z"
   },
   {
    "duration": 912,
    "start_time": "2022-03-11T18:00:25.273Z"
   },
   {
    "duration": 912,
    "start_time": "2022-03-11T18:00:26.187Z"
   },
   {
    "duration": 15,
    "start_time": "2022-03-11T18:00:27.101Z"
   },
   {
    "duration": 32,
    "start_time": "2022-03-11T18:00:27.118Z"
   }
  ],
  "kernelspec": {
   "display_name": "Python 3 (ipykernel)",
   "language": "python",
   "name": "python3"
  },
  "language_info": {
   "codemirror_mode": {
    "name": "ipython",
    "version": 3
   },
   "file_extension": ".py",
   "mimetype": "text/x-python",
   "name": "python",
   "nbconvert_exporter": "python",
   "pygments_lexer": "ipython3",
   "version": "3.9.5"
  },
  "toc": {
   "base_numbering": 1,
   "nav_menu": {},
   "number_sections": true,
   "sideBar": true,
   "skip_h1_title": true,
   "title_cell": "Содержание",
   "title_sidebar": "Содержание",
   "toc_cell": true,
   "toc_position": {
    "height": "calc(100% - 180px)",
    "left": "10px",
    "top": "150px",
    "width": "261.67px"
   },
   "toc_section_display": true,
   "toc_window_display": true
  }
 },
 "nbformat": 4,
 "nbformat_minor": 2
}
