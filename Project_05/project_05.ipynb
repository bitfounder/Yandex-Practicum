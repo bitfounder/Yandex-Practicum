{
 "cells": [
  {
   "cell_type": "markdown",
   "metadata": {
    "toc": true
   },
   "source": [
    "<h1>Содержание<span class=\"tocSkip\"></span></h1>\n",
    "<div class=\"toc\"><ul class=\"toc-item\"><li><span><a href=\"#Изучение-данных\" data-toc-modified-id=\"Изучение-данных-1\"><span class=\"toc-item-num\">1&nbsp;&nbsp;</span>Изучение данных</a></span><ul class=\"toc-item\"><li><span><a href=\"#Вывод\" data-toc-modified-id=\"Вывод-1.1\"><span class=\"toc-item-num\">1.1&nbsp;&nbsp;</span>Вывод</a></span></li></ul></li><li><span><a href=\"#Разбивка-данных-на-выборки\" data-toc-modified-id=\"Разбивка-данных-на-выборки-2\"><span class=\"toc-item-num\">2&nbsp;&nbsp;</span>Разбивка данных на выборки</a></span></li><li><span><a href=\"#Исследование-моделей\" data-toc-modified-id=\"Исследование-моделей-3\"><span class=\"toc-item-num\">3&nbsp;&nbsp;</span>Исследование моделей</a></span><ul class=\"toc-item\"><li><span><a href=\"#Вывод\" data-toc-modified-id=\"Вывод-3.1\"><span class=\"toc-item-num\">3.1&nbsp;&nbsp;</span>Вывод</a></span></li></ul></li><li><span><a href=\"#Проверка-модели-на-тестовой-выборке\" data-toc-modified-id=\"Проверка-модели-на-тестовой-выборке-4\"><span class=\"toc-item-num\">4&nbsp;&nbsp;</span>Проверка модели на тестовой выборке</a></span><ul class=\"toc-item\"><li><span><a href=\"#Вывод\" data-toc-modified-id=\"Вывод-4.1\"><span class=\"toc-item-num\">4.1&nbsp;&nbsp;</span>Вывод</a></span></li></ul></li><li><span><a href=\"#(бонус)-Проверка-модели-на-адекватность\" data-toc-modified-id=\"(бонус)-Проверка-модели-на-адекватность-5\"><span class=\"toc-item-num\">5&nbsp;&nbsp;</span>(бонус) Проверка модели на адекватность</a></span></li></ul></div>"
   ]
  },
  {
   "cell_type": "markdown",
   "metadata": {},
   "source": [
    "# Рекомендация тарифов"
   ]
  },
  {
   "cell_type": "markdown",
   "metadata": {},
   "source": [
    "В нашем распоряжении данные о поведении клиентов, которые уже перешли на эти тарифы (из проекта «Статистический анализ данных»). Нужно построить модель для задачи классификации, которая выберет подходящий тариф. \n",
    "\n",
    "Построим модель с максимально большим значением *accuracy*, чтобы довести долю правильных ответов по крайней мере до 0.75."
   ]
  },
  {
   "cell_type": "markdown",
   "metadata": {},
   "source": [
    "# Описание данных\n",
    "\n",
    "* `сalls` — количество звонков,\n",
    "* `minutes` — суммарная длительность звонков в минутах,\n",
    "* `messages` — количество sms-сообщений,\n",
    "* `mb_used` — израсходованный интернет-трафик в Мб,\n",
    "* `is_ultra` — каким тарифом пользовался в течение месяца («Ультра» — 1, «Смарт» — 0)."
   ]
  },
  {
   "cell_type": "markdown",
   "metadata": {},
   "source": [
    "## Изучение данных"
   ]
  },
  {
   "cell_type": "markdown",
   "metadata": {},
   "source": [
    "Импортируем необходимые библиотеки.\n"
   ]
  },
  {
   "cell_type": "code",
   "execution_count": 1,
   "metadata": {},
   "outputs": [],
   "source": [
    "import pandas as pd\n",
    "import numpy as np\n",
    "from sklearn.model_selection import train_test_split\n",
    "from sklearn.tree import DecisionTreeClassifier\n",
    "from sklearn.metrics import accuracy_score\n",
    "import time\n",
    "from sklearn.ensemble import RandomForestClassifier\n",
    "from sklearn.linear_model import LogisticRegression\n",
    "from sklearn.dummy import DummyClassifier"
   ]
  },
  {
   "cell_type": "markdown",
   "metadata": {},
   "source": [
    "Прочитаем и выведем первые 5 строк наших данных."
   ]
  },
  {
   "cell_type": "code",
   "execution_count": 2,
   "id": "5268b8f4",
   "metadata": {},
   "outputs": [],
   "source": [
    "df = pd.read_csv('/datasets/users_behavior.csv')"
   ]
  },
  {
   "cell_type": "code",
   "execution_count": 3,
   "id": "b4d18d2e",
   "metadata": {},
   "outputs": [
    {
     "data": {
      "text/html": [
       "<div>\n",
       "<style scoped>\n",
       "    .dataframe tbody tr th:only-of-type {\n",
       "        vertical-align: middle;\n",
       "    }\n",
       "\n",
       "    .dataframe tbody tr th {\n",
       "        vertical-align: top;\n",
       "    }\n",
       "\n",
       "    .dataframe thead th {\n",
       "        text-align: right;\n",
       "    }\n",
       "</style>\n",
       "<table border=\"1\" class=\"dataframe\">\n",
       "  <thead>\n",
       "    <tr style=\"text-align: right;\">\n",
       "      <th></th>\n",
       "      <th>calls</th>\n",
       "      <th>minutes</th>\n",
       "      <th>messages</th>\n",
       "      <th>mb_used</th>\n",
       "      <th>is_ultra</th>\n",
       "    </tr>\n",
       "  </thead>\n",
       "  <tbody>\n",
       "    <tr>\n",
       "      <th>0</th>\n",
       "      <td>40.0</td>\n",
       "      <td>311.90</td>\n",
       "      <td>83.0</td>\n",
       "      <td>19915.42</td>\n",
       "      <td>0</td>\n",
       "    </tr>\n",
       "    <tr>\n",
       "      <th>1</th>\n",
       "      <td>85.0</td>\n",
       "      <td>516.75</td>\n",
       "      <td>56.0</td>\n",
       "      <td>22696.96</td>\n",
       "      <td>0</td>\n",
       "    </tr>\n",
       "    <tr>\n",
       "      <th>2</th>\n",
       "      <td>77.0</td>\n",
       "      <td>467.66</td>\n",
       "      <td>86.0</td>\n",
       "      <td>21060.45</td>\n",
       "      <td>0</td>\n",
       "    </tr>\n",
       "    <tr>\n",
       "      <th>3</th>\n",
       "      <td>106.0</td>\n",
       "      <td>745.53</td>\n",
       "      <td>81.0</td>\n",
       "      <td>8437.39</td>\n",
       "      <td>1</td>\n",
       "    </tr>\n",
       "    <tr>\n",
       "      <th>4</th>\n",
       "      <td>66.0</td>\n",
       "      <td>418.74</td>\n",
       "      <td>1.0</td>\n",
       "      <td>14502.75</td>\n",
       "      <td>0</td>\n",
       "    </tr>\n",
       "  </tbody>\n",
       "</table>\n",
       "</div>"
      ],
      "text/plain": [
       "   calls  minutes  messages   mb_used  is_ultra\n",
       "0   40.0   311.90      83.0  19915.42         0\n",
       "1   85.0   516.75      56.0  22696.96         0\n",
       "2   77.0   467.66      86.0  21060.45         0\n",
       "3  106.0   745.53      81.0   8437.39         1\n",
       "4   66.0   418.74       1.0  14502.75         0"
      ]
     },
     "execution_count": 3,
     "metadata": {},
     "output_type": "execute_result"
    }
   ],
   "source": [
    "df.head()"
   ]
  },
  {
   "cell_type": "markdown",
   "metadata": {},
   "source": [
    "Посмотрим на общую информацию."
   ]
  },
  {
   "cell_type": "code",
   "execution_count": 4,
   "id": "4bac323c",
   "metadata": {},
   "outputs": [
    {
     "name": "stdout",
     "output_type": "stream",
     "text": [
      "<class 'pandas.core.frame.DataFrame'>\n",
      "RangeIndex: 3214 entries, 0 to 3213\n",
      "Data columns (total 5 columns):\n",
      " #   Column    Non-Null Count  Dtype  \n",
      "---  ------    --------------  -----  \n",
      " 0   calls     3214 non-null   float64\n",
      " 1   minutes   3214 non-null   float64\n",
      " 2   messages  3214 non-null   float64\n",
      " 3   mb_used   3214 non-null   float64\n",
      " 4   is_ultra  3214 non-null   int64  \n",
      "dtypes: float64(4), int64(1)\n",
      "memory usage: 125.7 KB\n"
     ]
    }
   ],
   "source": [
    "df.info()"
   ]
  },
  {
   "cell_type": "code",
   "execution_count": 5,
   "id": "4fd8cc35",
   "metadata": {
    "scrolled": false
   },
   "outputs": [
    {
     "data": {
      "text/html": [
       "<div>\n",
       "<style scoped>\n",
       "    .dataframe tbody tr th:only-of-type {\n",
       "        vertical-align: middle;\n",
       "    }\n",
       "\n",
       "    .dataframe tbody tr th {\n",
       "        vertical-align: top;\n",
       "    }\n",
       "\n",
       "    .dataframe thead th {\n",
       "        text-align: right;\n",
       "    }\n",
       "</style>\n",
       "<table border=\"1\" class=\"dataframe\">\n",
       "  <thead>\n",
       "    <tr style=\"text-align: right;\">\n",
       "      <th></th>\n",
       "      <th>count</th>\n",
       "      <th>mean</th>\n",
       "      <th>std</th>\n",
       "      <th>min</th>\n",
       "      <th>25%</th>\n",
       "      <th>50%</th>\n",
       "      <th>75%</th>\n",
       "      <th>max</th>\n",
       "    </tr>\n",
       "  </thead>\n",
       "  <tbody>\n",
       "    <tr>\n",
       "      <th>calls</th>\n",
       "      <td>3214.0</td>\n",
       "      <td>63.038892</td>\n",
       "      <td>33.236368</td>\n",
       "      <td>0.0</td>\n",
       "      <td>40.0000</td>\n",
       "      <td>62.000</td>\n",
       "      <td>82.0000</td>\n",
       "      <td>244.00</td>\n",
       "    </tr>\n",
       "    <tr>\n",
       "      <th>minutes</th>\n",
       "      <td>3214.0</td>\n",
       "      <td>438.208787</td>\n",
       "      <td>234.569872</td>\n",
       "      <td>0.0</td>\n",
       "      <td>274.5750</td>\n",
       "      <td>430.600</td>\n",
       "      <td>571.9275</td>\n",
       "      <td>1632.06</td>\n",
       "    </tr>\n",
       "    <tr>\n",
       "      <th>messages</th>\n",
       "      <td>3214.0</td>\n",
       "      <td>38.281269</td>\n",
       "      <td>36.148326</td>\n",
       "      <td>0.0</td>\n",
       "      <td>9.0000</td>\n",
       "      <td>30.000</td>\n",
       "      <td>57.0000</td>\n",
       "      <td>224.00</td>\n",
       "    </tr>\n",
       "    <tr>\n",
       "      <th>mb_used</th>\n",
       "      <td>3214.0</td>\n",
       "      <td>17207.673836</td>\n",
       "      <td>7570.968246</td>\n",
       "      <td>0.0</td>\n",
       "      <td>12491.9025</td>\n",
       "      <td>16943.235</td>\n",
       "      <td>21424.7000</td>\n",
       "      <td>49745.73</td>\n",
       "    </tr>\n",
       "    <tr>\n",
       "      <th>is_ultra</th>\n",
       "      <td>3214.0</td>\n",
       "      <td>0.306472</td>\n",
       "      <td>0.461100</td>\n",
       "      <td>0.0</td>\n",
       "      <td>0.0000</td>\n",
       "      <td>0.000</td>\n",
       "      <td>1.0000</td>\n",
       "      <td>1.00</td>\n",
       "    </tr>\n",
       "  </tbody>\n",
       "</table>\n",
       "</div>"
      ],
      "text/plain": [
       "           count          mean          std  min         25%        50%  \\\n",
       "calls     3214.0     63.038892    33.236368  0.0     40.0000     62.000   \n",
       "minutes   3214.0    438.208787   234.569872  0.0    274.5750    430.600   \n",
       "messages  3214.0     38.281269    36.148326  0.0      9.0000     30.000   \n",
       "mb_used   3214.0  17207.673836  7570.968246  0.0  12491.9025  16943.235   \n",
       "is_ultra  3214.0      0.306472     0.461100  0.0      0.0000      0.000   \n",
       "\n",
       "                 75%       max  \n",
       "calls        82.0000    244.00  \n",
       "minutes     571.9275   1632.06  \n",
       "messages     57.0000    224.00  \n",
       "mb_used   21424.7000  49745.73  \n",
       "is_ultra      1.0000      1.00  "
      ]
     },
     "execution_count": 5,
     "metadata": {},
     "output_type": "execute_result"
    }
   ],
   "source": [
    "df.describe().T"
   ]
  },
  {
   "cell_type": "markdown",
   "metadata": {},
   "source": [
    "Итак, в таблице 5 столбцов. Тип данных для столбцов с числовым значением - `float64` и `int64`.\n",
    "\n",
    "Согласно документации к данным:\n",
    "* `сalls` — количество звонков,\n",
    "* `minutes` — суммарная длительность звонков в минутах,\n",
    "* `messages` — количество sms-сообщений,\n",
    "* `mb_used` — израсходованный интернет-трафик в Мб,\n",
    "* `is_ultra` — каким тарифом пользовался в течение месяца («Ультра» — 1, «Смарт» — 0)."
   ]
  },
  {
   "cell_type": "markdown",
   "metadata": {},
   "source": [
    "### Вывод"
   ]
  },
  {
   "cell_type": "markdown",
   "metadata": {},
   "source": [
    "Предварительно можно сказать, что данные всех столбцов, кроме `is_ultra` распределены нормально. Столбец `is_ultra` положительно скошен. Больше всего клиенты пользуются тарифом \"Смарт\". \n",
    "\n",
    "Данные уже очищены. Можно начинать с ними работать."
   ]
  },
  {
   "cell_type": "markdown",
   "metadata": {},
   "source": [
    "## Разбивка данных на выборки"
   ]
  },
  {
   "cell_type": "markdown",
   "metadata": {},
   "source": [
    "Разделим исходные данные на обучающую, валидационную и тестовую выборки. "
   ]
  },
  {
   "cell_type": "code",
   "execution_count": 6,
   "id": "afd4a0bd",
   "metadata": {},
   "outputs": [],
   "source": [
    "# для начала разделим исходые данные на обучающую и валидационную\n",
    "df_train, df_valid = train_test_split(df, test_size=0.4, random_state=123)\n",
    "# а затем валидационную выборку пополам, на валидационную и тестовую\n",
    "df_valid, df_test = train_testt_split(df_valid, test_size=0.5, random_state=123)"
   ]
  },
  {
   "cell_type": "code",
   "execution_count": 7,
   "metadata": {},
   "outputs": [
    {
     "data": {
      "text/plain": [
       "(1928, 5)"
      ]
     },
     "execution_count": 7,
     "metadata": {},
     "output_type": "execute_result"
    }
   ],
   "source": [
    "df_train.shape"
   ]
  },
  {
   "cell_type": "code",
   "execution_count": 8,
   "metadata": {},
   "outputs": [
    {
     "data": {
      "text/plain": [
       "(643, 5)"
      ]
     },
     "execution_count": 8,
     "metadata": {},
     "output_type": "execute_result"
    }
   ],
   "source": [
    "df_valid.shape"
   ]
  },
  {
   "cell_type": "code",
   "execution_count": 9,
   "metadata": {},
   "outputs": [
    {
     "data": {
      "text/plain": [
       "(643, 5)"
      ]
     },
     "execution_count": 9,
     "metadata": {},
     "output_type": "execute_result"
    }
   ],
   "source": [
    "df_test.shape"
   ]
  },
  {
   "cell_type": "markdown",
   "metadata": {},
   "source": [
    "Разделили исходные данные на обучающую, валидационную и тестовую в соотношении 3:1:1."
   ]
  },
  {
   "cell_type": "markdown",
   "metadata": {},
   "source": [
    "## Исследование моделей"
   ]
  },
  {
   "cell_type": "markdown",
   "metadata": {},
   "source": [
    "Создадим переменные для признаков и целевого признака."
   ]
  },
  {
   "cell_type": "code",
   "execution_count": 10,
   "id": "6bebe6c5",
   "metadata": {},
   "outputs": [],
   "source": [
    "# обучающие переменные\n",
    "features_train = df_train.drop(['is_ultra'], axis=1)\n",
    "target_train = df_train['is_ultra']\n",
    "# валидационные переменные \n",
    "features_valid = df_valid.drop(['is_ultra'], axis=1)\n",
    "target_valid = df_valid['is_ultra']\n",
    "# тестовые переменные\n",
    "features_test = df_test.drop(['is_ultra'], axis=1)\n",
    "target_test = df_test['is_ultra']"
   ]
  },
  {
   "cell_type": "markdown",
   "metadata": {},
   "source": [
    "**Обучим модель дерева решений.**"
   ]
  },
  {
   "cell_type": "code",
   "execution_count": 11,
   "id": "c968fdcd",
   "metadata": {},
   "outputs": [
    {
     "name": "stdout",
     "output_type": "stream",
     "text": [
      "Максимальная глубина дерева: 5\n",
      "Аccuracy лучшей модели на валидационной выборке 0.823\n",
      "Время, затраченное на выполнение данного кода 0.244\n"
     ]
    }
   ],
   "source": [
    "# используем команду времени, чтобы фиксировать время работы каждой модели \n",
    "startTime_1 = time.time()\n",
    "\n",
    "best_accuracy_1 = 0\n",
    "best_model = None\n",
    "# цикл проходящий по гиперпараметру - глубина дерева\n",
    "for depth in range(1, 30):\n",
    "    model = DecisionTreeClassifier(random_state=123, max_depth=depth)\n",
    "    model.fit(features_train, target_train) # обучим модель на обучающей выборке\n",
    "    predictions = model.predict(features_valid) # предскажем ответы \n",
    "    accuracy = accuracy_score(target_valid, predictions) # посчитаем качество модели\n",
    "    if accuracy > best_accuracy_1:\n",
    "        best_accuracy_1 = accuracy # сохраним лучшее значение метрики accuracy\n",
    "        best_deth = depth # сохраним глубину дерева для лучшего значения метрики accuracy\n",
    "print(f'Максимальная глубина дерева: {best_deth}')\n",
    "print(f'Аccuracy лучшей модели на валидационной выборке {best_accuracy_1:.3}')\n",
    "    \n",
    "endTime_1 = time.time()\n",
    "totalTime_1 = endTime_1 - startTime_1\n",
    "print(f\"Время, затраченное на выполнение данного кода {totalTime_1:.3}\")"
   ]
  },
  {
   "cell_type": "markdown",
   "metadata": {},
   "source": [
    "**Обучим модель случайного леса.**"
   ]
  },
  {
   "cell_type": "code",
   "execution_count": 12,
   "id": "aae1f8d2",
   "metadata": {},
   "outputs": [
    {
     "name": "stdout",
     "output_type": "stream",
     "text": [
      "Количество деревьев 38\n",
      "Аccuracy лучшей модели на валидационной выборке 0.829\n",
      "Время, затраченное на выполнение данного кода 4.41\n"
     ]
    }
   ],
   "source": [
    "startTime_2 = time.time()\n",
    "\n",
    "best_accuracy_2 = 0\n",
    "best_estimators = None\n",
    "for est in range(1, 50):\n",
    "    # обучим модель с заданным количеством деревьев\n",
    "    model = RandomForestClassifier(random_state=123, n_estimators=est) \n",
    "    model.fit(features_train, target_train) # обучим модель на тренировочной выборке\n",
    "    result = model.score(features_valid, target_valid) # посчитаем качество модели \n",
    "    # на валидационной выборке\n",
    "    if result > best_accuracy_2:\n",
    "        best_estimators = est # сохраним кол-во деревьев для лучшего значения метрики accuracy\n",
    "        best_accuracy_2 = result # сохраним наилучшее значение метрики accuracy\n",
    "print(f'Количество деревьев {best_estimators}')\n",
    "print(f'Аccuracy лучшей модели на валидационной выборке {best_accuracy_2:.3}')\n",
    "    \n",
    "endTime_2 = time.time()\n",
    "totalTime_2 = endTime_2 - startTime_2\n",
    "print(f\"Время, затраченное на выполнение данного кода {totalTime_2:.3}\")"
   ]
  },
  {
   "cell_type": "markdown",
   "metadata": {},
   "source": [
    "**Обучим модель логистической регрессии.**"
   ]
  },
  {
   "cell_type": "code",
   "execution_count": 13,
   "id": "78bc9818",
   "metadata": {
    "scrolled": false
   },
   "outputs": [
    {
     "name": "stdout",
     "output_type": "stream",
     "text": [
      "Аccuracy лучшей модели на валидационной выборке 0.759\n",
      "Время, затраченное на выполнение данного кода 0.0262\n"
     ]
    }
   ],
   "source": [
    "startTime_3 = time.time()\n",
    "\n",
    "best_accuracy_3 = 0\n",
    "model = LogisticRegression(random_state=123, solver='lbfgs')\n",
    "model.fit(features_train, target_train)\n",
    "result = model.score(features_valid, target_valid)\n",
    "if result > best_accuracy_3:\n",
    "    best_accuracy_3 = result\n",
    "print(f'Аccuracy лучшей модели на валидационной выборке {best_accuracy_3:.3}')\n",
    "    \n",
    "endTime_3 = time.time()\n",
    "totalTime_3 = endTime_3 - startTime_3\n",
    "print(f\"Время, затраченное на выполнение данного кода {totalTime_3:.3}\")"
   ]
  },
  {
   "cell_type": "markdown",
   "metadata": {},
   "source": [
    "### Вывод"
   ]
  },
  {
   "cell_type": "markdown",
   "metadata": {},
   "source": [
    "Оценим модели по качеству (accuracy) и скорости работы.\n",
    "* Качество (accuracy). \n",
    "Самое высокое качество у случайного леса: вместо одного решающего дерева используется целый оркестр.\n",
    "На втором месте — решающее дерево. Самое низкое качество предсказания у логистической регрессии.\n",
    "* Скорость работы. \n",
    "Высокая скорость работы у логистической регрессии: у неё меньше всего параметров.\n",
    "Скорость решающего дерева тоже высокая и зависит от глубины. Случайный лес медленнее всех: чем больше деревьев, тем неторопливее работает модель.\n",
    "\n",
    "Объединим критерии в таблицу:"
   ]
  },
  {
   "cell_type": "code",
   "execution_count": 14,
   "metadata": {},
   "outputs": [
    {
     "data": {
      "text/html": [
       "<div>\n",
       "<style scoped>\n",
       "    .dataframe tbody tr th:only-of-type {\n",
       "        vertical-align: middle;\n",
       "    }\n",
       "\n",
       "    .dataframe tbody tr th {\n",
       "        vertical-align: top;\n",
       "    }\n",
       "\n",
       "    .dataframe thead th {\n",
       "        text-align: right;\n",
       "    }\n",
       "</style>\n",
       "<table border=\"1\" class=\"dataframe\">\n",
       "  <thead>\n",
       "    <tr style=\"text-align: right;\">\n",
       "      <th></th>\n",
       "      <th>Модель</th>\n",
       "      <th>Точность</th>\n",
       "      <th>Скорость (сек)</th>\n",
       "    </tr>\n",
       "  </thead>\n",
       "  <tbody>\n",
       "    <tr>\n",
       "      <th>0</th>\n",
       "      <td>Решающее дерево</td>\n",
       "      <td>0.823</td>\n",
       "      <td>0.244</td>\n",
       "    </tr>\n",
       "    <tr>\n",
       "      <th>1</th>\n",
       "      <td>Случайный лес</td>\n",
       "      <td>0.829</td>\n",
       "      <td>4.41</td>\n",
       "    </tr>\n",
       "    <tr>\n",
       "      <th>2</th>\n",
       "      <td>Логистическая регрессия</td>\n",
       "      <td>0.759</td>\n",
       "      <td>0.0262</td>\n",
       "    </tr>\n",
       "  </tbody>\n",
       "</table>\n",
       "</div>"
      ],
      "text/plain": [
       "                    Модель Точность Скорость (сек)\n",
       "0          Решающее дерево    0.823          0.244\n",
       "1            Случайный лес    0.829           4.41\n",
       "2  Логистическая регрессия    0.759         0.0262"
      ]
     },
     "execution_count": 14,
     "metadata": {},
     "output_type": "execute_result"
    }
   ],
   "source": [
    "pd.DataFrame({'Модель': ['Решающее дерево', 'Случайный лес', 'Логистическая регрессия']\n",
    "              , 'Точность': [f'{best_accuracy_1:.3}', f'{best_accuracy_2:.3}', f'{best_accuracy_3:.3}']\n",
    "              , 'Скорость (сек)': [f'{totalTime_1:.3}', f'{totalTime_2:.3}', f'{totalTime_3:.3}']})"
   ]
  },
  {
   "cell_type": "markdown",
   "metadata": {},
   "source": [
    "## Проверка модели на тестовой выборке"
   ]
  },
  {
   "cell_type": "markdown",
   "metadata": {},
   "source": [
    "**Проверим модель дерева решений на тестовой выборке.**"
   ]
  },
  {
   "cell_type": "code",
   "execution_count": 15,
   "id": "a9525d16",
   "metadata": {},
   "outputs": [
    {
     "name": "stdout",
     "output_type": "stream",
     "text": [
      "Аccuracy на тестовой выборке 0.771\n",
      "Время, затраченное на выполнение данного кода 0.00701\n"
     ]
    }
   ],
   "source": [
    "startTime_4 = time.time()\n",
    "\n",
    "model = DecisionTreeClassifier(random_state=123, max_depth=5)\n",
    "model.fit(features_train, target_train)\n",
    "predictions = model.predict(features_test)\n",
    "accuracy_4 = accuracy_score(target_test, predictions)\n",
    "    \n",
    "print(f'Аccuracy на тестовой выборке {accuracy_4:.3}')\n",
    "    \n",
    "endTime_4 = time.time()\n",
    "totalTime_4 = endTime_4 - startTime_4\n",
    "print(f\"Время, затраченное на выполнение данного кода {totalTime_4:.3}\")"
   ]
  },
  {
   "cell_type": "markdown",
   "metadata": {},
   "source": [
    "**Проверим модель случайного леса на тестовой выборке.**"
   ]
  },
  {
   "cell_type": "code",
   "execution_count": 16,
   "id": "57cae004",
   "metadata": {},
   "outputs": [
    {
     "name": "stdout",
     "output_type": "stream",
     "text": [
      "Аccuracy на тестовой выборке 0.796\n",
      "Время, затраченное на выполнение данного кода 0.0974\n"
     ]
    }
   ],
   "source": [
    "startTime_5 = time.time()\n",
    "\n",
    "model = RandomForestClassifier(random_state=123, n_estimators=22) \n",
    "model.fit(features_train, target_train)\n",
    "predictions = model.predict(features_test)\n",
    "accuracy_5 = accuracy_score(target_test, predictions)\n",
    "\n",
    "print(f'Аccuracy на тестовой выборке {accuracy_5:.3}')\n",
    "    \n",
    "endTime_5 = time.time()\n",
    "totalTime_5 = endTime_5 - startTime_5\n",
    "print(f\"Время, затраченное на выполнение данного кода {totalTime_5:.3}\")"
   ]
  },
  {
   "cell_type": "markdown",
   "metadata": {},
   "source": [
    "**Проверим модель логистической регрессии на тестовой выборке.**"
   ]
  },
  {
   "cell_type": "code",
   "execution_count": 17,
   "id": "000c412e",
   "metadata": {
    "scrolled": true
   },
   "outputs": [
    {
     "name": "stdout",
     "output_type": "stream",
     "text": [
      "Аccuracy на тестовой выборке 0.731\n",
      "Время, затраченное на выполнение данного кода 0.0249\n"
     ]
    }
   ],
   "source": [
    "startTime_6 = time.time()\n",
    "\n",
    "model = LogisticRegression(random_state=12345, solver='lbfgs')\n",
    "model.fit(features_train, target_train) \n",
    "predictions = model.predict(features_test)\n",
    "accuracy_6 = accuracy_score(target_test, predictions)\n",
    "\n",
    "print(f'Аccuracy на тестовой выборке {accuracy_6:.3}')\n",
    "    \n",
    "endTime_6 = time.time()\n",
    "totalTime_6 = endTime_6 - startTime_6\n",
    "print(f\"Время, затраченное на выполнение данного кода {totalTime_6:.3}\")"
   ]
  },
  {
   "cell_type": "markdown",
   "metadata": {},
   "source": [
    "### Вывод"
   ]
  },
  {
   "cell_type": "markdown",
   "metadata": {},
   "source": [
    "Точность на тестовой выборке всех моделей стала немного меньше. Мы столкнулись с \"легким\" переобучением. Время работы моделей сильно снизилось, кроме логистической регрессии, у которой осталось почти неизменной. \n",
    "\n",
    "Значение accuracy удалось достичь не меньше 0.75.\n",
    "\n",
    "Объединим критерии при валидационной и тестовой выборке в таблицу:"
   ]
  },
  {
   "cell_type": "code",
   "execution_count": 18,
   "metadata": {
    "scrolled": true
   },
   "outputs": [
    {
     "data": {
      "text/html": [
       "<div>\n",
       "<style scoped>\n",
       "    .dataframe tbody tr th:only-of-type {\n",
       "        vertical-align: middle;\n",
       "    }\n",
       "\n",
       "    .dataframe tbody tr th {\n",
       "        vertical-align: top;\n",
       "    }\n",
       "\n",
       "    .dataframe thead th {\n",
       "        text-align: right;\n",
       "    }\n",
       "</style>\n",
       "<table border=\"1\" class=\"dataframe\">\n",
       "  <thead>\n",
       "    <tr style=\"text-align: right;\">\n",
       "      <th></th>\n",
       "      <th>Модель</th>\n",
       "      <th>Точность</th>\n",
       "      <th>Скорость (сек)</th>\n",
       "      <th>Точность_тест</th>\n",
       "      <th>Скорость (сек)_тест</th>\n",
       "    </tr>\n",
       "  </thead>\n",
       "  <tbody>\n",
       "    <tr>\n",
       "      <th>0</th>\n",
       "      <td>Решающее дерево</td>\n",
       "      <td>0.823</td>\n",
       "      <td>0.244</td>\n",
       "      <td>0.771</td>\n",
       "      <td>0.00701</td>\n",
       "    </tr>\n",
       "    <tr>\n",
       "      <th>1</th>\n",
       "      <td>Случайный лес</td>\n",
       "      <td>0.829</td>\n",
       "      <td>4.41</td>\n",
       "      <td>0.796</td>\n",
       "      <td>0.0974</td>\n",
       "    </tr>\n",
       "    <tr>\n",
       "      <th>2</th>\n",
       "      <td>Логистическая регрессия</td>\n",
       "      <td>0.759</td>\n",
       "      <td>0.0262</td>\n",
       "      <td>0.731</td>\n",
       "      <td>0.0249</td>\n",
       "    </tr>\n",
       "  </tbody>\n",
       "</table>\n",
       "</div>"
      ],
      "text/plain": [
       "                    Модель Точность Скорость (сек) Точность_тест  \\\n",
       "0          Решающее дерево    0.823          0.244         0.771   \n",
       "1            Случайный лес    0.829           4.41         0.796   \n",
       "2  Логистическая регрессия    0.759         0.0262         0.731   \n",
       "\n",
       "  Скорость (сек)_тест  \n",
       "0             0.00701  \n",
       "1              0.0974  \n",
       "2              0.0249  "
      ]
     },
     "execution_count": 18,
     "metadata": {},
     "output_type": "execute_result"
    }
   ],
   "source": [
    "pd.DataFrame({'Модель': ['Решающее дерево', 'Случайный лес', 'Логистическая регрессия']\n",
    "              , 'Точность': [f'{best_accuracy_1:.3}', f'{best_accuracy_2:.3}', f'{best_accuracy_3:.3}']\n",
    "              , 'Скорость (сек)': [f'{totalTime_1:.3}', f'{totalTime_2:.3}', f'{totalTime_3:.3}']\n",
    "              , 'Точность_тест': [f'{accuracy_4:.3}', f'{accuracy_5:.3}', f'{accuracy_6:.3}']\n",
    "              , 'Скорость (сек)_тест': [f'{totalTime_4:.3}', f'{totalTime_5:.3}', f'{totalTime_6:.3}']})"
   ]
  },
  {
   "cell_type": "markdown",
   "metadata": {},
   "source": [
    "## (бонус) Проверка модели на адекватность"
   ]
  },
  {
   "cell_type": "code",
   "execution_count": 38,
   "metadata": {
    "scrolled": true
   },
   "outputs": [
    {
     "name": "stdout",
     "output_type": "stream",
     "text": [
      "Аccuracy равно 0.6936\n"
     ]
    }
   ],
   "source": [
    "dummy = DummyClassifier(strategy='most_frequent')\n",
    "dummy.fit(features_train, target_train)\n",
    "dummy_pred = dummy.predict(features_test)\n",
    "accuracy = accuracy_score(target_test, dummy_pred)\n",
    "\n",
    "print(f'Аccuracy равно {accuracy:.4}')\n"
   ]
  }
 ],
 "metadata": {
  "ExecuteTimeLog": [
   {
    "duration": 64,
    "start_time": "2022-04-07T17:35:39.106Z"
   },
   {
    "duration": 1171,
    "start_time": "2022-04-07T17:39:11.774Z"
   },
   {
    "duration": 163,
    "start_time": "2022-04-07T17:39:12.947Z"
   },
   {
    "duration": 0,
    "start_time": "2022-04-07T17:39:13.112Z"
   },
   {
    "duration": 0,
    "start_time": "2022-04-07T17:39:13.114Z"
   },
   {
    "duration": 0,
    "start_time": "2022-04-07T17:39:13.115Z"
   },
   {
    "duration": 0,
    "start_time": "2022-04-07T17:39:13.116Z"
   },
   {
    "duration": 0,
    "start_time": "2022-04-07T17:39:13.117Z"
   },
   {
    "duration": 0,
    "start_time": "2022-04-07T17:39:13.118Z"
   },
   {
    "duration": 0,
    "start_time": "2022-04-07T17:39:13.119Z"
   },
   {
    "duration": 0,
    "start_time": "2022-04-07T17:39:13.120Z"
   },
   {
    "duration": 0,
    "start_time": "2022-04-07T17:39:13.121Z"
   },
   {
    "duration": 0,
    "start_time": "2022-04-07T17:39:13.132Z"
   },
   {
    "duration": 0,
    "start_time": "2022-04-07T17:39:13.133Z"
   },
   {
    "duration": 4,
    "start_time": "2022-04-07T17:39:40.082Z"
   },
   {
    "duration": 22,
    "start_time": "2022-04-07T17:39:40.089Z"
   },
   {
    "duration": 17,
    "start_time": "2022-04-07T17:39:40.113Z"
   },
   {
    "duration": 23,
    "start_time": "2022-04-07T17:39:40.132Z"
   },
   {
    "duration": 32,
    "start_time": "2022-04-07T17:39:40.157Z"
   },
   {
    "duration": 6,
    "start_time": "2022-04-07T17:39:40.191Z"
   },
   {
    "duration": 9,
    "start_time": "2022-04-07T17:39:40.199Z"
   },
   {
    "duration": 317,
    "start_time": "2022-04-07T17:39:40.209Z"
   },
   {
    "duration": 5759,
    "start_time": "2022-04-07T17:39:40.528Z"
   },
   {
    "duration": 47,
    "start_time": "2022-04-07T17:39:46.289Z"
   },
   {
    "duration": 343,
    "start_time": "2022-04-07T17:39:46.339Z"
   },
   {
    "duration": 5828,
    "start_time": "2022-04-07T17:39:46.683Z"
   },
   {
    "duration": 61,
    "start_time": "2022-04-07T17:39:52.513Z"
   },
   {
    "duration": 5437,
    "start_time": "2022-04-07T18:23:29.215Z"
   },
   {
    "duration": 4,
    "start_time": "2022-04-07T18:36:18.264Z"
   },
   {
    "duration": 22,
    "start_time": "2022-04-07T18:36:18.269Z"
   },
   {
    "duration": 10,
    "start_time": "2022-04-07T18:36:18.293Z"
   },
   {
    "duration": 13,
    "start_time": "2022-04-07T18:36:18.305Z"
   },
   {
    "duration": 32,
    "start_time": "2022-04-07T18:36:18.321Z"
   },
   {
    "duration": 5,
    "start_time": "2022-04-07T18:36:18.355Z"
   },
   {
    "duration": 6,
    "start_time": "2022-04-07T18:36:18.362Z"
   },
   {
    "duration": 317,
    "start_time": "2022-04-07T18:36:18.370Z"
   },
   {
    "duration": 5384,
    "start_time": "2022-04-07T18:36:18.688Z"
   },
   {
    "duration": 36,
    "start_time": "2022-04-07T18:36:24.074Z"
   },
   {
    "duration": 2,
    "start_time": "2022-04-07T18:36:24.112Z"
   },
   {
    "duration": 312,
    "start_time": "2022-04-07T18:36:24.116Z"
   },
   {
    "duration": 5652,
    "start_time": "2022-04-07T18:36:24.437Z"
   },
   {
    "duration": 55,
    "start_time": "2022-04-07T18:36:30.091Z"
   },
   {
    "duration": 13,
    "start_time": "2022-04-07T18:39:29.576Z"
   },
   {
    "duration": 10,
    "start_time": "2022-04-07T18:39:47.517Z"
   },
   {
    "duration": 10,
    "start_time": "2022-04-07T18:40:01.763Z"
   },
   {
    "duration": 9,
    "start_time": "2022-04-07T18:40:07.175Z"
   },
   {
    "duration": 12,
    "start_time": "2022-04-07T18:40:31.163Z"
   },
   {
    "duration": 16,
    "start_time": "2022-04-07T18:40:37.175Z"
   },
   {
    "duration": 10,
    "start_time": "2022-04-07T18:42:52.599Z"
   },
   {
    "duration": 5,
    "start_time": "2022-04-07T18:43:25.585Z"
   },
   {
    "duration": 3,
    "start_time": "2022-04-07T18:43:34.820Z"
   },
   {
    "duration": 35,
    "start_time": "2022-04-07T18:43:34.826Z"
   },
   {
    "duration": 10,
    "start_time": "2022-04-07T18:43:34.863Z"
   },
   {
    "duration": 30,
    "start_time": "2022-04-07T18:43:34.875Z"
   },
   {
    "duration": 31,
    "start_time": "2022-04-07T18:43:34.908Z"
   },
   {
    "duration": 10,
    "start_time": "2022-04-07T18:43:34.941Z"
   },
   {
    "duration": 8,
    "start_time": "2022-04-07T18:43:34.952Z"
   },
   {
    "duration": 323,
    "start_time": "2022-04-07T18:43:34.962Z"
   },
   {
    "duration": 5674,
    "start_time": "2022-04-07T18:43:35.287Z"
   },
   {
    "duration": 38,
    "start_time": "2022-04-07T18:43:40.962Z"
   },
   {
    "duration": 5,
    "start_time": "2022-04-07T18:43:41.002Z"
   },
   {
    "duration": 327,
    "start_time": "2022-04-07T18:43:41.009Z"
   },
   {
    "duration": 5784,
    "start_time": "2022-04-07T18:43:41.340Z"
   },
   {
    "duration": 46,
    "start_time": "2022-04-07T18:43:47.126Z"
   },
   {
    "duration": 11,
    "start_time": "2022-04-07T18:43:48.124Z"
   },
   {
    "duration": 11,
    "start_time": "2022-04-07T18:44:09.980Z"
   },
   {
    "duration": 10,
    "start_time": "2022-04-07T18:44:12.391Z"
   },
   {
    "duration": 12,
    "start_time": "2022-04-07T18:44:16.967Z"
   },
   {
    "duration": 14,
    "start_time": "2022-04-07T18:44:22.011Z"
   },
   {
    "duration": 10,
    "start_time": "2022-04-07T18:45:00.188Z"
   },
   {
    "duration": 11,
    "start_time": "2022-04-07T18:45:06.446Z"
   },
   {
    "duration": 12,
    "start_time": "2022-04-07T18:45:10.368Z"
   },
   {
    "duration": 9,
    "start_time": "2022-04-07T18:46:12.502Z"
   },
   {
    "duration": 4,
    "start_time": "2022-04-07T18:46:21.553Z"
   },
   {
    "duration": 22,
    "start_time": "2022-04-07T18:46:21.559Z"
   },
   {
    "duration": 11,
    "start_time": "2022-04-07T18:46:21.583Z"
   },
   {
    "duration": 14,
    "start_time": "2022-04-07T18:46:21.596Z"
   },
   {
    "duration": 41,
    "start_time": "2022-04-07T18:46:21.613Z"
   },
   {
    "duration": 7,
    "start_time": "2022-04-07T18:46:21.655Z"
   },
   {
    "duration": 9,
    "start_time": "2022-04-07T18:46:21.664Z"
   },
   {
    "duration": 320,
    "start_time": "2022-04-07T18:46:21.675Z"
   },
   {
    "duration": 5610,
    "start_time": "2022-04-07T18:46:21.997Z"
   },
   {
    "duration": 53,
    "start_time": "2022-04-07T18:46:27.609Z"
   },
   {
    "duration": 8,
    "start_time": "2022-04-07T18:46:27.664Z"
   },
   {
    "duration": 9,
    "start_time": "2022-04-07T18:48:44.904Z"
   },
   {
    "duration": 7,
    "start_time": "2022-04-07T18:52:28.503Z"
   },
   {
    "duration": 6,
    "start_time": "2022-04-07T18:52:50.861Z"
   },
   {
    "duration": 5,
    "start_time": "2022-04-07T18:53:18.004Z"
   },
   {
    "duration": 7,
    "start_time": "2022-04-07T18:53:25.780Z"
   },
   {
    "duration": 10,
    "start_time": "2022-04-07T18:55:02.252Z"
   },
   {
    "duration": 9,
    "start_time": "2022-04-07T19:00:15.574Z"
   },
   {
    "duration": 9,
    "start_time": "2022-04-07T19:00:34.082Z"
   },
   {
    "duration": 8,
    "start_time": "2022-04-07T19:00:44.149Z"
   },
   {
    "duration": 4,
    "start_time": "2022-04-07T19:23:11.513Z"
   },
   {
    "duration": 28,
    "start_time": "2022-04-07T19:23:11.519Z"
   },
   {
    "duration": 11,
    "start_time": "2022-04-07T19:23:11.549Z"
   },
   {
    "duration": 17,
    "start_time": "2022-04-07T19:23:11.561Z"
   },
   {
    "duration": 29,
    "start_time": "2022-04-07T19:23:11.580Z"
   },
   {
    "duration": 6,
    "start_time": "2022-04-07T19:23:11.611Z"
   },
   {
    "duration": 16,
    "start_time": "2022-04-07T19:23:11.619Z"
   },
   {
    "duration": 304,
    "start_time": "2022-04-07T19:23:11.637Z"
   },
   {
    "duration": 5243,
    "start_time": "2022-04-07T19:23:11.943Z"
   },
   {
    "duration": 47,
    "start_time": "2022-04-07T19:23:17.188Z"
   },
   {
    "duration": 11,
    "start_time": "2022-04-07T19:23:17.237Z"
   },
   {
    "duration": 300,
    "start_time": "2022-04-07T19:23:17.250Z"
   },
   {
    "duration": 5305,
    "start_time": "2022-04-07T19:23:17.551Z"
   },
   {
    "duration": 38,
    "start_time": "2022-04-07T19:23:22.857Z"
   },
   {
    "duration": 9,
    "start_time": "2022-04-07T19:32:20.419Z"
   },
   {
    "duration": 4,
    "start_time": "2022-04-07T19:32:24.120Z"
   },
   {
    "duration": 38,
    "start_time": "2022-04-07T19:32:24.126Z"
   },
   {
    "duration": 11,
    "start_time": "2022-04-07T19:32:24.166Z"
   },
   {
    "duration": 12,
    "start_time": "2022-04-07T19:32:24.179Z"
   },
   {
    "duration": 26,
    "start_time": "2022-04-07T19:32:24.193Z"
   },
   {
    "duration": 6,
    "start_time": "2022-04-07T19:32:24.221Z"
   },
   {
    "duration": 17,
    "start_time": "2022-04-07T19:32:24.232Z"
   },
   {
    "duration": 330,
    "start_time": "2022-04-07T19:32:24.251Z"
   },
   {
    "duration": 5726,
    "start_time": "2022-04-07T19:32:24.583Z"
   },
   {
    "duration": 49,
    "start_time": "2022-04-07T19:32:30.312Z"
   },
   {
    "duration": 9,
    "start_time": "2022-04-07T19:32:30.363Z"
   },
   {
    "duration": 314,
    "start_time": "2022-04-07T19:32:30.374Z"
   },
   {
    "duration": 5562,
    "start_time": "2022-04-07T19:32:30.690Z"
   },
   {
    "duration": 38,
    "start_time": "2022-04-07T19:32:36.254Z"
   },
   {
    "duration": 203,
    "start_time": "2022-04-07T19:32:52.096Z"
   },
   {
    "duration": 8,
    "start_time": "2022-04-07T19:33:29.805Z"
   },
   {
    "duration": 9,
    "start_time": "2022-04-07T19:33:57.344Z"
   },
   {
    "duration": 9,
    "start_time": "2022-04-07T19:34:27.484Z"
   },
   {
    "duration": 10,
    "start_time": "2022-04-07T19:35:39.008Z"
   },
   {
    "duration": 9,
    "start_time": "2022-04-07T19:44:35.562Z"
   },
   {
    "duration": 9,
    "start_time": "2022-04-07T19:45:30.105Z"
   },
   {
    "duration": 10,
    "start_time": "2022-04-07T19:46:26.346Z"
   },
   {
    "duration": 3,
    "start_time": "2022-04-07T19:46:31.324Z"
   },
   {
    "duration": 39,
    "start_time": "2022-04-07T19:46:31.329Z"
   },
   {
    "duration": 10,
    "start_time": "2022-04-07T19:46:31.370Z"
   },
   {
    "duration": 18,
    "start_time": "2022-04-07T19:46:31.382Z"
   },
   {
    "duration": 34,
    "start_time": "2022-04-07T19:46:31.402Z"
   },
   {
    "duration": 10,
    "start_time": "2022-04-07T19:46:31.438Z"
   },
   {
    "duration": 10,
    "start_time": "2022-04-07T19:46:31.450Z"
   },
   {
    "duration": 329,
    "start_time": "2022-04-07T19:46:31.463Z"
   },
   {
    "duration": 5374,
    "start_time": "2022-04-07T19:46:31.794Z"
   },
   {
    "duration": 35,
    "start_time": "2022-04-07T19:46:37.170Z"
   },
   {
    "duration": 9,
    "start_time": "2022-04-07T19:46:37.208Z"
   },
   {
    "duration": 330,
    "start_time": "2022-04-07T19:46:37.234Z"
   },
   {
    "duration": 5461,
    "start_time": "2022-04-07T19:46:37.565Z"
   },
   {
    "duration": 46,
    "start_time": "2022-04-07T19:46:43.028Z"
   },
   {
    "duration": 9,
    "start_time": "2022-04-07T19:46:43.076Z"
   },
   {
    "duration": 10,
    "start_time": "2022-04-07T19:47:33.089Z"
   },
   {
    "duration": 12,
    "start_time": "2022-04-07T19:48:09.995Z"
   },
   {
    "duration": 11,
    "start_time": "2022-04-07T19:48:51.521Z"
   },
   {
    "duration": 76,
    "start_time": "2022-04-07T19:53:38.440Z"
   },
   {
    "duration": 4,
    "start_time": "2022-04-07T19:53:41.612Z"
   },
   {
    "duration": 20,
    "start_time": "2022-04-07T19:53:41.619Z"
   },
   {
    "duration": 10,
    "start_time": "2022-04-07T19:53:41.641Z"
   },
   {
    "duration": 14,
    "start_time": "2022-04-07T19:53:41.653Z"
   },
   {
    "duration": 28,
    "start_time": "2022-04-07T19:53:41.669Z"
   },
   {
    "duration": 33,
    "start_time": "2022-04-07T19:53:41.699Z"
   },
   {
    "duration": 13,
    "start_time": "2022-04-07T19:53:41.734Z"
   },
   {
    "duration": 68,
    "start_time": "2022-04-07T19:53:41.749Z"
   },
   {
    "duration": 5467,
    "start_time": "2022-04-07T19:53:41.820Z"
   },
   {
    "duration": 48,
    "start_time": "2022-04-07T19:53:47.290Z"
   },
   {
    "duration": 11,
    "start_time": "2022-04-07T19:53:47.339Z"
   },
   {
    "duration": 330,
    "start_time": "2022-04-07T19:53:47.352Z"
   },
   {
    "duration": 5429,
    "start_time": "2022-04-07T19:53:47.684Z"
   },
   {
    "duration": 47,
    "start_time": "2022-04-07T19:53:53.115Z"
   },
   {
    "duration": 17,
    "start_time": "2022-04-07T19:53:53.165Z"
   },
   {
    "duration": 4,
    "start_time": "2022-04-07T19:54:09.857Z"
   },
   {
    "duration": 21,
    "start_time": "2022-04-07T19:54:09.863Z"
   },
   {
    "duration": 10,
    "start_time": "2022-04-07T19:54:09.886Z"
   },
   {
    "duration": 14,
    "start_time": "2022-04-07T19:54:09.898Z"
   },
   {
    "duration": 32,
    "start_time": "2022-04-07T19:54:09.914Z"
   },
   {
    "duration": 6,
    "start_time": "2022-04-07T19:54:09.948Z"
   },
   {
    "duration": 11,
    "start_time": "2022-04-07T19:54:09.955Z"
   },
   {
    "duration": 307,
    "start_time": "2022-04-07T19:54:09.967Z"
   },
   {
    "duration": 5325,
    "start_time": "2022-04-07T19:54:10.276Z"
   },
   {
    "duration": 41,
    "start_time": "2022-04-07T19:54:15.603Z"
   },
   {
    "duration": 10,
    "start_time": "2022-04-07T19:54:15.647Z"
   },
   {
    "duration": 307,
    "start_time": "2022-04-07T19:54:15.658Z"
   },
   {
    "duration": 5407,
    "start_time": "2022-04-07T19:54:15.967Z"
   },
   {
    "duration": 38,
    "start_time": "2022-04-07T19:54:21.376Z"
   },
   {
    "duration": 24,
    "start_time": "2022-04-07T19:54:21.415Z"
   },
   {
    "duration": 4,
    "start_time": "2022-04-07T20:00:02.867Z"
   },
   {
    "duration": 32,
    "start_time": "2022-04-07T20:00:02.873Z"
   },
   {
    "duration": 13,
    "start_time": "2022-04-07T20:00:02.907Z"
   },
   {
    "duration": 38,
    "start_time": "2022-04-07T20:00:02.922Z"
   },
   {
    "duration": 48,
    "start_time": "2022-04-07T20:00:02.961Z"
   },
   {
    "duration": 7,
    "start_time": "2022-04-07T20:00:03.011Z"
   },
   {
    "duration": 19,
    "start_time": "2022-04-07T20:00:03.020Z"
   },
   {
    "duration": 346,
    "start_time": "2022-04-07T20:00:03.042Z"
   },
   {
    "duration": 5592,
    "start_time": "2022-04-07T20:00:03.390Z"
   },
   {
    "duration": 38,
    "start_time": "2022-04-07T20:00:08.984Z"
   },
   {
    "duration": 14,
    "start_time": "2022-04-07T20:00:09.024Z"
   },
   {
    "duration": 307,
    "start_time": "2022-04-07T20:00:09.040Z"
   },
   {
    "duration": 5300,
    "start_time": "2022-04-07T20:00:09.349Z"
   },
   {
    "duration": 40,
    "start_time": "2022-04-07T20:00:14.651Z"
   },
   {
    "duration": 11,
    "start_time": "2022-04-07T20:00:14.693Z"
   },
   {
    "duration": 52,
    "start_time": "2022-04-08T18:23:51.379Z"
   },
   {
    "duration": 1287,
    "start_time": "2022-04-08T18:23:54.714Z"
   },
   {
    "duration": 24,
    "start_time": "2022-04-08T18:23:56.003Z"
   },
   {
    "duration": 19,
    "start_time": "2022-04-08T18:23:56.028Z"
   },
   {
    "duration": 12,
    "start_time": "2022-04-08T18:23:56.050Z"
   },
   {
    "duration": 36,
    "start_time": "2022-04-08T18:23:56.063Z"
   },
   {
    "duration": 7,
    "start_time": "2022-04-08T18:23:56.101Z"
   },
   {
    "duration": 30,
    "start_time": "2022-04-08T18:23:56.109Z"
   },
   {
    "duration": 7,
    "start_time": "2022-04-08T18:23:56.141Z"
   },
   {
    "duration": 301,
    "start_time": "2022-04-08T18:23:56.149Z"
   },
   {
    "duration": 5188,
    "start_time": "2022-04-08T18:23:56.453Z"
   },
   {
    "duration": 33,
    "start_time": "2022-04-08T18:24:01.643Z"
   },
   {
    "duration": 9,
    "start_time": "2022-04-08T18:24:01.678Z"
   },
   {
    "duration": 320,
    "start_time": "2022-04-08T18:24:01.689Z"
   },
   {
    "duration": 5295,
    "start_time": "2022-04-08T18:24:02.011Z"
   },
   {
    "duration": 47,
    "start_time": "2022-04-08T18:24:07.309Z"
   },
   {
    "duration": 11,
    "start_time": "2022-04-08T18:24:07.358Z"
   },
   {
    "duration": 5,
    "start_time": "2022-04-08T18:24:32.806Z"
   },
   {
    "duration": 4,
    "start_time": "2022-04-08T18:24:33.854Z"
   },
   {
    "duration": 132,
    "start_time": "2022-04-08T19:05:08.706Z"
   },
   {
    "duration": 110,
    "start_time": "2022-04-08T19:12:20.855Z"
   },
   {
    "duration": 110,
    "start_time": "2022-04-08T19:17:39.383Z"
   },
   {
    "duration": 14,
    "start_time": "2022-04-08T19:19:23.343Z"
   },
   {
    "duration": 4,
    "start_time": "2022-04-08T19:20:43.383Z"
   },
   {
    "duration": 28,
    "start_time": "2022-04-08T19:20:43.389Z"
   },
   {
    "duration": 12,
    "start_time": "2022-04-08T19:20:43.420Z"
   },
   {
    "duration": 31,
    "start_time": "2022-04-08T19:20:43.434Z"
   },
   {
    "duration": 38,
    "start_time": "2022-04-08T19:20:43.468Z"
   },
   {
    "duration": 8,
    "start_time": "2022-04-08T19:20:43.508Z"
   },
   {
    "duration": 24,
    "start_time": "2022-04-08T19:20:43.519Z"
   },
   {
    "duration": 19,
    "start_time": "2022-04-08T19:20:43.545Z"
   },
   {
    "duration": 17,
    "start_time": "2022-04-08T19:20:43.566Z"
   },
   {
    "duration": 22,
    "start_time": "2022-04-08T19:20:43.585Z"
   },
   {
    "duration": 473,
    "start_time": "2022-04-08T19:20:43.609Z"
   },
   {
    "duration": 5980,
    "start_time": "2022-04-08T19:20:44.085Z"
   },
   {
    "duration": 37,
    "start_time": "2022-04-08T19:20:50.067Z"
   },
   {
    "duration": 10,
    "start_time": "2022-04-08T19:20:50.106Z"
   },
   {
    "duration": 15,
    "start_time": "2022-04-08T19:20:50.140Z"
   },
   {
    "duration": 131,
    "start_time": "2022-04-08T19:20:50.158Z"
   },
   {
    "duration": 48,
    "start_time": "2022-04-08T19:20:50.291Z"
   },
   {
    "duration": 13,
    "start_time": "2022-04-08T19:20:50.341Z"
   },
   {
    "duration": 3,
    "start_time": "2022-04-08T19:22:48.388Z"
   },
   {
    "duration": 23,
    "start_time": "2022-04-08T19:22:48.394Z"
   },
   {
    "duration": 12,
    "start_time": "2022-04-08T19:22:48.419Z"
   },
   {
    "duration": 22,
    "start_time": "2022-04-08T19:22:48.433Z"
   },
   {
    "duration": 51,
    "start_time": "2022-04-08T19:22:48.458Z"
   },
   {
    "duration": 10,
    "start_time": "2022-04-08T19:22:48.511Z"
   },
   {
    "duration": 11,
    "start_time": "2022-04-08T19:22:48.540Z"
   },
   {
    "duration": 14,
    "start_time": "2022-04-08T19:22:48.553Z"
   },
   {
    "duration": 14,
    "start_time": "2022-04-08T19:22:48.570Z"
   },
   {
    "duration": 12,
    "start_time": "2022-04-08T19:22:48.587Z"
   },
   {
    "duration": 337,
    "start_time": "2022-04-08T19:22:48.602Z"
   },
   {
    "duration": 6469,
    "start_time": "2022-04-08T19:22:48.941Z"
   },
   {
    "duration": 68,
    "start_time": "2022-04-08T19:22:55.413Z"
   },
   {
    "duration": 15,
    "start_time": "2022-04-08T19:22:55.484Z"
   },
   {
    "duration": 41,
    "start_time": "2022-04-08T19:22:55.502Z"
   },
   {
    "duration": 162,
    "start_time": "2022-04-08T19:22:55.546Z"
   },
   {
    "duration": 67,
    "start_time": "2022-04-08T19:22:55.711Z"
   },
   {
    "duration": 12,
    "start_time": "2022-04-08T19:22:55.780Z"
   },
   {
    "duration": 1183,
    "start_time": "2022-04-09T09:19:33.769Z"
   },
   {
    "duration": 14,
    "start_time": "2022-04-09T09:19:34.954Z"
   },
   {
    "duration": 16,
    "start_time": "2022-04-09T09:19:34.969Z"
   },
   {
    "duration": 10,
    "start_time": "2022-04-09T09:19:34.987Z"
   },
   {
    "duration": 23,
    "start_time": "2022-04-09T09:19:34.999Z"
   },
   {
    "duration": 7,
    "start_time": "2022-04-09T09:19:35.024Z"
   },
   {
    "duration": 28,
    "start_time": "2022-04-09T09:19:35.032Z"
   },
   {
    "duration": 7,
    "start_time": "2022-04-09T09:19:35.062Z"
   },
   {
    "duration": 6,
    "start_time": "2022-04-09T09:19:35.070Z"
   },
   {
    "duration": 9,
    "start_time": "2022-04-09T09:19:35.079Z"
   },
   {
    "duration": 254,
    "start_time": "2022-04-09T09:19:35.090Z"
   },
   {
    "duration": 4413,
    "start_time": "2022-04-09T09:19:35.345Z"
   },
   {
    "duration": 29,
    "start_time": "2022-04-09T09:19:39.760Z"
   },
   {
    "duration": 8,
    "start_time": "2022-04-09T09:19:39.791Z"
   },
   {
    "duration": 18,
    "start_time": "2022-04-09T09:19:39.800Z"
   },
   {
    "duration": 101,
    "start_time": "2022-04-09T09:19:39.819Z"
   },
   {
    "duration": 36,
    "start_time": "2022-04-09T09:19:39.922Z"
   },
   {
    "duration": 11,
    "start_time": "2022-04-09T09:19:39.959Z"
   },
   {
    "duration": 10,
    "start_time": "2022-04-09T09:19:39.971Z"
   },
   {
    "duration": 92,
    "start_time": "2022-04-09T09:20:27.674Z"
   },
   {
    "duration": 5,
    "start_time": "2022-04-09T09:20:41.739Z"
   },
   {
    "duration": 9,
    "start_time": "2022-04-09T09:21:28.185Z"
   },
   {
    "duration": 13,
    "start_time": "2022-04-09T09:23:35.791Z"
   },
   {
    "duration": 6,
    "start_time": "2022-04-09T09:23:37.541Z"
   },
   {
    "duration": 5,
    "start_time": "2022-04-09T09:23:50.223Z"
   },
   {
    "duration": 4,
    "start_time": "2022-04-09T09:24:18.800Z"
   },
   {
    "duration": 5,
    "start_time": "2022-04-09T09:24:20.940Z"
   },
   {
    "duration": 5,
    "start_time": "2022-04-09T09:24:25.166Z"
   },
   {
    "duration": 14,
    "start_time": "2022-04-09T09:24:25.173Z"
   },
   {
    "duration": 5,
    "start_time": "2022-04-09T09:24:56.863Z"
   },
   {
    "duration": 5,
    "start_time": "2022-04-09T09:25:01.478Z"
   },
   {
    "duration": 26,
    "start_time": "2022-04-09T09:25:01.485Z"
   },
   {
    "duration": 4,
    "start_time": "2022-04-09T09:26:28.156Z"
   },
   {
    "duration": 5,
    "start_time": "2022-04-09T09:26:41.608Z"
   },
   {
    "duration": 7,
    "start_time": "2022-04-09T09:26:41.616Z"
   },
   {
    "duration": 4,
    "start_time": "2022-04-09T09:28:00.729Z"
   },
   {
    "duration": 0,
    "start_time": "2022-04-09T09:28:00.735Z"
   },
   {
    "duration": 6,
    "start_time": "2022-04-09T09:28:07.141Z"
   },
   {
    "duration": 5,
    "start_time": "2022-04-09T09:28:12.544Z"
   }
  ],
  "kernelspec": {
   "display_name": "Python 3 (ipykernel)",
   "language": "python",
   "name": "python3"
  },
  "language_info": {
   "codemirror_mode": {
    "name": "ipython",
    "version": 3
   },
   "file_extension": ".py",
   "mimetype": "text/x-python",
   "name": "python",
   "nbconvert_exporter": "python",
   "pygments_lexer": "ipython3",
   "version": "3.9.5"
  },
  "toc": {
   "base_numbering": 1,
   "nav_menu": {},
   "number_sections": true,
   "sideBar": true,
   "skip_h1_title": true,
   "title_cell": "Содержание",
   "title_sidebar": "Содержание",
   "toc_cell": true,
   "toc_position": {
    "height": "calc(100% - 180px)",
    "left": "10px",
    "top": "150px",
    "width": "261.67px"
   },
   "toc_section_display": true,
   "toc_window_display": true
  }
 },
 "nbformat": 4,
 "nbformat_minor": 2
}
