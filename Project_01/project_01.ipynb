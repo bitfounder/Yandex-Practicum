{
 "cells": [
  {
   "cell_type": "markdown",
   "metadata": {
    "toc": true
   },
   "source": [
    "<h1>Содержание<span class=\"tocSkip\"></span></h1>\n",
    "<div class=\"toc\"><ul class=\"toc-item\"><li><span><a href=\"#Загрузим-и-изучим-данные\" data-toc-modified-id=\"Загрузим-и-изучим-данные-1\"><span class=\"toc-item-num\">1&nbsp;&nbsp;</span>Загрузим и изучим данные</a></span></li><li><span><a href=\"#Предобработка-данных\" data-toc-modified-id=\"Предобработка-данных-2\"><span class=\"toc-item-num\">2&nbsp;&nbsp;</span>Предобработка данных</a></span><ul class=\"toc-item\"><li><span><a href=\"#Обработка-пропусков\" data-toc-modified-id=\"Обработка-пропусков-2.1\"><span class=\"toc-item-num\">2.1&nbsp;&nbsp;</span>Обработка пропусков</a></span></li><li><span><a href=\"#Замена-типа-данных\" data-toc-modified-id=\"Замена-типа-данных-2.2\"><span class=\"toc-item-num\">2.2&nbsp;&nbsp;</span>Замена типа данных</a></span></li><li><span><a href=\"#Обработка-дубликатов\" data-toc-modified-id=\"Обработка-дубликатов-2.3\"><span class=\"toc-item-num\">2.3&nbsp;&nbsp;</span>Обработка дубликатов</a></span></li><li><span><a href=\"#Лемматизация\" data-toc-modified-id=\"Лемматизация-2.4\"><span class=\"toc-item-num\">2.4&nbsp;&nbsp;</span>Лемматизация</a></span></li><li><span><a href=\"#Категоризация-данных\" data-toc-modified-id=\"Категоризация-данных-2.5\"><span class=\"toc-item-num\">2.5&nbsp;&nbsp;</span>Категоризация данных</a></span></li></ul></li><li><span><a href=\"#Ответим-на-вопросы\" data-toc-modified-id=\"Ответим-на-вопросы-3\"><span class=\"toc-item-num\">3&nbsp;&nbsp;</span>Ответим на вопросы</a></span></li><li><span><a href=\"#Общий-вывод\" data-toc-modified-id=\"Общий-вывод-4\"><span class=\"toc-item-num\">4&nbsp;&nbsp;</span>Общий вывод</a></span></li></ul></div>"
   ]
  },
  {
   "cell_type": "markdown",
   "metadata": {},
   "source": [
    "# Исследование надёжности заёмщиков\n",
    "\n",
    "Заказчик — кредитный отдел банка. Разберемся, влияет ли семейное положение и количество детей клиента на факт погашения кредита в срок. Входные данные от банка — статистика о платёжеспособности клиентов.\n",
    "\n",
    "Результаты исследования будут учтены при построении модели **кредитного скоринга** — специальной системы, которая оценивает способность потенциального заёмщика вернуть кредит банку."
   ]
  },
  {
   "cell_type": "markdown",
   "metadata": {},
   "source": [
    "# Описание данных:\n",
    "* `children` — количество детей в семье;\n",
    "* `days_employed` — общий трудовой стаж в днях;  \n",
    "* `dob_years` — возраст клиента в годах;\n",
    "* `education` — уровень образования клиента;\n",
    "* `education_id` — идентификатор уровня образования;\n",
    "* `family_status` — семейное положение;\n",
    "* `family_status_id` — идентификатор семейного положения;\n",
    "* `gender` — пол клиента;\n",
    "* `income_type` — тип занятости;\n",
    "* `debt` — имел ли задолженность по возврату кредитов;\n",
    "* `total_income` — ежемесячный доход;\n",
    "* `purpose` — цель получения кредита;"
   ]
  },
  {
   "cell_type": "markdown",
   "metadata": {},
   "source": [
    "## Загрузим и изучим данные"
   ]
  },
  {
   "cell_type": "markdown",
   "metadata": {},
   "source": [
    "Импортируем необходимые библиотеки."
   ]
  },
  {
   "cell_type": "code",
   "execution_count": 1,
   "metadata": {},
   "outputs": [],
   "source": [
    "import pandas as pd\n",
    "import matplotlib.pyplot as plt\n",
    "\n",
    "from pymystem3 import Mystem"
   ]
  },
  {
   "cell_type": "markdown",
   "metadata": {},
   "source": [
    "Сохраним датафрейм в переменной."
   ]
  },
  {
   "cell_type": "code",
   "execution_count": 2,
   "metadata": {},
   "outputs": [],
   "source": [
    "df = pd.read_csv('/datasets/data.csv')"
   ]
  },
  {
   "cell_type": "markdown",
   "metadata": {},
   "source": [
    "Выведем на экран первые 10 строк таблицы."
   ]
  },
  {
   "cell_type": "code",
   "execution_count": 3,
   "metadata": {},
   "outputs": [
    {
     "data": {
      "text/html": [
       "<div>\n",
       "<style scoped>\n",
       "    .dataframe tbody tr th:only-of-type {\n",
       "        vertical-align: middle;\n",
       "    }\n",
       "\n",
       "    .dataframe tbody tr th {\n",
       "        vertical-align: top;\n",
       "    }\n",
       "\n",
       "    .dataframe thead th {\n",
       "        text-align: right;\n",
       "    }\n",
       "</style>\n",
       "<table border=\"1\" class=\"dataframe\">\n",
       "  <thead>\n",
       "    <tr style=\"text-align: right;\">\n",
       "      <th></th>\n",
       "      <th>children</th>\n",
       "      <th>days_employed</th>\n",
       "      <th>dob_years</th>\n",
       "      <th>education</th>\n",
       "      <th>education_id</th>\n",
       "      <th>family_status</th>\n",
       "      <th>family_status_id</th>\n",
       "      <th>gender</th>\n",
       "      <th>income_type</th>\n",
       "      <th>debt</th>\n",
       "      <th>total_income</th>\n",
       "      <th>purpose</th>\n",
       "    </tr>\n",
       "  </thead>\n",
       "  <tbody>\n",
       "    <tr>\n",
       "      <th>0</th>\n",
       "      <td>1</td>\n",
       "      <td>-8437.673028</td>\n",
       "      <td>42</td>\n",
       "      <td>высшее</td>\n",
       "      <td>0</td>\n",
       "      <td>женат / замужем</td>\n",
       "      <td>0</td>\n",
       "      <td>F</td>\n",
       "      <td>сотрудник</td>\n",
       "      <td>0</td>\n",
       "      <td>253875.639453</td>\n",
       "      <td>покупка жилья</td>\n",
       "    </tr>\n",
       "    <tr>\n",
       "      <th>1</th>\n",
       "      <td>1</td>\n",
       "      <td>-4024.803754</td>\n",
       "      <td>36</td>\n",
       "      <td>среднее</td>\n",
       "      <td>1</td>\n",
       "      <td>женат / замужем</td>\n",
       "      <td>0</td>\n",
       "      <td>F</td>\n",
       "      <td>сотрудник</td>\n",
       "      <td>0</td>\n",
       "      <td>112080.014102</td>\n",
       "      <td>приобретение автомобиля</td>\n",
       "    </tr>\n",
       "    <tr>\n",
       "      <th>2</th>\n",
       "      <td>0</td>\n",
       "      <td>-5623.422610</td>\n",
       "      <td>33</td>\n",
       "      <td>Среднее</td>\n",
       "      <td>1</td>\n",
       "      <td>женат / замужем</td>\n",
       "      <td>0</td>\n",
       "      <td>M</td>\n",
       "      <td>сотрудник</td>\n",
       "      <td>0</td>\n",
       "      <td>145885.952297</td>\n",
       "      <td>покупка жилья</td>\n",
       "    </tr>\n",
       "    <tr>\n",
       "      <th>3</th>\n",
       "      <td>3</td>\n",
       "      <td>-4124.747207</td>\n",
       "      <td>32</td>\n",
       "      <td>среднее</td>\n",
       "      <td>1</td>\n",
       "      <td>женат / замужем</td>\n",
       "      <td>0</td>\n",
       "      <td>M</td>\n",
       "      <td>сотрудник</td>\n",
       "      <td>0</td>\n",
       "      <td>267628.550329</td>\n",
       "      <td>дополнительное образование</td>\n",
       "    </tr>\n",
       "    <tr>\n",
       "      <th>4</th>\n",
       "      <td>0</td>\n",
       "      <td>340266.072047</td>\n",
       "      <td>53</td>\n",
       "      <td>среднее</td>\n",
       "      <td>1</td>\n",
       "      <td>гражданский брак</td>\n",
       "      <td>1</td>\n",
       "      <td>F</td>\n",
       "      <td>пенсионер</td>\n",
       "      <td>0</td>\n",
       "      <td>158616.077870</td>\n",
       "      <td>сыграть свадьбу</td>\n",
       "    </tr>\n",
       "    <tr>\n",
       "      <th>5</th>\n",
       "      <td>0</td>\n",
       "      <td>-926.185831</td>\n",
       "      <td>27</td>\n",
       "      <td>высшее</td>\n",
       "      <td>0</td>\n",
       "      <td>гражданский брак</td>\n",
       "      <td>1</td>\n",
       "      <td>M</td>\n",
       "      <td>компаньон</td>\n",
       "      <td>0</td>\n",
       "      <td>255763.565419</td>\n",
       "      <td>покупка жилья</td>\n",
       "    </tr>\n",
       "    <tr>\n",
       "      <th>6</th>\n",
       "      <td>0</td>\n",
       "      <td>-2879.202052</td>\n",
       "      <td>43</td>\n",
       "      <td>высшее</td>\n",
       "      <td>0</td>\n",
       "      <td>женат / замужем</td>\n",
       "      <td>0</td>\n",
       "      <td>F</td>\n",
       "      <td>компаньон</td>\n",
       "      <td>0</td>\n",
       "      <td>240525.971920</td>\n",
       "      <td>операции с жильем</td>\n",
       "    </tr>\n",
       "    <tr>\n",
       "      <th>7</th>\n",
       "      <td>0</td>\n",
       "      <td>-152.779569</td>\n",
       "      <td>50</td>\n",
       "      <td>СРЕДНЕЕ</td>\n",
       "      <td>1</td>\n",
       "      <td>женат / замужем</td>\n",
       "      <td>0</td>\n",
       "      <td>M</td>\n",
       "      <td>сотрудник</td>\n",
       "      <td>0</td>\n",
       "      <td>135823.934197</td>\n",
       "      <td>образование</td>\n",
       "    </tr>\n",
       "    <tr>\n",
       "      <th>8</th>\n",
       "      <td>2</td>\n",
       "      <td>-6929.865299</td>\n",
       "      <td>35</td>\n",
       "      <td>ВЫСШЕЕ</td>\n",
       "      <td>0</td>\n",
       "      <td>гражданский брак</td>\n",
       "      <td>1</td>\n",
       "      <td>F</td>\n",
       "      <td>сотрудник</td>\n",
       "      <td>0</td>\n",
       "      <td>95856.832424</td>\n",
       "      <td>на проведение свадьбы</td>\n",
       "    </tr>\n",
       "    <tr>\n",
       "      <th>9</th>\n",
       "      <td>0</td>\n",
       "      <td>-2188.756445</td>\n",
       "      <td>41</td>\n",
       "      <td>среднее</td>\n",
       "      <td>1</td>\n",
       "      <td>женат / замужем</td>\n",
       "      <td>0</td>\n",
       "      <td>M</td>\n",
       "      <td>сотрудник</td>\n",
       "      <td>0</td>\n",
       "      <td>144425.938277</td>\n",
       "      <td>покупка жилья для семьи</td>\n",
       "    </tr>\n",
       "  </tbody>\n",
       "</table>\n",
       "</div>"
      ],
      "text/plain": [
       "   children  days_employed  dob_years education  education_id  \\\n",
       "0         1   -8437.673028         42    высшее             0   \n",
       "1         1   -4024.803754         36   среднее             1   \n",
       "2         0   -5623.422610         33   Среднее             1   \n",
       "3         3   -4124.747207         32   среднее             1   \n",
       "4         0  340266.072047         53   среднее             1   \n",
       "5         0    -926.185831         27    высшее             0   \n",
       "6         0   -2879.202052         43    высшее             0   \n",
       "7         0    -152.779569         50   СРЕДНЕЕ             1   \n",
       "8         2   -6929.865299         35    ВЫСШЕЕ             0   \n",
       "9         0   -2188.756445         41   среднее             1   \n",
       "\n",
       "      family_status  family_status_id gender income_type  debt   total_income  \\\n",
       "0   женат / замужем                 0      F   сотрудник     0  253875.639453   \n",
       "1   женат / замужем                 0      F   сотрудник     0  112080.014102   \n",
       "2   женат / замужем                 0      M   сотрудник     0  145885.952297   \n",
       "3   женат / замужем                 0      M   сотрудник     0  267628.550329   \n",
       "4  гражданский брак                 1      F   пенсионер     0  158616.077870   \n",
       "5  гражданский брак                 1      M   компаньон     0  255763.565419   \n",
       "6   женат / замужем                 0      F   компаньон     0  240525.971920   \n",
       "7   женат / замужем                 0      M   сотрудник     0  135823.934197   \n",
       "8  гражданский брак                 1      F   сотрудник     0   95856.832424   \n",
       "9   женат / замужем                 0      M   сотрудник     0  144425.938277   \n",
       "\n",
       "                      purpose  \n",
       "0               покупка жилья  \n",
       "1     приобретение автомобиля  \n",
       "2               покупка жилья  \n",
       "3  дополнительное образование  \n",
       "4             сыграть свадьбу  \n",
       "5               покупка жилья  \n",
       "6           операции с жильем  \n",
       "7                 образование  \n",
       "8       на проведение свадьбы  \n",
       "9     покупка жилья для семьи  "
      ]
     },
     "execution_count": 3,
     "metadata": {},
     "output_type": "execute_result"
    }
   ],
   "source": [
    "df.head(10)"
   ]
  },
  {
   "cell_type": "markdown",
   "metadata": {},
   "source": [
    "Посмотрим на общую информацию."
   ]
  },
  {
   "cell_type": "code",
   "execution_count": 4,
   "metadata": {
    "scrolled": true
   },
   "outputs": [
    {
     "name": "stdout",
     "output_type": "stream",
     "text": [
      "<class 'pandas.core.frame.DataFrame'>\n",
      "RangeIndex: 21525 entries, 0 to 21524\n",
      "Data columns (total 12 columns):\n",
      " #   Column            Non-Null Count  Dtype  \n",
      "---  ------            --------------  -----  \n",
      " 0   children          21525 non-null  int64  \n",
      " 1   days_employed     19351 non-null  float64\n",
      " 2   dob_years         21525 non-null  int64  \n",
      " 3   education         21525 non-null  object \n",
      " 4   education_id      21525 non-null  int64  \n",
      " 5   family_status     21525 non-null  object \n",
      " 6   family_status_id  21525 non-null  int64  \n",
      " 7   gender            21525 non-null  object \n",
      " 8   income_type       21525 non-null  object \n",
      " 9   debt              21525 non-null  int64  \n",
      " 10  total_income      19351 non-null  float64\n",
      " 11  purpose           21525 non-null  object \n",
      "dtypes: float64(2), int64(5), object(5)\n",
      "memory usage: 2.0+ MB\n"
     ]
    }
   ],
   "source": [
    "df.info()"
   ]
  },
  {
   "cell_type": "markdown",
   "metadata": {
    "id": "TaQ2Iwbr_Zct"
   },
   "source": [
    "Итак, в таблице 12 столбцов. Тип данных для столбцов с числовым значением — `int64` и `float64`, а со строчным — `object`. \n",
    "\n",
    "Согласно документации к данным:\n",
    "* `children` — количество детей в семье;\n",
    "* `days_employed` — общий трудовой стаж в днях;  \n",
    "* `dob_years` — возраст клиента в годах;\n",
    "* `education` — уровень образования клиента;\n",
    "* `education_id` — идентификатор уровня образования;\n",
    "* `family_status` — семейное положение;\n",
    "* `family_status_id` — идентификатор семейного положения;\n",
    "* `gender` — пол клиента;\n",
    "* `income_type` — тип занятости;\n",
    "* `debt` — имел ли задолженность по возврату кредитов;\n",
    "* `total_income` — ежемесячный доход;\n",
    "* `purpose` — цель получения кредита;\n",
    "\n",
    "\n",
    "Количество ненулевых значений в столбцах `days_employed` и `total_income` меньше чем в других столбцах. Значит, в данных есть пропущенные значения.\n"
   ]
  },
  {
   "cell_type": "markdown",
   "metadata": {},
   "source": [
    "**Вывод**"
   ]
  },
  {
   "cell_type": "markdown",
   "metadata": {},
   "source": [
    "Каждая строка таблицы описыает - данные о клиенте-заёмщике. Часть колонок описывает его семейное положение: количество детей в семье, семейное положение и его идентификатор. Остальные данные рассказывают о клиенте и его работе: трудовой стаж, возраст, уровень образования и его идентификатор, пол, тип занятости, задолженность по кредиту, ежемесячный доход, цель получения кредита. \n",
    "\n",
    "Предварительно можно утверждать, что, данных достаточно для исследования. Но встречаются пропуски в данных.\n",
    "\n",
    "Чтобы двигаться дальше, нужно устранить проблемы в данных."
   ]
  },
  {
   "cell_type": "markdown",
   "metadata": {},
   "source": [
    "## Предобработка данных"
   ]
  },
  {
   "cell_type": "markdown",
   "metadata": {},
   "source": [
    "### Обработка пропусков"
   ]
  },
  {
   "cell_type": "markdown",
   "metadata": {},
   "source": [
    "Для начала поменяем отрицательные значения на положительные в столбце `days_employed`. "
   ]
  },
  {
   "cell_type": "code",
   "execution_count": 5,
   "metadata": {},
   "outputs": [],
   "source": [
    "# замена отрицательных значений трудового стража на положительные\n",
    "df.loc[df['days_employed'] < 0, 'days_employed'] = df.loc[df['days_employed'] < 0, \n",
    "                                                          'days_employed'] * -1"
   ]
  },
  {
   "cell_type": "markdown",
   "metadata": {},
   "source": [
    "Построим гистограммы трудового стажа и ежемесячного дохода."
   ]
  },
  {
   "cell_type": "code",
   "execution_count": 6,
   "metadata": {},
   "outputs": [
    {
     "data": {
      "text/plain": [
       "Text(0, 0.5, 'Number of people')"
      ]
     },
     "execution_count": 6,
     "metadata": {},
     "output_type": "execute_result"
    },
    {
     "data": {
      "image/png": "[encoded data removed]",
      "text/plain": [
       "<Figure size 432x288 with 1 Axes>"
      ]
     },
     "metadata": {
      "needs_background": "light"
     },
     "output_type": "display_data"
    }
   ],
   "source": [
    "plt.hist(df['days_employed']) # создание гистограммы для столбца days_employed\n",
    "plt.xlabel('Days employed') # название горизонтальной оси гистограммы\n",
    "plt.ylabel('Number of people') # название вертикальной оси гистограммы"
   ]
  },
  {
   "cell_type": "code",
   "execution_count": 7,
   "metadata": {},
   "outputs": [
    {
     "data": {
      "text/plain": [
       "Text(0, 0.5, 'Number of people')"
      ]
     },
     "execution_count": 7,
     "metadata": {},
     "output_type": "execute_result"
    },
    {
     "data": {
      "image/png": "[encoded data removed]",
      "text/plain": [
       "<Figure size 432x288 with 1 Axes>"
      ]
     },
     "metadata": {
      "needs_background": "light"
     },
     "output_type": "display_data"
    }
   ],
   "source": [
    "plt.hist(df['total_income']) # создание гистограммы для столбца total_income\n",
    "plt.xlabel('Total income') # название горизонтальной оси гистограммы\n",
    "plt.ylabel('Number of people') # название вертикальной оси гистограммы"
   ]
  },
  {
   "cell_type": "markdown",
   "metadata": {},
   "source": [
    "По гистограммам столбца `days_employed` и `total_income` видно что лучше брать медианное значение, так как среднее значение даст большую ошибку."
   ]
  },
  {
   "cell_type": "markdown",
   "metadata": {},
   "source": [
    "Заменим пропущенные значения на медианные."
   ]
  },
  {
   "cell_type": "code",
   "execution_count": 8,
   "metadata": {},
   "outputs": [],
   "source": [
    "days_employed_meadian = df['days_employed'].median() # подсчет медианного значения для столбца days_employed\n",
    "total_income_median = df['total_income'].median() # подсчет медианного значения для столбца total_income"
   ]
  },
  {
   "cell_type": "code",
   "execution_count": 9,
   "metadata": {},
   "outputs": [],
   "source": [
    "df['days_employed'] = df['days_employed'].fillna(days_employed_meadian)  \n",
    "df['total_income'] = df['total_income'].fillna(df.groupby('income_type')['total_income'].transform('median')) "
   ]
  },
  {
   "cell_type": "markdown",
   "metadata": {},
   "source": [
    "Посмотрим после преобразований на общую информацию."
   ]
  },
  {
   "cell_type": "code",
   "execution_count": 10,
   "metadata": {
    "scrolled": true
   },
   "outputs": [
    {
     "name": "stdout",
     "output_type": "stream",
     "text": [
      "<class 'pandas.core.frame.DataFrame'>\n",
      "RangeIndex: 21525 entries, 0 to 21524\n",
      "Data columns (total 12 columns):\n",
      " #   Column            Non-Null Count  Dtype  \n",
      "---  ------            --------------  -----  \n",
      " 0   children          21525 non-null  int64  \n",
      " 1   days_employed     21525 non-null  float64\n",
      " 2   dob_years         21525 non-null  int64  \n",
      " 3   education         21525 non-null  object \n",
      " 4   education_id      21525 non-null  int64  \n",
      " 5   family_status     21525 non-null  object \n",
      " 6   family_status_id  21525 non-null  int64  \n",
      " 7   gender            21525 non-null  object \n",
      " 8   income_type       21525 non-null  object \n",
      " 9   debt              21525 non-null  int64  \n",
      " 10  total_income      21525 non-null  float64\n",
      " 11  purpose           21525 non-null  object \n",
      "dtypes: float64(2), int64(5), object(5)\n",
      "memory usage: 2.0+ MB\n"
     ]
    }
   ],
   "source": [
    "df.info()"
   ]
  },
  {
   "cell_type": "markdown",
   "metadata": {},
   "source": [
    "Группируем по возрасту."
   ]
  },
  {
   "cell_type": "code",
   "execution_count": 11,
   "metadata": {},
   "outputs": [
    {
     "data": {
      "text/plain": [
       "dob_years\n",
       "0     101\n",
       "19     14\n",
       "20     51\n",
       "21    111\n",
       "22    183\n",
       "23    254\n",
       "24    264\n",
       "25    357\n",
       "26    408\n",
       "27    493\n",
       "28    503\n",
       "29    545\n",
       "30    540\n",
       "31    560\n",
       "32    510\n",
       "33    581\n",
       "34    603\n",
       "35    617\n",
       "36    555\n",
       "37    537\n",
       "38    598\n",
       "39    573\n",
       "40    609\n",
       "41    607\n",
       "42    597\n",
       "43    513\n",
       "44    547\n",
       "45    497\n",
       "46    475\n",
       "47    480\n",
       "48    538\n",
       "49    508\n",
       "50    514\n",
       "51    448\n",
       "52    484\n",
       "53    459\n",
       "54    479\n",
       "55    443\n",
       "56    487\n",
       "57    460\n",
       "58    461\n",
       "59    444\n",
       "60    377\n",
       "61    355\n",
       "62    352\n",
       "63    269\n",
       "64    265\n",
       "65    194\n",
       "66    183\n",
       "67    167\n",
       "68     99\n",
       "69     85\n",
       "70     65\n",
       "71     58\n",
       "72     33\n",
       "73      8\n",
       "74      6\n",
       "75      1\n",
       "Name: dob_years, dtype: int64"
      ]
     },
     "execution_count": 11,
     "metadata": {},
     "output_type": "execute_result"
    }
   ],
   "source": [
    "df.groupby('dob_years')['dob_years'].count()"
   ]
  },
  {
   "cell_type": "markdown",
   "metadata": {},
   "source": [
    "**Вывод**"
   ]
  },
  {
   "cell_type": "markdown",
   "metadata": {},
   "source": [
    "Отрицательные данные в столбце `days_employed` были заменеы на положительные. Но часть значений стажа у пенсионеров сильно разнятся с другими значениями. Возможно это ошибка, и при расчетах мы бы получили неверную картину. \n",
    "\n",
    "Пропущенные значения были заменены на медианные значения соответсвующих столбцов. \n",
    "\n",
    "Также в столбце `dob_years` присутсвует ошибка в возрасте клиентов в виде нуля. Это ошибка, и при участии в расчете этого столбца результаты исследования исказились бы."
   ]
  },
  {
   "cell_type": "markdown",
   "metadata": {},
   "source": [
    "### Замена типа данных"
   ]
  },
  {
   "cell_type": "code",
   "execution_count": 12,
   "metadata": {},
   "outputs": [],
   "source": [
    "df['days_employed'] = df['days_employed'].astype('int') #перевод значений столбца days_employed в тип данных int\n",
    "df['total_income'] = df['total_income'].astype('int') #перевод значений столбца total_income в тип данных int"
   ]
  },
  {
   "cell_type": "code",
   "execution_count": 13,
   "metadata": {},
   "outputs": [
    {
     "data": {
      "text/plain": [
       " 0     14149\n",
       " 1      4818\n",
       " 2      2055\n",
       " 3       330\n",
       " 20       76\n",
       "-1        47\n",
       " 4        41\n",
       " 5         9\n",
       "Name: children, dtype: int64"
      ]
     },
     "execution_count": 13,
     "metadata": {},
     "output_type": "execute_result"
    }
   ],
   "source": [
    "# вывод уникальных значений столбца и их количество\n",
    "df['children'].value_counts() "
   ]
  },
  {
   "cell_type": "code",
   "execution_count": 14,
   "metadata": {},
   "outputs": [],
   "source": [
    "# замена отрицательного количества детей\n",
    "df['children'] = df['children'].replace(-1, 1)  "
   ]
  },
  {
   "cell_type": "code",
   "execution_count": 15,
   "metadata": {},
   "outputs": [],
   "source": [
    "# подсчет медианного значения столбца children кроме значения 20\n",
    "children_mean = df.loc[df.loc[:, 'children'] != 20]['children'].median() "
   ]
  },
  {
   "cell_type": "code",
   "execution_count": 16,
   "metadata": {},
   "outputs": [],
   "source": [
    "# замена количества детей 20 на медианное значение children_mean\n",
    "df['children'] = df['children'].replace(20, children_mean)"
   ]
  },
  {
   "cell_type": "code",
   "execution_count": 17,
   "metadata": {},
   "outputs": [
    {
     "name": "stdout",
     "output_type": "stream",
     "text": [
      "<class 'pandas.core.frame.DataFrame'>\n",
      "RangeIndex: 21525 entries, 0 to 21524\n",
      "Data columns (total 12 columns):\n",
      " #   Column            Non-Null Count  Dtype  \n",
      "---  ------            --------------  -----  \n",
      " 0   children          21525 non-null  float64\n",
      " 1   days_employed     21525 non-null  int64  \n",
      " 2   dob_years         21525 non-null  int64  \n",
      " 3   education         21525 non-null  object \n",
      " 4   education_id      21525 non-null  int64  \n",
      " 5   family_status     21525 non-null  object \n",
      " 6   family_status_id  21525 non-null  int64  \n",
      " 7   gender            21525 non-null  object \n",
      " 8   income_type       21525 non-null  object \n",
      " 9   debt              21525 non-null  int64  \n",
      " 10  total_income      21525 non-null  int64  \n",
      " 11  purpose           21525 non-null  object \n",
      "dtypes: float64(1), int64(6), object(5)\n",
      "memory usage: 2.0+ MB\n"
     ]
    }
   ],
   "source": [
    "# получение общей информации о данных в таблице df\n",
    "df.info()"
   ]
  },
  {
   "cell_type": "markdown",
   "metadata": {},
   "source": [
    "**Вывод**"
   ]
  },
  {
   "cell_type": "markdown",
   "metadata": {},
   "source": [
    "Тип данных столбца `days_employed` и `total_income` необходимо поменять на int, так как дни и доход обычно считаются целочисленно.\n",
    "\n",
    "Значения в столбце `children` имеют две ошибки. Первая - отрицательное значение детей, вторая - количество в 20 детей возможно является ошибкой, поэтому мы заменили значение 20 на медианное."
   ]
  },
  {
   "cell_type": "markdown",
   "metadata": {},
   "source": [
    "### Обработка дубликатов"
   ]
  },
  {
   "cell_type": "code",
   "execution_count": 18,
   "metadata": {},
   "outputs": [
    {
     "data": {
      "text/plain": [
       "среднее                13750\n",
       "высшее                  4718\n",
       "СРЕДНЕЕ                  772\n",
       "Среднее                  711\n",
       "неоконченное высшее      668\n",
       "ВЫСШЕЕ                   274\n",
       "Высшее                   268\n",
       "начальное                250\n",
       "Неоконченное высшее       47\n",
       "НЕОКОНЧЕННОЕ ВЫСШЕЕ       29\n",
       "НАЧАЛЬНОЕ                 17\n",
       "Начальное                 15\n",
       "ученая степень             4\n",
       "Ученая степень             1\n",
       "УЧЕНАЯ СТЕПЕНЬ             1\n",
       "Name: education, dtype: int64"
      ]
     },
     "execution_count": 18,
     "metadata": {},
     "output_type": "execute_result"
    }
   ],
   "source": [
    "# вывод уникальных значений столбца и их количество\n",
    "df['education'].value_counts()"
   ]
  },
  {
   "cell_type": "code",
   "execution_count": 19,
   "metadata": {},
   "outputs": [],
   "source": [
    "# переводим буквы в строчный вид\n",
    "df['education'] = df['education'].str.lower()"
   ]
  },
  {
   "cell_type": "code",
   "execution_count": 20,
   "metadata": {},
   "outputs": [
    {
     "data": {
      "text/plain": [
       "среднее                15233\n",
       "высшее                  5260\n",
       "неоконченное высшее      744\n",
       "начальное                282\n",
       "ученая степень             6\n",
       "Name: education, dtype: int64"
      ]
     },
     "execution_count": 20,
     "metadata": {},
     "output_type": "execute_result"
    }
   ],
   "source": [
    "# повторный вывод уникальных значений столбца\n",
    "df['education'].value_counts()"
   ]
  },
  {
   "cell_type": "code",
   "execution_count": 21,
   "metadata": {},
   "outputs": [
    {
     "data": {
      "text/plain": [
       "71"
      ]
     },
     "execution_count": 21,
     "metadata": {},
     "output_type": "execute_result"
    }
   ],
   "source": [
    "# подсчет количества строк янвых дубликатов\n",
    "df.duplicated().sum()"
   ]
  },
  {
   "cell_type": "code",
   "execution_count": 22,
   "metadata": {},
   "outputs": [],
   "source": [
    "# удаление явных дубликатов\n",
    "df = df.drop_duplicates()"
   ]
  },
  {
   "cell_type": "code",
   "execution_count": 23,
   "metadata": {},
   "outputs": [
    {
     "data": {
      "text/plain": [
       "F      14174\n",
       "M       7279\n",
       "XNA        1\n",
       "Name: gender, dtype: int64"
      ]
     },
     "execution_count": 23,
     "metadata": {},
     "output_type": "execute_result"
    }
   ],
   "source": [
    "# получаем уникальные значения столбца и их количество\n",
    "df['gender'].value_counts()"
   ]
  },
  {
   "cell_type": "markdown",
   "metadata": {},
   "source": [
    "**Вывод**"
   ]
  },
  {
   "cell_type": "markdown",
   "metadata": {},
   "source": [
    "Неявные дубликаты присутствовали в столбце `education`. Для их обработки необходимо было только поменять значения - перевести буквы в строчный вид. Явные дубликаты также присутствовали и были удалены соответсвующим методом.\n",
    "\n",
    "В таблице `gender` помимо двух значений присутсвует третье значение - XNA. Возможно это ошибка. Если бы мы знали имя клиента, то исправили бы значение. Но поскольку этот столбец не принимает участие в расчете, и количество такого значение не велико, то на ход исследования это не повлияет. "
   ]
  },
  {
   "cell_type": "markdown",
   "metadata": {},
   "source": [
    "### Лемматизация"
   ]
  },
  {
   "cell_type": "code",
   "execution_count": 24,
   "metadata": {},
   "outputs": [],
   "source": [
    "# записываем в новую переменную уникальные значения целей кредита\n",
    "purpose_list = df['purpose'].unique()"
   ]
  },
  {
   "cell_type": "code",
   "execution_count": 25,
   "metadata": {},
   "outputs": [],
   "source": [
    "m = Mystem()\n",
    "\n",
    "lemmas = [] # создаем пустой список для лемматизированных слов\n",
    "for purpose in purpose_list: # прогоняем переменную-итератор purpose по столбцу purpose_list\n",
    "    lemma = \" \".join(m.lemmatize(purpose)) # с помощью join выводим строку лемметизированных слов\n",
    "    lemmas.append(lemma) # добавляем лемметизированные слова в пустой список"
   ]
  },
  {
   "cell_type": "markdown",
   "metadata": {},
   "source": [
    "**Вывод**"
   ]
  },
  {
   "cell_type": "markdown",
   "metadata": {},
   "source": [
    "Цели получения кредита названы по разному, однако все их можно категорировать. Для этого необходимо было сначала лемматизировать слова. "
   ]
  },
  {
   "cell_type": "markdown",
   "metadata": {},
   "source": [
    "### Категоризация данных"
   ]
  },
  {
   "cell_type": "markdown",
   "metadata": {},
   "source": [
    "Для категоризации целей кредита напишем функцию `purpose_change`."
   ]
  },
  {
   "cell_type": "code",
   "execution_count": 26,
   "metadata": {},
   "outputs": [],
   "source": [
    "# создание функции purpose_change() \n",
    "def purpose_change(purpose):\n",
    "    lemmas_row = ' '.join(m.lemmatize(purpose)) \n",
    "    if 'авто' in lemmas_row:\n",
    "        return 'авто'\n",
    "    if 'свад' in lemmas_row:\n",
    "        return  'свадба'\n",
    "    if 'образов' in lemmas_row:\n",
    "        return 'образование'\n",
    "    if 'недвиж' in lemmas_row:\n",
    "        return  'недвижимость'\n",
    "    if 'жил' in lemmas_row:\n",
    "        return  'недвижимость'\n",
    "    else:\n",
    "        return 'неизвестное'\n",
    "# Объявляем функцию с параметром purpose,\n",
    "# с помощью join выводим строку лемметизированных слов,\n",
    "# используем условный оператор if, \n",
    "# в его выражении проверяем наличие необходимых слов, \n",
    "# в инструкции возваращем полное слово категории в новый столбец."
   ]
  },
  {
   "cell_type": "code",
   "execution_count": 27,
   "metadata": {},
   "outputs": [],
   "source": [
    "# применение функции purpose_change к столбцу purpose\n",
    "df['purpose_def']= df['purpose'].apply(purpose_change)        "
   ]
  },
  {
   "cell_type": "code",
   "execution_count": 28,
   "metadata": {},
   "outputs": [],
   "source": [
    "# разделим значения дохода на равные части\n",
    "df['total_income_quantile'] = pd.qcut(df['total_income'], q=10, precision=0)"
   ]
  },
  {
   "cell_type": "code",
   "execution_count": 29,
   "metadata": {},
   "outputs": [
    {
     "data": {
      "text/html": [
       "<div>\n",
       "<style scoped>\n",
       "    .dataframe tbody tr th:only-of-type {\n",
       "        vertical-align: middle;\n",
       "    }\n",
       "\n",
       "    .dataframe tbody tr th {\n",
       "        vertical-align: top;\n",
       "    }\n",
       "\n",
       "    .dataframe thead th {\n",
       "        text-align: right;\n",
       "    }\n",
       "</style>\n",
       "<table border=\"1\" class=\"dataframe\">\n",
       "  <thead>\n",
       "    <tr style=\"text-align: right;\">\n",
       "      <th></th>\n",
       "      <th>children</th>\n",
       "      <th>days_employed</th>\n",
       "      <th>dob_years</th>\n",
       "      <th>education</th>\n",
       "      <th>education_id</th>\n",
       "      <th>family_status</th>\n",
       "      <th>family_status_id</th>\n",
       "      <th>gender</th>\n",
       "      <th>income_type</th>\n",
       "      <th>debt</th>\n",
       "      <th>total_income</th>\n",
       "      <th>purpose</th>\n",
       "      <th>purpose_def</th>\n",
       "      <th>total_income_quantile</th>\n",
       "    </tr>\n",
       "  </thead>\n",
       "  <tbody>\n",
       "    <tr>\n",
       "      <th>0</th>\n",
       "      <td>1.0</td>\n",
       "      <td>8437</td>\n",
       "      <td>42</td>\n",
       "      <td>высшее</td>\n",
       "      <td>0</td>\n",
       "      <td>женат / замужем</td>\n",
       "      <td>0</td>\n",
       "      <td>F</td>\n",
       "      <td>сотрудник</td>\n",
       "      <td>0</td>\n",
       "      <td>253875</td>\n",
       "      <td>покупка жилья</td>\n",
       "      <td>недвижимость</td>\n",
       "      <td>(214618.0, 269826.0]</td>\n",
       "    </tr>\n",
       "    <tr>\n",
       "      <th>1</th>\n",
       "      <td>1.0</td>\n",
       "      <td>4024</td>\n",
       "      <td>36</td>\n",
       "      <td>среднее</td>\n",
       "      <td>1</td>\n",
       "      <td>женат / замужем</td>\n",
       "      <td>0</td>\n",
       "      <td>F</td>\n",
       "      <td>сотрудник</td>\n",
       "      <td>0</td>\n",
       "      <td>112080</td>\n",
       "      <td>приобретение автомобиля</td>\n",
       "      <td>авто</td>\n",
       "      <td>(98538.0, 116009.0]</td>\n",
       "    </tr>\n",
       "    <tr>\n",
       "      <th>2</th>\n",
       "      <td>0.0</td>\n",
       "      <td>5623</td>\n",
       "      <td>33</td>\n",
       "      <td>среднее</td>\n",
       "      <td>1</td>\n",
       "      <td>женат / замужем</td>\n",
       "      <td>0</td>\n",
       "      <td>M</td>\n",
       "      <td>сотрудник</td>\n",
       "      <td>0</td>\n",
       "      <td>145885</td>\n",
       "      <td>покупка жилья</td>\n",
       "      <td>недвижимость</td>\n",
       "      <td>(142594.0, 161335.0]</td>\n",
       "    </tr>\n",
       "    <tr>\n",
       "      <th>3</th>\n",
       "      <td>3.0</td>\n",
       "      <td>4124</td>\n",
       "      <td>32</td>\n",
       "      <td>среднее</td>\n",
       "      <td>1</td>\n",
       "      <td>женат / замужем</td>\n",
       "      <td>0</td>\n",
       "      <td>M</td>\n",
       "      <td>сотрудник</td>\n",
       "      <td>0</td>\n",
       "      <td>267628</td>\n",
       "      <td>дополнительное образование</td>\n",
       "      <td>образование</td>\n",
       "      <td>(214618.0, 269826.0]</td>\n",
       "    </tr>\n",
       "    <tr>\n",
       "      <th>4</th>\n",
       "      <td>0.0</td>\n",
       "      <td>340266</td>\n",
       "      <td>53</td>\n",
       "      <td>среднее</td>\n",
       "      <td>1</td>\n",
       "      <td>гражданский брак</td>\n",
       "      <td>1</td>\n",
       "      <td>F</td>\n",
       "      <td>пенсионер</td>\n",
       "      <td>0</td>\n",
       "      <td>158616</td>\n",
       "      <td>сыграть свадьбу</td>\n",
       "      <td>свадба</td>\n",
       "      <td>(142594.0, 161335.0]</td>\n",
       "    </tr>\n",
       "  </tbody>\n",
       "</table>\n",
       "</div>"
      ],
      "text/plain": [
       "   children  days_employed  dob_years education  education_id  \\\n",
       "0       1.0           8437         42    высшее             0   \n",
       "1       1.0           4024         36   среднее             1   \n",
       "2       0.0           5623         33   среднее             1   \n",
       "3       3.0           4124         32   среднее             1   \n",
       "4       0.0         340266         53   среднее             1   \n",
       "\n",
       "      family_status  family_status_id gender income_type  debt  total_income  \\\n",
       "0   женат / замужем                 0      F   сотрудник     0        253875   \n",
       "1   женат / замужем                 0      F   сотрудник     0        112080   \n",
       "2   женат / замужем                 0      M   сотрудник     0        145885   \n",
       "3   женат / замужем                 0      M   сотрудник     0        267628   \n",
       "4  гражданский брак                 1      F   пенсионер     0        158616   \n",
       "\n",
       "                      purpose   purpose_def total_income_quantile  \n",
       "0               покупка жилья  недвижимость  (214618.0, 269826.0]  \n",
       "1     приобретение автомобиля          авто   (98538.0, 116009.0]  \n",
       "2               покупка жилья  недвижимость  (142594.0, 161335.0]  \n",
       "3  дополнительное образование   образование  (214618.0, 269826.0]  \n",
       "4             сыграть свадьбу        свадба  (142594.0, 161335.0]  "
      ]
     },
     "execution_count": 29,
     "metadata": {},
     "output_type": "execute_result"
    }
   ],
   "source": [
    "# получение первых 5 строк таблицы df\n",
    "df.head()"
   ]
  },
  {
   "cell_type": "markdown",
   "metadata": {},
   "source": [
    "**Вывод**"
   ]
  },
  {
   "cell_type": "markdown",
   "metadata": {},
   "source": [
    "Для простоты решения поставленной задачи - зависимости возврата кредита в срок от цели кредита,значения столбца `purpose` были откатегорированны."
   ]
  },
  {
   "cell_type": "markdown",
   "metadata": {},
   "source": [
    "## Ответим на вопросы"
   ]
  },
  {
   "cell_type": "markdown",
   "metadata": {},
   "source": [
    "- Есть ли зависимость между наличием детей и возвратом кредита в срок?"
   ]
  },
  {
   "cell_type": "code",
   "execution_count": 30,
   "metadata": {},
   "outputs": [],
   "source": [
    "# подсчет количества, суммы и среднего значения задолженности клиента в зависимости от количества детей \n",
    "debt_from_children = df.groupby('children').agg({'debt': ['count', 'sum', 'mean']})"
   ]
  },
  {
   "cell_type": "code",
   "execution_count": 31,
   "metadata": {},
   "outputs": [
    {
     "data": {
      "text/html": [
       "<div>\n",
       "<style scoped>\n",
       "    .dataframe tbody tr th:only-of-type {\n",
       "        vertical-align: middle;\n",
       "    }\n",
       "\n",
       "    .dataframe tbody tr th {\n",
       "        vertical-align: top;\n",
       "    }\n",
       "\n",
       "    .dataframe thead tr th {\n",
       "        text-align: left;\n",
       "    }\n",
       "\n",
       "    .dataframe thead tr:last-of-type th {\n",
       "        text-align: right;\n",
       "    }\n",
       "</style>\n",
       "<table border=\"1\" class=\"dataframe\">\n",
       "  <thead>\n",
       "    <tr>\n",
       "      <th></th>\n",
       "      <th colspan=\"3\" halign=\"left\">debt</th>\n",
       "    </tr>\n",
       "    <tr>\n",
       "      <th></th>\n",
       "      <th>count</th>\n",
       "      <th>sum</th>\n",
       "      <th>mean</th>\n",
       "    </tr>\n",
       "    <tr>\n",
       "      <th>children</th>\n",
       "      <th></th>\n",
       "      <th></th>\n",
       "      <th></th>\n",
       "    </tr>\n",
       "  </thead>\n",
       "  <tbody>\n",
       "    <tr>\n",
       "      <th>0.0</th>\n",
       "      <td>14167</td>\n",
       "      <td>1071</td>\n",
       "      <td>0.075598</td>\n",
       "    </tr>\n",
       "    <tr>\n",
       "      <th>1.0</th>\n",
       "      <td>4855</td>\n",
       "      <td>445</td>\n",
       "      <td>0.091658</td>\n",
       "    </tr>\n",
       "    <tr>\n",
       "      <th>2.0</th>\n",
       "      <td>2052</td>\n",
       "      <td>194</td>\n",
       "      <td>0.094542</td>\n",
       "    </tr>\n",
       "    <tr>\n",
       "      <th>3.0</th>\n",
       "      <td>330</td>\n",
       "      <td>27</td>\n",
       "      <td>0.081818</td>\n",
       "    </tr>\n",
       "    <tr>\n",
       "      <th>4.0</th>\n",
       "      <td>41</td>\n",
       "      <td>4</td>\n",
       "      <td>0.097561</td>\n",
       "    </tr>\n",
       "    <tr>\n",
       "      <th>5.0</th>\n",
       "      <td>9</td>\n",
       "      <td>0</td>\n",
       "      <td>0.000000</td>\n",
       "    </tr>\n",
       "  </tbody>\n",
       "</table>\n",
       "</div>"
      ],
      "text/plain": [
       "           debt                \n",
       "          count   sum      mean\n",
       "children                       \n",
       "0.0       14167  1071  0.075598\n",
       "1.0        4855   445  0.091658\n",
       "2.0        2052   194  0.094542\n",
       "3.0         330    27  0.081818\n",
       "4.0          41     4  0.097561\n",
       "5.0           9     0  0.000000"
      ]
     },
     "execution_count": 31,
     "metadata": {},
     "output_type": "execute_result"
    }
   ],
   "source": [
    "# вывод сгруппированного датафрейма\n",
    "debt_from_children"
   ]
  },
  {
   "cell_type": "markdown",
   "metadata": {},
   "source": [
    "**Вывод**"
   ]
  },
  {
   "cell_type": "markdown",
   "metadata": {},
   "source": [
    "Из вывода видно, чем больше детей, тем вероятность просрочки заемщика выше. Хотя у клиентов с 3 детьми веротяность просрочки кредита меньше чем у тех у кого один ребенок. У бездетных просрочка по оплате меньше всего. Для клиентов с 4 и 5 детьми выборка маленькая, чтобы делать окончательный вывод."
   ]
  },
  {
   "cell_type": "markdown",
   "metadata": {},
   "source": [
    "- Есть ли зависимость между семейным положением и возвратом кредита в срок?"
   ]
  },
  {
   "cell_type": "code",
   "execution_count": 32,
   "metadata": {},
   "outputs": [],
   "source": [
    "# переименование группы заемщиков 'гражданский брак' на 'женат / замужем'\n",
    "df['family_status'] = df['family_status'].replace('гражданский брак', 'женат / замужем')"
   ]
  },
  {
   "cell_type": "code",
   "execution_count": 33,
   "metadata": {},
   "outputs": [],
   "source": [
    "# подсчет количества, суммы и среднего значениязадолженности клиента в зависимости от статуса семьи \n",
    "debt_from_family_status = df.groupby('family_status').agg({'debt': ['count', 'sum', 'mean']})"
   ]
  },
  {
   "cell_type": "code",
   "execution_count": 34,
   "metadata": {},
   "outputs": [
    {
     "data": {
      "text/html": [
       "<div>\n",
       "<style scoped>\n",
       "    .dataframe tbody tr th:only-of-type {\n",
       "        vertical-align: middle;\n",
       "    }\n",
       "\n",
       "    .dataframe tbody tr th {\n",
       "        vertical-align: top;\n",
       "    }\n",
       "\n",
       "    .dataframe thead tr th {\n",
       "        text-align: left;\n",
       "    }\n",
       "\n",
       "    .dataframe thead tr:last-of-type th {\n",
       "        text-align: right;\n",
       "    }\n",
       "</style>\n",
       "<table border=\"1\" class=\"dataframe\">\n",
       "  <thead>\n",
       "    <tr>\n",
       "      <th></th>\n",
       "      <th colspan=\"3\" halign=\"left\">debt</th>\n",
       "    </tr>\n",
       "    <tr>\n",
       "      <th></th>\n",
       "      <th>count</th>\n",
       "      <th>sum</th>\n",
       "      <th>mean</th>\n",
       "    </tr>\n",
       "    <tr>\n",
       "      <th>family_status</th>\n",
       "      <th></th>\n",
       "      <th></th>\n",
       "      <th></th>\n",
       "    </tr>\n",
       "  </thead>\n",
       "  <tbody>\n",
       "    <tr>\n",
       "      <th>Не женат / не замужем</th>\n",
       "      <td>2810</td>\n",
       "      <td>274</td>\n",
       "      <td>0.097509</td>\n",
       "    </tr>\n",
       "    <tr>\n",
       "      <th>в разводе</th>\n",
       "      <td>1195</td>\n",
       "      <td>85</td>\n",
       "      <td>0.071130</td>\n",
       "    </tr>\n",
       "    <tr>\n",
       "      <th>вдовец / вдова</th>\n",
       "      <td>959</td>\n",
       "      <td>63</td>\n",
       "      <td>0.065693</td>\n",
       "    </tr>\n",
       "    <tr>\n",
       "      <th>женат / замужем</th>\n",
       "      <td>16490</td>\n",
       "      <td>1319</td>\n",
       "      <td>0.079988</td>\n",
       "    </tr>\n",
       "  </tbody>\n",
       "</table>\n",
       "</div>"
      ],
      "text/plain": [
       "                        debt                \n",
       "                       count   sum      mean\n",
       "family_status                               \n",
       "Не женат / не замужем   2810   274  0.097509\n",
       "в разводе               1195    85  0.071130\n",
       "вдовец / вдова           959    63  0.065693\n",
       "женат / замужем        16490  1319  0.079988"
      ]
     },
     "execution_count": 34,
     "metadata": {},
     "output_type": "execute_result"
    }
   ],
   "source": [
    "# вывод сгруппированного датафрейма\n",
    "debt_from_family_status"
   ]
  },
  {
   "cell_type": "markdown",
   "metadata": {},
   "source": [
    "**Вывод**"
   ]
  },
  {
   "cell_type": "markdown",
   "metadata": {},
   "source": [
    "Разведенные, овдовевшие и клиенты в браке чаще платят в срок, чем клиенты не в браке. "
   ]
  },
  {
   "cell_type": "markdown",
   "metadata": {},
   "source": [
    "- Есть ли зависимость между уровнем дохода и возвратом кредита в срок?"
   ]
  },
  {
   "cell_type": "code",
   "execution_count": 35,
   "metadata": {},
   "outputs": [],
   "source": [
    "# подсчет количества, суммы и среднего значения задолженности клиента в зависимости от группы ежемесячного дохода\n",
    "debt_from_total_income_id = df.groupby('total_income_quantile').agg({'debt': ['count', 'sum', 'mean']})"
   ]
  },
  {
   "cell_type": "code",
   "execution_count": 36,
   "metadata": {},
   "outputs": [
    {
     "data": {
      "text/html": [
       "<div>\n",
       "<style scoped>\n",
       "    .dataframe tbody tr th:only-of-type {\n",
       "        vertical-align: middle;\n",
       "    }\n",
       "\n",
       "    .dataframe tbody tr th {\n",
       "        vertical-align: top;\n",
       "    }\n",
       "\n",
       "    .dataframe thead tr th {\n",
       "        text-align: left;\n",
       "    }\n",
       "</style>\n",
       "<table border=\"1\" class=\"dataframe\">\n",
       "  <thead>\n",
       "    <tr>\n",
       "      <th></th>\n",
       "      <th>total_income_quantile</th>\n",
       "      <th colspan=\"3\" halign=\"left\">debt</th>\n",
       "    </tr>\n",
       "    <tr>\n",
       "      <th></th>\n",
       "      <th></th>\n",
       "      <th>count</th>\n",
       "      <th>sum</th>\n",
       "      <th>mean</th>\n",
       "    </tr>\n",
       "  </thead>\n",
       "  <tbody>\n",
       "    <tr>\n",
       "      <th>0</th>\n",
       "      <td>(20666.0, 78721.0]</td>\n",
       "      <td>2146</td>\n",
       "      <td>157</td>\n",
       "      <td>0.073159</td>\n",
       "    </tr>\n",
       "    <tr>\n",
       "      <th>1</th>\n",
       "      <td>(78721.0, 98538.0]</td>\n",
       "      <td>2145</td>\n",
       "      <td>187</td>\n",
       "      <td>0.087179</td>\n",
       "    </tr>\n",
       "    <tr>\n",
       "      <th>2</th>\n",
       "      <td>(98538.0, 116009.0]</td>\n",
       "      <td>2145</td>\n",
       "      <td>179</td>\n",
       "      <td>0.083450</td>\n",
       "    </tr>\n",
       "    <tr>\n",
       "      <th>3</th>\n",
       "      <td>(116009.0, 132134.0]</td>\n",
       "      <td>2146</td>\n",
       "      <td>182</td>\n",
       "      <td>0.084809</td>\n",
       "    </tr>\n",
       "    <tr>\n",
       "      <th>4</th>\n",
       "      <td>(132134.0, 142594.0]</td>\n",
       "      <td>2261</td>\n",
       "      <td>205</td>\n",
       "      <td>0.090668</td>\n",
       "    </tr>\n",
       "    <tr>\n",
       "      <th>5</th>\n",
       "      <td>(142594.0, 161335.0]</td>\n",
       "      <td>2029</td>\n",
       "      <td>170</td>\n",
       "      <td>0.083785</td>\n",
       "    </tr>\n",
       "    <tr>\n",
       "      <th>6</th>\n",
       "      <td>(161335.0, 179805.0]</td>\n",
       "      <td>2146</td>\n",
       "      <td>181</td>\n",
       "      <td>0.084343</td>\n",
       "    </tr>\n",
       "    <tr>\n",
       "      <th>7</th>\n",
       "      <td>(179805.0, 214618.0]</td>\n",
       "      <td>2145</td>\n",
       "      <td>180</td>\n",
       "      <td>0.083916</td>\n",
       "    </tr>\n",
       "    <tr>\n",
       "      <th>8</th>\n",
       "      <td>(214618.0, 269826.0]</td>\n",
       "      <td>2145</td>\n",
       "      <td>149</td>\n",
       "      <td>0.069464</td>\n",
       "    </tr>\n",
       "    <tr>\n",
       "      <th>9</th>\n",
       "      <td>(269826.0, 2265604.0]</td>\n",
       "      <td>2146</td>\n",
       "      <td>151</td>\n",
       "      <td>0.070363</td>\n",
       "    </tr>\n",
       "  </tbody>\n",
       "</table>\n",
       "</div>"
      ],
      "text/plain": [
       "   total_income_quantile  debt               \n",
       "                         count  sum      mean\n",
       "0     (20666.0, 78721.0]  2146  157  0.073159\n",
       "1     (78721.0, 98538.0]  2145  187  0.087179\n",
       "2    (98538.0, 116009.0]  2145  179  0.083450\n",
       "3   (116009.0, 132134.0]  2146  182  0.084809\n",
       "4   (132134.0, 142594.0]  2261  205  0.090668\n",
       "5   (142594.0, 161335.0]  2029  170  0.083785\n",
       "6   (161335.0, 179805.0]  2146  181  0.084343\n",
       "7   (179805.0, 214618.0]  2145  180  0.083916\n",
       "8   (214618.0, 269826.0]  2145  149  0.069464\n",
       "9  (269826.0, 2265604.0]  2146  151  0.070363"
      ]
     },
     "execution_count": 36,
     "metadata": {},
     "output_type": "execute_result"
    }
   ],
   "source": [
    "# вывод сгруппированного датафрейма\n",
    "debt_from_total_income_id.reset_index()"
   ]
  },
  {
   "cell_type": "markdown",
   "metadata": {},
   "source": [
    "**Вывод**"
   ]
  },
  {
   "cell_type": "markdown",
   "metadata": {},
   "source": [
    "Чаще платят кредит в срок группа клиентов, доход которых состовляет от 20666 до 78721 - c индексом строки 0, от 214606 до 269797 - c индексом строки 8, от 269797 до 2265604 - c индексом строки 9. Но явной зависимости  между уровнем дохода и возвратом кредита в срок нет."
   ]
  },
  {
   "cell_type": "markdown",
   "metadata": {},
   "source": [
    "- Как разные цели кредита влияют на его возврат в срок?"
   ]
  },
  {
   "cell_type": "code",
   "execution_count": 37,
   "metadata": {},
   "outputs": [],
   "source": [
    "# подсчет количества, суммы и среднего значения задолженности клиента в зависимости от целей кредита\n",
    "debt_from_purpose_def = df.groupby('purpose_def').agg({'debt': ['count', 'sum', 'mean']})"
   ]
  },
  {
   "cell_type": "code",
   "execution_count": 38,
   "metadata": {},
   "outputs": [
    {
     "data": {
      "text/html": [
       "<div>\n",
       "<style scoped>\n",
       "    .dataframe tbody tr th:only-of-type {\n",
       "        vertical-align: middle;\n",
       "    }\n",
       "\n",
       "    .dataframe tbody tr th {\n",
       "        vertical-align: top;\n",
       "    }\n",
       "\n",
       "    .dataframe thead tr th {\n",
       "        text-align: left;\n",
       "    }\n",
       "\n",
       "    .dataframe thead tr:last-of-type th {\n",
       "        text-align: right;\n",
       "    }\n",
       "</style>\n",
       "<table border=\"1\" class=\"dataframe\">\n",
       "  <thead>\n",
       "    <tr>\n",
       "      <th></th>\n",
       "      <th colspan=\"3\" halign=\"left\">debt</th>\n",
       "    </tr>\n",
       "    <tr>\n",
       "      <th></th>\n",
       "      <th>count</th>\n",
       "      <th>sum</th>\n",
       "      <th>mean</th>\n",
       "    </tr>\n",
       "    <tr>\n",
       "      <th>purpose_def</th>\n",
       "      <th></th>\n",
       "      <th></th>\n",
       "      <th></th>\n",
       "    </tr>\n",
       "  </thead>\n",
       "  <tbody>\n",
       "    <tr>\n",
       "      <th>авто</th>\n",
       "      <td>4306</td>\n",
       "      <td>403</td>\n",
       "      <td>0.093590</td>\n",
       "    </tr>\n",
       "    <tr>\n",
       "      <th>недвижимость</th>\n",
       "      <td>10811</td>\n",
       "      <td>782</td>\n",
       "      <td>0.072334</td>\n",
       "    </tr>\n",
       "    <tr>\n",
       "      <th>образование</th>\n",
       "      <td>4013</td>\n",
       "      <td>370</td>\n",
       "      <td>0.092200</td>\n",
       "    </tr>\n",
       "    <tr>\n",
       "      <th>свадба</th>\n",
       "      <td>2324</td>\n",
       "      <td>186</td>\n",
       "      <td>0.080034</td>\n",
       "    </tr>\n",
       "  </tbody>\n",
       "</table>\n",
       "</div>"
      ],
      "text/plain": [
       "               debt               \n",
       "              count  sum      mean\n",
       "purpose_def                       \n",
       "авто           4306  403  0.093590\n",
       "недвижимость  10811  782  0.072334\n",
       "образование    4013  370  0.092200\n",
       "свадба         2324  186  0.080034"
      ]
     },
     "execution_count": 38,
     "metadata": {},
     "output_type": "execute_result"
    }
   ],
   "source": [
    "# вывод сгруппированного датафрейма\n",
    "debt_from_purpose_def"
   ]
  },
  {
   "cell_type": "markdown",
   "metadata": {},
   "source": [
    "**Вывод**"
   ]
  },
  {
   "cell_type": "markdown",
   "metadata": {},
   "source": [
    "Чаще всего платят в срок с целью кредита на недвижимость и свадьбу. Реже в срок платят клиенты с целью кредита на авто и образование. "
   ]
  },
  {
   "cell_type": "markdown",
   "metadata": {},
   "source": [
    "## Общий вывод"
   ]
  },
  {
   "cell_type": "markdown",
   "metadata": {},
   "source": [
    "Семейное положение влияет на возврат кредита. Разведенные, овдовевшие и клиенты в браке чаще платят в срок, чем клиенты не в браке. \n",
    "\n",
    "Для финального ответа на вопрос зависимости факта наличия детей на возврат кредита необходима большая выборка для количества 4 и 5 детей. Но по имеющимся данным зависимость наблюдается. Чем больше детей, тем реже будет платиться кредит в срок. "
   ]
  }
 ],
 "metadata": {
  "ExecuteTimeLog": [
   {
    "duration": 778,
    "start_time": "2022-01-15T17:16:55.068Z"
   },
   {
    "duration": 4,
    "start_time": "2022-01-15T17:16:57.634Z"
   },
   {
    "duration": 2162,
    "start_time": "2022-01-15T17:16:58.111Z"
   },
   {
    "duration": -2288,
    "start_time": "2022-01-15T17:17:02.563Z"
   },
   {
    "duration": 2201,
    "start_time": "2022-01-15T17:17:43.446Z"
   },
   {
    "duration": -2274,
    "start_time": "2022-01-15T17:17:47.924Z"
   },
   {
    "duration": 65,
    "start_time": "2022-01-15T17:18:30.953Z"
   },
   {
    "duration": 47,
    "start_time": "2022-01-15T17:18:31.818Z"
   },
   {
    "duration": 414,
    "start_time": "2022-01-18T11:27:43.508Z"
   },
   {
    "duration": 779,
    "start_time": "2022-01-18T11:27:48.014Z"
   },
   {
    "duration": 73,
    "start_time": "2022-01-18T11:27:48.795Z"
   },
   {
    "duration": 55,
    "start_time": "2022-01-18T11:27:48.871Z"
   },
   {
    "duration": 23,
    "start_time": "2022-01-18T11:27:48.929Z"
   },
   {
    "duration": 433,
    "start_time": "2022-01-18T11:32:58.569Z"
   },
   {
    "duration": 21,
    "start_time": "2022-01-18T11:37:27.819Z"
   },
   {
    "duration": 13,
    "start_time": "2022-01-18T12:16:33.252Z"
   },
   {
    "duration": 34,
    "start_time": "2022-01-18T12:18:01.022Z"
   },
   {
    "duration": 7579,
    "start_time": "2022-01-18T12:26:28.376Z"
   },
   {
    "duration": 63,
    "start_time": "2022-01-18T12:29:04.153Z"
   },
   {
    "duration": 14,
    "start_time": "2022-01-18T12:30:32.326Z"
   },
   {
    "duration": 8,
    "start_time": "2022-01-18T12:31:14.944Z"
   },
   {
    "duration": 38,
    "start_time": "2022-01-18T12:37:35.586Z"
   },
   {
    "duration": 41,
    "start_time": "2022-01-18T12:38:40.213Z"
   },
   {
    "duration": 13,
    "start_time": "2022-01-18T12:38:55.881Z"
   },
   {
    "duration": 3,
    "start_time": "2022-01-18T12:39:08.059Z"
   },
   {
    "duration": 61,
    "start_time": "2022-01-18T12:39:08.065Z"
   },
   {
    "duration": 41,
    "start_time": "2022-01-18T12:39:08.130Z"
   },
   {
    "duration": 20,
    "start_time": "2022-01-18T12:39:08.174Z"
   },
   {
    "duration": 45,
    "start_time": "2022-01-18T12:39:08.196Z"
   },
   {
    "duration": 15,
    "start_time": "2022-01-18T12:39:08.244Z"
   },
   {
    "duration": 37,
    "start_time": "2022-01-18T12:39:08.261Z"
   },
   {
    "duration": 21,
    "start_time": "2022-01-18T12:39:56.290Z"
   },
   {
    "duration": 35,
    "start_time": "2022-01-18T12:39:58.273Z"
   },
   {
    "duration": 13,
    "start_time": "2022-01-18T12:40:30.139Z"
   },
   {
    "duration": 50,
    "start_time": "2022-01-18T12:40:40.517Z"
   },
   {
    "duration": 513,
    "start_time": "2022-01-18T12:40:59.344Z"
   },
   {
    "duration": 12,
    "start_time": "2022-01-18T12:41:14.258Z"
   },
   {
    "duration": 40,
    "start_time": "2022-01-18T12:41:20.033Z"
   },
   {
    "duration": 14,
    "start_time": "2022-01-18T12:41:44.135Z"
   },
   {
    "duration": 41,
    "start_time": "2022-01-18T12:41:47.624Z"
   },
   {
    "duration": 44,
    "start_time": "2022-01-18T12:42:45.516Z"
   },
   {
    "duration": 3130,
    "start_time": "2022-01-18T12:44:50.120Z"
   },
   {
    "duration": 219,
    "start_time": "2022-01-18T12:44:53.034Z"
   },
   {
    "duration": 3,
    "start_time": "2022-01-18T12:45:10.295Z"
   },
   {
    "duration": 2478,
    "start_time": "2022-01-18T12:45:10.800Z"
   },
   {
    "duration": 229,
    "start_time": "2022-01-18T12:45:13.051Z"
   },
   {
    "duration": 4,
    "start_time": "2022-01-18T12:46:20.351Z"
   },
   {
    "duration": 2246,
    "start_time": "2022-01-18T12:46:20.360Z"
   },
   {
    "duration": 232,
    "start_time": "2022-01-18T12:46:22.377Z"
   },
   {
    "duration": 233,
    "start_time": "2022-01-18T12:46:22.378Z"
   },
   {
    "duration": 233,
    "start_time": "2022-01-18T12:46:22.380Z"
   },
   {
    "duration": 233,
    "start_time": "2022-01-18T12:46:22.381Z"
   },
   {
    "duration": 234,
    "start_time": "2022-01-18T12:46:22.382Z"
   },
   {
    "duration": 3,
    "start_time": "2022-01-18T12:46:45.075Z"
   },
   {
    "duration": 77,
    "start_time": "2022-01-18T12:46:45.081Z"
   },
   {
    "duration": 35,
    "start_time": "2022-01-18T12:46:45.162Z"
   },
   {
    "duration": 35,
    "start_time": "2022-01-18T12:46:45.200Z"
   },
   {
    "duration": 18,
    "start_time": "2022-01-18T12:46:45.237Z"
   },
   {
    "duration": 29,
    "start_time": "2022-01-18T12:46:45.257Z"
   },
   {
    "duration": 68,
    "start_time": "2022-01-18T12:46:45.288Z"
   },
   {
    "duration": 3,
    "start_time": "2022-01-18T12:48:46.842Z"
   },
   {
    "duration": 2296,
    "start_time": "2022-01-18T12:48:47.285Z"
   },
   {
    "duration": 202,
    "start_time": "2022-01-18T12:48:49.381Z"
   },
   {
    "duration": 66,
    "start_time": "2022-01-18T12:49:00.084Z"
   },
   {
    "duration": 5,
    "start_time": "2022-01-18T12:49:02.126Z"
   },
   {
    "duration": 71,
    "start_time": "2022-01-18T12:49:02.134Z"
   },
   {
    "duration": 39,
    "start_time": "2022-01-18T12:49:02.208Z"
   },
   {
    "duration": 15,
    "start_time": "2022-01-18T12:49:02.250Z"
   },
   {
    "duration": 14,
    "start_time": "2022-01-18T12:49:02.268Z"
   },
   {
    "duration": 62,
    "start_time": "2022-01-18T12:49:02.285Z"
   },
   {
    "duration": 38,
    "start_time": "2022-01-18T12:49:02.350Z"
   },
   {
    "duration": 28,
    "start_time": "2022-01-18T13:12:11.054Z"
   },
   {
    "duration": 36,
    "start_time": "2022-01-18T13:12:18.496Z"
   },
   {
    "duration": 40,
    "start_time": "2022-01-18T13:14:29.267Z"
   },
   {
    "duration": 19,
    "start_time": "2022-01-18T13:16:55.533Z"
   },
   {
    "duration": 14,
    "start_time": "2022-01-18T13:17:37.722Z"
   },
   {
    "duration": 8,
    "start_time": "2022-01-18T13:17:42.596Z"
   },
   {
    "duration": 5,
    "start_time": "2022-01-18T13:17:47.360Z"
   },
   {
    "duration": 82,
    "start_time": "2022-01-18T13:17:47.367Z"
   },
   {
    "duration": 33,
    "start_time": "2022-01-18T13:17:47.452Z"
   },
   {
    "duration": 47,
    "start_time": "2022-01-18T13:17:47.488Z"
   },
   {
    "duration": 13,
    "start_time": "2022-01-18T13:17:47.538Z"
   },
   {
    "duration": 35,
    "start_time": "2022-01-18T13:17:47.554Z"
   },
   {
    "duration": 4,
    "start_time": "2022-01-18T13:18:06.444Z"
   },
   {
    "duration": 82,
    "start_time": "2022-01-18T13:18:06.452Z"
   },
   {
    "duration": 40,
    "start_time": "2022-01-18T13:18:06.539Z"
   },
   {
    "duration": 13,
    "start_time": "2022-01-18T13:18:06.582Z"
   },
   {
    "duration": 19,
    "start_time": "2022-01-18T13:18:06.624Z"
   },
   {
    "duration": 34,
    "start_time": "2022-01-18T13:18:06.646Z"
   },
   {
    "duration": 3,
    "start_time": "2022-01-18T13:18:47.061Z"
   },
   {
    "duration": 64,
    "start_time": "2022-01-18T13:18:47.067Z"
   },
   {
    "duration": 34,
    "start_time": "2022-01-18T13:18:47.135Z"
   },
   {
    "duration": 18,
    "start_time": "2022-01-18T13:18:47.172Z"
   },
   {
    "duration": 36,
    "start_time": "2022-01-18T13:18:47.192Z"
   },
   {
    "duration": 42,
    "start_time": "2022-01-18T13:18:47.231Z"
   },
   {
    "duration": 38,
    "start_time": "2022-01-18T13:18:52.615Z"
   },
   {
    "duration": 13,
    "start_time": "2022-01-18T13:19:23.545Z"
   },
   {
    "duration": 4,
    "start_time": "2022-01-18T13:19:27.287Z"
   },
   {
    "duration": 75,
    "start_time": "2022-01-18T13:19:27.293Z"
   },
   {
    "duration": 32,
    "start_time": "2022-01-18T13:19:27.372Z"
   },
   {
    "duration": 33,
    "start_time": "2022-01-18T13:19:27.407Z"
   },
   {
    "duration": 19,
    "start_time": "2022-01-18T13:19:27.443Z"
   },
   {
    "duration": 14,
    "start_time": "2022-01-18T13:19:27.464Z"
   },
   {
    "duration": 31,
    "start_time": "2022-01-18T13:19:57.726Z"
   },
   {
    "duration": 42,
    "start_time": "2022-01-18T13:20:10.749Z"
   },
   {
    "duration": 797,
    "start_time": "2022-01-18T15:45:54.258Z"
   },
   {
    "duration": 58,
    "start_time": "2022-01-18T15:45:55.058Z"
   },
   {
    "duration": 55,
    "start_time": "2022-01-18T15:45:55.119Z"
   },
   {
    "duration": 16,
    "start_time": "2022-01-18T15:45:55.178Z"
   },
   {
    "duration": 35,
    "start_time": "2022-01-18T15:45:55.197Z"
   },
   {
    "duration": 46,
    "start_time": "2022-01-18T15:45:55.235Z"
   },
   {
    "duration": 17,
    "start_time": "2022-01-18T15:45:55.284Z"
   },
   {
    "duration": 24,
    "start_time": "2022-01-18T15:45:55.305Z"
   },
   {
    "duration": 38,
    "start_time": "2022-01-18T15:46:10.665Z"
   },
   {
    "duration": 5,
    "start_time": "2022-01-18T15:46:15.063Z"
   },
   {
    "duration": 9,
    "start_time": "2022-01-18T15:46:23.809Z"
   },
   {
    "duration": 26,
    "start_time": "2022-01-18T15:46:46.972Z"
   },
   {
    "duration": 9,
    "start_time": "2022-01-18T15:47:14.842Z"
   },
   {
    "duration": 34,
    "start_time": "2022-01-18T15:48:15.366Z"
   },
   {
    "duration": 9,
    "start_time": "2022-01-18T15:48:38.486Z"
   },
   {
    "duration": 8,
    "start_time": "2022-01-18T15:48:49.650Z"
   },
   {
    "duration": 8,
    "start_time": "2022-01-18T15:49:13.582Z"
   },
   {
    "duration": 9,
    "start_time": "2022-01-18T15:49:17.721Z"
   },
   {
    "duration": 9,
    "start_time": "2022-01-18T15:49:21.548Z"
   },
   {
    "duration": 8,
    "start_time": "2022-01-18T15:49:24.868Z"
   },
   {
    "duration": 7,
    "start_time": "2022-01-18T15:49:30.801Z"
   },
   {
    "duration": 7,
    "start_time": "2022-01-18T15:49:33.787Z"
   },
   {
    "duration": 7,
    "start_time": "2022-01-18T15:49:38.258Z"
   },
   {
    "duration": 9,
    "start_time": "2022-01-18T15:50:03.506Z"
   },
   {
    "duration": 671,
    "start_time": "2022-01-18T15:51:00.800Z"
   },
   {
    "duration": 12,
    "start_time": "2022-01-18T15:51:11.939Z"
   },
   {
    "duration": 305,
    "start_time": "2022-01-18T15:52:50.892Z"
   },
   {
    "duration": 327,
    "start_time": "2022-01-18T15:53:08.156Z"
   },
   {
    "duration": 5,
    "start_time": "2022-01-18T15:53:41.361Z"
   },
   {
    "duration": 7,
    "start_time": "2022-01-18T15:53:50.562Z"
   },
   {
    "duration": 6,
    "start_time": "2022-01-18T15:53:58.798Z"
   },
   {
    "duration": 12,
    "start_time": "2022-01-18T15:56:41.392Z"
   },
   {
    "duration": 1180,
    "start_time": "2022-01-18T15:57:06.975Z"
   },
   {
    "duration": 12,
    "start_time": "2022-01-18T15:57:11.183Z"
   },
   {
    "duration": 4,
    "start_time": "2022-01-18T15:57:38.185Z"
   },
   {
    "duration": 84,
    "start_time": "2022-01-18T15:57:38.193Z"
   },
   {
    "duration": 33,
    "start_time": "2022-01-18T15:57:38.280Z"
   },
   {
    "duration": 27,
    "start_time": "2022-01-18T15:57:38.315Z"
   },
   {
    "duration": 13,
    "start_time": "2022-01-18T15:57:38.346Z"
   },
   {
    "duration": 22,
    "start_time": "2022-01-18T15:57:38.362Z"
   },
   {
    "duration": 74,
    "start_time": "2022-01-18T15:57:38.387Z"
   },
   {
    "duration": 11,
    "start_time": "2022-01-18T15:57:38.464Z"
   },
   {
    "duration": 8,
    "start_time": "2022-01-18T15:57:38.478Z"
   },
   {
    "duration": 40,
    "start_time": "2022-01-18T15:57:38.489Z"
   },
   {
    "duration": 28,
    "start_time": "2022-01-18T15:57:38.531Z"
   },
   {
    "duration": 27,
    "start_time": "2022-01-18T15:58:45.697Z"
   },
   {
    "duration": 4,
    "start_time": "2022-01-18T15:59:45.767Z"
   },
   {
    "duration": 66,
    "start_time": "2022-01-18T15:59:45.774Z"
   },
   {
    "duration": 44,
    "start_time": "2022-01-18T15:59:45.843Z"
   },
   {
    "duration": 50,
    "start_time": "2022-01-18T15:59:45.890Z"
   },
   {
    "duration": 13,
    "start_time": "2022-01-18T15:59:45.942Z"
   },
   {
    "duration": 24,
    "start_time": "2022-01-18T15:59:45.957Z"
   },
   {
    "duration": 63,
    "start_time": "2022-01-18T15:59:45.984Z"
   },
   {
    "duration": 28,
    "start_time": "2022-01-18T15:59:46.050Z"
   },
   {
    "duration": 10,
    "start_time": "2022-01-18T15:59:46.081Z"
   },
   {
    "duration": 12,
    "start_time": "2022-01-18T15:59:46.124Z"
   },
   {
    "duration": 19,
    "start_time": "2022-01-18T15:59:46.139Z"
   },
   {
    "duration": 10,
    "start_time": "2022-01-18T16:00:35.772Z"
   },
   {
    "duration": 12,
    "start_time": "2022-01-18T16:03:53.875Z"
   },
   {
    "duration": 13,
    "start_time": "2022-01-18T16:03:57.620Z"
   },
   {
    "duration": 14,
    "start_time": "2022-01-18T16:04:49.535Z"
   },
   {
    "duration": 9,
    "start_time": "2022-01-18T16:04:57.942Z"
   },
   {
    "duration": 11,
    "start_time": "2022-01-18T16:05:10.864Z"
   },
   {
    "duration": 11,
    "start_time": "2022-01-18T16:05:50.142Z"
   },
   {
    "duration": 5,
    "start_time": "2022-01-18T16:05:56.226Z"
   },
   {
    "duration": 65,
    "start_time": "2022-01-18T16:05:56.234Z"
   },
   {
    "duration": 48,
    "start_time": "2022-01-18T16:05:56.302Z"
   },
   {
    "duration": 17,
    "start_time": "2022-01-18T16:05:56.353Z"
   },
   {
    "duration": 12,
    "start_time": "2022-01-18T16:05:56.372Z"
   },
   {
    "duration": 65,
    "start_time": "2022-01-18T16:05:56.386Z"
   },
   {
    "duration": 36,
    "start_time": "2022-01-18T16:05:56.454Z"
   },
   {
    "duration": 31,
    "start_time": "2022-01-18T16:05:56.493Z"
   },
   {
    "duration": 11,
    "start_time": "2022-01-18T16:05:56.527Z"
   },
   {
    "duration": 16,
    "start_time": "2022-01-18T16:05:56.542Z"
   },
   {
    "duration": 5,
    "start_time": "2022-01-18T16:05:56.560Z"
   },
   {
    "duration": 10,
    "start_time": "2022-01-18T16:06:05.196Z"
   },
   {
    "duration": 11,
    "start_time": "2022-01-18T16:06:10.863Z"
   },
   {
    "duration": 9,
    "start_time": "2022-01-18T20:06:06.747Z"
   },
   {
    "duration": 4,
    "start_time": "2022-01-18T20:06:07.085Z"
   },
   {
    "duration": 5417,
    "start_time": "2022-01-18T20:06:07.464Z"
   },
   {
    "duration": 295,
    "start_time": "2022-01-18T20:06:12.885Z"
   },
   {
    "duration": 35,
    "start_time": "2022-01-18T20:06:54.008Z"
   },
   {
    "duration": 313,
    "start_time": "2022-01-19T11:11:53.126Z"
   },
   {
    "duration": 574,
    "start_time": "2022-01-19T11:11:57.167Z"
   },
   {
    "duration": 58,
    "start_time": "2022-01-19T11:11:57.743Z"
   },
   {
    "duration": 25,
    "start_time": "2022-01-19T11:11:57.803Z"
   },
   {
    "duration": 10,
    "start_time": "2022-01-19T11:11:57.830Z"
   },
   {
    "duration": 9,
    "start_time": "2022-01-19T11:11:57.842Z"
   },
   {
    "duration": 17,
    "start_time": "2022-01-19T11:11:57.853Z"
   },
   {
    "duration": 45,
    "start_time": "2022-01-19T11:11:57.871Z"
   },
   {
    "duration": 6,
    "start_time": "2022-01-19T11:11:57.919Z"
   },
   {
    "duration": 6,
    "start_time": "2022-01-19T11:11:57.927Z"
   },
   {
    "duration": 6,
    "start_time": "2022-01-19T11:11:57.934Z"
   },
   {
    "duration": 5,
    "start_time": "2022-01-19T11:11:57.942Z"
   },
   {
    "duration": 7,
    "start_time": "2022-01-19T11:11:57.948Z"
   },
   {
    "duration": 4,
    "start_time": "2022-01-19T11:11:57.957Z"
   },
   {
    "duration": 3231,
    "start_time": "2022-01-19T11:11:57.999Z"
   },
   {
    "duration": 16,
    "start_time": "2022-01-19T11:12:01.232Z"
   },
   {
    "duration": 1852,
    "start_time": "2022-01-19T11:12:01.250Z"
   },
   {
    "duration": 444,
    "start_time": "2022-01-19T11:12:02.660Z"
   },
   {
    "duration": 442,
    "start_time": "2022-01-19T11:12:02.663Z"
   },
   {
    "duration": 1853,
    "start_time": "2022-01-19T11:13:25.482Z"
   },
   {
    "duration": 259,
    "start_time": "2022-01-19T11:15:48.737Z"
   },
   {
    "duration": 16,
    "start_time": "2022-01-19T11:35:09.679Z"
   },
   {
    "duration": 1711,
    "start_time": "2022-01-19T11:35:10.865Z"
   },
   {
    "duration": 5,
    "start_time": "2022-01-19T11:35:17.765Z"
   },
   {
    "duration": 712,
    "start_time": "2022-01-19T11:35:22.030Z"
   },
   {
    "duration": 4,
    "start_time": "2022-01-19T11:35:24.903Z"
   },
   {
    "duration": 2736,
    "start_time": "2022-01-19T11:35:31.295Z"
   },
   {
    "duration": 1608,
    "start_time": "2022-01-19T11:35:43.125Z"
   },
   {
    "duration": 16,
    "start_time": "2022-01-19T11:35:51.204Z"
   },
   {
    "duration": 4,
    "start_time": "2022-01-19T11:38:44.813Z"
   },
   {
    "duration": 2797,
    "start_time": "2022-01-19T11:38:46.628Z"
   },
   {
    "duration": 15,
    "start_time": "2022-01-19T11:38:50.209Z"
   },
   {
    "duration": 15,
    "start_time": "2022-01-19T11:39:12.614Z"
   },
   {
    "duration": 16,
    "start_time": "2022-01-19T11:39:20.206Z"
   },
   {
    "duration": 26,
    "start_time": "2022-01-19T11:39:35.418Z"
   },
   {
    "duration": 4,
    "start_time": "2022-01-19T11:40:08.976Z"
   },
   {
    "duration": 2855,
    "start_time": "2022-01-19T11:40:10.143Z"
   },
   {
    "duration": 28,
    "start_time": "2022-01-19T11:40:13.001Z"
   },
   {
    "duration": 4,
    "start_time": "2022-01-19T11:41:10.471Z"
   },
   {
    "duration": 2653,
    "start_time": "2022-01-19T11:41:10.910Z"
   },
   {
    "duration": 36,
    "start_time": "2022-01-19T11:41:13.564Z"
   },
   {
    "duration": 3,
    "start_time": "2022-01-19T11:43:57.502Z"
   },
   {
    "duration": 2604,
    "start_time": "2022-01-19T11:43:58.479Z"
   },
   {
    "duration": 38,
    "start_time": "2022-01-19T11:44:01.085Z"
   },
   {
    "duration": 18,
    "start_time": "2022-01-19T11:44:03.821Z"
   },
   {
    "duration": 2,
    "start_time": "2022-01-19T11:46:04.450Z"
   },
   {
    "duration": 3,
    "start_time": "2022-01-19T11:46:05.187Z"
   },
   {
    "duration": 2667,
    "start_time": "2022-01-19T11:46:06.019Z"
   },
   {
    "duration": 13,
    "start_time": "2022-01-19T11:46:08.903Z"
   },
   {
    "duration": 81,
    "start_time": "2022-01-19T11:46:30.335Z"
   },
   {
    "duration": 534,
    "start_time": "2022-01-19T11:47:25.421Z"
   },
   {
    "duration": 265,
    "start_time": "2022-01-19T11:48:24.173Z"
   },
   {
    "duration": 79,
    "start_time": "2022-01-19T11:48:32.437Z"
   },
   {
    "duration": 3,
    "start_time": "2022-01-19T11:49:03.887Z"
   },
   {
    "duration": 1378,
    "start_time": "2022-01-19T11:49:04.750Z"
   },
   {
    "duration": 3,
    "start_time": "2022-01-19T11:50:18.196Z"
   },
   {
    "duration": 2599,
    "start_time": "2022-01-19T11:50:18.561Z"
   },
   {
    "duration": 267,
    "start_time": "2022-01-19T11:57:39.260Z"
   },
   {
    "duration": 2,
    "start_time": "2022-01-19T11:57:58.706Z"
   },
   {
    "duration": 306,
    "start_time": "2022-01-19T11:58:00.122Z"
   },
   {
    "duration": 268,
    "start_time": "2022-01-19T11:58:04.927Z"
   },
   {
    "duration": 13,
    "start_time": "2022-01-19T11:58:17.702Z"
   },
   {
    "duration": 3,
    "start_time": "2022-01-19T11:58:44.586Z"
   },
   {
    "duration": 285,
    "start_time": "2022-01-19T11:59:10.977Z"
   },
   {
    "duration": 5,
    "start_time": "2022-01-19T11:59:25.817Z"
   },
   {
    "duration": 373,
    "start_time": "2022-01-19T11:59:42.844Z"
   },
   {
    "duration": 269,
    "start_time": "2022-01-19T11:59:51.695Z"
   },
   {
    "duration": 269,
    "start_time": "2022-01-19T12:01:22.805Z"
   },
   {
    "duration": 257,
    "start_time": "2022-01-19T12:02:03.974Z"
   },
   {
    "duration": 259,
    "start_time": "2022-01-19T12:02:23.004Z"
   },
   {
    "duration": 271,
    "start_time": "2022-01-19T12:02:31.504Z"
   },
   {
    "duration": 275,
    "start_time": "2022-01-19T12:02:38.607Z"
   },
   {
    "duration": 85,
    "start_time": "2022-01-19T12:03:02.575Z"
   },
   {
    "duration": 297,
    "start_time": "2022-01-19T12:03:07.416Z"
   },
   {
    "duration": 14,
    "start_time": "2022-01-19T12:03:23.415Z"
   },
   {
    "duration": 7,
    "start_time": "2022-01-19T12:03:58.777Z"
   },
   {
    "duration": 269,
    "start_time": "2022-01-19T12:04:02.742Z"
   },
   {
    "duration": 254,
    "start_time": "2022-01-19T12:04:10.903Z"
   },
   {
    "duration": 4,
    "start_time": "2022-01-19T12:04:15.958Z"
   },
   {
    "duration": 3,
    "start_time": "2022-01-19T12:04:19.936Z"
   },
   {
    "duration": 3,
    "start_time": "2022-01-19T12:04:23.041Z"
   },
   {
    "duration": 250,
    "start_time": "2022-01-19T12:04:29.209Z"
   },
   {
    "duration": 278,
    "start_time": "2022-01-19T12:04:35.293Z"
   },
   {
    "duration": 7,
    "start_time": "2022-01-19T12:04:45.123Z"
   },
   {
    "duration": 316,
    "start_time": "2022-01-19T14:50:41.472Z"
   },
   {
    "duration": 8,
    "start_time": "2022-01-19T14:50:49.543Z"
   },
   {
    "duration": 269,
    "start_time": "2022-01-19T14:50:50.428Z"
   },
   {
    "duration": 747,
    "start_time": "2022-01-19T14:50:59.381Z"
   },
   {
    "duration": 65,
    "start_time": "2022-01-19T14:51:00.131Z"
   },
   {
    "duration": 45,
    "start_time": "2022-01-19T14:51:00.198Z"
   },
   {
    "duration": 27,
    "start_time": "2022-01-19T14:51:00.247Z"
   },
   {
    "duration": 12,
    "start_time": "2022-01-19T14:51:00.277Z"
   },
   {
    "duration": 32,
    "start_time": "2022-01-19T14:51:00.291Z"
   },
   {
    "duration": 66,
    "start_time": "2022-01-19T14:51:00.325Z"
   },
   {
    "duration": 10,
    "start_time": "2022-01-19T14:51:00.394Z"
   },
   {
    "duration": 24,
    "start_time": "2022-01-19T14:51:00.406Z"
   },
   {
    "duration": 13,
    "start_time": "2022-01-19T14:51:00.432Z"
   },
   {
    "duration": 23,
    "start_time": "2022-01-19T14:51:00.448Z"
   },
   {
    "duration": 16,
    "start_time": "2022-01-19T14:51:00.473Z"
   },
   {
    "duration": 11,
    "start_time": "2022-01-19T14:51:00.491Z"
   },
   {
    "duration": 979,
    "start_time": "2022-01-19T14:51:00.504Z"
   },
   {
    "duration": 3,
    "start_time": "2022-01-19T14:51:01.486Z"
   },
   {
    "duration": 26,
    "start_time": "2022-01-19T14:51:01.492Z"
   },
   {
    "duration": 8,
    "start_time": "2022-01-19T14:51:01.520Z"
   },
   {
    "duration": 4015,
    "start_time": "2022-01-19T14:51:01.531Z"
   },
   {
    "duration": 37,
    "start_time": "2022-01-19T14:51:05.549Z"
   },
   {
    "duration": 7,
    "start_time": "2022-01-19T14:51:43.592Z"
   },
   {
    "duration": 24,
    "start_time": "2022-01-19T14:53:50.899Z"
   },
   {
    "duration": 14,
    "start_time": "2022-01-19T14:54:04.693Z"
   },
   {
    "duration": 4,
    "start_time": "2022-01-19T14:54:39.133Z"
   },
   {
    "duration": 10,
    "start_time": "2022-01-19T14:54:39.918Z"
   },
   {
    "duration": 8,
    "start_time": "2022-01-19T14:59:56.429Z"
   },
   {
    "duration": 24,
    "start_time": "2022-01-19T15:18:00.803Z"
   },
   {
    "duration": 996,
    "start_time": "2022-01-19T15:18:01.475Z"
   },
   {
    "duration": 36,
    "start_time": "2022-01-19T15:26:06.977Z"
   },
   {
    "duration": 85,
    "start_time": "2022-01-19T15:26:54.342Z"
   },
   {
    "duration": 9,
    "start_time": "2022-01-19T15:27:20.807Z"
   },
   {
    "duration": 6,
    "start_time": "2022-01-19T15:32:28.295Z"
   },
   {
    "duration": 305,
    "start_time": "2022-01-19T15:33:04.241Z"
   },
   {
    "duration": 6,
    "start_time": "2022-01-19T15:34:02.401Z"
   },
   {
    "duration": 16,
    "start_time": "2022-01-19T15:34:03.485Z"
   },
   {
    "duration": 13,
    "start_time": "2022-01-19T15:35:57.840Z"
   },
   {
    "duration": 5,
    "start_time": "2022-01-19T15:37:43.854Z"
   },
   {
    "duration": 14,
    "start_time": "2022-01-19T15:37:45.621Z"
   },
   {
    "duration": 6,
    "start_time": "2022-01-19T15:38:11.331Z"
   },
   {
    "duration": 15,
    "start_time": "2022-01-19T15:38:12.014Z"
   },
   {
    "duration": 280,
    "start_time": "2022-01-19T15:39:49.449Z"
   },
   {
    "duration": 7,
    "start_time": "2022-01-19T15:40:03.374Z"
   },
   {
    "duration": 275,
    "start_time": "2022-01-19T15:40:47.966Z"
   },
   {
    "duration": 5,
    "start_time": "2022-01-19T15:40:55.323Z"
   },
   {
    "duration": 269,
    "start_time": "2022-01-19T15:40:56.525Z"
   },
   {
    "duration": 6,
    "start_time": "2022-01-19T15:41:19.092Z"
   },
   {
    "duration": 15,
    "start_time": "2022-01-19T15:41:26.031Z"
   },
   {
    "duration": 21,
    "start_time": "2022-01-19T15:42:20.370Z"
   },
   {
    "duration": 20,
    "start_time": "2022-01-19T15:42:24.787Z"
   },
   {
    "duration": 6,
    "start_time": "2022-01-19T15:43:38.303Z"
   },
   {
    "duration": 8,
    "start_time": "2022-01-19T15:44:08.411Z"
   },
   {
    "duration": 7,
    "start_time": "2022-01-19T16:06:30.456Z"
   },
   {
    "duration": 7,
    "start_time": "2022-01-19T16:06:38.490Z"
   },
   {
    "duration": 293,
    "start_time": "2022-01-19T16:07:29.073Z"
   },
   {
    "duration": 279,
    "start_time": "2022-01-19T16:07:48.683Z"
   },
   {
    "duration": 30,
    "start_time": "2022-01-19T16:08:08.420Z"
   },
   {
    "duration": 22,
    "start_time": "2022-01-19T16:08:45.334Z"
   },
   {
    "duration": 9,
    "start_time": "2022-01-19T16:09:07.812Z"
   },
   {
    "duration": 3,
    "start_time": "2022-01-19T17:59:46.233Z"
   },
   {
    "duration": 2268,
    "start_time": "2022-01-19T17:59:46.239Z"
   },
   {
    "duration": 1206,
    "start_time": "2022-01-19T17:59:47.305Z"
   },
   {
    "duration": 1190,
    "start_time": "2022-01-19T17:59:47.322Z"
   },
   {
    "duration": 1189,
    "start_time": "2022-01-19T17:59:47.324Z"
   },
   {
    "duration": 1190,
    "start_time": "2022-01-19T17:59:47.325Z"
   },
   {
    "duration": 1189,
    "start_time": "2022-01-19T17:59:47.327Z"
   },
   {
    "duration": 1173,
    "start_time": "2022-01-19T17:59:47.345Z"
   },
   {
    "duration": 1169,
    "start_time": "2022-01-19T17:59:47.350Z"
   },
   {
    "duration": 1168,
    "start_time": "2022-01-19T17:59:47.352Z"
   },
   {
    "duration": 1168,
    "start_time": "2022-01-19T17:59:47.354Z"
   },
   {
    "duration": 1168,
    "start_time": "2022-01-19T17:59:47.355Z"
   },
   {
    "duration": 1168,
    "start_time": "2022-01-19T17:59:47.357Z"
   },
   {
    "duration": 1169,
    "start_time": "2022-01-19T17:59:47.358Z"
   },
   {
    "duration": 1155,
    "start_time": "2022-01-19T17:59:47.373Z"
   },
   {
    "duration": 1155,
    "start_time": "2022-01-19T17:59:47.375Z"
   },
   {
    "duration": 1154,
    "start_time": "2022-01-19T17:59:47.377Z"
   },
   {
    "duration": 1154,
    "start_time": "2022-01-19T17:59:47.379Z"
   },
   {
    "duration": 1153,
    "start_time": "2022-01-19T17:59:47.381Z"
   },
   {
    "duration": 1153,
    "start_time": "2022-01-19T17:59:47.383Z"
   },
   {
    "duration": 1143,
    "start_time": "2022-01-19T17:59:47.394Z"
   },
   {
    "duration": 1138,
    "start_time": "2022-01-19T17:59:47.400Z"
   },
   {
    "duration": 1138,
    "start_time": "2022-01-19T17:59:47.402Z"
   },
   {
    "duration": 1139,
    "start_time": "2022-01-19T17:59:47.403Z"
   },
   {
    "duration": 1137,
    "start_time": "2022-01-19T17:59:47.406Z"
   },
   {
    "duration": 1137,
    "start_time": "2022-01-19T17:59:47.407Z"
   },
   {
    "duration": 1137,
    "start_time": "2022-01-19T17:59:47.409Z"
   },
   {
    "duration": 1137,
    "start_time": "2022-01-19T17:59:47.410Z"
   },
   {
    "duration": 1152,
    "start_time": "2022-01-19T17:59:47.421Z"
   },
   {
    "duration": 1153,
    "start_time": "2022-01-19T17:59:47.422Z"
   },
   {
    "duration": 1155,
    "start_time": "2022-01-19T17:59:47.425Z"
   },
   {
    "duration": 1157,
    "start_time": "2022-01-19T17:59:47.426Z"
   },
   {
    "duration": 1155,
    "start_time": "2022-01-19T17:59:47.429Z"
   },
   {
    "duration": 4,
    "start_time": "2022-01-19T18:00:10.787Z"
   },
   {
    "duration": 65,
    "start_time": "2022-01-19T18:00:10.793Z"
   },
   {
    "duration": 30,
    "start_time": "2022-01-19T18:00:10.861Z"
   },
   {
    "duration": 14,
    "start_time": "2022-01-19T18:00:10.894Z"
   },
   {
    "duration": 11,
    "start_time": "2022-01-19T18:00:10.911Z"
   },
   {
    "duration": 8,
    "start_time": "2022-01-19T18:00:10.925Z"
   },
   {
    "duration": 18,
    "start_time": "2022-01-19T18:00:10.968Z"
   },
   {
    "duration": 10,
    "start_time": "2022-01-19T18:00:10.991Z"
   },
   {
    "duration": 5,
    "start_time": "2022-01-19T18:00:11.004Z"
   },
   {
    "duration": 22,
    "start_time": "2022-01-19T18:00:11.011Z"
   },
   {
    "duration": 159,
    "start_time": "2022-01-19T18:00:11.035Z"
   },
   {
    "duration": 366,
    "start_time": "2022-01-19T18:00:11.196Z"
   },
   {
    "duration": 7,
    "start_time": "2022-01-19T18:00:11.569Z"
   },
   {
    "duration": 11,
    "start_time": "2022-01-19T18:00:11.580Z"
   },
   {
    "duration": 11,
    "start_time": "2022-01-19T18:00:11.594Z"
   },
   {
    "duration": 5,
    "start_time": "2022-01-19T18:00:11.608Z"
   },
   {
    "duration": 20,
    "start_time": "2022-01-19T18:00:11.615Z"
   },
   {
    "duration": 32,
    "start_time": "2022-01-19T18:00:11.674Z"
   },
   {
    "duration": 10,
    "start_time": "2022-01-19T18:00:11.708Z"
   },
   {
    "duration": 5,
    "start_time": "2022-01-19T18:00:11.721Z"
   },
   {
    "duration": 45,
    "start_time": "2022-01-19T18:00:11.729Z"
   },
   {
    "duration": 7,
    "start_time": "2022-01-19T18:00:11.777Z"
   },
   {
    "duration": 5,
    "start_time": "2022-01-19T18:00:11.788Z"
   },
   {
    "duration": 11,
    "start_time": "2022-01-19T18:00:11.796Z"
   },
   {
    "duration": 11,
    "start_time": "2022-01-19T18:00:11.810Z"
   },
   {
    "duration": 63,
    "start_time": "2022-01-19T18:00:11.823Z"
   },
   {
    "duration": 11,
    "start_time": "2022-01-19T18:00:11.888Z"
   },
   {
    "duration": 13,
    "start_time": "2022-01-19T18:00:11.901Z"
   },
   {
    "duration": 54,
    "start_time": "2022-01-19T18:00:11.916Z"
   },
   {
    "duration": 1032,
    "start_time": "2022-01-19T18:00:11.973Z"
   },
   {
    "duration": 6,
    "start_time": "2022-01-19T18:00:13.007Z"
   },
   {
    "duration": 4089,
    "start_time": "2022-01-19T18:00:13.016Z"
   },
   {
    "duration": 19,
    "start_time": "2022-01-19T18:00:17.107Z"
   },
   {
    "duration": 22,
    "start_time": "2022-01-19T18:34:22.644Z"
   },
   {
    "duration": 20,
    "start_time": "2022-01-19T18:35:26.183Z"
   },
   {
    "duration": 19,
    "start_time": "2022-01-19T18:36:13.290Z"
   },
   {
    "duration": 277,
    "start_time": "2022-01-19T18:37:25.183Z"
   },
   {
    "duration": 326,
    "start_time": "2022-01-19T18:37:31.811Z"
   },
   {
    "duration": 346,
    "start_time": "2022-01-19T18:38:59.546Z"
   },
   {
    "duration": 261,
    "start_time": "2022-01-19T18:39:08.204Z"
   },
   {
    "duration": 111,
    "start_time": "2022-01-19T18:39:21.913Z"
   },
   {
    "duration": 278,
    "start_time": "2022-01-19T18:39:38.352Z"
   },
   {
    "duration": 17,
    "start_time": "2022-01-19T18:39:51.289Z"
   },
   {
    "duration": 4270,
    "start_time": "2022-01-19T18:40:57.183Z"
   },
   {
    "duration": 4716,
    "start_time": "2022-01-19T18:41:18.420Z"
   },
   {
    "duration": 384,
    "start_time": "2022-01-19T18:42:51.336Z"
   },
   {
    "duration": 10,
    "start_time": "2022-01-19T18:42:55.214Z"
   },
   {
    "duration": 11,
    "start_time": "2022-01-19T18:43:14.914Z"
   },
   {
    "duration": 14,
    "start_time": "2022-01-19T18:43:15.340Z"
   },
   {
    "duration": 19,
    "start_time": "2022-01-19T18:45:21.399Z"
   },
   {
    "duration": 14,
    "start_time": "2022-01-19T18:45:57.582Z"
   },
   {
    "duration": 12,
    "start_time": "2022-01-19T18:46:29.599Z"
   },
   {
    "duration": 10,
    "start_time": "2022-01-19T18:46:50.083Z"
   },
   {
    "duration": 21,
    "start_time": "2022-01-19T18:48:04.351Z"
   },
   {
    "duration": 15,
    "start_time": "2022-01-19T18:48:05.471Z"
   },
   {
    "duration": 16,
    "start_time": "2022-01-19T18:48:18.857Z"
   },
   {
    "duration": 2127,
    "start_time": "2022-01-19T18:48:50.957Z"
   },
   {
    "duration": 1231,
    "start_time": "2022-01-19T18:48:51.856Z"
   },
   {
    "duration": 15,
    "start_time": "2022-01-19T18:49:01.321Z"
   },
   {
    "duration": 10,
    "start_time": "2022-01-19T18:49:02.451Z"
   },
   {
    "duration": 15,
    "start_time": "2022-01-19T18:49:16.243Z"
   },
   {
    "duration": 13,
    "start_time": "2022-01-19T18:49:16.513Z"
   },
   {
    "duration": 5,
    "start_time": "2022-01-19T19:15:59.334Z"
   },
   {
    "duration": 6,
    "start_time": "2022-01-19T19:16:11.068Z"
   },
   {
    "duration": 6,
    "start_time": "2022-01-19T19:16:16.473Z"
   },
   {
    "duration": 6,
    "start_time": "2022-01-19T19:16:22.123Z"
   },
   {
    "duration": 5,
    "start_time": "2022-01-19T19:16:29.269Z"
   },
   {
    "duration": 305,
    "start_time": "2022-01-19T19:18:26.528Z"
   },
   {
    "duration": 7,
    "start_time": "2022-01-19T19:42:23.053Z"
   },
   {
    "duration": 6,
    "start_time": "2022-01-19T19:42:56.802Z"
   },
   {
    "duration": 11,
    "start_time": "2022-01-19T19:43:05.422Z"
   },
   {
    "duration": 8,
    "start_time": "2022-01-19T19:45:06.593Z"
   },
   {
    "duration": 104,
    "start_time": "2022-01-19T19:45:31.572Z"
   },
   {
    "duration": 84,
    "start_time": "2022-01-19T19:45:34.578Z"
   },
   {
    "duration": 6,
    "start_time": "2022-01-19T19:45:38.756Z"
   },
   {
    "duration": 46,
    "start_time": "2022-01-19T19:49:29.498Z"
   },
   {
    "duration": 49,
    "start_time": "2022-01-19T19:50:42.374Z"
   },
   {
    "duration": 4,
    "start_time": "2022-01-19T19:51:38.328Z"
   },
   {
    "duration": 5,
    "start_time": "2022-01-19T19:54:49.336Z"
   },
   {
    "duration": 13,
    "start_time": "2022-01-19T19:54:52.746Z"
   },
   {
    "duration": 5,
    "start_time": "2022-01-19T19:55:22.926Z"
   },
   {
    "duration": 12,
    "start_time": "2022-01-19T19:55:23.459Z"
   },
   {
    "duration": 20,
    "start_time": "2022-01-19T19:56:43.084Z"
   },
   {
    "duration": 5,
    "start_time": "2022-01-19T19:56:50.001Z"
   },
   {
    "duration": 9,
    "start_time": "2022-01-19T19:56:50.298Z"
   },
   {
    "duration": 19,
    "start_time": "2022-01-19T19:56:50.558Z"
   },
   {
    "duration": 5,
    "start_time": "2022-01-19T19:57:39.814Z"
   },
   {
    "duration": 22,
    "start_time": "2022-01-19T19:57:40.272Z"
   },
   {
    "duration": 16,
    "start_time": "2022-01-19T19:58:03.881Z"
   },
   {
    "duration": 296,
    "start_time": "2022-01-19T20:00:33.821Z"
   },
   {
    "duration": 4,
    "start_time": "2022-01-19T20:01:03.545Z"
   },
   {
    "duration": 5,
    "start_time": "2022-01-19T20:01:04.067Z"
   },
   {
    "duration": 17,
    "start_time": "2022-01-19T20:01:04.453Z"
   },
   {
    "duration": 301,
    "start_time": "2022-01-19T20:01:05.067Z"
   },
   {
    "duration": 269,
    "start_time": "2022-01-19T20:01:08.368Z"
   },
   {
    "duration": 4,
    "start_time": "2022-01-19T20:01:19.152Z"
   },
   {
    "duration": 69,
    "start_time": "2022-01-19T20:01:19.160Z"
   },
   {
    "duration": 39,
    "start_time": "2022-01-19T20:01:19.232Z"
   },
   {
    "duration": 17,
    "start_time": "2022-01-19T20:01:19.274Z"
   },
   {
    "duration": 13,
    "start_time": "2022-01-19T20:01:19.293Z"
   },
   {
    "duration": 9,
    "start_time": "2022-01-19T20:01:19.309Z"
   },
   {
    "duration": 51,
    "start_time": "2022-01-19T20:01:19.320Z"
   },
   {
    "duration": 15,
    "start_time": "2022-01-19T20:01:19.374Z"
   },
   {
    "duration": 4,
    "start_time": "2022-01-19T20:01:19.391Z"
   },
   {
    "duration": 13,
    "start_time": "2022-01-19T20:01:19.399Z"
   },
   {
    "duration": 3,
    "start_time": "2022-01-19T20:01:19.416Z"
   },
   {
    "duration": 370,
    "start_time": "2022-01-19T20:01:19.422Z"
   },
   {
    "duration": 388,
    "start_time": "2022-01-19T20:01:19.794Z"
   },
   {
    "duration": 6,
    "start_time": "2022-01-19T20:01:20.184Z"
   },
   {
    "duration": 5,
    "start_time": "2022-01-19T20:01:20.193Z"
   },
   {
    "duration": 11,
    "start_time": "2022-01-19T20:01:20.200Z"
   },
   {
    "duration": 9,
    "start_time": "2022-01-19T20:01:20.213Z"
   },
   {
    "duration": 53,
    "start_time": "2022-01-19T20:01:20.224Z"
   },
   {
    "duration": 29,
    "start_time": "2022-01-19T20:01:20.280Z"
   },
   {
    "duration": 13,
    "start_time": "2022-01-19T20:01:20.311Z"
   },
   {
    "duration": 5,
    "start_time": "2022-01-19T20:01:20.326Z"
   },
   {
    "duration": 43,
    "start_time": "2022-01-19T20:01:20.333Z"
   },
   {
    "duration": 5,
    "start_time": "2022-01-19T20:01:20.379Z"
   },
   {
    "duration": 11,
    "start_time": "2022-01-19T20:01:20.387Z"
   },
   {
    "duration": 21,
    "start_time": "2022-01-19T20:01:20.401Z"
   },
   {
    "duration": 13,
    "start_time": "2022-01-19T20:01:20.424Z"
   },
   {
    "duration": 45,
    "start_time": "2022-01-19T20:01:20.440Z"
   },
   {
    "duration": 13,
    "start_time": "2022-01-19T20:01:20.490Z"
   },
   {
    "duration": 15,
    "start_time": "2022-01-19T20:01:20.506Z"
   },
   {
    "duration": 46,
    "start_time": "2022-01-19T20:01:20.524Z"
   },
   {
    "duration": 1041,
    "start_time": "2022-01-19T20:01:20.573Z"
   },
   {
    "duration": 6,
    "start_time": "2022-01-19T20:01:21.617Z"
   },
   {
    "duration": 4000,
    "start_time": "2022-01-19T20:01:21.626Z"
   },
   {
    "duration": 19,
    "start_time": "2022-01-19T20:01:25.628Z"
   },
   {
    "duration": 30,
    "start_time": "2022-01-19T20:01:25.649Z"
   },
   {
    "duration": 9,
    "start_time": "2022-01-19T20:01:25.682Z"
   },
   {
    "duration": 13,
    "start_time": "2022-01-19T20:01:25.693Z"
   },
   {
    "duration": 9,
    "start_time": "2022-01-19T20:01:25.709Z"
   },
   {
    "duration": 6,
    "start_time": "2022-01-19T20:01:25.720Z"
   },
   {
    "duration": 5,
    "start_time": "2022-01-19T20:01:25.769Z"
   },
   {
    "duration": 21,
    "start_time": "2022-01-19T20:01:25.776Z"
   },
   {
    "duration": 282,
    "start_time": "2022-01-19T20:01:25.799Z"
   },
   {
    "duration": 1215,
    "start_time": "2022-01-19T20:01:24.868Z"
   },
   {
    "duration": 1213,
    "start_time": "2022-01-19T20:01:24.871Z"
   },
   {
    "duration": 11,
    "start_time": "2022-01-19T20:02:24.232Z"
   },
   {
    "duration": 12,
    "start_time": "2022-01-19T20:02:27.379Z"
   },
   {
    "duration": 11,
    "start_time": "2022-01-19T20:03:42.380Z"
   },
   {
    "duration": 9,
    "start_time": "2022-01-19T20:04:46.320Z"
   },
   {
    "duration": 6,
    "start_time": "2022-01-19T20:04:56.147Z"
   },
   {
    "duration": 526,
    "start_time": "2022-01-19T20:05:10.011Z"
   },
   {
    "duration": 5,
    "start_time": "2022-01-19T20:05:33.059Z"
   },
   {
    "duration": 432,
    "start_time": "2022-01-19T20:05:34.030Z"
   },
   {
    "duration": 11,
    "start_time": "2022-01-19T20:06:08.674Z"
   },
   {
    "duration": 11,
    "start_time": "2022-01-19T20:06:16.565Z"
   },
   {
    "duration": 10,
    "start_time": "2022-01-19T20:06:41.197Z"
   },
   {
    "duration": 10,
    "start_time": "2022-01-19T20:06:46.597Z"
   },
   {
    "duration": 5,
    "start_time": "2022-01-19T20:07:09.583Z"
   },
   {
    "duration": 291,
    "start_time": "2022-01-19T20:08:17.073Z"
   },
   {
    "duration": 5,
    "start_time": "2022-01-19T20:08:26.335Z"
   },
   {
    "duration": 7,
    "start_time": "2022-01-19T20:08:45.522Z"
   },
   {
    "duration": 15,
    "start_time": "2022-01-19T20:08:50.638Z"
   },
   {
    "duration": 16,
    "start_time": "2022-01-19T20:09:16.359Z"
   },
   {
    "duration": 17,
    "start_time": "2022-01-19T20:12:23.059Z"
   },
   {
    "duration": 11,
    "start_time": "2022-01-19T20:12:23.590Z"
   },
   {
    "duration": 9,
    "start_time": "2022-01-19T20:12:35.288Z"
   },
   {
    "duration": 3,
    "start_time": "2022-01-19T20:17:01.873Z"
   },
   {
    "duration": 91,
    "start_time": "2022-01-19T20:17:01.879Z"
   },
   {
    "duration": 18,
    "start_time": "2022-01-19T20:17:01.973Z"
   },
   {
    "duration": 15,
    "start_time": "2022-01-19T20:17:01.994Z"
   },
   {
    "duration": 13,
    "start_time": "2022-01-19T20:17:02.011Z"
   },
   {
    "duration": 49,
    "start_time": "2022-01-19T20:17:02.026Z"
   },
   {
    "duration": 14,
    "start_time": "2022-01-19T20:17:02.077Z"
   },
   {
    "duration": 12,
    "start_time": "2022-01-19T20:17:02.096Z"
   },
   {
    "duration": 24,
    "start_time": "2022-01-19T20:17:02.112Z"
   },
   {
    "duration": 17,
    "start_time": "2022-01-19T20:17:02.139Z"
   },
   {
    "duration": 4,
    "start_time": "2022-01-19T20:17:02.169Z"
   },
   {
    "duration": 354,
    "start_time": "2022-01-19T20:17:02.175Z"
   },
   {
    "duration": 321,
    "start_time": "2022-01-19T20:17:02.531Z"
   },
   {
    "duration": 19,
    "start_time": "2022-01-19T20:17:02.855Z"
   },
   {
    "duration": 7,
    "start_time": "2022-01-19T20:17:02.876Z"
   },
   {
    "duration": 13,
    "start_time": "2022-01-19T20:17:02.886Z"
   },
   {
    "duration": 6,
    "start_time": "2022-01-19T20:17:02.902Z"
   },
   {
    "duration": 23,
    "start_time": "2022-01-19T20:17:02.910Z"
   },
   {
    "duration": 42,
    "start_time": "2022-01-19T20:17:02.970Z"
   },
   {
    "duration": 10,
    "start_time": "2022-01-19T20:17:03.015Z"
   },
   {
    "duration": 7,
    "start_time": "2022-01-19T20:17:03.028Z"
   },
   {
    "duration": 42,
    "start_time": "2022-01-19T20:17:03.038Z"
   },
   {
    "duration": 5,
    "start_time": "2022-01-19T20:17:03.087Z"
   },
   {
    "duration": 9,
    "start_time": "2022-01-19T20:17:03.095Z"
   },
   {
    "duration": 11,
    "start_time": "2022-01-19T20:17:03.106Z"
   },
   {
    "duration": 10,
    "start_time": "2022-01-19T20:17:03.119Z"
   },
   {
    "duration": 53,
    "start_time": "2022-01-19T20:17:03.131Z"
   },
   {
    "duration": 16,
    "start_time": "2022-01-19T20:17:03.186Z"
   },
   {
    "duration": 12,
    "start_time": "2022-01-19T20:17:03.204Z"
   },
   {
    "duration": 52,
    "start_time": "2022-01-19T20:17:03.218Z"
   },
   {
    "duration": 959,
    "start_time": "2022-01-19T20:17:03.272Z"
   },
   {
    "duration": 6,
    "start_time": "2022-01-19T20:17:04.234Z"
   },
   {
    "duration": 3879,
    "start_time": "2022-01-19T20:17:04.243Z"
   },
   {
    "duration": 18,
    "start_time": "2022-01-19T20:17:08.124Z"
   },
   {
    "duration": 37,
    "start_time": "2022-01-19T20:17:08.144Z"
   },
   {
    "duration": 9,
    "start_time": "2022-01-19T20:17:08.184Z"
   },
   {
    "duration": 13,
    "start_time": "2022-01-19T20:17:08.195Z"
   },
   {
    "duration": 9,
    "start_time": "2022-01-19T20:17:08.210Z"
   },
   {
    "duration": 6,
    "start_time": "2022-01-19T20:17:08.221Z"
   },
   {
    "duration": 41,
    "start_time": "2022-01-19T20:17:08.229Z"
   },
   {
    "duration": 19,
    "start_time": "2022-01-19T20:17:08.272Z"
   },
   {
    "duration": 11,
    "start_time": "2022-01-19T20:17:08.294Z"
   },
   {
    "duration": 9,
    "start_time": "2022-01-19T20:17:08.307Z"
   },
   {
    "duration": 53,
    "start_time": "2022-01-19T20:17:08.318Z"
   },
   {
    "duration": 9,
    "start_time": "2022-01-19T20:17:08.373Z"
   },
   {
    "duration": 9,
    "start_time": "2022-01-19T20:33:45.442Z"
   },
   {
    "duration": 9,
    "start_time": "2022-01-19T20:33:49.868Z"
   },
   {
    "duration": 9,
    "start_time": "2022-01-19T20:33:55.433Z"
   },
   {
    "duration": 9,
    "start_time": "2022-01-19T20:34:03.197Z"
   },
   {
    "duration": 9,
    "start_time": "2022-01-19T20:34:08.251Z"
   },
   {
    "duration": 10,
    "start_time": "2022-01-19T20:34:12.949Z"
   },
   {
    "duration": 10,
    "start_time": "2022-01-19T20:34:16.092Z"
   },
   {
    "duration": 12,
    "start_time": "2022-01-19T20:34:25.820Z"
   },
   {
    "duration": 9,
    "start_time": "2022-01-19T20:34:34.615Z"
   },
   {
    "duration": 11,
    "start_time": "2022-01-19T20:34:37.698Z"
   },
   {
    "duration": 9,
    "start_time": "2022-01-19T20:35:09.209Z"
   },
   {
    "duration": 14,
    "start_time": "2022-01-19T20:35:22.746Z"
   },
   {
    "duration": 13,
    "start_time": "2022-01-19T20:35:26.368Z"
   },
   {
    "duration": 9,
    "start_time": "2022-01-19T20:35:29.366Z"
   },
   {
    "duration": 11,
    "start_time": "2022-01-19T20:35:34.318Z"
   },
   {
    "duration": 10,
    "start_time": "2022-01-19T20:35:38.686Z"
   },
   {
    "duration": 9,
    "start_time": "2022-01-19T20:35:42.176Z"
   },
   {
    "duration": 9,
    "start_time": "2022-01-19T20:35:46.582Z"
   },
   {
    "duration": 9,
    "start_time": "2022-01-19T20:35:53.239Z"
   },
   {
    "duration": 9,
    "start_time": "2022-01-19T20:35:56.891Z"
   },
   {
    "duration": 344,
    "start_time": "2022-01-19T20:36:53.425Z"
   },
   {
    "duration": 308,
    "start_time": "2022-01-19T20:37:00.141Z"
   },
   {
    "duration": 12,
    "start_time": "2022-01-19T20:39:56.677Z"
   },
   {
    "duration": 6,
    "start_time": "2022-01-19T20:39:58.223Z"
   },
   {
    "duration": 3,
    "start_time": "2022-01-19T20:40:44.546Z"
   },
   {
    "duration": 67,
    "start_time": "2022-01-19T20:40:44.552Z"
   },
   {
    "duration": 17,
    "start_time": "2022-01-19T20:40:44.622Z"
   },
   {
    "duration": 15,
    "start_time": "2022-01-19T20:40:44.670Z"
   },
   {
    "duration": 16,
    "start_time": "2022-01-19T20:40:44.688Z"
   },
   {
    "duration": 5,
    "start_time": "2022-01-19T20:40:44.707Z"
   },
   {
    "duration": 55,
    "start_time": "2022-01-19T20:40:44.714Z"
   },
   {
    "duration": 4,
    "start_time": "2022-01-19T20:40:44.774Z"
   },
   {
    "duration": 390,
    "start_time": "2022-01-19T20:40:44.782Z"
   },
   {
    "duration": 321,
    "start_time": "2022-01-19T20:40:45.174Z"
   },
   {
    "duration": 6,
    "start_time": "2022-01-19T20:40:45.497Z"
   },
   {
    "duration": 6,
    "start_time": "2022-01-19T20:40:45.505Z"
   },
   {
    "duration": 9,
    "start_time": "2022-01-19T20:40:45.513Z"
   },
   {
    "duration": 6,
    "start_time": "2022-01-19T20:40:45.524Z"
   },
   {
    "duration": 16,
    "start_time": "2022-01-19T20:40:45.570Z"
   },
   {
    "duration": 7,
    "start_time": "2022-01-19T20:40:45.588Z"
   },
   {
    "duration": 5,
    "start_time": "2022-01-19T20:40:45.597Z"
   },
   {
    "duration": 9,
    "start_time": "2022-01-19T20:40:45.604Z"
   },
   {
    "duration": 5,
    "start_time": "2022-01-19T20:40:45.616Z"
   },
   {
    "duration": 48,
    "start_time": "2022-01-19T20:40:45.623Z"
   },
   {
    "duration": 10,
    "start_time": "2022-01-19T20:40:45.673Z"
   },
   {
    "duration": 11,
    "start_time": "2022-01-19T20:40:45.686Z"
   },
   {
    "duration": 16,
    "start_time": "2022-01-19T20:40:45.705Z"
   },
   {
    "duration": 12,
    "start_time": "2022-01-19T20:40:45.769Z"
   },
   {
    "duration": 9,
    "start_time": "2022-01-19T20:40:45.784Z"
   },
   {
    "duration": 26,
    "start_time": "2022-01-19T20:40:45.796Z"
   },
   {
    "duration": 1079,
    "start_time": "2022-01-19T20:40:45.825Z"
   },
   {
    "duration": 5,
    "start_time": "2022-01-19T20:40:46.907Z"
   },
   {
    "duration": 4299,
    "start_time": "2022-01-19T20:40:46.915Z"
   },
   {
    "duration": 20,
    "start_time": "2022-01-19T20:40:51.216Z"
   },
   {
    "duration": 36,
    "start_time": "2022-01-19T20:40:51.238Z"
   },
   {
    "duration": 10,
    "start_time": "2022-01-19T20:40:51.276Z"
   },
   {
    "duration": 13,
    "start_time": "2022-01-19T20:40:51.289Z"
   },
   {
    "duration": 12,
    "start_time": "2022-01-19T20:40:51.305Z"
   },
   {
    "duration": 7,
    "start_time": "2022-01-19T20:40:51.319Z"
   },
   {
    "duration": 43,
    "start_time": "2022-01-19T20:40:51.328Z"
   },
   {
    "duration": 20,
    "start_time": "2022-01-19T20:40:51.374Z"
   },
   {
    "duration": 14,
    "start_time": "2022-01-19T20:40:51.397Z"
   },
   {
    "duration": 11,
    "start_time": "2022-01-19T20:40:51.413Z"
   },
   {
    "duration": 48,
    "start_time": "2022-01-19T20:40:51.427Z"
   },
   {
    "duration": 12,
    "start_time": "2022-01-19T20:40:51.478Z"
   },
   {
    "duration": 10,
    "start_time": "2022-01-19T20:45:00.021Z"
   },
   {
    "duration": 9,
    "start_time": "2022-01-19T20:45:04.717Z"
   },
   {
    "duration": 538,
    "start_time": "2022-01-19T20:49:32.504Z"
   },
   {
    "duration": 4916,
    "start_time": "2022-01-19T20:50:17.696Z"
   },
   {
    "duration": 628,
    "start_time": "2022-01-19T20:50:41.627Z"
   },
   {
    "duration": 17,
    "start_time": "2022-01-19T20:50:53.302Z"
   },
   {
    "duration": 11,
    "start_time": "2022-01-19T20:50:54.813Z"
   },
   {
    "duration": 362,
    "start_time": "2022-01-20T12:56:40.574Z"
   },
   {
    "duration": 726,
    "start_time": "2022-01-20T12:56:49.801Z"
   },
   {
    "duration": 62,
    "start_time": "2022-01-20T12:56:50.530Z"
   },
   {
    "duration": 26,
    "start_time": "2022-01-20T12:56:50.595Z"
   },
   {
    "duration": 15,
    "start_time": "2022-01-20T12:56:50.624Z"
   },
   {
    "duration": 34,
    "start_time": "2022-01-20T12:56:50.641Z"
   },
   {
    "duration": 10,
    "start_time": "2022-01-20T12:56:50.678Z"
   },
   {
    "duration": 25,
    "start_time": "2022-01-20T12:56:50.690Z"
   },
   {
    "duration": 124,
    "start_time": "2022-01-20T12:56:50.719Z"
   },
   {
    "duration": 346,
    "start_time": "2022-01-20T12:56:50.845Z"
   },
   {
    "duration": 299,
    "start_time": "2022-01-20T12:56:51.193Z"
   },
   {
    "duration": 7,
    "start_time": "2022-01-20T12:56:51.495Z"
   },
   {
    "duration": 305,
    "start_time": "2022-01-20T12:56:51.504Z"
   },
   {
    "duration": 1328,
    "start_time": "2022-01-20T12:56:50.484Z"
   },
   {
    "duration": 1326,
    "start_time": "2022-01-20T12:56:50.487Z"
   },
   {
    "duration": 1315,
    "start_time": "2022-01-20T12:56:50.500Z"
   },
   {
    "duration": 1314,
    "start_time": "2022-01-20T12:56:50.503Z"
   },
   {
    "duration": 1313,
    "start_time": "2022-01-20T12:56:50.505Z"
   },
   {
    "duration": 1313,
    "start_time": "2022-01-20T12:56:50.507Z"
   },
   {
    "duration": 1311,
    "start_time": "2022-01-20T12:56:50.510Z"
   },
   {
    "duration": 1311,
    "start_time": "2022-01-20T12:56:50.512Z"
   },
   {
    "duration": 1310,
    "start_time": "2022-01-20T12:56:50.514Z"
   },
   {
    "duration": 1310,
    "start_time": "2022-01-20T12:56:50.516Z"
   },
   {
    "duration": 1309,
    "start_time": "2022-01-20T12:56:50.518Z"
   },
   {
    "duration": 1308,
    "start_time": "2022-01-20T12:56:50.520Z"
   },
   {
    "duration": 1307,
    "start_time": "2022-01-20T12:56:50.523Z"
   },
   {
    "duration": 1306,
    "start_time": "2022-01-20T12:56:50.525Z"
   },
   {
    "duration": 1304,
    "start_time": "2022-01-20T12:56:50.529Z"
   },
   {
    "duration": 1303,
    "start_time": "2022-01-20T12:56:50.531Z"
   },
   {
    "duration": 1297,
    "start_time": "2022-01-20T12:56:50.539Z"
   },
   {
    "duration": 1297,
    "start_time": "2022-01-20T12:56:50.541Z"
   },
   {
    "duration": 1295,
    "start_time": "2022-01-20T12:56:50.544Z"
   },
   {
    "duration": 1293,
    "start_time": "2022-01-20T12:56:50.547Z"
   },
   {
    "duration": 1293,
    "start_time": "2022-01-20T12:56:50.549Z"
   },
   {
    "duration": 1292,
    "start_time": "2022-01-20T12:56:50.551Z"
   },
   {
    "duration": 1292,
    "start_time": "2022-01-20T12:56:50.553Z"
   },
   {
    "duration": 1291,
    "start_time": "2022-01-20T12:56:50.555Z"
   },
   {
    "duration": 1291,
    "start_time": "2022-01-20T12:56:50.557Z"
   },
   {
    "duration": 1290,
    "start_time": "2022-01-20T12:56:50.559Z"
   },
   {
    "duration": 1288,
    "start_time": "2022-01-20T12:56:50.562Z"
   },
   {
    "duration": 1288,
    "start_time": "2022-01-20T12:56:50.564Z"
   },
   {
    "duration": 1302,
    "start_time": "2022-01-20T12:56:50.567Z"
   },
   {
    "duration": 1294,
    "start_time": "2022-01-20T12:56:50.577Z"
   },
   {
    "duration": 11,
    "start_time": "2022-01-20T12:57:00.965Z"
   },
   {
    "duration": 256,
    "start_time": "2022-01-20T12:57:08.657Z"
   },
   {
    "duration": 12,
    "start_time": "2022-01-20T12:57:12.203Z"
   },
   {
    "duration": 10,
    "start_time": "2022-01-20T12:57:13.744Z"
   },
   {
    "duration": 13,
    "start_time": "2022-01-20T12:57:13.994Z"
   },
   {
    "duration": 20,
    "start_time": "2022-01-20T19:31:18.621Z"
   },
   {
    "duration": 13,
    "start_time": "2022-01-20T19:34:04.571Z"
   },
   {
    "duration": 13,
    "start_time": "2022-01-20T19:34:08.596Z"
   },
   {
    "duration": 15,
    "start_time": "2022-01-20T19:34:18.705Z"
   },
   {
    "duration": 3,
    "start_time": "2022-01-20T19:34:24.528Z"
   },
   {
    "duration": 67,
    "start_time": "2022-01-20T19:34:24.534Z"
   },
   {
    "duration": 19,
    "start_time": "2022-01-20T19:34:24.603Z"
   },
   {
    "duration": 45,
    "start_time": "2022-01-20T19:34:24.625Z"
   },
   {
    "duration": 12,
    "start_time": "2022-01-20T19:34:24.673Z"
   },
   {
    "duration": 3,
    "start_time": "2022-01-20T19:34:24.688Z"
   },
   {
    "duration": 21,
    "start_time": "2022-01-20T19:34:24.694Z"
   },
   {
    "duration": 4,
    "start_time": "2022-01-20T19:34:24.719Z"
   },
   {
    "duration": 362,
    "start_time": "2022-01-20T19:34:24.726Z"
   },
   {
    "duration": 357,
    "start_time": "2022-01-20T19:34:25.090Z"
   },
   {
    "duration": 19,
    "start_time": "2022-01-20T19:34:25.450Z"
   },
   {
    "duration": 256,
    "start_time": "2022-01-20T19:34:25.472Z"
   },
   {
    "duration": -76,
    "start_time": "2022-01-20T19:34:25.807Z"
   },
   {
    "duration": -95,
    "start_time": "2022-01-20T19:34:25.828Z"
   },
   {
    "duration": -98,
    "start_time": "2022-01-20T19:34:25.832Z"
   },
   {
    "duration": -103,
    "start_time": "2022-01-20T19:34:25.838Z"
   },
   {
    "duration": -103,
    "start_time": "2022-01-20T19:34:25.840Z"
   },
   {
    "duration": -104,
    "start_time": "2022-01-20T19:34:25.842Z"
   },
   {
    "duration": -105,
    "start_time": "2022-01-20T19:34:25.844Z"
   },
   {
    "duration": -106,
    "start_time": "2022-01-20T19:34:25.847Z"
   },
   {
    "duration": -113,
    "start_time": "2022-01-20T19:34:25.855Z"
   },
   {
    "duration": -115,
    "start_time": "2022-01-20T19:34:25.858Z"
   },
   {
    "duration": -115,
    "start_time": "2022-01-20T19:34:25.860Z"
   },
   {
    "duration": -114,
    "start_time": "2022-01-20T19:34:25.861Z"
   },
   {
    "duration": -119,
    "start_time": "2022-01-20T19:34:25.867Z"
   },
   {
    "duration": -120,
    "start_time": "2022-01-20T19:34:25.870Z"
   },
   {
    "duration": -121,
    "start_time": "2022-01-20T19:34:25.872Z"
   },
   {
    "duration": -122,
    "start_time": "2022-01-20T19:34:25.874Z"
   },
   {
    "duration": -122,
    "start_time": "2022-01-20T19:34:25.876Z"
   },
   {
    "duration": -131,
    "start_time": "2022-01-20T19:34:25.887Z"
   },
   {
    "duration": -132,
    "start_time": "2022-01-20T19:34:25.889Z"
   },
   {
    "duration": -132,
    "start_time": "2022-01-20T19:34:25.891Z"
   },
   {
    "duration": -133,
    "start_time": "2022-01-20T19:34:25.893Z"
   },
   {
    "duration": -135,
    "start_time": "2022-01-20T19:34:25.896Z"
   },
   {
    "duration": -139,
    "start_time": "2022-01-20T19:34:25.902Z"
   },
   {
    "duration": -139,
    "start_time": "2022-01-20T19:34:25.903Z"
   },
   {
    "duration": -140,
    "start_time": "2022-01-20T19:34:25.906Z"
   },
   {
    "duration": -141,
    "start_time": "2022-01-20T19:34:25.908Z"
   },
   {
    "duration": -140,
    "start_time": "2022-01-20T19:34:25.909Z"
   },
   {
    "duration": -141,
    "start_time": "2022-01-20T19:34:25.911Z"
   },
   {
    "duration": -150,
    "start_time": "2022-01-20T19:34:25.922Z"
   },
   {
    "duration": -151,
    "start_time": "2022-01-20T19:34:25.924Z"
   },
   {
    "duration": 13,
    "start_time": "2022-01-20T19:36:36.306Z"
   },
   {
    "duration": 5,
    "start_time": "2022-01-20T21:17:47.110Z"
   },
   {
    "duration": 6,
    "start_time": "2022-01-20T21:17:53.902Z"
   },
   {
    "duration": 7,
    "start_time": "2022-01-20T21:18:00.399Z"
   },
   {
    "duration": 6,
    "start_time": "2022-01-20T21:18:01.585Z"
   },
   {
    "duration": 6,
    "start_time": "2022-01-20T21:18:18.520Z"
   },
   {
    "duration": 5,
    "start_time": "2022-01-20T21:18:18.936Z"
   },
   {
    "duration": 5,
    "start_time": "2022-01-20T21:18:28.842Z"
   },
   {
    "duration": 6,
    "start_time": "2022-01-20T21:18:33.764Z"
   },
   {
    "duration": 5,
    "start_time": "2022-01-20T21:18:34.323Z"
   },
   {
    "duration": 6,
    "start_time": "2022-01-20T21:18:42.257Z"
   },
   {
    "duration": 268,
    "start_time": "2022-01-20T21:18:43.903Z"
   },
   {
    "duration": 7,
    "start_time": "2022-01-20T21:19:05.033Z"
   },
   {
    "duration": 9,
    "start_time": "2022-01-20T21:29:01.126Z"
   },
   {
    "duration": 14,
    "start_time": "2022-01-20T21:29:43.065Z"
   },
   {
    "duration": 7,
    "start_time": "2022-01-20T21:56:40.250Z"
   },
   {
    "duration": 6,
    "start_time": "2022-01-20T21:56:44.031Z"
   },
   {
    "duration": 9,
    "start_time": "2022-01-20T21:56:46.485Z"
   },
   {
    "duration": 12,
    "start_time": "2022-01-20T21:57:24.995Z"
   },
   {
    "duration": 10,
    "start_time": "2022-01-20T21:57:41.331Z"
   },
   {
    "duration": 11,
    "start_time": "2022-01-20T23:12:19.999Z"
   },
   {
    "duration": 265,
    "start_time": "2022-01-21T00:00:10.195Z"
   },
   {
    "duration": 309,
    "start_time": "2022-01-21T00:00:17.655Z"
   },
   {
    "duration": 4,
    "start_time": "2022-01-21T00:01:01.898Z"
   },
   {
    "duration": 75,
    "start_time": "2022-01-21T00:01:01.904Z"
   },
   {
    "duration": 19,
    "start_time": "2022-01-21T00:01:01.982Z"
   },
   {
    "duration": 17,
    "start_time": "2022-01-21T00:01:02.004Z"
   },
   {
    "duration": 5,
    "start_time": "2022-01-21T00:01:02.024Z"
   },
   {
    "duration": 54,
    "start_time": "2022-01-21T00:01:02.031Z"
   },
   {
    "duration": 5,
    "start_time": "2022-01-21T00:01:02.088Z"
   },
   {
    "duration": 351,
    "start_time": "2022-01-21T00:01:02.097Z"
   },
   {
    "duration": 313,
    "start_time": "2022-01-21T00:01:02.451Z"
   },
   {
    "duration": 7,
    "start_time": "2022-01-21T00:01:02.769Z"
   },
   {
    "duration": 12,
    "start_time": "2022-01-21T00:01:02.778Z"
   },
   {
    "duration": 22,
    "start_time": "2022-01-21T00:01:02.792Z"
   },
   {
    "duration": 8,
    "start_time": "2022-01-21T00:01:02.816Z"
   },
   {
    "duration": 14,
    "start_time": "2022-01-21T00:01:02.827Z"
   },
   {
    "duration": 36,
    "start_time": "2022-01-21T00:01:02.843Z"
   },
   {
    "duration": 5,
    "start_time": "2022-01-21T00:01:02.881Z"
   },
   {
    "duration": 12,
    "start_time": "2022-01-21T00:01:02.888Z"
   },
   {
    "duration": 5,
    "start_time": "2022-01-21T00:01:02.902Z"
   },
   {
    "duration": 19,
    "start_time": "2022-01-21T00:01:02.909Z"
   },
   {
    "duration": 41,
    "start_time": "2022-01-21T00:01:02.930Z"
   },
   {
    "duration": 20,
    "start_time": "2022-01-21T00:01:02.974Z"
   },
   {
    "duration": 12,
    "start_time": "2022-01-21T00:01:02.996Z"
   },
   {
    "duration": 13,
    "start_time": "2022-01-21T00:01:03.014Z"
   },
   {
    "duration": 278,
    "start_time": "2022-01-21T00:01:03.030Z"
   },
   {
    "duration": -152,
    "start_time": "2022-01-21T00:01:03.462Z"
   },
   {
    "duration": -153,
    "start_time": "2022-01-21T00:01:03.465Z"
   },
   {
    "duration": -154,
    "start_time": "2022-01-21T00:01:03.467Z"
   },
   {
    "duration": -155,
    "start_time": "2022-01-21T00:01:03.469Z"
   },
   {
    "duration": -155,
    "start_time": "2022-01-21T00:01:03.471Z"
   },
   {
    "duration": -158,
    "start_time": "2022-01-21T00:01:03.475Z"
   },
   {
    "duration": -158,
    "start_time": "2022-01-21T00:01:03.477Z"
   },
   {
    "duration": -159,
    "start_time": "2022-01-21T00:01:03.479Z"
   },
   {
    "duration": -159,
    "start_time": "2022-01-21T00:01:03.481Z"
   },
   {
    "duration": -160,
    "start_time": "2022-01-21T00:01:03.483Z"
   },
   {
    "duration": -160,
    "start_time": "2022-01-21T00:01:03.485Z"
   },
   {
    "duration": -162,
    "start_time": "2022-01-21T00:01:03.488Z"
   },
   {
    "duration": -166,
    "start_time": "2022-01-21T00:01:03.494Z"
   },
   {
    "duration": -167,
    "start_time": "2022-01-21T00:01:03.496Z"
   },
   {
    "duration": -167,
    "start_time": "2022-01-21T00:01:03.498Z"
   },
   {
    "duration": -168,
    "start_time": "2022-01-21T00:01:03.500Z"
   },
   {
    "duration": 256,
    "start_time": "2022-01-21T00:02:56.164Z"
   },
   {
    "duration": 265,
    "start_time": "2022-01-21T00:03:01.047Z"
   },
   {
    "duration": 241,
    "start_time": "2022-01-21T00:03:04.587Z"
   },
   {
    "duration": 264,
    "start_time": "2022-01-21T00:03:32.218Z"
   },
   {
    "duration": 458,
    "start_time": "2022-01-21T00:03:45.130Z"
   },
   {
    "duration": 255,
    "start_time": "2022-01-21T00:04:01.640Z"
   },
   {
    "duration": 5,
    "start_time": "2022-01-21T00:04:04.953Z"
   },
   {
    "duration": 278,
    "start_time": "2022-01-21T00:04:05.514Z"
   },
   {
    "duration": 937,
    "start_time": "2022-01-21T00:04:13.242Z"
   },
   {
    "duration": 7,
    "start_time": "2022-01-21T00:04:16.474Z"
   },
   {
    "duration": 5,
    "start_time": "2022-01-21T00:05:52.305Z"
   },
   {
    "duration": 5,
    "start_time": "2022-01-21T00:06:00.577Z"
   },
   {
    "duration": 87,
    "start_time": "2022-01-21T00:06:02.258Z"
   },
   {
    "duration": 22,
    "start_time": "2022-01-21T00:06:03.966Z"
   },
   {
    "duration": 5,
    "start_time": "2022-01-21T00:06:19.359Z"
   },
   {
    "duration": 4128,
    "start_time": "2022-01-21T00:06:19.992Z"
   },
   {
    "duration": 19,
    "start_time": "2022-01-21T00:06:24.123Z"
   },
   {
    "duration": 341,
    "start_time": "2022-01-21T09:30:18.406Z"
   },
   {
    "duration": 645,
    "start_time": "2022-01-21T09:30:23.777Z"
   },
   {
    "duration": 47,
    "start_time": "2022-01-21T09:30:24.424Z"
   },
   {
    "duration": 18,
    "start_time": "2022-01-21T09:30:24.473Z"
   },
   {
    "duration": 12,
    "start_time": "2022-01-21T09:30:24.493Z"
   },
   {
    "duration": 3,
    "start_time": "2022-01-21T09:30:24.506Z"
   },
   {
    "duration": 10,
    "start_time": "2022-01-21T09:30:24.510Z"
   },
   {
    "duration": 86,
    "start_time": "2022-01-21T09:30:24.521Z"
   },
   {
    "duration": 189,
    "start_time": "2022-01-21T09:30:24.609Z"
   },
   {
    "duration": 188,
    "start_time": "2022-01-21T09:30:24.800Z"
   },
   {
    "duration": 4,
    "start_time": "2022-01-21T09:30:24.990Z"
   },
   {
    "duration": 16,
    "start_time": "2022-01-21T09:30:24.996Z"
   },
   {
    "duration": 26,
    "start_time": "2022-01-21T09:30:25.013Z"
   },
   {
    "duration": 19,
    "start_time": "2022-01-21T09:30:25.041Z"
   },
   {
    "duration": 23,
    "start_time": "2022-01-21T09:30:25.061Z"
   },
   {
    "duration": 16,
    "start_time": "2022-01-21T09:30:25.086Z"
   },
   {
    "duration": 18,
    "start_time": "2022-01-21T09:30:25.104Z"
   },
   {
    "duration": 19,
    "start_time": "2022-01-21T09:30:25.124Z"
   },
   {
    "duration": 18,
    "start_time": "2022-01-21T09:30:25.144Z"
   },
   {
    "duration": 34,
    "start_time": "2022-01-21T09:30:25.164Z"
   },
   {
    "duration": 22,
    "start_time": "2022-01-21T09:30:25.200Z"
   },
   {
    "duration": 23,
    "start_time": "2022-01-21T09:30:25.224Z"
   },
   {
    "duration": 24,
    "start_time": "2022-01-21T09:30:25.248Z"
   },
   {
    "duration": 16,
    "start_time": "2022-01-21T09:30:25.275Z"
   },
   {
    "duration": 27,
    "start_time": "2022-01-21T09:30:25.293Z"
   },
   {
    "duration": 622,
    "start_time": "2022-01-21T09:30:25.322Z"
   },
   {
    "duration": 5,
    "start_time": "2022-01-21T09:30:25.946Z"
   },
   {
    "duration": 24,
    "start_time": "2022-01-21T09:30:25.952Z"
   },
   {
    "duration": 2744,
    "start_time": "2022-01-21T09:30:25.977Z"
   },
   {
    "duration": 11,
    "start_time": "2022-01-21T09:30:28.723Z"
   },
   {
    "duration": 25,
    "start_time": "2022-01-21T09:30:28.736Z"
   },
   {
    "duration": 12,
    "start_time": "2022-01-21T09:30:28.763Z"
   },
   {
    "duration": 13,
    "start_time": "2022-01-21T09:30:28.777Z"
   },
   {
    "duration": 20,
    "start_time": "2022-01-21T09:30:28.791Z"
   },
   {
    "duration": 13,
    "start_time": "2022-01-21T09:30:28.812Z"
   },
   {
    "duration": 23,
    "start_time": "2022-01-21T09:30:28.826Z"
   },
   {
    "duration": 11,
    "start_time": "2022-01-21T09:30:28.851Z"
   },
   {
    "duration": 25,
    "start_time": "2022-01-21T09:30:28.863Z"
   },
   {
    "duration": 36,
    "start_time": "2022-01-21T09:30:28.890Z"
   },
   {
    "duration": 12,
    "start_time": "2022-01-21T09:30:28.928Z"
   },
   {
    "duration": 36,
    "start_time": "2022-01-21T09:30:28.942Z"
   },
   {
    "duration": 8,
    "start_time": "2022-01-21T09:30:28.980Z"
   },
   {
    "duration": 7,
    "start_time": "2022-01-21T09:39:17.731Z"
   },
   {
    "duration": 7,
    "start_time": "2022-01-21T09:50:41.576Z"
   },
   {
    "duration": 6,
    "start_time": "2022-01-21T09:57:10.567Z"
   },
   {
    "duration": 5,
    "start_time": "2022-01-21T09:57:38.181Z"
   },
   {
    "duration": 8,
    "start_time": "2022-01-21T09:57:39.578Z"
   },
   {
    "duration": 6,
    "start_time": "2022-01-21T09:57:40.503Z"
   },
   {
    "duration": 3,
    "start_time": "2022-01-21T10:23:17.216Z"
   },
   {
    "duration": 4,
    "start_time": "2022-01-21T10:23:20.256Z"
   },
   {
    "duration": 11,
    "start_time": "2022-01-21T10:23:20.877Z"
   },
   {
    "duration": 8,
    "start_time": "2022-01-21T10:23:27.359Z"
   },
   {
    "duration": 7,
    "start_time": "2022-01-21T10:23:29.893Z"
   },
   {
    "duration": 401,
    "start_time": "2022-01-21T13:36:03.119Z"
   },
   {
    "duration": 905,
    "start_time": "2022-01-21T13:36:15.141Z"
   },
   {
    "duration": 767,
    "start_time": "2022-01-21T13:36:19.089Z"
   },
   {
    "duration": 59,
    "start_time": "2022-01-21T13:36:19.859Z"
   },
   {
    "duration": 27,
    "start_time": "2022-01-21T13:36:19.921Z"
   },
   {
    "duration": 18,
    "start_time": "2022-01-21T13:36:19.951Z"
   },
   {
    "duration": 4,
    "start_time": "2022-01-21T13:36:19.971Z"
   },
   {
    "duration": 21,
    "start_time": "2022-01-21T13:36:19.977Z"
   },
   {
    "duration": 133,
    "start_time": "2022-01-21T13:36:20.001Z"
   },
   {
    "duration": 326,
    "start_time": "2022-01-21T13:36:20.138Z"
   },
   {
    "duration": 294,
    "start_time": "2022-01-21T13:36:20.467Z"
   },
   {
    "duration": 7,
    "start_time": "2022-01-21T13:36:20.764Z"
   },
   {
    "duration": 12,
    "start_time": "2022-01-21T13:36:20.774Z"
   },
   {
    "duration": 35,
    "start_time": "2022-01-21T13:36:20.789Z"
   },
   {
    "duration": 9,
    "start_time": "2022-01-21T13:36:20.826Z"
   },
   {
    "duration": 6,
    "start_time": "2022-01-21T13:36:20.837Z"
   },
   {
    "duration": 12,
    "start_time": "2022-01-21T13:36:20.845Z"
   },
   {
    "duration": 5,
    "start_time": "2022-01-21T13:36:20.859Z"
   },
   {
    "duration": 22,
    "start_time": "2022-01-21T13:36:20.866Z"
   },
   {
    "duration": 5,
    "start_time": "2022-01-21T13:36:20.924Z"
   },
   {
    "duration": 14,
    "start_time": "2022-01-21T13:36:20.932Z"
   },
   {
    "duration": 11,
    "start_time": "2022-01-21T13:36:20.949Z"
   },
   {
    "duration": 15,
    "start_time": "2022-01-21T13:36:20.963Z"
   },
   {
    "duration": 6,
    "start_time": "2022-01-21T13:36:20.981Z"
   },
   {
    "duration": 10,
    "start_time": "2022-01-21T13:36:21.026Z"
   },
   {
    "duration": 11,
    "start_time": "2022-01-21T13:36:21.038Z"
   },
   {
    "duration": 5,
    "start_time": "2022-01-21T13:36:21.051Z"
   },
   {
    "duration": 864,
    "start_time": "2022-01-21T13:36:21.059Z"
   },
   {
    "duration": 5,
    "start_time": "2022-01-21T13:36:21.926Z"
   },
   {
    "duration": 4074,
    "start_time": "2022-01-21T13:36:21.933Z"
   },
   {
    "duration": 26,
    "start_time": "2022-01-21T13:36:26.009Z"
   },
   {
    "duration": 16,
    "start_time": "2022-01-21T13:36:26.037Z"
   },
   {
    "duration": 16,
    "start_time": "2022-01-21T13:36:26.055Z"
   },
   {
    "duration": 5,
    "start_time": "2022-01-21T13:36:26.073Z"
   },
   {
    "duration": 45,
    "start_time": "2022-01-21T13:36:26.080Z"
   },
   {
    "duration": 9,
    "start_time": "2022-01-21T13:36:26.127Z"
   },
   {
    "duration": 8,
    "start_time": "2022-01-21T13:36:26.139Z"
   },
   {
    "duration": 7,
    "start_time": "2022-01-21T13:36:26.149Z"
   },
   {
    "duration": 21,
    "start_time": "2022-01-21T13:36:26.158Z"
   },
   {
    "duration": 47,
    "start_time": "2022-01-21T13:36:26.181Z"
   },
   {
    "duration": 8,
    "start_time": "2022-01-21T13:36:26.230Z"
   },
   {
    "duration": 11,
    "start_time": "2022-01-21T13:36:26.241Z"
   },
   {
    "duration": 11,
    "start_time": "2022-01-21T13:36:26.254Z"
   },
   {
    "duration": 11,
    "start_time": "2022-01-21T13:36:53.899Z"
   },
   {
    "duration": 16,
    "start_time": "2022-01-21T13:51:55.151Z"
   },
   {
    "duration": 7905,
    "start_time": "2022-01-21T13:52:18.272Z"
   },
   {
    "duration": 5,
    "start_time": "2022-01-21T13:52:58.402Z"
   },
   {
    "duration": 16,
    "start_time": "2022-01-21T13:53:04.948Z"
   },
   {
    "duration": 14,
    "start_time": "2022-01-21T13:53:24.079Z"
   },
   {
    "duration": 17,
    "start_time": "2022-01-21T13:53:32.468Z"
   },
   {
    "duration": 12,
    "start_time": "2022-01-21T13:53:33.797Z"
   },
   {
    "duration": 9,
    "start_time": "2022-01-21T13:53:36.173Z"
   },
   {
    "duration": 4,
    "start_time": "2022-01-21T13:53:42.145Z"
   },
   {
    "duration": 76,
    "start_time": "2022-01-21T13:53:42.152Z"
   },
   {
    "duration": 22,
    "start_time": "2022-01-21T13:53:42.232Z"
   },
   {
    "duration": 26,
    "start_time": "2022-01-21T13:53:42.257Z"
   },
   {
    "duration": 5,
    "start_time": "2022-01-21T13:53:42.286Z"
   },
   {
    "duration": 40,
    "start_time": "2022-01-21T13:53:42.294Z"
   },
   {
    "duration": 23,
    "start_time": "2022-01-21T13:53:42.337Z"
   },
   {
    "duration": 344,
    "start_time": "2022-01-21T13:53:42.362Z"
   },
   {
    "duration": 374,
    "start_time": "2022-01-21T13:53:42.710Z"
   },
   {
    "duration": 5,
    "start_time": "2022-01-21T13:53:43.087Z"
   },
   {
    "duration": 6,
    "start_time": "2022-01-21T13:53:43.095Z"
   },
   {
    "duration": 33,
    "start_time": "2022-01-21T13:53:43.103Z"
   },
   {
    "duration": 8,
    "start_time": "2022-01-21T13:53:43.138Z"
   },
   {
    "duration": 7,
    "start_time": "2022-01-21T13:53:43.148Z"
   },
   {
    "duration": 14,
    "start_time": "2022-01-21T13:53:43.158Z"
   },
   {
    "duration": 9,
    "start_time": "2022-01-21T13:53:43.175Z"
   },
   {
    "duration": 53,
    "start_time": "2022-01-21T13:53:43.187Z"
   },
   {
    "duration": 6,
    "start_time": "2022-01-21T13:53:43.243Z"
   },
   {
    "duration": 19,
    "start_time": "2022-01-21T13:53:43.252Z"
   },
   {
    "duration": 10,
    "start_time": "2022-01-21T13:53:43.273Z"
   },
   {
    "duration": 56,
    "start_time": "2022-01-21T13:53:43.286Z"
   },
   {
    "duration": 20,
    "start_time": "2022-01-21T13:53:43.345Z"
   },
   {
    "duration": 10,
    "start_time": "2022-01-21T13:53:43.369Z"
   },
   {
    "duration": 61,
    "start_time": "2022-01-21T13:53:43.382Z"
   },
   {
    "duration": 6,
    "start_time": "2022-01-21T13:53:43.445Z"
   },
   {
    "duration": 926,
    "start_time": "2022-01-21T13:53:43.453Z"
   },
   {
    "duration": 5,
    "start_time": "2022-01-21T13:53:44.385Z"
   },
   {
    "duration": 4481,
    "start_time": "2022-01-21T13:53:44.393Z"
   },
   {
    "duration": 18,
    "start_time": "2022-01-21T13:53:48.876Z"
   },
   {
    "duration": 39,
    "start_time": "2022-01-21T13:53:48.896Z"
   },
   {
    "duration": 9,
    "start_time": "2022-01-21T13:53:48.937Z"
   },
   {
    "duration": 9,
    "start_time": "2022-01-21T13:53:48.948Z"
   },
   {
    "duration": 13,
    "start_time": "2022-01-21T13:53:48.960Z"
   },
   {
    "duration": 9,
    "start_time": "2022-01-21T13:53:48.976Z"
   },
   {
    "duration": 4,
    "start_time": "2022-01-21T13:53:49.024Z"
   },
   {
    "duration": 8,
    "start_time": "2022-01-21T13:53:49.030Z"
   },
   {
    "duration": 25,
    "start_time": "2022-01-21T13:53:49.041Z"
   },
   {
    "duration": 12,
    "start_time": "2022-01-21T13:53:49.068Z"
   },
   {
    "duration": 44,
    "start_time": "2022-01-21T13:53:49.083Z"
   },
   {
    "duration": 11,
    "start_time": "2022-01-21T13:53:49.130Z"
   },
   {
    "duration": 9,
    "start_time": "2022-01-21T13:53:49.144Z"
   },
   {
    "duration": 8,
    "start_time": "2022-01-21T13:54:07.700Z"
   },
   {
    "duration": 9,
    "start_time": "2022-01-21T13:54:11.978Z"
   },
   {
    "duration": 4,
    "start_time": "2022-01-21T13:54:17.206Z"
   },
   {
    "duration": 71,
    "start_time": "2022-01-21T13:54:17.214Z"
   },
   {
    "duration": 43,
    "start_time": "2022-01-21T13:54:17.288Z"
   },
   {
    "duration": 17,
    "start_time": "2022-01-21T13:54:17.335Z"
   },
   {
    "duration": 5,
    "start_time": "2022-01-21T13:54:17.355Z"
   },
   {
    "duration": 14,
    "start_time": "2022-01-21T13:54:17.363Z"
   },
   {
    "duration": 3,
    "start_time": "2022-01-21T13:54:17.423Z"
   },
   {
    "duration": 318,
    "start_time": "2022-01-21T13:54:17.428Z"
   },
   {
    "duration": 295,
    "start_time": "2022-01-21T13:54:17.749Z"
   },
   {
    "duration": 6,
    "start_time": "2022-01-21T13:54:18.048Z"
   },
   {
    "duration": 5,
    "start_time": "2022-01-21T13:54:18.057Z"
   },
   {
    "duration": 14,
    "start_time": "2022-01-21T13:54:18.065Z"
   },
   {
    "duration": 43,
    "start_time": "2022-01-21T13:54:18.081Z"
   },
   {
    "duration": 6,
    "start_time": "2022-01-21T13:54:18.126Z"
   },
   {
    "duration": 7,
    "start_time": "2022-01-21T13:54:18.135Z"
   },
   {
    "duration": 5,
    "start_time": "2022-01-21T13:54:18.144Z"
   },
   {
    "duration": 20,
    "start_time": "2022-01-21T13:54:18.152Z"
   },
   {
    "duration": 6,
    "start_time": "2022-01-21T13:54:18.175Z"
   },
   {
    "duration": 55,
    "start_time": "2022-01-21T13:54:18.184Z"
   },
   {
    "duration": 13,
    "start_time": "2022-01-21T13:54:18.242Z"
   },
   {
    "duration": 21,
    "start_time": "2022-01-21T13:54:18.258Z"
   },
   {
    "duration": 45,
    "start_time": "2022-01-21T13:54:18.283Z"
   },
   {
    "duration": 11,
    "start_time": "2022-01-21T13:54:18.330Z"
   },
   {
    "duration": 40,
    "start_time": "2022-01-21T13:54:18.344Z"
   },
   {
    "duration": 6,
    "start_time": "2022-01-21T13:54:18.386Z"
   },
   {
    "duration": 871,
    "start_time": "2022-01-21T13:54:18.394Z"
   },
   {
    "duration": 6,
    "start_time": "2022-01-21T13:54:19.268Z"
   },
   {
    "duration": 4282,
    "start_time": "2022-01-21T13:54:19.280Z"
   },
   {
    "duration": 26,
    "start_time": "2022-01-21T13:54:23.566Z"
   },
   {
    "duration": 40,
    "start_time": "2022-01-21T13:54:23.596Z"
   },
   {
    "duration": 11,
    "start_time": "2022-01-21T13:54:23.639Z"
   },
   {
    "duration": 19,
    "start_time": "2022-01-21T13:54:23.653Z"
   },
   {
    "duration": 16,
    "start_time": "2022-01-21T13:54:23.676Z"
   },
   {
    "duration": 37,
    "start_time": "2022-01-21T13:54:23.695Z"
   },
   {
    "duration": 9,
    "start_time": "2022-01-21T13:54:23.735Z"
   },
   {
    "duration": 7,
    "start_time": "2022-01-21T13:54:23.747Z"
   },
   {
    "duration": 19,
    "start_time": "2022-01-21T13:54:23.757Z"
   },
   {
    "duration": 9,
    "start_time": "2022-01-21T13:54:23.779Z"
   },
   {
    "duration": 38,
    "start_time": "2022-01-21T13:54:23.791Z"
   },
   {
    "duration": 13,
    "start_time": "2022-01-21T13:54:23.831Z"
   },
   {
    "duration": 9,
    "start_time": "2022-01-21T13:54:23.846Z"
   },
   {
    "duration": 744,
    "start_time": "2022-01-21T13:54:31.888Z"
   },
   {
    "duration": 60,
    "start_time": "2022-01-21T13:54:32.634Z"
   },
   {
    "duration": 39,
    "start_time": "2022-01-21T13:54:32.701Z"
   },
   {
    "duration": 26,
    "start_time": "2022-01-21T13:54:32.743Z"
   },
   {
    "duration": 12,
    "start_time": "2022-01-21T13:54:32.772Z"
   },
   {
    "duration": 28,
    "start_time": "2022-01-21T13:54:32.786Z"
   },
   {
    "duration": 132,
    "start_time": "2022-01-21T13:54:32.816Z"
   },
   {
    "duration": 310,
    "start_time": "2022-01-21T13:54:32.953Z"
   },
   {
    "duration": 298,
    "start_time": "2022-01-21T13:54:33.267Z"
   },
   {
    "duration": 7,
    "start_time": "2022-01-21T13:54:33.568Z"
   },
   {
    "duration": 8,
    "start_time": "2022-01-21T13:54:33.578Z"
   },
   {
    "duration": 45,
    "start_time": "2022-01-21T13:54:33.588Z"
   },
   {
    "duration": 11,
    "start_time": "2022-01-21T13:54:33.636Z"
   },
   {
    "duration": 10,
    "start_time": "2022-01-21T13:54:33.650Z"
   },
   {
    "duration": 16,
    "start_time": "2022-01-21T13:54:33.662Z"
   },
   {
    "duration": 42,
    "start_time": "2022-01-21T13:54:33.681Z"
   },
   {
    "duration": 11,
    "start_time": "2022-01-21T13:54:33.725Z"
   },
   {
    "duration": 6,
    "start_time": "2022-01-21T13:54:33.739Z"
   },
   {
    "duration": 13,
    "start_time": "2022-01-21T13:54:33.748Z"
   },
   {
    "duration": 10,
    "start_time": "2022-01-21T13:54:33.763Z"
   },
   {
    "duration": 59,
    "start_time": "2022-01-21T13:54:33.775Z"
   },
   {
    "duration": 15,
    "start_time": "2022-01-21T13:54:33.836Z"
   },
   {
    "duration": 11,
    "start_time": "2022-01-21T13:54:33.854Z"
   },
   {
    "duration": 15,
    "start_time": "2022-01-21T13:54:33.868Z"
   },
   {
    "duration": 8,
    "start_time": "2022-01-21T13:54:33.885Z"
   },
   {
    "duration": 1287,
    "start_time": "2022-01-21T13:54:33.927Z"
   },
   {
    "duration": 5,
    "start_time": "2022-01-21T13:54:35.218Z"
   },
   {
    "duration": 4463,
    "start_time": "2022-01-21T13:54:35.226Z"
   },
   {
    "duration": 17,
    "start_time": "2022-01-21T13:54:39.692Z"
   },
   {
    "duration": 21,
    "start_time": "2022-01-21T13:54:39.724Z"
   },
   {
    "duration": 14,
    "start_time": "2022-01-21T13:54:39.748Z"
   },
   {
    "duration": 7,
    "start_time": "2022-01-21T13:54:39.764Z"
   },
   {
    "duration": 12,
    "start_time": "2022-01-21T13:54:39.773Z"
   },
   {
    "duration": 44,
    "start_time": "2022-01-21T13:54:39.788Z"
   },
   {
    "duration": 7,
    "start_time": "2022-01-21T13:54:39.835Z"
   },
   {
    "duration": 6,
    "start_time": "2022-01-21T13:54:39.845Z"
   },
   {
    "duration": 16,
    "start_time": "2022-01-21T13:54:39.853Z"
   },
   {
    "duration": 13,
    "start_time": "2022-01-21T13:54:39.872Z"
   },
   {
    "duration": 42,
    "start_time": "2022-01-21T13:54:39.887Z"
   },
   {
    "duration": 13,
    "start_time": "2022-01-21T13:54:39.931Z"
   },
   {
    "duration": 9,
    "start_time": "2022-01-21T13:54:39.947Z"
   },
   {
    "duration": 680,
    "start_time": "2022-01-26T08:47:46.726Z"
   },
   {
    "duration": 52,
    "start_time": "2022-01-26T08:47:47.408Z"
   },
   {
    "duration": 19,
    "start_time": "2022-01-26T08:47:47.462Z"
   },
   {
    "duration": 28,
    "start_time": "2022-01-26T08:47:47.483Z"
   },
   {
    "duration": 9,
    "start_time": "2022-01-26T08:47:47.513Z"
   },
   {
    "duration": 20,
    "start_time": "2022-01-26T08:47:47.524Z"
   },
   {
    "duration": 93,
    "start_time": "2022-01-26T08:47:47.546Z"
   },
   {
    "duration": 206,
    "start_time": "2022-01-26T08:47:47.641Z"
   },
   {
    "duration": 202,
    "start_time": "2022-01-26T08:47:47.850Z"
   },
   {
    "duration": 8,
    "start_time": "2022-01-26T08:47:48.055Z"
   },
   {
    "duration": 17,
    "start_time": "2022-01-26T08:47:48.065Z"
   },
   {
    "duration": 46,
    "start_time": "2022-01-26T08:47:48.084Z"
   },
   {
    "duration": 19,
    "start_time": "2022-01-26T08:47:48.132Z"
   },
   {
    "duration": 14,
    "start_time": "2022-01-26T08:47:48.152Z"
   },
   {
    "duration": 24,
    "start_time": "2022-01-26T08:47:48.168Z"
   },
   {
    "duration": 14,
    "start_time": "2022-01-26T08:47:48.194Z"
   },
   {
    "duration": 27,
    "start_time": "2022-01-26T08:47:48.209Z"
   },
   {
    "duration": 22,
    "start_time": "2022-01-26T08:47:48.238Z"
   },
   {
    "duration": 27,
    "start_time": "2022-01-26T08:47:48.261Z"
   },
   {
    "duration": 12,
    "start_time": "2022-01-26T08:47:48.290Z"
   },
   {
    "duration": 23,
    "start_time": "2022-01-26T08:47:48.304Z"
   },
   {
    "duration": 15,
    "start_time": "2022-01-26T08:47:48.329Z"
   },
   {
    "duration": 15,
    "start_time": "2022-01-26T08:47:48.346Z"
   },
   {
    "duration": 12,
    "start_time": "2022-01-26T08:47:48.363Z"
   },
   {
    "duration": 13,
    "start_time": "2022-01-26T08:47:48.376Z"
   },
   {
    "duration": 671,
    "start_time": "2022-01-26T08:47:48.391Z"
   },
   {
    "duration": 4,
    "start_time": "2022-01-26T08:47:49.066Z"
   },
   {
    "duration": 3205,
    "start_time": "2022-01-26T08:47:49.073Z"
   },
   {
    "duration": 11,
    "start_time": "2022-01-26T08:47:52.280Z"
   },
   {
    "duration": 14,
    "start_time": "2022-01-26T08:47:52.293Z"
   },
   {
    "duration": 10,
    "start_time": "2022-01-26T08:47:52.309Z"
   },
   {
    "duration": 4,
    "start_time": "2022-01-26T08:47:52.321Z"
   },
   {
    "duration": 13,
    "start_time": "2022-01-26T08:47:52.326Z"
   },
   {
    "duration": 25,
    "start_time": "2022-01-26T08:47:52.341Z"
   },
   {
    "duration": 20,
    "start_time": "2022-01-26T08:47:52.368Z"
   },
   {
    "duration": 14,
    "start_time": "2022-01-26T08:47:52.390Z"
   },
   {
    "duration": 14,
    "start_time": "2022-01-26T08:47:52.406Z"
   },
   {
    "duration": 21,
    "start_time": "2022-01-26T08:47:52.422Z"
   },
   {
    "duration": 11,
    "start_time": "2022-01-26T08:47:52.444Z"
   },
   {
    "duration": 19,
    "start_time": "2022-01-26T08:47:52.456Z"
   },
   {
    "duration": 9,
    "start_time": "2022-01-26T08:47:52.477Z"
   },
   {
    "duration": 8,
    "start_time": "2022-01-26T09:08:55.090Z"
   },
   {
    "duration": 8,
    "start_time": "2022-01-26T09:09:16.946Z"
   },
   {
    "duration": 339,
    "start_time": "2022-01-26T09:15:13.758Z"
   },
   {
    "duration": 6,
    "start_time": "2022-01-26T09:15:27.121Z"
   },
   {
    "duration": 6,
    "start_time": "2022-01-26T09:15:41.867Z"
   },
   {
    "duration": 741,
    "start_time": "2022-01-27T19:01:34.040Z"
   },
   {
    "duration": 70,
    "start_time": "2022-01-27T19:01:34.784Z"
   },
   {
    "duration": 31,
    "start_time": "2022-01-27T19:01:34.858Z"
   },
   {
    "duration": 16,
    "start_time": "2022-01-27T19:01:34.891Z"
   },
   {
    "duration": 10,
    "start_time": "2022-01-27T19:01:34.932Z"
   },
   {
    "duration": 126,
    "start_time": "2022-01-27T19:01:34.945Z"
   },
   {
    "duration": 333,
    "start_time": "2022-01-27T19:01:35.073Z"
   },
   {
    "duration": 312,
    "start_time": "2022-01-27T19:01:35.409Z"
   },
   {
    "duration": 9,
    "start_time": "2022-01-27T19:01:35.725Z"
   },
   {
    "duration": 7,
    "start_time": "2022-01-27T19:01:35.737Z"
   },
   {
    "duration": 19,
    "start_time": "2022-01-27T19:01:35.746Z"
   },
   {
    "duration": 9,
    "start_time": "2022-01-27T19:01:35.767Z"
   },
   {
    "duration": 54,
    "start_time": "2022-01-27T19:01:35.778Z"
   },
   {
    "duration": 8,
    "start_time": "2022-01-27T19:01:35.835Z"
   },
   {
    "duration": 5,
    "start_time": "2022-01-27T19:01:35.846Z"
   },
   {
    "duration": 13,
    "start_time": "2022-01-27T19:01:35.854Z"
   },
   {
    "duration": 5,
    "start_time": "2022-01-27T19:01:35.870Z"
   },
   {
    "duration": 62,
    "start_time": "2022-01-27T19:01:35.878Z"
   },
   {
    "duration": 10,
    "start_time": "2022-01-27T19:01:35.943Z"
   },
   {
    "duration": 19,
    "start_time": "2022-01-27T19:01:35.956Z"
   },
   {
    "duration": 12,
    "start_time": "2022-01-27T19:01:35.978Z"
   },
   {
    "duration": 10,
    "start_time": "2022-01-27T19:01:36.032Z"
   },
   {
    "duration": 10,
    "start_time": "2022-01-27T19:01:36.044Z"
   },
   {
    "duration": 10,
    "start_time": "2022-01-27T19:01:36.056Z"
   },
   {
    "duration": 1350,
    "start_time": "2022-01-27T19:01:36.069Z"
   },
   {
    "duration": 14,
    "start_time": "2022-01-27T19:01:37.422Z"
   },
   {
    "duration": 4266,
    "start_time": "2022-01-27T19:01:37.441Z"
   },
   {
    "duration": 31,
    "start_time": "2022-01-27T19:01:41.710Z"
   },
   {
    "duration": 17,
    "start_time": "2022-01-27T19:01:41.744Z"
   },
   {
    "duration": 9,
    "start_time": "2022-01-27T19:01:41.763Z"
   },
   {
    "duration": 9,
    "start_time": "2022-01-27T19:01:41.775Z"
   },
   {
    "duration": 50,
    "start_time": "2022-01-27T19:01:41.787Z"
   },
   {
    "duration": 9,
    "start_time": "2022-01-27T19:01:41.840Z"
   },
   {
    "duration": 5,
    "start_time": "2022-01-27T19:01:41.851Z"
   },
   {
    "duration": 377,
    "start_time": "2022-01-27T19:01:41.858Z"
   },
   {
    "duration": 1394,
    "start_time": "2022-01-27T19:01:40.844Z"
   },
   {
    "duration": 1390,
    "start_time": "2022-01-27T19:01:40.849Z"
   },
   {
    "duration": 1389,
    "start_time": "2022-01-27T19:01:40.852Z"
   },
   {
    "duration": 1377,
    "start_time": "2022-01-27T19:01:40.865Z"
   },
   {
    "duration": 1374,
    "start_time": "2022-01-27T19:01:40.870Z"
   },
   {
    "duration": 1372,
    "start_time": "2022-01-27T19:01:40.874Z"
   },
   {
    "duration": 19,
    "start_time": "2022-01-27T19:03:05.016Z"
   },
   {
    "duration": 9,
    "start_time": "2022-01-27T19:03:26.612Z"
   },
   {
    "duration": 15,
    "start_time": "2022-01-27T19:03:44.535Z"
   },
   {
    "duration": 89,
    "start_time": "2022-01-27T19:14:03.382Z"
   },
   {
    "duration": 121,
    "start_time": "2022-01-27T19:46:42.838Z"
   },
   {
    "duration": 4,
    "start_time": "2022-01-27T20:03:07.670Z"
   },
   {
    "duration": 83,
    "start_time": "2022-01-27T20:03:07.677Z"
   },
   {
    "duration": 31,
    "start_time": "2022-01-27T20:03:07.764Z"
   },
   {
    "duration": 51,
    "start_time": "2022-01-27T20:03:07.799Z"
   },
   {
    "duration": 12,
    "start_time": "2022-01-27T20:03:07.853Z"
   },
   {
    "duration": 368,
    "start_time": "2022-01-27T20:03:07.868Z"
   },
   {
    "duration": 376,
    "start_time": "2022-01-27T20:03:08.239Z"
   },
   {
    "duration": 14,
    "start_time": "2022-01-27T20:03:08.619Z"
   },
   {
    "duration": 6,
    "start_time": "2022-01-27T20:03:08.636Z"
   },
   {
    "duration": 17,
    "start_time": "2022-01-27T20:03:08.644Z"
   },
   {
    "duration": 8,
    "start_time": "2022-01-27T20:03:08.664Z"
   },
   {
    "duration": 6,
    "start_time": "2022-01-27T20:03:08.675Z"
   },
   {
    "duration": 55,
    "start_time": "2022-01-27T20:03:08.683Z"
   },
   {
    "duration": 6,
    "start_time": "2022-01-27T20:03:08.740Z"
   },
   {
    "duration": 15,
    "start_time": "2022-01-27T20:03:08.749Z"
   },
   {
    "duration": 5,
    "start_time": "2022-01-27T20:03:08.767Z"
   },
   {
    "duration": 59,
    "start_time": "2022-01-27T20:03:08.775Z"
   },
   {
    "duration": 10,
    "start_time": "2022-01-27T20:03:08.836Z"
   },
   {
    "duration": 19,
    "start_time": "2022-01-27T20:03:08.848Z"
   },
   {
    "duration": 11,
    "start_time": "2022-01-27T20:03:08.869Z"
   },
   {
    "duration": 65,
    "start_time": "2022-01-27T20:03:08.883Z"
   },
   {
    "duration": 9,
    "start_time": "2022-01-27T20:03:08.951Z"
   },
   {
    "duration": 30,
    "start_time": "2022-01-27T20:03:08.967Z"
   },
   {
    "duration": 33,
    "start_time": "2022-01-27T20:03:09.000Z"
   },
   {
    "duration": 1121,
    "start_time": "2022-01-27T20:03:09.036Z"
   },
   {
    "duration": 8,
    "start_time": "2022-01-27T20:03:10.161Z"
   },
   {
    "duration": 4659,
    "start_time": "2022-01-27T20:03:10.173Z"
   },
   {
    "duration": 22,
    "start_time": "2022-01-27T20:03:14.835Z"
   },
   {
    "duration": 16,
    "start_time": "2022-01-27T20:03:14.859Z"
   },
   {
    "duration": 10,
    "start_time": "2022-01-27T20:03:14.877Z"
   },
   {
    "duration": 47,
    "start_time": "2022-01-27T20:03:14.889Z"
   },
   {
    "duration": 14,
    "start_time": "2022-01-27T20:03:14.939Z"
   },
   {
    "duration": 11,
    "start_time": "2022-01-27T20:03:14.956Z"
   },
   {
    "duration": 4,
    "start_time": "2022-01-27T20:03:14.970Z"
   },
   {
    "duration": 303,
    "start_time": "2022-01-27T20:03:14.977Z"
   },
   {
    "duration": -62,
    "start_time": "2022-01-27T20:03:15.345Z"
   },
   {
    "duration": -67,
    "start_time": "2022-01-27T20:03:15.352Z"
   },
   {
    "duration": -70,
    "start_time": "2022-01-27T20:03:15.356Z"
   },
   {
    "duration": -70,
    "start_time": "2022-01-27T20:03:15.358Z"
   },
   {
    "duration": -80,
    "start_time": "2022-01-27T20:03:15.369Z"
   },
   {
    "duration": -84,
    "start_time": "2022-01-27T20:03:15.374Z"
   },
   {
    "duration": 27,
    "start_time": "2022-01-27T20:03:27.702Z"
   },
   {
    "duration": 47,
    "start_time": "2022-01-27T20:04:03.055Z"
   },
   {
    "duration": 34,
    "start_time": "2022-01-27T20:04:43.692Z"
   },
   {
    "duration": 9,
    "start_time": "2022-01-27T20:04:52.254Z"
   },
   {
    "duration": 48,
    "start_time": "2022-01-27T20:05:11.868Z"
   },
   {
    "duration": 47,
    "start_time": "2022-01-27T20:08:18.060Z"
   },
   {
    "duration": 25,
    "start_time": "2022-01-27T21:29:57.498Z"
   },
   {
    "duration": 29,
    "start_time": "2022-01-27T21:30:44.526Z"
   },
   {
    "duration": 27,
    "start_time": "2022-01-27T21:31:35.905Z"
   },
   {
    "duration": 25,
    "start_time": "2022-01-27T21:33:02.124Z"
   },
   {
    "duration": 4,
    "start_time": "2022-01-27T21:38:24.197Z"
   },
   {
    "duration": 69,
    "start_time": "2022-01-27T21:38:24.204Z"
   },
   {
    "duration": 24,
    "start_time": "2022-01-27T21:38:24.276Z"
   },
   {
    "duration": 42,
    "start_time": "2022-01-27T21:38:24.303Z"
   },
   {
    "duration": 9,
    "start_time": "2022-01-27T21:38:24.348Z"
   },
   {
    "duration": 387,
    "start_time": "2022-01-27T21:38:24.361Z"
   },
   {
    "duration": 341,
    "start_time": "2022-01-27T21:38:24.751Z"
   },
   {
    "duration": 9,
    "start_time": "2022-01-27T21:38:25.098Z"
   },
   {
    "duration": 23,
    "start_time": "2022-01-27T21:38:25.110Z"
   },
   {
    "duration": 22,
    "start_time": "2022-01-27T21:38:25.135Z"
   },
   {
    "duration": 9,
    "start_time": "2022-01-27T21:38:25.160Z"
   },
   {
    "duration": 8,
    "start_time": "2022-01-27T21:38:25.171Z"
   },
   {
    "duration": 8,
    "start_time": "2022-01-27T21:38:25.181Z"
   },
   {
    "duration": 6,
    "start_time": "2022-01-27T21:38:25.234Z"
   },
   {
    "duration": 21,
    "start_time": "2022-01-27T21:38:25.242Z"
   },
   {
    "duration": 6,
    "start_time": "2022-01-27T21:38:25.266Z"
   },
   {
    "duration": 16,
    "start_time": "2022-01-27T21:38:25.274Z"
   },
   {
    "duration": 43,
    "start_time": "2022-01-27T21:38:25.293Z"
   },
   {
    "duration": 22,
    "start_time": "2022-01-27T21:38:25.339Z"
   },
   {
    "duration": 19,
    "start_time": "2022-01-27T21:38:25.363Z"
   },
   {
    "duration": 53,
    "start_time": "2022-01-27T21:38:25.384Z"
   },
   {
    "duration": 27,
    "start_time": "2022-01-27T21:38:25.440Z"
   },
   {
    "duration": 10,
    "start_time": "2022-01-27T21:38:25.472Z"
   },
   {
    "duration": 66,
    "start_time": "2022-01-27T21:38:25.486Z"
   },
   {
    "duration": 6,
    "start_time": "2022-01-27T21:38:25.555Z"
   },
   {
    "duration": 1002,
    "start_time": "2022-01-27T21:38:25.563Z"
   },
   {
    "duration": 6,
    "start_time": "2022-01-27T21:38:26.569Z"
   },
   {
    "duration": 4715,
    "start_time": "2022-01-27T21:38:26.578Z"
   },
   {
    "duration": 19,
    "start_time": "2022-01-27T21:38:31.296Z"
   },
   {
    "duration": 22,
    "start_time": "2022-01-27T21:38:31.334Z"
   },
   {
    "duration": 14,
    "start_time": "2022-01-27T21:38:31.359Z"
   },
   {
    "duration": 12,
    "start_time": "2022-01-27T21:38:31.376Z"
   },
   {
    "duration": 43,
    "start_time": "2022-01-27T21:38:31.391Z"
   },
   {
    "duration": 14,
    "start_time": "2022-01-27T21:38:31.437Z"
   },
   {
    "duration": 11,
    "start_time": "2022-01-27T21:38:31.454Z"
   },
   {
    "duration": 253,
    "start_time": "2022-01-27T21:38:31.467Z"
   },
   {
    "duration": -267,
    "start_time": "2022-01-27T21:38:31.989Z"
   },
   {
    "duration": -282,
    "start_time": "2022-01-27T21:38:32.006Z"
   },
   {
    "duration": -289,
    "start_time": "2022-01-27T21:38:32.014Z"
   },
   {
    "duration": -295,
    "start_time": "2022-01-27T21:38:32.022Z"
   },
   {
    "duration": -307,
    "start_time": "2022-01-27T21:38:32.036Z"
   },
   {
    "duration": -313,
    "start_time": "2022-01-27T21:38:32.043Z"
   },
   {
    "duration": 92,
    "start_time": "2022-01-27T22:19:01.306Z"
   },
   {
    "duration": 11,
    "start_time": "2022-01-27T22:19:05.328Z"
   },
   {
    "duration": 11,
    "start_time": "2022-01-27T22:19:13.847Z"
   },
   {
    "duration": 35,
    "start_time": "2022-01-27T23:05:57.847Z"
   },
   {
    "duration": 38,
    "start_time": "2022-01-27T23:07:07.558Z"
   },
   {
    "duration": 35,
    "start_time": "2022-01-27T23:07:17.479Z"
   },
   {
    "duration": 36,
    "start_time": "2022-01-27T23:07:37.900Z"
   },
   {
    "duration": 36,
    "start_time": "2022-01-27T23:07:50.572Z"
   },
   {
    "duration": 246,
    "start_time": "2022-01-27T23:54:32.758Z"
   },
   {
    "duration": 4,
    "start_time": "2022-01-27T23:54:45.060Z"
   },
   {
    "duration": 68,
    "start_time": "2022-01-27T23:54:45.067Z"
   },
   {
    "duration": 21,
    "start_time": "2022-01-27T23:54:45.140Z"
   },
   {
    "duration": 17,
    "start_time": "2022-01-27T23:54:45.163Z"
   },
   {
    "duration": 9,
    "start_time": "2022-01-27T23:54:45.182Z"
   },
   {
    "duration": 373,
    "start_time": "2022-01-27T23:54:45.194Z"
   },
   {
    "duration": 301,
    "start_time": "2022-01-27T23:54:45.570Z"
   },
   {
    "duration": 6,
    "start_time": "2022-01-27T23:54:45.875Z"
   },
   {
    "duration": 5,
    "start_time": "2022-01-27T23:54:45.884Z"
   },
   {
    "duration": 42,
    "start_time": "2022-01-27T23:54:45.891Z"
   },
   {
    "duration": 11,
    "start_time": "2022-01-27T23:54:45.935Z"
   },
   {
    "duration": 13,
    "start_time": "2022-01-27T23:54:45.949Z"
   },
   {
    "duration": 8,
    "start_time": "2022-01-27T23:54:45.965Z"
   },
   {
    "duration": 13,
    "start_time": "2022-01-27T23:54:45.976Z"
   },
   {
    "duration": 12,
    "start_time": "2022-01-27T23:54:45.991Z"
   },
   {
    "duration": 7,
    "start_time": "2022-01-27T23:54:46.033Z"
   },
   {
    "duration": 19,
    "start_time": "2022-01-27T23:54:46.043Z"
   },
   {
    "duration": 9,
    "start_time": "2022-01-27T23:54:46.064Z"
   },
   {
    "duration": 28,
    "start_time": "2022-01-27T23:54:46.075Z"
   },
   {
    "duration": 36,
    "start_time": "2022-01-27T23:54:46.105Z"
   },
   {
    "duration": 34,
    "start_time": "2022-01-27T23:54:46.143Z"
   },
   {
    "duration": 21,
    "start_time": "2022-01-27T23:54:46.179Z"
   },
   {
    "duration": 30,
    "start_time": "2022-01-27T23:54:46.204Z"
   },
   {
    "duration": 35,
    "start_time": "2022-01-27T23:54:46.237Z"
   },
   {
    "duration": 5,
    "start_time": "2022-01-27T23:54:46.275Z"
   },
   {
    "duration": 1003,
    "start_time": "2022-01-27T23:54:46.282Z"
   },
   {
    "duration": 6,
    "start_time": "2022-01-27T23:54:47.287Z"
   },
   {
    "duration": 4167,
    "start_time": "2022-01-27T23:54:47.296Z"
   },
   {
    "duration": 21,
    "start_time": "2022-01-27T23:54:51.465Z"
   },
   {
    "duration": 28,
    "start_time": "2022-01-27T23:54:51.489Z"
   },
   {
    "duration": 12,
    "start_time": "2022-01-27T23:54:51.532Z"
   },
   {
    "duration": 8,
    "start_time": "2022-01-27T23:54:51.547Z"
   },
   {
    "duration": 21,
    "start_time": "2022-01-27T23:54:51.558Z"
   },
   {
    "duration": 13,
    "start_time": "2022-01-27T23:54:51.582Z"
   },
   {
    "duration": 18,
    "start_time": "2022-01-27T23:54:51.598Z"
   },
   {
    "duration": 260,
    "start_time": "2022-01-27T23:54:51.633Z"
   },
   {
    "duration": -284,
    "start_time": "2022-01-27T23:54:52.180Z"
   },
   {
    "duration": -287,
    "start_time": "2022-01-27T23:54:52.184Z"
   },
   {
    "duration": -290,
    "start_time": "2022-01-27T23:54:52.189Z"
   },
   {
    "duration": -297,
    "start_time": "2022-01-27T23:54:52.199Z"
   },
   {
    "duration": -297,
    "start_time": "2022-01-27T23:54:52.201Z"
   },
   {
    "duration": -299,
    "start_time": "2022-01-27T23:54:52.204Z"
   },
   {
    "duration": 4,
    "start_time": "2022-01-27T23:55:25.644Z"
   },
   {
    "duration": 252,
    "start_time": "2022-01-27T23:55:30.710Z"
   },
   {
    "duration": 3,
    "start_time": "2022-01-27T23:55:35.646Z"
   },
   {
    "duration": 85,
    "start_time": "2022-01-27T23:55:35.652Z"
   },
   {
    "duration": 28,
    "start_time": "2022-01-27T23:55:35.742Z"
   },
   {
    "duration": 23,
    "start_time": "2022-01-27T23:55:35.773Z"
   },
   {
    "duration": 9,
    "start_time": "2022-01-27T23:55:35.798Z"
   },
   {
    "duration": 366,
    "start_time": "2022-01-27T23:55:35.809Z"
   },
   {
    "duration": 312,
    "start_time": "2022-01-27T23:55:36.177Z"
   },
   {
    "duration": 6,
    "start_time": "2022-01-27T23:55:36.493Z"
   },
   {
    "duration": 7,
    "start_time": "2022-01-27T23:55:36.502Z"
   },
   {
    "duration": 24,
    "start_time": "2022-01-27T23:55:36.533Z"
   },
   {
    "duration": 12,
    "start_time": "2022-01-27T23:55:36.560Z"
   },
   {
    "duration": 9,
    "start_time": "2022-01-27T23:55:36.575Z"
   },
   {
    "duration": 9,
    "start_time": "2022-01-27T23:55:36.587Z"
   },
   {
    "duration": 6,
    "start_time": "2022-01-27T23:55:36.634Z"
   },
   {
    "duration": 16,
    "start_time": "2022-01-27T23:55:36.645Z"
   },
   {
    "duration": 7,
    "start_time": "2022-01-27T23:55:36.664Z"
   },
   {
    "duration": 16,
    "start_time": "2022-01-27T23:55:36.674Z"
   },
   {
    "duration": 48,
    "start_time": "2022-01-27T23:55:36.693Z"
   },
   {
    "duration": 21,
    "start_time": "2022-01-27T23:55:36.744Z"
   },
   {
    "duration": 13,
    "start_time": "2022-01-27T23:55:36.768Z"
   },
   {
    "duration": 63,
    "start_time": "2022-01-27T23:55:36.784Z"
   },
   {
    "duration": 22,
    "start_time": "2022-01-27T23:55:36.850Z"
   },
   {
    "duration": 9,
    "start_time": "2022-01-27T23:55:36.877Z"
   },
   {
    "duration": 65,
    "start_time": "2022-01-27T23:55:36.889Z"
   },
   {
    "duration": 5,
    "start_time": "2022-01-27T23:55:36.956Z"
   },
   {
    "duration": 978,
    "start_time": "2022-01-27T23:55:36.964Z"
   },
   {
    "duration": 8,
    "start_time": "2022-01-27T23:55:37.945Z"
   },
   {
    "duration": 4361,
    "start_time": "2022-01-27T23:55:37.956Z"
   },
   {
    "duration": 33,
    "start_time": "2022-01-27T23:55:42.321Z"
   },
   {
    "duration": 18,
    "start_time": "2022-01-27T23:55:42.357Z"
   },
   {
    "duration": 11,
    "start_time": "2022-01-27T23:55:42.378Z"
   },
   {
    "duration": 11,
    "start_time": "2022-01-27T23:55:42.391Z"
   },
   {
    "duration": 13,
    "start_time": "2022-01-27T23:55:42.435Z"
   },
   {
    "duration": 10,
    "start_time": "2022-01-27T23:55:42.451Z"
   },
   {
    "duration": 4,
    "start_time": "2022-01-27T23:55:42.464Z"
   },
   {
    "duration": 4,
    "start_time": "2022-01-27T23:55:42.471Z"
   },
   {
    "duration": 6,
    "start_time": "2022-01-27T23:55:42.478Z"
   },
   {
    "duration": 65,
    "start_time": "2022-01-27T23:55:42.486Z"
   },
   {
    "duration": 11,
    "start_time": "2022-01-27T23:55:42.553Z"
   },
   {
    "duration": 9,
    "start_time": "2022-01-27T23:55:42.566Z"
   },
   {
    "duration": 10,
    "start_time": "2022-01-27T23:55:42.578Z"
   },
   {
    "duration": 43,
    "start_time": "2022-01-27T23:55:42.591Z"
   },
   {
    "duration": 7,
    "start_time": "2022-01-27T23:56:23.176Z"
   },
   {
    "duration": 1476,
    "start_time": "2022-01-28T07:53:25.267Z"
   },
   {
    "duration": 51,
    "start_time": "2022-01-28T07:53:26.745Z"
   },
   {
    "duration": 16,
    "start_time": "2022-01-28T07:53:26.798Z"
   },
   {
    "duration": 10,
    "start_time": "2022-01-28T07:53:26.816Z"
   },
   {
    "duration": 7,
    "start_time": "2022-01-28T07:53:26.828Z"
   },
   {
    "duration": 255,
    "start_time": "2022-01-28T07:53:26.837Z"
   },
   {
    "duration": 203,
    "start_time": "2022-01-28T07:53:27.094Z"
   },
   {
    "duration": 5,
    "start_time": "2022-01-28T07:53:27.299Z"
   },
   {
    "duration": 6,
    "start_time": "2022-01-28T07:53:27.306Z"
   },
   {
    "duration": 11,
    "start_time": "2022-01-28T07:53:27.313Z"
   },
   {
    "duration": 6,
    "start_time": "2022-01-28T07:53:27.326Z"
   },
   {
    "duration": 13,
    "start_time": "2022-01-28T07:53:27.333Z"
   },
   {
    "duration": 5,
    "start_time": "2022-01-28T07:53:27.348Z"
   },
   {
    "duration": 5,
    "start_time": "2022-01-28T07:53:27.354Z"
   },
   {
    "duration": 37,
    "start_time": "2022-01-28T07:53:27.360Z"
   },
   {
    "duration": 4,
    "start_time": "2022-01-28T07:53:27.399Z"
   },
   {
    "duration": 13,
    "start_time": "2022-01-28T07:53:27.405Z"
   },
   {
    "duration": 7,
    "start_time": "2022-01-28T07:53:27.420Z"
   },
   {
    "duration": 17,
    "start_time": "2022-01-28T07:53:27.429Z"
   },
   {
    "duration": 11,
    "start_time": "2022-01-28T07:53:27.448Z"
   },
   {
    "duration": 38,
    "start_time": "2022-01-28T07:53:27.461Z"
   },
   {
    "duration": 15,
    "start_time": "2022-01-28T07:53:27.501Z"
   },
   {
    "duration": 7,
    "start_time": "2022-01-28T07:53:27.519Z"
   },
   {
    "duration": 9,
    "start_time": "2022-01-28T07:53:27.528Z"
   },
   {
    "duration": 6,
    "start_time": "2022-01-28T07:53:27.539Z"
   },
   {
    "duration": 674,
    "start_time": "2022-01-28T07:53:27.546Z"
   },
   {
    "duration": 5,
    "start_time": "2022-01-28T07:53:28.222Z"
   },
   {
    "duration": 2823,
    "start_time": "2022-01-28T07:53:28.228Z"
   },
   {
    "duration": 11,
    "start_time": "2022-01-28T07:53:31.053Z"
   },
   {
    "duration": 32,
    "start_time": "2022-01-28T07:53:31.066Z"
   },
   {
    "duration": 16,
    "start_time": "2022-01-28T07:53:31.100Z"
   },
   {
    "duration": 25,
    "start_time": "2022-01-28T07:53:31.118Z"
   },
   {
    "duration": 27,
    "start_time": "2022-01-28T07:53:31.145Z"
   },
   {
    "duration": 23,
    "start_time": "2022-01-28T07:53:31.174Z"
   },
   {
    "duration": 15,
    "start_time": "2022-01-28T07:53:31.199Z"
   },
   {
    "duration": 248,
    "start_time": "2022-01-28T07:53:31.215Z"
   },
   {
    "duration": -67,
    "start_time": "2022-01-28T07:53:31.532Z"
   },
   {
    "duration": -69,
    "start_time": "2022-01-28T07:53:31.535Z"
   },
   {
    "duration": -71,
    "start_time": "2022-01-28T07:53:31.538Z"
   },
   {
    "duration": -74,
    "start_time": "2022-01-28T07:53:31.542Z"
   },
   {
    "duration": -74,
    "start_time": "2022-01-28T07:53:31.543Z"
   },
   {
    "duration": -75,
    "start_time": "2022-01-28T07:53:31.545Z"
   },
   {
    "duration": 2,
    "start_time": "2022-01-28T07:53:53.133Z"
   },
   {
    "duration": 55,
    "start_time": "2022-01-28T07:53:53.141Z"
   },
   {
    "duration": 16,
    "start_time": "2022-01-28T07:53:53.198Z"
   },
   {
    "duration": 14,
    "start_time": "2022-01-28T07:53:53.216Z"
   },
   {
    "duration": 10,
    "start_time": "2022-01-28T07:53:53.232Z"
   },
   {
    "duration": 268,
    "start_time": "2022-01-28T07:53:53.243Z"
   },
   {
    "duration": 287,
    "start_time": "2022-01-28T07:53:53.512Z"
   },
   {
    "duration": 5,
    "start_time": "2022-01-28T07:53:53.800Z"
   },
   {
    "duration": 8,
    "start_time": "2022-01-28T07:53:53.808Z"
   },
   {
    "duration": 11,
    "start_time": "2022-01-28T07:53:53.818Z"
   },
   {
    "duration": 7,
    "start_time": "2022-01-28T07:53:53.831Z"
   },
   {
    "duration": 6,
    "start_time": "2022-01-28T07:53:53.840Z"
   },
   {
    "duration": 8,
    "start_time": "2022-01-28T07:53:53.848Z"
   },
   {
    "duration": 5,
    "start_time": "2022-01-28T07:53:53.858Z"
   },
   {
    "duration": 17,
    "start_time": "2022-01-28T07:53:53.897Z"
   },
   {
    "duration": 4,
    "start_time": "2022-01-28T07:53:53.916Z"
   },
   {
    "duration": 19,
    "start_time": "2022-01-28T07:53:53.923Z"
   },
   {
    "duration": 9,
    "start_time": "2022-01-28T07:53:53.944Z"
   },
   {
    "duration": 19,
    "start_time": "2022-01-28T07:53:53.955Z"
   },
   {
    "duration": 27,
    "start_time": "2022-01-28T07:53:53.977Z"
   },
   {
    "duration": 28,
    "start_time": "2022-01-28T07:53:54.006Z"
   },
   {
    "duration": 21,
    "start_time": "2022-01-28T07:53:54.036Z"
   },
   {
    "duration": 8,
    "start_time": "2022-01-28T07:53:54.059Z"
   },
   {
    "duration": 49,
    "start_time": "2022-01-28T07:53:54.070Z"
   },
   {
    "duration": 5,
    "start_time": "2022-01-28T07:53:54.122Z"
   },
   {
    "duration": 695,
    "start_time": "2022-01-28T07:53:54.129Z"
   },
   {
    "duration": 4,
    "start_time": "2022-01-28T07:53:54.826Z"
   },
   {
    "duration": 2986,
    "start_time": "2022-01-28T07:53:54.832Z"
   },
   {
    "duration": 11,
    "start_time": "2022-01-28T07:53:57.819Z"
   },
   {
    "duration": 14,
    "start_time": "2022-01-28T07:53:57.831Z"
   },
   {
    "duration": 16,
    "start_time": "2022-01-28T07:53:57.847Z"
   },
   {
    "duration": 8,
    "start_time": "2022-01-28T07:53:57.865Z"
   },
   {
    "duration": 5,
    "start_time": "2022-01-28T07:53:57.897Z"
   },
   {
    "duration": 12,
    "start_time": "2022-01-28T07:53:57.903Z"
   },
   {
    "duration": 8,
    "start_time": "2022-01-28T07:53:57.916Z"
   },
   {
    "duration": 6,
    "start_time": "2022-01-28T07:53:57.925Z"
   },
   {
    "duration": 8,
    "start_time": "2022-01-28T07:53:57.932Z"
   },
   {
    "duration": 175,
    "start_time": "2022-01-28T07:53:57.941Z"
   },
   {
    "duration": 35,
    "start_time": "2022-01-28T07:53:58.083Z"
   },
   {
    "duration": 30,
    "start_time": "2022-01-28T07:53:58.089Z"
   },
   {
    "duration": 19,
    "start_time": "2022-01-28T07:53:58.101Z"
   },
   {
    "duration": 17,
    "start_time": "2022-01-28T07:53:58.104Z"
   },
   {
    "duration": 3,
    "start_time": "2022-01-28T07:54:48.473Z"
   },
   {
    "duration": 58,
    "start_time": "2022-01-28T07:54:48.477Z"
   },
   {
    "duration": 12,
    "start_time": "2022-01-28T07:54:48.537Z"
   },
   {
    "duration": 13,
    "start_time": "2022-01-28T07:54:48.551Z"
   },
   {
    "duration": 6,
    "start_time": "2022-01-28T07:54:48.566Z"
   },
   {
    "duration": 246,
    "start_time": "2022-01-28T07:54:48.574Z"
   },
   {
    "duration": 210,
    "start_time": "2022-01-28T07:54:48.821Z"
   },
   {
    "duration": 4,
    "start_time": "2022-01-28T07:54:49.035Z"
   },
   {
    "duration": 5,
    "start_time": "2022-01-28T07:54:49.041Z"
   },
   {
    "duration": 11,
    "start_time": "2022-01-28T07:54:49.048Z"
   },
   {
    "duration": 5,
    "start_time": "2022-01-28T07:54:49.061Z"
   },
   {
    "duration": 32,
    "start_time": "2022-01-28T07:54:49.068Z"
   },
   {
    "duration": 9,
    "start_time": "2022-01-28T07:54:49.102Z"
   },
   {
    "duration": 5,
    "start_time": "2022-01-28T07:54:49.113Z"
   },
   {
    "duration": 8,
    "start_time": "2022-01-28T07:54:49.120Z"
   },
   {
    "duration": 5,
    "start_time": "2022-01-28T07:54:49.130Z"
   },
   {
    "duration": 12,
    "start_time": "2022-01-28T07:54:49.137Z"
   },
   {
    "duration": 8,
    "start_time": "2022-01-28T07:54:49.151Z"
   },
   {
    "duration": 12,
    "start_time": "2022-01-28T07:54:49.198Z"
   },
   {
    "duration": 10,
    "start_time": "2022-01-28T07:54:49.212Z"
   },
   {
    "duration": 18,
    "start_time": "2022-01-28T07:54:49.223Z"
   },
   {
    "duration": 15,
    "start_time": "2022-01-28T07:54:49.243Z"
   },
   {
    "duration": 7,
    "start_time": "2022-01-28T07:54:49.261Z"
   },
   {
    "duration": 25,
    "start_time": "2022-01-28T07:54:49.298Z"
   },
   {
    "duration": 4,
    "start_time": "2022-01-28T07:54:49.325Z"
   },
   {
    "duration": 688,
    "start_time": "2022-01-28T07:54:49.330Z"
   },
   {
    "duration": 4,
    "start_time": "2022-01-28T07:54:50.020Z"
   },
   {
    "duration": 2787,
    "start_time": "2022-01-28T07:54:50.026Z"
   },
   {
    "duration": 10,
    "start_time": "2022-01-28T07:54:52.815Z"
   },
   {
    "duration": 14,
    "start_time": "2022-01-28T07:54:52.826Z"
   },
   {
    "duration": 21,
    "start_time": "2022-01-28T07:54:52.842Z"
   },
   {
    "duration": 8,
    "start_time": "2022-01-28T07:54:52.865Z"
   },
   {
    "duration": 23,
    "start_time": "2022-01-28T07:54:52.874Z"
   },
   {
    "duration": 18,
    "start_time": "2022-01-28T07:54:52.899Z"
   },
   {
    "duration": 22,
    "start_time": "2022-01-28T07:54:52.918Z"
   },
   {
    "duration": 11,
    "start_time": "2022-01-28T07:54:52.942Z"
   },
   {
    "duration": 11,
    "start_time": "2022-01-28T07:54:52.954Z"
   },
   {
    "duration": 201,
    "start_time": "2022-01-28T07:54:52.967Z"
   },
   {
    "duration": 22,
    "start_time": "2022-01-28T07:54:53.148Z"
   },
   {
    "duration": 21,
    "start_time": "2022-01-28T07:54:53.150Z"
   },
   {
    "duration": 18,
    "start_time": "2022-01-28T07:54:53.154Z"
   },
   {
    "duration": 179,
    "start_time": "2022-01-28T07:59:22.706Z"
   },
   {
    "duration": 251,
    "start_time": "2022-01-28T08:00:06.350Z"
   },
   {
    "duration": 358,
    "start_time": "2022-01-28T08:00:11.314Z"
   },
   {
    "duration": 181,
    "start_time": "2022-01-28T08:01:47.189Z"
   },
   {
    "duration": 3,
    "start_time": "2022-01-28T08:01:51.708Z"
   },
   {
    "duration": 58,
    "start_time": "2022-01-28T08:01:51.713Z"
   },
   {
    "duration": 12,
    "start_time": "2022-01-28T08:01:51.774Z"
   },
   {
    "duration": 18,
    "start_time": "2022-01-28T08:01:51.788Z"
   },
   {
    "duration": 7,
    "start_time": "2022-01-28T08:01:51.808Z"
   },
   {
    "duration": 240,
    "start_time": "2022-01-28T08:01:51.816Z"
   },
   {
    "duration": 197,
    "start_time": "2022-01-28T08:01:52.058Z"
   },
   {
    "duration": 5,
    "start_time": "2022-01-28T08:01:52.257Z"
   },
   {
    "duration": 5,
    "start_time": "2022-01-28T08:01:52.263Z"
   },
   {
    "duration": 27,
    "start_time": "2022-01-28T08:01:52.270Z"
   },
   {
    "duration": 6,
    "start_time": "2022-01-28T08:01:52.299Z"
   },
   {
    "duration": 4,
    "start_time": "2022-01-28T08:01:52.306Z"
   },
   {
    "duration": 7,
    "start_time": "2022-01-28T08:01:52.311Z"
   },
   {
    "duration": 4,
    "start_time": "2022-01-28T08:01:52.319Z"
   },
   {
    "duration": 10,
    "start_time": "2022-01-28T08:01:52.324Z"
   },
   {
    "duration": 4,
    "start_time": "2022-01-28T08:01:52.336Z"
   },
   {
    "duration": 12,
    "start_time": "2022-01-28T08:01:52.341Z"
   },
   {
    "duration": 43,
    "start_time": "2022-01-28T08:01:52.355Z"
   },
   {
    "duration": 13,
    "start_time": "2022-01-28T08:01:52.400Z"
   },
   {
    "duration": 10,
    "start_time": "2022-01-28T08:01:52.414Z"
   },
   {
    "duration": 18,
    "start_time": "2022-01-28T08:01:52.426Z"
   },
   {
    "duration": 16,
    "start_time": "2022-01-28T08:01:52.446Z"
   },
   {
    "duration": 7,
    "start_time": "2022-01-28T08:01:52.497Z"
   },
   {
    "duration": 28,
    "start_time": "2022-01-28T08:01:52.506Z"
   },
   {
    "duration": 5,
    "start_time": "2022-01-28T08:01:52.536Z"
   },
   {
    "duration": 696,
    "start_time": "2022-01-28T08:01:52.543Z"
   },
   {
    "duration": 4,
    "start_time": "2022-01-28T08:01:53.242Z"
   },
   {
    "duration": 2770,
    "start_time": "2022-01-28T08:01:53.248Z"
   },
   {
    "duration": 11,
    "start_time": "2022-01-28T08:01:56.020Z"
   },
   {
    "duration": 15,
    "start_time": "2022-01-28T08:01:56.033Z"
   },
   {
    "duration": 16,
    "start_time": "2022-01-28T08:01:56.051Z"
   },
   {
    "duration": 34,
    "start_time": "2022-01-28T08:01:56.069Z"
   },
   {
    "duration": 10,
    "start_time": "2022-01-28T08:01:56.106Z"
   },
   {
    "duration": 15,
    "start_time": "2022-01-28T08:01:56.118Z"
   },
   {
    "duration": 7,
    "start_time": "2022-01-28T08:01:56.135Z"
   },
   {
    "duration": 4,
    "start_time": "2022-01-28T08:01:56.144Z"
   },
   {
    "duration": 191,
    "start_time": "2022-01-28T08:01:56.150Z"
   },
   {
    "duration": 31,
    "start_time": "2022-01-28T08:01:56.312Z"
   },
   {
    "duration": 29,
    "start_time": "2022-01-28T08:01:56.315Z"
   },
   {
    "duration": 20,
    "start_time": "2022-01-28T08:01:56.325Z"
   },
   {
    "duration": 8,
    "start_time": "2022-01-28T08:02:34.312Z"
   },
   {
    "duration": 9,
    "start_time": "2022-01-28T08:02:41.109Z"
   },
   {
    "duration": 8,
    "start_time": "2022-01-28T08:03:28.419Z"
   },
   {
    "duration": 11,
    "start_time": "2022-01-28T08:03:37.048Z"
   },
   {
    "duration": 9,
    "start_time": "2022-01-28T08:06:30.469Z"
   },
   {
    "duration": 8,
    "start_time": "2022-01-28T08:06:38.699Z"
   },
   {
    "duration": 10,
    "start_time": "2022-01-28T08:06:39.183Z"
   },
   {
    "duration": 9,
    "start_time": "2022-01-28T08:07:36.119Z"
   },
   {
    "duration": 8,
    "start_time": "2022-01-28T08:07:41.668Z"
   },
   {
    "duration": 10,
    "start_time": "2022-01-28T08:07:41.927Z"
   },
   {
    "duration": 12,
    "start_time": "2022-01-28T08:09:26.955Z"
   },
   {
    "duration": 16,
    "start_time": "2022-01-28T08:09:29.022Z"
   },
   {
    "duration": 10,
    "start_time": "2022-01-28T08:09:44.156Z"
   },
   {
    "duration": 9,
    "start_time": "2022-01-28T08:09:44.534Z"
   },
   {
    "duration": 9,
    "start_time": "2022-01-28T08:15:48.473Z"
   },
   {
    "duration": 9,
    "start_time": "2022-01-28T08:15:54.343Z"
   },
   {
    "duration": 10,
    "start_time": "2022-01-28T08:15:54.854Z"
   },
   {
    "duration": 10,
    "start_time": "2022-01-28T08:16:12.419Z"
   },
   {
    "duration": 9,
    "start_time": "2022-01-28T08:16:20.677Z"
   },
   {
    "duration": 10,
    "start_time": "2022-01-28T08:16:20.940Z"
   },
   {
    "duration": 10,
    "start_time": "2022-01-28T08:23:00.518Z"
   },
   {
    "duration": 10,
    "start_time": "2022-01-28T08:23:01.266Z"
   },
   {
    "duration": 8,
    "start_time": "2022-01-28T08:23:16.433Z"
   },
   {
    "duration": 180,
    "start_time": "2022-01-28T08:23:35.277Z"
   },
   {
    "duration": 9,
    "start_time": "2022-01-28T08:23:44.045Z"
   },
   {
    "duration": 8,
    "start_time": "2022-01-28T08:23:44.788Z"
   },
   {
    "duration": 9,
    "start_time": "2022-01-28T08:26:27.011Z"
   },
   {
    "duration": 8,
    "start_time": "2022-01-28T08:26:27.406Z"
   },
   {
    "duration": 665,
    "start_time": "2022-01-28T08:39:48.364Z"
   },
   {
    "duration": 53,
    "start_time": "2022-01-28T08:39:49.031Z"
   },
   {
    "duration": 18,
    "start_time": "2022-01-28T08:39:49.087Z"
   },
   {
    "duration": 15,
    "start_time": "2022-01-28T08:39:49.107Z"
   },
   {
    "duration": 11,
    "start_time": "2022-01-28T08:39:49.125Z"
   },
   {
    "duration": 264,
    "start_time": "2022-01-28T08:39:49.138Z"
   },
   {
    "duration": 217,
    "start_time": "2022-01-28T08:39:49.405Z"
   },
   {
    "duration": 5,
    "start_time": "2022-01-28T08:39:49.625Z"
   },
   {
    "duration": 10,
    "start_time": "2022-01-28T08:39:49.632Z"
   },
   {
    "duration": 14,
    "start_time": "2022-01-28T08:39:49.644Z"
   },
   {
    "duration": 6,
    "start_time": "2022-01-28T08:39:49.661Z"
   },
   {
    "duration": 19,
    "start_time": "2022-01-28T08:39:49.669Z"
   },
   {
    "duration": 6,
    "start_time": "2022-01-28T08:39:49.698Z"
   },
   {
    "duration": 9,
    "start_time": "2022-01-28T08:39:49.705Z"
   },
   {
    "duration": 15,
    "start_time": "2022-01-28T08:39:49.716Z"
   },
   {
    "duration": 11,
    "start_time": "2022-01-28T08:39:49.733Z"
   },
   {
    "duration": 14,
    "start_time": "2022-01-28T08:39:49.746Z"
   },
   {
    "duration": 10,
    "start_time": "2022-01-28T08:39:49.762Z"
   },
   {
    "duration": 12,
    "start_time": "2022-01-28T08:39:49.798Z"
   },
   {
    "duration": 17,
    "start_time": "2022-01-28T08:39:49.812Z"
   },
   {
    "duration": 25,
    "start_time": "2022-01-28T08:39:49.831Z"
   },
   {
    "duration": 16,
    "start_time": "2022-01-28T08:39:49.859Z"
   },
   {
    "duration": 23,
    "start_time": "2022-01-28T08:39:49.879Z"
   },
   {
    "duration": 8,
    "start_time": "2022-01-28T08:39:49.904Z"
   },
   {
    "duration": 6,
    "start_time": "2022-01-28T08:39:49.914Z"
   },
   {
    "duration": 707,
    "start_time": "2022-01-28T08:39:49.922Z"
   },
   {
    "duration": 4,
    "start_time": "2022-01-28T08:39:50.632Z"
   },
   {
    "duration": 3014,
    "start_time": "2022-01-28T08:39:50.638Z"
   },
   {
    "duration": 11,
    "start_time": "2022-01-28T08:39:53.654Z"
   },
   {
    "duration": 32,
    "start_time": "2022-01-28T08:39:53.667Z"
   },
   {
    "duration": 13,
    "start_time": "2022-01-28T08:39:53.701Z"
   },
   {
    "duration": 9,
    "start_time": "2022-01-28T08:39:53.716Z"
   },
   {
    "duration": 7,
    "start_time": "2022-01-28T08:39:53.727Z"
   },
   {
    "duration": 16,
    "start_time": "2022-01-28T08:39:53.736Z"
   },
   {
    "duration": 45,
    "start_time": "2022-01-28T08:39:53.754Z"
   },
   {
    "duration": 6,
    "start_time": "2022-01-28T08:39:53.802Z"
   },
   {
    "duration": 17,
    "start_time": "2022-01-28T08:39:53.809Z"
   },
   {
    "duration": 11,
    "start_time": "2022-01-28T08:39:53.828Z"
   },
   {
    "duration": 12,
    "start_time": "2022-01-28T08:39:53.842Z"
   },
   {
    "duration": 12,
    "start_time": "2022-01-28T08:39:53.856Z"
   },
   {
    "duration": 768,
    "start_time": "2022-01-28T08:45:45.391Z"
   },
   {
    "duration": 729,
    "start_time": "2022-01-28T08:45:52.476Z"
   },
   {
    "duration": 726,
    "start_time": "2022-01-28T08:47:04.200Z"
   },
   {
    "duration": 3,
    "start_time": "2022-01-28T08:47:19.231Z"
   },
   {
    "duration": 9,
    "start_time": "2022-01-28T08:47:21.842Z"
   },
   {
    "duration": 5,
    "start_time": "2022-01-28T08:50:15.647Z"
   },
   {
    "duration": 9,
    "start_time": "2022-01-28T08:50:17.090Z"
   },
   {
    "duration": 9,
    "start_time": "2022-01-28T08:50:25.229Z"
   },
   {
    "duration": 16,
    "start_time": "2022-01-28T08:53:53.475Z"
   },
   {
    "duration": 13,
    "start_time": "2022-01-28T08:54:44.816Z"
   },
   {
    "duration": 3,
    "start_time": "2022-01-28T08:55:35.287Z"
   },
   {
    "duration": 61,
    "start_time": "2022-01-28T08:55:35.292Z"
   },
   {
    "duration": 12,
    "start_time": "2022-01-28T08:55:35.355Z"
   },
   {
    "duration": 17,
    "start_time": "2022-01-28T08:55:35.369Z"
   },
   {
    "duration": 13,
    "start_time": "2022-01-28T08:55:35.387Z"
   },
   {
    "duration": 227,
    "start_time": "2022-01-28T08:55:35.402Z"
   },
   {
    "duration": 257,
    "start_time": "2022-01-28T08:55:35.631Z"
   },
   {
    "duration": 10,
    "start_time": "2022-01-28T08:55:35.889Z"
   },
   {
    "duration": 7,
    "start_time": "2022-01-28T08:55:35.902Z"
   },
   {
    "duration": 11,
    "start_time": "2022-01-28T08:55:35.911Z"
   },
   {
    "duration": 7,
    "start_time": "2022-01-28T08:55:35.924Z"
   },
   {
    "duration": 8,
    "start_time": "2022-01-28T08:55:35.932Z"
   },
   {
    "duration": 9,
    "start_time": "2022-01-28T08:55:35.941Z"
   },
   {
    "duration": 5,
    "start_time": "2022-01-28T08:55:35.952Z"
   },
   {
    "duration": 9,
    "start_time": "2022-01-28T08:55:35.959Z"
   },
   {
    "duration": 28,
    "start_time": "2022-01-28T08:55:35.970Z"
   },
   {
    "duration": 15,
    "start_time": "2022-01-28T08:55:36.000Z"
   },
   {
    "duration": 17,
    "start_time": "2022-01-28T08:55:36.016Z"
   },
   {
    "duration": 18,
    "start_time": "2022-01-28T08:55:36.035Z"
   },
   {
    "duration": 15,
    "start_time": "2022-01-28T08:55:36.055Z"
   },
   {
    "duration": 29,
    "start_time": "2022-01-28T08:55:36.071Z"
   },
   {
    "duration": 18,
    "start_time": "2022-01-28T08:55:36.102Z"
   },
   {
    "duration": 7,
    "start_time": "2022-01-28T08:55:36.122Z"
   },
   {
    "duration": 29,
    "start_time": "2022-01-28T08:55:36.131Z"
   },
   {
    "duration": 4,
    "start_time": "2022-01-28T08:55:36.162Z"
   },
   {
    "duration": 697,
    "start_time": "2022-01-28T08:55:36.168Z"
   },
   {
    "duration": 4,
    "start_time": "2022-01-28T08:55:36.869Z"
   },
   {
    "duration": 2725,
    "start_time": "2022-01-28T08:55:36.875Z"
   },
   {
    "duration": 10,
    "start_time": "2022-01-28T08:55:39.601Z"
   },
   {
    "duration": 20,
    "start_time": "2022-01-28T08:55:39.613Z"
   },
   {
    "duration": 31,
    "start_time": "2022-01-28T08:55:39.635Z"
   },
   {
    "duration": 10,
    "start_time": "2022-01-28T08:55:39.668Z"
   },
   {
    "duration": 15,
    "start_time": "2022-01-28T08:55:39.679Z"
   },
   {
    "duration": 30,
    "start_time": "2022-01-28T08:55:39.695Z"
   },
   {
    "duration": 16,
    "start_time": "2022-01-28T08:55:39.727Z"
   },
   {
    "duration": 14,
    "start_time": "2022-01-28T08:55:39.745Z"
   },
   {
    "duration": 24,
    "start_time": "2022-01-28T08:55:39.761Z"
   },
   {
    "duration": 16,
    "start_time": "2022-01-28T08:55:39.787Z"
   },
   {
    "duration": 18,
    "start_time": "2022-01-28T08:55:39.805Z"
   },
   {
    "duration": 27,
    "start_time": "2022-01-28T08:55:39.825Z"
   },
   {
    "duration": 433,
    "start_time": "2022-02-18T08:42:44.245Z"
   },
   {
    "duration": 612,
    "start_time": "2022-02-18T08:42:48.301Z"
   },
   {
    "duration": 46,
    "start_time": "2022-02-18T08:42:48.915Z"
   },
   {
    "duration": 16,
    "start_time": "2022-02-18T08:42:48.963Z"
   },
   {
    "duration": 9,
    "start_time": "2022-02-18T08:42:48.981Z"
   },
   {
    "duration": 6,
    "start_time": "2022-02-18T08:42:48.992Z"
   },
   {
    "duration": 197,
    "start_time": "2022-02-18T08:42:48.999Z"
   },
   {
    "duration": 163,
    "start_time": "2022-02-18T08:42:49.197Z"
   },
   {
    "duration": 4,
    "start_time": "2022-02-18T08:42:49.363Z"
   },
   {
    "duration": 6,
    "start_time": "2022-02-18T08:42:49.369Z"
   },
   {
    "duration": 10,
    "start_time": "2022-02-18T08:42:49.376Z"
   },
   {
    "duration": 5,
    "start_time": "2022-02-18T08:42:49.388Z"
   },
   {
    "duration": 5,
    "start_time": "2022-02-18T08:42:49.394Z"
   },
   {
    "duration": 6,
    "start_time": "2022-02-18T08:42:49.400Z"
   },
   {
    "duration": 6,
    "start_time": "2022-02-18T08:42:49.407Z"
   },
   {
    "duration": 32,
    "start_time": "2022-02-18T08:42:49.415Z"
   },
   {
    "duration": 4,
    "start_time": "2022-02-18T08:42:49.448Z"
   },
   {
    "duration": 12,
    "start_time": "2022-02-18T08:42:49.453Z"
   },
   {
    "duration": 6,
    "start_time": "2022-02-18T08:42:49.467Z"
   },
   {
    "duration": 14,
    "start_time": "2022-02-18T08:42:49.474Z"
   },
   {
    "duration": 10,
    "start_time": "2022-02-18T08:42:49.489Z"
   },
   {
    "duration": 16,
    "start_time": "2022-02-18T08:42:49.500Z"
   },
   {
    "duration": 13,
    "start_time": "2022-02-18T08:42:49.546Z"
   },
   {
    "duration": 6,
    "start_time": "2022-02-18T08:42:49.562Z"
   },
   {
    "duration": 17,
    "start_time": "2022-02-18T08:42:49.570Z"
   },
   {
    "duration": 4,
    "start_time": "2022-02-18T08:42:49.589Z"
   },
   {
    "duration": 602,
    "start_time": "2022-02-18T08:42:49.594Z"
   },
   {
    "duration": 11,
    "start_time": "2022-02-18T08:42:50.198Z"
   },
   {
    "duration": 875,
    "start_time": "2022-07-01T20:04:17.494Z"
   },
   {
    "duration": 107,
    "start_time": "2022-07-01T20:04:18.371Z"
   },
   {
    "duration": 17,
    "start_time": "2022-07-01T20:04:18.480Z"
   },
   {
    "duration": 16,
    "start_time": "2022-07-01T20:04:18.498Z"
   },
   {
    "duration": 10,
    "start_time": "2022-07-01T20:04:18.516Z"
   },
   {
    "duration": 164,
    "start_time": "2022-07-01T20:04:18.527Z"
   },
   {
    "duration": 148,
    "start_time": "2022-07-01T20:04:18.692Z"
   },
   {
    "duration": 7,
    "start_time": "2022-07-01T20:04:18.841Z"
   },
   {
    "duration": 11,
    "start_time": "2022-07-01T20:04:18.850Z"
   },
   {
    "duration": 21,
    "start_time": "2022-07-01T20:04:18.863Z"
   },
   {
    "duration": 7,
    "start_time": "2022-07-01T20:04:18.886Z"
   },
   {
    "duration": 32,
    "start_time": "2022-07-01T20:04:18.894Z"
   },
   {
    "duration": 5,
    "start_time": "2022-07-01T20:04:18.928Z"
   },
   {
    "duration": 19,
    "start_time": "2022-07-01T20:04:18.935Z"
   },
   {
    "duration": 11,
    "start_time": "2022-07-01T20:04:18.955Z"
   },
   {
    "duration": 8,
    "start_time": "2022-07-01T20:04:18.967Z"
   },
   {
    "duration": 17,
    "start_time": "2022-07-01T20:04:18.976Z"
   },
   {
    "duration": 7,
    "start_time": "2022-07-01T20:04:18.994Z"
   },
   {
    "duration": 27,
    "start_time": "2022-07-01T20:04:19.002Z"
   },
   {
    "duration": 8,
    "start_time": "2022-07-01T20:04:19.031Z"
   },
   {
    "duration": 23,
    "start_time": "2022-07-01T20:04:19.042Z"
   },
   {
    "duration": 20,
    "start_time": "2022-07-01T20:04:19.067Z"
   },
   {
    "duration": 6,
    "start_time": "2022-07-01T20:04:19.088Z"
   },
   {
    "duration": 30,
    "start_time": "2022-07-01T20:04:19.096Z"
   },
   {
    "duration": 684,
    "start_time": "2022-07-01T20:04:19.128Z"
   },
   {
    "duration": 4,
    "start_time": "2022-07-01T20:04:19.814Z"
   },
   {
    "duration": 2749,
    "start_time": "2022-07-01T20:04:19.826Z"
   },
   {
    "duration": 21,
    "start_time": "2022-07-01T20:04:22.577Z"
   },
   {
    "duration": 16,
    "start_time": "2022-07-01T20:04:22.600Z"
   },
   {
    "duration": 9,
    "start_time": "2022-07-01T20:04:22.626Z"
   },
   {
    "duration": 12,
    "start_time": "2022-07-01T20:04:22.636Z"
   },
   {
    "duration": 8,
    "start_time": "2022-07-01T20:04:22.650Z"
   },
   {
    "duration": 11,
    "start_time": "2022-07-01T20:04:22.659Z"
   },
   {
    "duration": 11,
    "start_time": "2022-07-01T20:04:22.671Z"
   },
   {
    "duration": 18,
    "start_time": "2022-07-01T20:04:22.684Z"
   },
   {
    "duration": 36,
    "start_time": "2022-07-01T20:04:22.703Z"
   },
   {
    "duration": 12,
    "start_time": "2022-07-01T20:04:22.741Z"
   },
   {
    "duration": 9,
    "start_time": "2022-07-01T20:04:22.755Z"
   }
  ],
  "kernelspec": {
   "display_name": "Python 3 (ipykernel)",
   "language": "python",
   "name": "python3"
  },
  "language_info": {
   "codemirror_mode": {
    "name": "ipython",
    "version": 3
   },
   "file_extension": ".py",
   "mimetype": "text/x-python",
   "name": "python",
   "nbconvert_exporter": "python",
   "pygments_lexer": "ipython3",
   "version": "3.9.5"
  },
  "toc": {
   "base_numbering": 1,
   "nav_menu": {},
   "number_sections": true,
   "sideBar": true,
   "skip_h1_title": true,
   "title_cell": "Содержание",
   "title_sidebar": "Contents",
   "toc_cell": true,
   "toc_position": {
    "height": "calc(100% - 180px)",
    "left": "10px",
    "top": "150px",
    "width": "261.67px"
   },
   "toc_section_display": true,
   "toc_window_display": true
  }
 },
 "nbformat": 4,
 "nbformat_minor": 2
}
